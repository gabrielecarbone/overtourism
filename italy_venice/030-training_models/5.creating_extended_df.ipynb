{
 "cells": [
  {
   "cell_type": "code",
   "execution_count": 53,
   "metadata": {
    "collapsed": true,
    "pycharm": {
     "name": "#%%\n"
    }
   },
   "outputs": [],
   "source": [
    "import pandas as pd\n",
    "import sklearn\n",
    "import matplotlib as plt\n",
    "from pycaret.regression import *"
   ]
  },
  {
   "cell_type": "code",
   "execution_count": 54,
   "outputs": [
    {
     "data": {
      "text/plain": "              row  column    lat_min    lat_max    lon_min    lon_max  nature  \\\nUnnamed: 0                                                                      \nR1C1          1.0     1.0  45.000004  45.005004  11.507500  11.500001     0.0   \nR1C2          1.0     2.0  45.000004  45.005004  11.500001  11.507500     0.0   \nR1C3          1.0     3.0  45.000004  45.005004  11.507500  11.515000     0.0   \nR1C4          1.0     4.0  45.000004  45.005004  11.515000  11.522500     0.0   \nR1C5          1.0     5.0  45.000004  45.005004  11.522500  11.530000     0.0   \n...           ...     ...        ...        ...        ...        ...     ...   \nR200C196    200.0   196.0  45.994998  45.999998  12.955000  12.962500     3.0   \nR200C197    200.0   197.0  45.994998  45.999998  12.962500  12.970000     4.0   \nR200C198    200.0   198.0  45.994998  45.999998  12.970000  12.977500     0.0   \nR200C199    200.0   199.0  45.994998  45.999998  12.977500  12.985000     0.0   \nR200C200    200.0   200.0  45.994998  45.999998  12.985000  12.992500     1.0   \n\n            entartainment  transports  art  sport  tourism  security  \\\nUnnamed: 0                                                             \nR1C1                  0.0         0.0  0.0    0.0      0.0       0.0   \nR1C2                  0.0         1.0  0.0    0.0      0.0       0.0   \nR1C3                  0.0         2.0  0.0    0.0      0.0       0.0   \nR1C4                  0.0         0.0  0.0    0.0      0.0       0.0   \nR1C5                  0.0         1.0  0.0    0.0      0.0       0.0   \n...                   ...         ...  ...    ...      ...       ...   \nR200C196              1.0         5.0  0.0    0.0      0.0       0.0   \nR200C197              0.0        11.0  1.0    3.0      0.0       0.0   \nR200C198              0.0         1.0  0.0    0.0      0.0       0.0   \nR200C199              0.0         1.0  0.0    0.0      0.0       0.0   \nR200C200              0.0         1.0  0.0    0.0      0.0       0.0   \n\n            accessibility  \nUnnamed: 0                 \nR1C1                  0.0  \nR1C2                  0.0  \nR1C3                  0.0  \nR1C4                  0.0  \nR1C5                  0.0  \n...                   ...  \nR200C196              1.0  \nR200C197              0.0  \nR200C198              0.0  \nR200C199              0.0  \nR200C200              0.0  \n\n[40000 rows x 14 columns]",
      "text/html": "<div>\n<style scoped>\n    .dataframe tbody tr th:only-of-type {\n        vertical-align: middle;\n    }\n\n    .dataframe tbody tr th {\n        vertical-align: top;\n    }\n\n    .dataframe thead th {\n        text-align: right;\n    }\n</style>\n<table border=\"1\" class=\"dataframe\">\n  <thead>\n    <tr style=\"text-align: right;\">\n      <th></th>\n      <th>row</th>\n      <th>column</th>\n      <th>lat_min</th>\n      <th>lat_max</th>\n      <th>lon_min</th>\n      <th>lon_max</th>\n      <th>nature</th>\n      <th>entartainment</th>\n      <th>transports</th>\n      <th>art</th>\n      <th>sport</th>\n      <th>tourism</th>\n      <th>security</th>\n      <th>accessibility</th>\n    </tr>\n    <tr>\n      <th>Unnamed: 0</th>\n      <th></th>\n      <th></th>\n      <th></th>\n      <th></th>\n      <th></th>\n      <th></th>\n      <th></th>\n      <th></th>\n      <th></th>\n      <th></th>\n      <th></th>\n      <th></th>\n      <th></th>\n      <th></th>\n    </tr>\n  </thead>\n  <tbody>\n    <tr>\n      <th>R1C1</th>\n      <td>1.0</td>\n      <td>1.0</td>\n      <td>45.000004</td>\n      <td>45.005004</td>\n      <td>11.507500</td>\n      <td>11.500001</td>\n      <td>0.0</td>\n      <td>0.0</td>\n      <td>0.0</td>\n      <td>0.0</td>\n      <td>0.0</td>\n      <td>0.0</td>\n      <td>0.0</td>\n      <td>0.0</td>\n    </tr>\n    <tr>\n      <th>R1C2</th>\n      <td>1.0</td>\n      <td>2.0</td>\n      <td>45.000004</td>\n      <td>45.005004</td>\n      <td>11.500001</td>\n      <td>11.507500</td>\n      <td>0.0</td>\n      <td>0.0</td>\n      <td>1.0</td>\n      <td>0.0</td>\n      <td>0.0</td>\n      <td>0.0</td>\n      <td>0.0</td>\n      <td>0.0</td>\n    </tr>\n    <tr>\n      <th>R1C3</th>\n      <td>1.0</td>\n      <td>3.0</td>\n      <td>45.000004</td>\n      <td>45.005004</td>\n      <td>11.507500</td>\n      <td>11.515000</td>\n      <td>0.0</td>\n      <td>0.0</td>\n      <td>2.0</td>\n      <td>0.0</td>\n      <td>0.0</td>\n      <td>0.0</td>\n      <td>0.0</td>\n      <td>0.0</td>\n    </tr>\n    <tr>\n      <th>R1C4</th>\n      <td>1.0</td>\n      <td>4.0</td>\n      <td>45.000004</td>\n      <td>45.005004</td>\n      <td>11.515000</td>\n      <td>11.522500</td>\n      <td>0.0</td>\n      <td>0.0</td>\n      <td>0.0</td>\n      <td>0.0</td>\n      <td>0.0</td>\n      <td>0.0</td>\n      <td>0.0</td>\n      <td>0.0</td>\n    </tr>\n    <tr>\n      <th>R1C5</th>\n      <td>1.0</td>\n      <td>5.0</td>\n      <td>45.000004</td>\n      <td>45.005004</td>\n      <td>11.522500</td>\n      <td>11.530000</td>\n      <td>0.0</td>\n      <td>0.0</td>\n      <td>1.0</td>\n      <td>0.0</td>\n      <td>0.0</td>\n      <td>0.0</td>\n      <td>0.0</td>\n      <td>0.0</td>\n    </tr>\n    <tr>\n      <th>...</th>\n      <td>...</td>\n      <td>...</td>\n      <td>...</td>\n      <td>...</td>\n      <td>...</td>\n      <td>...</td>\n      <td>...</td>\n      <td>...</td>\n      <td>...</td>\n      <td>...</td>\n      <td>...</td>\n      <td>...</td>\n      <td>...</td>\n      <td>...</td>\n    </tr>\n    <tr>\n      <th>R200C196</th>\n      <td>200.0</td>\n      <td>196.0</td>\n      <td>45.994998</td>\n      <td>45.999998</td>\n      <td>12.955000</td>\n      <td>12.962500</td>\n      <td>3.0</td>\n      <td>1.0</td>\n      <td>5.0</td>\n      <td>0.0</td>\n      <td>0.0</td>\n      <td>0.0</td>\n      <td>0.0</td>\n      <td>1.0</td>\n    </tr>\n    <tr>\n      <th>R200C197</th>\n      <td>200.0</td>\n      <td>197.0</td>\n      <td>45.994998</td>\n      <td>45.999998</td>\n      <td>12.962500</td>\n      <td>12.970000</td>\n      <td>4.0</td>\n      <td>0.0</td>\n      <td>11.0</td>\n      <td>1.0</td>\n      <td>3.0</td>\n      <td>0.0</td>\n      <td>0.0</td>\n      <td>0.0</td>\n    </tr>\n    <tr>\n      <th>R200C198</th>\n      <td>200.0</td>\n      <td>198.0</td>\n      <td>45.994998</td>\n      <td>45.999998</td>\n      <td>12.970000</td>\n      <td>12.977500</td>\n      <td>0.0</td>\n      <td>0.0</td>\n      <td>1.0</td>\n      <td>0.0</td>\n      <td>0.0</td>\n      <td>0.0</td>\n      <td>0.0</td>\n      <td>0.0</td>\n    </tr>\n    <tr>\n      <th>R200C199</th>\n      <td>200.0</td>\n      <td>199.0</td>\n      <td>45.994998</td>\n      <td>45.999998</td>\n      <td>12.977500</td>\n      <td>12.985000</td>\n      <td>0.0</td>\n      <td>0.0</td>\n      <td>1.0</td>\n      <td>0.0</td>\n      <td>0.0</td>\n      <td>0.0</td>\n      <td>0.0</td>\n      <td>0.0</td>\n    </tr>\n    <tr>\n      <th>R200C200</th>\n      <td>200.0</td>\n      <td>200.0</td>\n      <td>45.994998</td>\n      <td>45.999998</td>\n      <td>12.985000</td>\n      <td>12.992500</td>\n      <td>1.0</td>\n      <td>0.0</td>\n      <td>1.0</td>\n      <td>0.0</td>\n      <td>0.0</td>\n      <td>0.0</td>\n      <td>0.0</td>\n      <td>0.0</td>\n    </tr>\n  </tbody>\n</table>\n<p>40000 rows × 14 columns</p>\n</div>"
     },
     "execution_count": 54,
     "metadata": {},
     "output_type": "execute_result"
    }
   ],
   "source": [
    "df = pd.read_csv('1. complete_df.csv')\n",
    "df.set_index('Unnamed: 0', inplace = True)\n",
    "df"
   ],
   "metadata": {
    "collapsed": false,
    "pycharm": {
     "name": "#%%\n"
    }
   }
  },
  {
   "cell_type": "code",
   "execution_count": 55,
   "outputs": [],
   "source": [
    "cardinal_directions = [\"N\", \"S\", \"E\", \"W\"]\n",
    "diagonal_directions = [\"NW\", \"NE\", \"SW\", \"SE\"]"
   ],
   "metadata": {
    "collapsed": false,
    "pycharm": {
     "name": "#%%\n"
    }
   }
  },
  {
   "cell_type": "code",
   "execution_count": 56,
   "outputs": [],
   "source": [
    "categories = ['nature', 'entartainment', 'transports', 'art', 'sport', 'tourism', 'security', 'accessibility']"
   ],
   "metadata": {
    "collapsed": false,
    "pycharm": {
     "name": "#%%\n"
    }
   }
  },
  {
   "cell_type": "code",
   "execution_count": 57,
   "outputs": [],
   "source": [
    "def add_cardinal_features(source_df, categories_names, direction: str):\n",
    "\n",
    "    new_categories_names = []\n",
    "    df = source_df.copy()\n",
    "    df[['row', 'column']] = df[['row', 'column']].astype(int)\n",
    "\n",
    "    if direction == 'N':\n",
    "        for category_name in categories_names:\n",
    "            new_categories_names.append(category_name + '_north')\n",
    "\n",
    "        df = df.loc[df.row > 1, ['row', 'column'] + categories_names]\n",
    "        df['row'] = df['row'] - 1\n",
    "\n",
    "    if direction == 'S':\n",
    "        for category_name in categories_names:\n",
    "            new_categories_names.append(category_name + '_south')\n",
    "\n",
    "        df = df.loc[df.row < df.row.max(), ['row', 'column'] + categories_names]\n",
    "        df['row'] = df['row'] + 1\n",
    "\n",
    "    if direction == 'W':\n",
    "        for category_name in categories_names:\n",
    "           new_categories_names.append(category_name + '_west')\n",
    "\n",
    "        df = df.loc[df.column > 1, ['row', 'column'] + categories_names]\n",
    "        df['column'] = df['column'] - 1\n",
    "\n",
    "    if direction == 'E':\n",
    "        for category_name in categories_names:\n",
    "            new_categories_names.append(category_name + '_east')\n",
    "\n",
    "        df = df.loc[df.column < df.column.max(), ['row', 'column'] + categories]\n",
    "        df['column'] = df['column'] + 1\n",
    "\n",
    "    df[['row', 'column']] = df[['row', 'column']].astype(str)\n",
    "    df.columns = ['row', 'column'] + new_categories_names\n",
    "    df.index = 'R' + df.row + 'C' + df.column\n",
    "\n",
    "    df = df[new_categories_names]\n",
    "\n",
    "    return df"
   ],
   "metadata": {
    "collapsed": false,
    "pycharm": {
     "name": "#%%\n"
    }
   }
  },
  {
   "cell_type": "code",
   "execution_count": 58,
   "outputs": [],
   "source": [
    "def add_diagonal_features(source_df, categories_names, direction: str):\n",
    "\n",
    "    new_categories_names = []\n",
    "    df = source_df.copy()\n",
    "    df[['row', 'column']] = df[['row', 'column']].astype(int)\n",
    "\n",
    "    if direction == 'NW':\n",
    "        for category_name in categories_names:\n",
    "            new_categories_names.append(category_name + '_north_west')\n",
    "\n",
    "        df = df.loc[(df.row > 1) & (df.column > 1), ['row', 'column'] + categories_names]\n",
    "        df['row'] = df['row'] - 1\n",
    "        df['column'] = df['column'] - 1\n",
    "\n",
    "    if direction == 'SW':\n",
    "        for category_name in categories_names:\n",
    "            new_categories_names.append(category_name + '_south_west')\n",
    "\n",
    "        df = df.loc[(df.row < df.row.max()) & (df.column > 1), ['row', 'column'] + categories_names]\n",
    "        df['row'] = df['row'] + 1\n",
    "        df['column'] = df['column'] - 1\n",
    "\n",
    "    if direction == 'NE':\n",
    "        for category_name in categories_names:\n",
    "            new_categories_names.append(category_name + '_north_east')\n",
    "\n",
    "        df = df.loc[(df.row > 1) & (df.column < df.column.max()), ['row', 'column'] + categories_names]\n",
    "        df['row'] = df['row'] - 1\n",
    "        df['column'] = df['column'] + 1\n",
    "\n",
    "    if direction == 'SE':\n",
    "        for category_name in categories_names:\n",
    "            new_categories_names.append(category_name + '_south_east')\n",
    "\n",
    "        df = df.loc[(df.row < df.row.max()) & (df.column < df.column.max()), ['row', 'column'] + categories]\n",
    "        df['row'] = df['row'] + 1\n",
    "        df['column'] = df['column'] + 1\n",
    "\n",
    "    df[['row', 'column']] = df[['row', 'column']].astype(str)\n",
    "    df.columns = ['row', 'column'] + new_categories_names\n",
    "    df.index = 'R' + df.row + 'C' + df.column\n",
    "\n",
    "    df = df[new_categories_names]\n",
    "\n",
    "    return df"
   ],
   "metadata": {
    "collapsed": false,
    "pycharm": {
     "name": "#%%\n"
    }
   }
  },
  {
   "cell_type": "code",
   "execution_count": 59,
   "outputs": [
    {
     "data": {
      "text/plain": "            row  column    lat_min    lat_max    lon_min    lon_max  nature  \\\nR1C1        1.0     1.0  45.000004  45.005004  11.507500  11.500001     0.0   \nR1C2        1.0     2.0  45.000004  45.005004  11.500001  11.507500     0.0   \nR1C3        1.0     3.0  45.000004  45.005004  11.507500  11.515000     0.0   \nR1C4        1.0     4.0  45.000004  45.005004  11.515000  11.522500     0.0   \nR1C5        1.0     5.0  45.000004  45.005004  11.522500  11.530000     0.0   \n...         ...     ...        ...        ...        ...        ...     ...   \nR200C196  200.0   196.0  45.994998  45.999998  12.955000  12.962500     3.0   \nR200C197  200.0   197.0  45.994998  45.999998  12.962500  12.970000     4.0   \nR200C198  200.0   198.0  45.994998  45.999998  12.970000  12.977500     0.0   \nR200C199  200.0   199.0  45.994998  45.999998  12.977500  12.985000     0.0   \nR200C200  200.0   200.0  45.994998  45.999998  12.985000  12.992500     1.0   \n\n          entartainment  transports  art  ...  security_south  \\\nR1C1                0.0         0.0  0.0  ...             NaN   \nR1C2                0.0         1.0  0.0  ...             NaN   \nR1C3                0.0         2.0  0.0  ...             NaN   \nR1C4                0.0         0.0  0.0  ...             NaN   \nR1C5                0.0         1.0  0.0  ...             NaN   \n...                 ...         ...  ...  ...             ...   \nR200C196            1.0         5.0  0.0  ...             0.0   \nR200C197            0.0        11.0  1.0  ...             0.0   \nR200C198            0.0         1.0  0.0  ...             0.0   \nR200C199            0.0         1.0  0.0  ...             0.0   \nR200C200            0.0         1.0  0.0  ...             0.0   \n\n          accessibility_south  nature_west  entartainment_west  \\\nR1C1                      NaN          0.0                 0.0   \nR1C2                      NaN          0.0                 0.0   \nR1C3                      NaN          0.0                 0.0   \nR1C4                      NaN          0.0                 0.0   \nR1C5                      NaN          0.0                 0.0   \n...                       ...          ...                 ...   \nR200C196                  0.0          4.0                 0.0   \nR200C197                  0.0          0.0                 0.0   \nR200C198                  0.0          0.0                 0.0   \nR200C199                  0.0          1.0                 0.0   \nR200C200                  0.0          NaN                 NaN   \n\n          transports_west  art_west  sport_west  tourism_west  security_west  \\\nR1C1                  1.0       0.0         0.0           0.0            0.0   \nR1C2                  2.0       0.0         0.0           0.0            0.0   \nR1C3                  0.0       0.0         0.0           0.0            0.0   \nR1C4                  1.0       0.0         0.0           0.0            0.0   \nR1C5                  1.0       0.0         0.0           0.0            0.0   \n...                   ...       ...         ...           ...            ...   \nR200C196             11.0       1.0         3.0           0.0            0.0   \nR200C197              1.0       0.0         0.0           0.0            0.0   \nR200C198              1.0       0.0         0.0           0.0            0.0   \nR200C199              1.0       0.0         0.0           0.0            0.0   \nR200C200              NaN       NaN         NaN           NaN            NaN   \n\n          accessibility_west  \nR1C1                     0.0  \nR1C2                     0.0  \nR1C3                     0.0  \nR1C4                     0.0  \nR1C5                     0.0  \n...                      ...  \nR200C196                 0.0  \nR200C197                 0.0  \nR200C198                 0.0  \nR200C199                 0.0  \nR200C200                 NaN  \n\n[40000 rows x 46 columns]",
      "text/html": "<div>\n<style scoped>\n    .dataframe tbody tr th:only-of-type {\n        vertical-align: middle;\n    }\n\n    .dataframe tbody tr th {\n        vertical-align: top;\n    }\n\n    .dataframe thead th {\n        text-align: right;\n    }\n</style>\n<table border=\"1\" class=\"dataframe\">\n  <thead>\n    <tr style=\"text-align: right;\">\n      <th></th>\n      <th>row</th>\n      <th>column</th>\n      <th>lat_min</th>\n      <th>lat_max</th>\n      <th>lon_min</th>\n      <th>lon_max</th>\n      <th>nature</th>\n      <th>entartainment</th>\n      <th>transports</th>\n      <th>art</th>\n      <th>...</th>\n      <th>security_south</th>\n      <th>accessibility_south</th>\n      <th>nature_west</th>\n      <th>entartainment_west</th>\n      <th>transports_west</th>\n      <th>art_west</th>\n      <th>sport_west</th>\n      <th>tourism_west</th>\n      <th>security_west</th>\n      <th>accessibility_west</th>\n    </tr>\n  </thead>\n  <tbody>\n    <tr>\n      <th>R1C1</th>\n      <td>1.0</td>\n      <td>1.0</td>\n      <td>45.000004</td>\n      <td>45.005004</td>\n      <td>11.507500</td>\n      <td>11.500001</td>\n      <td>0.0</td>\n      <td>0.0</td>\n      <td>0.0</td>\n      <td>0.0</td>\n      <td>...</td>\n      <td>NaN</td>\n      <td>NaN</td>\n      <td>0.0</td>\n      <td>0.0</td>\n      <td>1.0</td>\n      <td>0.0</td>\n      <td>0.0</td>\n      <td>0.0</td>\n      <td>0.0</td>\n      <td>0.0</td>\n    </tr>\n    <tr>\n      <th>R1C2</th>\n      <td>1.0</td>\n      <td>2.0</td>\n      <td>45.000004</td>\n      <td>45.005004</td>\n      <td>11.500001</td>\n      <td>11.507500</td>\n      <td>0.0</td>\n      <td>0.0</td>\n      <td>1.0</td>\n      <td>0.0</td>\n      <td>...</td>\n      <td>NaN</td>\n      <td>NaN</td>\n      <td>0.0</td>\n      <td>0.0</td>\n      <td>2.0</td>\n      <td>0.0</td>\n      <td>0.0</td>\n      <td>0.0</td>\n      <td>0.0</td>\n      <td>0.0</td>\n    </tr>\n    <tr>\n      <th>R1C3</th>\n      <td>1.0</td>\n      <td>3.0</td>\n      <td>45.000004</td>\n      <td>45.005004</td>\n      <td>11.507500</td>\n      <td>11.515000</td>\n      <td>0.0</td>\n      <td>0.0</td>\n      <td>2.0</td>\n      <td>0.0</td>\n      <td>...</td>\n      <td>NaN</td>\n      <td>NaN</td>\n      <td>0.0</td>\n      <td>0.0</td>\n      <td>0.0</td>\n      <td>0.0</td>\n      <td>0.0</td>\n      <td>0.0</td>\n      <td>0.0</td>\n      <td>0.0</td>\n    </tr>\n    <tr>\n      <th>R1C4</th>\n      <td>1.0</td>\n      <td>4.0</td>\n      <td>45.000004</td>\n      <td>45.005004</td>\n      <td>11.515000</td>\n      <td>11.522500</td>\n      <td>0.0</td>\n      <td>0.0</td>\n      <td>0.0</td>\n      <td>0.0</td>\n      <td>...</td>\n      <td>NaN</td>\n      <td>NaN</td>\n      <td>0.0</td>\n      <td>0.0</td>\n      <td>1.0</td>\n      <td>0.0</td>\n      <td>0.0</td>\n      <td>0.0</td>\n      <td>0.0</td>\n      <td>0.0</td>\n    </tr>\n    <tr>\n      <th>R1C5</th>\n      <td>1.0</td>\n      <td>5.0</td>\n      <td>45.000004</td>\n      <td>45.005004</td>\n      <td>11.522500</td>\n      <td>11.530000</td>\n      <td>0.0</td>\n      <td>0.0</td>\n      <td>1.0</td>\n      <td>0.0</td>\n      <td>...</td>\n      <td>NaN</td>\n      <td>NaN</td>\n      <td>0.0</td>\n      <td>0.0</td>\n      <td>1.0</td>\n      <td>0.0</td>\n      <td>0.0</td>\n      <td>0.0</td>\n      <td>0.0</td>\n      <td>0.0</td>\n    </tr>\n    <tr>\n      <th>...</th>\n      <td>...</td>\n      <td>...</td>\n      <td>...</td>\n      <td>...</td>\n      <td>...</td>\n      <td>...</td>\n      <td>...</td>\n      <td>...</td>\n      <td>...</td>\n      <td>...</td>\n      <td>...</td>\n      <td>...</td>\n      <td>...</td>\n      <td>...</td>\n      <td>...</td>\n      <td>...</td>\n      <td>...</td>\n      <td>...</td>\n      <td>...</td>\n      <td>...</td>\n      <td>...</td>\n    </tr>\n    <tr>\n      <th>R200C196</th>\n      <td>200.0</td>\n      <td>196.0</td>\n      <td>45.994998</td>\n      <td>45.999998</td>\n      <td>12.955000</td>\n      <td>12.962500</td>\n      <td>3.0</td>\n      <td>1.0</td>\n      <td>5.0</td>\n      <td>0.0</td>\n      <td>...</td>\n      <td>0.0</td>\n      <td>0.0</td>\n      <td>4.0</td>\n      <td>0.0</td>\n      <td>11.0</td>\n      <td>1.0</td>\n      <td>3.0</td>\n      <td>0.0</td>\n      <td>0.0</td>\n      <td>0.0</td>\n    </tr>\n    <tr>\n      <th>R200C197</th>\n      <td>200.0</td>\n      <td>197.0</td>\n      <td>45.994998</td>\n      <td>45.999998</td>\n      <td>12.962500</td>\n      <td>12.970000</td>\n      <td>4.0</td>\n      <td>0.0</td>\n      <td>11.0</td>\n      <td>1.0</td>\n      <td>...</td>\n      <td>0.0</td>\n      <td>0.0</td>\n      <td>0.0</td>\n      <td>0.0</td>\n      <td>1.0</td>\n      <td>0.0</td>\n      <td>0.0</td>\n      <td>0.0</td>\n      <td>0.0</td>\n      <td>0.0</td>\n    </tr>\n    <tr>\n      <th>R200C198</th>\n      <td>200.0</td>\n      <td>198.0</td>\n      <td>45.994998</td>\n      <td>45.999998</td>\n      <td>12.970000</td>\n      <td>12.977500</td>\n      <td>0.0</td>\n      <td>0.0</td>\n      <td>1.0</td>\n      <td>0.0</td>\n      <td>...</td>\n      <td>0.0</td>\n      <td>0.0</td>\n      <td>0.0</td>\n      <td>0.0</td>\n      <td>1.0</td>\n      <td>0.0</td>\n      <td>0.0</td>\n      <td>0.0</td>\n      <td>0.0</td>\n      <td>0.0</td>\n    </tr>\n    <tr>\n      <th>R200C199</th>\n      <td>200.0</td>\n      <td>199.0</td>\n      <td>45.994998</td>\n      <td>45.999998</td>\n      <td>12.977500</td>\n      <td>12.985000</td>\n      <td>0.0</td>\n      <td>0.0</td>\n      <td>1.0</td>\n      <td>0.0</td>\n      <td>...</td>\n      <td>0.0</td>\n      <td>0.0</td>\n      <td>1.0</td>\n      <td>0.0</td>\n      <td>1.0</td>\n      <td>0.0</td>\n      <td>0.0</td>\n      <td>0.0</td>\n      <td>0.0</td>\n      <td>0.0</td>\n    </tr>\n    <tr>\n      <th>R200C200</th>\n      <td>200.0</td>\n      <td>200.0</td>\n      <td>45.994998</td>\n      <td>45.999998</td>\n      <td>12.985000</td>\n      <td>12.992500</td>\n      <td>1.0</td>\n      <td>0.0</td>\n      <td>1.0</td>\n      <td>0.0</td>\n      <td>...</td>\n      <td>0.0</td>\n      <td>0.0</td>\n      <td>NaN</td>\n      <td>NaN</td>\n      <td>NaN</td>\n      <td>NaN</td>\n      <td>NaN</td>\n      <td>NaN</td>\n      <td>NaN</td>\n      <td>NaN</td>\n    </tr>\n  </tbody>\n</table>\n<p>40000 rows × 46 columns</p>\n</div>"
     },
     "execution_count": 59,
     "metadata": {},
     "output_type": "execute_result"
    }
   ],
   "source": [
    "extended_df = df.copy()\n",
    "\n",
    "new_df = add_cardinal_features(df, categories, direction = 'W')\n",
    "extended_df = pd.concat([extended_df, new_df], axis = 1)\n",
    "\n",
    "new_df = add_cardinal_features(df, categories, direction = 'E')\n",
    "extended_df = pd.concat([extended_df, new_df], axis = 1)\n",
    "\n",
    "new_df = add_cardinal_features(df, categories, direction = 'S')\n",
    "extended_df = pd.concat([extended_df, new_df], axis = 1)\n",
    "\n",
    "new_df = add_cardinal_features(df, categories, direction = 'W')\n",
    "extended_df = pd.concat([extended_df, new_df], axis = 1)\n",
    "\n",
    "extended_df"
   ],
   "metadata": {
    "collapsed": false,
    "pycharm": {
     "name": "#%%\n"
    }
   }
  },
  {
   "cell_type": "code",
   "execution_count": 61,
   "outputs": [
    {
     "data": {
      "text/plain": "            row  column    lat_min    lat_max    lon_min    lon_max  nature  \\\nR1C1        1.0     1.0  45.000004  45.005004  11.507500  11.500001     0.0   \nR1C2        1.0     2.0  45.000004  45.005004  11.500001  11.507500     0.0   \nR1C3        1.0     3.0  45.000004  45.005004  11.507500  11.515000     0.0   \nR1C4        1.0     4.0  45.000004  45.005004  11.515000  11.522500     0.0   \nR1C5        1.0     5.0  45.000004  45.005004  11.522500  11.530000     0.0   \n...         ...     ...        ...        ...        ...        ...     ...   \nR200C196  200.0   196.0  45.994998  45.999998  12.955000  12.962500     3.0   \nR200C197  200.0   197.0  45.994998  45.999998  12.962500  12.970000     4.0   \nR200C198  200.0   198.0  45.994998  45.999998  12.970000  12.977500     0.0   \nR200C199  200.0   199.0  45.994998  45.999998  12.977500  12.985000     0.0   \nR200C200  200.0   200.0  45.994998  45.999998  12.985000  12.992500     1.0   \n\n          entartainment  transports  art  ...  security_south_west  \\\nR1C1                0.0         0.0  0.0  ...                  NaN   \nR1C2                0.0         1.0  0.0  ...                  NaN   \nR1C3                0.0         2.0  0.0  ...                  NaN   \nR1C4                0.0         0.0  0.0  ...                  NaN   \nR1C5                0.0         1.0  0.0  ...                  NaN   \n...                 ...         ...  ...  ...                  ...   \nR200C196            1.0         5.0  0.0  ...                  0.0   \nR200C197            0.0        11.0  1.0  ...                  0.0   \nR200C198            0.0         1.0  0.0  ...                  0.0   \nR200C199            0.0         1.0  0.0  ...                  0.0   \nR200C200            0.0         1.0  0.0  ...                  NaN   \n\n          accessibility_south_west  nature_north_west  \\\nR1C1                           NaN                1.0   \nR1C2                           NaN                0.0   \nR1C3                           NaN                0.0   \nR1C4                           NaN                0.0   \nR1C5                           NaN                0.0   \n...                            ...                ...   \nR200C196                       0.0                NaN   \nR200C197                       0.0                NaN   \nR200C198                       0.0                NaN   \nR200C199                       0.0                NaN   \nR200C200                       NaN                NaN   \n\n          entartainment_north_west  transports_north_west  art_north_west  \\\nR1C1                           0.0                    0.0             0.0   \nR1C2                           0.0                   10.0             0.0   \nR1C3                           0.0                    2.0             0.0   \nR1C4                           0.0                    0.0             0.0   \nR1C5                           0.0                    0.0             0.0   \n...                            ...                    ...             ...   \nR200C196                       NaN                    NaN             NaN   \nR200C197                       NaN                    NaN             NaN   \nR200C198                       NaN                    NaN             NaN   \nR200C199                       NaN                    NaN             NaN   \nR200C200                       NaN                    NaN             NaN   \n\n          sport_north_west  tourism_north_west  security_north_west  \\\nR1C1                   0.0                 0.0                  0.0   \nR1C2                   0.0                 0.0                  0.0   \nR1C3                   0.0                 0.0                  0.0   \nR1C4                   0.0                 0.0                  0.0   \nR1C5                   0.0                 0.0                  0.0   \n...                    ...                 ...                  ...   \nR200C196               NaN                 NaN                  NaN   \nR200C197               NaN                 NaN                  NaN   \nR200C198               NaN                 NaN                  NaN   \nR200C199               NaN                 NaN                  NaN   \nR200C200               NaN                 NaN                  NaN   \n\n          accessibility_north_west  \nR1C1                           0.0  \nR1C2                           0.0  \nR1C3                           0.0  \nR1C4                           0.0  \nR1C5                           0.0  \n...                            ...  \nR200C196                       NaN  \nR200C197                       NaN  \nR200C198                       NaN  \nR200C199                       NaN  \nR200C200                       NaN  \n\n[40000 rows x 78 columns]",
      "text/html": "<div>\n<style scoped>\n    .dataframe tbody tr th:only-of-type {\n        vertical-align: middle;\n    }\n\n    .dataframe tbody tr th {\n        vertical-align: top;\n    }\n\n    .dataframe thead th {\n        text-align: right;\n    }\n</style>\n<table border=\"1\" class=\"dataframe\">\n  <thead>\n    <tr style=\"text-align: right;\">\n      <th></th>\n      <th>row</th>\n      <th>column</th>\n      <th>lat_min</th>\n      <th>lat_max</th>\n      <th>lon_min</th>\n      <th>lon_max</th>\n      <th>nature</th>\n      <th>entartainment</th>\n      <th>transports</th>\n      <th>art</th>\n      <th>...</th>\n      <th>security_south_west</th>\n      <th>accessibility_south_west</th>\n      <th>nature_north_west</th>\n      <th>entartainment_north_west</th>\n      <th>transports_north_west</th>\n      <th>art_north_west</th>\n      <th>sport_north_west</th>\n      <th>tourism_north_west</th>\n      <th>security_north_west</th>\n      <th>accessibility_north_west</th>\n    </tr>\n  </thead>\n  <tbody>\n    <tr>\n      <th>R1C1</th>\n      <td>1.0</td>\n      <td>1.0</td>\n      <td>45.000004</td>\n      <td>45.005004</td>\n      <td>11.507500</td>\n      <td>11.500001</td>\n      <td>0.0</td>\n      <td>0.0</td>\n      <td>0.0</td>\n      <td>0.0</td>\n      <td>...</td>\n      <td>NaN</td>\n      <td>NaN</td>\n      <td>1.0</td>\n      <td>0.0</td>\n      <td>0.0</td>\n      <td>0.0</td>\n      <td>0.0</td>\n      <td>0.0</td>\n      <td>0.0</td>\n      <td>0.0</td>\n    </tr>\n    <tr>\n      <th>R1C2</th>\n      <td>1.0</td>\n      <td>2.0</td>\n      <td>45.000004</td>\n      <td>45.005004</td>\n      <td>11.500001</td>\n      <td>11.507500</td>\n      <td>0.0</td>\n      <td>0.0</td>\n      <td>1.0</td>\n      <td>0.0</td>\n      <td>...</td>\n      <td>NaN</td>\n      <td>NaN</td>\n      <td>0.0</td>\n      <td>0.0</td>\n      <td>10.0</td>\n      <td>0.0</td>\n      <td>0.0</td>\n      <td>0.0</td>\n      <td>0.0</td>\n      <td>0.0</td>\n    </tr>\n    <tr>\n      <th>R1C3</th>\n      <td>1.0</td>\n      <td>3.0</td>\n      <td>45.000004</td>\n      <td>45.005004</td>\n      <td>11.507500</td>\n      <td>11.515000</td>\n      <td>0.0</td>\n      <td>0.0</td>\n      <td>2.0</td>\n      <td>0.0</td>\n      <td>...</td>\n      <td>NaN</td>\n      <td>NaN</td>\n      <td>0.0</td>\n      <td>0.0</td>\n      <td>2.0</td>\n      <td>0.0</td>\n      <td>0.0</td>\n      <td>0.0</td>\n      <td>0.0</td>\n      <td>0.0</td>\n    </tr>\n    <tr>\n      <th>R1C4</th>\n      <td>1.0</td>\n      <td>4.0</td>\n      <td>45.000004</td>\n      <td>45.005004</td>\n      <td>11.515000</td>\n      <td>11.522500</td>\n      <td>0.0</td>\n      <td>0.0</td>\n      <td>0.0</td>\n      <td>0.0</td>\n      <td>...</td>\n      <td>NaN</td>\n      <td>NaN</td>\n      <td>0.0</td>\n      <td>0.0</td>\n      <td>0.0</td>\n      <td>0.0</td>\n      <td>0.0</td>\n      <td>0.0</td>\n      <td>0.0</td>\n      <td>0.0</td>\n    </tr>\n    <tr>\n      <th>R1C5</th>\n      <td>1.0</td>\n      <td>5.0</td>\n      <td>45.000004</td>\n      <td>45.005004</td>\n      <td>11.522500</td>\n      <td>11.530000</td>\n      <td>0.0</td>\n      <td>0.0</td>\n      <td>1.0</td>\n      <td>0.0</td>\n      <td>...</td>\n      <td>NaN</td>\n      <td>NaN</td>\n      <td>0.0</td>\n      <td>0.0</td>\n      <td>0.0</td>\n      <td>0.0</td>\n      <td>0.0</td>\n      <td>0.0</td>\n      <td>0.0</td>\n      <td>0.0</td>\n    </tr>\n    <tr>\n      <th>...</th>\n      <td>...</td>\n      <td>...</td>\n      <td>...</td>\n      <td>...</td>\n      <td>...</td>\n      <td>...</td>\n      <td>...</td>\n      <td>...</td>\n      <td>...</td>\n      <td>...</td>\n      <td>...</td>\n      <td>...</td>\n      <td>...</td>\n      <td>...</td>\n      <td>...</td>\n      <td>...</td>\n      <td>...</td>\n      <td>...</td>\n      <td>...</td>\n      <td>...</td>\n      <td>...</td>\n    </tr>\n    <tr>\n      <th>R200C196</th>\n      <td>200.0</td>\n      <td>196.0</td>\n      <td>45.994998</td>\n      <td>45.999998</td>\n      <td>12.955000</td>\n      <td>12.962500</td>\n      <td>3.0</td>\n      <td>1.0</td>\n      <td>5.0</td>\n      <td>0.0</td>\n      <td>...</td>\n      <td>0.0</td>\n      <td>0.0</td>\n      <td>NaN</td>\n      <td>NaN</td>\n      <td>NaN</td>\n      <td>NaN</td>\n      <td>NaN</td>\n      <td>NaN</td>\n      <td>NaN</td>\n      <td>NaN</td>\n    </tr>\n    <tr>\n      <th>R200C197</th>\n      <td>200.0</td>\n      <td>197.0</td>\n      <td>45.994998</td>\n      <td>45.999998</td>\n      <td>12.962500</td>\n      <td>12.970000</td>\n      <td>4.0</td>\n      <td>0.0</td>\n      <td>11.0</td>\n      <td>1.0</td>\n      <td>...</td>\n      <td>0.0</td>\n      <td>0.0</td>\n      <td>NaN</td>\n      <td>NaN</td>\n      <td>NaN</td>\n      <td>NaN</td>\n      <td>NaN</td>\n      <td>NaN</td>\n      <td>NaN</td>\n      <td>NaN</td>\n    </tr>\n    <tr>\n      <th>R200C198</th>\n      <td>200.0</td>\n      <td>198.0</td>\n      <td>45.994998</td>\n      <td>45.999998</td>\n      <td>12.970000</td>\n      <td>12.977500</td>\n      <td>0.0</td>\n      <td>0.0</td>\n      <td>1.0</td>\n      <td>0.0</td>\n      <td>...</td>\n      <td>0.0</td>\n      <td>0.0</td>\n      <td>NaN</td>\n      <td>NaN</td>\n      <td>NaN</td>\n      <td>NaN</td>\n      <td>NaN</td>\n      <td>NaN</td>\n      <td>NaN</td>\n      <td>NaN</td>\n    </tr>\n    <tr>\n      <th>R200C199</th>\n      <td>200.0</td>\n      <td>199.0</td>\n      <td>45.994998</td>\n      <td>45.999998</td>\n      <td>12.977500</td>\n      <td>12.985000</td>\n      <td>0.0</td>\n      <td>0.0</td>\n      <td>1.0</td>\n      <td>0.0</td>\n      <td>...</td>\n      <td>0.0</td>\n      <td>0.0</td>\n      <td>NaN</td>\n      <td>NaN</td>\n      <td>NaN</td>\n      <td>NaN</td>\n      <td>NaN</td>\n      <td>NaN</td>\n      <td>NaN</td>\n      <td>NaN</td>\n    </tr>\n    <tr>\n      <th>R200C200</th>\n      <td>200.0</td>\n      <td>200.0</td>\n      <td>45.994998</td>\n      <td>45.999998</td>\n      <td>12.985000</td>\n      <td>12.992500</td>\n      <td>1.0</td>\n      <td>0.0</td>\n      <td>1.0</td>\n      <td>0.0</td>\n      <td>...</td>\n      <td>NaN</td>\n      <td>NaN</td>\n      <td>NaN</td>\n      <td>NaN</td>\n      <td>NaN</td>\n      <td>NaN</td>\n      <td>NaN</td>\n      <td>NaN</td>\n      <td>NaN</td>\n      <td>NaN</td>\n    </tr>\n  </tbody>\n</table>\n<p>40000 rows × 78 columns</p>\n</div>"
     },
     "execution_count": 61,
     "metadata": {},
     "output_type": "execute_result"
    }
   ],
   "source": [
    "new_df = add_diagonal_features(df, categories, direction = 'NE')\n",
    "extended_df = pd.concat([extended_df, new_df], axis = 1)\n",
    "\n",
    "new_df = add_diagonal_features(df, categories, direction = 'SE')\n",
    "extended_df = pd.concat([extended_df, new_df], axis = 1)\n",
    "\n",
    "new_df = add_diagonal_features(df, categories, direction = 'SW')\n",
    "extended_df = pd.concat([extended_df, new_df], axis = 1)\n",
    "\n",
    "new_df = add_diagonal_features(df, categories, direction = 'NW')\n",
    "extended_df = pd.concat([extended_df, new_df], axis = 1)\n",
    "\n",
    "extended_df"
   ],
   "metadata": {
    "collapsed": false,
    "pycharm": {
     "name": "#%%\n"
    }
   }
  },
  {
   "cell_type": "code",
   "execution_count": 62,
   "outputs": [
    {
     "data": {
      "text/plain": "            row  column    lat_min    lat_max    lon_min    lon_max  nature  \\\nR1C1        1.0     1.0  45.000004  45.005004  11.507500  11.500001     0.0   \nR1C2        1.0     2.0  45.000004  45.005004  11.500001  11.507500     0.0   \nR1C3        1.0     3.0  45.000004  45.005004  11.507500  11.515000     0.0   \nR1C4        1.0     4.0  45.000004  45.005004  11.515000  11.522500     0.0   \nR1C5        1.0     5.0  45.000004  45.005004  11.522500  11.530000     0.0   \n...         ...     ...        ...        ...        ...        ...     ...   \nR200C196  200.0   196.0  45.994998  45.999998  12.955000  12.962500     3.0   \nR200C197  200.0   197.0  45.994998  45.999998  12.962500  12.970000     4.0   \nR200C198  200.0   198.0  45.994998  45.999998  12.970000  12.977500     0.0   \nR200C199  200.0   199.0  45.994998  45.999998  12.977500  12.985000     0.0   \nR200C200  200.0   200.0  45.994998  45.999998  12.985000  12.992500     1.0   \n\n          entartainment  transports  art  ...  security_south_west  \\\nR1C1                0.0         0.0  0.0  ...                  0.0   \nR1C2                0.0         1.0  0.0  ...                  0.0   \nR1C3                0.0         2.0  0.0  ...                  0.0   \nR1C4                0.0         0.0  0.0  ...                  0.0   \nR1C5                0.0         1.0  0.0  ...                  0.0   \n...                 ...         ...  ...  ...                  ...   \nR200C196            1.0         5.0  0.0  ...                  0.0   \nR200C197            0.0        11.0  1.0  ...                  0.0   \nR200C198            0.0         1.0  0.0  ...                  0.0   \nR200C199            0.0         1.0  0.0  ...                  0.0   \nR200C200            0.0         1.0  0.0  ...                  0.0   \n\n          accessibility_south_west  nature_north_west  \\\nR1C1                           0.0                1.0   \nR1C2                           0.0                0.0   \nR1C3                           0.0                0.0   \nR1C4                           0.0                0.0   \nR1C5                           0.0                0.0   \n...                            ...                ...   \nR200C196                       0.0                0.0   \nR200C197                       0.0                0.0   \nR200C198                       0.0                0.0   \nR200C199                       0.0                0.0   \nR200C200                       0.0                0.0   \n\n          entartainment_north_west  transports_north_west  art_north_west  \\\nR1C1                           0.0                    0.0             0.0   \nR1C2                           0.0                   10.0             0.0   \nR1C3                           0.0                    2.0             0.0   \nR1C4                           0.0                    0.0             0.0   \nR1C5                           0.0                    0.0             0.0   \n...                            ...                    ...             ...   \nR200C196                       0.0                    0.0             0.0   \nR200C197                       0.0                    0.0             0.0   \nR200C198                       0.0                    0.0             0.0   \nR200C199                       0.0                    0.0             0.0   \nR200C200                       0.0                    0.0             0.0   \n\n          sport_north_west  tourism_north_west  security_north_west  \\\nR1C1                   0.0                 0.0                  0.0   \nR1C2                   0.0                 0.0                  0.0   \nR1C3                   0.0                 0.0                  0.0   \nR1C4                   0.0                 0.0                  0.0   \nR1C5                   0.0                 0.0                  0.0   \n...                    ...                 ...                  ...   \nR200C196               0.0                 0.0                  0.0   \nR200C197               0.0                 0.0                  0.0   \nR200C198               0.0                 0.0                  0.0   \nR200C199               0.0                 0.0                  0.0   \nR200C200               0.0                 0.0                  0.0   \n\n          accessibility_north_west  \nR1C1                           0.0  \nR1C2                           0.0  \nR1C3                           0.0  \nR1C4                           0.0  \nR1C5                           0.0  \n...                            ...  \nR200C196                       0.0  \nR200C197                       0.0  \nR200C198                       0.0  \nR200C199                       0.0  \nR200C200                       0.0  \n\n[40000 rows x 78 columns]",
      "text/html": "<div>\n<style scoped>\n    .dataframe tbody tr th:only-of-type {\n        vertical-align: middle;\n    }\n\n    .dataframe tbody tr th {\n        vertical-align: top;\n    }\n\n    .dataframe thead th {\n        text-align: right;\n    }\n</style>\n<table border=\"1\" class=\"dataframe\">\n  <thead>\n    <tr style=\"text-align: right;\">\n      <th></th>\n      <th>row</th>\n      <th>column</th>\n      <th>lat_min</th>\n      <th>lat_max</th>\n      <th>lon_min</th>\n      <th>lon_max</th>\n      <th>nature</th>\n      <th>entartainment</th>\n      <th>transports</th>\n      <th>art</th>\n      <th>...</th>\n      <th>security_south_west</th>\n      <th>accessibility_south_west</th>\n      <th>nature_north_west</th>\n      <th>entartainment_north_west</th>\n      <th>transports_north_west</th>\n      <th>art_north_west</th>\n      <th>sport_north_west</th>\n      <th>tourism_north_west</th>\n      <th>security_north_west</th>\n      <th>accessibility_north_west</th>\n    </tr>\n  </thead>\n  <tbody>\n    <tr>\n      <th>R1C1</th>\n      <td>1.0</td>\n      <td>1.0</td>\n      <td>45.000004</td>\n      <td>45.005004</td>\n      <td>11.507500</td>\n      <td>11.500001</td>\n      <td>0.0</td>\n      <td>0.0</td>\n      <td>0.0</td>\n      <td>0.0</td>\n      <td>...</td>\n      <td>0.0</td>\n      <td>0.0</td>\n      <td>1.0</td>\n      <td>0.0</td>\n      <td>0.0</td>\n      <td>0.0</td>\n      <td>0.0</td>\n      <td>0.0</td>\n      <td>0.0</td>\n      <td>0.0</td>\n    </tr>\n    <tr>\n      <th>R1C2</th>\n      <td>1.0</td>\n      <td>2.0</td>\n      <td>45.000004</td>\n      <td>45.005004</td>\n      <td>11.500001</td>\n      <td>11.507500</td>\n      <td>0.0</td>\n      <td>0.0</td>\n      <td>1.0</td>\n      <td>0.0</td>\n      <td>...</td>\n      <td>0.0</td>\n      <td>0.0</td>\n      <td>0.0</td>\n      <td>0.0</td>\n      <td>10.0</td>\n      <td>0.0</td>\n      <td>0.0</td>\n      <td>0.0</td>\n      <td>0.0</td>\n      <td>0.0</td>\n    </tr>\n    <tr>\n      <th>R1C3</th>\n      <td>1.0</td>\n      <td>3.0</td>\n      <td>45.000004</td>\n      <td>45.005004</td>\n      <td>11.507500</td>\n      <td>11.515000</td>\n      <td>0.0</td>\n      <td>0.0</td>\n      <td>2.0</td>\n      <td>0.0</td>\n      <td>...</td>\n      <td>0.0</td>\n      <td>0.0</td>\n      <td>0.0</td>\n      <td>0.0</td>\n      <td>2.0</td>\n      <td>0.0</td>\n      <td>0.0</td>\n      <td>0.0</td>\n      <td>0.0</td>\n      <td>0.0</td>\n    </tr>\n    <tr>\n      <th>R1C4</th>\n      <td>1.0</td>\n      <td>4.0</td>\n      <td>45.000004</td>\n      <td>45.005004</td>\n      <td>11.515000</td>\n      <td>11.522500</td>\n      <td>0.0</td>\n      <td>0.0</td>\n      <td>0.0</td>\n      <td>0.0</td>\n      <td>...</td>\n      <td>0.0</td>\n      <td>0.0</td>\n      <td>0.0</td>\n      <td>0.0</td>\n      <td>0.0</td>\n      <td>0.0</td>\n      <td>0.0</td>\n      <td>0.0</td>\n      <td>0.0</td>\n      <td>0.0</td>\n    </tr>\n    <tr>\n      <th>R1C5</th>\n      <td>1.0</td>\n      <td>5.0</td>\n      <td>45.000004</td>\n      <td>45.005004</td>\n      <td>11.522500</td>\n      <td>11.530000</td>\n      <td>0.0</td>\n      <td>0.0</td>\n      <td>1.0</td>\n      <td>0.0</td>\n      <td>...</td>\n      <td>0.0</td>\n      <td>0.0</td>\n      <td>0.0</td>\n      <td>0.0</td>\n      <td>0.0</td>\n      <td>0.0</td>\n      <td>0.0</td>\n      <td>0.0</td>\n      <td>0.0</td>\n      <td>0.0</td>\n    </tr>\n    <tr>\n      <th>...</th>\n      <td>...</td>\n      <td>...</td>\n      <td>...</td>\n      <td>...</td>\n      <td>...</td>\n      <td>...</td>\n      <td>...</td>\n      <td>...</td>\n      <td>...</td>\n      <td>...</td>\n      <td>...</td>\n      <td>...</td>\n      <td>...</td>\n      <td>...</td>\n      <td>...</td>\n      <td>...</td>\n      <td>...</td>\n      <td>...</td>\n      <td>...</td>\n      <td>...</td>\n      <td>...</td>\n    </tr>\n    <tr>\n      <th>R200C196</th>\n      <td>200.0</td>\n      <td>196.0</td>\n      <td>45.994998</td>\n      <td>45.999998</td>\n      <td>12.955000</td>\n      <td>12.962500</td>\n      <td>3.0</td>\n      <td>1.0</td>\n      <td>5.0</td>\n      <td>0.0</td>\n      <td>...</td>\n      <td>0.0</td>\n      <td>0.0</td>\n      <td>0.0</td>\n      <td>0.0</td>\n      <td>0.0</td>\n      <td>0.0</td>\n      <td>0.0</td>\n      <td>0.0</td>\n      <td>0.0</td>\n      <td>0.0</td>\n    </tr>\n    <tr>\n      <th>R200C197</th>\n      <td>200.0</td>\n      <td>197.0</td>\n      <td>45.994998</td>\n      <td>45.999998</td>\n      <td>12.962500</td>\n      <td>12.970000</td>\n      <td>4.0</td>\n      <td>0.0</td>\n      <td>11.0</td>\n      <td>1.0</td>\n      <td>...</td>\n      <td>0.0</td>\n      <td>0.0</td>\n      <td>0.0</td>\n      <td>0.0</td>\n      <td>0.0</td>\n      <td>0.0</td>\n      <td>0.0</td>\n      <td>0.0</td>\n      <td>0.0</td>\n      <td>0.0</td>\n    </tr>\n    <tr>\n      <th>R200C198</th>\n      <td>200.0</td>\n      <td>198.0</td>\n      <td>45.994998</td>\n      <td>45.999998</td>\n      <td>12.970000</td>\n      <td>12.977500</td>\n      <td>0.0</td>\n      <td>0.0</td>\n      <td>1.0</td>\n      <td>0.0</td>\n      <td>...</td>\n      <td>0.0</td>\n      <td>0.0</td>\n      <td>0.0</td>\n      <td>0.0</td>\n      <td>0.0</td>\n      <td>0.0</td>\n      <td>0.0</td>\n      <td>0.0</td>\n      <td>0.0</td>\n      <td>0.0</td>\n    </tr>\n    <tr>\n      <th>R200C199</th>\n      <td>200.0</td>\n      <td>199.0</td>\n      <td>45.994998</td>\n      <td>45.999998</td>\n      <td>12.977500</td>\n      <td>12.985000</td>\n      <td>0.0</td>\n      <td>0.0</td>\n      <td>1.0</td>\n      <td>0.0</td>\n      <td>...</td>\n      <td>0.0</td>\n      <td>0.0</td>\n      <td>0.0</td>\n      <td>0.0</td>\n      <td>0.0</td>\n      <td>0.0</td>\n      <td>0.0</td>\n      <td>0.0</td>\n      <td>0.0</td>\n      <td>0.0</td>\n    </tr>\n    <tr>\n      <th>R200C200</th>\n      <td>200.0</td>\n      <td>200.0</td>\n      <td>45.994998</td>\n      <td>45.999998</td>\n      <td>12.985000</td>\n      <td>12.992500</td>\n      <td>1.0</td>\n      <td>0.0</td>\n      <td>1.0</td>\n      <td>0.0</td>\n      <td>...</td>\n      <td>0.0</td>\n      <td>0.0</td>\n      <td>0.0</td>\n      <td>0.0</td>\n      <td>0.0</td>\n      <td>0.0</td>\n      <td>0.0</td>\n      <td>0.0</td>\n      <td>0.0</td>\n      <td>0.0</td>\n    </tr>\n  </tbody>\n</table>\n<p>40000 rows × 78 columns</p>\n</div>"
     },
     "execution_count": 62,
     "metadata": {},
     "output_type": "execute_result"
    }
   ],
   "source": [
    "extended_df.fillna(value = 0, inplace = True)\n",
    "extended_df"
   ],
   "metadata": {
    "collapsed": false,
    "pycharm": {
     "name": "#%%\n"
    }
   }
  },
  {
   "cell_type": "code",
   "execution_count": 63,
   "outputs": [],
   "source": [
    "extended_df.to_csv('5.extended_df.csv')"
   ],
   "metadata": {
    "collapsed": false,
    "pycharm": {
     "name": "#%%\n"
    }
   }
  },
  {
   "cell_type": "code",
   "execution_count": 64,
   "outputs": [
    {
     "data": {
      "text/plain": "['nature',\n 'entartainment',\n 'transports',\n 'art',\n 'sport',\n 'tourism',\n 'security',\n 'accessibility']"
     },
     "execution_count": 64,
     "metadata": {},
     "output_type": "execute_result"
    }
   ],
   "source": [
    "categories"
   ],
   "metadata": {
    "collapsed": false,
    "pycharm": {
     "name": "#%%\n"
    }
   }
  }
 ],
 "metadata": {
  "kernelspec": {
   "display_name": "Python 3",
   "language": "python",
   "name": "python3"
  },
  "language_info": {
   "codemirror_mode": {
    "name": "ipython",
    "version": 2
   },
   "file_extension": ".py",
   "mimetype": "text/x-python",
   "name": "python",
   "nbconvert_exporter": "python",
   "pygments_lexer": "ipython2",
   "version": "2.7.6"
  }
 },
 "nbformat": 4,
 "nbformat_minor": 0
}