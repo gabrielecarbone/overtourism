{
 "cells": [
  {
   "cell_type": "code",
   "execution_count": 59,
   "metadata": {
    "collapsed": true,
    "pycharm": {
     "name": "#%%\n"
    }
   },
   "outputs": [],
   "source": [
    "import pandas as pd"
   ]
  },
  {
   "cell_type": "code",
   "execution_count": 60,
   "outputs": [],
   "source": [
    "df = pd.read_csv('0. merged_df.csv')"
   ],
   "metadata": {
    "collapsed": false,
    "pycharm": {
     "name": "#%%\n"
    }
   }
  },
  {
   "cell_type": "code",
   "execution_count": 61,
   "outputs": [],
   "source": [
    "df.drop('Unnamed: 0', axis = 1, inplace = True)"
   ],
   "metadata": {
    "collapsed": false,
    "pycharm": {
     "name": "#%%\n"
    }
   }
  },
  {
   "cell_type": "code",
   "execution_count": 62,
   "outputs": [],
   "source": [
    "lon_min, lon_max = 11.5, 13\n",
    "lat_min, lat_max = 45, 46"
   ],
   "metadata": {
    "collapsed": false,
    "pycharm": {
     "name": "#%%\n"
    }
   }
  },
  {
   "cell_type": "code",
   "execution_count": 63,
   "outputs": [
    {
     "data": {
      "text/plain": "             osm_id  code          fclass                       name  \\\n0           4710535  7218           grass                        NaN   \n1           4710570  7218           grass                        NaN   \n2           4710648  7206        cemetery  Cimitero di Favaro Veneto   \n3           4851260  7213  nature_reserve     Caserma Edmondo Matter   \n4           4851276  7206        cemetery         Cimitero di Mestre   \n...             ...   ...             ...                        ...   \n2662743  1095491695  8200           water                        NaN   \n2662744  1095491696  8200           water                        NaN   \n2662745  1095603673  8200           water                        NaN   \n2662746  1095603675  8200           water                        NaN   \n2662776  1096736578  8200           water                        NaN   \n\n               lon        lat  SELECT  \n0        12.272857  45.503580  nature  \n1        12.279067  45.505727  nature  \n2        12.280370  45.511354  nature  \n3        12.240170  45.505275  nature  \n4        12.243382  45.501909  nature  \n...            ...        ...     ...  \n2662743  11.902024  45.810205  nature  \n2662744  11.905475  45.812606  nature  \n2662745  11.797104  45.924658  nature  \n2662746  11.789369  45.927601  nature  \n2662776  12.633356  45.505603  nature  \n\n[648189 rows x 7 columns]",
      "text/html": "<div>\n<style scoped>\n    .dataframe tbody tr th:only-of-type {\n        vertical-align: middle;\n    }\n\n    .dataframe tbody tr th {\n        vertical-align: top;\n    }\n\n    .dataframe thead th {\n        text-align: right;\n    }\n</style>\n<table border=\"1\" class=\"dataframe\">\n  <thead>\n    <tr style=\"text-align: right;\">\n      <th></th>\n      <th>osm_id</th>\n      <th>code</th>\n      <th>fclass</th>\n      <th>name</th>\n      <th>lon</th>\n      <th>lat</th>\n      <th>SELECT</th>\n    </tr>\n  </thead>\n  <tbody>\n    <tr>\n      <th>0</th>\n      <td>4710535</td>\n      <td>7218</td>\n      <td>grass</td>\n      <td>NaN</td>\n      <td>12.272857</td>\n      <td>45.503580</td>\n      <td>nature</td>\n    </tr>\n    <tr>\n      <th>1</th>\n      <td>4710570</td>\n      <td>7218</td>\n      <td>grass</td>\n      <td>NaN</td>\n      <td>12.279067</td>\n      <td>45.505727</td>\n      <td>nature</td>\n    </tr>\n    <tr>\n      <th>2</th>\n      <td>4710648</td>\n      <td>7206</td>\n      <td>cemetery</td>\n      <td>Cimitero di Favaro Veneto</td>\n      <td>12.280370</td>\n      <td>45.511354</td>\n      <td>nature</td>\n    </tr>\n    <tr>\n      <th>3</th>\n      <td>4851260</td>\n      <td>7213</td>\n      <td>nature_reserve</td>\n      <td>Caserma Edmondo Matter</td>\n      <td>12.240170</td>\n      <td>45.505275</td>\n      <td>nature</td>\n    </tr>\n    <tr>\n      <th>4</th>\n      <td>4851276</td>\n      <td>7206</td>\n      <td>cemetery</td>\n      <td>Cimitero di Mestre</td>\n      <td>12.243382</td>\n      <td>45.501909</td>\n      <td>nature</td>\n    </tr>\n    <tr>\n      <th>...</th>\n      <td>...</td>\n      <td>...</td>\n      <td>...</td>\n      <td>...</td>\n      <td>...</td>\n      <td>...</td>\n      <td>...</td>\n    </tr>\n    <tr>\n      <th>2662743</th>\n      <td>1095491695</td>\n      <td>8200</td>\n      <td>water</td>\n      <td>NaN</td>\n      <td>11.902024</td>\n      <td>45.810205</td>\n      <td>nature</td>\n    </tr>\n    <tr>\n      <th>2662744</th>\n      <td>1095491696</td>\n      <td>8200</td>\n      <td>water</td>\n      <td>NaN</td>\n      <td>11.905475</td>\n      <td>45.812606</td>\n      <td>nature</td>\n    </tr>\n    <tr>\n      <th>2662745</th>\n      <td>1095603673</td>\n      <td>8200</td>\n      <td>water</td>\n      <td>NaN</td>\n      <td>11.797104</td>\n      <td>45.924658</td>\n      <td>nature</td>\n    </tr>\n    <tr>\n      <th>2662746</th>\n      <td>1095603675</td>\n      <td>8200</td>\n      <td>water</td>\n      <td>NaN</td>\n      <td>11.789369</td>\n      <td>45.927601</td>\n      <td>nature</td>\n    </tr>\n    <tr>\n      <th>2662776</th>\n      <td>1096736578</td>\n      <td>8200</td>\n      <td>water</td>\n      <td>NaN</td>\n      <td>12.633356</td>\n      <td>45.505603</td>\n      <td>nature</td>\n    </tr>\n  </tbody>\n</table>\n<p>648189 rows × 7 columns</p>\n</div>"
     },
     "execution_count": 63,
     "metadata": {},
     "output_type": "execute_result"
    }
   ],
   "source": [
    "df = df.loc[(df.lon >= lon_min) & (df.lon <= lon_max)]\n",
    "df = df.loc[(df.lat >= lat_min) & (df.lat <= lat_max)]\n",
    "df"
   ],
   "metadata": {
    "collapsed": false,
    "pycharm": {
     "name": "#%%\n"
    }
   }
  },
  {
   "cell_type": "code",
   "execution_count": 64,
   "outputs": [],
   "source": [
    "n_rows, n_columns = 100, 100\n",
    "\n",
    "lat_min, lat_max = df.lat.min(), df.lat.max()  # rows\n",
    "lon_min, lon_max = df.lon.min(), df.lon.max()  # columns\n",
    "\n",
    "diff_lat = lat_max - lat_min\n",
    "diff_lon = lon_max - lon_min\n",
    "\n",
    "step_lat = diff_lat / n_rows\n",
    "step_lon = diff_lon / n_columns"
   ],
   "metadata": {
    "collapsed": false,
    "pycharm": {
     "name": "#%%\n"
    }
   }
  },
  {
   "cell_type": "code",
   "execution_count": 65,
   "outputs": [],
   "source": [
    "categories = df['SELECT'].drop_duplicates().to_list()"
   ],
   "metadata": {
    "collapsed": false,
    "pycharm": {
     "name": "#%%\n"
    }
   }
  },
  {
   "cell_type": "code",
   "execution_count": 66,
   "outputs": [],
   "source": [
    "starting_point_lat, starting_point_lon = lat_min, lon_max # start from the highest column and the first column\n",
    "\n",
    "result_log = {}\n",
    "\n",
    "#starting bbox\n",
    "bbox_lat_min, bbox_lat_max = starting_point_lat, starting_point_lat + step_lat\n",
    "bbox_lon_min, bbox_lon_max = starting_point_lon - step_lon, starting_point_lon\n",
    "\n",
    "for row in range(n_rows):\n",
    "    # reset starting point of the column axis\n",
    "    bbox_lon_max = starting_point_lon\n",
    "    bbox_lon_min = starting_point_lon - step_lon\n",
    "\n",
    "    row_df = df.loc[(df.lat > bbox_lat_min) & (df.lat <= bbox_lat_max), :]\n",
    "\n",
    "    for column in range(n_columns):\n",
    "        cell_df = row_df.loc[(row_df.lon > bbox_lon_min) & (row_df.lon <= bbox_lon_max), :]\n",
    "\n",
    "        cell_name = 'R' + str(row + 1) + 'C' + str(column + 1)\n",
    "        cell_values = [row + 1, column +1, bbox_lat_min, bbox_lat_max, bbox_lon_min, bbox_lon_max]\n",
    "\n",
    "        for category in categories:\n",
    "            try:\n",
    "                count = cell_df.SELECT.value_counts()[category]\n",
    "                cell_values.append(count)\n",
    "\n",
    "            except:\n",
    "                cell_values.append(0)\n",
    "\n",
    "        result_log[cell_name] = cell_values\n",
    "\n",
    "        #print('LAT:', bbox_lat_min, '   ', bbox_lat_max, '  LON:', bbox_lon_min, '   ', bbox_lon_max, '    COUNT:', cell_df.shape[0])\n",
    "\n",
    "        bbox_lon_max = bbox_lon_min\n",
    "        bbox_lon_min -= step_lon\n",
    "\n",
    "    bbox_lat_min = bbox_lat_max\n",
    "    bbox_lat_max += step_lat"
   ],
   "metadata": {
    "collapsed": false,
    "pycharm": {
     "name": "#%%\n"
    }
   }
  },
  {
   "cell_type": "code",
   "execution_count": 67,
   "outputs": [
    {
     "data": {
      "text/plain": "            row  column    lat_min    lat_max    lon_min  lon_max  nature  \\\nR1C1        1.0     1.0  45.000004  45.010004  12.985000   13.000     0.0   \nR1C2        1.0     2.0  45.000004  45.010004  12.970000   12.985     0.0   \nR1C3        1.0     3.0  45.000004  45.010004  12.955000   12.970     0.0   \nR1C4        1.0     4.0  45.000004  45.010004  12.940000   12.955     0.0   \nR1C5        1.0     5.0  45.000004  45.010004  12.925000   12.940     0.0   \n...         ...     ...        ...        ...        ...      ...     ...   \nR100C96   100.0    96.0  45.989998  45.999998  11.560000   11.575     1.0   \nR100C97   100.0    97.0  45.989998  45.999998  11.545000   11.560    17.0   \nR100C98   100.0    98.0  45.989998  45.999998  11.530000   11.545   182.0   \nR100C99   100.0    99.0  45.989998  45.999998  11.515000   11.530   171.0   \nR100C100  100.0   100.0  45.989998  45.999998  11.500001   11.515     3.0   \n\n          entartainment  transports  art  sport  tourism  security  \\\nR1C1                0.0         0.0  0.0    0.0      0.0       0.0   \nR1C2                0.0         0.0  0.0    0.0      0.0       0.0   \nR1C3                0.0         0.0  0.0    0.0      0.0       0.0   \nR1C4                0.0         0.0  0.0    0.0      0.0       0.0   \nR1C5                0.0         0.0  0.0    0.0      0.0       0.0   \n...                 ...         ...  ...    ...      ...       ...   \nR100C96             0.0         2.0  0.0    0.0      0.0       0.0   \nR100C97             0.0         0.0  0.0    0.0      4.0       0.0   \nR100C98             0.0        12.0  0.0    0.0      3.0       0.0   \nR100C99             0.0        22.0  1.0    0.0      6.0       0.0   \nR100C100            0.0         5.0  0.0    0.0      3.0       0.0   \n\n          accessibility  \nR1C1                0.0  \nR1C2                0.0  \nR1C3                0.0  \nR1C4                0.0  \nR1C5                0.0  \n...                 ...  \nR100C96             0.0  \nR100C97             0.0  \nR100C98             0.0  \nR100C99             0.0  \nR100C100            0.0  \n\n[10000 rows x 14 columns]",
      "text/html": "<div>\n<style scoped>\n    .dataframe tbody tr th:only-of-type {\n        vertical-align: middle;\n    }\n\n    .dataframe tbody tr th {\n        vertical-align: top;\n    }\n\n    .dataframe thead th {\n        text-align: right;\n    }\n</style>\n<table border=\"1\" class=\"dataframe\">\n  <thead>\n    <tr style=\"text-align: right;\">\n      <th></th>\n      <th>row</th>\n      <th>column</th>\n      <th>lat_min</th>\n      <th>lat_max</th>\n      <th>lon_min</th>\n      <th>lon_max</th>\n      <th>nature</th>\n      <th>entartainment</th>\n      <th>transports</th>\n      <th>art</th>\n      <th>sport</th>\n      <th>tourism</th>\n      <th>security</th>\n      <th>accessibility</th>\n    </tr>\n  </thead>\n  <tbody>\n    <tr>\n      <th>R1C1</th>\n      <td>1.0</td>\n      <td>1.0</td>\n      <td>45.000004</td>\n      <td>45.010004</td>\n      <td>12.985000</td>\n      <td>13.000</td>\n      <td>0.0</td>\n      <td>0.0</td>\n      <td>0.0</td>\n      <td>0.0</td>\n      <td>0.0</td>\n      <td>0.0</td>\n      <td>0.0</td>\n      <td>0.0</td>\n    </tr>\n    <tr>\n      <th>R1C2</th>\n      <td>1.0</td>\n      <td>2.0</td>\n      <td>45.000004</td>\n      <td>45.010004</td>\n      <td>12.970000</td>\n      <td>12.985</td>\n      <td>0.0</td>\n      <td>0.0</td>\n      <td>0.0</td>\n      <td>0.0</td>\n      <td>0.0</td>\n      <td>0.0</td>\n      <td>0.0</td>\n      <td>0.0</td>\n    </tr>\n    <tr>\n      <th>R1C3</th>\n      <td>1.0</td>\n      <td>3.0</td>\n      <td>45.000004</td>\n      <td>45.010004</td>\n      <td>12.955000</td>\n      <td>12.970</td>\n      <td>0.0</td>\n      <td>0.0</td>\n      <td>0.0</td>\n      <td>0.0</td>\n      <td>0.0</td>\n      <td>0.0</td>\n      <td>0.0</td>\n      <td>0.0</td>\n    </tr>\n    <tr>\n      <th>R1C4</th>\n      <td>1.0</td>\n      <td>4.0</td>\n      <td>45.000004</td>\n      <td>45.010004</td>\n      <td>12.940000</td>\n      <td>12.955</td>\n      <td>0.0</td>\n      <td>0.0</td>\n      <td>0.0</td>\n      <td>0.0</td>\n      <td>0.0</td>\n      <td>0.0</td>\n      <td>0.0</td>\n      <td>0.0</td>\n    </tr>\n    <tr>\n      <th>R1C5</th>\n      <td>1.0</td>\n      <td>5.0</td>\n      <td>45.000004</td>\n      <td>45.010004</td>\n      <td>12.925000</td>\n      <td>12.940</td>\n      <td>0.0</td>\n      <td>0.0</td>\n      <td>0.0</td>\n      <td>0.0</td>\n      <td>0.0</td>\n      <td>0.0</td>\n      <td>0.0</td>\n      <td>0.0</td>\n    </tr>\n    <tr>\n      <th>...</th>\n      <td>...</td>\n      <td>...</td>\n      <td>...</td>\n      <td>...</td>\n      <td>...</td>\n      <td>...</td>\n      <td>...</td>\n      <td>...</td>\n      <td>...</td>\n      <td>...</td>\n      <td>...</td>\n      <td>...</td>\n      <td>...</td>\n      <td>...</td>\n    </tr>\n    <tr>\n      <th>R100C96</th>\n      <td>100.0</td>\n      <td>96.0</td>\n      <td>45.989998</td>\n      <td>45.999998</td>\n      <td>11.560000</td>\n      <td>11.575</td>\n      <td>1.0</td>\n      <td>0.0</td>\n      <td>2.0</td>\n      <td>0.0</td>\n      <td>0.0</td>\n      <td>0.0</td>\n      <td>0.0</td>\n      <td>0.0</td>\n    </tr>\n    <tr>\n      <th>R100C97</th>\n      <td>100.0</td>\n      <td>97.0</td>\n      <td>45.989998</td>\n      <td>45.999998</td>\n      <td>11.545000</td>\n      <td>11.560</td>\n      <td>17.0</td>\n      <td>0.0</td>\n      <td>0.0</td>\n      <td>0.0</td>\n      <td>0.0</td>\n      <td>4.0</td>\n      <td>0.0</td>\n      <td>0.0</td>\n    </tr>\n    <tr>\n      <th>R100C98</th>\n      <td>100.0</td>\n      <td>98.0</td>\n      <td>45.989998</td>\n      <td>45.999998</td>\n      <td>11.530000</td>\n      <td>11.545</td>\n      <td>182.0</td>\n      <td>0.0</td>\n      <td>12.0</td>\n      <td>0.0</td>\n      <td>0.0</td>\n      <td>3.0</td>\n      <td>0.0</td>\n      <td>0.0</td>\n    </tr>\n    <tr>\n      <th>R100C99</th>\n      <td>100.0</td>\n      <td>99.0</td>\n      <td>45.989998</td>\n      <td>45.999998</td>\n      <td>11.515000</td>\n      <td>11.530</td>\n      <td>171.0</td>\n      <td>0.0</td>\n      <td>22.0</td>\n      <td>1.0</td>\n      <td>0.0</td>\n      <td>6.0</td>\n      <td>0.0</td>\n      <td>0.0</td>\n    </tr>\n    <tr>\n      <th>R100C100</th>\n      <td>100.0</td>\n      <td>100.0</td>\n      <td>45.989998</td>\n      <td>45.999998</td>\n      <td>11.500001</td>\n      <td>11.515</td>\n      <td>3.0</td>\n      <td>0.0</td>\n      <td>5.0</td>\n      <td>0.0</td>\n      <td>0.0</td>\n      <td>3.0</td>\n      <td>0.0</td>\n      <td>0.0</td>\n    </tr>\n  </tbody>\n</table>\n<p>10000 rows × 14 columns</p>\n</div>"
     },
     "execution_count": 67,
     "metadata": {},
     "output_type": "execute_result"
    }
   ],
   "source": [
    "result_df = pd.DataFrame(result_log).T\n",
    "result_df.columns = ['row', 'column', 'lat_min', 'lat_max', 'lon_min', 'lon_max'] + categories\n",
    "result_df"
   ],
   "metadata": {
    "collapsed": false,
    "pycharm": {
     "name": "#%%\n"
    }
   }
  },
  {
   "cell_type": "code",
   "execution_count": 69,
   "outputs": [
    {
     "data": {
      "text/plain": "            row  column    lat_min    lat_max    lon_min  lon_max  nature  \\\nR1C36       1.0    36.0  45.000004  45.010004  12.460000   12.475     3.0   \nR1C37       1.0    37.0  45.000004  45.010004  12.445000   12.460     1.0   \nR1C38       1.0    38.0  45.000004  45.010004  12.430000   12.445    54.0   \nR1C39       1.0    39.0  45.000004  45.010004  12.415000   12.430    46.0   \nR1C40       1.0    40.0  45.000004  45.010004  12.400000   12.415    17.0   \n...         ...     ...        ...        ...        ...      ...     ...   \nR100C96   100.0    96.0  45.989998  45.999998  11.560000   11.575     1.0   \nR100C97   100.0    97.0  45.989998  45.999998  11.545000   11.560    17.0   \nR100C98   100.0    98.0  45.989998  45.999998  11.530000   11.545   182.0   \nR100C99   100.0    99.0  45.989998  45.999998  11.515000   11.530   171.0   \nR100C100  100.0   100.0  45.989998  45.999998  11.500001   11.515     3.0   \n\n          entartainment  transports  art  sport  tourism  security  \\\nR1C36               0.0         0.0  0.0    0.0      0.0       0.0   \nR1C37               0.0         0.0  0.0    0.0      0.0       0.0   \nR1C38               0.0         2.0  0.0    0.0      0.0       0.0   \nR1C39               1.0        13.0  1.0    0.0      0.0       0.0   \nR1C40               0.0         6.0  0.0    0.0      0.0       0.0   \n...                 ...         ...  ...    ...      ...       ...   \nR100C96             0.0         2.0  0.0    0.0      0.0       0.0   \nR100C97             0.0         0.0  0.0    0.0      4.0       0.0   \nR100C98             0.0        12.0  0.0    0.0      3.0       0.0   \nR100C99             0.0        22.0  1.0    0.0      6.0       0.0   \nR100C100            0.0         5.0  0.0    0.0      3.0       0.0   \n\n          accessibility  \nR1C36               0.0  \nR1C37               0.0  \nR1C38               0.0  \nR1C39               0.0  \nR1C40               0.0  \n...                 ...  \nR100C96             0.0  \nR100C97             0.0  \nR100C98             0.0  \nR100C99             0.0  \nR100C100            0.0  \n\n[7668 rows x 14 columns]",
      "text/html": "<div>\n<style scoped>\n    .dataframe tbody tr th:only-of-type {\n        vertical-align: middle;\n    }\n\n    .dataframe tbody tr th {\n        vertical-align: top;\n    }\n\n    .dataframe thead th {\n        text-align: right;\n    }\n</style>\n<table border=\"1\" class=\"dataframe\">\n  <thead>\n    <tr style=\"text-align: right;\">\n      <th></th>\n      <th>row</th>\n      <th>column</th>\n      <th>lat_min</th>\n      <th>lat_max</th>\n      <th>lon_min</th>\n      <th>lon_max</th>\n      <th>nature</th>\n      <th>entartainment</th>\n      <th>transports</th>\n      <th>art</th>\n      <th>sport</th>\n      <th>tourism</th>\n      <th>security</th>\n      <th>accessibility</th>\n    </tr>\n  </thead>\n  <tbody>\n    <tr>\n      <th>R1C36</th>\n      <td>1.0</td>\n      <td>36.0</td>\n      <td>45.000004</td>\n      <td>45.010004</td>\n      <td>12.460000</td>\n      <td>12.475</td>\n      <td>3.0</td>\n      <td>0.0</td>\n      <td>0.0</td>\n      <td>0.0</td>\n      <td>0.0</td>\n      <td>0.0</td>\n      <td>0.0</td>\n      <td>0.0</td>\n    </tr>\n    <tr>\n      <th>R1C37</th>\n      <td>1.0</td>\n      <td>37.0</td>\n      <td>45.000004</td>\n      <td>45.010004</td>\n      <td>12.445000</td>\n      <td>12.460</td>\n      <td>1.0</td>\n      <td>0.0</td>\n      <td>0.0</td>\n      <td>0.0</td>\n      <td>0.0</td>\n      <td>0.0</td>\n      <td>0.0</td>\n      <td>0.0</td>\n    </tr>\n    <tr>\n      <th>R1C38</th>\n      <td>1.0</td>\n      <td>38.0</td>\n      <td>45.000004</td>\n      <td>45.010004</td>\n      <td>12.430000</td>\n      <td>12.445</td>\n      <td>54.0</td>\n      <td>0.0</td>\n      <td>2.0</td>\n      <td>0.0</td>\n      <td>0.0</td>\n      <td>0.0</td>\n      <td>0.0</td>\n      <td>0.0</td>\n    </tr>\n    <tr>\n      <th>R1C39</th>\n      <td>1.0</td>\n      <td>39.0</td>\n      <td>45.000004</td>\n      <td>45.010004</td>\n      <td>12.415000</td>\n      <td>12.430</td>\n      <td>46.0</td>\n      <td>1.0</td>\n      <td>13.0</td>\n      <td>1.0</td>\n      <td>0.0</td>\n      <td>0.0</td>\n      <td>0.0</td>\n      <td>0.0</td>\n    </tr>\n    <tr>\n      <th>R1C40</th>\n      <td>1.0</td>\n      <td>40.0</td>\n      <td>45.000004</td>\n      <td>45.010004</td>\n      <td>12.400000</td>\n      <td>12.415</td>\n      <td>17.0</td>\n      <td>0.0</td>\n      <td>6.0</td>\n      <td>0.0</td>\n      <td>0.0</td>\n      <td>0.0</td>\n      <td>0.0</td>\n      <td>0.0</td>\n    </tr>\n    <tr>\n      <th>...</th>\n      <td>...</td>\n      <td>...</td>\n      <td>...</td>\n      <td>...</td>\n      <td>...</td>\n      <td>...</td>\n      <td>...</td>\n      <td>...</td>\n      <td>...</td>\n      <td>...</td>\n      <td>...</td>\n      <td>...</td>\n      <td>...</td>\n      <td>...</td>\n    </tr>\n    <tr>\n      <th>R100C96</th>\n      <td>100.0</td>\n      <td>96.0</td>\n      <td>45.989998</td>\n      <td>45.999998</td>\n      <td>11.560000</td>\n      <td>11.575</td>\n      <td>1.0</td>\n      <td>0.0</td>\n      <td>2.0</td>\n      <td>0.0</td>\n      <td>0.0</td>\n      <td>0.0</td>\n      <td>0.0</td>\n      <td>0.0</td>\n    </tr>\n    <tr>\n      <th>R100C97</th>\n      <td>100.0</td>\n      <td>97.0</td>\n      <td>45.989998</td>\n      <td>45.999998</td>\n      <td>11.545000</td>\n      <td>11.560</td>\n      <td>17.0</td>\n      <td>0.0</td>\n      <td>0.0</td>\n      <td>0.0</td>\n      <td>0.0</td>\n      <td>4.0</td>\n      <td>0.0</td>\n      <td>0.0</td>\n    </tr>\n    <tr>\n      <th>R100C98</th>\n      <td>100.0</td>\n      <td>98.0</td>\n      <td>45.989998</td>\n      <td>45.999998</td>\n      <td>11.530000</td>\n      <td>11.545</td>\n      <td>182.0</td>\n      <td>0.0</td>\n      <td>12.0</td>\n      <td>0.0</td>\n      <td>0.0</td>\n      <td>3.0</td>\n      <td>0.0</td>\n      <td>0.0</td>\n    </tr>\n    <tr>\n      <th>R100C99</th>\n      <td>100.0</td>\n      <td>99.0</td>\n      <td>45.989998</td>\n      <td>45.999998</td>\n      <td>11.515000</td>\n      <td>11.530</td>\n      <td>171.0</td>\n      <td>0.0</td>\n      <td>22.0</td>\n      <td>1.0</td>\n      <td>0.0</td>\n      <td>6.0</td>\n      <td>0.0</td>\n      <td>0.0</td>\n    </tr>\n    <tr>\n      <th>R100C100</th>\n      <td>100.0</td>\n      <td>100.0</td>\n      <td>45.989998</td>\n      <td>45.999998</td>\n      <td>11.500001</td>\n      <td>11.515</td>\n      <td>3.0</td>\n      <td>0.0</td>\n      <td>5.0</td>\n      <td>0.0</td>\n      <td>0.0</td>\n      <td>3.0</td>\n      <td>0.0</td>\n      <td>0.0</td>\n    </tr>\n  </tbody>\n</table>\n<p>7668 rows × 14 columns</p>\n</div>"
     },
     "execution_count": 69,
     "metadata": {},
     "output_type": "execute_result"
    }
   ],
   "source": [
    "filtered_df = result_df[result_df[categories].T.sum(0) != 0] # remove the cells that have 0 on every fclass\n",
    "filtered_df"
   ],
   "metadata": {
    "collapsed": false,
    "pycharm": {
     "name": "#%%\n"
    }
   }
  },
  {
   "cell_type": "code",
   "execution_count": 70,
   "outputs": [],
   "source": [
    "filtered_df.to_csv('1. filtered_df.csv')"
   ],
   "metadata": {
    "collapsed": false,
    "pycharm": {
     "name": "#%%\n"
    }
   }
  }
 ],
 "metadata": {
  "kernelspec": {
   "display_name": "Python 3",
   "language": "python",
   "name": "python3"
  },
  "language_info": {
   "codemirror_mode": {
    "name": "ipython",
    "version": 2
   },
   "file_extension": ".py",
   "mimetype": "text/x-python",
   "name": "python",
   "nbconvert_exporter": "python",
   "pygments_lexer": "ipython2",
   "version": "2.7.6"
  }
 },
 "nbformat": 4,
 "nbformat_minor": 0
}