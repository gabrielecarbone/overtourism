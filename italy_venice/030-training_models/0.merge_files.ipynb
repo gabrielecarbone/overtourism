{
 "cells": [
  {
   "cell_type": "code",
   "execution_count": 11,
   "metadata": {
    "collapsed": true,
    "pycharm": {
     "name": "#%%\n"
    }
   },
   "outputs": [],
   "source": [
    "import os\n",
    "import pandas as pd"
   ]
  },
  {
   "cell_type": "code",
   "execution_count": 12,
   "outputs": [],
   "source": [
    "path = '../020-clean_dbs/filtered/'"
   ],
   "metadata": {
    "collapsed": false,
    "pycharm": {
     "name": "#%%\n"
    }
   }
  },
  {
   "cell_type": "code",
   "execution_count": 13,
   "outputs": [],
   "source": [
    "file_list = os.listdir(path)\n",
    "columns_to_keep = ['osm_id', 'code', 'fclass', 'name', 'lon', 'lat', 'SELECT']\n",
    "dfs = []\n",
    "\n",
    "for filtered_df in file_list:\n",
    "    df = pd.read_csv(path + filtered_df)\n",
    "    dfs.append(df[columns_to_keep])"
   ],
   "metadata": {
    "collapsed": false,
    "pycharm": {
     "name": "#%%\n"
    }
   }
  },
  {
   "cell_type": "code",
   "execution_count": 14,
   "outputs": [
    {
     "data": {
      "text/plain": "           osm_id  code          fclass                       name        lon  \\\n0         4710535  7218           grass                        NaN  12.272857   \n1         4710570  7218           grass                        NaN  12.279067   \n2         4710648  7206        cemetery  Cimitero di Favaro Veneto  12.280370   \n3         4851260  7213  nature_reserve     Caserma Edmondo Matter  12.240170   \n4         4851276  7206        cemetery         Cimitero di Mestre  12.243382   \n...           ...   ...             ...                        ...        ...   \n30355  1096835041  8200           water                        NaN  12.803509   \n30356    14005865  8202           water                        NaN  13.331644   \n30357  1097248505  8200           water                        NaN  12.994492   \n30358  1097248506  8200           water                        NaN  12.996450   \n30359  1097248507  8200           water                        NaN  12.996077   \n\n             lat  SELECT  \n0      45.503580  nature  \n1      45.505727  nature  \n2      45.511354  nature  \n3      45.505275  nature  \n4      45.501909  nature  \n...          ...     ...  \n30355  46.639118  nature  \n30356  46.064916  nature  \n30357  46.622447  nature  \n30358  46.622617  nature  \n30359  46.622447  nature  \n\n[2662787 rows x 7 columns]",
      "text/html": "<div>\n<style scoped>\n    .dataframe tbody tr th:only-of-type {\n        vertical-align: middle;\n    }\n\n    .dataframe tbody tr th {\n        vertical-align: top;\n    }\n\n    .dataframe thead th {\n        text-align: right;\n    }\n</style>\n<table border=\"1\" class=\"dataframe\">\n  <thead>\n    <tr style=\"text-align: right;\">\n      <th></th>\n      <th>osm_id</th>\n      <th>code</th>\n      <th>fclass</th>\n      <th>name</th>\n      <th>lon</th>\n      <th>lat</th>\n      <th>SELECT</th>\n    </tr>\n  </thead>\n  <tbody>\n    <tr>\n      <th>0</th>\n      <td>4710535</td>\n      <td>7218</td>\n      <td>grass</td>\n      <td>NaN</td>\n      <td>12.272857</td>\n      <td>45.503580</td>\n      <td>nature</td>\n    </tr>\n    <tr>\n      <th>1</th>\n      <td>4710570</td>\n      <td>7218</td>\n      <td>grass</td>\n      <td>NaN</td>\n      <td>12.279067</td>\n      <td>45.505727</td>\n      <td>nature</td>\n    </tr>\n    <tr>\n      <th>2</th>\n      <td>4710648</td>\n      <td>7206</td>\n      <td>cemetery</td>\n      <td>Cimitero di Favaro Veneto</td>\n      <td>12.280370</td>\n      <td>45.511354</td>\n      <td>nature</td>\n    </tr>\n    <tr>\n      <th>3</th>\n      <td>4851260</td>\n      <td>7213</td>\n      <td>nature_reserve</td>\n      <td>Caserma Edmondo Matter</td>\n      <td>12.240170</td>\n      <td>45.505275</td>\n      <td>nature</td>\n    </tr>\n    <tr>\n      <th>4</th>\n      <td>4851276</td>\n      <td>7206</td>\n      <td>cemetery</td>\n      <td>Cimitero di Mestre</td>\n      <td>12.243382</td>\n      <td>45.501909</td>\n      <td>nature</td>\n    </tr>\n    <tr>\n      <th>...</th>\n      <td>...</td>\n      <td>...</td>\n      <td>...</td>\n      <td>...</td>\n      <td>...</td>\n      <td>...</td>\n      <td>...</td>\n    </tr>\n    <tr>\n      <th>30355</th>\n      <td>1096835041</td>\n      <td>8200</td>\n      <td>water</td>\n      <td>NaN</td>\n      <td>12.803509</td>\n      <td>46.639118</td>\n      <td>nature</td>\n    </tr>\n    <tr>\n      <th>30356</th>\n      <td>14005865</td>\n      <td>8202</td>\n      <td>water</td>\n      <td>NaN</td>\n      <td>13.331644</td>\n      <td>46.064916</td>\n      <td>nature</td>\n    </tr>\n    <tr>\n      <th>30357</th>\n      <td>1097248505</td>\n      <td>8200</td>\n      <td>water</td>\n      <td>NaN</td>\n      <td>12.994492</td>\n      <td>46.622447</td>\n      <td>nature</td>\n    </tr>\n    <tr>\n      <th>30358</th>\n      <td>1097248506</td>\n      <td>8200</td>\n      <td>water</td>\n      <td>NaN</td>\n      <td>12.996450</td>\n      <td>46.622617</td>\n      <td>nature</td>\n    </tr>\n    <tr>\n      <th>30359</th>\n      <td>1097248507</td>\n      <td>8200</td>\n      <td>water</td>\n      <td>NaN</td>\n      <td>12.996077</td>\n      <td>46.622447</td>\n      <td>nature</td>\n    </tr>\n  </tbody>\n</table>\n<p>2662787 rows × 7 columns</p>\n</div>"
     },
     "execution_count": 14,
     "metadata": {},
     "output_type": "execute_result"
    }
   ],
   "source": [
    "merged_df = pd.concat(dfs)\n",
    "merged_df.to_csv('0. merged_df.csv')\n",
    "\n",
    "merged_df"
   ],
   "metadata": {
    "collapsed": false,
    "pycharm": {
     "name": "#%%\n"
    }
   }
  }
 ],
 "metadata": {
  "kernelspec": {
   "display_name": "Python 3",
   "language": "python",
   "name": "python3"
  },
  "language_info": {
   "codemirror_mode": {
    "name": "ipython",
    "version": 2
   },
   "file_extension": ".py",
   "mimetype": "text/x-python",
   "name": "python",
   "nbconvert_exporter": "python",
   "pygments_lexer": "ipython2",
   "version": "2.7.6"
  }
 },
 "nbformat": 4,
 "nbformat_minor": 0
}