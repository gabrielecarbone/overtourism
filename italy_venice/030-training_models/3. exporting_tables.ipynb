{
 "cells": [
  {
   "cell_type": "code",
   "execution_count": 77,
   "metadata": {
    "collapsed": true,
    "pycharm": {
     "name": "#%%\n"
    }
   },
   "outputs": [],
   "source": [
    "import geopandas as gpd\n",
    "from shapely.geometry import Polygon\n",
    "import numpy as np"
   ]
  },
  {
   "cell_type": "code",
   "execution_count": 78,
   "outputs": [
    {
     "data": {
      "text/plain": "       field_1    row column            lat_min             lat_max  \\\n0        R1C36    1.0   36.0  45.00000374836847   45.01000368615005   \n1        R1C37    1.0   37.0  45.00000374836847   45.01000368615005   \n2        R1C38    1.0   38.0  45.00000374836847   45.01000368615005   \n3        R1C39    1.0   39.0  45.00000374836847   45.01000368615005   \n4        R1C40    1.0   40.0  45.00000374836847   45.01000368615005   \n...        ...    ...    ...                ...                 ...   \n7663   R100C96  100.0   96.0  45.98999758874481  45.999997526526386   \n7664   R100C97  100.0   97.0  45.98999758874481  45.999997526526386   \n7665   R100C98  100.0   98.0  45.98999758874481  45.999997526526386   \n7666   R100C99  100.0   99.0  45.98999758874481  45.999997526526386   \n7667  R100C100  100.0  100.0  45.98999758874481  45.999997526526386   \n\n           lon_min       lon_max nature entartainment transports  art sport  \\\n0     12.460000052  12.475000045    3.0           0.0        0.0  0.0   0.0   \n1     12.445000059  12.460000052    1.0           0.0        0.0  0.0   0.0   \n2     12.430000066  12.445000059   54.0           0.0        2.0  0.0   0.0   \n3     12.415000073  12.430000066   46.0           1.0       13.0  1.0   0.0   \n4      12.40000008  12.415000073   17.0           0.0        6.0  0.0   0.0   \n...            ...           ...    ...           ...        ...  ...   ...   \n7663  11.560000472  11.575000465    1.0           0.0        2.0  0.0   0.0   \n7664  11.545000479  11.560000472   17.0           0.0        0.0  0.0   0.0   \n7665  11.530000486  11.545000479  182.0           0.0       12.0  0.0   0.0   \n7666  11.515000493  11.530000486  171.0           0.0       22.0  1.0   0.0   \n7667    11.5000005  11.515000493    3.0           0.0        5.0  0.0   0.0   \n\n     tourism security accessibility geometry  \n0        0.0      0.0           0.0     None  \n1        0.0      0.0           0.0     None  \n2        0.0      0.0           0.0     None  \n3        0.0      0.0           0.0     None  \n4        0.0      0.0           0.0     None  \n...      ...      ...           ...      ...  \n7663     0.0      0.0           0.0     None  \n7664     4.0      0.0           0.0     None  \n7665     3.0      0.0           0.0     None  \n7666     6.0      0.0           0.0     None  \n7667     3.0      0.0           0.0     None  \n\n[7668 rows x 16 columns]",
      "text/html": "<div>\n<style scoped>\n    .dataframe tbody tr th:only-of-type {\n        vertical-align: middle;\n    }\n\n    .dataframe tbody tr th {\n        vertical-align: top;\n    }\n\n    .dataframe thead th {\n        text-align: right;\n    }\n</style>\n<table border=\"1\" class=\"dataframe\">\n  <thead>\n    <tr style=\"text-align: right;\">\n      <th></th>\n      <th>field_1</th>\n      <th>row</th>\n      <th>column</th>\n      <th>lat_min</th>\n      <th>lat_max</th>\n      <th>lon_min</th>\n      <th>lon_max</th>\n      <th>nature</th>\n      <th>entartainment</th>\n      <th>transports</th>\n      <th>art</th>\n      <th>sport</th>\n      <th>tourism</th>\n      <th>security</th>\n      <th>accessibility</th>\n      <th>geometry</th>\n    </tr>\n  </thead>\n  <tbody>\n    <tr>\n      <th>0</th>\n      <td>R1C36</td>\n      <td>1.0</td>\n      <td>36.0</td>\n      <td>45.00000374836847</td>\n      <td>45.01000368615005</td>\n      <td>12.460000052</td>\n      <td>12.475000045</td>\n      <td>3.0</td>\n      <td>0.0</td>\n      <td>0.0</td>\n      <td>0.0</td>\n      <td>0.0</td>\n      <td>0.0</td>\n      <td>0.0</td>\n      <td>0.0</td>\n      <td>None</td>\n    </tr>\n    <tr>\n      <th>1</th>\n      <td>R1C37</td>\n      <td>1.0</td>\n      <td>37.0</td>\n      <td>45.00000374836847</td>\n      <td>45.01000368615005</td>\n      <td>12.445000059</td>\n      <td>12.460000052</td>\n      <td>1.0</td>\n      <td>0.0</td>\n      <td>0.0</td>\n      <td>0.0</td>\n      <td>0.0</td>\n      <td>0.0</td>\n      <td>0.0</td>\n      <td>0.0</td>\n      <td>None</td>\n    </tr>\n    <tr>\n      <th>2</th>\n      <td>R1C38</td>\n      <td>1.0</td>\n      <td>38.0</td>\n      <td>45.00000374836847</td>\n      <td>45.01000368615005</td>\n      <td>12.430000066</td>\n      <td>12.445000059</td>\n      <td>54.0</td>\n      <td>0.0</td>\n      <td>2.0</td>\n      <td>0.0</td>\n      <td>0.0</td>\n      <td>0.0</td>\n      <td>0.0</td>\n      <td>0.0</td>\n      <td>None</td>\n    </tr>\n    <tr>\n      <th>3</th>\n      <td>R1C39</td>\n      <td>1.0</td>\n      <td>39.0</td>\n      <td>45.00000374836847</td>\n      <td>45.01000368615005</td>\n      <td>12.415000073</td>\n      <td>12.430000066</td>\n      <td>46.0</td>\n      <td>1.0</td>\n      <td>13.0</td>\n      <td>1.0</td>\n      <td>0.0</td>\n      <td>0.0</td>\n      <td>0.0</td>\n      <td>0.0</td>\n      <td>None</td>\n    </tr>\n    <tr>\n      <th>4</th>\n      <td>R1C40</td>\n      <td>1.0</td>\n      <td>40.0</td>\n      <td>45.00000374836847</td>\n      <td>45.01000368615005</td>\n      <td>12.40000008</td>\n      <td>12.415000073</td>\n      <td>17.0</td>\n      <td>0.0</td>\n      <td>6.0</td>\n      <td>0.0</td>\n      <td>0.0</td>\n      <td>0.0</td>\n      <td>0.0</td>\n      <td>0.0</td>\n      <td>None</td>\n    </tr>\n    <tr>\n      <th>...</th>\n      <td>...</td>\n      <td>...</td>\n      <td>...</td>\n      <td>...</td>\n      <td>...</td>\n      <td>...</td>\n      <td>...</td>\n      <td>...</td>\n      <td>...</td>\n      <td>...</td>\n      <td>...</td>\n      <td>...</td>\n      <td>...</td>\n      <td>...</td>\n      <td>...</td>\n      <td>...</td>\n    </tr>\n    <tr>\n      <th>7663</th>\n      <td>R100C96</td>\n      <td>100.0</td>\n      <td>96.0</td>\n      <td>45.98999758874481</td>\n      <td>45.999997526526386</td>\n      <td>11.560000472</td>\n      <td>11.575000465</td>\n      <td>1.0</td>\n      <td>0.0</td>\n      <td>2.0</td>\n      <td>0.0</td>\n      <td>0.0</td>\n      <td>0.0</td>\n      <td>0.0</td>\n      <td>0.0</td>\n      <td>None</td>\n    </tr>\n    <tr>\n      <th>7664</th>\n      <td>R100C97</td>\n      <td>100.0</td>\n      <td>97.0</td>\n      <td>45.98999758874481</td>\n      <td>45.999997526526386</td>\n      <td>11.545000479</td>\n      <td>11.560000472</td>\n      <td>17.0</td>\n      <td>0.0</td>\n      <td>0.0</td>\n      <td>0.0</td>\n      <td>0.0</td>\n      <td>4.0</td>\n      <td>0.0</td>\n      <td>0.0</td>\n      <td>None</td>\n    </tr>\n    <tr>\n      <th>7665</th>\n      <td>R100C98</td>\n      <td>100.0</td>\n      <td>98.0</td>\n      <td>45.98999758874481</td>\n      <td>45.999997526526386</td>\n      <td>11.530000486</td>\n      <td>11.545000479</td>\n      <td>182.0</td>\n      <td>0.0</td>\n      <td>12.0</td>\n      <td>0.0</td>\n      <td>0.0</td>\n      <td>3.0</td>\n      <td>0.0</td>\n      <td>0.0</td>\n      <td>None</td>\n    </tr>\n    <tr>\n      <th>7666</th>\n      <td>R100C99</td>\n      <td>100.0</td>\n      <td>99.0</td>\n      <td>45.98999758874481</td>\n      <td>45.999997526526386</td>\n      <td>11.515000493</td>\n      <td>11.530000486</td>\n      <td>171.0</td>\n      <td>0.0</td>\n      <td>22.0</td>\n      <td>1.0</td>\n      <td>0.0</td>\n      <td>6.0</td>\n      <td>0.0</td>\n      <td>0.0</td>\n      <td>None</td>\n    </tr>\n    <tr>\n      <th>7667</th>\n      <td>R100C100</td>\n      <td>100.0</td>\n      <td>100.0</td>\n      <td>45.98999758874481</td>\n      <td>45.999997526526386</td>\n      <td>11.5000005</td>\n      <td>11.515000493</td>\n      <td>3.0</td>\n      <td>0.0</td>\n      <td>5.0</td>\n      <td>0.0</td>\n      <td>0.0</td>\n      <td>3.0</td>\n      <td>0.0</td>\n      <td>0.0</td>\n      <td>None</td>\n    </tr>\n  </tbody>\n</table>\n<p>7668 rows × 16 columns</p>\n</div>"
     },
     "execution_count": 78,
     "metadata": {},
     "output_type": "execute_result"
    }
   ],
   "source": [
    "gdf = gpd.read_file('1. filtered_df.csv')\n",
    "gdf"
   ],
   "metadata": {
    "collapsed": false,
    "pycharm": {
     "name": "#%%\n"
    }
   }
  },
  {
   "cell_type": "code",
   "execution_count": 79,
   "outputs": [
    {
     "name": "stdout",
     "output_type": "stream",
     "text": [
      "nature\n",
      "entartainment\n",
      "transports\n",
      "art\n",
      "sport\n",
      "tourism\n",
      "security\n",
      "accessibility\n"
     ]
    }
   ],
   "source": [
    "columns_to_normalize = ['nature', 'entartainment', 'transports', 'art', 'sport', 'tourism', 'security', 'accessibility']\n",
    "\n",
    "for column in columns_to_normalize:\n",
    "    print(column)\n",
    "    gdf[column] = [float(x) for x in gdf[column]]\n",
    "\n",
    "    # normalization\n",
    "    gdf[column] = (gdf[column] - gdf[column].mean())\n",
    "    gdf[column] = gdf[column] / gdf[column].std()\n",
    "\n",
    "    # removing outliers\n",
    "    low = gdf[column].quantile(0.01)\n",
    "    gdf.loc[gdf[column] < low, column] = low\n",
    "\n",
    "    high = gdf[column].quantile(0.99)\n",
    "    gdf.loc[gdf[column] > high, column] = high"
   ],
   "metadata": {
    "collapsed": false,
    "pycharm": {
     "name": "#%%\n"
    }
   }
  },
  {
   "cell_type": "code",
   "execution_count": 80,
   "outputs": [
    {
     "data": {
      "text/plain": "       field_1    row column            lat_min             lat_max  \\\n0        R1C36    1.0   36.0  45.00000374836847   45.01000368615005   \n1        R1C37    1.0   37.0  45.00000374836847   45.01000368615005   \n2        R1C38    1.0   38.0  45.00000374836847   45.01000368615005   \n3        R1C39    1.0   39.0  45.00000374836847   45.01000368615005   \n4        R1C40    1.0   40.0  45.00000374836847   45.01000368615005   \n...        ...    ...    ...                ...                 ...   \n7663   R100C96  100.0   96.0  45.98999758874481  45.999997526526386   \n7664   R100C97  100.0   97.0  45.98999758874481  45.999997526526386   \n7665   R100C98  100.0   98.0  45.98999758874481  45.999997526526386   \n7666   R100C99  100.0   99.0  45.98999758874481  45.999997526526386   \n7667  R100C100  100.0  100.0  45.98999758874481  45.999997526526386   \n\n           lon_min       lon_max    nature  entartainment  transports  \\\n0     12.460000052  12.475000045 -0.361967      -0.192540   -0.519726   \n1     12.445000059  12.460000052 -0.389104      -0.192540   -0.519726   \n2     12.430000066  12.445000059  0.330047      -0.192540   -0.498072   \n3     12.415000073  12.430000066  0.221496      -0.109703   -0.378978   \n4      12.40000008  12.415000073 -0.172002      -0.192540   -0.454765   \n...            ...           ...       ...            ...         ...   \n7663  11.560000472  11.575000465 -0.389104      -0.192540   -0.498072   \n7664  11.545000479  11.560000472 -0.172002      -0.192540   -0.519726   \n7665  11.530000486  11.545000479  2.066867      -0.192540   -0.389805   \n7666  11.515000493  11.530000486  1.917609      -0.192540   -0.281537   \n7667    11.5000005  11.515000493 -0.361967      -0.192540   -0.465592   \n\n           art     sport   tourism  security  accessibility geometry  \n0    -0.437702 -0.338725 -0.254013 -0.216382      -0.188927     None  \n1    -0.437702 -0.338725 -0.254013 -0.216382      -0.188927     None  \n2    -0.437702 -0.338725 -0.254013 -0.216382      -0.188927     None  \n3     0.091933 -0.338725 -0.254013 -0.216382      -0.188927     None  \n4    -0.437702 -0.338725 -0.254013 -0.216382      -0.188927     None  \n...        ...       ...       ...       ...            ...      ...  \n7663 -0.437702 -0.338725 -0.254013 -0.216382      -0.188927     None  \n7664 -0.437702 -0.338725  0.633456 -0.216382      -0.188927     None  \n7665 -0.437702 -0.338725  0.411589 -0.216382      -0.188927     None  \n7666  0.091933 -0.338725  1.077190 -0.216382      -0.188927     None  \n7667 -0.437702 -0.338725  0.411589 -0.216382      -0.188927     None  \n\n[7668 rows x 16 columns]",
      "text/html": "<div>\n<style scoped>\n    .dataframe tbody tr th:only-of-type {\n        vertical-align: middle;\n    }\n\n    .dataframe tbody tr th {\n        vertical-align: top;\n    }\n\n    .dataframe thead th {\n        text-align: right;\n    }\n</style>\n<table border=\"1\" class=\"dataframe\">\n  <thead>\n    <tr style=\"text-align: right;\">\n      <th></th>\n      <th>field_1</th>\n      <th>row</th>\n      <th>column</th>\n      <th>lat_min</th>\n      <th>lat_max</th>\n      <th>lon_min</th>\n      <th>lon_max</th>\n      <th>nature</th>\n      <th>entartainment</th>\n      <th>transports</th>\n      <th>art</th>\n      <th>sport</th>\n      <th>tourism</th>\n      <th>security</th>\n      <th>accessibility</th>\n      <th>geometry</th>\n    </tr>\n  </thead>\n  <tbody>\n    <tr>\n      <th>0</th>\n      <td>R1C36</td>\n      <td>1.0</td>\n      <td>36.0</td>\n      <td>45.00000374836847</td>\n      <td>45.01000368615005</td>\n      <td>12.460000052</td>\n      <td>12.475000045</td>\n      <td>-0.361967</td>\n      <td>-0.192540</td>\n      <td>-0.519726</td>\n      <td>-0.437702</td>\n      <td>-0.338725</td>\n      <td>-0.254013</td>\n      <td>-0.216382</td>\n      <td>-0.188927</td>\n      <td>None</td>\n    </tr>\n    <tr>\n      <th>1</th>\n      <td>R1C37</td>\n      <td>1.0</td>\n      <td>37.0</td>\n      <td>45.00000374836847</td>\n      <td>45.01000368615005</td>\n      <td>12.445000059</td>\n      <td>12.460000052</td>\n      <td>-0.389104</td>\n      <td>-0.192540</td>\n      <td>-0.519726</td>\n      <td>-0.437702</td>\n      <td>-0.338725</td>\n      <td>-0.254013</td>\n      <td>-0.216382</td>\n      <td>-0.188927</td>\n      <td>None</td>\n    </tr>\n    <tr>\n      <th>2</th>\n      <td>R1C38</td>\n      <td>1.0</td>\n      <td>38.0</td>\n      <td>45.00000374836847</td>\n      <td>45.01000368615005</td>\n      <td>12.430000066</td>\n      <td>12.445000059</td>\n      <td>0.330047</td>\n      <td>-0.192540</td>\n      <td>-0.498072</td>\n      <td>-0.437702</td>\n      <td>-0.338725</td>\n      <td>-0.254013</td>\n      <td>-0.216382</td>\n      <td>-0.188927</td>\n      <td>None</td>\n    </tr>\n    <tr>\n      <th>3</th>\n      <td>R1C39</td>\n      <td>1.0</td>\n      <td>39.0</td>\n      <td>45.00000374836847</td>\n      <td>45.01000368615005</td>\n      <td>12.415000073</td>\n      <td>12.430000066</td>\n      <td>0.221496</td>\n      <td>-0.109703</td>\n      <td>-0.378978</td>\n      <td>0.091933</td>\n      <td>-0.338725</td>\n      <td>-0.254013</td>\n      <td>-0.216382</td>\n      <td>-0.188927</td>\n      <td>None</td>\n    </tr>\n    <tr>\n      <th>4</th>\n      <td>R1C40</td>\n      <td>1.0</td>\n      <td>40.0</td>\n      <td>45.00000374836847</td>\n      <td>45.01000368615005</td>\n      <td>12.40000008</td>\n      <td>12.415000073</td>\n      <td>-0.172002</td>\n      <td>-0.192540</td>\n      <td>-0.454765</td>\n      <td>-0.437702</td>\n      <td>-0.338725</td>\n      <td>-0.254013</td>\n      <td>-0.216382</td>\n      <td>-0.188927</td>\n      <td>None</td>\n    </tr>\n    <tr>\n      <th>...</th>\n      <td>...</td>\n      <td>...</td>\n      <td>...</td>\n      <td>...</td>\n      <td>...</td>\n      <td>...</td>\n      <td>...</td>\n      <td>...</td>\n      <td>...</td>\n      <td>...</td>\n      <td>...</td>\n      <td>...</td>\n      <td>...</td>\n      <td>...</td>\n      <td>...</td>\n      <td>...</td>\n    </tr>\n    <tr>\n      <th>7663</th>\n      <td>R100C96</td>\n      <td>100.0</td>\n      <td>96.0</td>\n      <td>45.98999758874481</td>\n      <td>45.999997526526386</td>\n      <td>11.560000472</td>\n      <td>11.575000465</td>\n      <td>-0.389104</td>\n      <td>-0.192540</td>\n      <td>-0.498072</td>\n      <td>-0.437702</td>\n      <td>-0.338725</td>\n      <td>-0.254013</td>\n      <td>-0.216382</td>\n      <td>-0.188927</td>\n      <td>None</td>\n    </tr>\n    <tr>\n      <th>7664</th>\n      <td>R100C97</td>\n      <td>100.0</td>\n      <td>97.0</td>\n      <td>45.98999758874481</td>\n      <td>45.999997526526386</td>\n      <td>11.545000479</td>\n      <td>11.560000472</td>\n      <td>-0.172002</td>\n      <td>-0.192540</td>\n      <td>-0.519726</td>\n      <td>-0.437702</td>\n      <td>-0.338725</td>\n      <td>0.633456</td>\n      <td>-0.216382</td>\n      <td>-0.188927</td>\n      <td>None</td>\n    </tr>\n    <tr>\n      <th>7665</th>\n      <td>R100C98</td>\n      <td>100.0</td>\n      <td>98.0</td>\n      <td>45.98999758874481</td>\n      <td>45.999997526526386</td>\n      <td>11.530000486</td>\n      <td>11.545000479</td>\n      <td>2.066867</td>\n      <td>-0.192540</td>\n      <td>-0.389805</td>\n      <td>-0.437702</td>\n      <td>-0.338725</td>\n      <td>0.411589</td>\n      <td>-0.216382</td>\n      <td>-0.188927</td>\n      <td>None</td>\n    </tr>\n    <tr>\n      <th>7666</th>\n      <td>R100C99</td>\n      <td>100.0</td>\n      <td>99.0</td>\n      <td>45.98999758874481</td>\n      <td>45.999997526526386</td>\n      <td>11.515000493</td>\n      <td>11.530000486</td>\n      <td>1.917609</td>\n      <td>-0.192540</td>\n      <td>-0.281537</td>\n      <td>0.091933</td>\n      <td>-0.338725</td>\n      <td>1.077190</td>\n      <td>-0.216382</td>\n      <td>-0.188927</td>\n      <td>None</td>\n    </tr>\n    <tr>\n      <th>7667</th>\n      <td>R100C100</td>\n      <td>100.0</td>\n      <td>100.0</td>\n      <td>45.98999758874481</td>\n      <td>45.999997526526386</td>\n      <td>11.5000005</td>\n      <td>11.515000493</td>\n      <td>-0.361967</td>\n      <td>-0.192540</td>\n      <td>-0.465592</td>\n      <td>-0.437702</td>\n      <td>-0.338725</td>\n      <td>0.411589</td>\n      <td>-0.216382</td>\n      <td>-0.188927</td>\n      <td>None</td>\n    </tr>\n  </tbody>\n</table>\n<p>7668 rows × 16 columns</p>\n</div>"
     },
     "execution_count": 80,
     "metadata": {},
     "output_type": "execute_result"
    }
   ],
   "source": [
    "gdf"
   ],
   "metadata": {
    "collapsed": false,
    "pycharm": {
     "name": "#%%\n"
    }
   }
  },
  {
   "cell_type": "code",
   "execution_count": 81,
   "outputs": [],
   "source": [
    "lat_min_list = [float(x) for x in gdf.lat_min.to_list()]\n",
    "lat_max_list = [float(x) for x in gdf.lat_max.to_list()]\n",
    "\n",
    "lon_min_list = [float(x) for x in gdf.lon_min.to_list()]\n",
    "lon_max_list = [float(x) for x in gdf.lon_max.to_list()]"
   ],
   "metadata": {
    "collapsed": false,
    "pycharm": {
     "name": "#%%\n"
    }
   }
  },
  {
   "cell_type": "code",
   "execution_count": 82,
   "outputs": [],
   "source": [
    "polygons = []\n",
    "\n",
    "for lat_min, lat_max, lon_min, lon_max in zip(lat_min_list, lat_max_list, lon_min_list, lon_max_list):\n",
    "    polygons.append(Polygon([(lon_max, lat_max), (lon_min, lat_max), (lon_min, lat_min), (lon_max, lat_min)]))"
   ],
   "metadata": {
    "collapsed": false,
    "pycharm": {
     "name": "#%%\n"
    }
   }
  },
  {
   "cell_type": "code",
   "execution_count": 83,
   "outputs": [
    {
     "data": {
      "text/plain": "       field_1    row column            lat_min             lat_max  \\\n0        R1C36    1.0   36.0  45.00000374836847   45.01000368615005   \n1        R1C37    1.0   37.0  45.00000374836847   45.01000368615005   \n2        R1C38    1.0   38.0  45.00000374836847   45.01000368615005   \n3        R1C39    1.0   39.0  45.00000374836847   45.01000368615005   \n4        R1C40    1.0   40.0  45.00000374836847   45.01000368615005   \n...        ...    ...    ...                ...                 ...   \n7663   R100C96  100.0   96.0  45.98999758874481  45.999997526526386   \n7664   R100C97  100.0   97.0  45.98999758874481  45.999997526526386   \n7665   R100C98  100.0   98.0  45.98999758874481  45.999997526526386   \n7666   R100C99  100.0   99.0  45.98999758874481  45.999997526526386   \n7667  R100C100  100.0  100.0  45.98999758874481  45.999997526526386   \n\n           lon_min       lon_max    nature  entartainment  transports  \\\n0     12.460000052  12.475000045 -0.361967      -0.192540   -0.519726   \n1     12.445000059  12.460000052 -0.389104      -0.192540   -0.519726   \n2     12.430000066  12.445000059  0.330047      -0.192540   -0.498072   \n3     12.415000073  12.430000066  0.221496      -0.109703   -0.378978   \n4      12.40000008  12.415000073 -0.172002      -0.192540   -0.454765   \n...            ...           ...       ...            ...         ...   \n7663  11.560000472  11.575000465 -0.389104      -0.192540   -0.498072   \n7664  11.545000479  11.560000472 -0.172002      -0.192540   -0.519726   \n7665  11.530000486  11.545000479  2.066867      -0.192540   -0.389805   \n7666  11.515000493  11.530000486  1.917609      -0.192540   -0.281537   \n7667    11.5000005  11.515000493 -0.361967      -0.192540   -0.465592   \n\n           art     sport   tourism  security  accessibility  \\\n0    -0.437702 -0.338725 -0.254013 -0.216382      -0.188927   \n1    -0.437702 -0.338725 -0.254013 -0.216382      -0.188927   \n2    -0.437702 -0.338725 -0.254013 -0.216382      -0.188927   \n3     0.091933 -0.338725 -0.254013 -0.216382      -0.188927   \n4    -0.437702 -0.338725 -0.254013 -0.216382      -0.188927   \n...        ...       ...       ...       ...            ...   \n7663 -0.437702 -0.338725 -0.254013 -0.216382      -0.188927   \n7664 -0.437702 -0.338725  0.633456 -0.216382      -0.188927   \n7665 -0.437702 -0.338725  0.411589 -0.216382      -0.188927   \n7666  0.091933 -0.338725  1.077190 -0.216382      -0.188927   \n7667 -0.437702 -0.338725  0.411589 -0.216382      -0.188927   \n\n                                               geometry  \n0     POLYGON ((12.47500 45.01000, 12.46000 45.01000...  \n1     POLYGON ((12.46000 45.01000, 12.44500 45.01000...  \n2     POLYGON ((12.44500 45.01000, 12.43000 45.01000...  \n3     POLYGON ((12.43000 45.01000, 12.41500 45.01000...  \n4     POLYGON ((12.41500 45.01000, 12.40000 45.01000...  \n...                                                 ...  \n7663  POLYGON ((11.57500 46.00000, 11.56000 46.00000...  \n7664  POLYGON ((11.56000 46.00000, 11.54500 46.00000...  \n7665  POLYGON ((11.54500 46.00000, 11.53000 46.00000...  \n7666  POLYGON ((11.53000 46.00000, 11.51500 46.00000...  \n7667  POLYGON ((11.51500 46.00000, 11.50000 46.00000...  \n\n[7668 rows x 16 columns]",
      "text/html": "<div>\n<style scoped>\n    .dataframe tbody tr th:only-of-type {\n        vertical-align: middle;\n    }\n\n    .dataframe tbody tr th {\n        vertical-align: top;\n    }\n\n    .dataframe thead th {\n        text-align: right;\n    }\n</style>\n<table border=\"1\" class=\"dataframe\">\n  <thead>\n    <tr style=\"text-align: right;\">\n      <th></th>\n      <th>field_1</th>\n      <th>row</th>\n      <th>column</th>\n      <th>lat_min</th>\n      <th>lat_max</th>\n      <th>lon_min</th>\n      <th>lon_max</th>\n      <th>nature</th>\n      <th>entartainment</th>\n      <th>transports</th>\n      <th>art</th>\n      <th>sport</th>\n      <th>tourism</th>\n      <th>security</th>\n      <th>accessibility</th>\n      <th>geometry</th>\n    </tr>\n  </thead>\n  <tbody>\n    <tr>\n      <th>0</th>\n      <td>R1C36</td>\n      <td>1.0</td>\n      <td>36.0</td>\n      <td>45.00000374836847</td>\n      <td>45.01000368615005</td>\n      <td>12.460000052</td>\n      <td>12.475000045</td>\n      <td>-0.361967</td>\n      <td>-0.192540</td>\n      <td>-0.519726</td>\n      <td>-0.437702</td>\n      <td>-0.338725</td>\n      <td>-0.254013</td>\n      <td>-0.216382</td>\n      <td>-0.188927</td>\n      <td>POLYGON ((12.47500 45.01000, 12.46000 45.01000...</td>\n    </tr>\n    <tr>\n      <th>1</th>\n      <td>R1C37</td>\n      <td>1.0</td>\n      <td>37.0</td>\n      <td>45.00000374836847</td>\n      <td>45.01000368615005</td>\n      <td>12.445000059</td>\n      <td>12.460000052</td>\n      <td>-0.389104</td>\n      <td>-0.192540</td>\n      <td>-0.519726</td>\n      <td>-0.437702</td>\n      <td>-0.338725</td>\n      <td>-0.254013</td>\n      <td>-0.216382</td>\n      <td>-0.188927</td>\n      <td>POLYGON ((12.46000 45.01000, 12.44500 45.01000...</td>\n    </tr>\n    <tr>\n      <th>2</th>\n      <td>R1C38</td>\n      <td>1.0</td>\n      <td>38.0</td>\n      <td>45.00000374836847</td>\n      <td>45.01000368615005</td>\n      <td>12.430000066</td>\n      <td>12.445000059</td>\n      <td>0.330047</td>\n      <td>-0.192540</td>\n      <td>-0.498072</td>\n      <td>-0.437702</td>\n      <td>-0.338725</td>\n      <td>-0.254013</td>\n      <td>-0.216382</td>\n      <td>-0.188927</td>\n      <td>POLYGON ((12.44500 45.01000, 12.43000 45.01000...</td>\n    </tr>\n    <tr>\n      <th>3</th>\n      <td>R1C39</td>\n      <td>1.0</td>\n      <td>39.0</td>\n      <td>45.00000374836847</td>\n      <td>45.01000368615005</td>\n      <td>12.415000073</td>\n      <td>12.430000066</td>\n      <td>0.221496</td>\n      <td>-0.109703</td>\n      <td>-0.378978</td>\n      <td>0.091933</td>\n      <td>-0.338725</td>\n      <td>-0.254013</td>\n      <td>-0.216382</td>\n      <td>-0.188927</td>\n      <td>POLYGON ((12.43000 45.01000, 12.41500 45.01000...</td>\n    </tr>\n    <tr>\n      <th>4</th>\n      <td>R1C40</td>\n      <td>1.0</td>\n      <td>40.0</td>\n      <td>45.00000374836847</td>\n      <td>45.01000368615005</td>\n      <td>12.40000008</td>\n      <td>12.415000073</td>\n      <td>-0.172002</td>\n      <td>-0.192540</td>\n      <td>-0.454765</td>\n      <td>-0.437702</td>\n      <td>-0.338725</td>\n      <td>-0.254013</td>\n      <td>-0.216382</td>\n      <td>-0.188927</td>\n      <td>POLYGON ((12.41500 45.01000, 12.40000 45.01000...</td>\n    </tr>\n    <tr>\n      <th>...</th>\n      <td>...</td>\n      <td>...</td>\n      <td>...</td>\n      <td>...</td>\n      <td>...</td>\n      <td>...</td>\n      <td>...</td>\n      <td>...</td>\n      <td>...</td>\n      <td>...</td>\n      <td>...</td>\n      <td>...</td>\n      <td>...</td>\n      <td>...</td>\n      <td>...</td>\n      <td>...</td>\n    </tr>\n    <tr>\n      <th>7663</th>\n      <td>R100C96</td>\n      <td>100.0</td>\n      <td>96.0</td>\n      <td>45.98999758874481</td>\n      <td>45.999997526526386</td>\n      <td>11.560000472</td>\n      <td>11.575000465</td>\n      <td>-0.389104</td>\n      <td>-0.192540</td>\n      <td>-0.498072</td>\n      <td>-0.437702</td>\n      <td>-0.338725</td>\n      <td>-0.254013</td>\n      <td>-0.216382</td>\n      <td>-0.188927</td>\n      <td>POLYGON ((11.57500 46.00000, 11.56000 46.00000...</td>\n    </tr>\n    <tr>\n      <th>7664</th>\n      <td>R100C97</td>\n      <td>100.0</td>\n      <td>97.0</td>\n      <td>45.98999758874481</td>\n      <td>45.999997526526386</td>\n      <td>11.545000479</td>\n      <td>11.560000472</td>\n      <td>-0.172002</td>\n      <td>-0.192540</td>\n      <td>-0.519726</td>\n      <td>-0.437702</td>\n      <td>-0.338725</td>\n      <td>0.633456</td>\n      <td>-0.216382</td>\n      <td>-0.188927</td>\n      <td>POLYGON ((11.56000 46.00000, 11.54500 46.00000...</td>\n    </tr>\n    <tr>\n      <th>7665</th>\n      <td>R100C98</td>\n      <td>100.0</td>\n      <td>98.0</td>\n      <td>45.98999758874481</td>\n      <td>45.999997526526386</td>\n      <td>11.530000486</td>\n      <td>11.545000479</td>\n      <td>2.066867</td>\n      <td>-0.192540</td>\n      <td>-0.389805</td>\n      <td>-0.437702</td>\n      <td>-0.338725</td>\n      <td>0.411589</td>\n      <td>-0.216382</td>\n      <td>-0.188927</td>\n      <td>POLYGON ((11.54500 46.00000, 11.53000 46.00000...</td>\n    </tr>\n    <tr>\n      <th>7666</th>\n      <td>R100C99</td>\n      <td>100.0</td>\n      <td>99.0</td>\n      <td>45.98999758874481</td>\n      <td>45.999997526526386</td>\n      <td>11.515000493</td>\n      <td>11.530000486</td>\n      <td>1.917609</td>\n      <td>-0.192540</td>\n      <td>-0.281537</td>\n      <td>0.091933</td>\n      <td>-0.338725</td>\n      <td>1.077190</td>\n      <td>-0.216382</td>\n      <td>-0.188927</td>\n      <td>POLYGON ((11.53000 46.00000, 11.51500 46.00000...</td>\n    </tr>\n    <tr>\n      <th>7667</th>\n      <td>R100C100</td>\n      <td>100.0</td>\n      <td>100.0</td>\n      <td>45.98999758874481</td>\n      <td>45.999997526526386</td>\n      <td>11.5000005</td>\n      <td>11.515000493</td>\n      <td>-0.361967</td>\n      <td>-0.192540</td>\n      <td>-0.465592</td>\n      <td>-0.437702</td>\n      <td>-0.338725</td>\n      <td>0.411589</td>\n      <td>-0.216382</td>\n      <td>-0.188927</td>\n      <td>POLYGON ((11.51500 46.00000, 11.50000 46.00000...</td>\n    </tr>\n  </tbody>\n</table>\n<p>7668 rows × 16 columns</p>\n</div>"
     },
     "execution_count": 83,
     "metadata": {},
     "output_type": "execute_result"
    }
   ],
   "source": [
    "gdf['geometry'] = polygons\n",
    "gdf"
   ],
   "metadata": {
    "collapsed": false,
    "pycharm": {
     "name": "#%%\n"
    }
   }
  },
  {
   "cell_type": "code",
   "execution_count": 86,
   "outputs": [],
   "source": [
    "gdf.to_csv('map_to_export.csv')"
   ],
   "metadata": {
    "collapsed": false,
    "pycharm": {
     "name": "#%%\n"
    }
   }
  },
  {
   "cell_type": "code",
   "execution_count": 85,
   "outputs": [
    {
     "data": {
      "text/plain": "field_1            object\nrow                object\ncolumn             object\nlat_min            object\nlat_max            object\nlon_min            object\nlon_max            object\nnature            float64\nentartainment     float64\ntransports        float64\nart               float64\nsport             float64\ntourism           float64\nsecurity          float64\naccessibility     float64\ngeometry         geometry\ndtype: object"
     },
     "execution_count": 85,
     "metadata": {},
     "output_type": "execute_result"
    }
   ],
   "source": [
    "gdf.dtypes"
   ],
   "metadata": {
    "collapsed": false,
    "pycharm": {
     "name": "#%%\n"
    }
   }
  },
  {
   "cell_type": "code",
   "execution_count": 113,
   "outputs": [],
   "source": [
    "exporting_df = gdf.drop('field_1', axis = 1)"
   ],
   "metadata": {
    "collapsed": false,
    "pycharm": {
     "name": "#%%\n"
    }
   }
  },
  {
   "cell_type": "code",
   "execution_count": 114,
   "outputs": [],
   "source": [
    "exporting_df = exporting_df.drop(['geometry', 'row', 'column', 'lat_min', 'lat_max', 'lon_min', 'lon_max'], axis =1).astype(float).round(6)\n",
    "exporting_df['geometry'] = gdf.geometry"
   ],
   "metadata": {
    "collapsed": false,
    "pycharm": {
     "name": "#%%\n"
    }
   }
  },
  {
   "cell_type": "code",
   "execution_count": 115,
   "outputs": [
    {
     "data": {
      "text/plain": "        nature  entartainment  transports       art     sport   tourism  \\\n0    -0.361967      -0.192540   -0.519726 -0.437702 -0.338725 -0.254013   \n1    -0.389104      -0.192540   -0.519726 -0.437702 -0.338725 -0.254013   \n2     0.330047      -0.192540   -0.498072 -0.437702 -0.338725 -0.254013   \n3     0.221496      -0.109703   -0.378978  0.091933 -0.338725 -0.254013   \n4    -0.172002      -0.192540   -0.454765 -0.437702 -0.338725 -0.254013   \n...        ...            ...         ...       ...       ...       ...   \n7663 -0.389104      -0.192540   -0.498072 -0.437702 -0.338725 -0.254013   \n7664 -0.172002      -0.192540   -0.519726 -0.437702 -0.338725  0.633456   \n7665  2.066867      -0.192540   -0.389805 -0.437702 -0.338725  0.411589   \n7666  1.917609      -0.192540   -0.281537  0.091933 -0.338725  1.077190   \n7667 -0.361967      -0.192540   -0.465592 -0.437702 -0.338725  0.411589   \n\n      security  accessibility  \\\n0    -0.216382      -0.188927   \n1    -0.216382      -0.188927   \n2    -0.216382      -0.188927   \n3    -0.216382      -0.188927   \n4    -0.216382      -0.188927   \n...        ...            ...   \n7663 -0.216382      -0.188927   \n7664 -0.216382      -0.188927   \n7665 -0.216382      -0.188927   \n7666 -0.216382      -0.188927   \n7667 -0.216382      -0.188927   \n\n                                               geometry  \n0     POLYGON ((12.47500 45.01000, 12.46000 45.01000...  \n1     POLYGON ((12.46000 45.01000, 12.44500 45.01000...  \n2     POLYGON ((12.44500 45.01000, 12.43000 45.01000...  \n3     POLYGON ((12.43000 45.01000, 12.41500 45.01000...  \n4     POLYGON ((12.41500 45.01000, 12.40000 45.01000...  \n...                                                 ...  \n7663  POLYGON ((11.57500 46.00000, 11.56000 46.00000...  \n7664  POLYGON ((11.56000 46.00000, 11.54500 46.00000...  \n7665  POLYGON ((11.54500 46.00000, 11.53000 46.00000...  \n7666  POLYGON ((11.53000 46.00000, 11.51500 46.00000...  \n7667  POLYGON ((11.51500 46.00000, 11.50000 46.00000...  \n\n[7668 rows x 9 columns]",
      "text/html": "<div>\n<style scoped>\n    .dataframe tbody tr th:only-of-type {\n        vertical-align: middle;\n    }\n\n    .dataframe tbody tr th {\n        vertical-align: top;\n    }\n\n    .dataframe thead th {\n        text-align: right;\n    }\n</style>\n<table border=\"1\" class=\"dataframe\">\n  <thead>\n    <tr style=\"text-align: right;\">\n      <th></th>\n      <th>nature</th>\n      <th>entartainment</th>\n      <th>transports</th>\n      <th>art</th>\n      <th>sport</th>\n      <th>tourism</th>\n      <th>security</th>\n      <th>accessibility</th>\n      <th>geometry</th>\n    </tr>\n  </thead>\n  <tbody>\n    <tr>\n      <th>0</th>\n      <td>-0.361967</td>\n      <td>-0.192540</td>\n      <td>-0.519726</td>\n      <td>-0.437702</td>\n      <td>-0.338725</td>\n      <td>-0.254013</td>\n      <td>-0.216382</td>\n      <td>-0.188927</td>\n      <td>POLYGON ((12.47500 45.01000, 12.46000 45.01000...</td>\n    </tr>\n    <tr>\n      <th>1</th>\n      <td>-0.389104</td>\n      <td>-0.192540</td>\n      <td>-0.519726</td>\n      <td>-0.437702</td>\n      <td>-0.338725</td>\n      <td>-0.254013</td>\n      <td>-0.216382</td>\n      <td>-0.188927</td>\n      <td>POLYGON ((12.46000 45.01000, 12.44500 45.01000...</td>\n    </tr>\n    <tr>\n      <th>2</th>\n      <td>0.330047</td>\n      <td>-0.192540</td>\n      <td>-0.498072</td>\n      <td>-0.437702</td>\n      <td>-0.338725</td>\n      <td>-0.254013</td>\n      <td>-0.216382</td>\n      <td>-0.188927</td>\n      <td>POLYGON ((12.44500 45.01000, 12.43000 45.01000...</td>\n    </tr>\n    <tr>\n      <th>3</th>\n      <td>0.221496</td>\n      <td>-0.109703</td>\n      <td>-0.378978</td>\n      <td>0.091933</td>\n      <td>-0.338725</td>\n      <td>-0.254013</td>\n      <td>-0.216382</td>\n      <td>-0.188927</td>\n      <td>POLYGON ((12.43000 45.01000, 12.41500 45.01000...</td>\n    </tr>\n    <tr>\n      <th>4</th>\n      <td>-0.172002</td>\n      <td>-0.192540</td>\n      <td>-0.454765</td>\n      <td>-0.437702</td>\n      <td>-0.338725</td>\n      <td>-0.254013</td>\n      <td>-0.216382</td>\n      <td>-0.188927</td>\n      <td>POLYGON ((12.41500 45.01000, 12.40000 45.01000...</td>\n    </tr>\n    <tr>\n      <th>...</th>\n      <td>...</td>\n      <td>...</td>\n      <td>...</td>\n      <td>...</td>\n      <td>...</td>\n      <td>...</td>\n      <td>...</td>\n      <td>...</td>\n      <td>...</td>\n    </tr>\n    <tr>\n      <th>7663</th>\n      <td>-0.389104</td>\n      <td>-0.192540</td>\n      <td>-0.498072</td>\n      <td>-0.437702</td>\n      <td>-0.338725</td>\n      <td>-0.254013</td>\n      <td>-0.216382</td>\n      <td>-0.188927</td>\n      <td>POLYGON ((11.57500 46.00000, 11.56000 46.00000...</td>\n    </tr>\n    <tr>\n      <th>7664</th>\n      <td>-0.172002</td>\n      <td>-0.192540</td>\n      <td>-0.519726</td>\n      <td>-0.437702</td>\n      <td>-0.338725</td>\n      <td>0.633456</td>\n      <td>-0.216382</td>\n      <td>-0.188927</td>\n      <td>POLYGON ((11.56000 46.00000, 11.54500 46.00000...</td>\n    </tr>\n    <tr>\n      <th>7665</th>\n      <td>2.066867</td>\n      <td>-0.192540</td>\n      <td>-0.389805</td>\n      <td>-0.437702</td>\n      <td>-0.338725</td>\n      <td>0.411589</td>\n      <td>-0.216382</td>\n      <td>-0.188927</td>\n      <td>POLYGON ((11.54500 46.00000, 11.53000 46.00000...</td>\n    </tr>\n    <tr>\n      <th>7666</th>\n      <td>1.917609</td>\n      <td>-0.192540</td>\n      <td>-0.281537</td>\n      <td>0.091933</td>\n      <td>-0.338725</td>\n      <td>1.077190</td>\n      <td>-0.216382</td>\n      <td>-0.188927</td>\n      <td>POLYGON ((11.53000 46.00000, 11.51500 46.00000...</td>\n    </tr>\n    <tr>\n      <th>7667</th>\n      <td>-0.361967</td>\n      <td>-0.192540</td>\n      <td>-0.465592</td>\n      <td>-0.437702</td>\n      <td>-0.338725</td>\n      <td>0.411589</td>\n      <td>-0.216382</td>\n      <td>-0.188927</td>\n      <td>POLYGON ((11.51500 46.00000, 11.50000 46.00000...</td>\n    </tr>\n  </tbody>\n</table>\n<p>7668 rows × 9 columns</p>\n</div>"
     },
     "execution_count": 115,
     "metadata": {},
     "output_type": "execute_result"
    }
   ],
   "source": [
    "exporting_df"
   ],
   "metadata": {
    "collapsed": false,
    "pycharm": {
     "name": "#%%\n"
    }
   }
  },
  {
   "cell_type": "code",
   "execution_count": 116,
   "outputs": [
    {
     "data": {
      "text/plain": "nature            float64\nentartainment     float64\ntransports        float64\nart               float64\nsport             float64\ntourism           float64\nsecurity          float64\naccessibility     float64\ngeometry         geometry\ndtype: object"
     },
     "execution_count": 116,
     "metadata": {},
     "output_type": "execute_result"
    }
   ],
   "source": [
    "exporting_df.dtypes"
   ],
   "metadata": {
    "collapsed": false,
    "pycharm": {
     "name": "#%%\n"
    }
   }
  },
  {
   "cell_type": "code",
   "execution_count": 118,
   "outputs": [],
   "source": [
    "gpd.GeoDataFrame(exporting_df).to_file('final_map_converted.gpkg', driver = 'GPKG', layer = 'name')"
   ],
   "metadata": {
    "collapsed": false,
    "pycharm": {
     "name": "#%%\n"
    }
   }
  }
 ],
 "metadata": {
  "kernelspec": {
   "name": "geo_env",
   "language": "python",
   "display_name": "geo_env"
  },
  "language_info": {
   "codemirror_mode": {
    "name": "ipython",
    "version": 2
   },
   "file_extension": ".py",
   "mimetype": "text/x-python",
   "name": "python",
   "nbconvert_exporter": "python",
   "pygments_lexer": "ipython2",
   "version": "2.7.6"
  }
 },
 "nbformat": 4,
 "nbformat_minor": 0
}