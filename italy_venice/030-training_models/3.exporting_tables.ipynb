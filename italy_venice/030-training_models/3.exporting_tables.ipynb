{
 "cells": [
  {
   "cell_type": "code",
   "execution_count": 1,
   "metadata": {
    "pycharm": {
     "name": "#%%\n"
    }
   },
   "outputs": [
    {
     "name": "stderr",
     "output_type": "stream",
     "text": [
      "C:\\Users\\gabri\\anaconda3\\envs\\geo_env\\lib\\site-packages\\pyproj\\__init__.py:89: UserWarning: pyproj unable to set database path.\n",
      "  _pyproj_global_context_initialize()\n"
     ]
    }
   ],
   "source": [
    "import geopandas as gpd\n",
    "from shapely.geometry import Polygon\n",
    "import numpy as np"
   ]
  },
  {
   "cell_type": "code",
   "execution_count": 2,
   "metadata": {
    "pycharm": {
     "name": "#%%\n"
    }
   },
   "outputs": [
    {
     "data": {
      "text/plain": "        field_1    row column            lat_min             lat_max  \\\n0          R1C2    1.0    2.0  45.00000374836847  45.005003717259264   \n1          R1C3    1.0    3.0  45.00000374836847  45.005003717259264   \n2          R1C5    1.0    5.0  45.00000374836847  45.005003717259264   \n3          R1C6    1.0    6.0  45.00000374836847  45.005003717259264   \n4          R1C7    1.0    7.0  45.00000374836847  45.005003717259264   \n...         ...    ...    ...                ...                 ...   \n28149  R200C196  200.0  196.0   45.9949975576363  45.999997526527096   \n28150  R200C197  200.0  197.0   45.9949975576363  45.999997526527096   \n28151  R200C198  200.0  198.0   45.9949975576363  45.999997526527096   \n28152  R200C199  200.0  199.0   45.9949975576363  45.999997526527096   \n28153  R200C200  200.0  200.0   45.9949975576363  45.999997526527096   \n\n             lon_min        lon_max nature entartainment transports  art  \\\n0         11.5000005  11.5075004965    0.0           0.0        1.0  0.0   \n1      11.5075004965   11.515000493    0.0           0.0        2.0  0.0   \n2      11.5225004895   11.530000486    0.0           0.0        1.0  0.0   \n3       11.530000486  11.5375004825    0.0           0.0        1.0  0.0   \n4      11.5375004825   11.545000479    0.0           0.0        2.0  0.0   \n...              ...            ...    ...           ...        ...  ...   \n28149   12.954999821  12.9624998175    3.0           1.0        5.0  0.0   \n28150  12.9624998175   12.969999814    4.0           0.0       11.0  1.0   \n28151   12.969999814  12.9774998105    0.0           0.0        1.0  0.0   \n28152  12.9774998105   12.984999807    0.0           0.0        1.0  0.0   \n28153   12.984999807  12.9924998035    1.0           0.0        1.0  0.0   \n\n      sport tourism security accessibility geometry  \n0       0.0     0.0      0.0           0.0     None  \n1       0.0     0.0      0.0           0.0     None  \n2       0.0     0.0      0.0           0.0     None  \n3       0.0     0.0      0.0           0.0     None  \n4       0.0     0.0      0.0           0.0     None  \n...     ...     ...      ...           ...      ...  \n28149   0.0     0.0      0.0           1.0     None  \n28150   3.0     0.0      0.0           0.0     None  \n28151   0.0     0.0      0.0           0.0     None  \n28152   0.0     0.0      0.0           0.0     None  \n28153   0.0     0.0      0.0           0.0     None  \n\n[28154 rows x 16 columns]",
      "text/html": "<div>\n<style scoped>\n    .dataframe tbody tr th:only-of-type {\n        vertical-align: middle;\n    }\n\n    .dataframe tbody tr th {\n        vertical-align: top;\n    }\n\n    .dataframe thead th {\n        text-align: right;\n    }\n</style>\n<table border=\"1\" class=\"dataframe\">\n  <thead>\n    <tr style=\"text-align: right;\">\n      <th></th>\n      <th>field_1</th>\n      <th>row</th>\n      <th>column</th>\n      <th>lat_min</th>\n      <th>lat_max</th>\n      <th>lon_min</th>\n      <th>lon_max</th>\n      <th>nature</th>\n      <th>entartainment</th>\n      <th>transports</th>\n      <th>art</th>\n      <th>sport</th>\n      <th>tourism</th>\n      <th>security</th>\n      <th>accessibility</th>\n      <th>geometry</th>\n    </tr>\n  </thead>\n  <tbody>\n    <tr>\n      <th>0</th>\n      <td>R1C2</td>\n      <td>1.0</td>\n      <td>2.0</td>\n      <td>45.00000374836847</td>\n      <td>45.005003717259264</td>\n      <td>11.5000005</td>\n      <td>11.5075004965</td>\n      <td>0.0</td>\n      <td>0.0</td>\n      <td>1.0</td>\n      <td>0.0</td>\n      <td>0.0</td>\n      <td>0.0</td>\n      <td>0.0</td>\n      <td>0.0</td>\n      <td>None</td>\n    </tr>\n    <tr>\n      <th>1</th>\n      <td>R1C3</td>\n      <td>1.0</td>\n      <td>3.0</td>\n      <td>45.00000374836847</td>\n      <td>45.005003717259264</td>\n      <td>11.5075004965</td>\n      <td>11.515000493</td>\n      <td>0.0</td>\n      <td>0.0</td>\n      <td>2.0</td>\n      <td>0.0</td>\n      <td>0.0</td>\n      <td>0.0</td>\n      <td>0.0</td>\n      <td>0.0</td>\n      <td>None</td>\n    </tr>\n    <tr>\n      <th>2</th>\n      <td>R1C5</td>\n      <td>1.0</td>\n      <td>5.0</td>\n      <td>45.00000374836847</td>\n      <td>45.005003717259264</td>\n      <td>11.5225004895</td>\n      <td>11.530000486</td>\n      <td>0.0</td>\n      <td>0.0</td>\n      <td>1.0</td>\n      <td>0.0</td>\n      <td>0.0</td>\n      <td>0.0</td>\n      <td>0.0</td>\n      <td>0.0</td>\n      <td>None</td>\n    </tr>\n    <tr>\n      <th>3</th>\n      <td>R1C6</td>\n      <td>1.0</td>\n      <td>6.0</td>\n      <td>45.00000374836847</td>\n      <td>45.005003717259264</td>\n      <td>11.530000486</td>\n      <td>11.5375004825</td>\n      <td>0.0</td>\n      <td>0.0</td>\n      <td>1.0</td>\n      <td>0.0</td>\n      <td>0.0</td>\n      <td>0.0</td>\n      <td>0.0</td>\n      <td>0.0</td>\n      <td>None</td>\n    </tr>\n    <tr>\n      <th>4</th>\n      <td>R1C7</td>\n      <td>1.0</td>\n      <td>7.0</td>\n      <td>45.00000374836847</td>\n      <td>45.005003717259264</td>\n      <td>11.5375004825</td>\n      <td>11.545000479</td>\n      <td>0.0</td>\n      <td>0.0</td>\n      <td>2.0</td>\n      <td>0.0</td>\n      <td>0.0</td>\n      <td>0.0</td>\n      <td>0.0</td>\n      <td>0.0</td>\n      <td>None</td>\n    </tr>\n    <tr>\n      <th>...</th>\n      <td>...</td>\n      <td>...</td>\n      <td>...</td>\n      <td>...</td>\n      <td>...</td>\n      <td>...</td>\n      <td>...</td>\n      <td>...</td>\n      <td>...</td>\n      <td>...</td>\n      <td>...</td>\n      <td>...</td>\n      <td>...</td>\n      <td>...</td>\n      <td>...</td>\n      <td>...</td>\n    </tr>\n    <tr>\n      <th>28149</th>\n      <td>R200C196</td>\n      <td>200.0</td>\n      <td>196.0</td>\n      <td>45.9949975576363</td>\n      <td>45.999997526527096</td>\n      <td>12.954999821</td>\n      <td>12.9624998175</td>\n      <td>3.0</td>\n      <td>1.0</td>\n      <td>5.0</td>\n      <td>0.0</td>\n      <td>0.0</td>\n      <td>0.0</td>\n      <td>0.0</td>\n      <td>1.0</td>\n      <td>None</td>\n    </tr>\n    <tr>\n      <th>28150</th>\n      <td>R200C197</td>\n      <td>200.0</td>\n      <td>197.0</td>\n      <td>45.9949975576363</td>\n      <td>45.999997526527096</td>\n      <td>12.9624998175</td>\n      <td>12.969999814</td>\n      <td>4.0</td>\n      <td>0.0</td>\n      <td>11.0</td>\n      <td>1.0</td>\n      <td>3.0</td>\n      <td>0.0</td>\n      <td>0.0</td>\n      <td>0.0</td>\n      <td>None</td>\n    </tr>\n    <tr>\n      <th>28151</th>\n      <td>R200C198</td>\n      <td>200.0</td>\n      <td>198.0</td>\n      <td>45.9949975576363</td>\n      <td>45.999997526527096</td>\n      <td>12.969999814</td>\n      <td>12.9774998105</td>\n      <td>0.0</td>\n      <td>0.0</td>\n      <td>1.0</td>\n      <td>0.0</td>\n      <td>0.0</td>\n      <td>0.0</td>\n      <td>0.0</td>\n      <td>0.0</td>\n      <td>None</td>\n    </tr>\n    <tr>\n      <th>28152</th>\n      <td>R200C199</td>\n      <td>200.0</td>\n      <td>199.0</td>\n      <td>45.9949975576363</td>\n      <td>45.999997526527096</td>\n      <td>12.9774998105</td>\n      <td>12.984999807</td>\n      <td>0.0</td>\n      <td>0.0</td>\n      <td>1.0</td>\n      <td>0.0</td>\n      <td>0.0</td>\n      <td>0.0</td>\n      <td>0.0</td>\n      <td>0.0</td>\n      <td>None</td>\n    </tr>\n    <tr>\n      <th>28153</th>\n      <td>R200C200</td>\n      <td>200.0</td>\n      <td>200.0</td>\n      <td>45.9949975576363</td>\n      <td>45.999997526527096</td>\n      <td>12.984999807</td>\n      <td>12.9924998035</td>\n      <td>1.0</td>\n      <td>0.0</td>\n      <td>1.0</td>\n      <td>0.0</td>\n      <td>0.0</td>\n      <td>0.0</td>\n      <td>0.0</td>\n      <td>0.0</td>\n      <td>None</td>\n    </tr>\n  </tbody>\n</table>\n<p>28154 rows × 16 columns</p>\n</div>"
     },
     "execution_count": 2,
     "metadata": {},
     "output_type": "execute_result"
    }
   ],
   "source": [
    "gdf = gpd.read_file('1.filtered_df.csv')\n",
    "gdf"
   ]
  },
  {
   "cell_type": "code",
   "execution_count": 3,
   "metadata": {
    "pycharm": {
     "name": "#%%\n"
    }
   },
   "outputs": [
    {
     "name": "stdout",
     "output_type": "stream",
     "text": [
      "Exporting:  nature\n",
      "Exporting:  entartainment\n",
      "Exporting:  transports\n",
      "Exporting:  art\n",
      "Exporting:  sport\n",
      "Exporting:  tourism\n",
      "Exporting:  security\n",
      "Exporting:  accessibility\n"
     ]
    },
    {
     "data": {
      "text/plain": "        field_1    row column            lat_min             lat_max  \\\n0          R1C2    1.0    2.0  45.00000374836847  45.005003717259264   \n1          R1C3    1.0    3.0  45.00000374836847  45.005003717259264   \n2          R1C5    1.0    5.0  45.00000374836847  45.005003717259264   \n3          R1C6    1.0    6.0  45.00000374836847  45.005003717259264   \n4          R1C7    1.0    7.0  45.00000374836847  45.005003717259264   \n...         ...    ...    ...                ...                 ...   \n28149  R200C196  200.0  196.0   45.9949975576363  45.999997526527096   \n28150  R200C197  200.0  197.0   45.9949975576363  45.999997526527096   \n28151  R200C198  200.0  198.0   45.9949975576363  45.999997526527096   \n28152  R200C199  200.0  199.0   45.9949975576363  45.999997526527096   \n28153  R200C200  200.0  200.0   45.9949975576363  45.999997526527096   \n\n             lon_min        lon_max    nature  entartainment  transports  \\\n0         11.5000005  11.5075004965 -0.357225      -0.147138   -0.424027   \n1      11.5075004965   11.515000493 -0.357225      -0.147138   -0.388801   \n2      11.5225004895   11.530000486 -0.357225      -0.147138   -0.424027   \n3       11.530000486  11.5375004825 -0.357225      -0.147138   -0.424027   \n4      11.5375004825   11.545000479 -0.357225      -0.147138   -0.388801   \n...              ...            ...       ...            ...         ...   \n28149   12.954999821  12.9624998175 -0.224525       0.085889   -0.283122   \n28150  12.9624998175   12.969999814 -0.180292      -0.147138   -0.071764   \n28151   12.969999814  12.9774998105 -0.357225      -0.147138   -0.424027   \n28152  12.9774998105   12.984999807 -0.357225      -0.147138   -0.424027   \n28153   12.984999807  12.9924998035 -0.312992      -0.147138   -0.424027   \n\n            art     sport   tourism  security  accessibility geometry  \n0     -0.287166 -0.236920 -0.202676 -0.150794      -0.129103     None  \n1     -0.287166 -0.236920 -0.202676 -0.150794      -0.129103     None  \n2     -0.287166 -0.236920 -0.202676 -0.150794      -0.129103     None  \n3     -0.287166 -0.236920 -0.202676 -0.150794      -0.129103     None  \n4     -0.287166 -0.236920 -0.202676 -0.150794      -0.129103     None  \n...         ...       ...       ...       ...            ...      ...  \n28149 -0.287166 -0.236920 -0.202676 -0.150794       0.367314     None  \n28150  0.993911  1.689969 -0.202676 -0.150794      -0.129103     None  \n28151 -0.287166 -0.236920 -0.202676 -0.150794      -0.129103     None  \n28152 -0.287166 -0.236920 -0.202676 -0.150794      -0.129103     None  \n28153 -0.287166 -0.236920 -0.202676 -0.150794      -0.129103     None  \n\n[28154 rows x 16 columns]",
      "text/html": "<div>\n<style scoped>\n    .dataframe tbody tr th:only-of-type {\n        vertical-align: middle;\n    }\n\n    .dataframe tbody tr th {\n        vertical-align: top;\n    }\n\n    .dataframe thead th {\n        text-align: right;\n    }\n</style>\n<table border=\"1\" class=\"dataframe\">\n  <thead>\n    <tr style=\"text-align: right;\">\n      <th></th>\n      <th>field_1</th>\n      <th>row</th>\n      <th>column</th>\n      <th>lat_min</th>\n      <th>lat_max</th>\n      <th>lon_min</th>\n      <th>lon_max</th>\n      <th>nature</th>\n      <th>entartainment</th>\n      <th>transports</th>\n      <th>art</th>\n      <th>sport</th>\n      <th>tourism</th>\n      <th>security</th>\n      <th>accessibility</th>\n      <th>geometry</th>\n    </tr>\n  </thead>\n  <tbody>\n    <tr>\n      <th>0</th>\n      <td>R1C2</td>\n      <td>1.0</td>\n      <td>2.0</td>\n      <td>45.00000374836847</td>\n      <td>45.005003717259264</td>\n      <td>11.5000005</td>\n      <td>11.5075004965</td>\n      <td>-0.357225</td>\n      <td>-0.147138</td>\n      <td>-0.424027</td>\n      <td>-0.287166</td>\n      <td>-0.236920</td>\n      <td>-0.202676</td>\n      <td>-0.150794</td>\n      <td>-0.129103</td>\n      <td>None</td>\n    </tr>\n    <tr>\n      <th>1</th>\n      <td>R1C3</td>\n      <td>1.0</td>\n      <td>3.0</td>\n      <td>45.00000374836847</td>\n      <td>45.005003717259264</td>\n      <td>11.5075004965</td>\n      <td>11.515000493</td>\n      <td>-0.357225</td>\n      <td>-0.147138</td>\n      <td>-0.388801</td>\n      <td>-0.287166</td>\n      <td>-0.236920</td>\n      <td>-0.202676</td>\n      <td>-0.150794</td>\n      <td>-0.129103</td>\n      <td>None</td>\n    </tr>\n    <tr>\n      <th>2</th>\n      <td>R1C5</td>\n      <td>1.0</td>\n      <td>5.0</td>\n      <td>45.00000374836847</td>\n      <td>45.005003717259264</td>\n      <td>11.5225004895</td>\n      <td>11.530000486</td>\n      <td>-0.357225</td>\n      <td>-0.147138</td>\n      <td>-0.424027</td>\n      <td>-0.287166</td>\n      <td>-0.236920</td>\n      <td>-0.202676</td>\n      <td>-0.150794</td>\n      <td>-0.129103</td>\n      <td>None</td>\n    </tr>\n    <tr>\n      <th>3</th>\n      <td>R1C6</td>\n      <td>1.0</td>\n      <td>6.0</td>\n      <td>45.00000374836847</td>\n      <td>45.005003717259264</td>\n      <td>11.530000486</td>\n      <td>11.5375004825</td>\n      <td>-0.357225</td>\n      <td>-0.147138</td>\n      <td>-0.424027</td>\n      <td>-0.287166</td>\n      <td>-0.236920</td>\n      <td>-0.202676</td>\n      <td>-0.150794</td>\n      <td>-0.129103</td>\n      <td>None</td>\n    </tr>\n    <tr>\n      <th>4</th>\n      <td>R1C7</td>\n      <td>1.0</td>\n      <td>7.0</td>\n      <td>45.00000374836847</td>\n      <td>45.005003717259264</td>\n      <td>11.5375004825</td>\n      <td>11.545000479</td>\n      <td>-0.357225</td>\n      <td>-0.147138</td>\n      <td>-0.388801</td>\n      <td>-0.287166</td>\n      <td>-0.236920</td>\n      <td>-0.202676</td>\n      <td>-0.150794</td>\n      <td>-0.129103</td>\n      <td>None</td>\n    </tr>\n    <tr>\n      <th>...</th>\n      <td>...</td>\n      <td>...</td>\n      <td>...</td>\n      <td>...</td>\n      <td>...</td>\n      <td>...</td>\n      <td>...</td>\n      <td>...</td>\n      <td>...</td>\n      <td>...</td>\n      <td>...</td>\n      <td>...</td>\n      <td>...</td>\n      <td>...</td>\n      <td>...</td>\n      <td>...</td>\n    </tr>\n    <tr>\n      <th>28149</th>\n      <td>R200C196</td>\n      <td>200.0</td>\n      <td>196.0</td>\n      <td>45.9949975576363</td>\n      <td>45.999997526527096</td>\n      <td>12.954999821</td>\n      <td>12.9624998175</td>\n      <td>-0.224525</td>\n      <td>0.085889</td>\n      <td>-0.283122</td>\n      <td>-0.287166</td>\n      <td>-0.236920</td>\n      <td>-0.202676</td>\n      <td>-0.150794</td>\n      <td>0.367314</td>\n      <td>None</td>\n    </tr>\n    <tr>\n      <th>28150</th>\n      <td>R200C197</td>\n      <td>200.0</td>\n      <td>197.0</td>\n      <td>45.9949975576363</td>\n      <td>45.999997526527096</td>\n      <td>12.9624998175</td>\n      <td>12.969999814</td>\n      <td>-0.180292</td>\n      <td>-0.147138</td>\n      <td>-0.071764</td>\n      <td>0.993911</td>\n      <td>1.689969</td>\n      <td>-0.202676</td>\n      <td>-0.150794</td>\n      <td>-0.129103</td>\n      <td>None</td>\n    </tr>\n    <tr>\n      <th>28151</th>\n      <td>R200C198</td>\n      <td>200.0</td>\n      <td>198.0</td>\n      <td>45.9949975576363</td>\n      <td>45.999997526527096</td>\n      <td>12.969999814</td>\n      <td>12.9774998105</td>\n      <td>-0.357225</td>\n      <td>-0.147138</td>\n      <td>-0.424027</td>\n      <td>-0.287166</td>\n      <td>-0.236920</td>\n      <td>-0.202676</td>\n      <td>-0.150794</td>\n      <td>-0.129103</td>\n      <td>None</td>\n    </tr>\n    <tr>\n      <th>28152</th>\n      <td>R200C199</td>\n      <td>200.0</td>\n      <td>199.0</td>\n      <td>45.9949975576363</td>\n      <td>45.999997526527096</td>\n      <td>12.9774998105</td>\n      <td>12.984999807</td>\n      <td>-0.357225</td>\n      <td>-0.147138</td>\n      <td>-0.424027</td>\n      <td>-0.287166</td>\n      <td>-0.236920</td>\n      <td>-0.202676</td>\n      <td>-0.150794</td>\n      <td>-0.129103</td>\n      <td>None</td>\n    </tr>\n    <tr>\n      <th>28153</th>\n      <td>R200C200</td>\n      <td>200.0</td>\n      <td>200.0</td>\n      <td>45.9949975576363</td>\n      <td>45.999997526527096</td>\n      <td>12.984999807</td>\n      <td>12.9924998035</td>\n      <td>-0.312992</td>\n      <td>-0.147138</td>\n      <td>-0.424027</td>\n      <td>-0.287166</td>\n      <td>-0.236920</td>\n      <td>-0.202676</td>\n      <td>-0.150794</td>\n      <td>-0.129103</td>\n      <td>None</td>\n    </tr>\n  </tbody>\n</table>\n<p>28154 rows × 16 columns</p>\n</div>"
     },
     "execution_count": 3,
     "metadata": {},
     "output_type": "execute_result"
    }
   ],
   "source": [
    "columns_to_normalize = ['nature', 'entartainment', 'transports', 'art', 'sport', 'tourism', 'security', 'accessibility']\n",
    "\n",
    "for column in columns_to_normalize:\n",
    "    print('Exporting: ', column)\n",
    "    gdf[column] = [float(x) for x in gdf[column]]\n",
    "\n",
    "    # normalization\n",
    "    gdf[column] = (gdf[column] - gdf[column].mean())\n",
    "    gdf[column] = gdf[column] / gdf[column].std()\n",
    "\n",
    "    # removing outliers\n",
    "    low = gdf[column].quantile(0.01)\n",
    "    gdf.loc[gdf[column] < low, column] = low\n",
    "\n",
    "    high = gdf[column].quantile(0.99)\n",
    "    gdf.loc[gdf[column] > high, column] = high\n",
    "\n",
    "gdf"
   ]
  },
  {
   "cell_type": "code",
   "execution_count": 4,
   "metadata": {
    "pycharm": {
     "name": "#%%\n"
    }
   },
   "outputs": [],
   "source": [
    "lat_min_list = [float(x) for x in gdf.lat_min.to_list()]\n",
    "lat_max_list = [float(x) for x in gdf.lat_max.to_list()]\n",
    "\n",
    "lon_min_list = [float(x) for x in gdf.lon_min.to_list()]\n",
    "lon_max_list = [float(x) for x in gdf.lon_max.to_list()]"
   ]
  },
  {
   "cell_type": "code",
   "execution_count": 5,
   "metadata": {
    "pycharm": {
     "name": "#%%\n"
    }
   },
   "outputs": [],
   "source": [
    "polygons = []\n",
    "\n",
    "for lat_min, lat_max, lon_min, lon_max in zip(lat_min_list, lat_max_list, lon_min_list, lon_max_list):\n",
    "    polygons.append(Polygon([(lon_max, lat_max), (lon_min, lat_max), (lon_min, lat_min), (lon_max, lat_min)]))"
   ]
  },
  {
   "cell_type": "code",
   "execution_count": 6,
   "metadata": {
    "pycharm": {
     "name": "#%%\n"
    }
   },
   "outputs": [
    {
     "data": {
      "text/plain": "        field_1    row column            lat_min             lat_max  \\\n0          R1C2    1.0    2.0  45.00000374836847  45.005003717259264   \n1          R1C3    1.0    3.0  45.00000374836847  45.005003717259264   \n2          R1C5    1.0    5.0  45.00000374836847  45.005003717259264   \n3          R1C6    1.0    6.0  45.00000374836847  45.005003717259264   \n4          R1C7    1.0    7.0  45.00000374836847  45.005003717259264   \n...         ...    ...    ...                ...                 ...   \n28149  R200C196  200.0  196.0   45.9949975576363  45.999997526527096   \n28150  R200C197  200.0  197.0   45.9949975576363  45.999997526527096   \n28151  R200C198  200.0  198.0   45.9949975576363  45.999997526527096   \n28152  R200C199  200.0  199.0   45.9949975576363  45.999997526527096   \n28153  R200C200  200.0  200.0   45.9949975576363  45.999997526527096   \n\n             lon_min        lon_max    nature  entartainment  transports  \\\n0         11.5000005  11.5075004965 -0.357225      -0.147138   -0.424027   \n1      11.5075004965   11.515000493 -0.357225      -0.147138   -0.388801   \n2      11.5225004895   11.530000486 -0.357225      -0.147138   -0.424027   \n3       11.530000486  11.5375004825 -0.357225      -0.147138   -0.424027   \n4      11.5375004825   11.545000479 -0.357225      -0.147138   -0.388801   \n...              ...            ...       ...            ...         ...   \n28149   12.954999821  12.9624998175 -0.224525       0.085889   -0.283122   \n28150  12.9624998175   12.969999814 -0.180292      -0.147138   -0.071764   \n28151   12.969999814  12.9774998105 -0.357225      -0.147138   -0.424027   \n28152  12.9774998105   12.984999807 -0.357225      -0.147138   -0.424027   \n28153   12.984999807  12.9924998035 -0.312992      -0.147138   -0.424027   \n\n            art     sport   tourism  security  accessibility  \\\n0     -0.287166 -0.236920 -0.202676 -0.150794      -0.129103   \n1     -0.287166 -0.236920 -0.202676 -0.150794      -0.129103   \n2     -0.287166 -0.236920 -0.202676 -0.150794      -0.129103   \n3     -0.287166 -0.236920 -0.202676 -0.150794      -0.129103   \n4     -0.287166 -0.236920 -0.202676 -0.150794      -0.129103   \n...         ...       ...       ...       ...            ...   \n28149 -0.287166 -0.236920 -0.202676 -0.150794       0.367314   \n28150  0.993911  1.689969 -0.202676 -0.150794      -0.129103   \n28151 -0.287166 -0.236920 -0.202676 -0.150794      -0.129103   \n28152 -0.287166 -0.236920 -0.202676 -0.150794      -0.129103   \n28153 -0.287166 -0.236920 -0.202676 -0.150794      -0.129103   \n\n                                                geometry  \n0      POLYGON ((11.50750 45.00500, 11.50000 45.00500...  \n1      POLYGON ((11.51500 45.00500, 11.50750 45.00500...  \n2      POLYGON ((11.53000 45.00500, 11.52250 45.00500...  \n3      POLYGON ((11.53750 45.00500, 11.53000 45.00500...  \n4      POLYGON ((11.54500 45.00500, 11.53750 45.00500...  \n...                                                  ...  \n28149  POLYGON ((12.96250 46.00000, 12.95500 46.00000...  \n28150  POLYGON ((12.97000 46.00000, 12.96250 46.00000...  \n28151  POLYGON ((12.97750 46.00000, 12.97000 46.00000...  \n28152  POLYGON ((12.98500 46.00000, 12.97750 46.00000...  \n28153  POLYGON ((12.99250 46.00000, 12.98500 46.00000...  \n\n[28154 rows x 16 columns]",
      "text/html": "<div>\n<style scoped>\n    .dataframe tbody tr th:only-of-type {\n        vertical-align: middle;\n    }\n\n    .dataframe tbody tr th {\n        vertical-align: top;\n    }\n\n    .dataframe thead th {\n        text-align: right;\n    }\n</style>\n<table border=\"1\" class=\"dataframe\">\n  <thead>\n    <tr style=\"text-align: right;\">\n      <th></th>\n      <th>field_1</th>\n      <th>row</th>\n      <th>column</th>\n      <th>lat_min</th>\n      <th>lat_max</th>\n      <th>lon_min</th>\n      <th>lon_max</th>\n      <th>nature</th>\n      <th>entartainment</th>\n      <th>transports</th>\n      <th>art</th>\n      <th>sport</th>\n      <th>tourism</th>\n      <th>security</th>\n      <th>accessibility</th>\n      <th>geometry</th>\n    </tr>\n  </thead>\n  <tbody>\n    <tr>\n      <th>0</th>\n      <td>R1C2</td>\n      <td>1.0</td>\n      <td>2.0</td>\n      <td>45.00000374836847</td>\n      <td>45.005003717259264</td>\n      <td>11.5000005</td>\n      <td>11.5075004965</td>\n      <td>-0.357225</td>\n      <td>-0.147138</td>\n      <td>-0.424027</td>\n      <td>-0.287166</td>\n      <td>-0.236920</td>\n      <td>-0.202676</td>\n      <td>-0.150794</td>\n      <td>-0.129103</td>\n      <td>POLYGON ((11.50750 45.00500, 11.50000 45.00500...</td>\n    </tr>\n    <tr>\n      <th>1</th>\n      <td>R1C3</td>\n      <td>1.0</td>\n      <td>3.0</td>\n      <td>45.00000374836847</td>\n      <td>45.005003717259264</td>\n      <td>11.5075004965</td>\n      <td>11.515000493</td>\n      <td>-0.357225</td>\n      <td>-0.147138</td>\n      <td>-0.388801</td>\n      <td>-0.287166</td>\n      <td>-0.236920</td>\n      <td>-0.202676</td>\n      <td>-0.150794</td>\n      <td>-0.129103</td>\n      <td>POLYGON ((11.51500 45.00500, 11.50750 45.00500...</td>\n    </tr>\n    <tr>\n      <th>2</th>\n      <td>R1C5</td>\n      <td>1.0</td>\n      <td>5.0</td>\n      <td>45.00000374836847</td>\n      <td>45.005003717259264</td>\n      <td>11.5225004895</td>\n      <td>11.530000486</td>\n      <td>-0.357225</td>\n      <td>-0.147138</td>\n      <td>-0.424027</td>\n      <td>-0.287166</td>\n      <td>-0.236920</td>\n      <td>-0.202676</td>\n      <td>-0.150794</td>\n      <td>-0.129103</td>\n      <td>POLYGON ((11.53000 45.00500, 11.52250 45.00500...</td>\n    </tr>\n    <tr>\n      <th>3</th>\n      <td>R1C6</td>\n      <td>1.0</td>\n      <td>6.0</td>\n      <td>45.00000374836847</td>\n      <td>45.005003717259264</td>\n      <td>11.530000486</td>\n      <td>11.5375004825</td>\n      <td>-0.357225</td>\n      <td>-0.147138</td>\n      <td>-0.424027</td>\n      <td>-0.287166</td>\n      <td>-0.236920</td>\n      <td>-0.202676</td>\n      <td>-0.150794</td>\n      <td>-0.129103</td>\n      <td>POLYGON ((11.53750 45.00500, 11.53000 45.00500...</td>\n    </tr>\n    <tr>\n      <th>4</th>\n      <td>R1C7</td>\n      <td>1.0</td>\n      <td>7.0</td>\n      <td>45.00000374836847</td>\n      <td>45.005003717259264</td>\n      <td>11.5375004825</td>\n      <td>11.545000479</td>\n      <td>-0.357225</td>\n      <td>-0.147138</td>\n      <td>-0.388801</td>\n      <td>-0.287166</td>\n      <td>-0.236920</td>\n      <td>-0.202676</td>\n      <td>-0.150794</td>\n      <td>-0.129103</td>\n      <td>POLYGON ((11.54500 45.00500, 11.53750 45.00500...</td>\n    </tr>\n    <tr>\n      <th>...</th>\n      <td>...</td>\n      <td>...</td>\n      <td>...</td>\n      <td>...</td>\n      <td>...</td>\n      <td>...</td>\n      <td>...</td>\n      <td>...</td>\n      <td>...</td>\n      <td>...</td>\n      <td>...</td>\n      <td>...</td>\n      <td>...</td>\n      <td>...</td>\n      <td>...</td>\n      <td>...</td>\n    </tr>\n    <tr>\n      <th>28149</th>\n      <td>R200C196</td>\n      <td>200.0</td>\n      <td>196.0</td>\n      <td>45.9949975576363</td>\n      <td>45.999997526527096</td>\n      <td>12.954999821</td>\n      <td>12.9624998175</td>\n      <td>-0.224525</td>\n      <td>0.085889</td>\n      <td>-0.283122</td>\n      <td>-0.287166</td>\n      <td>-0.236920</td>\n      <td>-0.202676</td>\n      <td>-0.150794</td>\n      <td>0.367314</td>\n      <td>POLYGON ((12.96250 46.00000, 12.95500 46.00000...</td>\n    </tr>\n    <tr>\n      <th>28150</th>\n      <td>R200C197</td>\n      <td>200.0</td>\n      <td>197.0</td>\n      <td>45.9949975576363</td>\n      <td>45.999997526527096</td>\n      <td>12.9624998175</td>\n      <td>12.969999814</td>\n      <td>-0.180292</td>\n      <td>-0.147138</td>\n      <td>-0.071764</td>\n      <td>0.993911</td>\n      <td>1.689969</td>\n      <td>-0.202676</td>\n      <td>-0.150794</td>\n      <td>-0.129103</td>\n      <td>POLYGON ((12.97000 46.00000, 12.96250 46.00000...</td>\n    </tr>\n    <tr>\n      <th>28151</th>\n      <td>R200C198</td>\n      <td>200.0</td>\n      <td>198.0</td>\n      <td>45.9949975576363</td>\n      <td>45.999997526527096</td>\n      <td>12.969999814</td>\n      <td>12.9774998105</td>\n      <td>-0.357225</td>\n      <td>-0.147138</td>\n      <td>-0.424027</td>\n      <td>-0.287166</td>\n      <td>-0.236920</td>\n      <td>-0.202676</td>\n      <td>-0.150794</td>\n      <td>-0.129103</td>\n      <td>POLYGON ((12.97750 46.00000, 12.97000 46.00000...</td>\n    </tr>\n    <tr>\n      <th>28152</th>\n      <td>R200C199</td>\n      <td>200.0</td>\n      <td>199.0</td>\n      <td>45.9949975576363</td>\n      <td>45.999997526527096</td>\n      <td>12.9774998105</td>\n      <td>12.984999807</td>\n      <td>-0.357225</td>\n      <td>-0.147138</td>\n      <td>-0.424027</td>\n      <td>-0.287166</td>\n      <td>-0.236920</td>\n      <td>-0.202676</td>\n      <td>-0.150794</td>\n      <td>-0.129103</td>\n      <td>POLYGON ((12.98500 46.00000, 12.97750 46.00000...</td>\n    </tr>\n    <tr>\n      <th>28153</th>\n      <td>R200C200</td>\n      <td>200.0</td>\n      <td>200.0</td>\n      <td>45.9949975576363</td>\n      <td>45.999997526527096</td>\n      <td>12.984999807</td>\n      <td>12.9924998035</td>\n      <td>-0.312992</td>\n      <td>-0.147138</td>\n      <td>-0.424027</td>\n      <td>-0.287166</td>\n      <td>-0.236920</td>\n      <td>-0.202676</td>\n      <td>-0.150794</td>\n      <td>-0.129103</td>\n      <td>POLYGON ((12.99250 46.00000, 12.98500 46.00000...</td>\n    </tr>\n  </tbody>\n</table>\n<p>28154 rows × 16 columns</p>\n</div>"
     },
     "execution_count": 6,
     "metadata": {},
     "output_type": "execute_result"
    }
   ],
   "source": [
    "gdf['geometry'] = polygons\n",
    "gdf"
   ]
  },
  {
   "cell_type": "code",
   "execution_count": 7,
   "metadata": {
    "pycharm": {
     "name": "#%%\n"
    }
   },
   "outputs": [
    {
     "data": {
      "text/plain": "field_1            object\nrow                object\ncolumn             object\nlat_min            object\nlat_max            object\nlon_min            object\nlon_max            object\nnature            float64\nentartainment     float64\ntransports        float64\nart               float64\nsport             float64\ntourism           float64\nsecurity          float64\naccessibility     float64\ngeometry         geometry\ndtype: object"
     },
     "execution_count": 7,
     "metadata": {},
     "output_type": "execute_result"
    }
   ],
   "source": [
    "gdf.to_csv('map_to_export.csv')\n",
    "gdf.dtypes"
   ]
  },
  {
   "cell_type": "code",
   "execution_count": 8,
   "metadata": {
    "pycharm": {
     "name": "#%%\n"
    }
   },
   "outputs": [
    {
     "data": {
      "text/plain": "        field_1    nature  entartainment  transports       art     sport  \\\n0          R1C2 -0.357225      -0.147138   -0.424027 -0.287166 -0.236920   \n1          R1C3 -0.357225      -0.147138   -0.388801 -0.287166 -0.236920   \n2          R1C5 -0.357225      -0.147138   -0.424027 -0.287166 -0.236920   \n3          R1C6 -0.357225      -0.147138   -0.424027 -0.287166 -0.236920   \n4          R1C7 -0.357225      -0.147138   -0.388801 -0.287166 -0.236920   \n...         ...       ...            ...         ...       ...       ...   \n28149  R200C196 -0.224525       0.085889   -0.283122 -0.287166 -0.236920   \n28150  R200C197 -0.180292      -0.147138   -0.071764  0.993911  1.689969   \n28151  R200C198 -0.357225      -0.147138   -0.424027 -0.287166 -0.236920   \n28152  R200C199 -0.357225      -0.147138   -0.424027 -0.287166 -0.236920   \n28153  R200C200 -0.312992      -0.147138   -0.424027 -0.287166 -0.236920   \n\n        tourism  security  accessibility  \\\n0     -0.202676 -0.150794      -0.129103   \n1     -0.202676 -0.150794      -0.129103   \n2     -0.202676 -0.150794      -0.129103   \n3     -0.202676 -0.150794      -0.129103   \n4     -0.202676 -0.150794      -0.129103   \n...         ...       ...            ...   \n28149 -0.202676 -0.150794       0.367314   \n28150 -0.202676 -0.150794      -0.129103   \n28151 -0.202676 -0.150794      -0.129103   \n28152 -0.202676 -0.150794      -0.129103   \n28153 -0.202676 -0.150794      -0.129103   \n\n                                                geometry  \n0      POLYGON ((11.50750 45.00500, 11.50000 45.00500...  \n1      POLYGON ((11.51500 45.00500, 11.50750 45.00500...  \n2      POLYGON ((11.53000 45.00500, 11.52250 45.00500...  \n3      POLYGON ((11.53750 45.00500, 11.53000 45.00500...  \n4      POLYGON ((11.54500 45.00500, 11.53750 45.00500...  \n...                                                  ...  \n28149  POLYGON ((12.96250 46.00000, 12.95500 46.00000...  \n28150  POLYGON ((12.97000 46.00000, 12.96250 46.00000...  \n28151  POLYGON ((12.97750 46.00000, 12.97000 46.00000...  \n28152  POLYGON ((12.98500 46.00000, 12.97750 46.00000...  \n28153  POLYGON ((12.99250 46.00000, 12.98500 46.00000...  \n\n[28154 rows x 10 columns]",
      "text/html": "<div>\n<style scoped>\n    .dataframe tbody tr th:only-of-type {\n        vertical-align: middle;\n    }\n\n    .dataframe tbody tr th {\n        vertical-align: top;\n    }\n\n    .dataframe thead th {\n        text-align: right;\n    }\n</style>\n<table border=\"1\" class=\"dataframe\">\n  <thead>\n    <tr style=\"text-align: right;\">\n      <th></th>\n      <th>field_1</th>\n      <th>nature</th>\n      <th>entartainment</th>\n      <th>transports</th>\n      <th>art</th>\n      <th>sport</th>\n      <th>tourism</th>\n      <th>security</th>\n      <th>accessibility</th>\n      <th>geometry</th>\n    </tr>\n  </thead>\n  <tbody>\n    <tr>\n      <th>0</th>\n      <td>R1C2</td>\n      <td>-0.357225</td>\n      <td>-0.147138</td>\n      <td>-0.424027</td>\n      <td>-0.287166</td>\n      <td>-0.236920</td>\n      <td>-0.202676</td>\n      <td>-0.150794</td>\n      <td>-0.129103</td>\n      <td>POLYGON ((11.50750 45.00500, 11.50000 45.00500...</td>\n    </tr>\n    <tr>\n      <th>1</th>\n      <td>R1C3</td>\n      <td>-0.357225</td>\n      <td>-0.147138</td>\n      <td>-0.388801</td>\n      <td>-0.287166</td>\n      <td>-0.236920</td>\n      <td>-0.202676</td>\n      <td>-0.150794</td>\n      <td>-0.129103</td>\n      <td>POLYGON ((11.51500 45.00500, 11.50750 45.00500...</td>\n    </tr>\n    <tr>\n      <th>2</th>\n      <td>R1C5</td>\n      <td>-0.357225</td>\n      <td>-0.147138</td>\n      <td>-0.424027</td>\n      <td>-0.287166</td>\n      <td>-0.236920</td>\n      <td>-0.202676</td>\n      <td>-0.150794</td>\n      <td>-0.129103</td>\n      <td>POLYGON ((11.53000 45.00500, 11.52250 45.00500...</td>\n    </tr>\n    <tr>\n      <th>3</th>\n      <td>R1C6</td>\n      <td>-0.357225</td>\n      <td>-0.147138</td>\n      <td>-0.424027</td>\n      <td>-0.287166</td>\n      <td>-0.236920</td>\n      <td>-0.202676</td>\n      <td>-0.150794</td>\n      <td>-0.129103</td>\n      <td>POLYGON ((11.53750 45.00500, 11.53000 45.00500...</td>\n    </tr>\n    <tr>\n      <th>4</th>\n      <td>R1C7</td>\n      <td>-0.357225</td>\n      <td>-0.147138</td>\n      <td>-0.388801</td>\n      <td>-0.287166</td>\n      <td>-0.236920</td>\n      <td>-0.202676</td>\n      <td>-0.150794</td>\n      <td>-0.129103</td>\n      <td>POLYGON ((11.54500 45.00500, 11.53750 45.00500...</td>\n    </tr>\n    <tr>\n      <th>...</th>\n      <td>...</td>\n      <td>...</td>\n      <td>...</td>\n      <td>...</td>\n      <td>...</td>\n      <td>...</td>\n      <td>...</td>\n      <td>...</td>\n      <td>...</td>\n      <td>...</td>\n    </tr>\n    <tr>\n      <th>28149</th>\n      <td>R200C196</td>\n      <td>-0.224525</td>\n      <td>0.085889</td>\n      <td>-0.283122</td>\n      <td>-0.287166</td>\n      <td>-0.236920</td>\n      <td>-0.202676</td>\n      <td>-0.150794</td>\n      <td>0.367314</td>\n      <td>POLYGON ((12.96250 46.00000, 12.95500 46.00000...</td>\n    </tr>\n    <tr>\n      <th>28150</th>\n      <td>R200C197</td>\n      <td>-0.180292</td>\n      <td>-0.147138</td>\n      <td>-0.071764</td>\n      <td>0.993911</td>\n      <td>1.689969</td>\n      <td>-0.202676</td>\n      <td>-0.150794</td>\n      <td>-0.129103</td>\n      <td>POLYGON ((12.97000 46.00000, 12.96250 46.00000...</td>\n    </tr>\n    <tr>\n      <th>28151</th>\n      <td>R200C198</td>\n      <td>-0.357225</td>\n      <td>-0.147138</td>\n      <td>-0.424027</td>\n      <td>-0.287166</td>\n      <td>-0.236920</td>\n      <td>-0.202676</td>\n      <td>-0.150794</td>\n      <td>-0.129103</td>\n      <td>POLYGON ((12.97750 46.00000, 12.97000 46.00000...</td>\n    </tr>\n    <tr>\n      <th>28152</th>\n      <td>R200C199</td>\n      <td>-0.357225</td>\n      <td>-0.147138</td>\n      <td>-0.424027</td>\n      <td>-0.287166</td>\n      <td>-0.236920</td>\n      <td>-0.202676</td>\n      <td>-0.150794</td>\n      <td>-0.129103</td>\n      <td>POLYGON ((12.98500 46.00000, 12.97750 46.00000...</td>\n    </tr>\n    <tr>\n      <th>28153</th>\n      <td>R200C200</td>\n      <td>-0.312992</td>\n      <td>-0.147138</td>\n      <td>-0.424027</td>\n      <td>-0.287166</td>\n      <td>-0.236920</td>\n      <td>-0.202676</td>\n      <td>-0.150794</td>\n      <td>-0.129103</td>\n      <td>POLYGON ((12.99250 46.00000, 12.98500 46.00000...</td>\n    </tr>\n  </tbody>\n</table>\n<p>28154 rows × 10 columns</p>\n</div>"
     },
     "execution_count": 8,
     "metadata": {},
     "output_type": "execute_result"
    }
   ],
   "source": [
    "exporting_df = gdf.drop(['geometry', 'row', 'column', 'lat_min', 'lat_max', 'lon_min', 'lon_max'], axis =1)\n",
    "exporting_df['geometry'] = gdf.geometry\n",
    "exporting_df"
   ]
  },
  {
   "cell_type": "code",
   "execution_count": 9,
   "metadata": {
    "pycharm": {
     "name": "#%%\n"
    }
   },
   "outputs": [
    {
     "data": {
      "text/plain": "field_1            object\nnature            float64\nentartainment     float64\ntransports        float64\nart               float64\nsport             float64\ntourism           float64\nsecurity          float64\naccessibility     float64\ngeometry         geometry\ndtype: object"
     },
     "execution_count": 9,
     "metadata": {},
     "output_type": "execute_result"
    }
   ],
   "source": [
    "exporting_df.dtypes"
   ]
  },
  {
   "cell_type": "code",
   "execution_count": 10,
   "metadata": {
    "pycharm": {
     "name": "#%%\n"
    }
   },
   "outputs": [],
   "source": [
    "exporting_df.to_csv('3.final_map_converted.csv')"
   ]
  }
 ],
 "metadata": {
  "kernelspec": {
   "display_name": "geo_env",
   "language": "python",
   "name": "geo_env"
  },
  "language_info": {
   "codemirror_mode": {
    "name": "ipython",
    "version": 3
   },
   "file_extension": ".py",
   "mimetype": "text/x-python",
   "name": "python",
   "nbconvert_exporter": "python",
   "pygments_lexer": "ipython3",
   "version": "3.10.4"
  }
 },
 "nbformat": 4,
 "nbformat_minor": 1
}