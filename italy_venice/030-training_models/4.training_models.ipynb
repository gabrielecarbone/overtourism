{
 "cells": [
  {
   "cell_type": "code",
   "execution_count": 9,
   "metadata": {
    "pycharm": {
     "name": "#%%\n"
    }
   },
   "outputs": [],
   "source": [
    "import pandas as pd\n",
    "import sklearn\n",
    "import matplotlib as plt\n",
    "from pycaret.regression import *"
   ]
  },
  {
   "cell_type": "code",
   "execution_count": 10,
   "metadata": {
    "pycharm": {
     "name": "#%%\n"
    }
   },
   "outputs": [
    {
     "data": {
      "text/html": [
       "<div>\n",
       "<style scoped>\n",
       "    .dataframe tbody tr th:only-of-type {\n",
       "        vertical-align: middle;\n",
       "    }\n",
       "\n",
       "    .dataframe tbody tr th {\n",
       "        vertical-align: top;\n",
       "    }\n",
       "\n",
       "    .dataframe thead th {\n",
       "        text-align: right;\n",
       "    }\n",
       "</style>\n",
       "<table border=\"1\" class=\"dataframe\">\n",
       "  <thead>\n",
       "    <tr style=\"text-align: right;\">\n",
       "      <th></th>\n",
       "      <th>nature</th>\n",
       "      <th>entartainment</th>\n",
       "      <th>transports</th>\n",
       "      <th>art</th>\n",
       "      <th>sport</th>\n",
       "      <th>tourism</th>\n",
       "      <th>security</th>\n",
       "      <th>accessibility</th>\n",
       "    </tr>\n",
       "    <tr>\n",
       "      <th>Unnamed: 0</th>\n",
       "      <th></th>\n",
       "      <th></th>\n",
       "      <th></th>\n",
       "      <th></th>\n",
       "      <th></th>\n",
       "      <th></th>\n",
       "      <th></th>\n",
       "      <th></th>\n",
       "    </tr>\n",
       "  </thead>\n",
       "  <tbody>\n",
       "    <tr>\n",
       "      <th>R1C2</th>\n",
       "      <td>0.0</td>\n",
       "      <td>0.0</td>\n",
       "      <td>1.0</td>\n",
       "      <td>0.0</td>\n",
       "      <td>0.0</td>\n",
       "      <td>0.0</td>\n",
       "      <td>0.0</td>\n",
       "      <td>0.0</td>\n",
       "    </tr>\n",
       "    <tr>\n",
       "      <th>R1C3</th>\n",
       "      <td>0.0</td>\n",
       "      <td>0.0</td>\n",
       "      <td>2.0</td>\n",
       "      <td>0.0</td>\n",
       "      <td>0.0</td>\n",
       "      <td>0.0</td>\n",
       "      <td>0.0</td>\n",
       "      <td>0.0</td>\n",
       "    </tr>\n",
       "    <tr>\n",
       "      <th>R1C5</th>\n",
       "      <td>0.0</td>\n",
       "      <td>0.0</td>\n",
       "      <td>1.0</td>\n",
       "      <td>0.0</td>\n",
       "      <td>0.0</td>\n",
       "      <td>0.0</td>\n",
       "      <td>0.0</td>\n",
       "      <td>0.0</td>\n",
       "    </tr>\n",
       "    <tr>\n",
       "      <th>R1C6</th>\n",
       "      <td>0.0</td>\n",
       "      <td>0.0</td>\n",
       "      <td>1.0</td>\n",
       "      <td>0.0</td>\n",
       "      <td>0.0</td>\n",
       "      <td>0.0</td>\n",
       "      <td>0.0</td>\n",
       "      <td>0.0</td>\n",
       "    </tr>\n",
       "    <tr>\n",
       "      <th>R1C7</th>\n",
       "      <td>0.0</td>\n",
       "      <td>0.0</td>\n",
       "      <td>2.0</td>\n",
       "      <td>0.0</td>\n",
       "      <td>0.0</td>\n",
       "      <td>0.0</td>\n",
       "      <td>0.0</td>\n",
       "      <td>0.0</td>\n",
       "    </tr>\n",
       "    <tr>\n",
       "      <th>...</th>\n",
       "      <td>...</td>\n",
       "      <td>...</td>\n",
       "      <td>...</td>\n",
       "      <td>...</td>\n",
       "      <td>...</td>\n",
       "      <td>...</td>\n",
       "      <td>...</td>\n",
       "      <td>...</td>\n",
       "    </tr>\n",
       "    <tr>\n",
       "      <th>R200C196</th>\n",
       "      <td>3.0</td>\n",
       "      <td>1.0</td>\n",
       "      <td>5.0</td>\n",
       "      <td>0.0</td>\n",
       "      <td>0.0</td>\n",
       "      <td>0.0</td>\n",
       "      <td>0.0</td>\n",
       "      <td>1.0</td>\n",
       "    </tr>\n",
       "    <tr>\n",
       "      <th>R200C197</th>\n",
       "      <td>4.0</td>\n",
       "      <td>0.0</td>\n",
       "      <td>11.0</td>\n",
       "      <td>1.0</td>\n",
       "      <td>3.0</td>\n",
       "      <td>0.0</td>\n",
       "      <td>0.0</td>\n",
       "      <td>0.0</td>\n",
       "    </tr>\n",
       "    <tr>\n",
       "      <th>R200C198</th>\n",
       "      <td>0.0</td>\n",
       "      <td>0.0</td>\n",
       "      <td>1.0</td>\n",
       "      <td>0.0</td>\n",
       "      <td>0.0</td>\n",
       "      <td>0.0</td>\n",
       "      <td>0.0</td>\n",
       "      <td>0.0</td>\n",
       "    </tr>\n",
       "    <tr>\n",
       "      <th>R200C199</th>\n",
       "      <td>0.0</td>\n",
       "      <td>0.0</td>\n",
       "      <td>1.0</td>\n",
       "      <td>0.0</td>\n",
       "      <td>0.0</td>\n",
       "      <td>0.0</td>\n",
       "      <td>0.0</td>\n",
       "      <td>0.0</td>\n",
       "    </tr>\n",
       "    <tr>\n",
       "      <th>R200C200</th>\n",
       "      <td>1.0</td>\n",
       "      <td>0.0</td>\n",
       "      <td>1.0</td>\n",
       "      <td>0.0</td>\n",
       "      <td>0.0</td>\n",
       "      <td>0.0</td>\n",
       "      <td>0.0</td>\n",
       "      <td>0.0</td>\n",
       "    </tr>\n",
       "  </tbody>\n",
       "</table>\n",
       "<p>28154 rows × 8 columns</p>\n",
       "</div>"
      ],
      "text/plain": [
       "            nature  entartainment  transports  art  sport  tourism  security  \\\n",
       "Unnamed: 0                                                                     \n",
       "R1C2           0.0            0.0         1.0  0.0    0.0      0.0       0.0   \n",
       "R1C3           0.0            0.0         2.0  0.0    0.0      0.0       0.0   \n",
       "R1C5           0.0            0.0         1.0  0.0    0.0      0.0       0.0   \n",
       "R1C6           0.0            0.0         1.0  0.0    0.0      0.0       0.0   \n",
       "R1C7           0.0            0.0         2.0  0.0    0.0      0.0       0.0   \n",
       "...            ...            ...         ...  ...    ...      ...       ...   \n",
       "R200C196       3.0            1.0         5.0  0.0    0.0      0.0       0.0   \n",
       "R200C197       4.0            0.0        11.0  1.0    3.0      0.0       0.0   \n",
       "R200C198       0.0            0.0         1.0  0.0    0.0      0.0       0.0   \n",
       "R200C199       0.0            0.0         1.0  0.0    0.0      0.0       0.0   \n",
       "R200C200       1.0            0.0         1.0  0.0    0.0      0.0       0.0   \n",
       "\n",
       "            accessibility  \n",
       "Unnamed: 0                 \n",
       "R1C2                  0.0  \n",
       "R1C3                  0.0  \n",
       "R1C5                  0.0  \n",
       "R1C6                  0.0  \n",
       "R1C7                  0.0  \n",
       "...                   ...  \n",
       "R200C196              1.0  \n",
       "R200C197              0.0  \n",
       "R200C198              0.0  \n",
       "R200C199              0.0  \n",
       "R200C200              0.0  \n",
       "\n",
       "[28154 rows x 8 columns]"
      ]
     },
     "execution_count": 10,
     "metadata": {},
     "output_type": "execute_result"
    }
   ],
   "source": [
    "df = pd.read_csv('1.filtered_df.csv')\n",
    "df.index = df['Unnamed: 0']\n",
    "df.drop(['Unnamed: 0', 'row', 'column', 'lat_min', 'lat_max', 'lon_min', 'lon_max'], axis = 1, inplace = True)\n",
    "df"
   ]
  },
  {
   "cell_type": "code",
   "execution_count": 11,
   "metadata": {
    "pycharm": {
     "name": "#%%\n"
    }
   },
   "outputs": [
    {
     "data": {
      "text/html": [
       "<div>\n",
       "<style scoped>\n",
       "    .dataframe tbody tr th:only-of-type {\n",
       "        vertical-align: middle;\n",
       "    }\n",
       "\n",
       "    .dataframe tbody tr th {\n",
       "        vertical-align: top;\n",
       "    }\n",
       "\n",
       "    .dataframe thead th {\n",
       "        text-align: right;\n",
       "    }\n",
       "</style>\n",
       "<table border=\"1\" class=\"dataframe\">\n",
       "  <thead>\n",
       "    <tr style=\"text-align: right;\">\n",
       "      <th></th>\n",
       "      <th>nature</th>\n",
       "      <th>entartainment</th>\n",
       "      <th>transports</th>\n",
       "      <th>art</th>\n",
       "      <th>sport</th>\n",
       "      <th>tourism</th>\n",
       "      <th>security</th>\n",
       "      <th>accessibility</th>\n",
       "    </tr>\n",
       "  </thead>\n",
       "  <tbody>\n",
       "    <tr>\n",
       "      <th>count</th>\n",
       "      <td>28154.000000</td>\n",
       "      <td>28154.000000</td>\n",
       "      <td>28154.000000</td>\n",
       "      <td>28154.000000</td>\n",
       "      <td>28154.000000</td>\n",
       "      <td>28154.000000</td>\n",
       "      <td>28154.000000</td>\n",
       "      <td>28154.000000</td>\n",
       "    </tr>\n",
       "    <tr>\n",
       "      <th>mean</th>\n",
       "      <td>8.075939</td>\n",
       "      <td>0.631420</td>\n",
       "      <td>13.037224</td>\n",
       "      <td>0.224160</td>\n",
       "      <td>0.368864</td>\n",
       "      <td>0.311110</td>\n",
       "      <td>0.064751</td>\n",
       "      <td>0.260070</td>\n",
       "    </tr>\n",
       "    <tr>\n",
       "      <th>std</th>\n",
       "      <td>22.607436</td>\n",
       "      <td>4.291356</td>\n",
       "      <td>28.387850</td>\n",
       "      <td>0.780593</td>\n",
       "      <td>1.556914</td>\n",
       "      <td>1.535014</td>\n",
       "      <td>0.429399</td>\n",
       "      <td>2.014438</td>\n",
       "    </tr>\n",
       "    <tr>\n",
       "      <th>min</th>\n",
       "      <td>0.000000</td>\n",
       "      <td>0.000000</td>\n",
       "      <td>0.000000</td>\n",
       "      <td>0.000000</td>\n",
       "      <td>0.000000</td>\n",
       "      <td>0.000000</td>\n",
       "      <td>0.000000</td>\n",
       "      <td>0.000000</td>\n",
       "    </tr>\n",
       "    <tr>\n",
       "      <th>25%</th>\n",
       "      <td>1.000000</td>\n",
       "      <td>0.000000</td>\n",
       "      <td>1.000000</td>\n",
       "      <td>0.000000</td>\n",
       "      <td>0.000000</td>\n",
       "      <td>0.000000</td>\n",
       "      <td>0.000000</td>\n",
       "      <td>0.000000</td>\n",
       "    </tr>\n",
       "    <tr>\n",
       "      <th>50%</th>\n",
       "      <td>3.000000</td>\n",
       "      <td>0.000000</td>\n",
       "      <td>4.000000</td>\n",
       "      <td>0.000000</td>\n",
       "      <td>0.000000</td>\n",
       "      <td>0.000000</td>\n",
       "      <td>0.000000</td>\n",
       "      <td>0.000000</td>\n",
       "    </tr>\n",
       "    <tr>\n",
       "      <th>75%</th>\n",
       "      <td>8.000000</td>\n",
       "      <td>0.000000</td>\n",
       "      <td>12.000000</td>\n",
       "      <td>0.000000</td>\n",
       "      <td>0.000000</td>\n",
       "      <td>0.000000</td>\n",
       "      <td>0.000000</td>\n",
       "      <td>0.000000</td>\n",
       "    </tr>\n",
       "    <tr>\n",
       "      <th>max</th>\n",
       "      <td>667.000000</td>\n",
       "      <td>302.000000</td>\n",
       "      <td>968.000000</td>\n",
       "      <td>23.000000</td>\n",
       "      <td>97.000000</td>\n",
       "      <td>74.000000</td>\n",
       "      <td>19.000000</td>\n",
       "      <td>162.000000</td>\n",
       "    </tr>\n",
       "  </tbody>\n",
       "</table>\n",
       "</div>"
      ],
      "text/plain": [
       "             nature  entartainment    transports           art         sport  \\\n",
       "count  28154.000000   28154.000000  28154.000000  28154.000000  28154.000000   \n",
       "mean       8.075939       0.631420     13.037224      0.224160      0.368864   \n",
       "std       22.607436       4.291356     28.387850      0.780593      1.556914   \n",
       "min        0.000000       0.000000      0.000000      0.000000      0.000000   \n",
       "25%        1.000000       0.000000      1.000000      0.000000      0.000000   \n",
       "50%        3.000000       0.000000      4.000000      0.000000      0.000000   \n",
       "75%        8.000000       0.000000     12.000000      0.000000      0.000000   \n",
       "max      667.000000     302.000000    968.000000     23.000000     97.000000   \n",
       "\n",
       "            tourism      security  accessibility  \n",
       "count  28154.000000  28154.000000   28154.000000  \n",
       "mean       0.311110      0.064751       0.260070  \n",
       "std        1.535014      0.429399       2.014438  \n",
       "min        0.000000      0.000000       0.000000  \n",
       "25%        0.000000      0.000000       0.000000  \n",
       "50%        0.000000      0.000000       0.000000  \n",
       "75%        0.000000      0.000000       0.000000  \n",
       "max       74.000000     19.000000     162.000000  "
      ]
     },
     "execution_count": 11,
     "metadata": {},
     "output_type": "execute_result"
    }
   ],
   "source": [
    "df.describe()"
   ]
  },
  {
   "cell_type": "code",
   "execution_count": 12,
   "metadata": {
    "pycharm": {
     "name": "#%%\n"
    }
   },
   "outputs": [
    {
     "data": {
      "text/html": [
       "<style type=\"text/css\">\n",
       "#T_9c606_row7_col1 {\n",
       "  background-color: lightgreen;\n",
       "}\n",
       "</style>\n",
       "<table id=\"T_9c606\">\n",
       "  <thead>\n",
       "    <tr>\n",
       "      <th class=\"blank level0\" >&nbsp;</th>\n",
       "      <th id=\"T_9c606_level0_col0\" class=\"col_heading level0 col0\" >Description</th>\n",
       "      <th id=\"T_9c606_level0_col1\" class=\"col_heading level0 col1\" >Value</th>\n",
       "    </tr>\n",
       "  </thead>\n",
       "  <tbody>\n",
       "    <tr>\n",
       "      <th id=\"T_9c606_level0_row0\" class=\"row_heading level0 row0\" >0</th>\n",
       "      <td id=\"T_9c606_row0_col0\" class=\"data row0 col0\" >Session id</td>\n",
       "      <td id=\"T_9c606_row0_col1\" class=\"data row0 col1\" >2045</td>\n",
       "    </tr>\n",
       "    <tr>\n",
       "      <th id=\"T_9c606_level0_row1\" class=\"row_heading level0 row1\" >1</th>\n",
       "      <td id=\"T_9c606_row1_col0\" class=\"data row1 col0\" >Target</td>\n",
       "      <td id=\"T_9c606_row1_col1\" class=\"data row1 col1\" >tourism</td>\n",
       "    </tr>\n",
       "    <tr>\n",
       "      <th id=\"T_9c606_level0_row2\" class=\"row_heading level0 row2\" >2</th>\n",
       "      <td id=\"T_9c606_row2_col0\" class=\"data row2 col0\" >Target type</td>\n",
       "      <td id=\"T_9c606_row2_col1\" class=\"data row2 col1\" >Regression</td>\n",
       "    </tr>\n",
       "    <tr>\n",
       "      <th id=\"T_9c606_level0_row3\" class=\"row_heading level0 row3\" >3</th>\n",
       "      <td id=\"T_9c606_row3_col0\" class=\"data row3 col0\" >Data shape</td>\n",
       "      <td id=\"T_9c606_row3_col1\" class=\"data row3 col1\" >(28154, 8)</td>\n",
       "    </tr>\n",
       "    <tr>\n",
       "      <th id=\"T_9c606_level0_row4\" class=\"row_heading level0 row4\" >4</th>\n",
       "      <td id=\"T_9c606_row4_col0\" class=\"data row4 col0\" >Train data shape</td>\n",
       "      <td id=\"T_9c606_row4_col1\" class=\"data row4 col1\" >(19707, 8)</td>\n",
       "    </tr>\n",
       "    <tr>\n",
       "      <th id=\"T_9c606_level0_row5\" class=\"row_heading level0 row5\" >5</th>\n",
       "      <td id=\"T_9c606_row5_col0\" class=\"data row5 col0\" >Test data shape</td>\n",
       "      <td id=\"T_9c606_row5_col1\" class=\"data row5 col1\" >(8447, 8)</td>\n",
       "    </tr>\n",
       "    <tr>\n",
       "      <th id=\"T_9c606_level0_row6\" class=\"row_heading level0 row6\" >6</th>\n",
       "      <td id=\"T_9c606_row6_col0\" class=\"data row6 col0\" >Numeric features</td>\n",
       "      <td id=\"T_9c606_row6_col1\" class=\"data row6 col1\" >7</td>\n",
       "    </tr>\n",
       "    <tr>\n",
       "      <th id=\"T_9c606_level0_row7\" class=\"row_heading level0 row7\" >7</th>\n",
       "      <td id=\"T_9c606_row7_col0\" class=\"data row7 col0\" >Preprocess</td>\n",
       "      <td id=\"T_9c606_row7_col1\" class=\"data row7 col1\" >True</td>\n",
       "    </tr>\n",
       "    <tr>\n",
       "      <th id=\"T_9c606_level0_row8\" class=\"row_heading level0 row8\" >8</th>\n",
       "      <td id=\"T_9c606_row8_col0\" class=\"data row8 col0\" >Imputation type</td>\n",
       "      <td id=\"T_9c606_row8_col1\" class=\"data row8 col1\" >simple</td>\n",
       "    </tr>\n",
       "    <tr>\n",
       "      <th id=\"T_9c606_level0_row9\" class=\"row_heading level0 row9\" >9</th>\n",
       "      <td id=\"T_9c606_row9_col0\" class=\"data row9 col0\" >Numeric imputation</td>\n",
       "      <td id=\"T_9c606_row9_col1\" class=\"data row9 col1\" >mean</td>\n",
       "    </tr>\n",
       "    <tr>\n",
       "      <th id=\"T_9c606_level0_row10\" class=\"row_heading level0 row10\" >10</th>\n",
       "      <td id=\"T_9c606_row10_col0\" class=\"data row10 col0\" >Categorical imputation</td>\n",
       "      <td id=\"T_9c606_row10_col1\" class=\"data row10 col1\" >constant</td>\n",
       "    </tr>\n",
       "    <tr>\n",
       "      <th id=\"T_9c606_level0_row11\" class=\"row_heading level0 row11\" >11</th>\n",
       "      <td id=\"T_9c606_row11_col0\" class=\"data row11 col0\" >Low variance threshold</td>\n",
       "      <td id=\"T_9c606_row11_col1\" class=\"data row11 col1\" >0</td>\n",
       "    </tr>\n",
       "    <tr>\n",
       "      <th id=\"T_9c606_level0_row12\" class=\"row_heading level0 row12\" >12</th>\n",
       "      <td id=\"T_9c606_row12_col0\" class=\"data row12 col0\" >Fold Generator</td>\n",
       "      <td id=\"T_9c606_row12_col1\" class=\"data row12 col1\" >KFold</td>\n",
       "    </tr>\n",
       "    <tr>\n",
       "      <th id=\"T_9c606_level0_row13\" class=\"row_heading level0 row13\" >13</th>\n",
       "      <td id=\"T_9c606_row13_col0\" class=\"data row13 col0\" >Fold Number</td>\n",
       "      <td id=\"T_9c606_row13_col1\" class=\"data row13 col1\" >10</td>\n",
       "    </tr>\n",
       "    <tr>\n",
       "      <th id=\"T_9c606_level0_row14\" class=\"row_heading level0 row14\" >14</th>\n",
       "      <td id=\"T_9c606_row14_col0\" class=\"data row14 col0\" >CPU Jobs</td>\n",
       "      <td id=\"T_9c606_row14_col1\" class=\"data row14 col1\" >-1</td>\n",
       "    </tr>\n",
       "    <tr>\n",
       "      <th id=\"T_9c606_level0_row15\" class=\"row_heading level0 row15\" >15</th>\n",
       "      <td id=\"T_9c606_row15_col0\" class=\"data row15 col0\" >Use GPU</td>\n",
       "      <td id=\"T_9c606_row15_col1\" class=\"data row15 col1\" >False</td>\n",
       "    </tr>\n",
       "    <tr>\n",
       "      <th id=\"T_9c606_level0_row16\" class=\"row_heading level0 row16\" >16</th>\n",
       "      <td id=\"T_9c606_row16_col0\" class=\"data row16 col0\" >Log Experiment</td>\n",
       "      <td id=\"T_9c606_row16_col1\" class=\"data row16 col1\" >False</td>\n",
       "    </tr>\n",
       "    <tr>\n",
       "      <th id=\"T_9c606_level0_row17\" class=\"row_heading level0 row17\" >17</th>\n",
       "      <td id=\"T_9c606_row17_col0\" class=\"data row17 col0\" >Experiment Name</td>\n",
       "      <td id=\"T_9c606_row17_col1\" class=\"data row17 col1\" >reg-default-name</td>\n",
       "    </tr>\n",
       "    <tr>\n",
       "      <th id=\"T_9c606_level0_row18\" class=\"row_heading level0 row18\" >18</th>\n",
       "      <td id=\"T_9c606_row18_col0\" class=\"data row18 col0\" >USI</td>\n",
       "      <td id=\"T_9c606_row18_col1\" class=\"data row18 col1\" >986e</td>\n",
       "    </tr>\n",
       "  </tbody>\n",
       "</table>\n"
      ],
      "text/plain": [
       "<pandas.io.formats.style.Styler at 0x224baa7d3d0>"
      ]
     },
     "metadata": {},
     "output_type": "display_data"
    }
   ],
   "source": [
    "exp = setup(df, target = 'tourism')"
   ]
  },
  {
   "cell_type": "code",
   "execution_count": 13,
   "metadata": {
    "pycharm": {
     "name": "#%%\n"
    }
   },
   "outputs": [
    {
     "data": {
      "text/html": [],
      "text/plain": [
       "<IPython.core.display.HTML object>"
      ]
     },
     "metadata": {},
     "output_type": "display_data"
    },
    {
     "data": {
      "text/html": [
       "<style type=\"text/css\">\n",
       "#T_0226e th {\n",
       "  text-align: left;\n",
       "}\n",
       "#T_0226e_row0_col0, #T_0226e_row0_col1, #T_0226e_row0_col5, #T_0226e_row0_col6, #T_0226e_row1_col0, #T_0226e_row1_col1, #T_0226e_row1_col2, #T_0226e_row1_col3, #T_0226e_row1_col4, #T_0226e_row2_col0, #T_0226e_row2_col1, #T_0226e_row2_col2, #T_0226e_row2_col3, #T_0226e_row2_col4, #T_0226e_row2_col5, #T_0226e_row2_col6, #T_0226e_row3_col0, #T_0226e_row3_col1, #T_0226e_row3_col2, #T_0226e_row3_col3, #T_0226e_row3_col4, #T_0226e_row3_col5, #T_0226e_row3_col6, #T_0226e_row4_col0, #T_0226e_row4_col1, #T_0226e_row4_col2, #T_0226e_row4_col3, #T_0226e_row4_col4, #T_0226e_row4_col5, #T_0226e_row4_col6, #T_0226e_row5_col0, #T_0226e_row5_col1, #T_0226e_row5_col2, #T_0226e_row5_col3, #T_0226e_row5_col4, #T_0226e_row5_col5, #T_0226e_row5_col6, #T_0226e_row6_col0, #T_0226e_row6_col1, #T_0226e_row6_col2, #T_0226e_row6_col3, #T_0226e_row6_col4, #T_0226e_row6_col5, #T_0226e_row6_col6, #T_0226e_row7_col0, #T_0226e_row7_col1, #T_0226e_row7_col2, #T_0226e_row7_col3, #T_0226e_row7_col4, #T_0226e_row7_col5, #T_0226e_row7_col6, #T_0226e_row8_col0, #T_0226e_row8_col1, #T_0226e_row8_col2, #T_0226e_row8_col3, #T_0226e_row8_col4, #T_0226e_row8_col5, #T_0226e_row8_col6, #T_0226e_row9_col0, #T_0226e_row9_col1, #T_0226e_row9_col2, #T_0226e_row9_col3, #T_0226e_row9_col4, #T_0226e_row9_col5, #T_0226e_row9_col6, #T_0226e_row10_col0, #T_0226e_row10_col1, #T_0226e_row10_col2, #T_0226e_row10_col3, #T_0226e_row10_col4, #T_0226e_row10_col5, #T_0226e_row10_col6, #T_0226e_row11_col0, #T_0226e_row11_col1, #T_0226e_row11_col2, #T_0226e_row11_col3, #T_0226e_row11_col4, #T_0226e_row11_col5, #T_0226e_row11_col6, #T_0226e_row12_col0, #T_0226e_row12_col2, #T_0226e_row12_col3, #T_0226e_row12_col4, #T_0226e_row12_col5, #T_0226e_row12_col6, #T_0226e_row13_col0, #T_0226e_row13_col1, #T_0226e_row13_col2, #T_0226e_row13_col3, #T_0226e_row13_col4, #T_0226e_row13_col5, #T_0226e_row13_col6, #T_0226e_row14_col0, #T_0226e_row14_col1, #T_0226e_row14_col2, #T_0226e_row14_col3, #T_0226e_row14_col4, #T_0226e_row14_col5, #T_0226e_row14_col6, #T_0226e_row15_col0, #T_0226e_row15_col1, #T_0226e_row15_col2, #T_0226e_row15_col3, #T_0226e_row15_col4, #T_0226e_row15_col5, #T_0226e_row15_col6, #T_0226e_row16_col0, #T_0226e_row16_col1, #T_0226e_row16_col2, #T_0226e_row16_col3, #T_0226e_row16_col4, #T_0226e_row16_col5, #T_0226e_row16_col6, #T_0226e_row17_col0, #T_0226e_row17_col1, #T_0226e_row17_col2, #T_0226e_row17_col3, #T_0226e_row17_col4, #T_0226e_row17_col5, #T_0226e_row17_col6 {\n",
       "  text-align: left;\n",
       "}\n",
       "#T_0226e_row0_col2, #T_0226e_row0_col3, #T_0226e_row0_col4, #T_0226e_row1_col5, #T_0226e_row1_col6, #T_0226e_row12_col1 {\n",
       "  text-align: left;\n",
       "  background-color: yellow;\n",
       "}\n",
       "#T_0226e_row0_col7, #T_0226e_row1_col7, #T_0226e_row2_col7, #T_0226e_row3_col7, #T_0226e_row4_col7, #T_0226e_row5_col7, #T_0226e_row7_col7, #T_0226e_row8_col7, #T_0226e_row9_col7, #T_0226e_row10_col7, #T_0226e_row11_col7, #T_0226e_row12_col7, #T_0226e_row13_col7, #T_0226e_row14_col7, #T_0226e_row15_col7, #T_0226e_row16_col7, #T_0226e_row17_col7 {\n",
       "  text-align: left;\n",
       "  background-color: lightgrey;\n",
       "}\n",
       "#T_0226e_row6_col7 {\n",
       "  text-align: left;\n",
       "  background-color: yellow;\n",
       "  background-color: lightgrey;\n",
       "}\n",
       "</style>\n",
       "<table id=\"T_0226e\">\n",
       "  <thead>\n",
       "    <tr>\n",
       "      <th class=\"blank level0\" >&nbsp;</th>\n",
       "      <th id=\"T_0226e_level0_col0\" class=\"col_heading level0 col0\" >Model</th>\n",
       "      <th id=\"T_0226e_level0_col1\" class=\"col_heading level0 col1\" >MAE</th>\n",
       "      <th id=\"T_0226e_level0_col2\" class=\"col_heading level0 col2\" >MSE</th>\n",
       "      <th id=\"T_0226e_level0_col3\" class=\"col_heading level0 col3\" >RMSE</th>\n",
       "      <th id=\"T_0226e_level0_col4\" class=\"col_heading level0 col4\" >R2</th>\n",
       "      <th id=\"T_0226e_level0_col5\" class=\"col_heading level0 col5\" >RMSLE</th>\n",
       "      <th id=\"T_0226e_level0_col6\" class=\"col_heading level0 col6\" >MAPE</th>\n",
       "      <th id=\"T_0226e_level0_col7\" class=\"col_heading level0 col7\" >TT (Sec)</th>\n",
       "    </tr>\n",
       "  </thead>\n",
       "  <tbody>\n",
       "    <tr>\n",
       "      <th id=\"T_0226e_level0_row0\" class=\"row_heading level0 row0\" >lightgbm</th>\n",
       "      <td id=\"T_0226e_row0_col0\" class=\"data row0 col0\" >Light Gradient Boosting Machine</td>\n",
       "      <td id=\"T_0226e_row0_col1\" class=\"data row0 col1\" >0.3841</td>\n",
       "      <td id=\"T_0226e_row0_col2\" class=\"data row0 col2\" >1.1876</td>\n",
       "      <td id=\"T_0226e_row0_col3\" class=\"data row0 col3\" >1.0847</td>\n",
       "      <td id=\"T_0226e_row0_col4\" class=\"data row0 col4\" >0.4800</td>\n",
       "      <td id=\"T_0226e_row0_col5\" class=\"data row0 col5\" >0.3405</td>\n",
       "      <td id=\"T_0226e_row0_col6\" class=\"data row0 col6\" >0.7429</td>\n",
       "      <td id=\"T_0226e_row0_col7\" class=\"data row0 col7\" >0.6870</td>\n",
       "    </tr>\n",
       "    <tr>\n",
       "      <th id=\"T_0226e_level0_row1\" class=\"row_heading level0 row1\" >gbr</th>\n",
       "      <td id=\"T_0226e_row1_col0\" class=\"data row1 col0\" >Gradient Boosting Regressor</td>\n",
       "      <td id=\"T_0226e_row1_col1\" class=\"data row1 col1\" >0.3828</td>\n",
       "      <td id=\"T_0226e_row1_col2\" class=\"data row1 col2\" >1.2293</td>\n",
       "      <td id=\"T_0226e_row1_col3\" class=\"data row1 col3\" >1.1052</td>\n",
       "      <td id=\"T_0226e_row1_col4\" class=\"data row1 col4\" >0.4613</td>\n",
       "      <td id=\"T_0226e_row1_col5\" class=\"data row1 col5\" >0.3326</td>\n",
       "      <td id=\"T_0226e_row1_col6\" class=\"data row1 col6\" >0.7054</td>\n",
       "      <td id=\"T_0226e_row1_col7\" class=\"data row1 col7\" >0.5920</td>\n",
       "    </tr>\n",
       "    <tr>\n",
       "      <th id=\"T_0226e_level0_row2\" class=\"row_heading level0 row2\" >et</th>\n",
       "      <td id=\"T_0226e_row2_col0\" class=\"data row2 col0\" >Extra Trees Regressor</td>\n",
       "      <td id=\"T_0226e_row2_col1\" class=\"data row2 col1\" >0.3921</td>\n",
       "      <td id=\"T_0226e_row2_col2\" class=\"data row2 col2\" >1.2241</td>\n",
       "      <td id=\"T_0226e_row2_col3\" class=\"data row2 col3\" >1.1019</td>\n",
       "      <td id=\"T_0226e_row2_col4\" class=\"data row2 col4\" >0.4542</td>\n",
       "      <td id=\"T_0226e_row2_col5\" class=\"data row2 col5\" >0.3720</td>\n",
       "      <td id=\"T_0226e_row2_col6\" class=\"data row2 col6\" >0.7713</td>\n",
       "      <td id=\"T_0226e_row2_col7\" class=\"data row2 col7\" >0.5540</td>\n",
       "    </tr>\n",
       "    <tr>\n",
       "      <th id=\"T_0226e_level0_row3\" class=\"row_heading level0 row3\" >rf</th>\n",
       "      <td id=\"T_0226e_row3_col0\" class=\"data row3 col0\" >Random Forest Regressor</td>\n",
       "      <td id=\"T_0226e_row3_col1\" class=\"data row3 col1\" >0.3946</td>\n",
       "      <td id=\"T_0226e_row3_col2\" class=\"data row3 col2\" >1.2745</td>\n",
       "      <td id=\"T_0226e_row3_col3\" class=\"data row3 col3\" >1.1226</td>\n",
       "      <td id=\"T_0226e_row3_col4\" class=\"data row3 col4\" >0.4414</td>\n",
       "      <td id=\"T_0226e_row3_col5\" class=\"data row3 col5\" >0.3646</td>\n",
       "      <td id=\"T_0226e_row3_col6\" class=\"data row3 col6\" >0.7486</td>\n",
       "      <td id=\"T_0226e_row3_col7\" class=\"data row3 col7\" >0.3640</td>\n",
       "    </tr>\n",
       "    <tr>\n",
       "      <th id=\"T_0226e_level0_row4\" class=\"row_heading level0 row4\" >br</th>\n",
       "      <td id=\"T_0226e_row4_col0\" class=\"data row4 col0\" >Bayesian Ridge</td>\n",
       "      <td id=\"T_0226e_row4_col1\" class=\"data row4 col1\" >0.3855</td>\n",
       "      <td id=\"T_0226e_row4_col2\" class=\"data row4 col2\" >1.3489</td>\n",
       "      <td id=\"T_0226e_row4_col3\" class=\"data row4 col3\" >1.1470</td>\n",
       "      <td id=\"T_0226e_row4_col4\" class=\"data row4 col4\" >0.4345</td>\n",
       "      <td id=\"T_0226e_row4_col5\" class=\"data row4 col5\" >0.3488</td>\n",
       "      <td id=\"T_0226e_row4_col6\" class=\"data row4 col6\" >0.7601</td>\n",
       "      <td id=\"T_0226e_row4_col7\" class=\"data row4 col7\" >0.1680</td>\n",
       "    </tr>\n",
       "    <tr>\n",
       "      <th id=\"T_0226e_level0_row5\" class=\"row_heading level0 row5\" >lr</th>\n",
       "      <td id=\"T_0226e_row5_col0\" class=\"data row5 col0\" >Linear Regression</td>\n",
       "      <td id=\"T_0226e_row5_col1\" class=\"data row5 col1\" >0.3855</td>\n",
       "      <td id=\"T_0226e_row5_col2\" class=\"data row5 col2\" >1.3495</td>\n",
       "      <td id=\"T_0226e_row5_col3\" class=\"data row5 col3\" >1.1473</td>\n",
       "      <td id=\"T_0226e_row5_col4\" class=\"data row5 col4\" >0.4342</td>\n",
       "      <td id=\"T_0226e_row5_col5\" class=\"data row5 col5\" >0.3489</td>\n",
       "      <td id=\"T_0226e_row5_col6\" class=\"data row5 col6\" >0.7603</td>\n",
       "      <td id=\"T_0226e_row5_col7\" class=\"data row5 col7\" >0.7960</td>\n",
       "    </tr>\n",
       "    <tr>\n",
       "      <th id=\"T_0226e_level0_row6\" class=\"row_heading level0 row6\" >ridge</th>\n",
       "      <td id=\"T_0226e_row6_col0\" class=\"data row6 col0\" >Ridge Regression</td>\n",
       "      <td id=\"T_0226e_row6_col1\" class=\"data row6 col1\" >0.3855</td>\n",
       "      <td id=\"T_0226e_row6_col2\" class=\"data row6 col2\" >1.3495</td>\n",
       "      <td id=\"T_0226e_row6_col3\" class=\"data row6 col3\" >1.1473</td>\n",
       "      <td id=\"T_0226e_row6_col4\" class=\"data row6 col4\" >0.4342</td>\n",
       "      <td id=\"T_0226e_row6_col5\" class=\"data row6 col5\" >0.3489</td>\n",
       "      <td id=\"T_0226e_row6_col6\" class=\"data row6 col6\" >0.7603</td>\n",
       "      <td id=\"T_0226e_row6_col7\" class=\"data row6 col7\" >0.0230</td>\n",
       "    </tr>\n",
       "    <tr>\n",
       "      <th id=\"T_0226e_level0_row7\" class=\"row_heading level0 row7\" >lar</th>\n",
       "      <td id=\"T_0226e_row7_col0\" class=\"data row7 col0\" >Least Angle Regression</td>\n",
       "      <td id=\"T_0226e_row7_col1\" class=\"data row7 col1\" >0.3855</td>\n",
       "      <td id=\"T_0226e_row7_col2\" class=\"data row7 col2\" >1.3495</td>\n",
       "      <td id=\"T_0226e_row7_col3\" class=\"data row7 col3\" >1.1473</td>\n",
       "      <td id=\"T_0226e_row7_col4\" class=\"data row7 col4\" >0.4342</td>\n",
       "      <td id=\"T_0226e_row7_col5\" class=\"data row7 col5\" >0.3489</td>\n",
       "      <td id=\"T_0226e_row7_col6\" class=\"data row7 col6\" >0.7603</td>\n",
       "      <td id=\"T_0226e_row7_col7\" class=\"data row7 col7\" >0.1840</td>\n",
       "    </tr>\n",
       "    <tr>\n",
       "      <th id=\"T_0226e_level0_row8\" class=\"row_heading level0 row8\" >en</th>\n",
       "      <td id=\"T_0226e_row8_col0\" class=\"data row8 col0\" >Elastic Net</td>\n",
       "      <td id=\"T_0226e_row8_col1\" class=\"data row8 col1\" >0.4009</td>\n",
       "      <td id=\"T_0226e_row8_col2\" class=\"data row8 col2\" >1.3985</td>\n",
       "      <td id=\"T_0226e_row8_col3\" class=\"data row8 col3\" >1.1714</td>\n",
       "      <td id=\"T_0226e_row8_col4\" class=\"data row8 col4\" >0.4200</td>\n",
       "      <td id=\"T_0226e_row8_col5\" class=\"data row8 col5\" >0.3572</td>\n",
       "      <td id=\"T_0226e_row8_col6\" class=\"data row8 col6\" >0.7635</td>\n",
       "      <td id=\"T_0226e_row8_col7\" class=\"data row8 col7\" >0.0700</td>\n",
       "    </tr>\n",
       "    <tr>\n",
       "      <th id=\"T_0226e_level0_row9\" class=\"row_heading level0 row9\" >knn</th>\n",
       "      <td id=\"T_0226e_row9_col0\" class=\"data row9 col0\" >K Neighbors Regressor</td>\n",
       "      <td id=\"T_0226e_row9_col1\" class=\"data row9 col1\" >0.3847</td>\n",
       "      <td id=\"T_0226e_row9_col2\" class=\"data row9 col2\" >1.3806</td>\n",
       "      <td id=\"T_0226e_row9_col3\" class=\"data row9 col3\" >1.1658</td>\n",
       "      <td id=\"T_0226e_row9_col4\" class=\"data row9 col4\" >0.4106</td>\n",
       "      <td id=\"T_0226e_row9_col5\" class=\"data row9 col5\" >0.3737</td>\n",
       "      <td id=\"T_0226e_row9_col6\" class=\"data row9 col6\" >0.7620</td>\n",
       "      <td id=\"T_0226e_row9_col7\" class=\"data row9 col7\" >1.2130</td>\n",
       "    </tr>\n",
       "    <tr>\n",
       "      <th id=\"T_0226e_level0_row10\" class=\"row_heading level0 row10\" >omp</th>\n",
       "      <td id=\"T_0226e_row10_col0\" class=\"data row10 col0\" >Orthogonal Matching Pursuit</td>\n",
       "      <td id=\"T_0226e_row10_col1\" class=\"data row10 col1\" >0.4326</td>\n",
       "      <td id=\"T_0226e_row10_col2\" class=\"data row10 col2\" >1.4372</td>\n",
       "      <td id=\"T_0226e_row10_col3\" class=\"data row10 col3\" >1.1820</td>\n",
       "      <td id=\"T_0226e_row10_col4\" class=\"data row10 col4\" >0.4046</td>\n",
       "      <td id=\"T_0226e_row10_col5\" class=\"data row10 col5\" >0.3578</td>\n",
       "      <td id=\"T_0226e_row10_col6\" class=\"data row10 col6\" >0.7815</td>\n",
       "      <td id=\"T_0226e_row10_col7\" class=\"data row10 col7\" >0.1700</td>\n",
       "    </tr>\n",
       "    <tr>\n",
       "      <th id=\"T_0226e_level0_row11\" class=\"row_heading level0 row11\" >lasso</th>\n",
       "      <td id=\"T_0226e_row11_col0\" class=\"data row11 col0\" >Lasso Regression</td>\n",
       "      <td id=\"T_0226e_row11_col1\" class=\"data row11 col1\" >0.4026</td>\n",
       "      <td id=\"T_0226e_row11_col2\" class=\"data row11 col2\" >1.4514</td>\n",
       "      <td id=\"T_0226e_row11_col3\" class=\"data row11 col3\" >1.1935</td>\n",
       "      <td id=\"T_0226e_row11_col4\" class=\"data row11 col4\" >0.4014</td>\n",
       "      <td id=\"T_0226e_row11_col5\" class=\"data row11 col5\" >0.3598</td>\n",
       "      <td id=\"T_0226e_row11_col6\" class=\"data row11 col6\" >0.7571</td>\n",
       "      <td id=\"T_0226e_row11_col7\" class=\"data row11 col7\" >0.2280</td>\n",
       "    </tr>\n",
       "    <tr>\n",
       "      <th id=\"T_0226e_level0_row12\" class=\"row_heading level0 row12\" >huber</th>\n",
       "      <td id=\"T_0226e_row12_col0\" class=\"data row12 col0\" >Huber Regressor</td>\n",
       "      <td id=\"T_0226e_row12_col1\" class=\"data row12 col1\" >0.2968</td>\n",
       "      <td id=\"T_0226e_row12_col2\" class=\"data row12 col2\" >1.6062</td>\n",
       "      <td id=\"T_0226e_row12_col3\" class=\"data row12 col3\" >1.2538</td>\n",
       "      <td id=\"T_0226e_row12_col4\" class=\"data row12 col4\" >0.3436</td>\n",
       "      <td id=\"T_0226e_row12_col5\" class=\"data row12 col5\" >0.3380</td>\n",
       "      <td id=\"T_0226e_row12_col6\" class=\"data row12 col6\" >0.8483</td>\n",
       "      <td id=\"T_0226e_row12_col7\" class=\"data row12 col7\" >1.9650</td>\n",
       "    </tr>\n",
       "    <tr>\n",
       "      <th id=\"T_0226e_level0_row13\" class=\"row_heading level0 row13\" >dt</th>\n",
       "      <td id=\"T_0226e_row13_col0\" class=\"data row13 col0\" >Decision Tree Regressor</td>\n",
       "      <td id=\"T_0226e_row13_col1\" class=\"data row13 col1\" >0.4462</td>\n",
       "      <td id=\"T_0226e_row13_col2\" class=\"data row13 col2\" >2.0935</td>\n",
       "      <td id=\"T_0226e_row13_col3\" class=\"data row13 col3\" >1.4372</td>\n",
       "      <td id=\"T_0226e_row13_col4\" class=\"data row13 col4\" >0.1010</td>\n",
       "      <td id=\"T_0226e_row13_col5\" class=\"data row13 col5\" >0.4255</td>\n",
       "      <td id=\"T_0226e_row13_col6\" class=\"data row13 col6\" >0.9742</td>\n",
       "      <td id=\"T_0226e_row13_col7\" class=\"data row13 col7\" >0.1300</td>\n",
       "    </tr>\n",
       "    <tr>\n",
       "      <th id=\"T_0226e_level0_row14\" class=\"row_heading level0 row14\" >llar</th>\n",
       "      <td id=\"T_0226e_row14_col0\" class=\"data row14 col0\" >Lasso Least Angle Regression</td>\n",
       "      <td id=\"T_0226e_row14_col1\" class=\"data row14 col1\" >0.5424</td>\n",
       "      <td id=\"T_0226e_row14_col2\" class=\"data row14 col2\" >2.4729</td>\n",
       "      <td id=\"T_0226e_row14_col3\" class=\"data row14 col3\" >1.5538</td>\n",
       "      <td id=\"T_0226e_row14_col4\" class=\"data row14 col4\" >-0.0004</td>\n",
       "      <td id=\"T_0226e_row14_col5\" class=\"data row14 col5\" >0.4127</td>\n",
       "      <td id=\"T_0226e_row14_col6\" class=\"data row14 col6\" >0.7611</td>\n",
       "      <td id=\"T_0226e_row14_col7\" class=\"data row14 col7\" >0.2240</td>\n",
       "    </tr>\n",
       "    <tr>\n",
       "      <th id=\"T_0226e_level0_row15\" class=\"row_heading level0 row15\" >dummy</th>\n",
       "      <td id=\"T_0226e_row15_col0\" class=\"data row15 col0\" >Dummy Regressor</td>\n",
       "      <td id=\"T_0226e_row15_col1\" class=\"data row15 col1\" >0.5424</td>\n",
       "      <td id=\"T_0226e_row15_col2\" class=\"data row15 col2\" >2.4729</td>\n",
       "      <td id=\"T_0226e_row15_col3\" class=\"data row15 col3\" >1.5538</td>\n",
       "      <td id=\"T_0226e_row15_col4\" class=\"data row15 col4\" >-0.0004</td>\n",
       "      <td id=\"T_0226e_row15_col5\" class=\"data row15 col5\" >0.4127</td>\n",
       "      <td id=\"T_0226e_row15_col6\" class=\"data row15 col6\" >0.7611</td>\n",
       "      <td id=\"T_0226e_row15_col7\" class=\"data row15 col7\" >0.0560</td>\n",
       "    </tr>\n",
       "    <tr>\n",
       "      <th id=\"T_0226e_level0_row16\" class=\"row_heading level0 row16\" >ada</th>\n",
       "      <td id=\"T_0226e_row16_col0\" class=\"data row16 col0\" >AdaBoost Regressor</td>\n",
       "      <td id=\"T_0226e_row16_col1\" class=\"data row16 col1\" >1.2685</td>\n",
       "      <td id=\"T_0226e_row16_col2\" class=\"data row16 col2\" >3.7319</td>\n",
       "      <td id=\"T_0226e_row16_col3\" class=\"data row16 col3\" >1.9018</td>\n",
       "      <td id=\"T_0226e_row16_col4\" class=\"data row16 col4\" >-0.6433</td>\n",
       "      <td id=\"T_0226e_row16_col5\" class=\"data row16 col5\" >0.7359</td>\n",
       "      <td id=\"T_0226e_row16_col6\" class=\"data row16 col6\" >1.2168</td>\n",
       "      <td id=\"T_0226e_row16_col7\" class=\"data row16 col7\" >0.5060</td>\n",
       "    </tr>\n",
       "    <tr>\n",
       "      <th id=\"T_0226e_level0_row17\" class=\"row_heading level0 row17\" >par</th>\n",
       "      <td id=\"T_0226e_row17_col0\" class=\"data row17 col0\" >Passive Aggressive Regressor</td>\n",
       "      <td id=\"T_0226e_row17_col1\" class=\"data row17 col1\" >1.4143</td>\n",
       "      <td id=\"T_0226e_row17_col2\" class=\"data row17 col2\" >26.3586</td>\n",
       "      <td id=\"T_0226e_row17_col3\" class=\"data row17 col3\" >3.4519</td>\n",
       "      <td id=\"T_0226e_row17_col4\" class=\"data row17 col4\" >-8.4906</td>\n",
       "      <td id=\"T_0226e_row17_col5\" class=\"data row17 col5\" >0.6076</td>\n",
       "      <td id=\"T_0226e_row17_col6\" class=\"data row17 col6\" >2.2509</td>\n",
       "      <td id=\"T_0226e_row17_col7\" class=\"data row17 col7\" >0.2680</td>\n",
       "    </tr>\n",
       "  </tbody>\n",
       "</table>\n"
      ],
      "text/plain": [
       "<pandas.io.formats.style.Styler at 0x224b947cbb0>"
      ]
     },
     "metadata": {},
     "output_type": "display_data"
    },
    {
     "data": {
      "application/vnd.jupyter.widget-view+json": {
       "model_id": "",
       "version_major": 2,
       "version_minor": 0
      },
      "text/plain": [
       "Processing:   0%|          | 0/79 [00:00<?, ?it/s]"
      ]
     },
     "metadata": {},
     "output_type": "display_data"
    }
   ],
   "source": [
    "best = compare_models(n_select = 3)"
   ]
  },
  {
   "cell_type": "code",
   "execution_count": 14,
   "metadata": {
    "pycharm": {
     "name": "#%%\n"
    }
   },
   "outputs": [
    {
     "data": {
      "application/vnd.jupyter.widget-view+json": {
       "model_id": "7a00e723ff634ce882aad15054714b0c",
       "version_major": 2,
       "version_minor": 0
      },
      "text/plain": [
       "interactive(children=(ToggleButtons(description='Plot Type:', icons=('',), options=(('Pipeline Plot', 'pipelin…"
      ]
     },
     "metadata": {},
     "output_type": "display_data"
    }
   ],
   "source": [
    "evaluate_model(best[0])"
   ]
  },
  {
   "cell_type": "code",
   "execution_count": 17,
   "metadata": {
    "pycharm": {
     "name": "#%%\n"
    }
   },
   "outputs": [
    {
     "name": "stdout",
     "output_type": "stream",
     "text": [
      "Generating self.shap_explainer = shap.TreeExplainer(model)\n",
      "Building ExplainerDashboard..\n",
      "Detected notebook environment, consider setting mode='external', mode='inline' or mode='jupyterlab' to keep the notebook interactive while the dashboard is running...\n",
      "The explainer object has no decision_trees property. so setting decision_trees=False...\n",
      "Warning: calculating shap interaction values can be slow! Pass shap_interaction=False to remove interactions tab.\n",
      "Generating layout...\n",
      "Calculating shap values...\n",
      "Calculating predictions...\n",
      "Calculating residuals...\n",
      "Calculating absolute residuals...\n",
      "Warning: mean-absolute-percentage-error is very large (772559813390166.5), you can hide it from the metrics by passing parameter show_metrics...\n",
      "Calculating shap interaction values...\n",
      "Reminder: TreeShap computational complexity is O(TLD^2), where T is the number of trees, L is the maximum number of leaves in any tree and D the maximal depth of any tree. So reducing these will speed up the calculation.\n",
      "Warning: mean-absolute-percentage-error is very large (772559813390166.5), you can hide it from the metrics by passing parameter show_metrics...\n",
      "Warning: mean-absolute-percentage-error is very large (772559813390166.5), you can hide it from the metrics by passing parameter show_metrics...\n",
      "Calculating dependencies...\n",
      "Calculating importances...\n",
      "Reminder: you can store the explainer (including calculated dependencies) with explainer.dump('explainer.joblib') and reload with e.g. ClassifierExplainer.from_file('explainer.joblib')\n",
      "Registering callbacks...\n",
      "Starting ExplainerDashboard on http://192.168.1.116:8050\n",
      "Dash is running on http://0.0.0.0:8050/\n",
      "\n",
      "Dash is running on http://0.0.0.0:8050/\n",
      "\n",
      "Dash is running on http://0.0.0.0:8050/\n",
      "\n",
      " * Serving Flask app \"explainerdashboard.dashboards\" (lazy loading)\n",
      " * Environment: production\n",
      "\u001B[31m   WARNING: This is a development server. Do not use it in a production deployment.\u001B[0m\n",
      "\u001B[2m   Use a production WSGI server instead.\u001B[0m\n",
      " * Debug mode: off\n"
     ]
    },
    {
     "name": "stderr",
     "output_type": "stream",
     "text": [
      " * Running on all addresses.\n",
      "   WARNING: This is a development server. Do not use it in a production deployment.\n",
      " * Running on http://192.168.1.116:8050/ (Press CTRL+C to quit)\n",
      "192.168.1.116 - - [03/Nov/2022 11:48:18] \"GET / HTTP/1.1\" 200 -\n",
      "192.168.1.116 - - [03/Nov/2022 11:48:19] \"GET /_dash-layout HTTP/1.1\" 200 -\n",
      "192.168.1.116 - - [03/Nov/2022 11:48:19] \"GET /_dash-dependencies HTTP/1.1\" 200 -\n",
      "192.168.1.116 - - [03/Nov/2022 11:48:19] \"GET /_dash-component-suites/dash/dcc/async-graph.js HTTP/1.1\" 200 -\n",
      "192.168.1.116 - - [03/Nov/2022 11:48:19] \"GET /_dash-component-suites/dash/dcc/async-plotlyjs.js HTTP/1.1\" 200 -\n",
      "192.168.1.116 - - [03/Nov/2022 11:48:19] \"POST /_dash-update-component HTTP/1.1\" 204 -\n",
      "192.168.1.116 - - [03/Nov/2022 11:48:19] \"POST /_dash-update-component HTTP/1.1\" 200 -\n",
      "192.168.1.116 - - [03/Nov/2022 11:48:19] \"POST /_dash-update-component HTTP/1.1\" 200 -\n",
      "192.168.1.116 - - [03/Nov/2022 11:48:19] \"POST /_dash-update-component HTTP/1.1\" 200 -\n",
      "192.168.1.116 - - [03/Nov/2022 11:48:19] \"POST /_dash-update-component HTTP/1.1\" 200 -\n",
      "192.168.1.116 - - [03/Nov/2022 11:48:19] \"POST /_dash-update-component HTTP/1.1\" 200 -\n",
      "192.168.1.116 - - [03/Nov/2022 11:48:19] \"POST /_dash-update-component HTTP/1.1\" 200 -\n",
      "192.168.1.116 - - [03/Nov/2022 11:48:19] \"POST /_dash-update-component HTTP/1.1\" 200 -\n",
      "192.168.1.116 - - [03/Nov/2022 11:48:19] \"POST /_dash-update-component HTTP/1.1\" 200 -\n",
      "192.168.1.116 - - [03/Nov/2022 11:48:19] \"POST /_dash-update-component HTTP/1.1\" 200 -\n",
      "192.168.1.116 - - [03/Nov/2022 11:48:19] \"POST /_dash-update-component HTTP/1.1\" 200 -\n",
      "192.168.1.116 - - [03/Nov/2022 11:48:19] \"POST /_dash-update-component HTTP/1.1\" 200 -\n",
      "192.168.1.116 - - [03/Nov/2022 11:48:19] \"POST /_dash-update-component HTTP/1.1\" 200 -\n",
      "192.168.1.116 - - [03/Nov/2022 11:48:19] \"POST /_dash-update-component HTTP/1.1\" 200 -\n",
      "192.168.1.116 - - [03/Nov/2022 11:48:19] \"POST /_dash-update-component HTTP/1.1\" 200 -\n",
      "192.168.1.116 - - [03/Nov/2022 11:48:19] \"POST /_dash-update-component HTTP/1.1\" 200 -\n",
      "192.168.1.116 - - [03/Nov/2022 11:48:19] \"POST /_dash-update-component HTTP/1.1\" 200 -\n",
      "192.168.1.116 - - [03/Nov/2022 11:48:19] \"POST /_dash-update-component HTTP/1.1\" 200 -\n",
      "192.168.1.116 - - [03/Nov/2022 11:48:19] \"POST /_dash-update-component HTTP/1.1\" 200 -\n",
      "192.168.1.116 - - [03/Nov/2022 11:48:19] \"POST /_dash-update-component HTTP/1.1\" 200 -\n",
      "192.168.1.116 - - [03/Nov/2022 11:48:19] \"POST /_dash-update-component HTTP/1.1\" 200 -\n",
      "192.168.1.116 - - [03/Nov/2022 11:48:19] \"POST /_dash-update-component HTTP/1.1\" 200 -\n",
      "192.168.1.116 - - [03/Nov/2022 11:48:20] \"POST /_dash-update-component HTTP/1.1\" 200 -\n",
      "192.168.1.116 - - [03/Nov/2022 11:48:20] \"POST /_dash-update-component HTTP/1.1\" 200 -\n",
      "192.168.1.116 - - [03/Nov/2022 11:48:20] \"POST /_dash-update-component HTTP/1.1\" 200 -\n",
      "192.168.1.116 - - [03/Nov/2022 11:48:20] \"POST /_dash-update-component HTTP/1.1\" 200 -\n",
      "192.168.1.116 - - [03/Nov/2022 11:48:20] \"POST /_dash-update-component HTTP/1.1\" 200 -\n",
      "192.168.1.116 - - [03/Nov/2022 11:48:20] \"POST /_dash-update-component HTTP/1.1\" 200 -\n",
      "192.168.1.116 - - [03/Nov/2022 11:48:20] \"POST /_dash-update-component HTTP/1.1\" 200 -\n",
      "192.168.1.116 - - [03/Nov/2022 11:48:20] \"POST /_dash-update-component HTTP/1.1\" 200 -\n",
      "192.168.1.116 - - [03/Nov/2022 11:48:20] \"POST /_dash-update-component HTTP/1.1\" 200 -\n",
      "192.168.1.116 - - [03/Nov/2022 11:48:20] \"POST /_dash-update-component HTTP/1.1\" 200 -\n",
      "192.168.1.116 - - [03/Nov/2022 11:48:20] \"POST /_dash-update-component HTTP/1.1\" 200 -\n",
      "192.168.1.116 - - [03/Nov/2022 11:48:20] \"POST /_dash-update-component HTTP/1.1\" 200 -\n",
      "192.168.1.116 - - [03/Nov/2022 11:48:20] \"POST /_dash-update-component HTTP/1.1\" 200 -\n",
      "192.168.1.116 - - [03/Nov/2022 11:48:20] \"POST /_dash-update-component HTTP/1.1\" 200 -\n",
      "192.168.1.116 - - [03/Nov/2022 11:48:20] \"POST /_dash-update-component HTTP/1.1\" 204 -\n",
      "192.168.1.116 - - [03/Nov/2022 11:48:20] \"POST /_dash-update-component HTTP/1.1\" 200 -\n",
      "192.168.1.116 - - [03/Nov/2022 11:48:20] \"POST /_dash-update-component HTTP/1.1\" 200 -\n",
      "192.168.1.116 - - [03/Nov/2022 11:48:20] \"POST /_dash-update-component HTTP/1.1\" 204 -\n",
      "192.168.1.116 - - [03/Nov/2022 11:48:20] \"POST /_dash-update-component HTTP/1.1\" 200 -\n",
      "192.168.1.116 - - [03/Nov/2022 11:48:20] \"POST /_dash-update-component HTTP/1.1\" 200 -\n",
      "192.168.1.116 - - [03/Nov/2022 11:48:20] \"POST /_dash-update-component HTTP/1.1\" 204 -\n",
      "192.168.1.116 - - [03/Nov/2022 11:48:20] \"POST /_dash-update-component HTTP/1.1\" 200 -\n",
      "192.168.1.116 - - [03/Nov/2022 11:48:20] \"POST /_dash-update-component HTTP/1.1\" 200 -\n",
      "192.168.1.116 - - [03/Nov/2022 11:48:20] \"POST /_dash-update-component HTTP/1.1\" 200 -\n",
      "192.168.1.116 - - [03/Nov/2022 11:48:20] \"POST /_dash-update-component HTTP/1.1\" 200 -\n",
      "192.168.1.116 - - [03/Nov/2022 11:48:20] \"POST /_dash-update-component HTTP/1.1\" 200 -\n",
      "192.168.1.116 - - [03/Nov/2022 11:48:20] \"POST /_dash-update-component HTTP/1.1\" 200 -\n",
      "192.168.1.116 - - [03/Nov/2022 11:48:20] \"POST /_dash-update-component HTTP/1.1\" 200 -\n",
      "192.168.1.116 - - [03/Nov/2022 11:48:20] \"POST /_dash-update-component HTTP/1.1\" 200 -\n",
      "192.168.1.116 - - [03/Nov/2022 11:48:20] \"POST /_dash-update-component HTTP/1.1\" 200 -\n",
      "192.168.1.116 - - [03/Nov/2022 11:48:20] \"POST /_dash-update-component HTTP/1.1\" 200 -\n",
      "192.168.1.116 - - [03/Nov/2022 11:48:20] \"POST /_dash-update-component HTTP/1.1\" 200 -\n",
      "192.168.1.116 - - [03/Nov/2022 11:48:20] \"POST /_dash-update-component HTTP/1.1\" 200 -\n",
      "192.168.1.116 - - [03/Nov/2022 11:48:20] \"POST /_dash-update-component HTTP/1.1\" 200 -\n",
      "192.168.1.116 - - [03/Nov/2022 11:48:20] \"POST /_dash-update-component HTTP/1.1\" 200 -\n",
      "192.168.1.116 - - [03/Nov/2022 11:48:20] \"POST /_dash-update-component HTTP/1.1\" 200 -\n",
      "192.168.1.116 - - [03/Nov/2022 11:48:20] \"POST /_dash-update-component HTTP/1.1\" 200 -\n",
      "192.168.1.116 - - [03/Nov/2022 11:48:20] \"POST /_dash-update-component HTTP/1.1\" 200 -\n",
      "192.168.1.116 - - [03/Nov/2022 11:48:20] \"POST /_dash-update-component HTTP/1.1\" 200 -\n",
      "192.168.1.116 - - [03/Nov/2022 11:48:20] \"POST /_dash-update-component HTTP/1.1\" 200 -\n",
      "192.168.1.116 - - [03/Nov/2022 11:48:21] \"POST /_dash-update-component HTTP/1.1\" 200 -\n",
      "192.168.1.116 - - [03/Nov/2022 11:48:21] \"POST /_dash-update-component HTTP/1.1\" 200 -\n",
      "192.168.1.116 - - [03/Nov/2022 11:48:21] \"POST /_dash-update-component HTTP/1.1\" 200 -\n",
      "192.168.1.116 - - [03/Nov/2022 11:48:21] \"POST /_dash-update-component HTTP/1.1\" 200 -\n",
      "192.168.1.116 - - [03/Nov/2022 11:48:21] \"POST /_dash-update-component HTTP/1.1\" 200 -\n",
      "192.168.1.116 - - [03/Nov/2022 11:48:21] \"POST /_dash-update-component HTTP/1.1\" 200 -\n",
      "192.168.1.116 - - [03/Nov/2022 11:48:21] \"POST /_dash-update-component HTTP/1.1\" 200 -\n",
      "192.168.1.116 - - [03/Nov/2022 11:48:21] \"POST /_dash-update-component HTTP/1.1\" 200 -\n",
      "192.168.1.116 - - [03/Nov/2022 11:48:21] \"POST /_dash-update-component HTTP/1.1\" 200 -\n",
      "192.168.1.116 - - [03/Nov/2022 11:48:21] \"POST /_dash-update-component HTTP/1.1\" 200 -\n",
      "192.168.1.116 - - [03/Nov/2022 11:48:21] \"POST /_dash-update-component HTTP/1.1\" 200 -\n",
      "192.168.1.116 - - [03/Nov/2022 11:48:21] \"POST /_dash-update-component HTTP/1.1\" 200 -\n",
      "192.168.1.116 - - [03/Nov/2022 11:48:21] \"POST /_dash-update-component HTTP/1.1\" 200 -\n",
      "192.168.1.116 - - [03/Nov/2022 11:48:21] \"POST /_dash-update-component HTTP/1.1\" 200 -\n",
      "192.168.1.116 - - [03/Nov/2022 11:48:21] \"POST /_dash-update-component HTTP/1.1\" 200 -\n",
      "192.168.1.116 - - [03/Nov/2022 11:48:21] \"POST /_dash-update-component HTTP/1.1\" 200 -\n",
      "192.168.1.116 - - [03/Nov/2022 11:48:25] \"POST /_dash-update-component HTTP/1.1\" 200 -\n",
      "192.168.1.116 - - [03/Nov/2022 11:48:26] \"POST /_dash-update-component HTTP/1.1\" 200 -\n",
      "192.168.1.116 - - [03/Nov/2022 11:48:30] \"POST /_dash-update-component HTTP/1.1\" 200 -\n",
      "192.168.1.116 - - [03/Nov/2022 11:48:32] \"POST /_dash-update-component HTTP/1.1\" 200 -\n",
      "192.168.1.116 - - [03/Nov/2022 11:48:35] \"GET /_dash-component-suites/dash/dcc/async-dropdown.js HTTP/1.1\" 200 -\n",
      "192.168.1.116 - - [03/Nov/2022 11:48:35] \"GET /_dash-component-suites/dash/dcc/async-slider.js HTTP/1.1\" 200 -\n",
      "192.168.1.116 - - [03/Nov/2022 11:48:41] \"POST /_dash-update-component HTTP/1.1\" 200 -\n",
      "192.168.1.116 - - [03/Nov/2022 11:48:41] \"POST /_dash-update-component HTTP/1.1\" 200 -\n",
      "192.168.1.116 - - [03/Nov/2022 11:48:41] \"POST /_dash-update-component HTTP/1.1\" 200 -\n"
     ]
    },
    {
     "name": "stderr",
     "output_type": "stream",
     "text": [
      "192.168.1.116 - - [03/Nov/2022 11:48:41] \"POST /_dash-update-component HTTP/1.1\" 200 -\n",
      "192.168.1.116 - - [03/Nov/2022 11:48:41] \"POST /_dash-update-component HTTP/1.1\" 200 -\n",
      "192.168.1.116 - - [03/Nov/2022 11:48:41] \"POST /_dash-update-component HTTP/1.1\" 200 -\n",
      "192.168.1.116 - - [03/Nov/2022 11:48:41] \"POST /_dash-update-component HTTP/1.1\" 200 -\n",
      "192.168.1.116 - - [03/Nov/2022 11:48:41] \"POST /_dash-update-component HTTP/1.1\" 200 -\n",
      "192.168.1.116 - - [03/Nov/2022 11:48:41] \"POST /_dash-update-component HTTP/1.1\" 200 -\n",
      "192.168.1.116 - - [03/Nov/2022 11:48:41] \"POST /_dash-update-component HTTP/1.1\" 200 -\n",
      "192.168.1.116 - - [03/Nov/2022 11:48:41] \"POST /_dash-update-component HTTP/1.1\" 200 -\n",
      "192.168.1.116 - - [03/Nov/2022 11:48:42] \"POST /_dash-update-component HTTP/1.1\" 200 -\n",
      "192.168.1.116 - - [03/Nov/2022 11:49:51] \"POST /_dash-update-component HTTP/1.1\" 200 -\n"
     ]
    }
   ],
   "source": [
    "dashboard(best[0])"
   ]
  },
  {
   "cell_type": "code",
   "execution_count": 16,
   "metadata": {
    "pycharm": {
     "name": "#%%\n"
    }
   },
   "outputs": [
    {
     "data": {
      "text/html": [],
      "text/plain": [
       "<IPython.core.display.HTML object>"
      ]
     },
     "metadata": {},
     "output_type": "display_data"
    },
    {
     "data": {
      "text/html": [
       "<style type=\"text/css\">\n",
       "#T_7b343_row10_col0, #T_7b343_row10_col1, #T_7b343_row10_col2, #T_7b343_row10_col3, #T_7b343_row10_col4, #T_7b343_row10_col5 {\n",
       "  background: yellow;\n",
       "}\n",
       "</style>\n",
       "<table id=\"T_7b343\">\n",
       "  <thead>\n",
       "    <tr>\n",
       "      <th class=\"blank level0\" >&nbsp;</th>\n",
       "      <th id=\"T_7b343_level0_col0\" class=\"col_heading level0 col0\" >MAE</th>\n",
       "      <th id=\"T_7b343_level0_col1\" class=\"col_heading level0 col1\" >MSE</th>\n",
       "      <th id=\"T_7b343_level0_col2\" class=\"col_heading level0 col2\" >RMSE</th>\n",
       "      <th id=\"T_7b343_level0_col3\" class=\"col_heading level0 col3\" >R2</th>\n",
       "      <th id=\"T_7b343_level0_col4\" class=\"col_heading level0 col4\" >RMSLE</th>\n",
       "      <th id=\"T_7b343_level0_col5\" class=\"col_heading level0 col5\" >MAPE</th>\n",
       "    </tr>\n",
       "    <tr>\n",
       "      <th class=\"index_name level0\" >Fold</th>\n",
       "      <th class=\"blank col0\" >&nbsp;</th>\n",
       "      <th class=\"blank col1\" >&nbsp;</th>\n",
       "      <th class=\"blank col2\" >&nbsp;</th>\n",
       "      <th class=\"blank col3\" >&nbsp;</th>\n",
       "      <th class=\"blank col4\" >&nbsp;</th>\n",
       "      <th class=\"blank col5\" >&nbsp;</th>\n",
       "    </tr>\n",
       "  </thead>\n",
       "  <tbody>\n",
       "    <tr>\n",
       "      <th id=\"T_7b343_level0_row0\" class=\"row_heading level0 row0\" >0</th>\n",
       "      <td id=\"T_7b343_row0_col0\" class=\"data row0 col0\" >0.3686</td>\n",
       "      <td id=\"T_7b343_row0_col1\" class=\"data row0 col1\" >0.9686</td>\n",
       "      <td id=\"T_7b343_row0_col2\" class=\"data row0 col2\" >0.9842</td>\n",
       "      <td id=\"T_7b343_row0_col3\" class=\"data row0 col3\" >0.5465</td>\n",
       "      <td id=\"T_7b343_row0_col4\" class=\"data row0 col4\" >0.3382</td>\n",
       "      <td id=\"T_7b343_row0_col5\" class=\"data row0 col5\" >0.7585</td>\n",
       "    </tr>\n",
       "    <tr>\n",
       "      <th id=\"T_7b343_level0_row1\" class=\"row_heading level0 row1\" >1</th>\n",
       "      <td id=\"T_7b343_row1_col0\" class=\"data row1 col0\" >0.3864</td>\n",
       "      <td id=\"T_7b343_row1_col1\" class=\"data row1 col1\" >1.2229</td>\n",
       "      <td id=\"T_7b343_row1_col2\" class=\"data row1 col2\" >1.1059</td>\n",
       "      <td id=\"T_7b343_row1_col3\" class=\"data row1 col3\" >0.4939</td>\n",
       "      <td id=\"T_7b343_row1_col4\" class=\"data row1 col4\" >0.3423</td>\n",
       "      <td id=\"T_7b343_row1_col5\" class=\"data row1 col5\" >0.7062</td>\n",
       "    </tr>\n",
       "    <tr>\n",
       "      <th id=\"T_7b343_level0_row2\" class=\"row_heading level0 row2\" >2</th>\n",
       "      <td id=\"T_7b343_row2_col0\" class=\"data row2 col0\" >0.3932</td>\n",
       "      <td id=\"T_7b343_row2_col1\" class=\"data row2 col1\" >1.5286</td>\n",
       "      <td id=\"T_7b343_row2_col2\" class=\"data row2 col2\" >1.2364</td>\n",
       "      <td id=\"T_7b343_row2_col3\" class=\"data row2 col3\" >0.2554</td>\n",
       "      <td id=\"T_7b343_row2_col4\" class=\"data row2 col4\" >0.3414</td>\n",
       "      <td id=\"T_7b343_row2_col5\" class=\"data row2 col5\" >0.7652</td>\n",
       "    </tr>\n",
       "    <tr>\n",
       "      <th id=\"T_7b343_level0_row3\" class=\"row_heading level0 row3\" >3</th>\n",
       "      <td id=\"T_7b343_row3_col0\" class=\"data row3 col0\" >0.3813</td>\n",
       "      <td id=\"T_7b343_row3_col1\" class=\"data row3 col1\" >1.0528</td>\n",
       "      <td id=\"T_7b343_row3_col2\" class=\"data row3 col2\" >1.0261</td>\n",
       "      <td id=\"T_7b343_row3_col3\" class=\"data row3 col3\" >0.1979</td>\n",
       "      <td id=\"T_7b343_row3_col4\" class=\"data row3 col4\" >0.3434</td>\n",
       "      <td id=\"T_7b343_row3_col5\" class=\"data row3 col5\" >0.7534</td>\n",
       "    </tr>\n",
       "    <tr>\n",
       "      <th id=\"T_7b343_level0_row4\" class=\"row_heading level0 row4\" >4</th>\n",
       "      <td id=\"T_7b343_row4_col0\" class=\"data row4 col0\" >0.3742</td>\n",
       "      <td id=\"T_7b343_row4_col1\" class=\"data row4 col1\" >0.9964</td>\n",
       "      <td id=\"T_7b343_row4_col2\" class=\"data row4 col2\" >0.9982</td>\n",
       "      <td id=\"T_7b343_row4_col3\" class=\"data row4 col3\" >0.4102</td>\n",
       "      <td id=\"T_7b343_row4_col4\" class=\"data row4 col4\" >0.3340</td>\n",
       "      <td id=\"T_7b343_row4_col5\" class=\"data row4 col5\" >0.7387</td>\n",
       "    </tr>\n",
       "    <tr>\n",
       "      <th id=\"T_7b343_level0_row5\" class=\"row_heading level0 row5\" >5</th>\n",
       "      <td id=\"T_7b343_row5_col0\" class=\"data row5 col0\" >0.3767</td>\n",
       "      <td id=\"T_7b343_row5_col1\" class=\"data row5 col1\" >1.4975</td>\n",
       "      <td id=\"T_7b343_row5_col2\" class=\"data row5 col2\" >1.2237</td>\n",
       "      <td id=\"T_7b343_row5_col3\" class=\"data row5 col3\" >0.5649</td>\n",
       "      <td id=\"T_7b343_row5_col4\" class=\"data row5 col4\" >0.3313</td>\n",
       "      <td id=\"T_7b343_row5_col5\" class=\"data row5 col5\" >0.7032</td>\n",
       "    </tr>\n",
       "    <tr>\n",
       "      <th id=\"T_7b343_level0_row6\" class=\"row_heading level0 row6\" >6</th>\n",
       "      <td id=\"T_7b343_row6_col0\" class=\"data row6 col0\" >0.3940</td>\n",
       "      <td id=\"T_7b343_row6_col1\" class=\"data row6 col1\" >1.0959</td>\n",
       "      <td id=\"T_7b343_row6_col2\" class=\"data row6 col2\" >1.0469</td>\n",
       "      <td id=\"T_7b343_row6_col3\" class=\"data row6 col3\" >0.5354</td>\n",
       "      <td id=\"T_7b343_row6_col4\" class=\"data row6 col4\" >0.3408</td>\n",
       "      <td id=\"T_7b343_row6_col5\" class=\"data row6 col5\" >0.7185</td>\n",
       "    </tr>\n",
       "    <tr>\n",
       "      <th id=\"T_7b343_level0_row7\" class=\"row_heading level0 row7\" >7</th>\n",
       "      <td id=\"T_7b343_row7_col0\" class=\"data row7 col0\" >0.4118</td>\n",
       "      <td id=\"T_7b343_row7_col1\" class=\"data row7 col1\" >1.2158</td>\n",
       "      <td id=\"T_7b343_row7_col2\" class=\"data row7 col2\" >1.1027</td>\n",
       "      <td id=\"T_7b343_row7_col3\" class=\"data row7 col3\" >0.4375</td>\n",
       "      <td id=\"T_7b343_row7_col4\" class=\"data row7 col4\" >0.3495</td>\n",
       "      <td id=\"T_7b343_row7_col5\" class=\"data row7 col5\" >0.7978</td>\n",
       "    </tr>\n",
       "    <tr>\n",
       "      <th id=\"T_7b343_level0_row8\" class=\"row_heading level0 row8\" >8</th>\n",
       "      <td id=\"T_7b343_row8_col0\" class=\"data row8 col0\" >0.3616</td>\n",
       "      <td id=\"T_7b343_row8_col1\" class=\"data row8 col1\" >1.4048</td>\n",
       "      <td id=\"T_7b343_row8_col2\" class=\"data row8 col2\" >1.1853</td>\n",
       "      <td id=\"T_7b343_row8_col3\" class=\"data row8 col3\" >0.6346</td>\n",
       "      <td id=\"T_7b343_row8_col4\" class=\"data row8 col4\" >0.3221</td>\n",
       "      <td id=\"T_7b343_row8_col5\" class=\"data row8 col5\" >0.7013</td>\n",
       "    </tr>\n",
       "    <tr>\n",
       "      <th id=\"T_7b343_level0_row9\" class=\"row_heading level0 row9\" >9</th>\n",
       "      <td id=\"T_7b343_row9_col0\" class=\"data row9 col0\" >0.4012</td>\n",
       "      <td id=\"T_7b343_row9_col1\" class=\"data row9 col1\" >1.5515</td>\n",
       "      <td id=\"T_7b343_row9_col2\" class=\"data row9 col2\" >1.2456</td>\n",
       "      <td id=\"T_7b343_row9_col3\" class=\"data row9 col3\" >0.5307</td>\n",
       "      <td id=\"T_7b343_row9_col4\" class=\"data row9 col4\" >0.3471</td>\n",
       "      <td id=\"T_7b343_row9_col5\" class=\"data row9 col5\" >0.7447</td>\n",
       "    </tr>\n",
       "    <tr>\n",
       "      <th id=\"T_7b343_level0_row10\" class=\"row_heading level0 row10\" >Mean</th>\n",
       "      <td id=\"T_7b343_row10_col0\" class=\"data row10 col0\" >0.3849</td>\n",
       "      <td id=\"T_7b343_row10_col1\" class=\"data row10 col1\" >1.2535</td>\n",
       "      <td id=\"T_7b343_row10_col2\" class=\"data row10 col2\" >1.1155</td>\n",
       "      <td id=\"T_7b343_row10_col3\" class=\"data row10 col3\" >0.4607</td>\n",
       "      <td id=\"T_7b343_row10_col4\" class=\"data row10 col4\" >0.3390</td>\n",
       "      <td id=\"T_7b343_row10_col5\" class=\"data row10 col5\" >0.7387</td>\n",
       "    </tr>\n",
       "    <tr>\n",
       "      <th id=\"T_7b343_level0_row11\" class=\"row_heading level0 row11\" >Std</th>\n",
       "      <td id=\"T_7b343_row11_col0\" class=\"data row11 col0\" >0.0146</td>\n",
       "      <td id=\"T_7b343_row11_col1\" class=\"data row11 col1\" >0.2149</td>\n",
       "      <td id=\"T_7b343_row11_col2\" class=\"data row11 col2\" >0.0960</td>\n",
       "      <td id=\"T_7b343_row11_col3\" class=\"data row11 col3\" >0.1320</td>\n",
       "      <td id=\"T_7b343_row11_col4\" class=\"data row11 col4\" >0.0077</td>\n",
       "      <td id=\"T_7b343_row11_col5\" class=\"data row11 col5\" >0.0299</td>\n",
       "    </tr>\n",
       "  </tbody>\n",
       "</table>\n"
      ],
      "text/plain": [
       "<pandas.io.formats.style.Styler at 0x224b8e72850>"
      ]
     },
     "metadata": {},
     "output_type": "display_data"
    },
    {
     "data": {
      "application/vnd.jupyter.widget-view+json": {
       "model_id": "",
       "version_major": 2,
       "version_minor": 0
      },
      "text/plain": [
       "Processing:   0%|          | 0/7 [00:00<?, ?it/s]"
      ]
     },
     "metadata": {},
     "output_type": "display_data"
    },
    {
     "name": "stdout",
     "output_type": "stream",
     "text": [
      "Fitting 10 folds for each of 10 candidates, totalling 100 fits\n",
      "Original model was better than the tuned model, hence it will be returned. NOTE: The display metrics are for the tuned model (not the original one).\n"
     ]
    }
   ],
   "source": [
    "tuned_model = tune_model(best[0])"
   ]
  },
  {
   "cell_type": "markdown",
   "metadata": {
    "pycharm": {
     "name": "#%% md\n"
    }
   },
   "source": [
    "# Expanding the Model - Interaction Effect and Polynomial Features"
   ]
  },
  {
   "cell_type": "code",
   "execution_count": null,
   "metadata": {
    "pycharm": {
     "name": "#%%\n"
    }
   },
   "outputs": [],
   "source": [
    "expanded_df = df.copy()\n",
    "columns = expanded_df.columns.to_list()\n",
    "columns.remove('tourism')"
   ]
  },
  {
   "cell_type": "code",
   "execution_count": null,
   "metadata": {
    "pycharm": {
     "name": "#%%\n"
    }
   },
   "outputs": [],
   "source": [
    "for a in columns:\n",
    "    for b in columns:\n",
    "        expanded_df[a + ' x ' + b ] = expanded_df[a] * expanded_df[b]"
   ]
  },
  {
   "cell_type": "code",
   "execution_count": null,
   "metadata": {
    "pycharm": {
     "name": "#%%\n"
    }
   },
   "outputs": [],
   "source": [
    "expanded_df"
   ]
  },
  {
   "cell_type": "code",
   "execution_count": null,
   "metadata": {
    "pycharm": {
     "name": "#%%\n"
    }
   },
   "outputs": [],
   "source": [
    "exp = setup(expanded_df, target = 'tourism')"
   ]
  },
  {
   "cell_type": "code",
   "execution_count": null,
   "metadata": {
    "pycharm": {
     "name": "#%%\n"
    }
   },
   "outputs": [],
   "source": [
    "best_expanded = compare_models()"
   ]
  },
  {
   "cell_type": "code",
   "execution_count": null,
   "metadata": {
    "pycharm": {
     "name": "#%%\n"
    }
   },
   "outputs": [],
   "source": [
    "evaluate_model(best_expanded)"
   ]
  },
  {
   "cell_type": "markdown",
   "metadata": {
    "pycharm": {
     "name": "#%% md\n"
    }
   },
   "source": [
    "# Ensemble Models"
   ]
  },
  {
   "cell_type": "code",
   "execution_count": null,
   "metadata": {
    "pycharm": {
     "name": "#%%\n"
    }
   },
   "outputs": [],
   "source": [
    "bagged = ensemble_model(best[0], method = 'Bagging')"
   ]
  },
  {
   "cell_type": "code",
   "execution_count": null,
   "metadata": {
    "pycharm": {
     "name": "#%%\n"
    }
   },
   "outputs": [],
   "source": [
    "boosting = ensemble_model(best[0], method = 'Boosting')"
   ]
  },
  {
   "cell_type": "code",
   "execution_count": null,
   "metadata": {
    "pycharm": {
     "name": "#%%\n"
    }
   },
   "outputs": [],
   "source": [
    "blender = blend_models(best)"
   ]
  },
  {
   "cell_type": "code",
   "execution_count": null,
   "metadata": {
    "pycharm": {
     "name": "#%%\n"
    }
   },
   "outputs": [],
   "source": [
    "stacking = stack_models(best)"
   ]
  }
 ],
 "metadata": {
  "kernelspec": {
   "display_name": "Python 3 (ipykernel)",
   "language": "python",
   "name": "python3"
  },
  "language_info": {
   "codemirror_mode": {
    "name": "ipython",
    "version": 3
   },
   "file_extension": ".py",
   "mimetype": "text/x-python",
   "name": "python",
   "nbconvert_exporter": "python",
   "pygments_lexer": "ipython3",
   "version": "3.9.12"
  }
 },
 "nbformat": 4,
 "nbformat_minor": 1
}