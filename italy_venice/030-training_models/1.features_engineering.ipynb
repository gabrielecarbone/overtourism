{
 "cells": [
  {
   "cell_type": "code",
   "execution_count": 42,
   "metadata": {
    "collapsed": true,
    "pycharm": {
     "name": "#%%\n"
    }
   },
   "outputs": [],
   "source": [
    "import pandas as pd"
   ]
  },
  {
   "cell_type": "code",
   "execution_count": 43,
   "outputs": [],
   "source": [
    "df = pd.read_csv('0. merged_df.csv')"
   ],
   "metadata": {
    "collapsed": false,
    "pycharm": {
     "name": "#%%\n"
    }
   }
  },
  {
   "cell_type": "code",
   "execution_count": 44,
   "outputs": [],
   "source": [
    "df.drop('Unnamed: 0', axis = 1, inplace = True)"
   ],
   "metadata": {
    "collapsed": false,
    "pycharm": {
     "name": "#%%\n"
    }
   }
  },
  {
   "cell_type": "code",
   "execution_count": 45,
   "outputs": [],
   "source": [
    "lon_min, lon_max = 11.5, 13\n",
    "lat_min, lat_max = 45, 46"
   ],
   "metadata": {
    "collapsed": false,
    "pycharm": {
     "name": "#%%\n"
    }
   }
  },
  {
   "cell_type": "code",
   "execution_count": 46,
   "outputs": [
    {
     "data": {
      "text/plain": "             osm_id  code          fclass                       name  \\\n0           4710535  7218           grass                        NaN   \n1           4710570  7218           grass                        NaN   \n2           4710648  7206        cemetery  Cimitero di Favaro Veneto   \n3           4851260  7213  nature_reserve     Caserma Edmondo Matter   \n4           4851276  7206        cemetery         Cimitero di Mestre   \n...             ...   ...             ...                        ...   \n2662743  1095491695  8200           water                        NaN   \n2662744  1095491696  8200           water                        NaN   \n2662745  1095603673  8200           water                        NaN   \n2662746  1095603675  8200           water                        NaN   \n2662776  1096736578  8200           water                        NaN   \n\n               lon        lat  SELECT  \n0        12.272857  45.503580  nature  \n1        12.279067  45.505727  nature  \n2        12.280370  45.511354  nature  \n3        12.240170  45.505275  nature  \n4        12.243382  45.501909  nature  \n...            ...        ...     ...  \n2662743  11.902024  45.810205  nature  \n2662744  11.905475  45.812606  nature  \n2662745  11.797104  45.924658  nature  \n2662746  11.789369  45.927601  nature  \n2662776  12.633356  45.505603  nature  \n\n[648189 rows x 7 columns]",
      "text/html": "<div>\n<style scoped>\n    .dataframe tbody tr th:only-of-type {\n        vertical-align: middle;\n    }\n\n    .dataframe tbody tr th {\n        vertical-align: top;\n    }\n\n    .dataframe thead th {\n        text-align: right;\n    }\n</style>\n<table border=\"1\" class=\"dataframe\">\n  <thead>\n    <tr style=\"text-align: right;\">\n      <th></th>\n      <th>osm_id</th>\n      <th>code</th>\n      <th>fclass</th>\n      <th>name</th>\n      <th>lon</th>\n      <th>lat</th>\n      <th>SELECT</th>\n    </tr>\n  </thead>\n  <tbody>\n    <tr>\n      <th>0</th>\n      <td>4710535</td>\n      <td>7218</td>\n      <td>grass</td>\n      <td>NaN</td>\n      <td>12.272857</td>\n      <td>45.503580</td>\n      <td>nature</td>\n    </tr>\n    <tr>\n      <th>1</th>\n      <td>4710570</td>\n      <td>7218</td>\n      <td>grass</td>\n      <td>NaN</td>\n      <td>12.279067</td>\n      <td>45.505727</td>\n      <td>nature</td>\n    </tr>\n    <tr>\n      <th>2</th>\n      <td>4710648</td>\n      <td>7206</td>\n      <td>cemetery</td>\n      <td>Cimitero di Favaro Veneto</td>\n      <td>12.280370</td>\n      <td>45.511354</td>\n      <td>nature</td>\n    </tr>\n    <tr>\n      <th>3</th>\n      <td>4851260</td>\n      <td>7213</td>\n      <td>nature_reserve</td>\n      <td>Caserma Edmondo Matter</td>\n      <td>12.240170</td>\n      <td>45.505275</td>\n      <td>nature</td>\n    </tr>\n    <tr>\n      <th>4</th>\n      <td>4851276</td>\n      <td>7206</td>\n      <td>cemetery</td>\n      <td>Cimitero di Mestre</td>\n      <td>12.243382</td>\n      <td>45.501909</td>\n      <td>nature</td>\n    </tr>\n    <tr>\n      <th>...</th>\n      <td>...</td>\n      <td>...</td>\n      <td>...</td>\n      <td>...</td>\n      <td>...</td>\n      <td>...</td>\n      <td>...</td>\n    </tr>\n    <tr>\n      <th>2662743</th>\n      <td>1095491695</td>\n      <td>8200</td>\n      <td>water</td>\n      <td>NaN</td>\n      <td>11.902024</td>\n      <td>45.810205</td>\n      <td>nature</td>\n    </tr>\n    <tr>\n      <th>2662744</th>\n      <td>1095491696</td>\n      <td>8200</td>\n      <td>water</td>\n      <td>NaN</td>\n      <td>11.905475</td>\n      <td>45.812606</td>\n      <td>nature</td>\n    </tr>\n    <tr>\n      <th>2662745</th>\n      <td>1095603673</td>\n      <td>8200</td>\n      <td>water</td>\n      <td>NaN</td>\n      <td>11.797104</td>\n      <td>45.924658</td>\n      <td>nature</td>\n    </tr>\n    <tr>\n      <th>2662746</th>\n      <td>1095603675</td>\n      <td>8200</td>\n      <td>water</td>\n      <td>NaN</td>\n      <td>11.789369</td>\n      <td>45.927601</td>\n      <td>nature</td>\n    </tr>\n    <tr>\n      <th>2662776</th>\n      <td>1096736578</td>\n      <td>8200</td>\n      <td>water</td>\n      <td>NaN</td>\n      <td>12.633356</td>\n      <td>45.505603</td>\n      <td>nature</td>\n    </tr>\n  </tbody>\n</table>\n<p>648189 rows × 7 columns</p>\n</div>"
     },
     "execution_count": 46,
     "metadata": {},
     "output_type": "execute_result"
    }
   ],
   "source": [
    "df = df.loc[(df.lon >= lon_min) & (df.lon <= lon_max)]\n",
    "df = df.loc[(df.lat >= lat_min) & (df.lat <= lat_max)]\n",
    "df"
   ],
   "metadata": {
    "collapsed": false,
    "pycharm": {
     "name": "#%%\n"
    }
   }
  },
  {
   "cell_type": "code",
   "execution_count": 47,
   "outputs": [],
   "source": [
    "n_rows, n_columns = 200, 200\n",
    "\n",
    "lat_min, lat_max = df.lat.min(), df.lat.max()  # rows\n",
    "lon_min, lon_max = df.lon.min(), df.lon.max()  # columns\n",
    "\n",
    "diff_lat = lat_max - lat_min\n",
    "diff_lon = lon_max - lon_min\n",
    "\n",
    "step_lat = diff_lat / n_rows\n",
    "step_lon = diff_lon / n_columns"
   ],
   "metadata": {
    "collapsed": false,
    "pycharm": {
     "name": "#%%\n"
    }
   }
  },
  {
   "cell_type": "code",
   "execution_count": 48,
   "outputs": [],
   "source": [
    "categories = df['SELECT'].drop_duplicates().to_list()"
   ],
   "metadata": {
    "collapsed": false,
    "pycharm": {
     "name": "#%%\n"
    }
   }
  },
  {
   "cell_type": "code",
   "execution_count": 1,
   "outputs": [
    {
     "ename": "NameError",
     "evalue": "name 'lat_min' is not defined",
     "output_type": "error",
     "traceback": [
      "\u001B[1;31m---------------------------------------------------------------------------\u001B[0m",
      "\u001B[1;31mNameError\u001B[0m                                 Traceback (most recent call last)",
      "Input \u001B[1;32mIn [1]\u001B[0m, in \u001B[0;36m<cell line: 1>\u001B[1;34m()\u001B[0m\n\u001B[1;32m----> 1\u001B[0m starting_point_lat, starting_point_lon \u001B[38;5;241m=\u001B[39m \u001B[43mlat_min\u001B[49m, lon_min \u001B[38;5;66;03m# start from the highest column and the first column\u001B[39;00m\n\u001B[0;32m      3\u001B[0m result_log \u001B[38;5;241m=\u001B[39m {}\n\u001B[0;32m      5\u001B[0m \u001B[38;5;66;03m#starting bbox\u001B[39;00m\n",
      "\u001B[1;31mNameError\u001B[0m: name 'lat_min' is not defined"
     ]
    }
   ],
   "source": [
    "starting_point_lat, starting_point_lon = lat_min, lon_min # start from the highest column and the first column\n",
    "\n",
    "result_log = {}\n",
    "\n",
    "#starting bbox\n",
    "bbox_lat_min, bbox_lat_max = starting_point_lat, starting_point_lat + step_lat\n",
    "bbox_lon_min, bbox_lon_max = starting_point_lon, starting_point_lon + step_lon\n",
    "\n",
    "for row in range(n_rows):\n",
    "    # reset starting point of the column axis\n",
    "    bbox_lon_max = starting_point_lon\n",
    "    bbox_lon_min = starting_point_lon + step_lon\n",
    "\n",
    "    row_df = df.loc[(df.lat > bbox_lat_min) & (df.lat <= bbox_lat_max), :]\n",
    "\n",
    "    for column in range(n_columns):\n",
    "        cell_df = row_df.loc[(row_df.lon > bbox_lon_min) & (row_df.lon <= bbox_lon_max), :]\n",
    "\n",
    "        cell_name = 'R' + str(row + 1) + 'C' + str(column + 1)\n",
    "        cell_values = [row + 1, column +1, bbox_lat_min, bbox_lat_max, bbox_lon_min, bbox_lon_max]\n",
    "\n",
    "        for category in categories:\n",
    "            try:\n",
    "                count = cell_df.SELECT.value_counts()[category]\n",
    "                cell_values.append(count)\n",
    "\n",
    "            except:\n",
    "                cell_values.append(0)\n",
    "\n",
    "        result_log[cell_name] = cell_values\n",
    "\n",
    "        #print('LAT:', bbox_lat_min, '   ', bbox_lat_max, '  LON:', bbox_lon_min, '   ', bbox_lon_max, '    COUNT:', cell_df.shape[0])\n",
    "\n",
    "        bbox_lon_min = bbox_lon_max\n",
    "        bbox_lon_max += step_lon\n",
    "\n",
    "    bbox_lat_min = bbox_lat_max\n",
    "    bbox_lat_max += step_lat"
   ],
   "metadata": {
    "collapsed": false,
    "pycharm": {
     "name": "#%%\n"
    }
   }
  },
  {
   "cell_type": "code",
   "execution_count": 50,
   "outputs": [
    {
     "data": {
      "text/plain": "            row  column    lat_min    lat_max    lon_min    lon_max  nature  \\\nR1C1        1.0     1.0  45.000004  45.005004  11.507500  11.500001     0.0   \nR1C2        1.0     2.0  45.000004  45.005004  11.500001  11.507500     0.0   \nR1C3        1.0     3.0  45.000004  45.005004  11.507500  11.515000     0.0   \nR1C4        1.0     4.0  45.000004  45.005004  11.515000  11.522500     0.0   \nR1C5        1.0     5.0  45.000004  45.005004  11.522500  11.530000     0.0   \n...         ...     ...        ...        ...        ...        ...     ...   \nR200C196  200.0   196.0  45.994998  45.999998  12.955000  12.962500     3.0   \nR200C197  200.0   197.0  45.994998  45.999998  12.962500  12.970000     4.0   \nR200C198  200.0   198.0  45.994998  45.999998  12.970000  12.977500     0.0   \nR200C199  200.0   199.0  45.994998  45.999998  12.977500  12.985000     0.0   \nR200C200  200.0   200.0  45.994998  45.999998  12.985000  12.992500     1.0   \n\n          entartainment  transports  art  sport  tourism  security  \\\nR1C1                0.0         0.0  0.0    0.0      0.0       0.0   \nR1C2                0.0         1.0  0.0    0.0      0.0       0.0   \nR1C3                0.0         2.0  0.0    0.0      0.0       0.0   \nR1C4                0.0         0.0  0.0    0.0      0.0       0.0   \nR1C5                0.0         1.0  0.0    0.0      0.0       0.0   \n...                 ...         ...  ...    ...      ...       ...   \nR200C196            1.0         5.0  0.0    0.0      0.0       0.0   \nR200C197            0.0        11.0  1.0    3.0      0.0       0.0   \nR200C198            0.0         1.0  0.0    0.0      0.0       0.0   \nR200C199            0.0         1.0  0.0    0.0      0.0       0.0   \nR200C200            0.0         1.0  0.0    0.0      0.0       0.0   \n\n          accessibility  \nR1C1                0.0  \nR1C2                0.0  \nR1C3                0.0  \nR1C4                0.0  \nR1C5                0.0  \n...                 ...  \nR200C196            1.0  \nR200C197            0.0  \nR200C198            0.0  \nR200C199            0.0  \nR200C200            0.0  \n\n[40000 rows x 14 columns]",
      "text/html": "<div>\n<style scoped>\n    .dataframe tbody tr th:only-of-type {\n        vertical-align: middle;\n    }\n\n    .dataframe tbody tr th {\n        vertical-align: top;\n    }\n\n    .dataframe thead th {\n        text-align: right;\n    }\n</style>\n<table border=\"1\" class=\"dataframe\">\n  <thead>\n    <tr style=\"text-align: right;\">\n      <th></th>\n      <th>row</th>\n      <th>column</th>\n      <th>lat_min</th>\n      <th>lat_max</th>\n      <th>lon_min</th>\n      <th>lon_max</th>\n      <th>nature</th>\n      <th>entartainment</th>\n      <th>transports</th>\n      <th>art</th>\n      <th>sport</th>\n      <th>tourism</th>\n      <th>security</th>\n      <th>accessibility</th>\n    </tr>\n  </thead>\n  <tbody>\n    <tr>\n      <th>R1C1</th>\n      <td>1.0</td>\n      <td>1.0</td>\n      <td>45.000004</td>\n      <td>45.005004</td>\n      <td>11.507500</td>\n      <td>11.500001</td>\n      <td>0.0</td>\n      <td>0.0</td>\n      <td>0.0</td>\n      <td>0.0</td>\n      <td>0.0</td>\n      <td>0.0</td>\n      <td>0.0</td>\n      <td>0.0</td>\n    </tr>\n    <tr>\n      <th>R1C2</th>\n      <td>1.0</td>\n      <td>2.0</td>\n      <td>45.000004</td>\n      <td>45.005004</td>\n      <td>11.500001</td>\n      <td>11.507500</td>\n      <td>0.0</td>\n      <td>0.0</td>\n      <td>1.0</td>\n      <td>0.0</td>\n      <td>0.0</td>\n      <td>0.0</td>\n      <td>0.0</td>\n      <td>0.0</td>\n    </tr>\n    <tr>\n      <th>R1C3</th>\n      <td>1.0</td>\n      <td>3.0</td>\n      <td>45.000004</td>\n      <td>45.005004</td>\n      <td>11.507500</td>\n      <td>11.515000</td>\n      <td>0.0</td>\n      <td>0.0</td>\n      <td>2.0</td>\n      <td>0.0</td>\n      <td>0.0</td>\n      <td>0.0</td>\n      <td>0.0</td>\n      <td>0.0</td>\n    </tr>\n    <tr>\n      <th>R1C4</th>\n      <td>1.0</td>\n      <td>4.0</td>\n      <td>45.000004</td>\n      <td>45.005004</td>\n      <td>11.515000</td>\n      <td>11.522500</td>\n      <td>0.0</td>\n      <td>0.0</td>\n      <td>0.0</td>\n      <td>0.0</td>\n      <td>0.0</td>\n      <td>0.0</td>\n      <td>0.0</td>\n      <td>0.0</td>\n    </tr>\n    <tr>\n      <th>R1C5</th>\n      <td>1.0</td>\n      <td>5.0</td>\n      <td>45.000004</td>\n      <td>45.005004</td>\n      <td>11.522500</td>\n      <td>11.530000</td>\n      <td>0.0</td>\n      <td>0.0</td>\n      <td>1.0</td>\n      <td>0.0</td>\n      <td>0.0</td>\n      <td>0.0</td>\n      <td>0.0</td>\n      <td>0.0</td>\n    </tr>\n    <tr>\n      <th>...</th>\n      <td>...</td>\n      <td>...</td>\n      <td>...</td>\n      <td>...</td>\n      <td>...</td>\n      <td>...</td>\n      <td>...</td>\n      <td>...</td>\n      <td>...</td>\n      <td>...</td>\n      <td>...</td>\n      <td>...</td>\n      <td>...</td>\n      <td>...</td>\n    </tr>\n    <tr>\n      <th>R200C196</th>\n      <td>200.0</td>\n      <td>196.0</td>\n      <td>45.994998</td>\n      <td>45.999998</td>\n      <td>12.955000</td>\n      <td>12.962500</td>\n      <td>3.0</td>\n      <td>1.0</td>\n      <td>5.0</td>\n      <td>0.0</td>\n      <td>0.0</td>\n      <td>0.0</td>\n      <td>0.0</td>\n      <td>1.0</td>\n    </tr>\n    <tr>\n      <th>R200C197</th>\n      <td>200.0</td>\n      <td>197.0</td>\n      <td>45.994998</td>\n      <td>45.999998</td>\n      <td>12.962500</td>\n      <td>12.970000</td>\n      <td>4.0</td>\n      <td>0.0</td>\n      <td>11.0</td>\n      <td>1.0</td>\n      <td>3.0</td>\n      <td>0.0</td>\n      <td>0.0</td>\n      <td>0.0</td>\n    </tr>\n    <tr>\n      <th>R200C198</th>\n      <td>200.0</td>\n      <td>198.0</td>\n      <td>45.994998</td>\n      <td>45.999998</td>\n      <td>12.970000</td>\n      <td>12.977500</td>\n      <td>0.0</td>\n      <td>0.0</td>\n      <td>1.0</td>\n      <td>0.0</td>\n      <td>0.0</td>\n      <td>0.0</td>\n      <td>0.0</td>\n      <td>0.0</td>\n    </tr>\n    <tr>\n      <th>R200C199</th>\n      <td>200.0</td>\n      <td>199.0</td>\n      <td>45.994998</td>\n      <td>45.999998</td>\n      <td>12.977500</td>\n      <td>12.985000</td>\n      <td>0.0</td>\n      <td>0.0</td>\n      <td>1.0</td>\n      <td>0.0</td>\n      <td>0.0</td>\n      <td>0.0</td>\n      <td>0.0</td>\n      <td>0.0</td>\n    </tr>\n    <tr>\n      <th>R200C200</th>\n      <td>200.0</td>\n      <td>200.0</td>\n      <td>45.994998</td>\n      <td>45.999998</td>\n      <td>12.985000</td>\n      <td>12.992500</td>\n      <td>1.0</td>\n      <td>0.0</td>\n      <td>1.0</td>\n      <td>0.0</td>\n      <td>0.0</td>\n      <td>0.0</td>\n      <td>0.0</td>\n      <td>0.0</td>\n    </tr>\n  </tbody>\n</table>\n<p>40000 rows × 14 columns</p>\n</div>"
     },
     "execution_count": 50,
     "metadata": {},
     "output_type": "execute_result"
    }
   ],
   "source": [
    "result_df = pd.DataFrame(result_log).T\n",
    "result_df.columns = ['row', 'column', 'lat_min', 'lat_max', 'lon_min', 'lon_max'] + categories\n",
    "result_df"
   ],
   "metadata": {
    "collapsed": false,
    "pycharm": {
     "name": "#%%\n"
    }
   }
  },
  {
   "cell_type": "code",
   "execution_count": 53,
   "outputs": [],
   "source": [
    "result_df.to_csv('1. complete_df.csv')"
   ],
   "metadata": {
    "collapsed": false,
    "pycharm": {
     "name": "#%%\n"
    }
   }
  },
  {
   "cell_type": "code",
   "execution_count": 51,
   "outputs": [
    {
     "data": {
      "text/plain": "            row  column    lat_min    lat_max    lon_min  lon_max  nature  \\\nR1C2        1.0     2.0  45.000004  45.005004  11.500001  11.5075     0.0   \nR1C3        1.0     3.0  45.000004  45.005004  11.507500  11.5150     0.0   \nR1C5        1.0     5.0  45.000004  45.005004  11.522500  11.5300     0.0   \nR1C6        1.0     6.0  45.000004  45.005004  11.530000  11.5375     0.0   \nR1C7        1.0     7.0  45.000004  45.005004  11.537500  11.5450     0.0   \n...         ...     ...        ...        ...        ...      ...     ...   \nR200C196  200.0   196.0  45.994998  45.999998  12.955000  12.9625     3.0   \nR200C197  200.0   197.0  45.994998  45.999998  12.962500  12.9700     4.0   \nR200C198  200.0   198.0  45.994998  45.999998  12.970000  12.9775     0.0   \nR200C199  200.0   199.0  45.994998  45.999998  12.977500  12.9850     0.0   \nR200C200  200.0   200.0  45.994998  45.999998  12.985000  12.9925     1.0   \n\n          entartainment  transports  art  sport  tourism  security  \\\nR1C2                0.0         1.0  0.0    0.0      0.0       0.0   \nR1C3                0.0         2.0  0.0    0.0      0.0       0.0   \nR1C5                0.0         1.0  0.0    0.0      0.0       0.0   \nR1C6                0.0         1.0  0.0    0.0      0.0       0.0   \nR1C7                0.0         2.0  0.0    0.0      0.0       0.0   \n...                 ...         ...  ...    ...      ...       ...   \nR200C196            1.0         5.0  0.0    0.0      0.0       0.0   \nR200C197            0.0        11.0  1.0    3.0      0.0       0.0   \nR200C198            0.0         1.0  0.0    0.0      0.0       0.0   \nR200C199            0.0         1.0  0.0    0.0      0.0       0.0   \nR200C200            0.0         1.0  0.0    0.0      0.0       0.0   \n\n          accessibility  \nR1C2                0.0  \nR1C3                0.0  \nR1C5                0.0  \nR1C6                0.0  \nR1C7                0.0  \n...                 ...  \nR200C196            1.0  \nR200C197            0.0  \nR200C198            0.0  \nR200C199            0.0  \nR200C200            0.0  \n\n[28154 rows x 14 columns]",
      "text/html": "<div>\n<style scoped>\n    .dataframe tbody tr th:only-of-type {\n        vertical-align: middle;\n    }\n\n    .dataframe tbody tr th {\n        vertical-align: top;\n    }\n\n    .dataframe thead th {\n        text-align: right;\n    }\n</style>\n<table border=\"1\" class=\"dataframe\">\n  <thead>\n    <tr style=\"text-align: right;\">\n      <th></th>\n      <th>row</th>\n      <th>column</th>\n      <th>lat_min</th>\n      <th>lat_max</th>\n      <th>lon_min</th>\n      <th>lon_max</th>\n      <th>nature</th>\n      <th>entartainment</th>\n      <th>transports</th>\n      <th>art</th>\n      <th>sport</th>\n      <th>tourism</th>\n      <th>security</th>\n      <th>accessibility</th>\n    </tr>\n  </thead>\n  <tbody>\n    <tr>\n      <th>R1C2</th>\n      <td>1.0</td>\n      <td>2.0</td>\n      <td>45.000004</td>\n      <td>45.005004</td>\n      <td>11.500001</td>\n      <td>11.5075</td>\n      <td>0.0</td>\n      <td>0.0</td>\n      <td>1.0</td>\n      <td>0.0</td>\n      <td>0.0</td>\n      <td>0.0</td>\n      <td>0.0</td>\n      <td>0.0</td>\n    </tr>\n    <tr>\n      <th>R1C3</th>\n      <td>1.0</td>\n      <td>3.0</td>\n      <td>45.000004</td>\n      <td>45.005004</td>\n      <td>11.507500</td>\n      <td>11.5150</td>\n      <td>0.0</td>\n      <td>0.0</td>\n      <td>2.0</td>\n      <td>0.0</td>\n      <td>0.0</td>\n      <td>0.0</td>\n      <td>0.0</td>\n      <td>0.0</td>\n    </tr>\n    <tr>\n      <th>R1C5</th>\n      <td>1.0</td>\n      <td>5.0</td>\n      <td>45.000004</td>\n      <td>45.005004</td>\n      <td>11.522500</td>\n      <td>11.5300</td>\n      <td>0.0</td>\n      <td>0.0</td>\n      <td>1.0</td>\n      <td>0.0</td>\n      <td>0.0</td>\n      <td>0.0</td>\n      <td>0.0</td>\n      <td>0.0</td>\n    </tr>\n    <tr>\n      <th>R1C6</th>\n      <td>1.0</td>\n      <td>6.0</td>\n      <td>45.000004</td>\n      <td>45.005004</td>\n      <td>11.530000</td>\n      <td>11.5375</td>\n      <td>0.0</td>\n      <td>0.0</td>\n      <td>1.0</td>\n      <td>0.0</td>\n      <td>0.0</td>\n      <td>0.0</td>\n      <td>0.0</td>\n      <td>0.0</td>\n    </tr>\n    <tr>\n      <th>R1C7</th>\n      <td>1.0</td>\n      <td>7.0</td>\n      <td>45.000004</td>\n      <td>45.005004</td>\n      <td>11.537500</td>\n      <td>11.5450</td>\n      <td>0.0</td>\n      <td>0.0</td>\n      <td>2.0</td>\n      <td>0.0</td>\n      <td>0.0</td>\n      <td>0.0</td>\n      <td>0.0</td>\n      <td>0.0</td>\n    </tr>\n    <tr>\n      <th>...</th>\n      <td>...</td>\n      <td>...</td>\n      <td>...</td>\n      <td>...</td>\n      <td>...</td>\n      <td>...</td>\n      <td>...</td>\n      <td>...</td>\n      <td>...</td>\n      <td>...</td>\n      <td>...</td>\n      <td>...</td>\n      <td>...</td>\n      <td>...</td>\n    </tr>\n    <tr>\n      <th>R200C196</th>\n      <td>200.0</td>\n      <td>196.0</td>\n      <td>45.994998</td>\n      <td>45.999998</td>\n      <td>12.955000</td>\n      <td>12.9625</td>\n      <td>3.0</td>\n      <td>1.0</td>\n      <td>5.0</td>\n      <td>0.0</td>\n      <td>0.0</td>\n      <td>0.0</td>\n      <td>0.0</td>\n      <td>1.0</td>\n    </tr>\n    <tr>\n      <th>R200C197</th>\n      <td>200.0</td>\n      <td>197.0</td>\n      <td>45.994998</td>\n      <td>45.999998</td>\n      <td>12.962500</td>\n      <td>12.9700</td>\n      <td>4.0</td>\n      <td>0.0</td>\n      <td>11.0</td>\n      <td>1.0</td>\n      <td>3.0</td>\n      <td>0.0</td>\n      <td>0.0</td>\n      <td>0.0</td>\n    </tr>\n    <tr>\n      <th>R200C198</th>\n      <td>200.0</td>\n      <td>198.0</td>\n      <td>45.994998</td>\n      <td>45.999998</td>\n      <td>12.970000</td>\n      <td>12.9775</td>\n      <td>0.0</td>\n      <td>0.0</td>\n      <td>1.0</td>\n      <td>0.0</td>\n      <td>0.0</td>\n      <td>0.0</td>\n      <td>0.0</td>\n      <td>0.0</td>\n    </tr>\n    <tr>\n      <th>R200C199</th>\n      <td>200.0</td>\n      <td>199.0</td>\n      <td>45.994998</td>\n      <td>45.999998</td>\n      <td>12.977500</td>\n      <td>12.9850</td>\n      <td>0.0</td>\n      <td>0.0</td>\n      <td>1.0</td>\n      <td>0.0</td>\n      <td>0.0</td>\n      <td>0.0</td>\n      <td>0.0</td>\n      <td>0.0</td>\n    </tr>\n    <tr>\n      <th>R200C200</th>\n      <td>200.0</td>\n      <td>200.0</td>\n      <td>45.994998</td>\n      <td>45.999998</td>\n      <td>12.985000</td>\n      <td>12.9925</td>\n      <td>1.0</td>\n      <td>0.0</td>\n      <td>1.0</td>\n      <td>0.0</td>\n      <td>0.0</td>\n      <td>0.0</td>\n      <td>0.0</td>\n      <td>0.0</td>\n    </tr>\n  </tbody>\n</table>\n<p>28154 rows × 14 columns</p>\n</div>"
     },
     "execution_count": 51,
     "metadata": {},
     "output_type": "execute_result"
    }
   ],
   "source": [
    "filtered_df = result_df[result_df[categories].T.sum(0) != 0] # remove the cells that have 0 on every fclass\n",
    "filtered_df"
   ],
   "metadata": {
    "collapsed": false,
    "pycharm": {
     "name": "#%%\n"
    }
   }
  },
  {
   "cell_type": "code",
   "execution_count": 52,
   "outputs": [],
   "source": [
    "filtered_df.to_csv('1. filtered_df.csv')"
   ],
   "metadata": {
    "collapsed": false,
    "pycharm": {
     "name": "#%%\n"
    }
   }
  }
 ],
 "metadata": {
  "kernelspec": {
   "display_name": "Python 3",
   "language": "python",
   "name": "python3"
  },
  "language_info": {
   "codemirror_mode": {
    "name": "ipython",
    "version": 2
   },
   "file_extension": ".py",
   "mimetype": "text/x-python",
   "name": "python",
   "nbconvert_exporter": "python",
   "pygments_lexer": "ipython2",
   "version": "2.7.6"
  }
 },
 "nbformat": 4,
 "nbformat_minor": 0
}