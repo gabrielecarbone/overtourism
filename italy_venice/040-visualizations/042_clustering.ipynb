{
 "cells": [
  {
   "cell_type": "code",
   "execution_count": 27,
   "metadata": {
    "collapsed": true,
    "pycharm": {
     "name": "#%%\n"
    }
   },
   "outputs": [],
   "source": [
    "from sklearn.cluster import KMeans\n",
    "import numpy as np\n",
    "import pandas as pd"
   ]
  },
  {
   "cell_type": "code",
   "execution_count": 28,
   "outputs": [
    {
     "data": {
      "text/plain": "          predicted_tourism                                           geometry\nfield_1                                                                       \nR1C2                   0.00  POLYGON ((11.5075004965 45.005003717259264, 11...\nR1C3                   0.04  POLYGON ((11.515000493 45.005003717259264, 11....\nR1C5                   0.00  POLYGON ((11.530000486 45.005003717259264, 11....\nR1C6                   0.00  POLYGON ((11.5375004825 45.005003717259264, 11...\nR1C7                   0.00  POLYGON ((11.545000479 45.005003717259264, 11....\n...                     ...                                                ...\nR200C196               0.43  POLYGON ((12.9624998175 45.999997526527096, 12...\nR200C197               0.49  POLYGON ((12.969999814 45.999997526527096, 12....\nR200C198               0.00  POLYGON ((12.9774998105 45.999997526527096, 12...\nR200C199               0.00  POLYGON ((12.984999807 45.999997526527096, 12....\nR200C200               0.00  POLYGON ((12.9924998035 45.999997526527096, 12...\n\n[28154 rows x 2 columns]",
      "text/html": "<div>\n<style scoped>\n    .dataframe tbody tr th:only-of-type {\n        vertical-align: middle;\n    }\n\n    .dataframe tbody tr th {\n        vertical-align: top;\n    }\n\n    .dataframe thead th {\n        text-align: right;\n    }\n</style>\n<table border=\"1\" class=\"dataframe\">\n  <thead>\n    <tr style=\"text-align: right;\">\n      <th></th>\n      <th>predicted_tourism</th>\n      <th>geometry</th>\n    </tr>\n    <tr>\n      <th>field_1</th>\n      <th></th>\n      <th></th>\n    </tr>\n  </thead>\n  <tbody>\n    <tr>\n      <th>R1C2</th>\n      <td>0.00</td>\n      <td>POLYGON ((11.5075004965 45.005003717259264, 11...</td>\n    </tr>\n    <tr>\n      <th>R1C3</th>\n      <td>0.04</td>\n      <td>POLYGON ((11.515000493 45.005003717259264, 11....</td>\n    </tr>\n    <tr>\n      <th>R1C5</th>\n      <td>0.00</td>\n      <td>POLYGON ((11.530000486 45.005003717259264, 11....</td>\n    </tr>\n    <tr>\n      <th>R1C6</th>\n      <td>0.00</td>\n      <td>POLYGON ((11.5375004825 45.005003717259264, 11...</td>\n    </tr>\n    <tr>\n      <th>R1C7</th>\n      <td>0.00</td>\n      <td>POLYGON ((11.545000479 45.005003717259264, 11....</td>\n    </tr>\n    <tr>\n      <th>...</th>\n      <td>...</td>\n      <td>...</td>\n    </tr>\n    <tr>\n      <th>R200C196</th>\n      <td>0.43</td>\n      <td>POLYGON ((12.9624998175 45.999997526527096, 12...</td>\n    </tr>\n    <tr>\n      <th>R200C197</th>\n      <td>0.49</td>\n      <td>POLYGON ((12.969999814 45.999997526527096, 12....</td>\n    </tr>\n    <tr>\n      <th>R200C198</th>\n      <td>0.00</td>\n      <td>POLYGON ((12.9774998105 45.999997526527096, 12...</td>\n    </tr>\n    <tr>\n      <th>R200C199</th>\n      <td>0.00</td>\n      <td>POLYGON ((12.984999807 45.999997526527096, 12....</td>\n    </tr>\n    <tr>\n      <th>R200C200</th>\n      <td>0.00</td>\n      <td>POLYGON ((12.9924998035 45.999997526527096, 12...</td>\n    </tr>\n  </tbody>\n</table>\n<p>28154 rows × 2 columns</p>\n</div>"
     },
     "execution_count": 28,
     "metadata": {},
     "output_type": "execute_result"
    }
   ],
   "source": [
    "prediction_df = pd.read_csv('../030-training_models/7.final_prediction.csv')\n",
    "prediction_df.set_index('field_1', inplace = True)\n",
    "prediction_df = prediction_df[['predicted_tourism', 'geometry']]\n",
    "prediction_df"
   ],
   "metadata": {
    "collapsed": false,
    "pycharm": {
     "name": "#%%\n"
    }
   }
  },
  {
   "cell_type": "code",
   "execution_count": 29,
   "outputs": [
    {
     "data": {
      "text/plain": "              lat_min    lat_max    lon_min  lon_max\nUnnamed: 0                                          \nR1C2        45.000004  45.005004  11.500001  11.5075\nR1C3        45.000004  45.005004  11.507500  11.5150\nR1C5        45.000004  45.005004  11.522500  11.5300\nR1C6        45.000004  45.005004  11.530000  11.5375\nR1C7        45.000004  45.005004  11.537500  11.5450\n...               ...        ...        ...      ...\nR200C196    45.994998  45.999998  12.955000  12.9625\nR200C197    45.994998  45.999998  12.962500  12.9700\nR200C198    45.994998  45.999998  12.970000  12.9775\nR200C199    45.994998  45.999998  12.977500  12.9850\nR200C200    45.994998  45.999998  12.985000  12.9925\n\n[28154 rows x 4 columns]",
      "text/html": "<div>\n<style scoped>\n    .dataframe tbody tr th:only-of-type {\n        vertical-align: middle;\n    }\n\n    .dataframe tbody tr th {\n        vertical-align: top;\n    }\n\n    .dataframe thead th {\n        text-align: right;\n    }\n</style>\n<table border=\"1\" class=\"dataframe\">\n  <thead>\n    <tr style=\"text-align: right;\">\n      <th></th>\n      <th>lat_min</th>\n      <th>lat_max</th>\n      <th>lon_min</th>\n      <th>lon_max</th>\n    </tr>\n    <tr>\n      <th>Unnamed: 0</th>\n      <th></th>\n      <th></th>\n      <th></th>\n      <th></th>\n    </tr>\n  </thead>\n  <tbody>\n    <tr>\n      <th>R1C2</th>\n      <td>45.000004</td>\n      <td>45.005004</td>\n      <td>11.500001</td>\n      <td>11.5075</td>\n    </tr>\n    <tr>\n      <th>R1C3</th>\n      <td>45.000004</td>\n      <td>45.005004</td>\n      <td>11.507500</td>\n      <td>11.5150</td>\n    </tr>\n    <tr>\n      <th>R1C5</th>\n      <td>45.000004</td>\n      <td>45.005004</td>\n      <td>11.522500</td>\n      <td>11.5300</td>\n    </tr>\n    <tr>\n      <th>R1C6</th>\n      <td>45.000004</td>\n      <td>45.005004</td>\n      <td>11.530000</td>\n      <td>11.5375</td>\n    </tr>\n    <tr>\n      <th>R1C7</th>\n      <td>45.000004</td>\n      <td>45.005004</td>\n      <td>11.537500</td>\n      <td>11.5450</td>\n    </tr>\n    <tr>\n      <th>...</th>\n      <td>...</td>\n      <td>...</td>\n      <td>...</td>\n      <td>...</td>\n    </tr>\n    <tr>\n      <th>R200C196</th>\n      <td>45.994998</td>\n      <td>45.999998</td>\n      <td>12.955000</td>\n      <td>12.9625</td>\n    </tr>\n    <tr>\n      <th>R200C197</th>\n      <td>45.994998</td>\n      <td>45.999998</td>\n      <td>12.962500</td>\n      <td>12.9700</td>\n    </tr>\n    <tr>\n      <th>R200C198</th>\n      <td>45.994998</td>\n      <td>45.999998</td>\n      <td>12.970000</td>\n      <td>12.9775</td>\n    </tr>\n    <tr>\n      <th>R200C199</th>\n      <td>45.994998</td>\n      <td>45.999998</td>\n      <td>12.977500</td>\n      <td>12.9850</td>\n    </tr>\n    <tr>\n      <th>R200C200</th>\n      <td>45.994998</td>\n      <td>45.999998</td>\n      <td>12.985000</td>\n      <td>12.9925</td>\n    </tr>\n  </tbody>\n</table>\n<p>28154 rows × 4 columns</p>\n</div>"
     },
     "execution_count": 29,
     "metadata": {},
     "output_type": "execute_result"
    }
   ],
   "source": [
    "gdf = pd.read_csv('../030-training_models/1.filtered_df.csv')\n",
    "gdf.set_index('Unnamed: 0', inplace = True)\n",
    "gdf = gdf[['lat_min', 'lat_max', 'lon_min', 'lon_max']]\n",
    "gdf"
   ],
   "metadata": {
    "collapsed": false,
    "pycharm": {
     "name": "#%%\n"
    }
   }
  },
  {
   "cell_type": "code",
   "execution_count": 30,
   "outputs": [
    {
     "data": {
      "text/plain": "          predicted_tourism  \\\nR1C2                   0.00   \nR1C3                   0.04   \nR1C5                   0.00   \nR1C6                   0.00   \nR1C7                   0.00   \n...                     ...   \nR200C196               0.43   \nR200C197               0.49   \nR200C198               0.00   \nR200C199               0.00   \nR200C200               0.00   \n\n                                                   geometry    lat_min  \\\nR1C2      POLYGON ((11.5075004965 45.005003717259264, 11...  45.000004   \nR1C3      POLYGON ((11.515000493 45.005003717259264, 11....  45.000004   \nR1C5      POLYGON ((11.530000486 45.005003717259264, 11....  45.000004   \nR1C6      POLYGON ((11.5375004825 45.005003717259264, 11...  45.000004   \nR1C7      POLYGON ((11.545000479 45.005003717259264, 11....  45.000004   \n...                                                     ...        ...   \nR200C196  POLYGON ((12.9624998175 45.999997526527096, 12...  45.994998   \nR200C197  POLYGON ((12.969999814 45.999997526527096, 12....  45.994998   \nR200C198  POLYGON ((12.9774998105 45.999997526527096, 12...  45.994998   \nR200C199  POLYGON ((12.984999807 45.999997526527096, 12....  45.994998   \nR200C200  POLYGON ((12.9924998035 45.999997526527096, 12...  45.994998   \n\n            lat_max    lon_min  lon_max  \nR1C2      45.005004  11.500001  11.5075  \nR1C3      45.005004  11.507500  11.5150  \nR1C5      45.005004  11.522500  11.5300  \nR1C6      45.005004  11.530000  11.5375  \nR1C7      45.005004  11.537500  11.5450  \n...             ...        ...      ...  \nR200C196  45.999998  12.955000  12.9625  \nR200C197  45.999998  12.962500  12.9700  \nR200C198  45.999998  12.970000  12.9775  \nR200C199  45.999998  12.977500  12.9850  \nR200C200  45.999998  12.985000  12.9925  \n\n[28154 rows x 6 columns]",
      "text/html": "<div>\n<style scoped>\n    .dataframe tbody tr th:only-of-type {\n        vertical-align: middle;\n    }\n\n    .dataframe tbody tr th {\n        vertical-align: top;\n    }\n\n    .dataframe thead th {\n        text-align: right;\n    }\n</style>\n<table border=\"1\" class=\"dataframe\">\n  <thead>\n    <tr style=\"text-align: right;\">\n      <th></th>\n      <th>predicted_tourism</th>\n      <th>geometry</th>\n      <th>lat_min</th>\n      <th>lat_max</th>\n      <th>lon_min</th>\n      <th>lon_max</th>\n    </tr>\n  </thead>\n  <tbody>\n    <tr>\n      <th>R1C2</th>\n      <td>0.00</td>\n      <td>POLYGON ((11.5075004965 45.005003717259264, 11...</td>\n      <td>45.000004</td>\n      <td>45.005004</td>\n      <td>11.500001</td>\n      <td>11.5075</td>\n    </tr>\n    <tr>\n      <th>R1C3</th>\n      <td>0.04</td>\n      <td>POLYGON ((11.515000493 45.005003717259264, 11....</td>\n      <td>45.000004</td>\n      <td>45.005004</td>\n      <td>11.507500</td>\n      <td>11.5150</td>\n    </tr>\n    <tr>\n      <th>R1C5</th>\n      <td>0.00</td>\n      <td>POLYGON ((11.530000486 45.005003717259264, 11....</td>\n      <td>45.000004</td>\n      <td>45.005004</td>\n      <td>11.522500</td>\n      <td>11.5300</td>\n    </tr>\n    <tr>\n      <th>R1C6</th>\n      <td>0.00</td>\n      <td>POLYGON ((11.5375004825 45.005003717259264, 11...</td>\n      <td>45.000004</td>\n      <td>45.005004</td>\n      <td>11.530000</td>\n      <td>11.5375</td>\n    </tr>\n    <tr>\n      <th>R1C7</th>\n      <td>0.00</td>\n      <td>POLYGON ((11.545000479 45.005003717259264, 11....</td>\n      <td>45.000004</td>\n      <td>45.005004</td>\n      <td>11.537500</td>\n      <td>11.5450</td>\n    </tr>\n    <tr>\n      <th>...</th>\n      <td>...</td>\n      <td>...</td>\n      <td>...</td>\n      <td>...</td>\n      <td>...</td>\n      <td>...</td>\n    </tr>\n    <tr>\n      <th>R200C196</th>\n      <td>0.43</td>\n      <td>POLYGON ((12.9624998175 45.999997526527096, 12...</td>\n      <td>45.994998</td>\n      <td>45.999998</td>\n      <td>12.955000</td>\n      <td>12.9625</td>\n    </tr>\n    <tr>\n      <th>R200C197</th>\n      <td>0.49</td>\n      <td>POLYGON ((12.969999814 45.999997526527096, 12....</td>\n      <td>45.994998</td>\n      <td>45.999998</td>\n      <td>12.962500</td>\n      <td>12.9700</td>\n    </tr>\n    <tr>\n      <th>R200C198</th>\n      <td>0.00</td>\n      <td>POLYGON ((12.9774998105 45.999997526527096, 12...</td>\n      <td>45.994998</td>\n      <td>45.999998</td>\n      <td>12.970000</td>\n      <td>12.9775</td>\n    </tr>\n    <tr>\n      <th>R200C199</th>\n      <td>0.00</td>\n      <td>POLYGON ((12.984999807 45.999997526527096, 12....</td>\n      <td>45.994998</td>\n      <td>45.999998</td>\n      <td>12.977500</td>\n      <td>12.9850</td>\n    </tr>\n    <tr>\n      <th>R200C200</th>\n      <td>0.00</td>\n      <td>POLYGON ((12.9924998035 45.999997526527096, 12...</td>\n      <td>45.994998</td>\n      <td>45.999998</td>\n      <td>12.985000</td>\n      <td>12.9925</td>\n    </tr>\n  </tbody>\n</table>\n<p>28154 rows × 6 columns</p>\n</div>"
     },
     "execution_count": 30,
     "metadata": {},
     "output_type": "execute_result"
    }
   ],
   "source": [
    "df = pd.concat([prediction_df, gdf], axis = 1)\n",
    "df"
   ],
   "metadata": {
    "collapsed": false,
    "pycharm": {
     "name": "#%%\n"
    }
   }
  },
  {
   "cell_type": "code",
   "execution_count": 31,
   "outputs": [
    {
     "data": {
      "text/plain": "          predicted_tourism  \\\nR1C37                  1.18   \nR1C38                  0.91   \nR1C86                  0.61   \nR1C96                  0.58   \nR1C119                 0.79   \n...                     ...   \nR200C152               0.52   \nR200C162               0.53   \nR200C182               0.98   \nR200C183               1.58   \nR200C184               1.14   \n\n                                                   geometry    lat_min  \\\nR1C37     POLYGON ((11.770000374 45.005003717259264, 11....  45.000004   \nR1C38     POLYGON ((11.7775003705 45.005003717259264, 11...  45.000004   \nR1C86     POLYGON ((12.1375002025 45.005003717259264, 12...  45.000004   \nR1C96     POLYGON ((12.2125001675 45.005003717259264, 12...  45.000004   \nR1C119    POLYGON ((12.385000087 45.005003717259264, 12....  45.000004   \n...                                                     ...        ...   \nR200C152  POLYGON ((12.6324999715 45.999997526527096, 12...  45.994998   \nR200C162  POLYGON ((12.7074999365 45.999997526527096, 12...  45.994998   \nR200C182  POLYGON ((12.8574998665 45.999997526527096, 12...  45.994998   \nR200C183  POLYGON ((12.864999863 45.999997526527096, 12....  45.994998   \nR200C184  POLYGON ((12.8724998595 45.999997526527096, 12...  45.994998   \n\n            lat_max  lon_min  lon_max  \nR1C37     45.005004  11.7625  11.7700  \nR1C38     45.005004  11.7700  11.7775  \nR1C86     45.005004  12.1300  12.1375  \nR1C96     45.005004  12.2050  12.2125  \nR1C119    45.005004  12.3775  12.3850  \n...             ...      ...      ...  \nR200C152  45.999998  12.6250  12.6325  \nR200C162  45.999998  12.7000  12.7075  \nR200C182  45.999998  12.8500  12.8575  \nR200C183  45.999998  12.8575  12.8650  \nR200C184  45.999998  12.8650  12.8725  \n\n[4212 rows x 6 columns]",
      "text/html": "<div>\n<style scoped>\n    .dataframe tbody tr th:only-of-type {\n        vertical-align: middle;\n    }\n\n    .dataframe tbody tr th {\n        vertical-align: top;\n    }\n\n    .dataframe thead th {\n        text-align: right;\n    }\n</style>\n<table border=\"1\" class=\"dataframe\">\n  <thead>\n    <tr style=\"text-align: right;\">\n      <th></th>\n      <th>predicted_tourism</th>\n      <th>geometry</th>\n      <th>lat_min</th>\n      <th>lat_max</th>\n      <th>lon_min</th>\n      <th>lon_max</th>\n    </tr>\n  </thead>\n  <tbody>\n    <tr>\n      <th>R1C37</th>\n      <td>1.18</td>\n      <td>POLYGON ((11.770000374 45.005003717259264, 11....</td>\n      <td>45.000004</td>\n      <td>45.005004</td>\n      <td>11.7625</td>\n      <td>11.7700</td>\n    </tr>\n    <tr>\n      <th>R1C38</th>\n      <td>0.91</td>\n      <td>POLYGON ((11.7775003705 45.005003717259264, 11...</td>\n      <td>45.000004</td>\n      <td>45.005004</td>\n      <td>11.7700</td>\n      <td>11.7775</td>\n    </tr>\n    <tr>\n      <th>R1C86</th>\n      <td>0.61</td>\n      <td>POLYGON ((12.1375002025 45.005003717259264, 12...</td>\n      <td>45.000004</td>\n      <td>45.005004</td>\n      <td>12.1300</td>\n      <td>12.1375</td>\n    </tr>\n    <tr>\n      <th>R1C96</th>\n      <td>0.58</td>\n      <td>POLYGON ((12.2125001675 45.005003717259264, 12...</td>\n      <td>45.000004</td>\n      <td>45.005004</td>\n      <td>12.2050</td>\n      <td>12.2125</td>\n    </tr>\n    <tr>\n      <th>R1C119</th>\n      <td>0.79</td>\n      <td>POLYGON ((12.385000087 45.005003717259264, 12....</td>\n      <td>45.000004</td>\n      <td>45.005004</td>\n      <td>12.3775</td>\n      <td>12.3850</td>\n    </tr>\n    <tr>\n      <th>...</th>\n      <td>...</td>\n      <td>...</td>\n      <td>...</td>\n      <td>...</td>\n      <td>...</td>\n      <td>...</td>\n    </tr>\n    <tr>\n      <th>R200C152</th>\n      <td>0.52</td>\n      <td>POLYGON ((12.6324999715 45.999997526527096, 12...</td>\n      <td>45.994998</td>\n      <td>45.999998</td>\n      <td>12.6250</td>\n      <td>12.6325</td>\n    </tr>\n    <tr>\n      <th>R200C162</th>\n      <td>0.53</td>\n      <td>POLYGON ((12.7074999365 45.999997526527096, 12...</td>\n      <td>45.994998</td>\n      <td>45.999998</td>\n      <td>12.7000</td>\n      <td>12.7075</td>\n    </tr>\n    <tr>\n      <th>R200C182</th>\n      <td>0.98</td>\n      <td>POLYGON ((12.8574998665 45.999997526527096, 12...</td>\n      <td>45.994998</td>\n      <td>45.999998</td>\n      <td>12.8500</td>\n      <td>12.8575</td>\n    </tr>\n    <tr>\n      <th>R200C183</th>\n      <td>1.58</td>\n      <td>POLYGON ((12.864999863 45.999997526527096, 12....</td>\n      <td>45.994998</td>\n      <td>45.999998</td>\n      <td>12.8575</td>\n      <td>12.8650</td>\n    </tr>\n    <tr>\n      <th>R200C184</th>\n      <td>1.14</td>\n      <td>POLYGON ((12.8724998595 45.999997526527096, 12...</td>\n      <td>45.994998</td>\n      <td>45.999998</td>\n      <td>12.8650</td>\n      <td>12.8725</td>\n    </tr>\n  </tbody>\n</table>\n<p>4212 rows × 6 columns</p>\n</div>"
     },
     "execution_count": 31,
     "metadata": {},
     "output_type": "execute_result"
    }
   ],
   "source": [
    "filtered_df = df.loc[df.predicted_tourism > df.predicted_tourism.quantile(0.85)]\n",
    "filtered_df"
   ],
   "metadata": {
    "collapsed": false,
    "pycharm": {
     "name": "#%%\n"
    }
   }
  },
  {
   "cell_type": "code",
   "execution_count": 32,
   "outputs": [],
   "source": [
    "kmeans = KMeans(n_clusters= 20).fit_predict(filtered_df[['lat_min', 'lat_max', 'lon_min', 'lon_max']])"
   ],
   "metadata": {
    "collapsed": false,
    "pycharm": {
     "name": "#%%\n"
    }
   }
  },
  {
   "cell_type": "code",
   "execution_count": 33,
   "outputs": [
    {
     "data": {
      "text/plain": "                                                   geometry  cluster\nR1C37     POLYGON ((11.770000374 45.005003717259264, 11....       11\nR1C38     POLYGON ((11.7775003705 45.005003717259264, 11...       11\nR1C86     POLYGON ((12.1375002025 45.005003717259264, 12...        6\nR1C96     POLYGON ((12.2125001675 45.005003717259264, 12...        6\nR1C119    POLYGON ((12.385000087 45.005003717259264, 12....        6\n...                                                     ...      ...\nR200C152  POLYGON ((12.6324999715 45.999997526527096, 12...        9\nR200C162  POLYGON ((12.7074999365 45.999997526527096, 12...        9\nR200C182  POLYGON ((12.8574998665 45.999997526527096, 12...       19\nR200C183  POLYGON ((12.864999863 45.999997526527096, 12....       19\nR200C184  POLYGON ((12.8724998595 45.999997526527096, 12...       19\n\n[4212 rows x 2 columns]",
      "text/html": "<div>\n<style scoped>\n    .dataframe tbody tr th:only-of-type {\n        vertical-align: middle;\n    }\n\n    .dataframe tbody tr th {\n        vertical-align: top;\n    }\n\n    .dataframe thead th {\n        text-align: right;\n    }\n</style>\n<table border=\"1\" class=\"dataframe\">\n  <thead>\n    <tr style=\"text-align: right;\">\n      <th></th>\n      <th>geometry</th>\n      <th>cluster</th>\n    </tr>\n  </thead>\n  <tbody>\n    <tr>\n      <th>R1C37</th>\n      <td>POLYGON ((11.770000374 45.005003717259264, 11....</td>\n      <td>11</td>\n    </tr>\n    <tr>\n      <th>R1C38</th>\n      <td>POLYGON ((11.7775003705 45.005003717259264, 11...</td>\n      <td>11</td>\n    </tr>\n    <tr>\n      <th>R1C86</th>\n      <td>POLYGON ((12.1375002025 45.005003717259264, 12...</td>\n      <td>6</td>\n    </tr>\n    <tr>\n      <th>R1C96</th>\n      <td>POLYGON ((12.2125001675 45.005003717259264, 12...</td>\n      <td>6</td>\n    </tr>\n    <tr>\n      <th>R1C119</th>\n      <td>POLYGON ((12.385000087 45.005003717259264, 12....</td>\n      <td>6</td>\n    </tr>\n    <tr>\n      <th>...</th>\n      <td>...</td>\n      <td>...</td>\n    </tr>\n    <tr>\n      <th>R200C152</th>\n      <td>POLYGON ((12.6324999715 45.999997526527096, 12...</td>\n      <td>9</td>\n    </tr>\n    <tr>\n      <th>R200C162</th>\n      <td>POLYGON ((12.7074999365 45.999997526527096, 12...</td>\n      <td>9</td>\n    </tr>\n    <tr>\n      <th>R200C182</th>\n      <td>POLYGON ((12.8574998665 45.999997526527096, 12...</td>\n      <td>19</td>\n    </tr>\n    <tr>\n      <th>R200C183</th>\n      <td>POLYGON ((12.864999863 45.999997526527096, 12....</td>\n      <td>19</td>\n    </tr>\n    <tr>\n      <th>R200C184</th>\n      <td>POLYGON ((12.8724998595 45.999997526527096, 12...</td>\n      <td>19</td>\n    </tr>\n  </tbody>\n</table>\n<p>4212 rows × 2 columns</p>\n</div>"
     },
     "execution_count": 33,
     "metadata": {},
     "output_type": "execute_result"
    }
   ],
   "source": [
    "exporting_df = pd.concat([filtered_df['geometry'], pd.Series(kmeans + 1, index = filtered_df.index, name = 'cluster')], axis = 1)\n",
    "exporting_df"
   ],
   "metadata": {
    "collapsed": false,
    "pycharm": {
     "name": "#%%\n"
    }
   }
  },
  {
   "cell_type": "code",
   "execution_count": 34,
   "outputs": [],
   "source": [
    "exporting_df.to_csv('1.clustered_df.csv')"
   ],
   "metadata": {
    "collapsed": false,
    "pycharm": {
     "name": "#%%\n"
    }
   }
  },
  {
   "cell_type": "code",
   "execution_count": 44,
   "outputs": [
    {
     "data": {
      "text/plain": "      lat_min    lat_max    lon_min    lon_max\n1   45.956109  45.961109  11.728646  11.736146\n2   45.680619  45.685619  12.249934  12.257434\n3   45.405317  45.410317  11.876816  11.884316\n4   45.851164  45.856164  12.858879  12.866379\n5   45.819269  45.824269  12.023165  12.030665\n6   45.451879  45.456879  12.362341  12.369841\n7   45.171878  45.176878  12.011370  12.018870\n8   45.201270  45.206270  11.572175  11.579675\n9   45.781311  45.786311  11.595813  11.603313\n10  45.532796  45.537796  11.574617  11.582117\n11  45.910962  45.915962  12.284607  12.292107\n12  45.568219  45.573219  12.720953  12.728453\n13  45.708499  45.713499  12.509850  12.517350\n14  45.494944  45.499943  12.144400  12.151900\n15  45.288704  45.293704  11.707682  11.715182\n16  45.770420  45.775420  11.795974  11.803474\n17  45.087986  45.092986  11.770461  11.777961\n18  45.136438  45.141438  12.277065  12.284565\n19  45.912533  45.917533  12.636647  12.644147\n20  45.627407  45.632407  11.870648  11.878148",
      "text/html": "<div>\n<style scoped>\n    .dataframe tbody tr th:only-of-type {\n        vertical-align: middle;\n    }\n\n    .dataframe tbody tr th {\n        vertical-align: top;\n    }\n\n    .dataframe thead th {\n        text-align: right;\n    }\n</style>\n<table border=\"1\" class=\"dataframe\">\n  <thead>\n    <tr style=\"text-align: right;\">\n      <th></th>\n      <th>lat_min</th>\n      <th>lat_max</th>\n      <th>lon_min</th>\n      <th>lon_max</th>\n    </tr>\n  </thead>\n  <tbody>\n    <tr>\n      <th>1</th>\n      <td>45.956109</td>\n      <td>45.961109</td>\n      <td>11.728646</td>\n      <td>11.736146</td>\n    </tr>\n    <tr>\n      <th>2</th>\n      <td>45.680619</td>\n      <td>45.685619</td>\n      <td>12.249934</td>\n      <td>12.257434</td>\n    </tr>\n    <tr>\n      <th>3</th>\n      <td>45.405317</td>\n      <td>45.410317</td>\n      <td>11.876816</td>\n      <td>11.884316</td>\n    </tr>\n    <tr>\n      <th>4</th>\n      <td>45.851164</td>\n      <td>45.856164</td>\n      <td>12.858879</td>\n      <td>12.866379</td>\n    </tr>\n    <tr>\n      <th>5</th>\n      <td>45.819269</td>\n      <td>45.824269</td>\n      <td>12.023165</td>\n      <td>12.030665</td>\n    </tr>\n    <tr>\n      <th>6</th>\n      <td>45.451879</td>\n      <td>45.456879</td>\n      <td>12.362341</td>\n      <td>12.369841</td>\n    </tr>\n    <tr>\n      <th>7</th>\n      <td>45.171878</td>\n      <td>45.176878</td>\n      <td>12.011370</td>\n      <td>12.018870</td>\n    </tr>\n    <tr>\n      <th>8</th>\n      <td>45.201270</td>\n      <td>45.206270</td>\n      <td>11.572175</td>\n      <td>11.579675</td>\n    </tr>\n    <tr>\n      <th>9</th>\n      <td>45.781311</td>\n      <td>45.786311</td>\n      <td>11.595813</td>\n      <td>11.603313</td>\n    </tr>\n    <tr>\n      <th>10</th>\n      <td>45.532796</td>\n      <td>45.537796</td>\n      <td>11.574617</td>\n      <td>11.582117</td>\n    </tr>\n    <tr>\n      <th>11</th>\n      <td>45.910962</td>\n      <td>45.915962</td>\n      <td>12.284607</td>\n      <td>12.292107</td>\n    </tr>\n    <tr>\n      <th>12</th>\n      <td>45.568219</td>\n      <td>45.573219</td>\n      <td>12.720953</td>\n      <td>12.728453</td>\n    </tr>\n    <tr>\n      <th>13</th>\n      <td>45.708499</td>\n      <td>45.713499</td>\n      <td>12.509850</td>\n      <td>12.517350</td>\n    </tr>\n    <tr>\n      <th>14</th>\n      <td>45.494944</td>\n      <td>45.499943</td>\n      <td>12.144400</td>\n      <td>12.151900</td>\n    </tr>\n    <tr>\n      <th>15</th>\n      <td>45.288704</td>\n      <td>45.293704</td>\n      <td>11.707682</td>\n      <td>11.715182</td>\n    </tr>\n    <tr>\n      <th>16</th>\n      <td>45.770420</td>\n      <td>45.775420</td>\n      <td>11.795974</td>\n      <td>11.803474</td>\n    </tr>\n    <tr>\n      <th>17</th>\n      <td>45.087986</td>\n      <td>45.092986</td>\n      <td>11.770461</td>\n      <td>11.777961</td>\n    </tr>\n    <tr>\n      <th>18</th>\n      <td>45.136438</td>\n      <td>45.141438</td>\n      <td>12.277065</td>\n      <td>12.284565</td>\n    </tr>\n    <tr>\n      <th>19</th>\n      <td>45.912533</td>\n      <td>45.917533</td>\n      <td>12.636647</td>\n      <td>12.644147</td>\n    </tr>\n    <tr>\n      <th>20</th>\n      <td>45.627407</td>\n      <td>45.632407</td>\n      <td>11.870648</td>\n      <td>11.878148</td>\n    </tr>\n  </tbody>\n</table>\n</div>"
     },
     "execution_count": 44,
     "metadata": {},
     "output_type": "execute_result"
    }
   ],
   "source": [
    "cluster_coordinates = pd.DataFrame(KMeans(n_clusters=20).fit(filtered_df[['lat_min', 'lat_max', 'lon_min', 'lon_max']]).cluster_centers_)\n",
    "cluster_coordinates.columns = ['lat_min', 'lat_max', 'lon_min', 'lon_max']\n",
    "cluster_coordinates.index = cluster_coordinates.index + 1\n",
    "cluster_coordinates"
   ],
   "metadata": {
    "collapsed": false,
    "pycharm": {
     "name": "#%%\n"
    }
   }
  },
  {
   "cell_type": "code",
   "execution_count": 49,
   "outputs": [
    {
     "data": {
      "text/plain": "          lat        lon\n1   45.958609  11.732396\n2   45.683119  12.253684\n3   45.407817  11.880566\n4   45.853664  12.862629\n5   45.821769  12.026915\n6   45.454379  12.366091\n7   45.174378  12.015120\n8   45.203770  11.575925\n9   45.783811  11.599563\n10  45.535296  11.578367\n11  45.913462  12.288357\n12  45.570719  12.724703\n13  45.710999  12.513600\n14  45.497444  12.148150\n15  45.291204  11.711432\n16  45.772920  11.799724\n17  45.090486  11.774211\n18  45.138938  12.280815\n19  45.915033  12.640397\n20  45.629907  11.874398",
      "text/html": "<div>\n<style scoped>\n    .dataframe tbody tr th:only-of-type {\n        vertical-align: middle;\n    }\n\n    .dataframe tbody tr th {\n        vertical-align: top;\n    }\n\n    .dataframe thead th {\n        text-align: right;\n    }\n</style>\n<table border=\"1\" class=\"dataframe\">\n  <thead>\n    <tr style=\"text-align: right;\">\n      <th></th>\n      <th>lat</th>\n      <th>lon</th>\n    </tr>\n  </thead>\n  <tbody>\n    <tr>\n      <th>1</th>\n      <td>45.958609</td>\n      <td>11.732396</td>\n    </tr>\n    <tr>\n      <th>2</th>\n      <td>45.683119</td>\n      <td>12.253684</td>\n    </tr>\n    <tr>\n      <th>3</th>\n      <td>45.407817</td>\n      <td>11.880566</td>\n    </tr>\n    <tr>\n      <th>4</th>\n      <td>45.853664</td>\n      <td>12.862629</td>\n    </tr>\n    <tr>\n      <th>5</th>\n      <td>45.821769</td>\n      <td>12.026915</td>\n    </tr>\n    <tr>\n      <th>6</th>\n      <td>45.454379</td>\n      <td>12.366091</td>\n    </tr>\n    <tr>\n      <th>7</th>\n      <td>45.174378</td>\n      <td>12.015120</td>\n    </tr>\n    <tr>\n      <th>8</th>\n      <td>45.203770</td>\n      <td>11.575925</td>\n    </tr>\n    <tr>\n      <th>9</th>\n      <td>45.783811</td>\n      <td>11.599563</td>\n    </tr>\n    <tr>\n      <th>10</th>\n      <td>45.535296</td>\n      <td>11.578367</td>\n    </tr>\n    <tr>\n      <th>11</th>\n      <td>45.913462</td>\n      <td>12.288357</td>\n    </tr>\n    <tr>\n      <th>12</th>\n      <td>45.570719</td>\n      <td>12.724703</td>\n    </tr>\n    <tr>\n      <th>13</th>\n      <td>45.710999</td>\n      <td>12.513600</td>\n    </tr>\n    <tr>\n      <th>14</th>\n      <td>45.497444</td>\n      <td>12.148150</td>\n    </tr>\n    <tr>\n      <th>15</th>\n      <td>45.291204</td>\n      <td>11.711432</td>\n    </tr>\n    <tr>\n      <th>16</th>\n      <td>45.772920</td>\n      <td>11.799724</td>\n    </tr>\n    <tr>\n      <th>17</th>\n      <td>45.090486</td>\n      <td>11.774211</td>\n    </tr>\n    <tr>\n      <th>18</th>\n      <td>45.138938</td>\n      <td>12.280815</td>\n    </tr>\n    <tr>\n      <th>19</th>\n      <td>45.915033</td>\n      <td>12.640397</td>\n    </tr>\n    <tr>\n      <th>20</th>\n      <td>45.629907</td>\n      <td>11.874398</td>\n    </tr>\n  </tbody>\n</table>\n</div>"
     },
     "execution_count": 49,
     "metadata": {},
     "output_type": "execute_result"
    }
   ],
   "source": [
    "cluster_coordinates['lat'] = (cluster_coordinates['lat_min'] + cluster_coordinates['lat_max']) / 2\n",
    "cluster_coordinates['lon'] = (cluster_coordinates['lon_min'] + cluster_coordinates['lon_max']) / 2\n",
    "cluster_coordinates = cluster_coordinates[['lat', 'lon']]\n",
    "cluster_coordinates"
   ],
   "metadata": {
    "collapsed": false,
    "pycharm": {
     "name": "#%%\n"
    }
   }
  },
  {
   "cell_type": "code",
   "execution_count": 51,
   "outputs": [],
   "source": [
    "cluster_coordinates.to_csv('1.cluster_coordinates.csv')"
   ],
   "metadata": {
    "collapsed": false,
    "pycharm": {
     "name": "#%%\n"
    }
   }
  }
 ],
 "metadata": {
  "kernelspec": {
   "display_name": "Python 3",
   "language": "python",
   "name": "python3"
  },
  "language_info": {
   "codemirror_mode": {
    "name": "ipython",
    "version": 2
   },
   "file_extension": ".py",
   "mimetype": "text/x-python",
   "name": "python",
   "nbconvert_exporter": "python",
   "pygments_lexer": "ipython2",
   "version": "2.7.6"
  }
 },
 "nbformat": 4,
 "nbformat_minor": 0
}