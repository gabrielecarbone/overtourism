{
 "cells": [
  {
   "cell_type": "code",
   "execution_count": 1,
   "metadata": {
    "collapsed": true,
    "pycharm": {
     "name": "#%%\n"
    }
   },
   "outputs": [],
   "source": [
    "import pandas as pd\n",
    "import os"
   ]
  },
  {
   "cell_type": "code",
   "execution_count": 2,
   "outputs": [],
   "source": [
    "# SETTINGS\n",
    "path = '../010-add_coordinates/coordinates/'\n",
    "filter_df = pd.read_csv('categories.csv', sep = ';', encoding = \"ISO-8859-1\")"
   ],
   "metadata": {
    "collapsed": false,
    "pycharm": {
     "name": "#%%\n"
    }
   }
  },
  {
   "cell_type": "code",
   "execution_count": 3,
   "outputs": [],
   "source": [
    "filter_df = filter_df.loc[~filter_df.SELECT.isna(), ['SELECT', 'Geometry Code', 'Layer', 'fclass']]\n",
    "#filter_df['Geometry Code'] = filter_df['Geometry Code'].str.pad(4, side = 'right', fillchar = '.')\n",
    "filter_df['Geometry Code'] = filter_df['Geometry Code'].str.strip('0')"
   ],
   "metadata": {
    "collapsed": false,
    "pycharm": {
     "name": "#%%\n"
    }
   }
  },
  {
   "cell_type": "code",
   "execution_count": 4,
   "outputs": [],
   "source": [
    "granularity = 4 - filter_df['Geometry Code'].str.len()\n",
    "multiplier = 10 ** granularity"
   ],
   "metadata": {
    "collapsed": false,
    "pycharm": {
     "name": "#%%\n"
    }
   }
  },
  {
   "cell_type": "code",
   "execution_count": 5,
   "outputs": [
    {
     "data": {
      "text/plain": "            SELECT  Geometry Code      Layer          fclass  low_threshold  \\\n0    accessibility           2601      money            bank           2601   \n1    accessibility           2602      money             atm           2602   \n2    accessibility           2901    miscpoi          toilet           2901   \n3    accessibility           2902    miscpoi           bench           2902   \n4    accessibility           2903    miscpoi  drinking_water           2903   \n..             ...            ...        ...             ...            ...   \n239     transports           7227    landuse         railway           7227   \n240     transports              5  transport       transport           5000   \n241     transports             51      roads           roads           5100   \n242     transports             52    traffic         traffic           5200   \n243     transports             61    railway         railway           6100   \n\n     high_threshold  granularity  \n0              2601            0  \n1              2602            0  \n2              2901            0  \n3              2902            0  \n4              2903            0  \n..              ...          ...  \n239            7227            0  \n240            5999            3  \n241            5199            2  \n242            5299            2  \n243            6199            2  \n\n[244 rows x 7 columns]",
      "text/html": "<div>\n<style scoped>\n    .dataframe tbody tr th:only-of-type {\n        vertical-align: middle;\n    }\n\n    .dataframe tbody tr th {\n        vertical-align: top;\n    }\n\n    .dataframe thead th {\n        text-align: right;\n    }\n</style>\n<table border=\"1\" class=\"dataframe\">\n  <thead>\n    <tr style=\"text-align: right;\">\n      <th></th>\n      <th>SELECT</th>\n      <th>Geometry Code</th>\n      <th>Layer</th>\n      <th>fclass</th>\n      <th>low_threshold</th>\n      <th>high_threshold</th>\n      <th>granularity</th>\n    </tr>\n  </thead>\n  <tbody>\n    <tr>\n      <th>0</th>\n      <td>accessibility</td>\n      <td>2601</td>\n      <td>money</td>\n      <td>bank</td>\n      <td>2601</td>\n      <td>2601</td>\n      <td>0</td>\n    </tr>\n    <tr>\n      <th>1</th>\n      <td>accessibility</td>\n      <td>2602</td>\n      <td>money</td>\n      <td>atm</td>\n      <td>2602</td>\n      <td>2602</td>\n      <td>0</td>\n    </tr>\n    <tr>\n      <th>2</th>\n      <td>accessibility</td>\n      <td>2901</td>\n      <td>miscpoi</td>\n      <td>toilet</td>\n      <td>2901</td>\n      <td>2901</td>\n      <td>0</td>\n    </tr>\n    <tr>\n      <th>3</th>\n      <td>accessibility</td>\n      <td>2902</td>\n      <td>miscpoi</td>\n      <td>bench</td>\n      <td>2902</td>\n      <td>2902</td>\n      <td>0</td>\n    </tr>\n    <tr>\n      <th>4</th>\n      <td>accessibility</td>\n      <td>2903</td>\n      <td>miscpoi</td>\n      <td>drinking_water</td>\n      <td>2903</td>\n      <td>2903</td>\n      <td>0</td>\n    </tr>\n    <tr>\n      <th>...</th>\n      <td>...</td>\n      <td>...</td>\n      <td>...</td>\n      <td>...</td>\n      <td>...</td>\n      <td>...</td>\n      <td>...</td>\n    </tr>\n    <tr>\n      <th>239</th>\n      <td>transports</td>\n      <td>7227</td>\n      <td>landuse</td>\n      <td>railway</td>\n      <td>7227</td>\n      <td>7227</td>\n      <td>0</td>\n    </tr>\n    <tr>\n      <th>240</th>\n      <td>transports</td>\n      <td>5</td>\n      <td>transport</td>\n      <td>transport</td>\n      <td>5000</td>\n      <td>5999</td>\n      <td>3</td>\n    </tr>\n    <tr>\n      <th>241</th>\n      <td>transports</td>\n      <td>51</td>\n      <td>roads</td>\n      <td>roads</td>\n      <td>5100</td>\n      <td>5199</td>\n      <td>2</td>\n    </tr>\n    <tr>\n      <th>242</th>\n      <td>transports</td>\n      <td>52</td>\n      <td>traffic</td>\n      <td>traffic</td>\n      <td>5200</td>\n      <td>5299</td>\n      <td>2</td>\n    </tr>\n    <tr>\n      <th>243</th>\n      <td>transports</td>\n      <td>61</td>\n      <td>railway</td>\n      <td>railway</td>\n      <td>6100</td>\n      <td>6199</td>\n      <td>2</td>\n    </tr>\n  </tbody>\n</table>\n<p>244 rows × 7 columns</p>\n</div>"
     },
     "execution_count": 5,
     "metadata": {},
     "output_type": "execute_result"
    }
   ],
   "source": [
    "filter_df['Geometry Code'] = filter_df['Geometry Code'].astype(int)\n",
    "\n",
    "filter_df['low_threshold'] = multiplier * filter_df['Geometry Code']\n",
    "filter_df['high_threshold'] = multiplier * filter_df['Geometry Code'] + (multiplier - 1)\n",
    "\n",
    "filter_df['fclass'] = filter_df['fclass'].fillna(filter_df['Layer'])\n",
    "filter_df['granularity'] = granularity\n",
    "\n",
    "filter_df = filter_df.sort_values(by=['granularity'])\n",
    "\n",
    "filter_df"
   ],
   "metadata": {
    "collapsed": false,
    "pycharm": {
     "name": "#%%\n"
    }
   }
  },
  {
   "cell_type": "code",
   "execution_count": 6,
   "outputs": [],
   "source": [
    "file_list = os.listdir(path)\n",
    "\n",
    "filter_regex = '|'.join(r\"{}\".format(x) for x in filter_df['Geometry Code'])"
   ],
   "metadata": {
    "collapsed": false,
    "pycharm": {
     "name": "#%%\n"
    }
   }
  },
  {
   "cell_type": "code",
   "execution_count": 7,
   "outputs": [],
   "source": [
    "df_dict = {}\n",
    "\n",
    "for file_name in file_list:\n",
    "\n",
    "    df_dict[file_name] = pd.read_csv(path + file_name)\n",
    "\n",
    "    df_dict[file_name].drop('Unnamed: 0', axis = 1, inplace = True)"
   ],
   "metadata": {
    "collapsed": false,
    "pycharm": {
     "name": "#%%\n"
    }
   }
  },
  {
   "cell_type": "code",
   "execution_count": 8,
   "outputs": [
    {
     "name": "stderr",
     "output_type": "stream",
     "text": [
      "C:\\Users\\gabri\\AppData\\Local\\Temp\\ipykernel_33776\\544379905.py:2: SettingWithCopyWarning: \n",
      "A value is trying to be set on a copy of a slice from a DataFrame\n",
      "\n",
      "See the caveats in the documentation: https://pandas.pydata.org/pandas-docs/stable/user_guide/indexing.html#returning-a-view-versus-a-copy\n",
      "  filter_df_to_dict.drop_duplicates(subset = ['fclass'], inplace = True)\n"
     ]
    },
    {
     "data": {
      "text/plain": "             fclass  low_threshold  high_threshold\n0              bank           2601            2601\n1               atm           2602            2602\n2            toilet           2901            2901\n3             bench           2902            2902\n4    drinking_water           2903            2903\n..              ...            ...             ...\n238      other_lift           6119            6119\n239         railway           7227            7227\n240       transport           5000            5999\n241           roads           5100            5199\n242         traffic           5200            5299\n\n[235 rows x 3 columns]",
      "text/html": "<div>\n<style scoped>\n    .dataframe tbody tr th:only-of-type {\n        vertical-align: middle;\n    }\n\n    .dataframe tbody tr th {\n        vertical-align: top;\n    }\n\n    .dataframe thead th {\n        text-align: right;\n    }\n</style>\n<table border=\"1\" class=\"dataframe\">\n  <thead>\n    <tr style=\"text-align: right;\">\n      <th></th>\n      <th>fclass</th>\n      <th>low_threshold</th>\n      <th>high_threshold</th>\n    </tr>\n  </thead>\n  <tbody>\n    <tr>\n      <th>0</th>\n      <td>bank</td>\n      <td>2601</td>\n      <td>2601</td>\n    </tr>\n    <tr>\n      <th>1</th>\n      <td>atm</td>\n      <td>2602</td>\n      <td>2602</td>\n    </tr>\n    <tr>\n      <th>2</th>\n      <td>toilet</td>\n      <td>2901</td>\n      <td>2901</td>\n    </tr>\n    <tr>\n      <th>3</th>\n      <td>bench</td>\n      <td>2902</td>\n      <td>2902</td>\n    </tr>\n    <tr>\n      <th>4</th>\n      <td>drinking_water</td>\n      <td>2903</td>\n      <td>2903</td>\n    </tr>\n    <tr>\n      <th>...</th>\n      <td>...</td>\n      <td>...</td>\n      <td>...</td>\n    </tr>\n    <tr>\n      <th>238</th>\n      <td>other_lift</td>\n      <td>6119</td>\n      <td>6119</td>\n    </tr>\n    <tr>\n      <th>239</th>\n      <td>railway</td>\n      <td>7227</td>\n      <td>7227</td>\n    </tr>\n    <tr>\n      <th>240</th>\n      <td>transport</td>\n      <td>5000</td>\n      <td>5999</td>\n    </tr>\n    <tr>\n      <th>241</th>\n      <td>roads</td>\n      <td>5100</td>\n      <td>5199</td>\n    </tr>\n    <tr>\n      <th>242</th>\n      <td>traffic</td>\n      <td>5200</td>\n      <td>5299</td>\n    </tr>\n  </tbody>\n</table>\n<p>235 rows × 3 columns</p>\n</div>"
     },
     "execution_count": 8,
     "metadata": {},
     "output_type": "execute_result"
    }
   ],
   "source": [
    "filter_df_to_dict = filter_df[['fclass', 'low_threshold', 'high_threshold']]\n",
    "filter_df_to_dict.drop_duplicates(subset = ['fclass'], inplace = True)\n",
    "filter_df_to_dict"
   ],
   "metadata": {
    "collapsed": false,
    "pycharm": {
     "name": "#%%\n"
    }
   }
  },
  {
   "cell_type": "code",
   "execution_count": 9,
   "outputs": [
    {
     "name": "stderr",
     "output_type": "stream",
     "text": [
      "C:\\Users\\gabri\\AppData\\Local\\Temp\\ipykernel_33776\\3101066230.py:2: SettingWithCopyWarning: \n",
      "A value is trying to be set on a copy of a slice from a DataFrame\n",
      "\n",
      "See the caveats in the documentation: https://pandas.pydata.org/pandas-docs/stable/user_guide/indexing.html#returning-a-view-versus-a-copy\n",
      "  filter_df_to_dict.drop('fclass', axis = 1, inplace = True)\n"
     ]
    }
   ],
   "source": [
    "filter_df_to_dict.index = filter_df_to_dict.fclass\n",
    "filter_df_to_dict.drop('fclass', axis = 1, inplace = True)\n",
    "filter_dict = filter_df_to_dict.to_dict('index')"
   ],
   "metadata": {
    "collapsed": false,
    "pycharm": {
     "name": "#%%\n"
    }
   }
  },
  {
   "cell_type": "code",
   "execution_count": 10,
   "outputs": [
    {
     "data": {
      "text/plain": "            SELECT  Geometry Code      Layer          fclass  low_threshold  \\\n0    accessibility           2601      money            bank           2601   \n1    accessibility           2602      money             atm           2602   \n2    accessibility           2901    miscpoi          toilet           2901   \n3    accessibility           2902    miscpoi           bench           2902   \n4    accessibility           2903    miscpoi  drinking_water           2903   \n..             ...            ...        ...             ...            ...   \n239     transports           7227    landuse         railway           7227   \n240     transports              5  transport       transport           5000   \n241     transports             51      roads           roads           5100   \n242     transports             52    traffic         traffic           5200   \n243     transports             61    railway         railway           6100   \n\n     high_threshold  granularity  \n0              2601            0  \n1              2602            0  \n2              2901            0  \n3              2902            0  \n4              2903            0  \n..              ...          ...  \n239            7227            0  \n240            5999            3  \n241            5199            2  \n242            5299            2  \n243            6199            2  \n\n[244 rows x 7 columns]",
      "text/html": "<div>\n<style scoped>\n    .dataframe tbody tr th:only-of-type {\n        vertical-align: middle;\n    }\n\n    .dataframe tbody tr th {\n        vertical-align: top;\n    }\n\n    .dataframe thead th {\n        text-align: right;\n    }\n</style>\n<table border=\"1\" class=\"dataframe\">\n  <thead>\n    <tr style=\"text-align: right;\">\n      <th></th>\n      <th>SELECT</th>\n      <th>Geometry Code</th>\n      <th>Layer</th>\n      <th>fclass</th>\n      <th>low_threshold</th>\n      <th>high_threshold</th>\n      <th>granularity</th>\n    </tr>\n  </thead>\n  <tbody>\n    <tr>\n      <th>0</th>\n      <td>accessibility</td>\n      <td>2601</td>\n      <td>money</td>\n      <td>bank</td>\n      <td>2601</td>\n      <td>2601</td>\n      <td>0</td>\n    </tr>\n    <tr>\n      <th>1</th>\n      <td>accessibility</td>\n      <td>2602</td>\n      <td>money</td>\n      <td>atm</td>\n      <td>2602</td>\n      <td>2602</td>\n      <td>0</td>\n    </tr>\n    <tr>\n      <th>2</th>\n      <td>accessibility</td>\n      <td>2901</td>\n      <td>miscpoi</td>\n      <td>toilet</td>\n      <td>2901</td>\n      <td>2901</td>\n      <td>0</td>\n    </tr>\n    <tr>\n      <th>3</th>\n      <td>accessibility</td>\n      <td>2902</td>\n      <td>miscpoi</td>\n      <td>bench</td>\n      <td>2902</td>\n      <td>2902</td>\n      <td>0</td>\n    </tr>\n    <tr>\n      <th>4</th>\n      <td>accessibility</td>\n      <td>2903</td>\n      <td>miscpoi</td>\n      <td>drinking_water</td>\n      <td>2903</td>\n      <td>2903</td>\n      <td>0</td>\n    </tr>\n    <tr>\n      <th>...</th>\n      <td>...</td>\n      <td>...</td>\n      <td>...</td>\n      <td>...</td>\n      <td>...</td>\n      <td>...</td>\n      <td>...</td>\n    </tr>\n    <tr>\n      <th>239</th>\n      <td>transports</td>\n      <td>7227</td>\n      <td>landuse</td>\n      <td>railway</td>\n      <td>7227</td>\n      <td>7227</td>\n      <td>0</td>\n    </tr>\n    <tr>\n      <th>240</th>\n      <td>transports</td>\n      <td>5</td>\n      <td>transport</td>\n      <td>transport</td>\n      <td>5000</td>\n      <td>5999</td>\n      <td>3</td>\n    </tr>\n    <tr>\n      <th>241</th>\n      <td>transports</td>\n      <td>51</td>\n      <td>roads</td>\n      <td>roads</td>\n      <td>5100</td>\n      <td>5199</td>\n      <td>2</td>\n    </tr>\n    <tr>\n      <th>242</th>\n      <td>transports</td>\n      <td>52</td>\n      <td>traffic</td>\n      <td>traffic</td>\n      <td>5200</td>\n      <td>5299</td>\n      <td>2</td>\n    </tr>\n    <tr>\n      <th>243</th>\n      <td>transports</td>\n      <td>61</td>\n      <td>railway</td>\n      <td>railway</td>\n      <td>6100</td>\n      <td>6199</td>\n      <td>2</td>\n    </tr>\n  </tbody>\n</table>\n<p>244 rows × 7 columns</p>\n</div>"
     },
     "execution_count": 10,
     "metadata": {},
     "output_type": "execute_result"
    }
   ],
   "source": [
    "filter_df"
   ],
   "metadata": {
    "collapsed": false,
    "pycharm": {
     "name": "#%%\n"
    }
   }
  },
  {
   "cell_type": "code",
   "execution_count": 11,
   "outputs": [],
   "source": [
    "# df = df_dict['coordinates_gis_osm_pois_free_1.csv']\n",
    "#\n",
    "# df['fclass'] = 0\n",
    "#\n",
    "# for fclass, value_dict in filter_dict.items():\n",
    "#\n",
    "#     df.loc[(df.code >= value_dict['low_threshold']) & (df.code <= value_dict['high_threshold']),'fclass'] = fclass\n",
    "#\n",
    "#     final_df = df.merge(filter_df[['fclass', 'SELECT']], on = 'fclass', how = 'left')\n",
    "#\n",
    "#     final_df = final_df[final_df.fclass != 0]\n",
    "#\n",
    "# final_df"
   ],
   "metadata": {
    "collapsed": false,
    "pycharm": {
     "name": "#%%\n"
    }
   }
  },
  {
   "cell_type": "code",
   "execution_count": 12,
   "outputs": [],
   "source": [
    "filtered_df_dict = {}\n",
    "\n",
    "for df_name, df in df_dict.items():\n",
    "\n",
    "    df['fclass'] = 0\n",
    "\n",
    "    for fclass, value_dict in filter_dict.items():\n",
    "\n",
    "        df.loc[(df.code >= value_dict['low_threshold']) & (df.code <= value_dict['high_threshold']),'fclass'] = fclass\n",
    "\n",
    "        final_df = df.merge(filter_df[['fclass', 'SELECT']], on = 'fclass', how = 'left')\n",
    "\n",
    "        final_df = final_df.drop_duplicates()\n",
    "\n",
    "        final_df = final_df[final_df.fclass != 0]\n",
    "\n",
    "    filtered_df_dict[df_name] = final_df"
   ],
   "metadata": {
    "collapsed": false,
    "pycharm": {
     "name": "#%%\n"
    }
   }
  },
  {
   "cell_type": "code",
   "execution_count": 13,
   "outputs": [
    {
     "name": "stdout",
     "output_type": "stream",
     "text": [
      "DATAFRAME NAME:  coordinates_gis_osm_buildings_a_free_1.csv\n",
      "ORIGINAL DATAFRAME SIZE:  (4580168, 7)\n",
      "FILTERED DATAFRAME SIZE:  (0, 8)\n",
      "DIFFERENCE:  4580168\n",
      " \n",
      "DATAFRAME NAME:  coordinates_gis_osm_landuse_a_free_1.csv\n",
      "ORIGINAL DATAFRAME SIZE:  (536191, 6)\n",
      "FILTERED DATAFRAME SIZE:  (394968, 7)\n",
      "DIFFERENCE:  141223\n",
      " \n",
      "DATAFRAME NAME:  coordinates_gis_osm_natural_a_free_1.csv\n",
      "ORIGINAL DATAFRAME SIZE:  (1205, 6)\n",
      "FILTERED DATAFRAME SIZE:  (1205, 7)\n",
      "DIFFERENCE:  0\n",
      " \n",
      "DATAFRAME NAME:  coordinates_gis_osm_natural_free_1.csv\n",
      "ORIGINAL DATAFRAME SIZE:  (325604, 6)\n",
      "FILTERED DATAFRAME SIZE:  (325604, 7)\n",
      "DIFFERENCE:  0\n",
      " \n",
      "DATAFRAME NAME:  coordinates_gis_osm_places_a_free_1.csv\n",
      "ORIGINAL DATAFRAME SIZE:  (678, 7)\n",
      "FILTERED DATAFRAME SIZE:  (88, 8)\n",
      "DIFFERENCE:  590\n",
      " \n",
      "DATAFRAME NAME:  coordinates_gis_osm_places_free_1.csv\n",
      "ORIGINAL DATAFRAME SIZE:  (34542, 7)\n",
      "FILTERED DATAFRAME SIZE:  (4778, 8)\n",
      "DIFFERENCE:  29764\n",
      " \n",
      "DATAFRAME NAME:  coordinates_gis_osm_pofw_a_free_1.csv\n",
      "ORIGINAL DATAFRAME SIZE:  (11847, 6)\n",
      "FILTERED DATAFRAME SIZE:  (11847, 7)\n",
      "DIFFERENCE:  0\n",
      " \n",
      "DATAFRAME NAME:  coordinates_gis_osm_pofw_free_1.csv\n",
      "ORIGINAL DATAFRAME SIZE:  (1277, 6)\n",
      "FILTERED DATAFRAME SIZE:  (1277, 7)\n",
      "DIFFERENCE:  0\n",
      " \n",
      "DATAFRAME NAME:  coordinates_gis_osm_pois_a_free_1.csv\n",
      "ORIGINAL DATAFRAME SIZE:  (93073, 6)\n",
      "FILTERED DATAFRAME SIZE:  (84083, 7)\n",
      "DIFFERENCE:  8990\n",
      " \n",
      "DATAFRAME NAME:  coordinates_gis_osm_pois_free_1.csv\n",
      "ORIGINAL DATAFRAME SIZE:  (196142, 6)\n",
      "FILTERED DATAFRAME SIZE:  (188952, 7)\n",
      "DIFFERENCE:  7190\n",
      " \n",
      "DATAFRAME NAME:  coordinates_gis_osm_railways_free_1.csv\n",
      "ORIGINAL DATAFRAME SIZE:  (16966, 9)\n",
      "FILTERED DATAFRAME SIZE:  (16966, 10)\n",
      "DIFFERENCE:  0\n",
      " \n",
      "DATAFRAME NAME:  coordinates_gis_osm_roads_free_1.csv\n",
      "ORIGINAL DATAFRAME SIZE:  (1270082, 12)\n",
      "FILTERED DATAFRAME SIZE:  (1270082, 13)\n",
      "DIFFERENCE:  0\n",
      " \n",
      "DATAFRAME NAME:  coordinates_gis_osm_traffic_a_free_1.csv\n",
      "ORIGINAL DATAFRAME SIZE:  (56923, 6)\n",
      "FILTERED DATAFRAME SIZE:  (56923, 7)\n",
      "DIFFERENCE:  0\n",
      " \n",
      "DATAFRAME NAME:  coordinates_gis_osm_traffic_free_1.csv\n",
      "ORIGINAL DATAFRAME SIZE:  (143927, 6)\n",
      "FILTERED DATAFRAME SIZE:  (143927, 7)\n",
      "DIFFERENCE:  0\n",
      " \n",
      "DATAFRAME NAME:  coordinates_gis_osm_transport_a_free_1.csv\n",
      "ORIGINAL DATAFRAME SIZE:  (911, 6)\n",
      "FILTERED DATAFRAME SIZE:  (911, 7)\n",
      "DIFFERENCE:  0\n",
      " \n",
      "DATAFRAME NAME:  coordinates_gis_osm_transport_free_1.csv\n",
      "ORIGINAL DATAFRAME SIZE:  (32760, 6)\n",
      "FILTERED DATAFRAME SIZE:  (32760, 7)\n",
      "DIFFERENCE:  0\n",
      " \n",
      "DATAFRAME NAME:  coordinates_gis_osm_waterways_free_1.csv\n",
      "ORIGINAL DATAFRAME SIZE:  (98056, 7)\n",
      "FILTERED DATAFRAME SIZE:  (98056, 8)\n",
      "DIFFERENCE:  0\n",
      " \n",
      "DATAFRAME NAME:  coordinates_gis_osm_water_a_free_1.csv\n",
      "ORIGINAL DATAFRAME SIZE:  (30360, 6)\n",
      "FILTERED DATAFRAME SIZE:  (30360, 7)\n",
      "DIFFERENCE:  0\n",
      " \n"
     ]
    }
   ],
   "source": [
    "for df_name in filtered_df_dict.keys():\n",
    "    print('DATAFRAME NAME: ', df_name)\n",
    "    print('ORIGINAL DATAFRAME SIZE: ', df_dict[df_name].shape)\n",
    "    print('FILTERED DATAFRAME SIZE: ', filtered_df_dict[df_name].shape)\n",
    "    print('DIFFERENCE: ', df_dict[df_name].shape[0] - filtered_df_dict[df_name].shape[0])\n",
    "    print(' ')"
   ],
   "metadata": {
    "collapsed": false,
    "pycharm": {
     "name": "#%%\n"
    }
   }
  },
  {
   "cell_type": "code",
   "execution_count": 14,
   "outputs": [],
   "source": [
    "completed_df_dict = {}\n",
    "\n",
    "for df_name, df in filtered_df_dict.items():\n",
    "\n",
    "    if df.shape[0] > 0:\n",
    "        # completed_df_dict[df_name] = df[~df.name.isna()]\n",
    "        completed_df_dict[df_name] = df"
   ],
   "metadata": {
    "collapsed": false,
    "pycharm": {
     "name": "#%%\n"
    }
   }
  },
  {
   "cell_type": "code",
   "execution_count": 15,
   "outputs": [
    {
     "name": "stdout",
     "output_type": "stream",
     "text": [
      "DATAFRAME NAME:  coordinates_gis_osm_landuse_a_free_1.csv\n",
      "ORIGINAL DATAFRAME SIZE:  (536191, 6)\n",
      "FILTERED DATAFRAME SIZE:  (394968, 7)\n",
      "COMPLETE DATAFRAME SIZE:  (394968, 7)\n",
      "DIFFERENCE:  141223\n",
      " \n",
      "DATAFRAME NAME:  coordinates_gis_osm_natural_a_free_1.csv\n",
      "ORIGINAL DATAFRAME SIZE:  (1205, 6)\n",
      "FILTERED DATAFRAME SIZE:  (1205, 7)\n",
      "COMPLETE DATAFRAME SIZE:  (1205, 7)\n",
      "DIFFERENCE:  0\n",
      " \n",
      "DATAFRAME NAME:  coordinates_gis_osm_natural_free_1.csv\n",
      "ORIGINAL DATAFRAME SIZE:  (325604, 6)\n",
      "FILTERED DATAFRAME SIZE:  (325604, 7)\n",
      "COMPLETE DATAFRAME SIZE:  (325604, 7)\n",
      "DIFFERENCE:  0\n",
      " \n",
      "DATAFRAME NAME:  coordinates_gis_osm_places_a_free_1.csv\n",
      "ORIGINAL DATAFRAME SIZE:  (678, 7)\n",
      "FILTERED DATAFRAME SIZE:  (88, 8)\n",
      "COMPLETE DATAFRAME SIZE:  (88, 8)\n",
      "DIFFERENCE:  590\n",
      " \n",
      "DATAFRAME NAME:  coordinates_gis_osm_places_free_1.csv\n",
      "ORIGINAL DATAFRAME SIZE:  (34542, 7)\n",
      "FILTERED DATAFRAME SIZE:  (4778, 8)\n",
      "COMPLETE DATAFRAME SIZE:  (4778, 8)\n",
      "DIFFERENCE:  29764\n",
      " \n",
      "DATAFRAME NAME:  coordinates_gis_osm_pofw_a_free_1.csv\n",
      "ORIGINAL DATAFRAME SIZE:  (11847, 6)\n",
      "FILTERED DATAFRAME SIZE:  (11847, 7)\n",
      "COMPLETE DATAFRAME SIZE:  (11847, 7)\n",
      "DIFFERENCE:  0\n",
      " \n",
      "DATAFRAME NAME:  coordinates_gis_osm_pofw_free_1.csv\n",
      "ORIGINAL DATAFRAME SIZE:  (1277, 6)\n",
      "FILTERED DATAFRAME SIZE:  (1277, 7)\n",
      "COMPLETE DATAFRAME SIZE:  (1277, 7)\n",
      "DIFFERENCE:  0\n",
      " \n",
      "DATAFRAME NAME:  coordinates_gis_osm_pois_a_free_1.csv\n",
      "ORIGINAL DATAFRAME SIZE:  (93073, 6)\n",
      "FILTERED DATAFRAME SIZE:  (84083, 7)\n",
      "COMPLETE DATAFRAME SIZE:  (84083, 7)\n",
      "DIFFERENCE:  8990\n",
      " \n",
      "DATAFRAME NAME:  coordinates_gis_osm_pois_free_1.csv\n",
      "ORIGINAL DATAFRAME SIZE:  (196142, 6)\n",
      "FILTERED DATAFRAME SIZE:  (188952, 7)\n",
      "COMPLETE DATAFRAME SIZE:  (188952, 7)\n",
      "DIFFERENCE:  7190\n",
      " \n",
      "DATAFRAME NAME:  coordinates_gis_osm_railways_free_1.csv\n",
      "ORIGINAL DATAFRAME SIZE:  (16966, 9)\n",
      "FILTERED DATAFRAME SIZE:  (16966, 10)\n",
      "COMPLETE DATAFRAME SIZE:  (16966, 10)\n",
      "DIFFERENCE:  0\n",
      " \n",
      "DATAFRAME NAME:  coordinates_gis_osm_roads_free_1.csv\n",
      "ORIGINAL DATAFRAME SIZE:  (1270082, 12)\n",
      "FILTERED DATAFRAME SIZE:  (1270082, 13)\n",
      "COMPLETE DATAFRAME SIZE:  (1270082, 13)\n",
      "DIFFERENCE:  0\n",
      " \n",
      "DATAFRAME NAME:  coordinates_gis_osm_traffic_a_free_1.csv\n",
      "ORIGINAL DATAFRAME SIZE:  (56923, 6)\n",
      "FILTERED DATAFRAME SIZE:  (56923, 7)\n",
      "COMPLETE DATAFRAME SIZE:  (56923, 7)\n",
      "DIFFERENCE:  0\n",
      " \n",
      "DATAFRAME NAME:  coordinates_gis_osm_traffic_free_1.csv\n",
      "ORIGINAL DATAFRAME SIZE:  (143927, 6)\n",
      "FILTERED DATAFRAME SIZE:  (143927, 7)\n",
      "COMPLETE DATAFRAME SIZE:  (143927, 7)\n",
      "DIFFERENCE:  0\n",
      " \n",
      "DATAFRAME NAME:  coordinates_gis_osm_transport_a_free_1.csv\n",
      "ORIGINAL DATAFRAME SIZE:  (911, 6)\n",
      "FILTERED DATAFRAME SIZE:  (911, 7)\n",
      "COMPLETE DATAFRAME SIZE:  (911, 7)\n",
      "DIFFERENCE:  0\n",
      " \n",
      "DATAFRAME NAME:  coordinates_gis_osm_transport_free_1.csv\n",
      "ORIGINAL DATAFRAME SIZE:  (32760, 6)\n",
      "FILTERED DATAFRAME SIZE:  (32760, 7)\n",
      "COMPLETE DATAFRAME SIZE:  (32760, 7)\n",
      "DIFFERENCE:  0\n",
      " \n",
      "DATAFRAME NAME:  coordinates_gis_osm_waterways_free_1.csv\n",
      "ORIGINAL DATAFRAME SIZE:  (98056, 7)\n",
      "FILTERED DATAFRAME SIZE:  (98056, 8)\n",
      "COMPLETE DATAFRAME SIZE:  (98056, 8)\n",
      "DIFFERENCE:  0\n",
      " \n",
      "DATAFRAME NAME:  coordinates_gis_osm_water_a_free_1.csv\n",
      "ORIGINAL DATAFRAME SIZE:  (30360, 6)\n",
      "FILTERED DATAFRAME SIZE:  (30360, 7)\n",
      "COMPLETE DATAFRAME SIZE:  (30360, 7)\n",
      "DIFFERENCE:  0\n",
      " \n"
     ]
    }
   ],
   "source": [
    "for df_name in completed_df_dict.keys():\n",
    "    print('DATAFRAME NAME: ', df_name)\n",
    "    print('ORIGINAL DATAFRAME SIZE: ', df_dict[df_name].shape)\n",
    "    print('FILTERED DATAFRAME SIZE: ', filtered_df_dict[df_name].shape)\n",
    "    print('COMPLETE DATAFRAME SIZE: ', completed_df_dict[df_name].shape)\n",
    "    print('DIFFERENCE: ', df_dict[df_name].shape[0] - completed_df_dict[df_name].shape[0])\n",
    "    print(' ')"
   ],
   "metadata": {
    "collapsed": false,
    "pycharm": {
     "name": "#%%\n"
    }
   }
  },
  {
   "cell_type": "code",
   "execution_count": 16,
   "outputs": [],
   "source": [
    "os.makedirs('filtered/', exist_ok=True)\n",
    "\n",
    "for df_name, df in completed_df_dict.items():\n",
    "\n",
    "    file_name = 'filtered_' + df_name[:-4] + '.csv'\n",
    "    df.to_csv('filtered/' + file_name)"
   ],
   "metadata": {
    "collapsed": false,
    "pycharm": {
     "name": "#%%\n"
    }
   }
  },
  {
   "cell_type": "code",
   "execution_count": 17,
   "outputs": [
    {
     "data": {
      "text/plain": "           osm_id  code fclass                        name        lon  \\\n0         4045604  8202  water                         NaN  12.488169   \n2         4477981  8202  water                         NaN  12.351897   \n4         4479546  8202  water        Canale dei Lavraneri  12.317752   \n6         4617487  8200  water  Canale de Sacca San Biagio  12.311209   \n8         4710677  8200  water                         NaN  12.260212   \n...           ...   ...    ...                         ...        ...   \n50077  1096835041  8200  water                         NaN  12.803509   \n50079    14005865  8202  water                         NaN  13.331644   \n50081  1097248505  8200  water                         NaN  12.994492   \n50083  1097248506  8200  water                         NaN  12.996450   \n50085  1097248507  8200  water                         NaN  12.996077   \n\n             lat  SELECT  \n0      44.944659  nature  \n2      45.429216  nature  \n4      45.427250  nature  \n6      45.426765  nature  \n8      45.497561  nature  \n...          ...     ...  \n50077  46.639118  nature  \n50079  46.064916  nature  \n50081  46.622447  nature  \n50083  46.622617  nature  \n50085  46.622447  nature  \n\n[30360 rows x 7 columns]",
      "text/html": "<div>\n<style scoped>\n    .dataframe tbody tr th:only-of-type {\n        vertical-align: middle;\n    }\n\n    .dataframe tbody tr th {\n        vertical-align: top;\n    }\n\n    .dataframe thead th {\n        text-align: right;\n    }\n</style>\n<table border=\"1\" class=\"dataframe\">\n  <thead>\n    <tr style=\"text-align: right;\">\n      <th></th>\n      <th>osm_id</th>\n      <th>code</th>\n      <th>fclass</th>\n      <th>name</th>\n      <th>lon</th>\n      <th>lat</th>\n      <th>SELECT</th>\n    </tr>\n  </thead>\n  <tbody>\n    <tr>\n      <th>0</th>\n      <td>4045604</td>\n      <td>8202</td>\n      <td>water</td>\n      <td>NaN</td>\n      <td>12.488169</td>\n      <td>44.944659</td>\n      <td>nature</td>\n    </tr>\n    <tr>\n      <th>2</th>\n      <td>4477981</td>\n      <td>8202</td>\n      <td>water</td>\n      <td>NaN</td>\n      <td>12.351897</td>\n      <td>45.429216</td>\n      <td>nature</td>\n    </tr>\n    <tr>\n      <th>4</th>\n      <td>4479546</td>\n      <td>8202</td>\n      <td>water</td>\n      <td>Canale dei Lavraneri</td>\n      <td>12.317752</td>\n      <td>45.427250</td>\n      <td>nature</td>\n    </tr>\n    <tr>\n      <th>6</th>\n      <td>4617487</td>\n      <td>8200</td>\n      <td>water</td>\n      <td>Canale de Sacca San Biagio</td>\n      <td>12.311209</td>\n      <td>45.426765</td>\n      <td>nature</td>\n    </tr>\n    <tr>\n      <th>8</th>\n      <td>4710677</td>\n      <td>8200</td>\n      <td>water</td>\n      <td>NaN</td>\n      <td>12.260212</td>\n      <td>45.497561</td>\n      <td>nature</td>\n    </tr>\n    <tr>\n      <th>...</th>\n      <td>...</td>\n      <td>...</td>\n      <td>...</td>\n      <td>...</td>\n      <td>...</td>\n      <td>...</td>\n      <td>...</td>\n    </tr>\n    <tr>\n      <th>50077</th>\n      <td>1096835041</td>\n      <td>8200</td>\n      <td>water</td>\n      <td>NaN</td>\n      <td>12.803509</td>\n      <td>46.639118</td>\n      <td>nature</td>\n    </tr>\n    <tr>\n      <th>50079</th>\n      <td>14005865</td>\n      <td>8202</td>\n      <td>water</td>\n      <td>NaN</td>\n      <td>13.331644</td>\n      <td>46.064916</td>\n      <td>nature</td>\n    </tr>\n    <tr>\n      <th>50081</th>\n      <td>1097248505</td>\n      <td>8200</td>\n      <td>water</td>\n      <td>NaN</td>\n      <td>12.994492</td>\n      <td>46.622447</td>\n      <td>nature</td>\n    </tr>\n    <tr>\n      <th>50083</th>\n      <td>1097248506</td>\n      <td>8200</td>\n      <td>water</td>\n      <td>NaN</td>\n      <td>12.996450</td>\n      <td>46.622617</td>\n      <td>nature</td>\n    </tr>\n    <tr>\n      <th>50085</th>\n      <td>1097248507</td>\n      <td>8200</td>\n      <td>water</td>\n      <td>NaN</td>\n      <td>12.996077</td>\n      <td>46.622447</td>\n      <td>nature</td>\n    </tr>\n  </tbody>\n</table>\n<p>30360 rows × 7 columns</p>\n</div>"
     },
     "execution_count": 17,
     "metadata": {},
     "output_type": "execute_result"
    }
   ],
   "source": [
    "completed_df_dict['coordinates_gis_osm_water_a_free_1.csv']"
   ],
   "metadata": {
    "collapsed": false,
    "pycharm": {
     "name": "#%%\n"
    }
   }
  }
 ],
 "metadata": {
  "kernelspec": {
   "display_name": "Python 3",
   "language": "python",
   "name": "python3"
  },
  "language_info": {
   "codemirror_mode": {
    "name": "ipython",
    "version": 2
   },
   "file_extension": ".py",
   "mimetype": "text/x-python",
   "name": "python",
   "nbconvert_exporter": "python",
   "pygments_lexer": "ipython2",
   "version": "2.7.6"
  }
 },
 "nbformat": 4,
 "nbformat_minor": 0
}