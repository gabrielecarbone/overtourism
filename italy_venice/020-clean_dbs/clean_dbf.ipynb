{
 "cells": [
  {
   "cell_type": "code",
   "execution_count": 1,
   "metadata": {
    "collapsed": true,
    "pycharm": {
     "name": "#%%\n"
    }
   },
   "outputs": [],
   "source": [
    "import pandas as pd\n",
    "import os"
   ]
  },
  {
   "cell_type": "code",
   "execution_count": 2,
   "outputs": [],
   "source": [
    "# SETTINGS\n",
    "\n",
    "path = '../010-add_coordinates/coordinates/'\n",
    "\n",
    "# SELECTING FIELDS\n",
    "\n",
    "amenities = ['bar','pub','biergarten','fast_food','ice_cream','restaurant','university','bicycle_parking','bicycle_rental','boat_rental','bus_station','car_rental','charging_station','ferry_terminal','parking','taxi','atm','hospital','pharmacy','ats_centre','events_venue','planetarium','social_center','theatre','police','bbq','bench','dog_toilet','drinking_water','shelter','toilets','watering_place','sanitary_dump_station','waste_basket','waste_disposal','animal_boarding','clock','dive_centre','internet_cafe','lounger','marketplace','monastery','photo_booth','place_of_mourning','place_of_worship','public_bath','refugee_site','vending_machine']\n",
    "\n",
    "barriers = ['handrail', 'cycle_barrier']\n",
    "\n",
    "boundary = ['forest', 'national_park', 'protected_area']\n",
    "\n",
    "building = ['hotel','kiosk','retail','cathedral','chapel','church','kingdom_hall','monastery','mosque','presbytery','religious','shrine','synagogue','temple','hospital','toilets','sports_hall','stadium','pavillon','grandstand','riding_hall','parking','castle','tree_house']\n",
    "\n",
    "craft = ['atelier', 'bakery', 'basket_maker', 'beekeeper', 'brewery', 'clockmaker', 'cooper', 'distillery',\n",
    "         'dressmaker', 'embroiderer', 'engraver', 'gardener', 'glaziery', 'goldsmith', 'grinding_mill',\n",
    "         'handicraft', 'interior_work', 'jeweller', 'joiner', 'mint', 'musical_instrument', 'oil_mill',\n",
    "         'organ_builder', 'pottery', 'printmaker', 'sculptor', 'shoemaker', 'tailor', 'watchmaker', 'winery']\n",
    "\n",
    "emergency = ['ambulance_station','defibrillator','landing_site','emergency_ward_entrance','dry_riser_inlet','fire_alarm_box','fire_extinguisher','fire_hose','fire_hydrant','water_tank','suction_point','lifeguard','life_ring','assembly_point','phone','siren','drinking_water']\n",
    "\n",
    "geological = ['moraine','paleontological_site','volcanic_caldera_rim','volcanic_vent','volcaninc_lava_field','columnar_jointing']\n",
    "\n",
    "highway = ['primary', 'secondary', 'bus_stop', 'services']\n",
    "\n",
    "historic = ['aqueduct','archaeological_site','battlefield','boundary_stone','cannon','castle','castle_wall','church','city_gate','farm','fort','locomotive','manor','memorial','milestone','monastery','monument','ruins','rune_stone','ship','tank','tomb','tower','wayside_cross','wayside_shrine']\n",
    "\n",
    "landuse = ['vineyard','cemetery','grass','plant_nursery','religious']\n",
    "\n",
    "leisure = ['beach_resort','bandstand','bird_hide','common','dance','dog_park','firepit','escape_game','fishing','garden','hackerspace','ice_rink','horse_riding','nature_reserve','park','picnic_table','stadium','sports_centre','swimming_area','water_park']\n",
    "\n",
    "man_made = ['obelisk', 'surveillance']\n",
    "\n",
    "natural = ['fell','grassland','heath','tree','wood','beach','bay','cape','geyser','glacier','hot_spring','isthmus','spring','arch','cave_entrance','peak','ridge','rock','stone','volcano']\n",
    "\n",
    "office = ['association','charity','forestry','foundation','geodesist','guide','ngo','research','travel_agent']\n",
    "\n",
    "place = ['island', 'islet', 'square']\n",
    "\n",
    "public_transport = ['stop_position', 'station', 'stop_area']\n",
    "\n",
    "railway = ['funicular','light_rail','monorail','narrow_gauge','tram_stop']\n",
    "\n",
    "route = ['bicycle', 'hiking']\n",
    "\n",
    "shop = ['alchol','farm','ice_cream','supermarket','boutique','tailor','leather','fashion_accessories','charity','beauty','massage','antiques','bicycle','outdoor','scuba_diving','ski','sports','art','collector','craft','gift','ticket','party','pyrotechnics','religion']\n",
    "\n",
    "sport = ['9pin','10pin','american_football','aikido','archery','athletics','australian_football','badminton','bandy','baseball','basketball','beachvolleyball','biathlon','billiards','bmx','bobsleigh','boules','bowls','boxing','bullfighting','canadian_football','canoe','chess','cliff_diving','climbing','climbing_adventure','cockfighting','cricket','crossfit','croquet','curling','cycle_polo','cycling','darts','dog_agility','dog_racing','equestrian','fencing','field_hockey','fitness','five-a-side','floorball','four_square','free_flying','futsal','gaelic_games','gaga','golf','gymnastics','handball','hapkido','horseshoes','horse_racing','ice_hockey','ice_skating','ice_stock','judo','karate','karting','kickboxing','kitesurfing','korfball','krachtbal','lacrosse','martial_arts','miniature_golf','model_aerodrome','motocross','motor','multi','netball','obstacle_course','orienteering','paddle_tennis','padel','parachuting','parkour','pelota','pesäpallo','pickleball','pilates','pole_dance','racquet','rc_car','roller_skating','rowing','rugby_league','rugby_union','running','sailing','scuba_diving','shooting','shot-put','skateboard','ski_jumping','skiing','snooker','soccer','speedway','squash','sumo','surfing','swimming','table_tennis','table_soccer','taekwondo','tennis','toboggan','trugo','ultimate','volleyball','wakeboarding','water_polo','water_ski','weightlifting','wrestling','yoga','zurkhaneh_sport']"
   ],
   "metadata": {
    "collapsed": false,
    "pycharm": {
     "name": "#%%\n"
    }
   }
  },
  {
   "cell_type": "code",
   "execution_count": 3,
   "outputs": [],
   "source": [
    "filter = amenities + barriers + boundary + building + craft + emergency + geological + highway + historic + \\\n",
    "         landuse + man_made + natural + office + place + public_transport + railway + route + shop + sport\n",
    "filter_regex = '|'.join(r\"{}\".format(x) for x in filter)"
   ],
   "metadata": {
    "collapsed": false,
    "pycharm": {
     "name": "#%%\n"
    }
   }
  },
  {
   "cell_type": "code",
   "execution_count": 4,
   "outputs": [],
   "source": [
    "file_list = os.listdir(path)"
   ],
   "metadata": {
    "collapsed": false,
    "pycharm": {
     "name": "#%%\n"
    }
   }
  },
  {
   "cell_type": "code",
   "execution_count": 5,
   "outputs": [],
   "source": [
    "df_dict = {}\n",
    "\n",
    "for file_name in file_list:\n",
    "\n",
    "    df_dict[file_name] = pd.read_csv(path + file_name)\n",
    "\n",
    "    df_dict[file_name].drop('Unnamed: 0', axis = 1, inplace = True)"
   ],
   "metadata": {
    "collapsed": false,
    "pycharm": {
     "name": "#%%\n"
    }
   }
  },
  {
   "cell_type": "code",
   "execution_count": 6,
   "outputs": [],
   "source": [
    "filtered_df_dict = {}\n",
    "\n",
    "for df_name, df in df_dict.items():\n",
    "\n",
    "    filtered_df_dict[df_name] = df[df.fclass.str.contains(filter_regex)]"
   ],
   "metadata": {
    "collapsed": false,
    "pycharm": {
     "name": "#%%\n"
    }
   }
  },
  {
   "cell_type": "code",
   "execution_count": 7,
   "outputs": [
    {
     "name": "stdout",
     "output_type": "stream",
     "text": [
      "DATAFRAME NAME:  coordinates_gis_osm_buildings_a_free_1.csv\n",
      "ORIGINAL DATAFRAME SIZE:  (4576030, 7)\n",
      "FILTERED DATAFRAME SIZE:  (0, 7)\n",
      "DIFFERENCE:  4576030\n",
      " \n",
      "DATAFRAME NAME:  coordinates_gis_osm_landuse_a_free_1.csv\n",
      "ORIGINAL DATAFRAME SIZE:  (529284, 6)\n",
      "FILTERED DATAFRAME SIZE:  (319914, 6)\n",
      "DIFFERENCE:  209370\n",
      " \n",
      "DATAFRAME NAME:  coordinates_gis_osm_natural_a_free_1.csv\n",
      "ORIGINAL DATAFRAME SIZE:  (1198, 6)\n",
      "FILTERED DATAFRAME SIZE:  (981, 6)\n",
      "DIFFERENCE:  217\n",
      " \n",
      "DATAFRAME NAME:  coordinates_gis_osm_natural_free_1.csv\n",
      "ORIGINAL DATAFRAME SIZE:  (323206, 6)\n",
      "FILTERED DATAFRAME SIZE:  (323067, 6)\n",
      "DIFFERENCE:  139\n",
      " \n",
      "DATAFRAME NAME:  coordinates_gis_osm_places_a_free_1.csv\n",
      "ORIGINAL DATAFRAME SIZE:  (672, 7)\n",
      "FILTERED DATAFRAME SIZE:  (244, 7)\n",
      "DIFFERENCE:  428\n",
      " \n",
      "DATAFRAME NAME:  coordinates_gis_osm_places_free_1.csv\n",
      "ORIGINAL DATAFRAME SIZE:  (34338, 7)\n",
      "FILTERED DATAFRAME SIZE:  (672, 7)\n",
      "DIFFERENCE:  33666\n",
      " \n",
      "DATAFRAME NAME:  coordinates_gis_osm_pofw_a_free_1.csv\n",
      "ORIGINAL DATAFRAME SIZE:  (11809, 6)\n",
      "FILTERED DATAFRAME SIZE:  (0, 6)\n",
      "DIFFERENCE:  11809\n",
      " \n",
      "DATAFRAME NAME:  coordinates_gis_osm_pofw_free_1.csv\n",
      "ORIGINAL DATAFRAME SIZE:  (1276, 6)\n",
      "FILTERED DATAFRAME SIZE:  (0, 6)\n",
      "DIFFERENCE:  1276\n",
      " \n",
      "DATAFRAME NAME:  coordinates_gis_osm_pois_a_free_1.csv\n",
      "ORIGINAL DATAFRAME SIZE:  (92330, 6)\n",
      "FILTERED DATAFRAME SIZE:  (40114, 6)\n",
      "DIFFERENCE:  52216\n",
      " \n",
      "DATAFRAME NAME:  coordinates_gis_osm_pois_free_1.csv\n",
      "ORIGINAL DATAFRAME SIZE:  (191061, 6)\n",
      "FILTERED DATAFRAME SIZE:  (116218, 6)\n",
      "DIFFERENCE:  74843\n",
      " \n",
      "DATAFRAME NAME:  coordinates_gis_osm_railways_free_1.csv\n",
      "ORIGINAL DATAFRAME SIZE:  (16924, 9)\n",
      "FILTERED DATAFRAME SIZE:  (372, 9)\n",
      "DIFFERENCE:  16552\n",
      " \n",
      "DATAFRAME NAME:  coordinates_gis_osm_roads_free_1.csv\n",
      "ORIGINAL DATAFRAME SIZE:  (1260180, 12)\n",
      "FILTERED DATAFRAME SIZE:  (94941, 12)\n",
      "DIFFERENCE:  1165239\n",
      " \n",
      "DATAFRAME NAME:  coordinates_gis_osm_traffic_a_free_1.csv\n",
      "ORIGINAL DATAFRAME SIZE:  (56236, 6)\n",
      "FILTERED DATAFRAME SIZE:  (54010, 6)\n",
      "DIFFERENCE:  2226\n",
      " \n",
      "DATAFRAME NAME:  coordinates_gis_osm_traffic_free_1.csv\n",
      "ORIGINAL DATAFRAME SIZE:  (141234, 6)\n",
      "FILTERED DATAFRAME SIZE:  (26592, 6)\n",
      "DIFFERENCE:  114642\n",
      " \n",
      "DATAFRAME NAME:  coordinates_gis_osm_transport_a_free_1.csv\n",
      "ORIGINAL DATAFRAME SIZE:  (910, 6)\n",
      "FILTERED DATAFRAME SIZE:  (197, 6)\n",
      "DIFFERENCE:  713\n",
      " \n",
      "DATAFRAME NAME:  coordinates_gis_osm_transport_free_1.csv\n",
      "ORIGINAL DATAFRAME SIZE:  (32558, 6)\n",
      "FILTERED DATAFRAME SIZE:  (32014, 6)\n",
      "DIFFERENCE:  544\n",
      " \n",
      "DATAFRAME NAME:  coordinates_gis_osm_waterways_free_1.csv\n",
      "ORIGINAL DATAFRAME SIZE:  (97467, 7)\n",
      "FILTERED DATAFRAME SIZE:  (0, 7)\n",
      "DIFFERENCE:  97467\n",
      " \n",
      "DATAFRAME NAME:  coordinates_gis_osm_water_a_free_1.csv\n",
      "ORIGINAL DATAFRAME SIZE:  (30178, 6)\n",
      "FILTERED DATAFRAME SIZE:  (573, 6)\n",
      "DIFFERENCE:  29605\n",
      " \n"
     ]
    }
   ],
   "source": [
    "for df_name in filtered_df_dict.keys():\n",
    "    print('DATAFRAME NAME: ', df_name)\n",
    "    print('ORIGINAL DATAFRAME SIZE: ', df_dict[df_name].shape)\n",
    "    print('FILTERED DATAFRAME SIZE: ', filtered_df_dict[df_name].shape)\n",
    "    print('DIFFERENCE: ', df_dict[df_name].shape[0] - filtered_df_dict[df_name].shape[0])\n",
    "    print(' ')"
   ],
   "metadata": {
    "collapsed": false,
    "pycharm": {
     "name": "#%%\n"
    }
   }
  },
  {
   "cell_type": "code",
   "execution_count": 8,
   "outputs": [],
   "source": [
    "completed_df_dict = {}\n",
    "\n",
    "for df_name, df in filtered_df_dict.items():\n",
    "\n",
    "    if df.shape[0] > 0:\n",
    "        completed_df_dict[df_name] = df[~df.name.isna()]"
   ],
   "metadata": {
    "collapsed": false,
    "pycharm": {
     "name": "#%%\n"
    }
   }
  },
  {
   "cell_type": "code",
   "execution_count": 9,
   "outputs": [
    {
     "name": "stdout",
     "output_type": "stream",
     "text": [
      "DATAFRAME NAME:  coordinates_gis_osm_landuse_a_free_1.csv\n",
      "ORIGINAL DATAFRAME SIZE:  (529284, 6)\n",
      "FILTERED DATAFRAME SIZE:  (319914, 6)\n",
      "COMPLETE DATAFRAME SIZE:  (6094, 6)\n",
      "DIFFERENCE:  523190\n",
      " \n",
      "DATAFRAME NAME:  coordinates_gis_osm_natural_a_free_1.csv\n",
      "ORIGINAL DATAFRAME SIZE:  (1198, 6)\n",
      "FILTERED DATAFRAME SIZE:  (981, 6)\n",
      "COMPLETE DATAFRAME SIZE:  (393, 6)\n",
      "DIFFERENCE:  805\n",
      " \n",
      "DATAFRAME NAME:  coordinates_gis_osm_natural_free_1.csv\n",
      "ORIGINAL DATAFRAME SIZE:  (323206, 6)\n",
      "FILTERED DATAFRAME SIZE:  (323067, 6)\n",
      "COMPLETE DATAFRAME SIZE:  (12550, 6)\n",
      "DIFFERENCE:  310656\n",
      " \n",
      "DATAFRAME NAME:  coordinates_gis_osm_places_a_free_1.csv\n",
      "ORIGINAL DATAFRAME SIZE:  (672, 7)\n",
      "FILTERED DATAFRAME SIZE:  (244, 7)\n",
      "COMPLETE DATAFRAME SIZE:  (151, 7)\n",
      "DIFFERENCE:  521\n",
      " \n",
      "DATAFRAME NAME:  coordinates_gis_osm_places_free_1.csv\n",
      "ORIGINAL DATAFRAME SIZE:  (34338, 7)\n",
      "FILTERED DATAFRAME SIZE:  (672, 7)\n",
      "COMPLETE DATAFRAME SIZE:  (668, 7)\n",
      "DIFFERENCE:  33670\n",
      " \n",
      "DATAFRAME NAME:  coordinates_gis_osm_pois_a_free_1.csv\n",
      "ORIGINAL DATAFRAME SIZE:  (92330, 6)\n",
      "FILTERED DATAFRAME SIZE:  (40114, 6)\n",
      "COMPLETE DATAFRAME SIZE:  (15898, 6)\n",
      "DIFFERENCE:  76432\n",
      " \n",
      "DATAFRAME NAME:  coordinates_gis_osm_pois_free_1.csv\n",
      "ORIGINAL DATAFRAME SIZE:  (191061, 6)\n",
      "FILTERED DATAFRAME SIZE:  (116218, 6)\n",
      "COMPLETE DATAFRAME SIZE:  (46222, 6)\n",
      "DIFFERENCE:  144839\n",
      " \n",
      "DATAFRAME NAME:  coordinates_gis_osm_railways_free_1.csv\n",
      "ORIGINAL DATAFRAME SIZE:  (16924, 9)\n",
      "FILTERED DATAFRAME SIZE:  (372, 9)\n",
      "COMPLETE DATAFRAME SIZE:  (222, 9)\n",
      "DIFFERENCE:  16702\n",
      " \n",
      "DATAFRAME NAME:  coordinates_gis_osm_roads_free_1.csv\n",
      "ORIGINAL DATAFRAME SIZE:  (1260180, 12)\n",
      "FILTERED DATAFRAME SIZE:  (94941, 12)\n",
      "COMPLETE DATAFRAME SIZE:  (73993, 12)\n",
      "DIFFERENCE:  1186187\n",
      " \n",
      "DATAFRAME NAME:  coordinates_gis_osm_traffic_a_free_1.csv\n",
      "ORIGINAL DATAFRAME SIZE:  (56236, 6)\n",
      "FILTERED DATAFRAME SIZE:  (54010, 6)\n",
      "COMPLETE DATAFRAME SIZE:  (3546, 6)\n",
      "DIFFERENCE:  52690\n",
      " \n",
      "DATAFRAME NAME:  coordinates_gis_osm_traffic_free_1.csv\n",
      "ORIGINAL DATAFRAME SIZE:  (141234, 6)\n",
      "FILTERED DATAFRAME SIZE:  (26592, 6)\n",
      "COMPLETE DATAFRAME SIZE:  (1634, 6)\n",
      "DIFFERENCE:  139600\n",
      " \n",
      "DATAFRAME NAME:  coordinates_gis_osm_transport_a_free_1.csv\n",
      "ORIGINAL DATAFRAME SIZE:  (910, 6)\n",
      "FILTERED DATAFRAME SIZE:  (197, 6)\n",
      "COMPLETE DATAFRAME SIZE:  (117, 6)\n",
      "DIFFERENCE:  793\n",
      " \n",
      "DATAFRAME NAME:  coordinates_gis_osm_transport_free_1.csv\n",
      "ORIGINAL DATAFRAME SIZE:  (32558, 6)\n",
      "FILTERED DATAFRAME SIZE:  (32014, 6)\n",
      "COMPLETE DATAFRAME SIZE:  (27453, 6)\n",
      "DIFFERENCE:  5105\n",
      " \n",
      "DATAFRAME NAME:  coordinates_gis_osm_water_a_free_1.csv\n",
      "ORIGINAL DATAFRAME SIZE:  (30178, 6)\n",
      "FILTERED DATAFRAME SIZE:  (573, 6)\n",
      "COMPLETE DATAFRAME SIZE:  (282, 6)\n",
      "DIFFERENCE:  29896\n",
      " \n"
     ]
    }
   ],
   "source": [
    "for df_name in completed_df_dict.keys():\n",
    "    print('DATAFRAME NAME: ', df_name)\n",
    "    print('ORIGINAL DATAFRAME SIZE: ', df_dict[df_name].shape)\n",
    "    print('FILTERED DATAFRAME SIZE: ', filtered_df_dict[df_name].shape)\n",
    "    print('COMPLETE DATAFRAME SIZE: ', completed_df_dict[df_name].shape)\n",
    "    print('DIFFERENCE: ', df_dict[df_name].shape[0] - completed_df_dict[df_name].shape[0])\n",
    "    print(' ')"
   ],
   "metadata": {
    "collapsed": false,
    "pycharm": {
     "name": "#%%\n"
    }
   }
  },
  {
   "cell_type": "code",
   "execution_count": 10,
   "outputs": [],
   "source": [
    "os.makedirs('filtered/', exist_ok=True)\n",
    "\n",
    "for df_name, df in completed_df_dict.items():\n",
    "\n",
    "    file_name = 'filtered_' + df_name[:-4] + '.csv'\n",
    "    df.to_csv('filtered/' + file_name)"
   ],
   "metadata": {
    "collapsed": false,
    "pycharm": {
     "name": "#%%\n"
    }
   }
  }
 ],
 "metadata": {
  "kernelspec": {
   "display_name": "Python 3",
   "language": "python",
   "name": "python3"
  },
  "language_info": {
   "codemirror_mode": {
    "name": "ipython",
    "version": 2
   },
   "file_extension": ".py",
   "mimetype": "text/x-python",
   "name": "python",
   "nbconvert_exporter": "python",
   "pygments_lexer": "ipython2",
   "version": "2.7.6"
  }
 },
 "nbformat": 4,
 "nbformat_minor": 0
}