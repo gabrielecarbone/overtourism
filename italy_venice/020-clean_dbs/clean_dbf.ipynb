{
 "cells": [
  {
   "cell_type": "code",
   "execution_count": 1,
   "metadata": {
    "collapsed": true,
    "pycharm": {
     "name": "#%%\n"
    }
   },
   "outputs": [],
   "source": [
    "import pandas as pd\n",
    "import os"
   ]
  },
  {
   "cell_type": "code",
   "execution_count": 2,
   "outputs": [
    {
     "data": {
      "text/plain": "            SELECT Geometry Code    Layer          fclass  \\\n0    accessibility          2601    money            bank   \n1    accessibility          2602    money             atm   \n2    accessibility          2901  miscpoi          toilet   \n3    accessibility          2902  miscpoi           bench   \n4    accessibility          2903  miscpoi  drinking_water   \n..             ...           ...      ...             ...   \n363            NaN          7223  landuse   plant_nursery   \n364            NaN          7224  landuse      brownfield   \n365            NaN          7225  landuse      greenfield   \n366            NaN          7226  landuse    construction   \n367            NaN          8203    water            dock   \n\n                                      Description                 OSM Tag  \\\n0                                         A bank.            amenity=bank   \n1    A machine that lets you withdraw amenity=atm                     NaN   \n2                                 Public toilets.         amenity=toilets   \n3                                 A public bench.           amenity=bench   \n4               A tap or other source of drinking  amenity=drinking_water   \n..                                            ...                     ...   \n363                                           NaN                     NaN   \n364                                           NaN                     NaN   \n365                                           NaN                     NaN   \n366                                           NaN                     NaN   \n367  Dock (to repair ships, don't confuse it with           waterway=dock   \n\n     Unnamed: 6  Unnamed: 7  Unnamed: 8  Unnamed: 9  Unnamed: 10  Unnamed: 11  \n0           NaN         NaN         NaN         NaN          NaN          NaN  \n1           NaN         NaN         NaN         NaN          NaN          NaN  \n2           NaN         NaN         NaN         NaN          NaN          NaN  \n3           NaN         NaN         NaN         NaN          NaN          NaN  \n4           NaN         NaN         NaN         NaN          NaN          NaN  \n..          ...         ...         ...         ...          ...          ...  \n363         NaN         NaN         NaN         NaN          NaN          NaN  \n364         NaN         NaN         NaN         NaN          NaN          NaN  \n365         NaN         NaN         NaN         NaN          NaN          NaN  \n366         NaN         NaN         NaN         NaN          NaN          NaN  \n367         NaN         NaN         NaN         NaN          NaN          NaN  \n\n[368 rows x 12 columns]",
      "text/html": "<div>\n<style scoped>\n    .dataframe tbody tr th:only-of-type {\n        vertical-align: middle;\n    }\n\n    .dataframe tbody tr th {\n        vertical-align: top;\n    }\n\n    .dataframe thead th {\n        text-align: right;\n    }\n</style>\n<table border=\"1\" class=\"dataframe\">\n  <thead>\n    <tr style=\"text-align: right;\">\n      <th></th>\n      <th>SELECT</th>\n      <th>Geometry Code</th>\n      <th>Layer</th>\n      <th>fclass</th>\n      <th>Description</th>\n      <th>OSM Tag</th>\n      <th>Unnamed: 6</th>\n      <th>Unnamed: 7</th>\n      <th>Unnamed: 8</th>\n      <th>Unnamed: 9</th>\n      <th>Unnamed: 10</th>\n      <th>Unnamed: 11</th>\n    </tr>\n  </thead>\n  <tbody>\n    <tr>\n      <th>0</th>\n      <td>accessibility</td>\n      <td>2601</td>\n      <td>money</td>\n      <td>bank</td>\n      <td>A bank.</td>\n      <td>amenity=bank</td>\n      <td>NaN</td>\n      <td>NaN</td>\n      <td>NaN</td>\n      <td>NaN</td>\n      <td>NaN</td>\n      <td>NaN</td>\n    </tr>\n    <tr>\n      <th>1</th>\n      <td>accessibility</td>\n      <td>2602</td>\n      <td>money</td>\n      <td>atm</td>\n      <td>A machine that lets you withdraw amenity=atm</td>\n      <td>NaN</td>\n      <td>NaN</td>\n      <td>NaN</td>\n      <td>NaN</td>\n      <td>NaN</td>\n      <td>NaN</td>\n      <td>NaN</td>\n    </tr>\n    <tr>\n      <th>2</th>\n      <td>accessibility</td>\n      <td>2901</td>\n      <td>miscpoi</td>\n      <td>toilet</td>\n      <td>Public toilets.</td>\n      <td>amenity=toilets</td>\n      <td>NaN</td>\n      <td>NaN</td>\n      <td>NaN</td>\n      <td>NaN</td>\n      <td>NaN</td>\n      <td>NaN</td>\n    </tr>\n    <tr>\n      <th>3</th>\n      <td>accessibility</td>\n      <td>2902</td>\n      <td>miscpoi</td>\n      <td>bench</td>\n      <td>A public bench.</td>\n      <td>amenity=bench</td>\n      <td>NaN</td>\n      <td>NaN</td>\n      <td>NaN</td>\n      <td>NaN</td>\n      <td>NaN</td>\n      <td>NaN</td>\n    </tr>\n    <tr>\n      <th>4</th>\n      <td>accessibility</td>\n      <td>2903</td>\n      <td>miscpoi</td>\n      <td>drinking_water</td>\n      <td>A tap or other source of drinking</td>\n      <td>amenity=drinking_water</td>\n      <td>NaN</td>\n      <td>NaN</td>\n      <td>NaN</td>\n      <td>NaN</td>\n      <td>NaN</td>\n      <td>NaN</td>\n    </tr>\n    <tr>\n      <th>...</th>\n      <td>...</td>\n      <td>...</td>\n      <td>...</td>\n      <td>...</td>\n      <td>...</td>\n      <td>...</td>\n      <td>...</td>\n      <td>...</td>\n      <td>...</td>\n      <td>...</td>\n      <td>...</td>\n      <td>...</td>\n    </tr>\n    <tr>\n      <th>363</th>\n      <td>NaN</td>\n      <td>7223</td>\n      <td>landuse</td>\n      <td>plant_nursery</td>\n      <td>NaN</td>\n      <td>NaN</td>\n      <td>NaN</td>\n      <td>NaN</td>\n      <td>NaN</td>\n      <td>NaN</td>\n      <td>NaN</td>\n      <td>NaN</td>\n    </tr>\n    <tr>\n      <th>364</th>\n      <td>NaN</td>\n      <td>7224</td>\n      <td>landuse</td>\n      <td>brownfield</td>\n      <td>NaN</td>\n      <td>NaN</td>\n      <td>NaN</td>\n      <td>NaN</td>\n      <td>NaN</td>\n      <td>NaN</td>\n      <td>NaN</td>\n      <td>NaN</td>\n    </tr>\n    <tr>\n      <th>365</th>\n      <td>NaN</td>\n      <td>7225</td>\n      <td>landuse</td>\n      <td>greenfield</td>\n      <td>NaN</td>\n      <td>NaN</td>\n      <td>NaN</td>\n      <td>NaN</td>\n      <td>NaN</td>\n      <td>NaN</td>\n      <td>NaN</td>\n      <td>NaN</td>\n    </tr>\n    <tr>\n      <th>366</th>\n      <td>NaN</td>\n      <td>7226</td>\n      <td>landuse</td>\n      <td>construction</td>\n      <td>NaN</td>\n      <td>NaN</td>\n      <td>NaN</td>\n      <td>NaN</td>\n      <td>NaN</td>\n      <td>NaN</td>\n      <td>NaN</td>\n      <td>NaN</td>\n    </tr>\n    <tr>\n      <th>367</th>\n      <td>NaN</td>\n      <td>8203</td>\n      <td>water</td>\n      <td>dock</td>\n      <td>Dock (to repair ships, don't confuse it with</td>\n      <td>waterway=dock</td>\n      <td>NaN</td>\n      <td>NaN</td>\n      <td>NaN</td>\n      <td>NaN</td>\n      <td>NaN</td>\n      <td>NaN</td>\n    </tr>\n  </tbody>\n</table>\n<p>368 rows × 12 columns</p>\n</div>"
     },
     "execution_count": 2,
     "metadata": {},
     "output_type": "execute_result"
    }
   ],
   "source": [
    "# SETTINGS\n",
    "path = '../010-add_coordinates/coordinates/'\n",
    "filter_df = pd.read_csv('categories.csv', sep = ';', encoding = \"ISO-8859-1\")\n",
    "filter_df"
   ],
   "metadata": {
    "collapsed": false,
    "pycharm": {
     "name": "#%%\n"
    }
   }
  },
  {
   "cell_type": "code",
   "execution_count": 3,
   "outputs": [],
   "source": [
    "filter_df = filter_df.loc[~filter_df.SELECT.isna(), ['SELECT', 'Geometry Code', 'Layer', 'fclass']]\n",
    "#filter_df['Geometry Code'] = filter_df['Geometry Code'].str.pad(4, side = 'right', fillchar = '.')\n",
    "filter_df['Geometry Code'] = filter_df['Geometry Code'].str.strip('0')"
   ],
   "metadata": {
    "collapsed": false,
    "pycharm": {
     "name": "#%%\n"
    }
   }
  },
  {
   "cell_type": "code",
   "execution_count": 4,
   "outputs": [],
   "source": [
    "granularity = 4 - filter_df['Geometry Code'].str.len()\n",
    "multiplier = 10 ** granularity"
   ],
   "metadata": {
    "collapsed": false,
    "pycharm": {
     "name": "#%%\n"
    }
   }
  },
  {
   "cell_type": "code",
   "execution_count": 5,
   "outputs": [
    {
     "data": {
      "text/plain": "            SELECT  Geometry Code      Layer         fclass  low_threshold  \\\n0    accessibility           2601      money           bank           2601   \n139          sport           2251    leisure  sports_centre           2251   \n140          sport           2252    leisure          pitch           2252   \n141          sport           2253    leisure  swimming_pool           2253   \n142          sport           2254    leisure   tennis_court           2254   \n..             ...            ...        ...            ...            ...   \n242     transports             52    traffic        traffic           5200   \n122         nature             82      water          water           8200   \n243     transports             61    railway        railway           6100   \n240     transports              5  transport      transport           5000   \n41             art              3       pofw           pofw           3000   \n\n     high_threshold  granularity  \n0              2601            0  \n139            2251            0  \n140            2252            0  \n141            2253            0  \n142            2254            0  \n..              ...          ...  \n242            5299            2  \n122            8299            2  \n243            6199            2  \n240            5999            3  \n41             3999            3  \n\n[244 rows x 7 columns]",
      "text/html": "<div>\n<style scoped>\n    .dataframe tbody tr th:only-of-type {\n        vertical-align: middle;\n    }\n\n    .dataframe tbody tr th {\n        vertical-align: top;\n    }\n\n    .dataframe thead th {\n        text-align: right;\n    }\n</style>\n<table border=\"1\" class=\"dataframe\">\n  <thead>\n    <tr style=\"text-align: right;\">\n      <th></th>\n      <th>SELECT</th>\n      <th>Geometry Code</th>\n      <th>Layer</th>\n      <th>fclass</th>\n      <th>low_threshold</th>\n      <th>high_threshold</th>\n      <th>granularity</th>\n    </tr>\n  </thead>\n  <tbody>\n    <tr>\n      <th>0</th>\n      <td>accessibility</td>\n      <td>2601</td>\n      <td>money</td>\n      <td>bank</td>\n      <td>2601</td>\n      <td>2601</td>\n      <td>0</td>\n    </tr>\n    <tr>\n      <th>139</th>\n      <td>sport</td>\n      <td>2251</td>\n      <td>leisure</td>\n      <td>sports_centre</td>\n      <td>2251</td>\n      <td>2251</td>\n      <td>0</td>\n    </tr>\n    <tr>\n      <th>140</th>\n      <td>sport</td>\n      <td>2252</td>\n      <td>leisure</td>\n      <td>pitch</td>\n      <td>2252</td>\n      <td>2252</td>\n      <td>0</td>\n    </tr>\n    <tr>\n      <th>141</th>\n      <td>sport</td>\n      <td>2253</td>\n      <td>leisure</td>\n      <td>swimming_pool</td>\n      <td>2253</td>\n      <td>2253</td>\n      <td>0</td>\n    </tr>\n    <tr>\n      <th>142</th>\n      <td>sport</td>\n      <td>2254</td>\n      <td>leisure</td>\n      <td>tennis_court</td>\n      <td>2254</td>\n      <td>2254</td>\n      <td>0</td>\n    </tr>\n    <tr>\n      <th>...</th>\n      <td>...</td>\n      <td>...</td>\n      <td>...</td>\n      <td>...</td>\n      <td>...</td>\n      <td>...</td>\n      <td>...</td>\n    </tr>\n    <tr>\n      <th>242</th>\n      <td>transports</td>\n      <td>52</td>\n      <td>traffic</td>\n      <td>traffic</td>\n      <td>5200</td>\n      <td>5299</td>\n      <td>2</td>\n    </tr>\n    <tr>\n      <th>122</th>\n      <td>nature</td>\n      <td>82</td>\n      <td>water</td>\n      <td>water</td>\n      <td>8200</td>\n      <td>8299</td>\n      <td>2</td>\n    </tr>\n    <tr>\n      <th>243</th>\n      <td>transports</td>\n      <td>61</td>\n      <td>railway</td>\n      <td>railway</td>\n      <td>6100</td>\n      <td>6199</td>\n      <td>2</td>\n    </tr>\n    <tr>\n      <th>240</th>\n      <td>transports</td>\n      <td>5</td>\n      <td>transport</td>\n      <td>transport</td>\n      <td>5000</td>\n      <td>5999</td>\n      <td>3</td>\n    </tr>\n    <tr>\n      <th>41</th>\n      <td>art</td>\n      <td>3</td>\n      <td>pofw</td>\n      <td>pofw</td>\n      <td>3000</td>\n      <td>3999</td>\n      <td>3</td>\n    </tr>\n  </tbody>\n</table>\n<p>244 rows × 7 columns</p>\n</div>"
     },
     "execution_count": 5,
     "metadata": {},
     "output_type": "execute_result"
    }
   ],
   "source": [
    "filter_df['Geometry Code'] = filter_df['Geometry Code'].astype(int)\n",
    "\n",
    "filter_df['low_threshold'] = multiplier * filter_df['Geometry Code']\n",
    "filter_df['high_threshold'] = multiplier * filter_df['Geometry Code'] + (multiplier - 1)\n",
    "\n",
    "filter_df['fclass'] = filter_df['fclass'].fillna(filter_df['Layer'])\n",
    "filter_df['granularity'] = granularity\n",
    "\n",
    "filter_df = filter_df.sort_values(by=['granularity'])\n",
    "\n",
    "filter_df"
   ],
   "metadata": {
    "collapsed": false,
    "pycharm": {
     "name": "#%%\n"
    }
   }
  },
  {
   "cell_type": "code",
   "execution_count": 6,
   "outputs": [],
   "source": [
    "file_list = os.listdir(path)\n",
    "\n",
    "filter_regex = '|'.join(r\"{}\".format(x) for x in filter_df['Geometry Code'])"
   ],
   "metadata": {
    "collapsed": false,
    "pycharm": {
     "name": "#%%\n"
    }
   }
  },
  {
   "cell_type": "code",
   "execution_count": 7,
   "outputs": [
    {
     "data": {
      "text/plain": "'2601|2251|2252|2253|2254|2255|2256|2257|2522|2524|2524|5209|2542|2401|2402|2403|2404|2405|2406|2421|2422|2423|2424|2905|5208|2923|2923|7228|5656|8101|8102|8103|8104|6105|8202|8211|8221|6104|6103|6102|8201|2001|2002|2011|2101|2111|2129|2907|2921|2922|2701|2704|2705|2706|5144|5145|5146|5147|5151|5152|5153|5154|5155|5199|5251|5261|5262|5263|5601|5602|5603|5621|5622|5641|5651|5652|5655|5143|7219|5142|5135|2721|6101|5671|1001|1002|1003|2562|2563|2565|5111|5112|5113|5114|5115|5121|5122|5123|5124|5125|5131|5132|5133|5134|5141|7218|7229|7216|3109|7227|6119|3301|3302|6115|6114|6113|6112|6111|6109|2007|2016|2202|2203|2205|2206|2301|2302|2303|2304|2305|7217|3108|3107|3106|3105|2602|2901|2902|2903|2904|5204|2014|2015|2201|2722|2723|2307|2724|2731|2732|2734|2735|2736|2737|2951|3101|3102|3103|3104|2725|2501|2306|2503|2034|2204|2502|2547|2733|2741|2742|2743|2906|4101|2033|4103|4112|4113|4121|4132|4141|5311|5321|7201|7202|7206|4111|2032|5661|2744|2515|2511|2518|2505|2031|2521|2529|2529|2512|2954|2513|2504|7209|7211|7212|6108|6107|6106|2955|722|242|721|251|203|525|225|526|252|516|295|211|527|212|51|81|24|31|32|33|34|35|36|37|27|38|22|23|25|82|41|52|82|61|5|3'"
     },
     "execution_count": 7,
     "metadata": {},
     "output_type": "execute_result"
    }
   ],
   "source": [
    "filter_regex"
   ],
   "metadata": {
    "collapsed": false,
    "pycharm": {
     "name": "#%%\n"
    }
   }
  },
  {
   "cell_type": "code",
   "execution_count": 7,
   "outputs": [],
   "source": [
    "df_dict = {}\n",
    "\n",
    "for file_name in file_list:\n",
    "\n",
    "    df_dict[file_name] = pd.read_csv(path + file_name)\n",
    "\n",
    "    df_dict[file_name].drop('Unnamed: 0', axis = 1, inplace = True)"
   ],
   "metadata": {
    "collapsed": false,
    "pycharm": {
     "name": "#%%\n"
    }
   }
  },
  {
   "cell_type": "code",
   "execution_count": 8,
   "outputs": [
    {
     "name": "stderr",
     "output_type": "stream",
     "text": [
      "C:\\Users\\gabri\\AppData\\Local\\Temp\\ipykernel_30596\\544379905.py:2: SettingWithCopyWarning: \n",
      "A value is trying to be set on a copy of a slice from a DataFrame\n",
      "\n",
      "See the caveats in the documentation: https://pandas.pydata.org/pandas-docs/stable/user_guide/indexing.html#returning-a-view-versus-a-copy\n",
      "  filter_df_to_dict.drop_duplicates(subset = ['fclass'], inplace = True)\n"
     ]
    },
    {
     "data": {
      "text/plain": "            fclass  low_threshold  high_threshold\n0             bank           2601            2601\n139  sports_centre           2251            2251\n140          pitch           2252            2252\n141  swimming_pool           2253            2253\n142   tennis_court           2254            2254\n..             ...            ...             ...\n116          water           8200            8299\n120        natural           4100            4199\n242        traffic           5200            5299\n240      transport           5000            5999\n41            pofw           3000            3999\n\n[235 rows x 3 columns]",
      "text/html": "<div>\n<style scoped>\n    .dataframe tbody tr th:only-of-type {\n        vertical-align: middle;\n    }\n\n    .dataframe tbody tr th {\n        vertical-align: top;\n    }\n\n    .dataframe thead th {\n        text-align: right;\n    }\n</style>\n<table border=\"1\" class=\"dataframe\">\n  <thead>\n    <tr style=\"text-align: right;\">\n      <th></th>\n      <th>fclass</th>\n      <th>low_threshold</th>\n      <th>high_threshold</th>\n    </tr>\n  </thead>\n  <tbody>\n    <tr>\n      <th>0</th>\n      <td>bank</td>\n      <td>2601</td>\n      <td>2601</td>\n    </tr>\n    <tr>\n      <th>139</th>\n      <td>sports_centre</td>\n      <td>2251</td>\n      <td>2251</td>\n    </tr>\n    <tr>\n      <th>140</th>\n      <td>pitch</td>\n      <td>2252</td>\n      <td>2252</td>\n    </tr>\n    <tr>\n      <th>141</th>\n      <td>swimming_pool</td>\n      <td>2253</td>\n      <td>2253</td>\n    </tr>\n    <tr>\n      <th>142</th>\n      <td>tennis_court</td>\n      <td>2254</td>\n      <td>2254</td>\n    </tr>\n    <tr>\n      <th>...</th>\n      <td>...</td>\n      <td>...</td>\n      <td>...</td>\n    </tr>\n    <tr>\n      <th>116</th>\n      <td>water</td>\n      <td>8200</td>\n      <td>8299</td>\n    </tr>\n    <tr>\n      <th>120</th>\n      <td>natural</td>\n      <td>4100</td>\n      <td>4199</td>\n    </tr>\n    <tr>\n      <th>242</th>\n      <td>traffic</td>\n      <td>5200</td>\n      <td>5299</td>\n    </tr>\n    <tr>\n      <th>240</th>\n      <td>transport</td>\n      <td>5000</td>\n      <td>5999</td>\n    </tr>\n    <tr>\n      <th>41</th>\n      <td>pofw</td>\n      <td>3000</td>\n      <td>3999</td>\n    </tr>\n  </tbody>\n</table>\n<p>235 rows × 3 columns</p>\n</div>"
     },
     "execution_count": 8,
     "metadata": {},
     "output_type": "execute_result"
    }
   ],
   "source": [
    "filter_df_to_dict = filter_df[['fclass', 'low_threshold', 'high_threshold']]\n",
    "filter_df_to_dict.drop_duplicates(subset = ['fclass'], inplace = True)\n",
    "filter_df_to_dict"
   ],
   "metadata": {
    "collapsed": false,
    "pycharm": {
     "name": "#%%\n"
    }
   }
  },
  {
   "cell_type": "code",
   "execution_count": 9,
   "outputs": [
    {
     "name": "stderr",
     "output_type": "stream",
     "text": [
      "C:\\Users\\gabri\\AppData\\Local\\Temp\\ipykernel_30596\\3101066230.py:2: SettingWithCopyWarning: \n",
      "A value is trying to be set on a copy of a slice from a DataFrame\n",
      "\n",
      "See the caveats in the documentation: https://pandas.pydata.org/pandas-docs/stable/user_guide/indexing.html#returning-a-view-versus-a-copy\n",
      "  filter_df_to_dict.drop('fclass', axis = 1, inplace = True)\n"
     ]
    }
   ],
   "source": [
    "filter_df_to_dict.index = filter_df_to_dict.fclass\n",
    "filter_df_to_dict.drop('fclass', axis = 1, inplace = True)\n",
    "filter_dict = filter_df_to_dict.to_dict('index')"
   ],
   "metadata": {
    "collapsed": false,
    "pycharm": {
     "name": "#%%\n"
    }
   }
  },
  {
   "cell_type": "code",
   "execution_count": 8,
   "outputs": [
    {
     "data": {
      "text/plain": "            SELECT  Geometry Code      Layer         fclass  low_threshold  \\\n0    accessibility           2601      money           bank           2601   \n139          sport           2251    leisure  sports_centre           2251   \n140          sport           2252    leisure          pitch           2252   \n141          sport           2253    leisure  swimming_pool           2253   \n142          sport           2254    leisure   tennis_court           2254   \n..             ...            ...        ...            ...            ...   \n242     transports             52    traffic        traffic           5200   \n122         nature             82      water          water           8200   \n243     transports             61    railway        railway           6100   \n240     transports              5  transport      transport           5000   \n41             art              3       pofw           pofw           3000   \n\n     high_threshold  granularity  \n0              2601            0  \n139            2251            0  \n140            2252            0  \n141            2253            0  \n142            2254            0  \n..              ...          ...  \n242            5299            2  \n122            8299            2  \n243            6199            2  \n240            5999            3  \n41             3999            3  \n\n[244 rows x 7 columns]",
      "text/html": "<div>\n<style scoped>\n    .dataframe tbody tr th:only-of-type {\n        vertical-align: middle;\n    }\n\n    .dataframe tbody tr th {\n        vertical-align: top;\n    }\n\n    .dataframe thead th {\n        text-align: right;\n    }\n</style>\n<table border=\"1\" class=\"dataframe\">\n  <thead>\n    <tr style=\"text-align: right;\">\n      <th></th>\n      <th>SELECT</th>\n      <th>Geometry Code</th>\n      <th>Layer</th>\n      <th>fclass</th>\n      <th>low_threshold</th>\n      <th>high_threshold</th>\n      <th>granularity</th>\n    </tr>\n  </thead>\n  <tbody>\n    <tr>\n      <th>0</th>\n      <td>accessibility</td>\n      <td>2601</td>\n      <td>money</td>\n      <td>bank</td>\n      <td>2601</td>\n      <td>2601</td>\n      <td>0</td>\n    </tr>\n    <tr>\n      <th>139</th>\n      <td>sport</td>\n      <td>2251</td>\n      <td>leisure</td>\n      <td>sports_centre</td>\n      <td>2251</td>\n      <td>2251</td>\n      <td>0</td>\n    </tr>\n    <tr>\n      <th>140</th>\n      <td>sport</td>\n      <td>2252</td>\n      <td>leisure</td>\n      <td>pitch</td>\n      <td>2252</td>\n      <td>2252</td>\n      <td>0</td>\n    </tr>\n    <tr>\n      <th>141</th>\n      <td>sport</td>\n      <td>2253</td>\n      <td>leisure</td>\n      <td>swimming_pool</td>\n      <td>2253</td>\n      <td>2253</td>\n      <td>0</td>\n    </tr>\n    <tr>\n      <th>142</th>\n      <td>sport</td>\n      <td>2254</td>\n      <td>leisure</td>\n      <td>tennis_court</td>\n      <td>2254</td>\n      <td>2254</td>\n      <td>0</td>\n    </tr>\n    <tr>\n      <th>...</th>\n      <td>...</td>\n      <td>...</td>\n      <td>...</td>\n      <td>...</td>\n      <td>...</td>\n      <td>...</td>\n      <td>...</td>\n    </tr>\n    <tr>\n      <th>242</th>\n      <td>transports</td>\n      <td>52</td>\n      <td>traffic</td>\n      <td>traffic</td>\n      <td>5200</td>\n      <td>5299</td>\n      <td>2</td>\n    </tr>\n    <tr>\n      <th>122</th>\n      <td>nature</td>\n      <td>82</td>\n      <td>water</td>\n      <td>water</td>\n      <td>8200</td>\n      <td>8299</td>\n      <td>2</td>\n    </tr>\n    <tr>\n      <th>243</th>\n      <td>transports</td>\n      <td>61</td>\n      <td>railway</td>\n      <td>railway</td>\n      <td>6100</td>\n      <td>6199</td>\n      <td>2</td>\n    </tr>\n    <tr>\n      <th>240</th>\n      <td>transports</td>\n      <td>5</td>\n      <td>transport</td>\n      <td>transport</td>\n      <td>5000</td>\n      <td>5999</td>\n      <td>3</td>\n    </tr>\n    <tr>\n      <th>41</th>\n      <td>art</td>\n      <td>3</td>\n      <td>pofw</td>\n      <td>pofw</td>\n      <td>3000</td>\n      <td>3999</td>\n      <td>3</td>\n    </tr>\n  </tbody>\n</table>\n<p>244 rows × 7 columns</p>\n</div>"
     },
     "execution_count": 8,
     "metadata": {},
     "output_type": "execute_result"
    }
   ],
   "source": [
    "filter_df"
   ],
   "metadata": {
    "collapsed": false,
    "pycharm": {
     "name": "#%%\n"
    }
   }
  },
  {
   "cell_type": "code",
   "execution_count": 11,
   "outputs": [],
   "source": [
    "# df = df_dict['coordinates_gis_osm_pois_free_1.csv']\n",
    "#\n",
    "# df['fclass'] = 0\n",
    "#\n",
    "# for fclass, value_dict in filter_dict.items():\n",
    "#\n",
    "#     df.loc[(df.code >= value_dict['low_threshold']) & (df.code <= value_dict['high_threshold']),'fclass'] = fclass\n",
    "#\n",
    "#     final_df = df.merge(filter_df[['fclass', 'SELECT']], on = 'fclass', how = 'left')\n",
    "#\n",
    "#     final_df = final_df[final_df.fclass != 0]\n",
    "#\n",
    "# final_df"
   ],
   "metadata": {
    "collapsed": false,
    "pycharm": {
     "name": "#%%\n"
    }
   }
  },
  {
   "cell_type": "code",
   "execution_count": 12,
   "outputs": [],
   "source": [
    "filtered_df_dict = {}\n",
    "\n",
    "for df_name, df in df_dict.items():\n",
    "\n",
    "    df['fclass'] = 0\n",
    "\n",
    "    for fclass, value_dict in filter_dict.items():\n",
    "\n",
    "        df.loc[(df.code >= value_dict['low_threshold']) & (df.code <= value_dict['high_threshold']),'fclass'] = fclass\n",
    "\n",
    "        final_df = df.merge(filter_df[['fclass', 'SELECT']], on = 'fclass', how = 'left')\n",
    "\n",
    "        final_df = final_df.drop_duplicates()\n",
    "\n",
    "        final_df = final_df[final_df.fclass != 0]\n",
    "\n",
    "    filtered_df_dict[df_name] = final_df"
   ],
   "metadata": {
    "collapsed": false,
    "pycharm": {
     "name": "#%%\n"
    }
   }
  },
  {
   "cell_type": "code",
   "execution_count": 13,
   "outputs": [
    {
     "name": "stdout",
     "output_type": "stream",
     "text": [
      "DATAFRAME NAME:  coordinates_gis_osm_buildings_a_free_1.csv\n",
      "ORIGINAL DATAFRAME SIZE:  (4580168, 7)\n",
      "FILTERED DATAFRAME SIZE:  (0, 8)\n",
      "DIFFERENCE:  4580168\n",
      " \n",
      "DATAFRAME NAME:  coordinates_gis_osm_landuse_a_free_1.csv\n",
      "ORIGINAL DATAFRAME SIZE:  (536191, 6)\n",
      "FILTERED DATAFRAME SIZE:  (394968, 7)\n",
      "DIFFERENCE:  141223\n",
      " \n",
      "DATAFRAME NAME:  coordinates_gis_osm_natural_a_free_1.csv\n",
      "ORIGINAL DATAFRAME SIZE:  (1205, 6)\n",
      "FILTERED DATAFRAME SIZE:  (1205, 7)\n",
      "DIFFERENCE:  0\n",
      " \n",
      "DATAFRAME NAME:  coordinates_gis_osm_natural_free_1.csv\n",
      "ORIGINAL DATAFRAME SIZE:  (325604, 6)\n",
      "FILTERED DATAFRAME SIZE:  (325604, 7)\n",
      "DIFFERENCE:  0\n",
      " \n",
      "DATAFRAME NAME:  coordinates_gis_osm_places_a_free_1.csv\n",
      "ORIGINAL DATAFRAME SIZE:  (678, 7)\n",
      "FILTERED DATAFRAME SIZE:  (88, 8)\n",
      "DIFFERENCE:  590\n",
      " \n",
      "DATAFRAME NAME:  coordinates_gis_osm_places_free_1.csv\n",
      "ORIGINAL DATAFRAME SIZE:  (34542, 7)\n",
      "FILTERED DATAFRAME SIZE:  (4778, 8)\n",
      "DIFFERENCE:  29764\n",
      " \n",
      "DATAFRAME NAME:  coordinates_gis_osm_pofw_a_free_1.csv\n",
      "ORIGINAL DATAFRAME SIZE:  (11847, 6)\n",
      "FILTERED DATAFRAME SIZE:  (11847, 7)\n",
      "DIFFERENCE:  0\n",
      " \n",
      "DATAFRAME NAME:  coordinates_gis_osm_pofw_free_1.csv\n",
      "ORIGINAL DATAFRAME SIZE:  (1277, 6)\n",
      "FILTERED DATAFRAME SIZE:  (1277, 7)\n",
      "DIFFERENCE:  0\n",
      " \n",
      "DATAFRAME NAME:  coordinates_gis_osm_pois_a_free_1.csv\n",
      "ORIGINAL DATAFRAME SIZE:  (93073, 6)\n",
      "FILTERED DATAFRAME SIZE:  (84083, 7)\n",
      "DIFFERENCE:  8990\n",
      " \n",
      "DATAFRAME NAME:  coordinates_gis_osm_pois_free_1.csv\n",
      "ORIGINAL DATAFRAME SIZE:  (196142, 6)\n",
      "FILTERED DATAFRAME SIZE:  (188952, 7)\n",
      "DIFFERENCE:  7190\n",
      " \n",
      "DATAFRAME NAME:  coordinates_gis_osm_railways_free_1.csv\n",
      "ORIGINAL DATAFRAME SIZE:  (16966, 9)\n",
      "FILTERED DATAFRAME SIZE:  (16966, 10)\n",
      "DIFFERENCE:  0\n",
      " \n",
      "DATAFRAME NAME:  coordinates_gis_osm_roads_free_1.csv\n",
      "ORIGINAL DATAFRAME SIZE:  (1270082, 12)\n",
      "FILTERED DATAFRAME SIZE:  (1270082, 13)\n",
      "DIFFERENCE:  0\n",
      " \n",
      "DATAFRAME NAME:  coordinates_gis_osm_traffic_a_free_1.csv\n",
      "ORIGINAL DATAFRAME SIZE:  (56923, 6)\n",
      "FILTERED DATAFRAME SIZE:  (56923, 7)\n",
      "DIFFERENCE:  0\n",
      " \n",
      "DATAFRAME NAME:  coordinates_gis_osm_traffic_free_1.csv\n",
      "ORIGINAL DATAFRAME SIZE:  (143927, 6)\n",
      "FILTERED DATAFRAME SIZE:  (143927, 7)\n",
      "DIFFERENCE:  0\n",
      " \n",
      "DATAFRAME NAME:  coordinates_gis_osm_transport_a_free_1.csv\n",
      "ORIGINAL DATAFRAME SIZE:  (911, 6)\n",
      "FILTERED DATAFRAME SIZE:  (911, 7)\n",
      "DIFFERENCE:  0\n",
      " \n",
      "DATAFRAME NAME:  coordinates_gis_osm_transport_free_1.csv\n",
      "ORIGINAL DATAFRAME SIZE:  (32760, 6)\n",
      "FILTERED DATAFRAME SIZE:  (32760, 7)\n",
      "DIFFERENCE:  0\n",
      " \n",
      "DATAFRAME NAME:  coordinates_gis_osm_waterways_free_1.csv\n",
      "ORIGINAL DATAFRAME SIZE:  (98056, 7)\n",
      "FILTERED DATAFRAME SIZE:  (98056, 8)\n",
      "DIFFERENCE:  0\n",
      " \n",
      "DATAFRAME NAME:  coordinates_gis_osm_water_a_free_1.csv\n",
      "ORIGINAL DATAFRAME SIZE:  (30360, 6)\n",
      "FILTERED DATAFRAME SIZE:  (30360, 7)\n",
      "DIFFERENCE:  0\n",
      " \n"
     ]
    }
   ],
   "source": [
    "for df_name in filtered_df_dict.keys():\n",
    "    print('DATAFRAME NAME: ', df_name)\n",
    "    print('ORIGINAL DATAFRAME SIZE: ', df_dict[df_name].shape)\n",
    "    print('FILTERED DATAFRAME SIZE: ', filtered_df_dict[df_name].shape)\n",
    "    print('DIFFERENCE: ', df_dict[df_name].shape[0] - filtered_df_dict[df_name].shape[0])\n",
    "    print(' ')"
   ],
   "metadata": {
    "collapsed": false,
    "pycharm": {
     "name": "#%%\n"
    }
   }
  },
  {
   "cell_type": "code",
   "execution_count": 14,
   "outputs": [],
   "source": [
    "completed_df_dict = {}\n",
    "\n",
    "for df_name, df in filtered_df_dict.items():\n",
    "\n",
    "    if df.shape[0] > 0:\n",
    "        # completed_df_dict[df_name] = df[~df.name.isna()]\n",
    "        completed_df_dict[df_name] = df"
   ],
   "metadata": {
    "collapsed": false,
    "pycharm": {
     "name": "#%%\n"
    }
   }
  },
  {
   "cell_type": "code",
   "execution_count": 15,
   "outputs": [
    {
     "name": "stdout",
     "output_type": "stream",
     "text": [
      "DATAFRAME NAME:  coordinates_gis_osm_landuse_a_free_1.csv\n",
      "ORIGINAL DATAFRAME SIZE:  (536191, 6)\n",
      "FILTERED DATAFRAME SIZE:  (394968, 7)\n",
      "COMPLETE DATAFRAME SIZE:  (394968, 7)\n",
      "DIFFERENCE:  141223\n",
      " \n",
      "DATAFRAME NAME:  coordinates_gis_osm_natural_a_free_1.csv\n",
      "ORIGINAL DATAFRAME SIZE:  (1205, 6)\n",
      "FILTERED DATAFRAME SIZE:  (1205, 7)\n",
      "COMPLETE DATAFRAME SIZE:  (1205, 7)\n",
      "DIFFERENCE:  0\n",
      " \n",
      "DATAFRAME NAME:  coordinates_gis_osm_natural_free_1.csv\n",
      "ORIGINAL DATAFRAME SIZE:  (325604, 6)\n",
      "FILTERED DATAFRAME SIZE:  (325604, 7)\n",
      "COMPLETE DATAFRAME SIZE:  (325604, 7)\n",
      "DIFFERENCE:  0\n",
      " \n",
      "DATAFRAME NAME:  coordinates_gis_osm_places_a_free_1.csv\n",
      "ORIGINAL DATAFRAME SIZE:  (678, 7)\n",
      "FILTERED DATAFRAME SIZE:  (88, 8)\n",
      "COMPLETE DATAFRAME SIZE:  (88, 8)\n",
      "DIFFERENCE:  590\n",
      " \n",
      "DATAFRAME NAME:  coordinates_gis_osm_places_free_1.csv\n",
      "ORIGINAL DATAFRAME SIZE:  (34542, 7)\n",
      "FILTERED DATAFRAME SIZE:  (4778, 8)\n",
      "COMPLETE DATAFRAME SIZE:  (4778, 8)\n",
      "DIFFERENCE:  29764\n",
      " \n",
      "DATAFRAME NAME:  coordinates_gis_osm_pofw_a_free_1.csv\n",
      "ORIGINAL DATAFRAME SIZE:  (11847, 6)\n",
      "FILTERED DATAFRAME SIZE:  (11847, 7)\n",
      "COMPLETE DATAFRAME SIZE:  (11847, 7)\n",
      "DIFFERENCE:  0\n",
      " \n",
      "DATAFRAME NAME:  coordinates_gis_osm_pofw_free_1.csv\n",
      "ORIGINAL DATAFRAME SIZE:  (1277, 6)\n",
      "FILTERED DATAFRAME SIZE:  (1277, 7)\n",
      "COMPLETE DATAFRAME SIZE:  (1277, 7)\n",
      "DIFFERENCE:  0\n",
      " \n",
      "DATAFRAME NAME:  coordinates_gis_osm_pois_a_free_1.csv\n",
      "ORIGINAL DATAFRAME SIZE:  (93073, 6)\n",
      "FILTERED DATAFRAME SIZE:  (84083, 7)\n",
      "COMPLETE DATAFRAME SIZE:  (84083, 7)\n",
      "DIFFERENCE:  8990\n",
      " \n",
      "DATAFRAME NAME:  coordinates_gis_osm_pois_free_1.csv\n",
      "ORIGINAL DATAFRAME SIZE:  (196142, 6)\n",
      "FILTERED DATAFRAME SIZE:  (188952, 7)\n",
      "COMPLETE DATAFRAME SIZE:  (188952, 7)\n",
      "DIFFERENCE:  7190\n",
      " \n",
      "DATAFRAME NAME:  coordinates_gis_osm_railways_free_1.csv\n",
      "ORIGINAL DATAFRAME SIZE:  (16966, 9)\n",
      "FILTERED DATAFRAME SIZE:  (16966, 10)\n",
      "COMPLETE DATAFRAME SIZE:  (16966, 10)\n",
      "DIFFERENCE:  0\n",
      " \n",
      "DATAFRAME NAME:  coordinates_gis_osm_roads_free_1.csv\n",
      "ORIGINAL DATAFRAME SIZE:  (1270082, 12)\n",
      "FILTERED DATAFRAME SIZE:  (1270082, 13)\n",
      "COMPLETE DATAFRAME SIZE:  (1270082, 13)\n",
      "DIFFERENCE:  0\n",
      " \n",
      "DATAFRAME NAME:  coordinates_gis_osm_traffic_a_free_1.csv\n",
      "ORIGINAL DATAFRAME SIZE:  (56923, 6)\n",
      "FILTERED DATAFRAME SIZE:  (56923, 7)\n",
      "COMPLETE DATAFRAME SIZE:  (56923, 7)\n",
      "DIFFERENCE:  0\n",
      " \n",
      "DATAFRAME NAME:  coordinates_gis_osm_traffic_free_1.csv\n",
      "ORIGINAL DATAFRAME SIZE:  (143927, 6)\n",
      "FILTERED DATAFRAME SIZE:  (143927, 7)\n",
      "COMPLETE DATAFRAME SIZE:  (143927, 7)\n",
      "DIFFERENCE:  0\n",
      " \n",
      "DATAFRAME NAME:  coordinates_gis_osm_transport_a_free_1.csv\n",
      "ORIGINAL DATAFRAME SIZE:  (911, 6)\n",
      "FILTERED DATAFRAME SIZE:  (911, 7)\n",
      "COMPLETE DATAFRAME SIZE:  (911, 7)\n",
      "DIFFERENCE:  0\n",
      " \n",
      "DATAFRAME NAME:  coordinates_gis_osm_transport_free_1.csv\n",
      "ORIGINAL DATAFRAME SIZE:  (32760, 6)\n",
      "FILTERED DATAFRAME SIZE:  (32760, 7)\n",
      "COMPLETE DATAFRAME SIZE:  (32760, 7)\n",
      "DIFFERENCE:  0\n",
      " \n",
      "DATAFRAME NAME:  coordinates_gis_osm_waterways_free_1.csv\n",
      "ORIGINAL DATAFRAME SIZE:  (98056, 7)\n",
      "FILTERED DATAFRAME SIZE:  (98056, 8)\n",
      "COMPLETE DATAFRAME SIZE:  (98056, 8)\n",
      "DIFFERENCE:  0\n",
      " \n",
      "DATAFRAME NAME:  coordinates_gis_osm_water_a_free_1.csv\n",
      "ORIGINAL DATAFRAME SIZE:  (30360, 6)\n",
      "FILTERED DATAFRAME SIZE:  (30360, 7)\n",
      "COMPLETE DATAFRAME SIZE:  (30360, 7)\n",
      "DIFFERENCE:  0\n",
      " \n"
     ]
    }
   ],
   "source": [
    "for df_name in completed_df_dict.keys():\n",
    "    print('DATAFRAME NAME: ', df_name)\n",
    "    print('ORIGINAL DATAFRAME SIZE: ', df_dict[df_name].shape)\n",
    "    print('FILTERED DATAFRAME SIZE: ', filtered_df_dict[df_name].shape)\n",
    "    print('COMPLETE DATAFRAME SIZE: ', completed_df_dict[df_name].shape)\n",
    "    print('DIFFERENCE: ', df_dict[df_name].shape[0] - completed_df_dict[df_name].shape[0])\n",
    "    print(' ')"
   ],
   "metadata": {
    "collapsed": false,
    "pycharm": {
     "name": "#%%\n"
    }
   }
  },
  {
   "cell_type": "code",
   "execution_count": 16,
   "outputs": [],
   "source": [
    "os.makedirs('filtered/', exist_ok=True)\n",
    "\n",
    "for df_name, df in completed_df_dict.items():\n",
    "\n",
    "    file_name = 'filtered_' + df_name[:-4] + '.csv'\n",
    "    df.to_csv('filtered/' + file_name)"
   ],
   "metadata": {
    "collapsed": false,
    "pycharm": {
     "name": "#%%\n"
    }
   }
  },
  {
   "cell_type": "code",
   "execution_count": 17,
   "outputs": [
    {
     "data": {
      "text/plain": "           osm_id  code fclass                        name        lon  \\\n0         4045604  8202  water                         NaN  12.488169   \n2         4477981  8202  water                         NaN  12.351897   \n4         4479546  8202  water        Canale dei Lavraneri  12.317752   \n6         4617487  8200  water  Canale de Sacca San Biagio  12.311209   \n8         4710677  8200  water                         NaN  12.260212   \n...           ...   ...    ...                         ...        ...   \n60710  1096835041  8200  water                         NaN  12.803509   \n60712    14005865  8202  water                         NaN  13.331644   \n60714  1097248505  8200  water                         NaN  12.994492   \n60716  1097248506  8200  water                         NaN  12.996450   \n60718  1097248507  8200  water                         NaN  12.996077   \n\n             lat  SELECT  \n0      44.944659  nature  \n2      45.429216  nature  \n4      45.427250  nature  \n6      45.426765  nature  \n8      45.497561  nature  \n...          ...     ...  \n60710  46.639118  nature  \n60712  46.064916  nature  \n60714  46.622447  nature  \n60716  46.622617  nature  \n60718  46.622447  nature  \n\n[30360 rows x 7 columns]",
      "text/html": "<div>\n<style scoped>\n    .dataframe tbody tr th:only-of-type {\n        vertical-align: middle;\n    }\n\n    .dataframe tbody tr th {\n        vertical-align: top;\n    }\n\n    .dataframe thead th {\n        text-align: right;\n    }\n</style>\n<table border=\"1\" class=\"dataframe\">\n  <thead>\n    <tr style=\"text-align: right;\">\n      <th></th>\n      <th>osm_id</th>\n      <th>code</th>\n      <th>fclass</th>\n      <th>name</th>\n      <th>lon</th>\n      <th>lat</th>\n      <th>SELECT</th>\n    </tr>\n  </thead>\n  <tbody>\n    <tr>\n      <th>0</th>\n      <td>4045604</td>\n      <td>8202</td>\n      <td>water</td>\n      <td>NaN</td>\n      <td>12.488169</td>\n      <td>44.944659</td>\n      <td>nature</td>\n    </tr>\n    <tr>\n      <th>2</th>\n      <td>4477981</td>\n      <td>8202</td>\n      <td>water</td>\n      <td>NaN</td>\n      <td>12.351897</td>\n      <td>45.429216</td>\n      <td>nature</td>\n    </tr>\n    <tr>\n      <th>4</th>\n      <td>4479546</td>\n      <td>8202</td>\n      <td>water</td>\n      <td>Canale dei Lavraneri</td>\n      <td>12.317752</td>\n      <td>45.427250</td>\n      <td>nature</td>\n    </tr>\n    <tr>\n      <th>6</th>\n      <td>4617487</td>\n      <td>8200</td>\n      <td>water</td>\n      <td>Canale de Sacca San Biagio</td>\n      <td>12.311209</td>\n      <td>45.426765</td>\n      <td>nature</td>\n    </tr>\n    <tr>\n      <th>8</th>\n      <td>4710677</td>\n      <td>8200</td>\n      <td>water</td>\n      <td>NaN</td>\n      <td>12.260212</td>\n      <td>45.497561</td>\n      <td>nature</td>\n    </tr>\n    <tr>\n      <th>...</th>\n      <td>...</td>\n      <td>...</td>\n      <td>...</td>\n      <td>...</td>\n      <td>...</td>\n      <td>...</td>\n      <td>...</td>\n    </tr>\n    <tr>\n      <th>60710</th>\n      <td>1096835041</td>\n      <td>8200</td>\n      <td>water</td>\n      <td>NaN</td>\n      <td>12.803509</td>\n      <td>46.639118</td>\n      <td>nature</td>\n    </tr>\n    <tr>\n      <th>60712</th>\n      <td>14005865</td>\n      <td>8202</td>\n      <td>water</td>\n      <td>NaN</td>\n      <td>13.331644</td>\n      <td>46.064916</td>\n      <td>nature</td>\n    </tr>\n    <tr>\n      <th>60714</th>\n      <td>1097248505</td>\n      <td>8200</td>\n      <td>water</td>\n      <td>NaN</td>\n      <td>12.994492</td>\n      <td>46.622447</td>\n      <td>nature</td>\n    </tr>\n    <tr>\n      <th>60716</th>\n      <td>1097248506</td>\n      <td>8200</td>\n      <td>water</td>\n      <td>NaN</td>\n      <td>12.996450</td>\n      <td>46.622617</td>\n      <td>nature</td>\n    </tr>\n    <tr>\n      <th>60718</th>\n      <td>1097248507</td>\n      <td>8200</td>\n      <td>water</td>\n      <td>NaN</td>\n      <td>12.996077</td>\n      <td>46.622447</td>\n      <td>nature</td>\n    </tr>\n  </tbody>\n</table>\n<p>30360 rows × 7 columns</p>\n</div>"
     },
     "execution_count": 17,
     "metadata": {},
     "output_type": "execute_result"
    }
   ],
   "source": [
    "completed_df_dict['coordinates_gis_osm_water_a_free_1.csv']"
   ],
   "metadata": {
    "collapsed": false,
    "pycharm": {
     "name": "#%%\n"
    }
   }
  }
 ],
 "metadata": {
  "kernelspec": {
   "display_name": "Python 3",
   "language": "python",
   "name": "python3"
  },
  "language_info": {
   "codemirror_mode": {
    "name": "ipython",
    "version": 2
   },
   "file_extension": ".py",
   "mimetype": "text/x-python",
   "name": "python",
   "nbconvert_exporter": "python",
   "pygments_lexer": "ipython2",
   "version": "2.7.6"
  }
 },
 "nbformat": 4,
 "nbformat_minor": 0
}