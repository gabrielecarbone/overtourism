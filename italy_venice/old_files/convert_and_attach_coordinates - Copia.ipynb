{
 "cells": [
  {
   "cell_type": "code",
   "execution_count": 1,
   "id": "4da79cee-0151-4c1a-8087-97a175a1e2d0",
   "metadata": {
    "pycharm": {
     "name": "#%%\n"
    }
   },
   "outputs": [],
   "source": [
    "import time\n",
    "import geojson\n",
    "import os\n",
    "\n",
    "import pandas as pd\n",
    "import numpy as np\n",
    "\n",
    "import osmapi as osm"
   ]
  },
  {
   "cell_type": "code",
   "execution_count": 2,
   "id": "b1e2a2bb-0285-4579-b31d-b57be393822d",
   "metadata": {
    "pycharm": {
     "name": "#%%\n"
    }
   },
   "outputs": [],
   "source": [
    "input_path = '../000-download_dbf/'\n",
    "csv_path = '../010-clean_dbs/elaborated/'\n",
    "\n",
    "iters = 50\n",
    "first_lat, first_lon = 45.25, 11.80\n",
    "second_lat, second_lon = 45.75, 12.80"
   ]
  },
  {
   "cell_type": "markdown",
   "source": [
    "**Import all the .dbf files in Pandas DataFrames**"
   ],
   "metadata": {
    "collapsed": false,
    "pycharm": {
     "name": "#%% md\n"
    }
   }
  },
  {
   "cell_type": "code",
   "execution_count": null,
   "outputs": [],
   "source": [
    "file_list = os.listdir(input_path)"
   ],
   "metadata": {
    "collapsed": false,
    "pycharm": {
     "name": "#%%\n"
    }
   }
  },
  {
   "cell_type": "code",
   "execution_count": null,
   "outputs": [],
   "source": [
    "df_dict = {}\n",
    "\n",
    "for file_name in file_list:\n",
    "\n",
    "    if file_name[-4:] == '.dbf':\n",
    "\n",
    "        dbf_path = path + '/' + file_name\n",
    "\n",
    "        df = Dbf5(dbf_path)\n",
    "\n",
    "        df = df.to_dataframe()\n",
    "\n",
    "        df_dict[file_name] = df"
   ],
   "metadata": {
    "collapsed": false,
    "pycharm": {
     "name": "#%%\n"
    }
   }
  },
  {
   "cell_type": "code",
   "execution_count": 3,
   "outputs": [],
   "source": [
    "\n",
    "df_dict = {}\n",
    "\n",
    "for file_name in file_list:\n",
    "\n",
    "    if file_name[-4:] == '.csv':\n",
    "\n",
    "        df_dict[file_name] = pd.read_csv(csv_path + file_name)\n",
    "\n",
    "        df_dict[file_name].drop('Unnamed: 0',\n",
    "                                axis = 1,\n",
    "                                inplace = True)"
   ],
   "metadata": {
    "collapsed": false,
    "pycharm": {
     "name": "#%%\n"
    }
   }
  },
  {
   "cell_type": "code",
   "execution_count": 4,
   "outputs": [],
   "source": [
    "diff_lat = abs(first_lat - second_lat)\n",
    "diff_lon = abs(first_lon - second_lon)\n",
    "\n",
    "lats = np.round(np.arange(first_lat, second_lat, diff_lat / iters),2)\n",
    "lons = np.round(np.arange(first_lon, second_lon, diff_lon / iters),2)"
   ],
   "metadata": {
    "collapsed": false,
    "pycharm": {
     "name": "#%%\n"
    }
   }
  },
  {
   "cell_type": "code",
   "execution_count": null,
   "id": "8e72f998-92a0-4d9b-99c0-dd3b84c71d7f",
   "metadata": {
    "pycharm": {
     "name": "#%%\n"
    }
   },
   "outputs": [],
   "source": [
    "# api.query(\"[out:json];node(45.286482,11.826096,45.707138,12.729721);out;\")"
   ]
  },
  {
   "cell_type": "code",
   "execution_count": null,
   "id": "db6cd613-f73a-441f-bfac-2b21003fe069",
   "metadata": {
    "pycharm": {
     "name": "#%%\n"
    }
   },
   "outputs": [
    {
     "name": "stdout",
     "output_type": "stream",
     "text": [
      "ITERATION:  100\n",
      "ITERATION:  300\n",
      "ITERATION:  800\n",
      "ITERATION:  900\n",
      "ITERATION:  1000\n",
      "ITERATION:  1100\n",
      "ITERATION:  1300\n",
      "ITERATION:  1400\n",
      "ITERATION:  1500\n",
      "ITERATION:  1700\n",
      "ITERATION:  1900\n",
      "ITERATION:  2100\n",
      "ITERATION:  2200\n",
      "ITERATION:  2400\n",
      "ITERATION:  2600\n",
      "ITERATION:  2700\n",
      "ITERATION:  2800\n",
      "ITERATION:  2900\n",
      "ITERATION:  3000\n",
      "ITERATION:  3200\n",
      "ITERATION:  3300\n",
      "ITERATION:  3500\n",
      "ITERATION:  3600\n",
      "ITERATION:  3700\n",
      "ITERATION:  3800\n",
      "ITERATION:  4000\n",
      "ITERATION:  4200\n",
      "ITERATION:  4300\n",
      "ITERATION:  4700\n",
      "ITERATION:  4800\n",
      "ITERATION:  5000\n",
      "ITERATION:  5100\n",
      "ITERATION:  5400\n",
      "ITERATION:  5500\n",
      "ITERATION:  100\n",
      "ITERATION:  200\n",
      "ITERATION:  2900\n",
      "ITERATION:  3000\n",
      "ITERATION:  3100\n",
      "ITERATION:  3200\n",
      "ITERATION:  3300\n",
      "ITERATION:  3400\n",
      "ITERATION:  3500\n",
      "ITERATION:  3600\n",
      "ITERATION:  3700\n",
      "ITERATION:  3800\n",
      "ITERATION:  3900\n",
      "ITERATION:  4000\n",
      "ITERATION:  4100\n",
      "ITERATION:  4200\n",
      "ITERATION:  4300\n",
      "ITERATION:  11300\n",
      "ITERATION:  11400\n",
      "ITERATION:  11500\n",
      "ITERATION:  11600\n",
      "ITERATION:  11700\n",
      "ITERATION:  11800\n",
      "ITERATION:  11900\n",
      "ITERATION:  12000\n",
      "ITERATION:  12100\n",
      "ITERATION:  12200\n",
      "ITERATION:  12300\n",
      "ITERATION:  12400\n",
      "ITERATION:  12500\n",
      "ITERATION:  100\n",
      "ITERATION:  300\n",
      "ITERATION:  600\n",
      "ITERATION:  1000\n",
      "ITERATION:  1100\n",
      "ITERATION:  1200\n",
      "ITERATION:  1500\n",
      "ITERATION:  1900\n",
      "ITERATION:  2200\n",
      "ITERATION:  2300\n",
      "ITERATION:  2400\n",
      "ITERATION:  2600\n",
      "ITERATION:  2700\n",
      "ITERATION:  2900\n",
      "ITERATION:  3100\n",
      "ITERATION:  3300\n",
      "ITERATION:  3400\n",
      "ITERATION:  3600\n",
      "ITERATION:  3700\n",
      "ITERATION:  3800\n",
      "ITERATION:  3900\n",
      "ITERATION:  4000\n",
      "ITERATION:  4100\n",
      "ITERATION:  4200\n",
      "ITERATION:  4700\n",
      "ITERATION:  5000\n",
      "ITERATION:  5100\n",
      "ITERATION:  5300\n",
      "ITERATION:  5400\n",
      "ITERATION:  5500\n"
     ]
    },
    {
     "name": "stderr",
     "output_type": "stream",
     "text": [
      "HTTPSConnectionPool(host='www.openstreetmap.org', port=443): Read timed out. (read timeout=None)\n"
     ]
    },
    {
     "name": "stdout",
     "output_type": "stream",
     "text": [
      "ITERATION:  5700\n",
      "ITERATION:  5800\n",
      "ITERATION:  6000\n",
      "ITERATION:  6200\n",
      "ITERATION:  6300\n",
      "ITERATION:  6500\n",
      "ITERATION:  6600\n",
      "ITERATION:  6800\n",
      "ITERATION:  6900\n",
      "ITERATION:  7000\n",
      "ITERATION:  7100\n",
      "ITERATION:  7400\n",
      "ITERATION:  7600\n",
      "ITERATION:  7700\n",
      "ITERATION:  7800\n",
      "ITERATION:  8300\n",
      "ITERATION:  8400\n",
      "ITERATION:  8500\n",
      "ITERATION:  8600\n",
      "ITERATION:  8900\n",
      "ITERATION:  9000\n",
      "ITERATION:  9500\n",
      "ITERATION:  9600\n",
      "ITERATION:  9800\n",
      "ITERATION:  9900\n",
      "ITERATION:  10200\n",
      "ITERATION:  10300\n",
      "ITERATION:  10700\n",
      "ITERATION:  11200\n",
      "ITERATION:  11300\n",
      "ITERATION:  11400\n",
      "ITERATION:  11500\n",
      "ITERATION:  12200\n",
      "ITERATION:  12500\n",
      "ITERATION:  12600\n",
      "ITERATION:  12700\n",
      "ITERATION:  13200\n",
      "ITERATION:  13300\n",
      "ITERATION:  13500\n",
      "ITERATION:  13800\n",
      "ITERATION:  13900\n",
      "ITERATION:  14100\n",
      "ITERATION:  14200\n",
      "ITERATION:  14600\n",
      "ITERATION:  15000\n",
      "ITERATION:  15200\n",
      "ITERATION:  15300\n",
      "ITERATION:  15400\n",
      "ITERATION:  15500\n",
      "ITERATION:  15800\n",
      "ITERATION:  3200\n",
      "ITERATION:  3300\n",
      "ITERATION:  3400\n",
      "ITERATION:  3500\n",
      "ITERATION:  3600\n",
      "ITERATION:  3700\n",
      "ITERATION:  3800\n",
      "ITERATION:  3900\n",
      "ITERATION:  4000\n",
      "ITERATION:  4100\n",
      "ITERATION:  4200\n",
      "ITERATION:  4300\n",
      "ITERATION:  4400\n",
      "ITERATION:  4500\n",
      "ITERATION:  4600\n",
      "ITERATION:  4700\n",
      "ITERATION:  4800\n",
      "ITERATION:  4900\n",
      "ITERATION:  5000\n",
      "ITERATION:  5100\n",
      "ITERATION:  5200\n",
      "ITERATION:  5300\n",
      "ITERATION:  5400\n",
      "ITERATION:  5500\n",
      "ITERATION:  5600\n",
      "ITERATION:  5700\n",
      "ITERATION:  5800\n",
      "ITERATION:  5900\n",
      "ITERATION:  6000\n",
      "ITERATION:  6100\n",
      "ITERATION:  6200\n",
      "ITERATION:  6300\n",
      "ITERATION:  6400\n",
      "ITERATION:  6500\n",
      "ITERATION:  6600\n",
      "ITERATION:  6700\n",
      "ITERATION:  6800\n",
      "ITERATION:  6900\n",
      "ITERATION:  7000\n",
      "ITERATION:  7100\n",
      "ITERATION:  7200\n",
      "ITERATION:  7300\n"
     ]
    }
   ],
   "source": [
    "api = osm.OsmApi()\n",
    "\n",
    "for df_name, df in df_dict.items():\n",
    "\n",
    "    osm_ids = df.osm_id.to_numpy()\n",
    "\n",
    "    lats, lons = np.zeros(osm_ids.shape), np.zeros(osm_ids.shape)\n",
    "\n",
    "    iteration = 0\n",
    "\n",
    "    for osm_id in osm_ids:\n",
    "\n",
    "        iteration += 1\n",
    "        if iteration % 100 == 0:\n",
    "            print('ITERATION: ', iteration)\n",
    "\n",
    "        if iteration % 1000 == 0:\n",
    "            time.sleep(120)\n",
    "\n",
    "        if iteration > osm_ids.shape[0]:\n",
    "            break\n",
    "\n",
    "        try:\n",
    "            node = api.NodeGet(osm_id)\n",
    "\n",
    "            lats[iteration] = node[\"lat\"]\n",
    "            lons[iteration] = node[\"lon\"]\n",
    "\n",
    "            iteration += 1\n",
    "\n",
    "        except:\n",
    "            pass\n",
    "\n",
    "    df['lat'] = lats\n",
    "    df['lon'] = lons"
   ]
  },
  {
   "cell_type": "code",
   "execution_count": null,
   "outputs": [],
   "source": [
    "os.makedirs('coordinates_/', exist_ok=True)\n",
    "\n",
    "for df_name, df in completed_df_dict.items():\n",
    "\n",
    "    file_name = 'coordinates_/' + df_name\n",
    "    df.to_csv('coordinates_/' + file_name)"
   ],
   "metadata": {
    "collapsed": false,
    "pycharm": {
     "name": "#%%\n"
    }
   }
  },
  {
   "cell_type": "markdown",
   "source": [
    "# USE THIS CODE"
   ],
   "metadata": {
    "collapsed": false,
    "pycharm": {
     "name": "#%% md\n"
    }
   }
  },
  {
   "cell_type": "code",
   "execution_count": 8,
   "outputs": [],
   "source": [
    "import geopandas as gpd"
   ],
   "metadata": {
    "collapsed": false,
    "pycharm": {
     "name": "#%%\n"
    }
   }
  },
  {
   "cell_type": "code",
   "execution_count": 12,
   "outputs": [
    {
     "name": "stdout",
     "output_type": "stream",
     "text": [
      "0        POINT (12.28767 45.50419)\n",
      "1        POINT (11.71640 44.34824)\n",
      "2        POINT (11.79393 45.07261)\n",
      "3        POINT (11.72433 44.37133)\n",
      "4        POINT (11.24391 46.13163)\n",
      "                   ...            \n",
      "11804    POINT (10.68663 45.60281)\n",
      "11805    POINT (10.81585 45.61040)\n",
      "11806    POINT (10.80970 45.76533)\n",
      "11807    POINT (11.27570 45.91478)\n",
      "11808    POINT (11.94543 44.17142)\n",
      "Length: 11809, dtype: geometry\n"
     ]
    }
   ],
   "source": [
    "shape = gpd.read_file(\"gis_osm_pofw_a_free_1.shp\")\n",
    "print(shape.centroid)"
   ],
   "metadata": {
    "collapsed": false,
    "pycharm": {
     "name": "#%%\n"
    }
   }
  }
 ],
 "metadata": {
  "kernelspec": {
   "display_name": "geo_env",
   "language": "python",
   "name": "geo_env"
  },
  "language_info": {
   "codemirror_mode": {
    "name": "ipython",
    "version": 3
   },
   "file_extension": ".py",
   "mimetype": "text/x-python",
   "name": "python",
   "nbconvert_exporter": "python",
   "pygments_lexer": "ipython3",
   "version": "3.10.4"
  }
 },
 "nbformat": 4,
 "nbformat_minor": 5
}