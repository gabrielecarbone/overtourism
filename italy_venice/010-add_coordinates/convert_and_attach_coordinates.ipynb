{
 "cells": [
  {
   "cell_type": "code",
   "execution_count": 1,
   "id": "4da79cee-0151-4c1a-8087-97a175a1e2d0",
   "metadata": {
    "pycharm": {
     "name": "#%%\n"
    }
   },
   "outputs": [
    {
     "name": "stderr",
     "output_type": "stream",
     "text": [
      "C:\\Users\\gabri\\anaconda3\\envs\\geo_env\\lib\\site-packages\\pyproj\\__init__.py:89: UserWarning: pyproj unable to set database path.\n",
      "  _pyproj_global_context_initialize()\n"
     ]
    },
    {
     "name": "stdout",
     "output_type": "stream",
     "text": [
      "PyTables is not installed. No support for HDF output.\n",
      "SQLalchemy is not installed. No support for SQL output.\n"
     ]
    }
   ],
   "source": [
    "import os\n",
    "import geopandas as gpd\n",
    "from simpledbf import Dbf5     # use this because it's much faster compared to the gpd function"
   ]
  },
  {
   "cell_type": "code",
   "execution_count": 5,
   "outputs": [
    {
     "name": "stdout",
     "output_type": "stream",
     "text": [
      "Collecting package metadata (current_repodata.json): ...working... done\n",
      "Solving environment: ...working... failed with initial frozen solve. Retrying with flexible solve.\n",
      "Solving environment: ...working... failed with repodata from current_repodata.json, will retry with next repodata source.\n",
      "Collecting package metadata (repodata.json): ...working... done\n",
      "Solving environment: ...working... done\n",
      "\n",
      "## Package Plan ##\n",
      "\n",
      "  environment location: C:\\Users\\gabri\\anaconda3\\envs\\geo_env\n",
      "\n",
      "  added / updated specs:\n",
      "    - pyproj\n",
      "\n",
      "\n",
      "The following packages will be downloaded:\n",
      "\n",
      "    package                    |            build\n",
      "    ---------------------------|-----------------\n",
      "    certifi-2022.9.14          |  py310haa95532_0         155 KB\n",
      "    numpy-1.22.3               |  py310h6d2d95c_0          25 KB\n",
      "    numpy-base-1.22.3          |  py310h206c741_0         4.9 MB\n",
      "    ------------------------------------------------------------\n",
      "                                           Total:         5.0 MB\n",
      "\n",
      "The following packages will be UPDATED:\n",
      "\n",
      "  certifi                         2022.6.15-py310haa95532_0 --> 2022.9.14-py310haa95532_0\n",
      "\n",
      "The following packages will be DOWNGRADED:\n",
      "\n",
      "  numpy                              1.23.1-py310h6d2d95c_0 --> 1.22.3-py310h6d2d95c_0\n",
      "  numpy-base                         1.23.1-py310h206c741_0 --> 1.22.3-py310h206c741_0\n",
      "\n",
      "\n",
      "\n",
      "Downloading and Extracting Packages\n",
      "\n",
      "numpy-1.22.3         | 25 KB     |            |   0% \n",
      "numpy-1.22.3         | 25 KB     | ######3    |  63% \n",
      "numpy-1.22.3         | 25 KB     | ########## | 100% \n",
      "\n",
      "numpy-base-1.22.3    | 4.9 MB    |            |   0% \n",
      "numpy-base-1.22.3    | 4.9 MB    | 4          |   5% \n",
      "numpy-base-1.22.3    | 4.9 MB    | 9          |  10% \n",
      "numpy-base-1.22.3    | 4.9 MB    | #6         |  16% \n",
      "numpy-base-1.22.3    | 4.9 MB    | ##3        |  24% \n",
      "numpy-base-1.22.3    | 4.9 MB    | ###        |  30% \n",
      "numpy-base-1.22.3    | 4.9 MB    | ###8       |  38% \n",
      "numpy-base-1.22.3    | 4.9 MB    | ####6      |  46% \n",
      "numpy-base-1.22.3    | 4.9 MB    | #####4     |  55% \n",
      "\n",
      "Note: you may need to restart the kernel to use updated packages.\n"
     ]
    },
    {
     "name": "stderr",
     "output_type": "stream",
     "text": [
      "\n",
      "\n",
      "==> WARNING: A newer version of conda exists. <==\n",
      "  current version: 4.14.0\n",
      "  latest version: 22.9.0\n",
      "\n",
      "Please update conda by running\n",
      "\n",
      "    $ conda update -n base -c defaults conda\n",
      "\n",
      "\n"
     ]
    },
    {
     "name": "stdout",
     "output_type": "stream",
     "text": [
      "numpy-base-1.22.3    | 4.9 MB    | ######4    |  64% \n",
      "numpy-base-1.22.3    | 4.9 MB    | #######4   |  74% \n",
      "numpy-base-1.22.3    | 4.9 MB    | ########4  |  84% \n",
      "numpy-base-1.22.3    | 4.9 MB    | #########4 |  95% \n",
      "numpy-base-1.22.3    | 4.9 MB    | ########## | 100% \n",
      "\n",
      "certifi-2022.9.14    | 155 KB    |            |   0% \n",
      "certifi-2022.9.14    | 155 KB    | ########## | 100% \n",
      "certifi-2022.9.14    | 155 KB    | ########## | 100% \n",
      "Preparing transaction: ...working... done\n",
      "Verifying transaction: ...working... done\n",
      "Executing transaction: ...working... done\n",
      "Retrieving notices: ...working... done\n"
     ]
    }
   ],
   "source": [
    "conda install pyproj"
   ],
   "metadata": {
    "collapsed": false,
    "pycharm": {
     "name": "#%%\n"
    }
   }
  },
  {
   "cell_type": "code",
   "execution_count": 2,
   "id": "b1e2a2bb-0285-4579-b31d-b57be393822d",
   "metadata": {
    "pycharm": {
     "name": "#%%\n"
    }
   },
   "outputs": [],
   "source": [
    "input_path = '../000-download_dbf/'\n",
    "\n",
    "file_list = os.listdir(input_path)"
   ]
  },
  {
   "cell_type": "code",
   "execution_count": 3,
   "outputs": [
    {
     "name": "stdout",
     "output_type": "stream",
     "text": [
      "Importing DataFrame:  gis_osm_buildings_a_free_1  of shape  (4580168, 5)\n",
      "Importing DataFrame:  gis_osm_landuse_a_free_1  of shape  (536191, 4)\n",
      "Importing DataFrame:  gis_osm_natural_a_free_1  of shape  (1205, 4)\n",
      "Importing DataFrame:  gis_osm_natural_free_1  of shape  (325604, 4)\n",
      "Importing DataFrame:  gis_osm_places_a_free_1  of shape  (678, 5)\n",
      "Importing DataFrame:  gis_osm_places_free_1  of shape  (34542, 5)\n",
      "Importing DataFrame:  gis_osm_pofw_a_free_1  of shape  (11847, 4)\n",
      "Importing DataFrame:  gis_osm_pofw_free_1  of shape  (1277, 4)\n",
      "Importing DataFrame:  gis_osm_pois_a_free_1  of shape  (93073, 4)\n",
      "Importing DataFrame:  gis_osm_pois_free_1  of shape  (196142, 4)\n",
      "Importing DataFrame:  gis_osm_railways_free_1  of shape  (16966, 7)\n",
      "Importing DataFrame:  gis_osm_roads_free_1  of shape  (1270082, 10)\n",
      "Importing DataFrame:  gis_osm_traffic_a_free_1  of shape  (56923, 4)\n",
      "Importing DataFrame:  gis_osm_traffic_free_1  of shape  (143927, 4)\n",
      "Importing DataFrame:  gis_osm_transport_a_free_1  of shape  (911, 4)\n",
      "Importing DataFrame:  gis_osm_transport_free_1  of shape  (32760, 4)\n",
      "Importing DataFrame:  gis_osm_waterways_free_1  of shape  (98056, 5)\n",
      "Importing DataFrame:  gis_osm_water_a_free_1  of shape  (30360, 4)\n"
     ]
    }
   ],
   "source": [
    "# IMPORT ALL THE DATABASES INTO PANDAS DATAFRAMES\n",
    "\n",
    "df_dict = {}\n",
    "\n",
    "for file_name in file_list:\n",
    "\n",
    "    if file_name[-4:] == '.dbf':\n",
    "\n",
    "        dbf_path = input_path + '/' + file_name\n",
    "\n",
    "        dbf = Dbf5(dbf_path)\n",
    "\n",
    "        df = dbf.to_dataframe()\n",
    "\n",
    "        df_dict[file_name] = df\n",
    "\n",
    "        print('Importing DataFrame: ', file_name[:-4], ' of shape ', df.shape)"
   ],
   "metadata": {
    "collapsed": false,
    "pycharm": {
     "name": "#%%\n"
    }
   }
  },
  {
   "cell_type": "code",
   "execution_count": 10,
   "outputs": [
    {
     "name": "stdout",
     "output_type": "stream",
     "text": [
      "Starting finding coordinates for  gis_osm_buildings_a_free_1  of shape  (4580168, 5)\n"
     ]
    },
    {
     "name": "stderr",
     "output_type": "stream",
     "text": [
      "C:\\Users\\gabri\\AppData\\Local\\Temp\\ipykernel_26556\\1603868372.py:13: UserWarning: Geometry is in a geographic CRS. Results from 'centroid' are likely incorrect. Use 'GeoSeries.to_crs()' to re-project geometries to a projected CRS before this operation.\n",
      "\n",
      "  centroids = shp_series.centroid\n"
     ]
    },
    {
     "name": "stdout",
     "output_type": "stream",
     "text": [
      "Added coordinates to  gis_osm_buildings_a_free_1 , now shape is  (4580168, 7)\n",
      "Starting finding coordinates for  gis_osm_landuse_a_free_1  of shape  (536191, 4)\n"
     ]
    },
    {
     "name": "stderr",
     "output_type": "stream",
     "text": [
      "C:\\Users\\gabri\\AppData\\Local\\Temp\\ipykernel_26556\\1603868372.py:13: UserWarning: Geometry is in a geographic CRS. Results from 'centroid' are likely incorrect. Use 'GeoSeries.to_crs()' to re-project geometries to a projected CRS before this operation.\n",
      "\n",
      "  centroids = shp_series.centroid\n"
     ]
    },
    {
     "name": "stdout",
     "output_type": "stream",
     "text": [
      "Added coordinates to  gis_osm_landuse_a_free_1 , now shape is  (536191, 6)\n",
      "Starting finding coordinates for  gis_osm_natural_a_free_1  of shape  (1205, 4)\n"
     ]
    },
    {
     "name": "stderr",
     "output_type": "stream",
     "text": [
      "C:\\Users\\gabri\\AppData\\Local\\Temp\\ipykernel_26556\\1603868372.py:13: UserWarning: Geometry is in a geographic CRS. Results from 'centroid' are likely incorrect. Use 'GeoSeries.to_crs()' to re-project geometries to a projected CRS before this operation.\n",
      "\n",
      "  centroids = shp_series.centroid\n"
     ]
    },
    {
     "name": "stdout",
     "output_type": "stream",
     "text": [
      "Added coordinates to  gis_osm_natural_a_free_1 , now shape is  (1205, 6)\n",
      "Starting finding coordinates for  gis_osm_natural_free_1  of shape  (325604, 4)\n"
     ]
    },
    {
     "name": "stderr",
     "output_type": "stream",
     "text": [
      "C:\\Users\\gabri\\AppData\\Local\\Temp\\ipykernel_26556\\1603868372.py:13: UserWarning: Geometry is in a geographic CRS. Results from 'centroid' are likely incorrect. Use 'GeoSeries.to_crs()' to re-project geometries to a projected CRS before this operation.\n",
      "\n",
      "  centroids = shp_series.centroid\n"
     ]
    },
    {
     "name": "stdout",
     "output_type": "stream",
     "text": [
      "Added coordinates to  gis_osm_natural_free_1 , now shape is  (325604, 6)\n",
      "Starting finding coordinates for  gis_osm_places_a_free_1  of shape  (678, 5)\n"
     ]
    },
    {
     "name": "stderr",
     "output_type": "stream",
     "text": [
      "C:\\Users\\gabri\\AppData\\Local\\Temp\\ipykernel_26556\\1603868372.py:13: UserWarning: Geometry is in a geographic CRS. Results from 'centroid' are likely incorrect. Use 'GeoSeries.to_crs()' to re-project geometries to a projected CRS before this operation.\n",
      "\n",
      "  centroids = shp_series.centroid\n"
     ]
    },
    {
     "name": "stdout",
     "output_type": "stream",
     "text": [
      "Added coordinates to  gis_osm_places_a_free_1 , now shape is  (678, 7)\n",
      "Starting finding coordinates for  gis_osm_places_free_1  of shape  (34542, 5)\n"
     ]
    },
    {
     "name": "stderr",
     "output_type": "stream",
     "text": [
      "C:\\Users\\gabri\\AppData\\Local\\Temp\\ipykernel_26556\\1603868372.py:13: UserWarning: Geometry is in a geographic CRS. Results from 'centroid' are likely incorrect. Use 'GeoSeries.to_crs()' to re-project geometries to a projected CRS before this operation.\n",
      "\n",
      "  centroids = shp_series.centroid\n"
     ]
    },
    {
     "name": "stdout",
     "output_type": "stream",
     "text": [
      "Added coordinates to  gis_osm_places_free_1 , now shape is  (34542, 7)\n",
      "Starting finding coordinates for  gis_osm_pofw_a_free_1  of shape  (11847, 4)\n"
     ]
    },
    {
     "name": "stderr",
     "output_type": "stream",
     "text": [
      "C:\\Users\\gabri\\AppData\\Local\\Temp\\ipykernel_26556\\1603868372.py:13: UserWarning: Geometry is in a geographic CRS. Results from 'centroid' are likely incorrect. Use 'GeoSeries.to_crs()' to re-project geometries to a projected CRS before this operation.\n",
      "\n",
      "  centroids = shp_series.centroid\n"
     ]
    },
    {
     "name": "stdout",
     "output_type": "stream",
     "text": [
      "Added coordinates to  gis_osm_pofw_a_free_1 , now shape is  (11847, 6)\n",
      "Starting finding coordinates for  gis_osm_pofw_free_1  of shape  (1277, 4)\n"
     ]
    },
    {
     "name": "stderr",
     "output_type": "stream",
     "text": [
      "C:\\Users\\gabri\\AppData\\Local\\Temp\\ipykernel_26556\\1603868372.py:13: UserWarning: Geometry is in a geographic CRS. Results from 'centroid' are likely incorrect. Use 'GeoSeries.to_crs()' to re-project geometries to a projected CRS before this operation.\n",
      "\n",
      "  centroids = shp_series.centroid\n"
     ]
    },
    {
     "name": "stdout",
     "output_type": "stream",
     "text": [
      "Added coordinates to  gis_osm_pofw_free_1 , now shape is  (1277, 6)\n",
      "Starting finding coordinates for  gis_osm_pois_a_free_1  of shape  (93073, 4)\n"
     ]
    },
    {
     "name": "stderr",
     "output_type": "stream",
     "text": [
      "C:\\Users\\gabri\\AppData\\Local\\Temp\\ipykernel_26556\\1603868372.py:13: UserWarning: Geometry is in a geographic CRS. Results from 'centroid' are likely incorrect. Use 'GeoSeries.to_crs()' to re-project geometries to a projected CRS before this operation.\n",
      "\n",
      "  centroids = shp_series.centroid\n"
     ]
    },
    {
     "name": "stdout",
     "output_type": "stream",
     "text": [
      "Added coordinates to  gis_osm_pois_a_free_1 , now shape is  (93073, 6)\n",
      "Starting finding coordinates for  gis_osm_pois_free_1  of shape  (196142, 4)\n"
     ]
    },
    {
     "name": "stderr",
     "output_type": "stream",
     "text": [
      "C:\\Users\\gabri\\AppData\\Local\\Temp\\ipykernel_26556\\1603868372.py:13: UserWarning: Geometry is in a geographic CRS. Results from 'centroid' are likely incorrect. Use 'GeoSeries.to_crs()' to re-project geometries to a projected CRS before this operation.\n",
      "\n",
      "  centroids = shp_series.centroid\n"
     ]
    },
    {
     "name": "stdout",
     "output_type": "stream",
     "text": [
      "Added coordinates to  gis_osm_pois_free_1 , now shape is  (196142, 6)\n",
      "Starting finding coordinates for  gis_osm_railways_free_1  of shape  (16966, 7)\n"
     ]
    },
    {
     "name": "stderr",
     "output_type": "stream",
     "text": [
      "C:\\Users\\gabri\\AppData\\Local\\Temp\\ipykernel_26556\\1603868372.py:13: UserWarning: Geometry is in a geographic CRS. Results from 'centroid' are likely incorrect. Use 'GeoSeries.to_crs()' to re-project geometries to a projected CRS before this operation.\n",
      "\n",
      "  centroids = shp_series.centroid\n"
     ]
    },
    {
     "name": "stdout",
     "output_type": "stream",
     "text": [
      "Added coordinates to  gis_osm_railways_free_1 , now shape is  (16966, 9)\n",
      "Starting finding coordinates for  gis_osm_roads_free_1  of shape  (1270082, 10)\n"
     ]
    },
    {
     "name": "stderr",
     "output_type": "stream",
     "text": [
      "C:\\Users\\gabri\\AppData\\Local\\Temp\\ipykernel_26556\\1603868372.py:13: UserWarning: Geometry is in a geographic CRS. Results from 'centroid' are likely incorrect. Use 'GeoSeries.to_crs()' to re-project geometries to a projected CRS before this operation.\n",
      "\n",
      "  centroids = shp_series.centroid\n"
     ]
    },
    {
     "name": "stdout",
     "output_type": "stream",
     "text": [
      "Added coordinates to  gis_osm_roads_free_1 , now shape is  (1270082, 12)\n",
      "Starting finding coordinates for  gis_osm_traffic_a_free_1  of shape  (56923, 4)\n"
     ]
    },
    {
     "name": "stderr",
     "output_type": "stream",
     "text": [
      "C:\\Users\\gabri\\AppData\\Local\\Temp\\ipykernel_26556\\1603868372.py:13: UserWarning: Geometry is in a geographic CRS. Results from 'centroid' are likely incorrect. Use 'GeoSeries.to_crs()' to re-project geometries to a projected CRS before this operation.\n",
      "\n",
      "  centroids = shp_series.centroid\n"
     ]
    },
    {
     "name": "stdout",
     "output_type": "stream",
     "text": [
      "Added coordinates to  gis_osm_traffic_a_free_1 , now shape is  (56923, 6)\n",
      "Starting finding coordinates for  gis_osm_traffic_free_1  of shape  (143927, 4)\n"
     ]
    },
    {
     "name": "stderr",
     "output_type": "stream",
     "text": [
      "C:\\Users\\gabri\\AppData\\Local\\Temp\\ipykernel_26556\\1603868372.py:13: UserWarning: Geometry is in a geographic CRS. Results from 'centroid' are likely incorrect. Use 'GeoSeries.to_crs()' to re-project geometries to a projected CRS before this operation.\n",
      "\n",
      "  centroids = shp_series.centroid\n"
     ]
    },
    {
     "name": "stdout",
     "output_type": "stream",
     "text": [
      "Added coordinates to  gis_osm_traffic_free_1 , now shape is  (143927, 6)\n",
      "Starting finding coordinates for  gis_osm_transport_a_free_1  of shape  (911, 4)\n"
     ]
    },
    {
     "name": "stderr",
     "output_type": "stream",
     "text": [
      "C:\\Users\\gabri\\AppData\\Local\\Temp\\ipykernel_26556\\1603868372.py:13: UserWarning: Geometry is in a geographic CRS. Results from 'centroid' are likely incorrect. Use 'GeoSeries.to_crs()' to re-project geometries to a projected CRS before this operation.\n",
      "\n",
      "  centroids = shp_series.centroid\n"
     ]
    },
    {
     "name": "stdout",
     "output_type": "stream",
     "text": [
      "Added coordinates to  gis_osm_transport_a_free_1 , now shape is  (911, 6)\n",
      "Starting finding coordinates for  gis_osm_transport_free_1  of shape  (32760, 4)\n"
     ]
    },
    {
     "name": "stderr",
     "output_type": "stream",
     "text": [
      "C:\\Users\\gabri\\AppData\\Local\\Temp\\ipykernel_26556\\1603868372.py:13: UserWarning: Geometry is in a geographic CRS. Results from 'centroid' are likely incorrect. Use 'GeoSeries.to_crs()' to re-project geometries to a projected CRS before this operation.\n",
      "\n",
      "  centroids = shp_series.centroid\n"
     ]
    },
    {
     "name": "stdout",
     "output_type": "stream",
     "text": [
      "Added coordinates to  gis_osm_transport_free_1 , now shape is  (32760, 6)\n",
      "Starting finding coordinates for  gis_osm_waterways_free_1  of shape  (98056, 5)\n"
     ]
    },
    {
     "name": "stderr",
     "output_type": "stream",
     "text": [
      "C:\\Users\\gabri\\AppData\\Local\\Temp\\ipykernel_26556\\1603868372.py:13: UserWarning: Geometry is in a geographic CRS. Results from 'centroid' are likely incorrect. Use 'GeoSeries.to_crs()' to re-project geometries to a projected CRS before this operation.\n",
      "\n",
      "  centroids = shp_series.centroid\n"
     ]
    },
    {
     "name": "stdout",
     "output_type": "stream",
     "text": [
      "Added coordinates to  gis_osm_waterways_free_1 , now shape is  (98056, 7)\n",
      "Starting finding coordinates for  gis_osm_water_a_free_1  of shape  (30360, 4)\n"
     ]
    },
    {
     "name": "stderr",
     "output_type": "stream",
     "text": [
      "C:\\Users\\gabri\\AppData\\Local\\Temp\\ipykernel_26556\\1603868372.py:13: UserWarning: Geometry is in a geographic CRS. Results from 'centroid' are likely incorrect. Use 'GeoSeries.to_crs()' to re-project geometries to a projected CRS before this operation.\n",
      "\n",
      "  centroids = shp_series.centroid\n"
     ]
    },
    {
     "name": "stdout",
     "output_type": "stream",
     "text": [
      "Added coordinates to  gis_osm_water_a_free_1 , now shape is  (30360, 6)\n"
     ]
    }
   ],
   "source": [
    "# ADD THE COORDINATES TO THE DATAFRAMES USING CORRESPONDING SHP FILES\n",
    "\n",
    "for df_name, df in df_dict.items():\n",
    "\n",
    "    print('Starting finding coordinates for ', df_name[:-4], ' of shape ', df.shape)\n",
    "\n",
    "    shp_path = input_path + '/' + df_name[:-4] + '.shp'\n",
    "\n",
    "    shp_series = gpd.read_file(shp_path)\n",
    "\n",
    "    # project_shp_series = shp_series.to_crs(4326)\n",
    "\n",
    "    centroids = shp_series.centroid\n",
    "\n",
    "    df['lon'] = centroids.geometry.x\n",
    "    df['lat'] = centroids.geometry.y\n",
    "\n",
    "    print('Added coordinates to ', df_name[:-4], ', now shape is ', df.shape )"
   ],
   "metadata": {
    "collapsed": false,
    "pycharm": {
     "name": "#%%\n"
    }
   }
  },
  {
   "cell_type": "code",
   "execution_count": 11,
   "outputs": [],
   "source": [
    "# SAVE THE RESULTS IN SEPARATE CSV FILES\n",
    "\n",
    "os.makedirs('coordinates/', exist_ok=True)\n",
    "\n",
    "for df_name, df in df_dict.items():\n",
    "\n",
    "    file_name = 'coordinates_' + df_name[:-4] + '.csv'\n",
    "    df.to_csv('coordinates/' + file_name)"
   ],
   "metadata": {
    "collapsed": false,
    "pycharm": {
     "name": "#%%\n"
    }
   }
  }
 ],
 "metadata": {
  "kernelspec": {
   "display_name": "geo_env",
   "language": "python",
   "name": "geo_env"
  },
  "language_info": {
   "codemirror_mode": {
    "name": "ipython",
    "version": 3
   },
   "file_extension": ".py",
   "mimetype": "text/x-python",
   "name": "python",
   "nbconvert_exporter": "python",
   "pygments_lexer": "ipython3",
   "version": "3.10.4"
  }
 },
 "nbformat": 4,
 "nbformat_minor": 5
}