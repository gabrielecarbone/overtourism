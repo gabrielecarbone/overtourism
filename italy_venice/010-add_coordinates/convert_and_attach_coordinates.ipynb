{
 "cells": [
  {
   "cell_type": "code",
   "execution_count": 1,
   "id": "4da79cee-0151-4c1a-8087-97a175a1e2d0",
   "metadata": {
    "pycharm": {
     "name": "#%%\n"
    }
   },
   "outputs": [
    {
     "name": "stdout",
     "output_type": "stream",
     "text": [
      "PyTables is not installed. No support for HDF output.\n",
      "SQLalchemy is not installed. No support for SQL output.\n"
     ]
    }
   ],
   "source": [
    "import os\n",
    "import geopandas as gpd\n",
    "from simpledbf import Dbf5     # use this because it's much faster compared to the gpd function"
   ]
  },
  {
   "cell_type": "code",
   "execution_count": 2,
   "id": "b1e2a2bb-0285-4579-b31d-b57be393822d",
   "metadata": {
    "pycharm": {
     "name": "#%%\n"
    }
   },
   "outputs": [],
   "source": [
    "input_path = '../000-download_dbf/'\n",
    "\n",
    "file_list = os.listdir(input_path)"
   ]
  },
  {
   "cell_type": "code",
   "execution_count": 3,
   "outputs": [
    {
     "name": "stdout",
     "output_type": "stream",
     "text": [
      "Import DataFrame:  gis_osm_buildings_a_free_1  of shape  (4576030, 5)\n",
      "Import DataFrame:  gis_osm_landuse_a_free_1  of shape  (529284, 4)\n",
      "Import DataFrame:  gis_osm_natural_a_free_1  of shape  (1198, 4)\n",
      "Import DataFrame:  gis_osm_natural_free_1  of shape  (323206, 4)\n",
      "Import DataFrame:  gis_osm_places_a_free_1  of shape  (672, 5)\n",
      "Import DataFrame:  gis_osm_places_free_1  of shape  (34338, 5)\n",
      "Import DataFrame:  gis_osm_pofw_a_free_1  of shape  (11809, 4)\n",
      "Import DataFrame:  gis_osm_pofw_free_1  of shape  (1276, 4)\n",
      "Import DataFrame:  gis_osm_pois_a_free_1  of shape  (92330, 4)\n",
      "Import DataFrame:  gis_osm_pois_free_1  of shape  (191061, 4)\n",
      "Import DataFrame:  gis_osm_railways_free_1  of shape  (16924, 7)\n",
      "Import DataFrame:  gis_osm_roads_free_1  of shape  (1260180, 10)\n",
      "Import DataFrame:  gis_osm_traffic_a_free_1  of shape  (56236, 4)\n",
      "Import DataFrame:  gis_osm_traffic_free_1  of shape  (141234, 4)\n",
      "Import DataFrame:  gis_osm_transport_a_free_1  of shape  (910, 4)\n",
      "Import DataFrame:  gis_osm_transport_free_1  of shape  (32558, 4)\n",
      "Import DataFrame:  gis_osm_waterways_free_1  of shape  (97467, 5)\n",
      "Import DataFrame:  gis_osm_water_a_free_1  of shape  (30178, 4)\n"
     ]
    }
   ],
   "source": [
    "# IMPORT ALL THE DATABASES INTO PANDAS DATAFRAMES\n",
    "\n",
    "df_dict = {}\n",
    "\n",
    "for file_name in file_list:\n",
    "\n",
    "    if file_name[-4:] == '.dbf':\n",
    "\n",
    "        dbf_path = input_path + '/' + file_name\n",
    "\n",
    "        dbf = Dbf5(dbf_path)\n",
    "\n",
    "        df = dbf.to_dataframe()\n",
    "\n",
    "        df_dict[file_name] = df\n",
    "\n",
    "        print('Importing DataFrame: ', file_name[:-4], ' of shape ', df.shape)"
   ],
   "metadata": {
    "collapsed": false,
    "pycharm": {
     "name": "#%%\n"
    }
   }
  },
  {
   "cell_type": "code",
   "execution_count": 5,
   "outputs": [
    {
     "name": "stdout",
     "output_type": "stream",
     "text": [
      "Starting finding coordinates for  gis_osm_buildings_a_free_1  of shape  (4576030, 5)\n",
      "Added coordinates to  gis_osm_buildings_a_free_1 , now shape is  (4576030, 7)\n",
      "Starting finding coordinates for  gis_osm_landuse_a_free_1  of shape  (529284, 4)\n",
      "Added coordinates to  gis_osm_landuse_a_free_1 , now shape is  (529284, 6)\n",
      "Starting finding coordinates for  gis_osm_natural_a_free_1  of shape  (1198, 4)\n",
      "Added coordinates to  gis_osm_natural_a_free_1 , now shape is  (1198, 6)\n",
      "Starting finding coordinates for  gis_osm_natural_free_1  of shape  (323206, 4)\n",
      "Added coordinates to  gis_osm_natural_free_1 , now shape is  (323206, 6)\n",
      "Starting finding coordinates for  gis_osm_places_a_free_1  of shape  (672, 5)\n",
      "Added coordinates to  gis_osm_places_a_free_1 , now shape is  (672, 7)\n",
      "Starting finding coordinates for  gis_osm_places_free_1  of shape  (34338, 5)\n",
      "Added coordinates to  gis_osm_places_free_1 , now shape is  (34338, 7)\n",
      "Starting finding coordinates for  gis_osm_pofw_a_free_1  of shape  (11809, 4)\n",
      "Added coordinates to  gis_osm_pofw_a_free_1 , now shape is  (11809, 6)\n",
      "Starting finding coordinates for  gis_osm_pofw_free_1  of shape  (1276, 4)\n",
      "Added coordinates to  gis_osm_pofw_free_1 , now shape is  (1276, 6)\n",
      "Starting finding coordinates for  gis_osm_pois_a_free_1  of shape  (92330, 4)\n",
      "Added coordinates to  gis_osm_pois_a_free_1 , now shape is  (92330, 6)\n",
      "Starting finding coordinates for  gis_osm_pois_free_1  of shape  (191061, 4)\n",
      "Added coordinates to  gis_osm_pois_free_1 , now shape is  (191061, 6)\n",
      "Starting finding coordinates for  gis_osm_railways_free_1  of shape  (16924, 7)\n",
      "Added coordinates to  gis_osm_railways_free_1 , now shape is  (16924, 9)\n",
      "Starting finding coordinates for  gis_osm_roads_free_1  of shape  (1260180, 10)\n",
      "Added coordinates to  gis_osm_roads_free_1 , now shape is  (1260180, 12)\n",
      "Starting finding coordinates for  gis_osm_traffic_a_free_1  of shape  (56236, 4)\n",
      "Added coordinates to  gis_osm_traffic_a_free_1 , now shape is  (56236, 6)\n",
      "Starting finding coordinates for  gis_osm_traffic_free_1  of shape  (141234, 4)\n",
      "Added coordinates to  gis_osm_traffic_free_1 , now shape is  (141234, 6)\n",
      "Starting finding coordinates for  gis_osm_transport_a_free_1  of shape  (910, 4)\n",
      "Added coordinates to  gis_osm_transport_a_free_1 , now shape is  (910, 6)\n",
      "Starting finding coordinates for  gis_osm_transport_free_1  of shape  (32558, 4)\n",
      "Added coordinates to  gis_osm_transport_free_1 , now shape is  (32558, 6)\n",
      "Starting finding coordinates for  gis_osm_waterways_free_1  of shape  (97467, 5)\n",
      "Added coordinates to  gis_osm_waterways_free_1 , now shape is  (97467, 7)\n",
      "Starting finding coordinates for  gis_osm_water_a_free_1  of shape  (30178, 4)\n",
      "Added coordinates to  gis_osm_water_a_free_1 , now shape is  (30178, 6)\n"
     ]
    }
   ],
   "source": [
    "# ADD THE COORDINATES TO THE DATAFRAMES USING CORRESPONDING SHP FILES\n",
    "\n",
    "for df_name, df in df_dict.items():\n",
    "\n",
    "    print('Starting finding coordinates for ', df_name[:-4], ' of shape ', df.shape)\n",
    "\n",
    "    shp_path = input_path + '/' + df_name[:-4] + '.shp'\n",
    "\n",
    "    shp_series = gpd.read_file(shp_path)\n",
    "\n",
    "    project_shp_series = shp_series.to_crs(\"epsg:4087\")\n",
    "\n",
    "    centroids = project_shp_series.centroid\n",
    "\n",
    "    df['lon'] = centroids.geometry.x\n",
    "    df['lat'] = centroids.geometry.y\n",
    "\n",
    "    print('Added coordinates to ', df_name[:-4], ', now shape is ', df.shape )"
   ],
   "metadata": {
    "collapsed": false,
    "pycharm": {
     "name": "#%%\n"
    }
   }
  },
  {
   "cell_type": "code",
   "execution_count": 8,
   "outputs": [],
   "source": [
    "# SAVE THE RESULTS IN SEPARATE CSV FILES\n",
    "\n",
    "os.makedirs('coordinates/', exist_ok=True)\n",
    "\n",
    "for df_name, df in df_dict.items():\n",
    "\n",
    "    file_name = 'coordinates_' + df_name[:-4] + '.csv'\n",
    "    df.to_csv('coordinates/' + file_name)"
   ],
   "metadata": {
    "collapsed": false,
    "pycharm": {
     "name": "#%%\n"
    }
   }
  }
 ],
 "metadata": {
  "kernelspec": {
   "display_name": "geo_env",
   "language": "python",
   "name": "geo_env"
  },
  "language_info": {
   "codemirror_mode": {
    "name": "ipython",
    "version": 3
   },
   "file_extension": ".py",
   "mimetype": "text/x-python",
   "name": "python",
   "nbconvert_exporter": "python",
   "pygments_lexer": "ipython3",
   "version": "3.10.4"
  }
 },
 "nbformat": 4,
 "nbformat_minor": 5
}