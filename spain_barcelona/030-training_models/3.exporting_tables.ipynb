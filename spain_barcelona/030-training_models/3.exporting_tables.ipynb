{
 "cells": [
  {
   "cell_type": "code",
   "execution_count": null,
   "metadata": {
    "pycharm": {
     "name": "#%%\n"
    }
   },
   "outputs": [],
   "source": [
    "import geopandas as gpd\n",
    "from shapely.geometry import Polygon\n",
    "import numpy as np"
   ]
  },
  {
   "cell_type": "code",
   "execution_count": null,
   "metadata": {
    "pycharm": {
     "name": "#%%\n"
    }
   },
   "outputs": [],
   "source": [
    "gdf = gpd.read_file('1.filtered_df.csv')\n",
    "gdf"
   ]
  },
  {
   "cell_type": "code",
   "execution_count": null,
   "metadata": {
    "pycharm": {
     "name": "#%%\n"
    }
   },
   "outputs": [],
   "source": [
    "columns_to_normalize = ['nature', 'entertainment', 'transports', 'art', 'sport', 'tourism', 'security', 'accessibility']\n",
    "\n",
    "for column in columns_to_normalize:\n",
    "    print('Exporting: ', column)\n",
    "    gdf[column] = [float(x) for x in gdf[column]]\n",
    "\n",
    "    # normalization\n",
    "    gdf[column] = (gdf[column] - gdf[column].mean())\n",
    "    gdf[column] = gdf[column] / gdf[column].std()\n",
    "\n",
    "    # removing outliers\n",
    "    low = gdf[column].quantile(0.01)\n",
    "    gdf.loc[gdf[column] < low, column] = low\n",
    "\n",
    "    high = gdf[column].quantile(0.99)\n",
    "    gdf.loc[gdf[column] > high, column] = high\n",
    "\n",
    "gdf"
   ]
  },
  {
   "cell_type": "code",
   "execution_count": null,
   "metadata": {
    "pycharm": {
     "name": "#%%\n"
    }
   },
   "outputs": [],
   "source": [
    "lat_min_list = [float(x) for x in gdf.lat_min.to_list()]\n",
    "lat_max_list = [float(x) for x in gdf.lat_max.to_list()]\n",
    "\n",
    "lon_min_list = [float(x) for x in gdf.lon_min.to_list()]\n",
    "lon_max_list = [float(x) for x in gdf.lon_max.to_list()]"
   ]
  },
  {
   "cell_type": "code",
   "execution_count": null,
   "metadata": {
    "pycharm": {
     "name": "#%%\n"
    }
   },
   "outputs": [],
   "source": [
    "polygons = []\n",
    "\n",
    "for lat_min, lat_max, lon_min, lon_max in zip(lat_min_list, lat_max_list, lon_min_list, lon_max_list):\n",
    "    polygons.append(Polygon([(lon_max, lat_max), (lon_min, lat_max), (lon_min, lat_min), (lon_max, lat_min)]))"
   ]
  },
  {
   "cell_type": "code",
   "execution_count": null,
   "metadata": {
    "pycharm": {
     "name": "#%%\n"
    }
   },
   "outputs": [],
   "source": [
    "gdf['geometry'] = polygons\n",
    "gdf"
   ]
  },
  {
   "cell_type": "code",
   "execution_count": null,
   "metadata": {
    "pycharm": {
     "name": "#%%\n"
    }
   },
   "outputs": [],
   "source": [
    "gdf.to_csv('map_to_export.csv')\n",
    "gdf.dtypes"
   ]
  },
  {
   "cell_type": "code",
   "execution_count": null,
   "metadata": {
    "pycharm": {
     "name": "#%%\n"
    }
   },
   "outputs": [],
   "source": [
    "exporting_df = gdf.drop(['geometry', 'row', 'column', 'lat_min', 'lat_max', 'lon_min', 'lon_max'], axis =1)\n",
    "exporting_df['geometry'] = gdf.geometry\n",
    "exporting_df"
   ]
  },
  {
   "cell_type": "code",
   "execution_count": null,
   "metadata": {
    "pycharm": {
     "name": "#%%\n"
    }
   },
   "outputs": [],
   "source": [
    "exporting_df.dtypes"
   ]
  },
  {
   "cell_type": "code",
   "execution_count": null,
   "metadata": {
    "pycharm": {
     "name": "#%%\n"
    }
   },
   "outputs": [],
   "source": [
    "exporting_df.to_csv('3.final_map_converted.csv')"
   ]
  }
 ],
 "metadata": {
  "kernelspec": {
   "display_name": "geo_env",
   "language": "python",
   "name": "geo_env"
  },
  "language_info": {
   "codemirror_mode": {
    "name": "ipython",
    "version": 3
   },
   "file_extension": ".py",
   "mimetype": "text/x-python",
   "name": "python",
   "nbconvert_exporter": "python",
   "pygments_lexer": "ipython3",
   "version": "3.10.4"
  }
 },
 "nbformat": 4,
 "nbformat_minor": 1
}