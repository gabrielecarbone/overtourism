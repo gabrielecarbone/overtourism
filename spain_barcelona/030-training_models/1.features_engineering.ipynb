{
 "cells": [
  {
   "cell_type": "code",
   "execution_count": null,
   "metadata": {
    "collapsed": true,
    "pycharm": {
     "name": "#%%\n"
    }
   },
   "outputs": [],
   "source": [
    "import pandas as pd"
   ]
  },
  {
   "cell_type": "code",
   "execution_count": null,
   "outputs": [],
   "source": [
    "df = pd.read_csv('0.merged_df.csv')"
   ],
   "metadata": {
    "collapsed": false,
    "pycharm": {
     "name": "#%%\n"
    }
   }
  },
  {
   "cell_type": "code",
   "execution_count": null,
   "outputs": [],
   "source": [
    "df.drop('Unnamed: 0', axis = 1, inplace = True)"
   ],
   "metadata": {
    "collapsed": false,
    "pycharm": {
     "name": "#%%\n"
    }
   }
  },
  {
   "cell_type": "code",
   "execution_count": null,
   "outputs": [],
   "source": [
    "lon_min, lon_max = 1.40, 2.90\n",
    "lat_min, lat_max = 40.90, 41.90"
   ],
   "metadata": {
    "collapsed": false,
    "pycharm": {
     "name": "#%%\n"
    }
   }
  },
  {
   "cell_type": "code",
   "execution_count": null,
   "outputs": [],
   "source": [
    "df = df.loc[(df.lon >= lon_min) & (df.lon <= lon_max)]\n",
    "df = df.loc[(df.lat >= lat_min) & (df.lat <= lat_max)]\n",
    "df"
   ],
   "metadata": {
    "collapsed": false,
    "pycharm": {
     "name": "#%%\n"
    }
   }
  },
  {
   "cell_type": "code",
   "execution_count": null,
   "outputs": [],
   "source": [
    "n_rows, n_columns = 200, 200\n",
    "\n",
    "lat_min, lat_max = df.lat.min(), df.lat.max()  # rows\n",
    "lon_min, lon_max = df.lon.min(), df.lon.max()  # columns\n",
    "\n",
    "diff_lat = lat_max - lat_min\n",
    "diff_lon = lon_max - lon_min\n",
    "\n",
    "step_lat = diff_lat / n_rows\n",
    "step_lon = diff_lon / n_columns"
   ],
   "metadata": {
    "collapsed": false,
    "pycharm": {
     "name": "#%%\n"
    }
   }
  },
  {
   "cell_type": "code",
   "execution_count": null,
   "outputs": [],
   "source": [
    "categories = df['SELECT'].drop_duplicates().to_list()"
   ],
   "metadata": {
    "collapsed": false,
    "pycharm": {
     "name": "#%%\n"
    }
   }
  },
  {
   "cell_type": "code",
   "execution_count": null,
   "outputs": [],
   "source": [
    "starting_point_lat, starting_point_lon = lat_min, lon_min # start from the highest column and the first column\n",
    "\n",
    "result_log = {}\n",
    "\n",
    "#starting bbox\n",
    "bbox_lat_min, bbox_lat_max = starting_point_lat, starting_point_lat + step_lat\n",
    "bbox_lon_min, bbox_lon_max = starting_point_lon, starting_point_lon + step_lon\n",
    "\n",
    "for row in range(n_rows):\n",
    "    # reset starting point of the column axis\n",
    "    bbox_lon_max = starting_point_lon\n",
    "    bbox_lon_min = starting_point_lon + step_lon\n",
    "\n",
    "    row_df = df.loc[(df.lat > bbox_lat_min) & (df.lat <= bbox_lat_max), :]\n",
    "\n",
    "    for column in range(n_columns):\n",
    "        cell_df = row_df.loc[(row_df.lon > bbox_lon_min) & (row_df.lon <= bbox_lon_max), :]\n",
    "\n",
    "        cell_name = 'R' + str(row + 1) + 'C' + str(column + 1)\n",
    "        cell_values = [row + 1, column +1, bbox_lat_min, bbox_lat_max, bbox_lon_min, bbox_lon_max]\n",
    "\n",
    "        for category in categories:\n",
    "            try:\n",
    "                count = cell_df.SELECT.value_counts()[category]\n",
    "                cell_values.append(count)\n",
    "\n",
    "            except:\n",
    "                cell_values.append(0)\n",
    "\n",
    "        result_log[cell_name] = cell_values\n",
    "\n",
    "        #print('LAT:', bbox_lat_min, '   ', bbox_lat_max, '  LON:', bbox_lon_min, '   ', bbox_lon_max, '    COUNT:', cell_df.shape[0])\n",
    "\n",
    "        bbox_lon_min = bbox_lon_max\n",
    "        bbox_lon_max += step_lon\n",
    "\n",
    "    bbox_lat_min = bbox_lat_max\n",
    "    bbox_lat_max += step_lat"
   ],
   "metadata": {
    "collapsed": false,
    "pycharm": {
     "name": "#%%\n"
    }
   }
  },
  {
   "cell_type": "code",
   "execution_count": null,
   "outputs": [],
   "source": [
    "result_df = pd.DataFrame(result_log).T\n",
    "result_df.columns = ['row', 'column', 'lat_min', 'lat_max', 'lon_min', 'lon_max'] + categories\n",
    "result_df"
   ],
   "metadata": {
    "collapsed": false,
    "pycharm": {
     "name": "#%%\n"
    }
   }
  },
  {
   "cell_type": "code",
   "execution_count": null,
   "outputs": [],
   "source": [
    "result_df.to_csv('1.complete_df.csv')"
   ],
   "metadata": {
    "collapsed": false,
    "pycharm": {
     "name": "#%%\n"
    }
   }
  },
  {
   "cell_type": "code",
   "execution_count": null,
   "outputs": [],
   "source": [
    "filtered_df = result_df[result_df[categories].T.sum(0) != 0] # remove the cells that have 0 on every fclass\n",
    "filtered_df"
   ],
   "metadata": {
    "collapsed": false,
    "pycharm": {
     "name": "#%%\n"
    }
   }
  },
  {
   "cell_type": "code",
   "execution_count": null,
   "outputs": [],
   "source": [
    "filtered_df.to_csv('1.filtered_df.csv')"
   ],
   "metadata": {
    "collapsed": false,
    "pycharm": {
     "name": "#%%\n"
    }
   }
  }
 ],
 "metadata": {
  "kernelspec": {
   "display_name": "Python 3",
   "language": "python",
   "name": "python3"
  },
  "language_info": {
   "codemirror_mode": {
    "name": "ipython",
    "version": 2
   },
   "file_extension": ".py",
   "mimetype": "text/x-python",
   "name": "python",
   "nbconvert_exporter": "python",
   "pygments_lexer": "ipython2",
   "version": "2.7.6"
  }
 },
 "nbformat": 4,
 "nbformat_minor": 0
}