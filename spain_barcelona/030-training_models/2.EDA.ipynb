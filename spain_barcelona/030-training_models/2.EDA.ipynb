{
 "cells": [
  {
   "cell_type": "code",
   "execution_count": null,
   "metadata": {
    "collapsed": true,
    "pycharm": {
     "name": "#%%\n"
    }
   },
   "outputs": [],
   "source": [
    "import numpy as np\n",
    "import pandas as pd\n",
    "import seaborn as sns\n",
    "import matplotlib.pyplot as plt"
   ]
  },
  {
   "cell_type": "code",
   "execution_count": null,
   "outputs": [],
   "source": [
    "df = pd.read_csv('1.filtered_df.csv')\n",
    "df.index = df['Unnamed: 0']\n",
    "df.drop('Unnamed: 0', axis = 1, inplace = True)\n",
    "df"
   ],
   "metadata": {
    "collapsed": false,
    "pycharm": {
     "name": "#%%\n"
    }
   }
  },
  {
   "cell_type": "code",
   "execution_count": null,
   "outputs": [],
   "source": [
    "df.describe()"
   ],
   "metadata": {
    "collapsed": false,
    "pycharm": {
     "name": "#%%\n"
    }
   }
  },
  {
   "cell_type": "code",
   "execution_count": null,
   "outputs": [],
   "source": [
    "# initialize the visualization matrix\n",
    "viz_matrix = np.zeros([int(df.row.max()), int(df.column.max())])"
   ],
   "metadata": {
    "collapsed": false,
    "pycharm": {
     "name": "#%%\n"
    }
   }
  },
  {
   "cell_type": "code",
   "execution_count": null,
   "outputs": [],
   "source": [
    "values = df.iloc[:, 6:].sum(axis = 1).to_list()\n",
    "rows = df.row.to_list()\n",
    "columns = df.column.to_list()"
   ],
   "metadata": {
    "collapsed": false,
    "pycharm": {
     "name": "#%%\n"
    }
   }
  },
  {
   "cell_type": "code",
   "execution_count": null,
   "outputs": [],
   "source": [
    "for value, row, column in zip(values, rows, columns):\n",
    "    viz_matrix[int(row) - 1, int(column) - 1] = value"
   ],
   "metadata": {
    "collapsed": false,
    "pycharm": {
     "name": "#%%\n"
    }
   }
  },
  {
   "cell_type": "code",
   "execution_count": null,
   "outputs": [],
   "source": [
    "# normalization\n",
    "viz_matrix_normalized = (viz_matrix - viz_matrix.mean()) /viz_matrix.std()\n",
    "\n",
    "# remove outliers\n",
    "normalization_intensity = 0.01\n",
    "low, high = np.percentile(viz_matrix_normalized, normalization_intensity * 100), np.percentile(viz_matrix_normalized, (1 - normalization_intensity) * 100)\n",
    "\n",
    "viz_matrix_normalized = np.where(viz_matrix_normalized < low, low, viz_matrix_normalized)\n",
    "viz_matrix_normalized = np.where(viz_matrix_normalized > high, high, viz_matrix_normalized)"
   ],
   "metadata": {
    "collapsed": false,
    "pycharm": {
     "name": "#%%\n"
    }
   }
  },
  {
   "cell_type": "code",
   "execution_count": null,
   "outputs": [],
   "source": [
    "# plotting\n",
    "fig, ax = plt.subplots(figsize=(20,10))\n",
    "\n",
    "cmap = sns.cubehelix_palette(light = 1,\n",
    "                             dark = 0,\n",
    "                             hue = 0,\n",
    "                             as_cmap=True)\n",
    "\n",
    "sns.heatmap(np.rot90(viz_matrix_normalized, k = 3), cmap = cmap)"
   ],
   "metadata": {
    "collapsed": false,
    "pycharm": {
     "name": "#%%\n"
    }
   }
  }
 ],
 "metadata": {
  "kernelspec": {
   "display_name": "Python 3",
   "language": "python",
   "name": "python3"
  },
  "language_info": {
   "codemirror_mode": {
    "name": "ipython",
    "version": 2
   },
   "file_extension": ".py",
   "mimetype": "text/x-python",
   "name": "python",
   "nbconvert_exporter": "python",
   "pygments_lexer": "ipython2",
   "version": "2.7.6"
  }
 },
 "nbformat": 4,
 "nbformat_minor": 0
}