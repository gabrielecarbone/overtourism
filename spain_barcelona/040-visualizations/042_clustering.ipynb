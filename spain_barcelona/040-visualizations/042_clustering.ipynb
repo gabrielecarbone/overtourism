{
 "cells": [
  {
   "cell_type": "code",
   "execution_count": 1,
   "metadata": {
    "collapsed": true,
    "pycharm": {
     "name": "#%%\n"
    }
   },
   "outputs": [],
   "source": [
    "from sklearn.cluster import KMeans\n",
    "import numpy as np\n",
    "import pandas as pd"
   ]
  },
  {
   "cell_type": "code",
   "execution_count": 2,
   "outputs": [
    {
     "data": {
      "text/plain": "            nature  entertainment  transports       art   tourism  security  \\\nfield_1                                                                       \nR1C2     -0.131120       0.261063    0.057883 -0.218264  0.724457 -0.127334   \nR2C2     -0.084887       1.405733    0.347144 -0.218264  0.724457 -0.127334   \nR3C2     -0.084887       1.160447    1.010742 -0.218264 -0.255263  1.346723   \nR3C3     -0.100298       2.386880    0.823573  2.176416  1.214317 -0.127334   \nR3C4     -0.131120      -0.229510   -0.316454 -0.218264  0.234597 -0.127334   \n...            ...            ...         ...       ...       ...       ...   \nR200C196  0.084636      -0.147748   -0.078240 -0.218264 -0.255263 -0.127334   \nR200C197 -0.115709      -0.229510   -0.299439 -0.218264 -0.255263 -0.127334   \nR200C198 -0.131120      -0.229510   -0.248393 -0.218264 -0.255263 -0.127334   \nR200C199 -0.131120      -0.065986   -0.265408 -0.218264 -0.255263 -0.127334   \nR200C200 -0.100298       0.015776   -0.282424 -0.218264 -0.255263 -0.127334   \n\n          accessibility     sport  \\\nfield_1                             \nR1C2          -0.133458 -0.014029   \nR2C2          -0.133458 -0.014029   \nR3C2           0.140244 -0.014029   \nR3C3           0.140244 -0.014029   \nR3C4          -0.133458 -0.014029   \n...                 ...       ...   \nR200C196      -0.133458 -0.014029   \nR200C197      -0.133458 -0.014029   \nR200C198      -0.133458 -0.014029   \nR200C199      -0.133458 -0.014029   \nR200C200      -0.133458 -0.014029   \n\n                                                   geometry  predicted_tourism  \nfield_1                                                                         \nR1C2      POLYGON ((1.407528852902366 41.137514355786195...           0.431534  \nR2C2      POLYGON ((1.407528852902366 41.14134593088275,...           0.552437  \nR3C2      POLYGON ((1.407528852902366 41.145177505979305...           1.503504  \nR3C3      POLYGON ((1.4150286556516003 41.14517750597930...           2.438736  \nR3C4      POLYGON ((1.4225284584008346 41.14517750597930...           0.094368  \n...                                                     ...                ...  \nR200C196  POLYGON ((2.8624905862538284 41.89999780000067...           0.641918  \nR200C197  POLYGON ((2.8699903890030627 41.89999780000067...           0.208478  \nR200C198  POLYGON ((2.877490191752297 41.899997800000676...           0.229878  \nR200C199  POLYGON ((2.8849899945015314 41.89999780000067...           0.140300  \nR200C200  POLYGON ((2.8924897972507657 41.89999780000067...           0.305451  \n\n[25410 rows x 10 columns]",
      "text/html": "<div>\n<style scoped>\n    .dataframe tbody tr th:only-of-type {\n        vertical-align: middle;\n    }\n\n    .dataframe tbody tr th {\n        vertical-align: top;\n    }\n\n    .dataframe thead th {\n        text-align: right;\n    }\n</style>\n<table border=\"1\" class=\"dataframe\">\n  <thead>\n    <tr style=\"text-align: right;\">\n      <th></th>\n      <th>nature</th>\n      <th>entertainment</th>\n      <th>transports</th>\n      <th>art</th>\n      <th>tourism</th>\n      <th>security</th>\n      <th>accessibility</th>\n      <th>sport</th>\n      <th>geometry</th>\n      <th>predicted_tourism</th>\n    </tr>\n    <tr>\n      <th>field_1</th>\n      <th></th>\n      <th></th>\n      <th></th>\n      <th></th>\n      <th></th>\n      <th></th>\n      <th></th>\n      <th></th>\n      <th></th>\n      <th></th>\n    </tr>\n  </thead>\n  <tbody>\n    <tr>\n      <th>R1C2</th>\n      <td>-0.131120</td>\n      <td>0.261063</td>\n      <td>0.057883</td>\n      <td>-0.218264</td>\n      <td>0.724457</td>\n      <td>-0.127334</td>\n      <td>-0.133458</td>\n      <td>-0.014029</td>\n      <td>POLYGON ((1.407528852902366 41.137514355786195...</td>\n      <td>0.431534</td>\n    </tr>\n    <tr>\n      <th>R2C2</th>\n      <td>-0.084887</td>\n      <td>1.405733</td>\n      <td>0.347144</td>\n      <td>-0.218264</td>\n      <td>0.724457</td>\n      <td>-0.127334</td>\n      <td>-0.133458</td>\n      <td>-0.014029</td>\n      <td>POLYGON ((1.407528852902366 41.14134593088275,...</td>\n      <td>0.552437</td>\n    </tr>\n    <tr>\n      <th>R3C2</th>\n      <td>-0.084887</td>\n      <td>1.160447</td>\n      <td>1.010742</td>\n      <td>-0.218264</td>\n      <td>-0.255263</td>\n      <td>1.346723</td>\n      <td>0.140244</td>\n      <td>-0.014029</td>\n      <td>POLYGON ((1.407528852902366 41.145177505979305...</td>\n      <td>1.503504</td>\n    </tr>\n    <tr>\n      <th>R3C3</th>\n      <td>-0.100298</td>\n      <td>2.386880</td>\n      <td>0.823573</td>\n      <td>2.176416</td>\n      <td>1.214317</td>\n      <td>-0.127334</td>\n      <td>0.140244</td>\n      <td>-0.014029</td>\n      <td>POLYGON ((1.4150286556516003 41.14517750597930...</td>\n      <td>2.438736</td>\n    </tr>\n    <tr>\n      <th>R3C4</th>\n      <td>-0.131120</td>\n      <td>-0.229510</td>\n      <td>-0.316454</td>\n      <td>-0.218264</td>\n      <td>0.234597</td>\n      <td>-0.127334</td>\n      <td>-0.133458</td>\n      <td>-0.014029</td>\n      <td>POLYGON ((1.4225284584008346 41.14517750597930...</td>\n      <td>0.094368</td>\n    </tr>\n    <tr>\n      <th>...</th>\n      <td>...</td>\n      <td>...</td>\n      <td>...</td>\n      <td>...</td>\n      <td>...</td>\n      <td>...</td>\n      <td>...</td>\n      <td>...</td>\n      <td>...</td>\n      <td>...</td>\n    </tr>\n    <tr>\n      <th>R200C196</th>\n      <td>0.084636</td>\n      <td>-0.147748</td>\n      <td>-0.078240</td>\n      <td>-0.218264</td>\n      <td>-0.255263</td>\n      <td>-0.127334</td>\n      <td>-0.133458</td>\n      <td>-0.014029</td>\n      <td>POLYGON ((2.8624905862538284 41.89999780000067...</td>\n      <td>0.641918</td>\n    </tr>\n    <tr>\n      <th>R200C197</th>\n      <td>-0.115709</td>\n      <td>-0.229510</td>\n      <td>-0.299439</td>\n      <td>-0.218264</td>\n      <td>-0.255263</td>\n      <td>-0.127334</td>\n      <td>-0.133458</td>\n      <td>-0.014029</td>\n      <td>POLYGON ((2.8699903890030627 41.89999780000067...</td>\n      <td>0.208478</td>\n    </tr>\n    <tr>\n      <th>R200C198</th>\n      <td>-0.131120</td>\n      <td>-0.229510</td>\n      <td>-0.248393</td>\n      <td>-0.218264</td>\n      <td>-0.255263</td>\n      <td>-0.127334</td>\n      <td>-0.133458</td>\n      <td>-0.014029</td>\n      <td>POLYGON ((2.877490191752297 41.899997800000676...</td>\n      <td>0.229878</td>\n    </tr>\n    <tr>\n      <th>R200C199</th>\n      <td>-0.131120</td>\n      <td>-0.065986</td>\n      <td>-0.265408</td>\n      <td>-0.218264</td>\n      <td>-0.255263</td>\n      <td>-0.127334</td>\n      <td>-0.133458</td>\n      <td>-0.014029</td>\n      <td>POLYGON ((2.8849899945015314 41.89999780000067...</td>\n      <td>0.140300</td>\n    </tr>\n    <tr>\n      <th>R200C200</th>\n      <td>-0.100298</td>\n      <td>0.015776</td>\n      <td>-0.282424</td>\n      <td>-0.218264</td>\n      <td>-0.255263</td>\n      <td>-0.127334</td>\n      <td>-0.133458</td>\n      <td>-0.014029</td>\n      <td>POLYGON ((2.8924897972507657 41.89999780000067...</td>\n      <td>0.305451</td>\n    </tr>\n  </tbody>\n</table>\n<p>25410 rows × 10 columns</p>\n</div>"
     },
     "execution_count": 2,
     "metadata": {},
     "output_type": "execute_result"
    }
   ],
   "source": [
    "full_df = pd.read_csv('../030-training_models/7.final_predictions.csv')\n",
    "full_df.set_index('field_1', inplace = True)\n",
    "full_df"
   ],
   "metadata": {
    "collapsed": false,
    "pycharm": {
     "name": "#%%\n"
    }
   }
  },
  {
   "cell_type": "code",
   "execution_count": 3,
   "outputs": [
    {
     "data": {
      "text/plain": "          predicted_tourism                                           geometry\nfield_1                                                                       \nR1C2               0.431534  POLYGON ((1.407528852902366 41.137514355786195...\nR2C2               0.552437  POLYGON ((1.407528852902366 41.14134593088275,...\nR3C2               1.503504  POLYGON ((1.407528852902366 41.145177505979305...\nR3C3               2.438736  POLYGON ((1.4150286556516003 41.14517750597930...\nR3C4               0.094368  POLYGON ((1.4225284584008346 41.14517750597930...\n...                     ...                                                ...\nR200C196           0.641918  POLYGON ((2.8624905862538284 41.89999780000067...\nR200C197           0.208478  POLYGON ((2.8699903890030627 41.89999780000067...\nR200C198           0.229878  POLYGON ((2.877490191752297 41.899997800000676...\nR200C199           0.140300  POLYGON ((2.8849899945015314 41.89999780000067...\nR200C200           0.305451  POLYGON ((2.8924897972507657 41.89999780000067...\n\n[25410 rows x 2 columns]",
      "text/html": "<div>\n<style scoped>\n    .dataframe tbody tr th:only-of-type {\n        vertical-align: middle;\n    }\n\n    .dataframe tbody tr th {\n        vertical-align: top;\n    }\n\n    .dataframe thead th {\n        text-align: right;\n    }\n</style>\n<table border=\"1\" class=\"dataframe\">\n  <thead>\n    <tr style=\"text-align: right;\">\n      <th></th>\n      <th>predicted_tourism</th>\n      <th>geometry</th>\n    </tr>\n    <tr>\n      <th>field_1</th>\n      <th></th>\n      <th></th>\n    </tr>\n  </thead>\n  <tbody>\n    <tr>\n      <th>R1C2</th>\n      <td>0.431534</td>\n      <td>POLYGON ((1.407528852902366 41.137514355786195...</td>\n    </tr>\n    <tr>\n      <th>R2C2</th>\n      <td>0.552437</td>\n      <td>POLYGON ((1.407528852902366 41.14134593088275,...</td>\n    </tr>\n    <tr>\n      <th>R3C2</th>\n      <td>1.503504</td>\n      <td>POLYGON ((1.407528852902366 41.145177505979305...</td>\n    </tr>\n    <tr>\n      <th>R3C3</th>\n      <td>2.438736</td>\n      <td>POLYGON ((1.4150286556516003 41.14517750597930...</td>\n    </tr>\n    <tr>\n      <th>R3C4</th>\n      <td>0.094368</td>\n      <td>POLYGON ((1.4225284584008346 41.14517750597930...</td>\n    </tr>\n    <tr>\n      <th>...</th>\n      <td>...</td>\n      <td>...</td>\n    </tr>\n    <tr>\n      <th>R200C196</th>\n      <td>0.641918</td>\n      <td>POLYGON ((2.8624905862538284 41.89999780000067...</td>\n    </tr>\n    <tr>\n      <th>R200C197</th>\n      <td>0.208478</td>\n      <td>POLYGON ((2.8699903890030627 41.89999780000067...</td>\n    </tr>\n    <tr>\n      <th>R200C198</th>\n      <td>0.229878</td>\n      <td>POLYGON ((2.877490191752297 41.899997800000676...</td>\n    </tr>\n    <tr>\n      <th>R200C199</th>\n      <td>0.140300</td>\n      <td>POLYGON ((2.8849899945015314 41.89999780000067...</td>\n    </tr>\n    <tr>\n      <th>R200C200</th>\n      <td>0.305451</td>\n      <td>POLYGON ((2.8924897972507657 41.89999780000067...</td>\n    </tr>\n  </tbody>\n</table>\n<p>25410 rows × 2 columns</p>\n</div>"
     },
     "execution_count": 3,
     "metadata": {},
     "output_type": "execute_result"
    }
   ],
   "source": [
    "prediction_df = pd.read_csv('../030-training_models/7.final_predictions.csv')\n",
    "prediction_df.set_index('field_1', inplace = True)\n",
    "prediction_df = prediction_df[['predicted_tourism', 'geometry']]\n",
    "prediction_df"
   ],
   "metadata": {
    "collapsed": false,
    "pycharm": {
     "name": "#%%\n"
    }
   }
  },
  {
   "cell_type": "code",
   "execution_count": 4,
   "outputs": [
    {
     "data": {
      "text/plain": "              lat_min    lat_max   lon_min   lon_max\nUnnamed: 0                                          \nR1C2        41.133683  41.137514  1.400029  1.407529\nR2C2        41.137514  41.141346  1.400029  1.407529\nR3C2        41.141346  41.145178  1.400029  1.407529\nR3C3        41.141346  41.145178  1.407529  1.415029\nR3C4        41.141346  41.145178  1.415029  1.422528\n...               ...        ...       ...       ...\nR200C196    41.896166  41.899998  2.854991  2.862491\nR200C197    41.896166  41.899998  2.862491  2.869990\nR200C198    41.896166  41.899998  2.869990  2.877490\nR200C199    41.896166  41.899998  2.877490  2.884990\nR200C200    41.896166  41.899998  2.884990  2.892490\n\n[25410 rows x 4 columns]",
      "text/html": "<div>\n<style scoped>\n    .dataframe tbody tr th:only-of-type {\n        vertical-align: middle;\n    }\n\n    .dataframe tbody tr th {\n        vertical-align: top;\n    }\n\n    .dataframe thead th {\n        text-align: right;\n    }\n</style>\n<table border=\"1\" class=\"dataframe\">\n  <thead>\n    <tr style=\"text-align: right;\">\n      <th></th>\n      <th>lat_min</th>\n      <th>lat_max</th>\n      <th>lon_min</th>\n      <th>lon_max</th>\n    </tr>\n    <tr>\n      <th>Unnamed: 0</th>\n      <th></th>\n      <th></th>\n      <th></th>\n      <th></th>\n    </tr>\n  </thead>\n  <tbody>\n    <tr>\n      <th>R1C2</th>\n      <td>41.133683</td>\n      <td>41.137514</td>\n      <td>1.400029</td>\n      <td>1.407529</td>\n    </tr>\n    <tr>\n      <th>R2C2</th>\n      <td>41.137514</td>\n      <td>41.141346</td>\n      <td>1.400029</td>\n      <td>1.407529</td>\n    </tr>\n    <tr>\n      <th>R3C2</th>\n      <td>41.141346</td>\n      <td>41.145178</td>\n      <td>1.400029</td>\n      <td>1.407529</td>\n    </tr>\n    <tr>\n      <th>R3C3</th>\n      <td>41.141346</td>\n      <td>41.145178</td>\n      <td>1.407529</td>\n      <td>1.415029</td>\n    </tr>\n    <tr>\n      <th>R3C4</th>\n      <td>41.141346</td>\n      <td>41.145178</td>\n      <td>1.415029</td>\n      <td>1.422528</td>\n    </tr>\n    <tr>\n      <th>...</th>\n      <td>...</td>\n      <td>...</td>\n      <td>...</td>\n      <td>...</td>\n    </tr>\n    <tr>\n      <th>R200C196</th>\n      <td>41.896166</td>\n      <td>41.899998</td>\n      <td>2.854991</td>\n      <td>2.862491</td>\n    </tr>\n    <tr>\n      <th>R200C197</th>\n      <td>41.896166</td>\n      <td>41.899998</td>\n      <td>2.862491</td>\n      <td>2.869990</td>\n    </tr>\n    <tr>\n      <th>R200C198</th>\n      <td>41.896166</td>\n      <td>41.899998</td>\n      <td>2.869990</td>\n      <td>2.877490</td>\n    </tr>\n    <tr>\n      <th>R200C199</th>\n      <td>41.896166</td>\n      <td>41.899998</td>\n      <td>2.877490</td>\n      <td>2.884990</td>\n    </tr>\n    <tr>\n      <th>R200C200</th>\n      <td>41.896166</td>\n      <td>41.899998</td>\n      <td>2.884990</td>\n      <td>2.892490</td>\n    </tr>\n  </tbody>\n</table>\n<p>25410 rows × 4 columns</p>\n</div>"
     },
     "execution_count": 4,
     "metadata": {},
     "output_type": "execute_result"
    }
   ],
   "source": [
    "gdf = pd.read_csv('../030-training_models/1.filtered_df.csv')\n",
    "gdf.set_index('Unnamed: 0', inplace = True)\n",
    "gdf = gdf[['lat_min', 'lat_max', 'lon_min', 'lon_max']]\n",
    "gdf"
   ],
   "metadata": {
    "collapsed": false,
    "pycharm": {
     "name": "#%%\n"
    }
   }
  },
  {
   "cell_type": "code",
   "execution_count": 5,
   "outputs": [
    {
     "data": {
      "text/plain": "          predicted_tourism  \\\nR1C2               0.431534   \nR2C2               0.552437   \nR3C2               1.503504   \nR3C3               2.438736   \nR3C4               0.094368   \n...                     ...   \nR200C196           0.641918   \nR200C197           0.208478   \nR200C198           0.229878   \nR200C199           0.140300   \nR200C200           0.305451   \n\n                                                   geometry    lat_min  \\\nR1C2      POLYGON ((1.407528852902366 41.137514355786195...  41.133683   \nR2C2      POLYGON ((1.407528852902366 41.14134593088275,...  41.137514   \nR3C2      POLYGON ((1.407528852902366 41.145177505979305...  41.141346   \nR3C3      POLYGON ((1.4150286556516003 41.14517750597930...  41.141346   \nR3C4      POLYGON ((1.4225284584008346 41.14517750597930...  41.141346   \n...                                                     ...        ...   \nR200C196  POLYGON ((2.8624905862538284 41.89999780000067...  41.896166   \nR200C197  POLYGON ((2.8699903890030627 41.89999780000067...  41.896166   \nR200C198  POLYGON ((2.877490191752297 41.899997800000676...  41.896166   \nR200C199  POLYGON ((2.8849899945015314 41.89999780000067...  41.896166   \nR200C200  POLYGON ((2.8924897972507657 41.89999780000067...  41.896166   \n\n            lat_max   lon_min   lon_max  \nR1C2      41.137514  1.400029  1.407529  \nR2C2      41.141346  1.400029  1.407529  \nR3C2      41.145178  1.400029  1.407529  \nR3C3      41.145178  1.407529  1.415029  \nR3C4      41.145178  1.415029  1.422528  \n...             ...       ...       ...  \nR200C196  41.899998  2.854991  2.862491  \nR200C197  41.899998  2.862491  2.869990  \nR200C198  41.899998  2.869990  2.877490  \nR200C199  41.899998  2.877490  2.884990  \nR200C200  41.899998  2.884990  2.892490  \n\n[25410 rows x 6 columns]",
      "text/html": "<div>\n<style scoped>\n    .dataframe tbody tr th:only-of-type {\n        vertical-align: middle;\n    }\n\n    .dataframe tbody tr th {\n        vertical-align: top;\n    }\n\n    .dataframe thead th {\n        text-align: right;\n    }\n</style>\n<table border=\"1\" class=\"dataframe\">\n  <thead>\n    <tr style=\"text-align: right;\">\n      <th></th>\n      <th>predicted_tourism</th>\n      <th>geometry</th>\n      <th>lat_min</th>\n      <th>lat_max</th>\n      <th>lon_min</th>\n      <th>lon_max</th>\n    </tr>\n  </thead>\n  <tbody>\n    <tr>\n      <th>R1C2</th>\n      <td>0.431534</td>\n      <td>POLYGON ((1.407528852902366 41.137514355786195...</td>\n      <td>41.133683</td>\n      <td>41.137514</td>\n      <td>1.400029</td>\n      <td>1.407529</td>\n    </tr>\n    <tr>\n      <th>R2C2</th>\n      <td>0.552437</td>\n      <td>POLYGON ((1.407528852902366 41.14134593088275,...</td>\n      <td>41.137514</td>\n      <td>41.141346</td>\n      <td>1.400029</td>\n      <td>1.407529</td>\n    </tr>\n    <tr>\n      <th>R3C2</th>\n      <td>1.503504</td>\n      <td>POLYGON ((1.407528852902366 41.145177505979305...</td>\n      <td>41.141346</td>\n      <td>41.145178</td>\n      <td>1.400029</td>\n      <td>1.407529</td>\n    </tr>\n    <tr>\n      <th>R3C3</th>\n      <td>2.438736</td>\n      <td>POLYGON ((1.4150286556516003 41.14517750597930...</td>\n      <td>41.141346</td>\n      <td>41.145178</td>\n      <td>1.407529</td>\n      <td>1.415029</td>\n    </tr>\n    <tr>\n      <th>R3C4</th>\n      <td>0.094368</td>\n      <td>POLYGON ((1.4225284584008346 41.14517750597930...</td>\n      <td>41.141346</td>\n      <td>41.145178</td>\n      <td>1.415029</td>\n      <td>1.422528</td>\n    </tr>\n    <tr>\n      <th>...</th>\n      <td>...</td>\n      <td>...</td>\n      <td>...</td>\n      <td>...</td>\n      <td>...</td>\n      <td>...</td>\n    </tr>\n    <tr>\n      <th>R200C196</th>\n      <td>0.641918</td>\n      <td>POLYGON ((2.8624905862538284 41.89999780000067...</td>\n      <td>41.896166</td>\n      <td>41.899998</td>\n      <td>2.854991</td>\n      <td>2.862491</td>\n    </tr>\n    <tr>\n      <th>R200C197</th>\n      <td>0.208478</td>\n      <td>POLYGON ((2.8699903890030627 41.89999780000067...</td>\n      <td>41.896166</td>\n      <td>41.899998</td>\n      <td>2.862491</td>\n      <td>2.869990</td>\n    </tr>\n    <tr>\n      <th>R200C198</th>\n      <td>0.229878</td>\n      <td>POLYGON ((2.877490191752297 41.899997800000676...</td>\n      <td>41.896166</td>\n      <td>41.899998</td>\n      <td>2.869990</td>\n      <td>2.877490</td>\n    </tr>\n    <tr>\n      <th>R200C199</th>\n      <td>0.140300</td>\n      <td>POLYGON ((2.8849899945015314 41.89999780000067...</td>\n      <td>41.896166</td>\n      <td>41.899998</td>\n      <td>2.877490</td>\n      <td>2.884990</td>\n    </tr>\n    <tr>\n      <th>R200C200</th>\n      <td>0.305451</td>\n      <td>POLYGON ((2.8924897972507657 41.89999780000067...</td>\n      <td>41.896166</td>\n      <td>41.899998</td>\n      <td>2.884990</td>\n      <td>2.892490</td>\n    </tr>\n  </tbody>\n</table>\n<p>25410 rows × 6 columns</p>\n</div>"
     },
     "execution_count": 5,
     "metadata": {},
     "output_type": "execute_result"
    }
   ],
   "source": [
    "df = pd.concat([prediction_df, gdf], axis = 1)\n",
    "df"
   ],
   "metadata": {
    "collapsed": false,
    "pycharm": {
     "name": "#%%\n"
    }
   }
  },
  {
   "cell_type": "code",
   "execution_count": 6,
   "outputs": [
    {
     "data": {
      "text/plain": "          predicted_tourism  \\\nR3C2               1.503504   \nR3C3               2.438736   \nR4C3               3.038425   \nR4C4               1.315167   \nR5C4               2.246833   \n...                     ...   \nR200C65            1.637577   \nR200C66            1.130548   \nR200C71            0.930883   \nR200C157           0.875886   \nR200C186           0.943794   \n\n                                                   geometry    lat_min  \\\nR3C2      POLYGON ((1.407528852902366 41.145177505979305...  41.141346   \nR3C3      POLYGON ((1.4150286556516003 41.14517750597930...  41.141346   \nR4C3      POLYGON ((1.4150286556516003 41.14900908107586...  41.145178   \nR4C4      POLYGON ((1.4225284584008346 41.14900908107586...  41.145178   \nR5C4      POLYGON ((1.4225284584008346 41.15284065617241...  41.149009   \n...                                                     ...        ...   \nR200C65   POLYGON ((1.8800164261041294 41.89999780000067...  41.896166   \nR200C66   POLYGON ((1.8875162288533638 41.89999780000067...  41.896166   \nR200C71   POLYGON ((1.9250152425995355 41.89999780000067...  41.896166   \nR200C157  POLYGON ((2.569998279033689 41.899997800000676...  41.896166   \nR200C186  POLYGON ((2.787492558761485 41.899997800000676...  41.896166   \n\n            lat_max   lon_min   lon_max  \nR3C2      41.145178  1.400029  1.407529  \nR3C3      41.145178  1.407529  1.415029  \nR4C3      41.149009  1.407529  1.415029  \nR4C4      41.149009  1.415029  1.422528  \nR5C4      41.152841  1.415029  1.422528  \n...             ...       ...       ...  \nR200C65   41.899998  1.872517  1.880016  \nR200C66   41.899998  1.880016  1.887516  \nR200C71   41.899998  1.917515  1.925015  \nR200C157  41.899998  2.562498  2.569998  \nR200C186  41.899998  2.779993  2.787493  \n\n[3811 rows x 6 columns]",
      "text/html": "<div>\n<style scoped>\n    .dataframe tbody tr th:only-of-type {\n        vertical-align: middle;\n    }\n\n    .dataframe tbody tr th {\n        vertical-align: top;\n    }\n\n    .dataframe thead th {\n        text-align: right;\n    }\n</style>\n<table border=\"1\" class=\"dataframe\">\n  <thead>\n    <tr style=\"text-align: right;\">\n      <th></th>\n      <th>predicted_tourism</th>\n      <th>geometry</th>\n      <th>lat_min</th>\n      <th>lat_max</th>\n      <th>lon_min</th>\n      <th>lon_max</th>\n    </tr>\n  </thead>\n  <tbody>\n    <tr>\n      <th>R3C2</th>\n      <td>1.503504</td>\n      <td>POLYGON ((1.407528852902366 41.145177505979305...</td>\n      <td>41.141346</td>\n      <td>41.145178</td>\n      <td>1.400029</td>\n      <td>1.407529</td>\n    </tr>\n    <tr>\n      <th>R3C3</th>\n      <td>2.438736</td>\n      <td>POLYGON ((1.4150286556516003 41.14517750597930...</td>\n      <td>41.141346</td>\n      <td>41.145178</td>\n      <td>1.407529</td>\n      <td>1.415029</td>\n    </tr>\n    <tr>\n      <th>R4C3</th>\n      <td>3.038425</td>\n      <td>POLYGON ((1.4150286556516003 41.14900908107586...</td>\n      <td>41.145178</td>\n      <td>41.149009</td>\n      <td>1.407529</td>\n      <td>1.415029</td>\n    </tr>\n    <tr>\n      <th>R4C4</th>\n      <td>1.315167</td>\n      <td>POLYGON ((1.4225284584008346 41.14900908107586...</td>\n      <td>41.145178</td>\n      <td>41.149009</td>\n      <td>1.415029</td>\n      <td>1.422528</td>\n    </tr>\n    <tr>\n      <th>R5C4</th>\n      <td>2.246833</td>\n      <td>POLYGON ((1.4225284584008346 41.15284065617241...</td>\n      <td>41.149009</td>\n      <td>41.152841</td>\n      <td>1.415029</td>\n      <td>1.422528</td>\n    </tr>\n    <tr>\n      <th>...</th>\n      <td>...</td>\n      <td>...</td>\n      <td>...</td>\n      <td>...</td>\n      <td>...</td>\n      <td>...</td>\n    </tr>\n    <tr>\n      <th>R200C65</th>\n      <td>1.637577</td>\n      <td>POLYGON ((1.8800164261041294 41.89999780000067...</td>\n      <td>41.896166</td>\n      <td>41.899998</td>\n      <td>1.872517</td>\n      <td>1.880016</td>\n    </tr>\n    <tr>\n      <th>R200C66</th>\n      <td>1.130548</td>\n      <td>POLYGON ((1.8875162288533638 41.89999780000067...</td>\n      <td>41.896166</td>\n      <td>41.899998</td>\n      <td>1.880016</td>\n      <td>1.887516</td>\n    </tr>\n    <tr>\n      <th>R200C71</th>\n      <td>0.930883</td>\n      <td>POLYGON ((1.9250152425995355 41.89999780000067...</td>\n      <td>41.896166</td>\n      <td>41.899998</td>\n      <td>1.917515</td>\n      <td>1.925015</td>\n    </tr>\n    <tr>\n      <th>R200C157</th>\n      <td>0.875886</td>\n      <td>POLYGON ((2.569998279033689 41.899997800000676...</td>\n      <td>41.896166</td>\n      <td>41.899998</td>\n      <td>2.562498</td>\n      <td>2.569998</td>\n    </tr>\n    <tr>\n      <th>R200C186</th>\n      <td>0.943794</td>\n      <td>POLYGON ((2.787492558761485 41.899997800000676...</td>\n      <td>41.896166</td>\n      <td>41.899998</td>\n      <td>2.779993</td>\n      <td>2.787493</td>\n    </tr>\n  </tbody>\n</table>\n<p>3811 rows × 6 columns</p>\n</div>"
     },
     "execution_count": 6,
     "metadata": {},
     "output_type": "execute_result"
    }
   ],
   "source": [
    "filtered_df = df.loc[df.predicted_tourism > df.predicted_tourism.quantile(0.85)].dropna()\n",
    "filtered_df"
   ],
   "metadata": {
    "collapsed": false,
    "pycharm": {
     "name": "#%%\n"
    }
   }
  },
  {
   "cell_type": "code",
   "execution_count": 7,
   "outputs": [],
   "source": [
    "kmeans = KMeans(n_clusters= 20).fit_predict(filtered_df[['lat_min', 'lat_max', 'lon_min', 'lon_max']])"
   ],
   "metadata": {
    "collapsed": false,
    "pycharm": {
     "name": "#%%\n"
    }
   }
  },
  {
   "cell_type": "code",
   "execution_count": 8,
   "outputs": [
    {
     "data": {
      "text/plain": "                                                   geometry  cluster\nR3C2      POLYGON ((1.407528852902366 41.145177505979305...        5\nR3C3      POLYGON ((1.4150286556516003 41.14517750597930...        5\nR4C3      POLYGON ((1.4150286556516003 41.14900908107586...        5\nR4C4      POLYGON ((1.4225284584008346 41.14900908107586...        5\nR5C4      POLYGON ((1.4225284584008346 41.15284065617241...        5\n...                                                     ...      ...\nR200C65   POLYGON ((1.8800164261041294 41.89999780000067...       11\nR200C66   POLYGON ((1.8875162288533638 41.89999780000067...       11\nR200C71   POLYGON ((1.9250152425995355 41.89999780000067...       11\nR200C157  POLYGON ((2.569998279033689 41.899997800000676...        4\nR200C186  POLYGON ((2.787492558761485 41.899997800000676...        4\n\n[3811 rows x 2 columns]",
      "text/html": "<div>\n<style scoped>\n    .dataframe tbody tr th:only-of-type {\n        vertical-align: middle;\n    }\n\n    .dataframe tbody tr th {\n        vertical-align: top;\n    }\n\n    .dataframe thead th {\n        text-align: right;\n    }\n</style>\n<table border=\"1\" class=\"dataframe\">\n  <thead>\n    <tr style=\"text-align: right;\">\n      <th></th>\n      <th>geometry</th>\n      <th>cluster</th>\n    </tr>\n  </thead>\n  <tbody>\n    <tr>\n      <th>R3C2</th>\n      <td>POLYGON ((1.407528852902366 41.145177505979305...</td>\n      <td>5</td>\n    </tr>\n    <tr>\n      <th>R3C3</th>\n      <td>POLYGON ((1.4150286556516003 41.14517750597930...</td>\n      <td>5</td>\n    </tr>\n    <tr>\n      <th>R4C3</th>\n      <td>POLYGON ((1.4150286556516003 41.14900908107586...</td>\n      <td>5</td>\n    </tr>\n    <tr>\n      <th>R4C4</th>\n      <td>POLYGON ((1.4225284584008346 41.14900908107586...</td>\n      <td>5</td>\n    </tr>\n    <tr>\n      <th>R5C4</th>\n      <td>POLYGON ((1.4225284584008346 41.15284065617241...</td>\n      <td>5</td>\n    </tr>\n    <tr>\n      <th>...</th>\n      <td>...</td>\n      <td>...</td>\n    </tr>\n    <tr>\n      <th>R200C65</th>\n      <td>POLYGON ((1.8800164261041294 41.89999780000067...</td>\n      <td>11</td>\n    </tr>\n    <tr>\n      <th>R200C66</th>\n      <td>POLYGON ((1.8875162288533638 41.89999780000067...</td>\n      <td>11</td>\n    </tr>\n    <tr>\n      <th>R200C71</th>\n      <td>POLYGON ((1.9250152425995355 41.89999780000067...</td>\n      <td>11</td>\n    </tr>\n    <tr>\n      <th>R200C157</th>\n      <td>POLYGON ((2.569998279033689 41.899997800000676...</td>\n      <td>4</td>\n    </tr>\n    <tr>\n      <th>R200C186</th>\n      <td>POLYGON ((2.787492558761485 41.899997800000676...</td>\n      <td>4</td>\n    </tr>\n  </tbody>\n</table>\n<p>3811 rows × 2 columns</p>\n</div>"
     },
     "execution_count": 8,
     "metadata": {},
     "output_type": "execute_result"
    }
   ],
   "source": [
    "exporting_df = pd.concat([filtered_df['geometry'], pd.Series(kmeans + 1, index = filtered_df.index, name = 'cluster')], axis = 1)\n",
    "exporting_df"
   ],
   "metadata": {
    "collapsed": false,
    "pycharm": {
     "name": "#%%\n"
    }
   }
  },
  {
   "cell_type": "code",
   "execution_count": 9,
   "outputs": [],
   "source": [
    "exporting_df.to_csv('043.clustered_df.csv')"
   ],
   "metadata": {
    "collapsed": false,
    "pycharm": {
     "name": "#%%\n"
    }
   }
  },
  {
   "cell_type": "code",
   "execution_count": 10,
   "outputs": [
    {
     "data": {
      "text/plain": "      lat_min    lat_max   lon_min   lon_max\n1   41.403674  41.407506  2.136315  2.143815\n2   41.601107  41.604939  2.534021  2.541521\n3   41.238838  41.242670  1.750437  1.757936\n4   41.758667  41.762499  1.784823  1.792322\n5   41.551324  41.555156  1.656781  1.664281\n6   41.233649  41.237481  1.539367  1.546867\n7   41.787434  41.791266  2.206346  2.213846\n8   41.660762  41.664594  2.711892  2.719392\n9   41.733564  41.737395  1.487683  1.495183\n10  41.551392  41.555223  2.373622  2.381122\n11  41.575786  41.579618  1.861543  1.869043\n12  41.574637  41.578469  2.058159  2.065659\n13  41.323875  41.327706  2.040898  2.048398\n14  41.741970  41.745801  2.451155  2.458655\n15  41.841673  41.845504  2.723089  2.730589\n16  41.794591  41.798423  1.944740  1.952240\n17  41.477651  41.481482  2.207357  2.214857\n18  41.394430  41.398261  1.710847  1.718347\n19  41.440267  41.444098  1.979787  1.987286\n20  41.614826  41.618658  2.246140  2.253640",
      "text/html": "<div>\n<style scoped>\n    .dataframe tbody tr th:only-of-type {\n        vertical-align: middle;\n    }\n\n    .dataframe tbody tr th {\n        vertical-align: top;\n    }\n\n    .dataframe thead th {\n        text-align: right;\n    }\n</style>\n<table border=\"1\" class=\"dataframe\">\n  <thead>\n    <tr style=\"text-align: right;\">\n      <th></th>\n      <th>lat_min</th>\n      <th>lat_max</th>\n      <th>lon_min</th>\n      <th>lon_max</th>\n    </tr>\n  </thead>\n  <tbody>\n    <tr>\n      <th>1</th>\n      <td>41.403674</td>\n      <td>41.407506</td>\n      <td>2.136315</td>\n      <td>2.143815</td>\n    </tr>\n    <tr>\n      <th>2</th>\n      <td>41.601107</td>\n      <td>41.604939</td>\n      <td>2.534021</td>\n      <td>2.541521</td>\n    </tr>\n    <tr>\n      <th>3</th>\n      <td>41.238838</td>\n      <td>41.242670</td>\n      <td>1.750437</td>\n      <td>1.757936</td>\n    </tr>\n    <tr>\n      <th>4</th>\n      <td>41.758667</td>\n      <td>41.762499</td>\n      <td>1.784823</td>\n      <td>1.792322</td>\n    </tr>\n    <tr>\n      <th>5</th>\n      <td>41.551324</td>\n      <td>41.555156</td>\n      <td>1.656781</td>\n      <td>1.664281</td>\n    </tr>\n    <tr>\n      <th>6</th>\n      <td>41.233649</td>\n      <td>41.237481</td>\n      <td>1.539367</td>\n      <td>1.546867</td>\n    </tr>\n    <tr>\n      <th>7</th>\n      <td>41.787434</td>\n      <td>41.791266</td>\n      <td>2.206346</td>\n      <td>2.213846</td>\n    </tr>\n    <tr>\n      <th>8</th>\n      <td>41.660762</td>\n      <td>41.664594</td>\n      <td>2.711892</td>\n      <td>2.719392</td>\n    </tr>\n    <tr>\n      <th>9</th>\n      <td>41.733564</td>\n      <td>41.737395</td>\n      <td>1.487683</td>\n      <td>1.495183</td>\n    </tr>\n    <tr>\n      <th>10</th>\n      <td>41.551392</td>\n      <td>41.555223</td>\n      <td>2.373622</td>\n      <td>2.381122</td>\n    </tr>\n    <tr>\n      <th>11</th>\n      <td>41.575786</td>\n      <td>41.579618</td>\n      <td>1.861543</td>\n      <td>1.869043</td>\n    </tr>\n    <tr>\n      <th>12</th>\n      <td>41.574637</td>\n      <td>41.578469</td>\n      <td>2.058159</td>\n      <td>2.065659</td>\n    </tr>\n    <tr>\n      <th>13</th>\n      <td>41.323875</td>\n      <td>41.327706</td>\n      <td>2.040898</td>\n      <td>2.048398</td>\n    </tr>\n    <tr>\n      <th>14</th>\n      <td>41.741970</td>\n      <td>41.745801</td>\n      <td>2.451155</td>\n      <td>2.458655</td>\n    </tr>\n    <tr>\n      <th>15</th>\n      <td>41.841673</td>\n      <td>41.845504</td>\n      <td>2.723089</td>\n      <td>2.730589</td>\n    </tr>\n    <tr>\n      <th>16</th>\n      <td>41.794591</td>\n      <td>41.798423</td>\n      <td>1.944740</td>\n      <td>1.952240</td>\n    </tr>\n    <tr>\n      <th>17</th>\n      <td>41.477651</td>\n      <td>41.481482</td>\n      <td>2.207357</td>\n      <td>2.214857</td>\n    </tr>\n    <tr>\n      <th>18</th>\n      <td>41.394430</td>\n      <td>41.398261</td>\n      <td>1.710847</td>\n      <td>1.718347</td>\n    </tr>\n    <tr>\n      <th>19</th>\n      <td>41.440267</td>\n      <td>41.444098</td>\n      <td>1.979787</td>\n      <td>1.987286</td>\n    </tr>\n    <tr>\n      <th>20</th>\n      <td>41.614826</td>\n      <td>41.618658</td>\n      <td>2.246140</td>\n      <td>2.253640</td>\n    </tr>\n  </tbody>\n</table>\n</div>"
     },
     "execution_count": 10,
     "metadata": {},
     "output_type": "execute_result"
    }
   ],
   "source": [
    "cluster_coordinates = pd.DataFrame(KMeans(n_clusters=20).fit(filtered_df[['lat_min', 'lat_max', 'lon_min', 'lon_max']]).cluster_centers_)\n",
    "cluster_coordinates.columns = ['lat_min', 'lat_max', 'lon_min', 'lon_max']\n",
    "cluster_coordinates.index = cluster_coordinates.index + 1\n",
    "cluster_coordinates"
   ],
   "metadata": {
    "collapsed": false,
    "pycharm": {
     "name": "#%%\n"
    }
   }
  },
  {
   "cell_type": "code",
   "execution_count": 11,
   "outputs": [
    {
     "data": {
      "text/plain": "          lat       lon\n1   41.405590  2.140065\n2   41.603023  2.537771\n3   41.240754  1.754186\n4   41.760583  1.788572\n5   41.553240  1.660531\n6   41.235565  1.543117\n7   41.789350  2.210096\n8   41.662678  2.715642\n9   41.735480  1.491433\n10  41.553307  2.377372\n11  41.577702  1.865293\n12  41.576553  2.061909\n13  41.325791  2.044648\n14  41.743886  2.454905\n15  41.843588  2.726839\n16  41.796507  1.948490\n17  41.479566  2.211107\n18  41.396346  1.714597\n19  41.442183  1.983536\n20  41.616742  2.249890",
      "text/html": "<div>\n<style scoped>\n    .dataframe tbody tr th:only-of-type {\n        vertical-align: middle;\n    }\n\n    .dataframe tbody tr th {\n        vertical-align: top;\n    }\n\n    .dataframe thead th {\n        text-align: right;\n    }\n</style>\n<table border=\"1\" class=\"dataframe\">\n  <thead>\n    <tr style=\"text-align: right;\">\n      <th></th>\n      <th>lat</th>\n      <th>lon</th>\n    </tr>\n  </thead>\n  <tbody>\n    <tr>\n      <th>1</th>\n      <td>41.405590</td>\n      <td>2.140065</td>\n    </tr>\n    <tr>\n      <th>2</th>\n      <td>41.603023</td>\n      <td>2.537771</td>\n    </tr>\n    <tr>\n      <th>3</th>\n      <td>41.240754</td>\n      <td>1.754186</td>\n    </tr>\n    <tr>\n      <th>4</th>\n      <td>41.760583</td>\n      <td>1.788572</td>\n    </tr>\n    <tr>\n      <th>5</th>\n      <td>41.553240</td>\n      <td>1.660531</td>\n    </tr>\n    <tr>\n      <th>6</th>\n      <td>41.235565</td>\n      <td>1.543117</td>\n    </tr>\n    <tr>\n      <th>7</th>\n      <td>41.789350</td>\n      <td>2.210096</td>\n    </tr>\n    <tr>\n      <th>8</th>\n      <td>41.662678</td>\n      <td>2.715642</td>\n    </tr>\n    <tr>\n      <th>9</th>\n      <td>41.735480</td>\n      <td>1.491433</td>\n    </tr>\n    <tr>\n      <th>10</th>\n      <td>41.553307</td>\n      <td>2.377372</td>\n    </tr>\n    <tr>\n      <th>11</th>\n      <td>41.577702</td>\n      <td>1.865293</td>\n    </tr>\n    <tr>\n      <th>12</th>\n      <td>41.576553</td>\n      <td>2.061909</td>\n    </tr>\n    <tr>\n      <th>13</th>\n      <td>41.325791</td>\n      <td>2.044648</td>\n    </tr>\n    <tr>\n      <th>14</th>\n      <td>41.743886</td>\n      <td>2.454905</td>\n    </tr>\n    <tr>\n      <th>15</th>\n      <td>41.843588</td>\n      <td>2.726839</td>\n    </tr>\n    <tr>\n      <th>16</th>\n      <td>41.796507</td>\n      <td>1.948490</td>\n    </tr>\n    <tr>\n      <th>17</th>\n      <td>41.479566</td>\n      <td>2.211107</td>\n    </tr>\n    <tr>\n      <th>18</th>\n      <td>41.396346</td>\n      <td>1.714597</td>\n    </tr>\n    <tr>\n      <th>19</th>\n      <td>41.442183</td>\n      <td>1.983536</td>\n    </tr>\n    <tr>\n      <th>20</th>\n      <td>41.616742</td>\n      <td>2.249890</td>\n    </tr>\n  </tbody>\n</table>\n</div>"
     },
     "execution_count": 11,
     "metadata": {},
     "output_type": "execute_result"
    }
   ],
   "source": [
    "cluster_coordinates['lat'] = (cluster_coordinates['lat_min'] + cluster_coordinates['lat_max']) / 2\n",
    "cluster_coordinates['lon'] = (cluster_coordinates['lon_min'] + cluster_coordinates['lon_max']) / 2\n",
    "cluster_coordinates = cluster_coordinates[['lat', 'lon']]\n",
    "cluster_coordinates"
   ],
   "metadata": {
    "collapsed": false,
    "pycharm": {
     "name": "#%%\n"
    }
   }
  },
  {
   "cell_type": "code",
   "execution_count": 12,
   "outputs": [],
   "source": [
    "cluster_coordinates.to_csv('043.cluster_coordinates.csv')"
   ],
   "metadata": {
    "collapsed": false,
    "pycharm": {
     "name": "#%%\n"
    }
   }
  }
 ],
 "metadata": {
  "kernelspec": {
   "display_name": "Python 3",
   "language": "python",
   "name": "python3"
  },
  "language_info": {
   "codemirror_mode": {
    "name": "ipython",
    "version": 2
   },
   "file_extension": ".py",
   "mimetype": "text/x-python",
   "name": "python",
   "nbconvert_exporter": "python",
   "pygments_lexer": "ipython2",
   "version": "2.7.6"
  }
 },
 "nbformat": 4,
 "nbformat_minor": 0
}