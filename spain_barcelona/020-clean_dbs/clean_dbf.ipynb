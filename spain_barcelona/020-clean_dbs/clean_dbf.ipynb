{
 "cells": [
  {
   "cell_type": "code",
   "execution_count": null,
   "metadata": {
    "collapsed": true,
    "pycharm": {
     "name": "#%%\n"
    }
   },
   "outputs": [],
   "source": [
    "import pandas as pd\n",
    "import os"
   ]
  },
  {
   "cell_type": "code",
   "execution_count": null,
   "outputs": [],
   "source": [
    "# SETTINGS\n",
    "path = '../010-add_coordinates/coordinates/'\n",
    "filter_df = pd.read_csv('categories.csv', sep = ';', encoding = \"ISO-8859-1\")\n",
    "filter_df"
   ],
   "metadata": {
    "collapsed": false,
    "pycharm": {
     "name": "#%%\n"
    }
   }
  },
  {
   "cell_type": "code",
   "execution_count": null,
   "outputs": [],
   "source": [
    "filter_df = filter_df.loc[~filter_df.SELECT.isna(), ['SELECT', 'Geometry Code', 'Layer', 'fclass']]\n",
    "#filter_df['Geometry Code'] = filter_df['Geometry Code'].str.pad(4, side = 'right', fillchar = '.')\n",
    "filter_df['Geometry Code'] = filter_df['Geometry Code'].str.strip('0')"
   ],
   "metadata": {
    "collapsed": false,
    "pycharm": {
     "name": "#%%\n"
    }
   }
  },
  {
   "cell_type": "code",
   "execution_count": null,
   "outputs": [],
   "source": [
    "granularity = 4 - filter_df['Geometry Code'].str.len()\n",
    "multiplier = 10 ** granularity"
   ],
   "metadata": {
    "collapsed": false,
    "pycharm": {
     "name": "#%%\n"
    }
   }
  },
  {
   "cell_type": "code",
   "execution_count": null,
   "outputs": [],
   "source": [
    "filter_df['Geometry Code'] = filter_df['Geometry Code'].astype(int)\n",
    "\n",
    "filter_df['low_threshold'] = multiplier * filter_df['Geometry Code']\n",
    "filter_df['high_threshold'] = multiplier * filter_df['Geometry Code'] + (multiplier - 1)\n",
    "\n",
    "filter_df['fclass'] = filter_df['fclass'].fillna(filter_df['Layer'])\n",
    "filter_df['granularity'] = granularity\n",
    "\n",
    "filter_df = filter_df.sort_values(by=['granularity'])\n",
    "\n",
    "filter_df"
   ],
   "metadata": {
    "collapsed": false,
    "pycharm": {
     "name": "#%%\n"
    }
   }
  },
  {
   "cell_type": "code",
   "execution_count": null,
   "outputs": [],
   "source": [
    "file_list = os.listdir(path)\n",
    "\n",
    "filter_regex = '|'.join(r\"{}\".format(x) for x in filter_df['Geometry Code'])"
   ],
   "metadata": {
    "collapsed": false,
    "pycharm": {
     "name": "#%%\n"
    }
   }
  },
  {
   "cell_type": "code",
   "execution_count": null,
   "outputs": [],
   "source": [
    "filter_regex"
   ],
   "metadata": {
    "collapsed": false,
    "pycharm": {
     "name": "#%%\n"
    }
   }
  },
  {
   "cell_type": "code",
   "execution_count": null,
   "outputs": [],
   "source": [
    "df_dict = {}\n",
    "\n",
    "for file_name in file_list:\n",
    "\n",
    "    df_dict[file_name] = pd.read_csv(path + file_name)\n",
    "\n",
    "    df_dict[file_name].drop('Unnamed: 0', axis = 1, inplace = True)"
   ],
   "metadata": {
    "collapsed": false,
    "pycharm": {
     "name": "#%%\n"
    }
   }
  },
  {
   "cell_type": "code",
   "execution_count": null,
   "outputs": [],
   "source": [
    "filter_df_to_dict = filter_df[['fclass', 'low_threshold', 'high_threshold']]\n",
    "filter_df_to_dict.drop_duplicates(subset = ['fclass'], inplace = True)\n",
    "filter_df_to_dict"
   ],
   "metadata": {
    "collapsed": false,
    "pycharm": {
     "name": "#%%\n"
    }
   }
  },
  {
   "cell_type": "code",
   "execution_count": null,
   "outputs": [],
   "source": [
    "filter_df_to_dict.index = filter_df_to_dict.fclass\n",
    "filter_df_to_dict.drop('fclass', axis = 1, inplace = True)\n",
    "filter_dict = filter_df_to_dict.to_dict('index')"
   ],
   "metadata": {
    "collapsed": false,
    "pycharm": {
     "name": "#%%\n"
    }
   }
  },
  {
   "cell_type": "code",
   "execution_count": null,
   "outputs": [],
   "source": [
    "filter_df"
   ],
   "metadata": {
    "collapsed": false,
    "pycharm": {
     "name": "#%%\n"
    }
   }
  },
  {
   "cell_type": "code",
   "execution_count": null,
   "outputs": [],
   "source": [
    "# df = df_dict['coordinates_gis_osm_pois_free_1.csv']\n",
    "#\n",
    "# df['fclass'] = 0\n",
    "#\n",
    "# for fclass, value_dict in filter_dict.items():\n",
    "#\n",
    "#     df.loc[(df.code >= value_dict['low_threshold']) & (df.code <= value_dict['high_threshold']),'fclass'] = fclass\n",
    "#\n",
    "#     final_df = df.merge(filter_df[['fclass', 'SELECT']], on = 'fclass', how = 'left')\n",
    "#\n",
    "#     final_df = final_df[final_df.fclass != 0]\n",
    "#\n",
    "# final_df"
   ],
   "metadata": {
    "collapsed": false,
    "pycharm": {
     "name": "#%%\n"
    }
   }
  },
  {
   "cell_type": "code",
   "execution_count": null,
   "outputs": [],
   "source": [
    "filtered_df_dict = {}\n",
    "\n",
    "for df_name, df in df_dict.items():\n",
    "\n",
    "    print(df_name)\n",
    "\n",
    "    df['fclass'] = 0\n",
    "\n",
    "    for fclass, value_dict in filter_dict.items():\n",
    "\n",
    "        df.loc[(df.code >= value_dict['low_threshold']) & (df.code <= value_dict['high_threshold']),'fclass'] = fclass\n",
    "\n",
    "        final_df = df.merge(filter_df[['fclass', 'SELECT']], on = 'fclass', how = 'left')\n",
    "\n",
    "        final_df = final_df.drop_duplicates()\n",
    "\n",
    "        final_df = final_df[final_df.fclass != 0]\n",
    "\n",
    "    filtered_df_dict[df_name] = final_df"
   ],
   "metadata": {
    "collapsed": false,
    "pycharm": {
     "name": "#%%\n"
    }
   }
  },
  {
   "cell_type": "code",
   "execution_count": null,
   "outputs": [],
   "source": [
    "for df_name in filtered_df_dict.keys():\n",
    "    print('DATAFRAME NAME: ', df_name)\n",
    "    print('ORIGINAL DATAFRAME SIZE: ', df_dict[df_name].shape)\n",
    "    print('FILTERED DATAFRAME SIZE: ', filtered_df_dict[df_name].shape)\n",
    "    print('DIFFERENCE: ', df_dict[df_name].shape[0] - filtered_df_dict[df_name].shape[0])\n",
    "    print(' ')"
   ],
   "metadata": {
    "collapsed": false,
    "pycharm": {
     "name": "#%%\n"
    }
   }
  },
  {
   "cell_type": "code",
   "execution_count": null,
   "outputs": [],
   "source": [
    "completed_df_dict = {}\n",
    "\n",
    "for df_name, df in filtered_df_dict.items():\n",
    "\n",
    "    if df.shape[0] > 0:\n",
    "        # completed_df_dict[df_name] = df[~df.name.isna()]\n",
    "        completed_df_dict[df_name] = df"
   ],
   "metadata": {
    "collapsed": false,
    "pycharm": {
     "name": "#%%\n"
    }
   }
  },
  {
   "cell_type": "code",
   "execution_count": null,
   "outputs": [],
   "source": [
    "for df_name in completed_df_dict.keys():\n",
    "    print('DATAFRAME NAME: ', df_name)\n",
    "    print('ORIGINAL DATAFRAME SIZE: ', df_dict[df_name].shape)\n",
    "    print('FILTERED DATAFRAME SIZE: ', filtered_df_dict[df_name].shape)\n",
    "    print('COMPLETE DATAFRAME SIZE: ', completed_df_dict[df_name].shape)\n",
    "    print('DIFFERENCE: ', df_dict[df_name].shape[0] - completed_df_dict[df_name].shape[0])\n",
    "    print(' ')"
   ],
   "metadata": {
    "collapsed": false,
    "pycharm": {
     "name": "#%%\n"
    }
   }
  },
  {
   "cell_type": "code",
   "execution_count": null,
   "outputs": [],
   "source": [
    "os.makedirs('filtered/', exist_ok=True)\n",
    "\n",
    "for df_name, df in completed_df_dict.items():\n",
    "\n",
    "    file_name = 'filtered_' + df_name[:-4] + '.csv'\n",
    "    df.to_csv('filtered/' + file_name)"
   ],
   "metadata": {
    "collapsed": false,
    "pycharm": {
     "name": "#%%\n"
    }
   }
  }
 ],
 "metadata": {
  "kernelspec": {
   "display_name": "Python 3",
   "language": "python",
   "name": "python3"
  },
  "language_info": {
   "codemirror_mode": {
    "name": "ipython",
    "version": 2
   },
   "file_extension": ".py",
   "mimetype": "text/x-python",
   "name": "python",
   "nbconvert_exporter": "python",
   "pygments_lexer": "ipython2",
   "version": "2.7.6"
  }
 },
 "nbformat": 4,
 "nbformat_minor": 0
}