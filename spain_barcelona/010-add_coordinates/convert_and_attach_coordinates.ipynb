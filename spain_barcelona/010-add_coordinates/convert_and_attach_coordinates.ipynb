{
 "cells": [
  {
   "cell_type": "code",
   "execution_count": null,
   "id": "4da79cee-0151-4c1a-8087-97a175a1e2d0",
   "metadata": {
    "pycharm": {
     "name": "#%%\n"
    }
   },
   "outputs": [],
   "source": [
    "import os\n",
    "import geopandas as gpd\n",
    "from simpledbf import Dbf5     # use this because it's much faster compared to the gpd function"
   ]
  },
  {
   "cell_type": "code",
   "execution_count": null,
   "outputs": [],
   "source": [
    "conda install pyproj"
   ],
   "metadata": {
    "collapsed": false,
    "pycharm": {
     "name": "#%%\n"
    }
   }
  },
  {
   "cell_type": "code",
   "execution_count": null,
   "id": "b1e2a2bb-0285-4579-b31d-b57be393822d",
   "metadata": {
    "pycharm": {
     "name": "#%%\n"
    }
   },
   "outputs": [],
   "source": [
    "input_path = '../000-download_dbf/'\n",
    "\n",
    "file_list = os.listdir(input_path)"
   ]
  },
  {
   "cell_type": "code",
   "execution_count": null,
   "outputs": [],
   "source": [
    "# IMPORT ALL THE DATABASES INTO PANDAS DATAFRAMES\n",
    "\n",
    "df_dict = {}\n",
    "\n",
    "for file_name in file_list:\n",
    "\n",
    "    if file_name[-4:] == '.dbf':\n",
    "\n",
    "        dbf_path = input_path + '/' + file_name\n",
    "\n",
    "        dbf = Dbf5(dbf_path)\n",
    "\n",
    "        df = dbf.to_dataframe()\n",
    "\n",
    "        df_dict[file_name] = df\n",
    "\n",
    "        print('Importing DataFrame: ', file_name[:-4], ' of shape ', df.shape)"
   ],
   "metadata": {
    "collapsed": false,
    "pycharm": {
     "name": "#%%\n"
    }
   }
  },
  {
   "cell_type": "code",
   "execution_count": null,
   "outputs": [],
   "source": [
    "# ADD THE COORDINATES TO THE DATAFRAMES USING CORRESPONDING SHP FILES\n",
    "\n",
    "for df_name, df in df_dict.items():\n",
    "\n",
    "    print('Starting finding coordinates for ', df_name[:-4], ' of shape ', df.shape)\n",
    "\n",
    "    shp_path = input_path + '/' + df_name[:-4] + '.shp'\n",
    "\n",
    "    shp_series = gpd.read_file(shp_path)\n",
    "\n",
    "    # project_shp_series = shp_series.to_crs(4326)\n",
    "\n",
    "    centroids = shp_series.centroid\n",
    "\n",
    "    df['lon'] = centroids.geometry.x\n",
    "    df['lat'] = centroids.geometry.y\n",
    "\n",
    "    print('Added coordinates to ', df_name[:-4], ', now shape is ', df.shape )"
   ],
   "metadata": {
    "collapsed": false,
    "pycharm": {
     "name": "#%%\n"
    }
   }
  },
  {
   "cell_type": "code",
   "execution_count": null,
   "outputs": [],
   "source": [
    "# SAVE THE RESULTS IN SEPARATE CSV FILES\n",
    "\n",
    "os.makedirs('coordinates/', exist_ok=True)\n",
    "\n",
    "for df_name, df in df_dict.items():\n",
    "\n",
    "    file_name = 'coordinates_' + df_name[:-4] + '.csv'\n",
    "    df.to_csv('coordinates/' + file_name)"
   ],
   "metadata": {
    "collapsed": false,
    "pycharm": {
     "name": "#%%\n"
    }
   }
  },
  {
   "cell_type": "code",
   "execution_count": null,
   "outputs": [],
   "source": [
    "df"
   ],
   "metadata": {
    "collapsed": false,
    "pycharm": {
     "name": "#%%\n"
    }
   }
  }
 ],
 "metadata": {
  "kernelspec": {
   "display_name": "geo_env",
   "language": "python",
   "name": "geo_env"
  },
  "language_info": {
   "codemirror_mode": {
    "name": "ipython",
    "version": 3
   },
   "file_extension": ".py",
   "mimetype": "text/x-python",
   "name": "python",
   "nbconvert_exporter": "python",
   "pygments_lexer": "ipython3",
   "version": "3.10.4"
  }
 },
 "nbformat": 4,
 "nbformat_minor": 5
}