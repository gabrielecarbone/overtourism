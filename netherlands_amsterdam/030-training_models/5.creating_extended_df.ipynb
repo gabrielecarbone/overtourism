{
 "cells": [
  {
   "cell_type": "code",
   "execution_count": 11,
   "metadata": {
    "collapsed": true,
    "pycharm": {
     "name": "#%%\n"
    }
   },
   "outputs": [],
   "source": [
    "import pandas as pd\n",
    "import sklearn\n",
    "import matplotlib as plt\n",
    "from pycaret.regression import *"
   ]
  },
  {
   "cell_type": "code",
   "execution_count": 12,
   "outputs": [
    {
     "data": {
      "text/plain": "              row  column    lat_min    lat_max   lon_min   lon_max  nature  \\\nUnnamed: 0                                                                    \nR1C1          1.0     1.0  52.000000  52.005000  4.130890  4.124010     0.0   \nR1C2          1.0     2.0  52.000000  52.005000  4.124010  4.130890     1.0   \nR1C3          1.0     3.0  52.000000  52.005000  4.130890  4.137770     4.0   \nR1C4          1.0     4.0  52.000000  52.005000  4.137770  4.144650     9.0   \nR1C5          1.0     5.0  52.000000  52.005000  4.144650  4.151530     6.0   \n...           ...     ...        ...        ...       ...       ...     ...   \nR200C196    200.0   196.0  52.994975  52.999974  5.458719  5.465599     0.0   \nR200C197    200.0   197.0  52.994975  52.999974  5.465599  5.472479     0.0   \nR200C198    200.0   198.0  52.994975  52.999974  5.472479  5.479359     0.0   \nR200C199    200.0   199.0  52.994975  52.999974  5.479359  5.486238     0.0   \nR200C200    200.0   200.0  52.994975  52.999974  5.486238  5.493118     0.0   \n\n            entertainment  transports  art  tourism  security  accessibility  \\\nUnnamed: 0                                                                     \nR1C1                  0.0         0.0  0.0      0.0       0.0            0.0   \nR1C2                  3.0         5.0  0.0      3.0       0.0            5.0   \nR1C3                  1.0        34.0  0.0      2.0       0.0            4.0   \nR1C4                  0.0        25.0  0.0      1.0       0.0            1.0   \nR1C5                  2.0        20.0  0.0      0.0       0.0            0.0   \n...                   ...         ...  ...      ...       ...            ...   \nR200C196              0.0         0.0  0.0      0.0       0.0            0.0   \nR200C197              0.0         0.0  0.0      0.0       0.0            0.0   \nR200C198              0.0         0.0  0.0      0.0       0.0            0.0   \nR200C199              0.0         0.0  0.0      0.0       0.0            0.0   \nR200C200              0.0         0.0  0.0      0.0       0.0            0.0   \n\n            sport  \nUnnamed: 0         \nR1C1          0.0  \nR1C2          0.0  \nR1C3          0.0  \nR1C4          0.0  \nR1C5          0.0  \n...           ...  \nR200C196      0.0  \nR200C197      0.0  \nR200C198      0.0  \nR200C199      0.0  \nR200C200      0.0  \n\n[40000 rows x 14 columns]",
      "text/html": "<div>\n<style scoped>\n    .dataframe tbody tr th:only-of-type {\n        vertical-align: middle;\n    }\n\n    .dataframe tbody tr th {\n        vertical-align: top;\n    }\n\n    .dataframe thead th {\n        text-align: right;\n    }\n</style>\n<table border=\"1\" class=\"dataframe\">\n  <thead>\n    <tr style=\"text-align: right;\">\n      <th></th>\n      <th>row</th>\n      <th>column</th>\n      <th>lat_min</th>\n      <th>lat_max</th>\n      <th>lon_min</th>\n      <th>lon_max</th>\n      <th>nature</th>\n      <th>entertainment</th>\n      <th>transports</th>\n      <th>art</th>\n      <th>tourism</th>\n      <th>security</th>\n      <th>accessibility</th>\n      <th>sport</th>\n    </tr>\n    <tr>\n      <th>Unnamed: 0</th>\n      <th></th>\n      <th></th>\n      <th></th>\n      <th></th>\n      <th></th>\n      <th></th>\n      <th></th>\n      <th></th>\n      <th></th>\n      <th></th>\n      <th></th>\n      <th></th>\n      <th></th>\n      <th></th>\n    </tr>\n  </thead>\n  <tbody>\n    <tr>\n      <th>R1C1</th>\n      <td>1.0</td>\n      <td>1.0</td>\n      <td>52.000000</td>\n      <td>52.005000</td>\n      <td>4.130890</td>\n      <td>4.124010</td>\n      <td>0.0</td>\n      <td>0.0</td>\n      <td>0.0</td>\n      <td>0.0</td>\n      <td>0.0</td>\n      <td>0.0</td>\n      <td>0.0</td>\n      <td>0.0</td>\n    </tr>\n    <tr>\n      <th>R1C2</th>\n      <td>1.0</td>\n      <td>2.0</td>\n      <td>52.000000</td>\n      <td>52.005000</td>\n      <td>4.124010</td>\n      <td>4.130890</td>\n      <td>1.0</td>\n      <td>3.0</td>\n      <td>5.0</td>\n      <td>0.0</td>\n      <td>3.0</td>\n      <td>0.0</td>\n      <td>5.0</td>\n      <td>0.0</td>\n    </tr>\n    <tr>\n      <th>R1C3</th>\n      <td>1.0</td>\n      <td>3.0</td>\n      <td>52.000000</td>\n      <td>52.005000</td>\n      <td>4.130890</td>\n      <td>4.137770</td>\n      <td>4.0</td>\n      <td>1.0</td>\n      <td>34.0</td>\n      <td>0.0</td>\n      <td>2.0</td>\n      <td>0.0</td>\n      <td>4.0</td>\n      <td>0.0</td>\n    </tr>\n    <tr>\n      <th>R1C4</th>\n      <td>1.0</td>\n      <td>4.0</td>\n      <td>52.000000</td>\n      <td>52.005000</td>\n      <td>4.137770</td>\n      <td>4.144650</td>\n      <td>9.0</td>\n      <td>0.0</td>\n      <td>25.0</td>\n      <td>0.0</td>\n      <td>1.0</td>\n      <td>0.0</td>\n      <td>1.0</td>\n      <td>0.0</td>\n    </tr>\n    <tr>\n      <th>R1C5</th>\n      <td>1.0</td>\n      <td>5.0</td>\n      <td>52.000000</td>\n      <td>52.005000</td>\n      <td>4.144650</td>\n      <td>4.151530</td>\n      <td>6.0</td>\n      <td>2.0</td>\n      <td>20.0</td>\n      <td>0.0</td>\n      <td>0.0</td>\n      <td>0.0</td>\n      <td>0.0</td>\n      <td>0.0</td>\n    </tr>\n    <tr>\n      <th>...</th>\n      <td>...</td>\n      <td>...</td>\n      <td>...</td>\n      <td>...</td>\n      <td>...</td>\n      <td>...</td>\n      <td>...</td>\n      <td>...</td>\n      <td>...</td>\n      <td>...</td>\n      <td>...</td>\n      <td>...</td>\n      <td>...</td>\n      <td>...</td>\n    </tr>\n    <tr>\n      <th>R200C196</th>\n      <td>200.0</td>\n      <td>196.0</td>\n      <td>52.994975</td>\n      <td>52.999974</td>\n      <td>5.458719</td>\n      <td>5.465599</td>\n      <td>0.0</td>\n      <td>0.0</td>\n      <td>0.0</td>\n      <td>0.0</td>\n      <td>0.0</td>\n      <td>0.0</td>\n      <td>0.0</td>\n      <td>0.0</td>\n    </tr>\n    <tr>\n      <th>R200C197</th>\n      <td>200.0</td>\n      <td>197.0</td>\n      <td>52.994975</td>\n      <td>52.999974</td>\n      <td>5.465599</td>\n      <td>5.472479</td>\n      <td>0.0</td>\n      <td>0.0</td>\n      <td>0.0</td>\n      <td>0.0</td>\n      <td>0.0</td>\n      <td>0.0</td>\n      <td>0.0</td>\n      <td>0.0</td>\n    </tr>\n    <tr>\n      <th>R200C198</th>\n      <td>200.0</td>\n      <td>198.0</td>\n      <td>52.994975</td>\n      <td>52.999974</td>\n      <td>5.472479</td>\n      <td>5.479359</td>\n      <td>0.0</td>\n      <td>0.0</td>\n      <td>0.0</td>\n      <td>0.0</td>\n      <td>0.0</td>\n      <td>0.0</td>\n      <td>0.0</td>\n      <td>0.0</td>\n    </tr>\n    <tr>\n      <th>R200C199</th>\n      <td>200.0</td>\n      <td>199.0</td>\n      <td>52.994975</td>\n      <td>52.999974</td>\n      <td>5.479359</td>\n      <td>5.486238</td>\n      <td>0.0</td>\n      <td>0.0</td>\n      <td>0.0</td>\n      <td>0.0</td>\n      <td>0.0</td>\n      <td>0.0</td>\n      <td>0.0</td>\n      <td>0.0</td>\n    </tr>\n    <tr>\n      <th>R200C200</th>\n      <td>200.0</td>\n      <td>200.0</td>\n      <td>52.994975</td>\n      <td>52.999974</td>\n      <td>5.486238</td>\n      <td>5.493118</td>\n      <td>0.0</td>\n      <td>0.0</td>\n      <td>0.0</td>\n      <td>0.0</td>\n      <td>0.0</td>\n      <td>0.0</td>\n      <td>0.0</td>\n      <td>0.0</td>\n    </tr>\n  </tbody>\n</table>\n<p>40000 rows × 14 columns</p>\n</div>"
     },
     "execution_count": 12,
     "metadata": {},
     "output_type": "execute_result"
    }
   ],
   "source": [
    "df = pd.read_csv('1.complete_df.csv')\n",
    "df.set_index('Unnamed: 0', inplace = True)\n",
    "df"
   ],
   "metadata": {
    "collapsed": false,
    "pycharm": {
     "name": "#%%\n"
    }
   }
  },
  {
   "cell_type": "code",
   "execution_count": 13,
   "outputs": [],
   "source": [
    "cardinal_directions = [\"N\", \"S\", \"E\", \"W\"]\n",
    "diagonal_directions = [\"NW\", \"NE\", \"SW\", \"SE\"]"
   ],
   "metadata": {
    "collapsed": false,
    "pycharm": {
     "name": "#%%\n"
    }
   }
  },
  {
   "cell_type": "code",
   "execution_count": 14,
   "outputs": [],
   "source": [
    "categories = ['nature', 'entertainment', 'transports', 'art', 'sport', 'tourism', 'security', 'accessibility']"
   ],
   "metadata": {
    "collapsed": false,
    "pycharm": {
     "name": "#%%\n"
    }
   }
  },
  {
   "cell_type": "code",
   "execution_count": 15,
   "outputs": [],
   "source": [
    "def add_cardinal_features(source_df, categories_names, direction: str):\n",
    "\n",
    "    new_categories_names = []\n",
    "    df = source_df.copy()\n",
    "    df[['row', 'column']] = df[['row', 'column']].astype(int)\n",
    "\n",
    "    if direction == 'N':\n",
    "        for category_name in categories_names:\n",
    "            new_categories_names.append(category_name + '_north')\n",
    "\n",
    "        df = df.loc[df.row > 1, ['row', 'column'] + categories_names]\n",
    "        df['row'] = df['row'] - 1\n",
    "\n",
    "    if direction == 'S':\n",
    "        for category_name in categories_names:\n",
    "            new_categories_names.append(category_name + '_south')\n",
    "\n",
    "        df = df.loc[df.row < df.row.max(), ['row', 'column'] + categories_names]\n",
    "        df['row'] = df['row'] + 1\n",
    "\n",
    "    if direction == 'W':\n",
    "        for category_name in categories_names:\n",
    "           new_categories_names.append(category_name + '_west')\n",
    "\n",
    "        df = df.loc[df.column > 1, ['row', 'column'] + categories_names]\n",
    "        df['column'] = df['column'] - 1\n",
    "\n",
    "    if direction == 'E':\n",
    "        for category_name in categories_names:\n",
    "            new_categories_names.append(category_name + '_east')\n",
    "\n",
    "        df = df.loc[df.column < df.column.max(), ['row', 'column'] + categories]\n",
    "        df['column'] = df['column'] + 1\n",
    "\n",
    "    df[['row', 'column']] = df[['row', 'column']].astype(str)\n",
    "    df.columns = ['row', 'column'] + new_categories_names\n",
    "    df.index = 'R' + df.row + 'C' + df.column\n",
    "\n",
    "    df = df[new_categories_names]\n",
    "\n",
    "    return df"
   ],
   "metadata": {
    "collapsed": false,
    "pycharm": {
     "name": "#%%\n"
    }
   }
  },
  {
   "cell_type": "code",
   "execution_count": 16,
   "outputs": [],
   "source": [
    "def add_diagonal_features(source_df, categories_names, direction: str):\n",
    "\n",
    "    new_categories_names = []\n",
    "    df = source_df.copy()\n",
    "    df[['row', 'column']] = df[['row', 'column']].astype(int)\n",
    "\n",
    "    if direction == 'NW':\n",
    "        for category_name in categories_names:\n",
    "            new_categories_names.append(category_name + '_north_west')\n",
    "\n",
    "        df = df.loc[(df.row > 1) & (df.column > 1), ['row', 'column'] + categories_names]\n",
    "        df['row'] = df['row'] - 1\n",
    "        df['column'] = df['column'] - 1\n",
    "\n",
    "    if direction == 'SW':\n",
    "        for category_name in categories_names:\n",
    "            new_categories_names.append(category_name + '_south_west')\n",
    "\n",
    "        df = df.loc[(df.row < df.row.max()) & (df.column > 1), ['row', 'column'] + categories_names]\n",
    "        df['row'] = df['row'] + 1\n",
    "        df['column'] = df['column'] - 1\n",
    "\n",
    "    if direction == 'NE':\n",
    "        for category_name in categories_names:\n",
    "            new_categories_names.append(category_name + '_north_east')\n",
    "\n",
    "        df = df.loc[(df.row > 1) & (df.column < df.column.max()), ['row', 'column'] + categories_names]\n",
    "        df['row'] = df['row'] - 1\n",
    "        df['column'] = df['column'] + 1\n",
    "\n",
    "    if direction == 'SE':\n",
    "        for category_name in categories_names:\n",
    "            new_categories_names.append(category_name + '_south_east')\n",
    "\n",
    "        df = df.loc[(df.row < df.row.max()) & (df.column < df.column.max()), ['row', 'column'] + categories]\n",
    "        df['row'] = df['row'] + 1\n",
    "        df['column'] = df['column'] + 1\n",
    "\n",
    "    df[['row', 'column']] = df[['row', 'column']].astype(str)\n",
    "    df.columns = ['row', 'column'] + new_categories_names\n",
    "    df.index = 'R' + df.row + 'C' + df.column\n",
    "\n",
    "    df = df[new_categories_names]\n",
    "\n",
    "    return df"
   ],
   "metadata": {
    "collapsed": false,
    "pycharm": {
     "name": "#%%\n"
    }
   }
  },
  {
   "cell_type": "code",
   "execution_count": 17,
   "outputs": [
    {
     "data": {
      "text/plain": "            row  column    lat_min    lat_max   lon_min   lon_max  nature  \\\nR1C1        1.0     1.0  52.000000  52.005000  4.130890  4.124010     0.0   \nR1C2        1.0     2.0  52.000000  52.005000  4.124010  4.130890     1.0   \nR1C3        1.0     3.0  52.000000  52.005000  4.130890  4.137770     4.0   \nR1C4        1.0     4.0  52.000000  52.005000  4.137770  4.144650     9.0   \nR1C5        1.0     5.0  52.000000  52.005000  4.144650  4.151530     6.0   \n...         ...     ...        ...        ...       ...       ...     ...   \nR200C196  200.0   196.0  52.994975  52.999974  5.458719  5.465599     0.0   \nR200C197  200.0   197.0  52.994975  52.999974  5.465599  5.472479     0.0   \nR200C198  200.0   198.0  52.994975  52.999974  5.472479  5.479359     0.0   \nR200C199  200.0   199.0  52.994975  52.999974  5.479359  5.486238     0.0   \nR200C200  200.0   200.0  52.994975  52.999974  5.486238  5.493118     0.0   \n\n          entertainment  transports  art  ...  security_south  \\\nR1C1                0.0         0.0  0.0  ...             NaN   \nR1C2                3.0         5.0  0.0  ...             NaN   \nR1C3                1.0        34.0  0.0  ...             NaN   \nR1C4                0.0        25.0  0.0  ...             NaN   \nR1C5                2.0        20.0  0.0  ...             NaN   \n...                 ...         ...  ...  ...             ...   \nR200C196            0.0         0.0  0.0  ...             0.0   \nR200C197            0.0         0.0  0.0  ...             0.0   \nR200C198            0.0         0.0  0.0  ...             0.0   \nR200C199            0.0         0.0  0.0  ...             0.0   \nR200C200            0.0         0.0  0.0  ...             0.0   \n\n          accessibility_south  nature_west  entertainment_west  \\\nR1C1                      NaN          1.0                 3.0   \nR1C2                      NaN          4.0                 1.0   \nR1C3                      NaN          9.0                 0.0   \nR1C4                      NaN          6.0                 2.0   \nR1C5                      NaN         16.0                 8.0   \n...                       ...          ...                 ...   \nR200C196                  0.0          0.0                 0.0   \nR200C197                  0.0          0.0                 0.0   \nR200C198                  0.0          0.0                 0.0   \nR200C199                  0.0          0.0                 0.0   \nR200C200                  0.0          NaN                 NaN   \n\n          transports_west  art_west  sport_west  tourism_west  security_west  \\\nR1C1                  5.0       0.0         0.0           3.0            0.0   \nR1C2                 34.0       0.0         0.0           2.0            0.0   \nR1C3                 25.0       0.0         0.0           1.0            0.0   \nR1C4                 20.0       0.0         0.0           0.0            0.0   \nR1C5                112.0       1.0         0.0           0.0            2.0   \n...                   ...       ...         ...           ...            ...   \nR200C196              0.0       0.0         0.0           0.0            0.0   \nR200C197              0.0       0.0         0.0           0.0            0.0   \nR200C198              0.0       0.0         0.0           0.0            0.0   \nR200C199              0.0       0.0         0.0           0.0            0.0   \nR200C200              NaN       NaN         NaN           NaN            NaN   \n\n          accessibility_west  \nR1C1                     5.0  \nR1C2                     4.0  \nR1C3                     1.0  \nR1C4                     0.0  \nR1C5                     0.0  \n...                      ...  \nR200C196                 0.0  \nR200C197                 0.0  \nR200C198                 0.0  \nR200C199                 0.0  \nR200C200                 NaN  \n\n[40000 rows x 46 columns]",
      "text/html": "<div>\n<style scoped>\n    .dataframe tbody tr th:only-of-type {\n        vertical-align: middle;\n    }\n\n    .dataframe tbody tr th {\n        vertical-align: top;\n    }\n\n    .dataframe thead th {\n        text-align: right;\n    }\n</style>\n<table border=\"1\" class=\"dataframe\">\n  <thead>\n    <tr style=\"text-align: right;\">\n      <th></th>\n      <th>row</th>\n      <th>column</th>\n      <th>lat_min</th>\n      <th>lat_max</th>\n      <th>lon_min</th>\n      <th>lon_max</th>\n      <th>nature</th>\n      <th>entertainment</th>\n      <th>transports</th>\n      <th>art</th>\n      <th>...</th>\n      <th>security_south</th>\n      <th>accessibility_south</th>\n      <th>nature_west</th>\n      <th>entertainment_west</th>\n      <th>transports_west</th>\n      <th>art_west</th>\n      <th>sport_west</th>\n      <th>tourism_west</th>\n      <th>security_west</th>\n      <th>accessibility_west</th>\n    </tr>\n  </thead>\n  <tbody>\n    <tr>\n      <th>R1C1</th>\n      <td>1.0</td>\n      <td>1.0</td>\n      <td>52.000000</td>\n      <td>52.005000</td>\n      <td>4.130890</td>\n      <td>4.124010</td>\n      <td>0.0</td>\n      <td>0.0</td>\n      <td>0.0</td>\n      <td>0.0</td>\n      <td>...</td>\n      <td>NaN</td>\n      <td>NaN</td>\n      <td>1.0</td>\n      <td>3.0</td>\n      <td>5.0</td>\n      <td>0.0</td>\n      <td>0.0</td>\n      <td>3.0</td>\n      <td>0.0</td>\n      <td>5.0</td>\n    </tr>\n    <tr>\n      <th>R1C2</th>\n      <td>1.0</td>\n      <td>2.0</td>\n      <td>52.000000</td>\n      <td>52.005000</td>\n      <td>4.124010</td>\n      <td>4.130890</td>\n      <td>1.0</td>\n      <td>3.0</td>\n      <td>5.0</td>\n      <td>0.0</td>\n      <td>...</td>\n      <td>NaN</td>\n      <td>NaN</td>\n      <td>4.0</td>\n      <td>1.0</td>\n      <td>34.0</td>\n      <td>0.0</td>\n      <td>0.0</td>\n      <td>2.0</td>\n      <td>0.0</td>\n      <td>4.0</td>\n    </tr>\n    <tr>\n      <th>R1C3</th>\n      <td>1.0</td>\n      <td>3.0</td>\n      <td>52.000000</td>\n      <td>52.005000</td>\n      <td>4.130890</td>\n      <td>4.137770</td>\n      <td>4.0</td>\n      <td>1.0</td>\n      <td>34.0</td>\n      <td>0.0</td>\n      <td>...</td>\n      <td>NaN</td>\n      <td>NaN</td>\n      <td>9.0</td>\n      <td>0.0</td>\n      <td>25.0</td>\n      <td>0.0</td>\n      <td>0.0</td>\n      <td>1.0</td>\n      <td>0.0</td>\n      <td>1.0</td>\n    </tr>\n    <tr>\n      <th>R1C4</th>\n      <td>1.0</td>\n      <td>4.0</td>\n      <td>52.000000</td>\n      <td>52.005000</td>\n      <td>4.137770</td>\n      <td>4.144650</td>\n      <td>9.0</td>\n      <td>0.0</td>\n      <td>25.0</td>\n      <td>0.0</td>\n      <td>...</td>\n      <td>NaN</td>\n      <td>NaN</td>\n      <td>6.0</td>\n      <td>2.0</td>\n      <td>20.0</td>\n      <td>0.0</td>\n      <td>0.0</td>\n      <td>0.0</td>\n      <td>0.0</td>\n      <td>0.0</td>\n    </tr>\n    <tr>\n      <th>R1C5</th>\n      <td>1.0</td>\n      <td>5.0</td>\n      <td>52.000000</td>\n      <td>52.005000</td>\n      <td>4.144650</td>\n      <td>4.151530</td>\n      <td>6.0</td>\n      <td>2.0</td>\n      <td>20.0</td>\n      <td>0.0</td>\n      <td>...</td>\n      <td>NaN</td>\n      <td>NaN</td>\n      <td>16.0</td>\n      <td>8.0</td>\n      <td>112.0</td>\n      <td>1.0</td>\n      <td>0.0</td>\n      <td>0.0</td>\n      <td>2.0</td>\n      <td>0.0</td>\n    </tr>\n    <tr>\n      <th>...</th>\n      <td>...</td>\n      <td>...</td>\n      <td>...</td>\n      <td>...</td>\n      <td>...</td>\n      <td>...</td>\n      <td>...</td>\n      <td>...</td>\n      <td>...</td>\n      <td>...</td>\n      <td>...</td>\n      <td>...</td>\n      <td>...</td>\n      <td>...</td>\n      <td>...</td>\n      <td>...</td>\n      <td>...</td>\n      <td>...</td>\n      <td>...</td>\n      <td>...</td>\n      <td>...</td>\n    </tr>\n    <tr>\n      <th>R200C196</th>\n      <td>200.0</td>\n      <td>196.0</td>\n      <td>52.994975</td>\n      <td>52.999974</td>\n      <td>5.458719</td>\n      <td>5.465599</td>\n      <td>0.0</td>\n      <td>0.0</td>\n      <td>0.0</td>\n      <td>0.0</td>\n      <td>...</td>\n      <td>0.0</td>\n      <td>0.0</td>\n      <td>0.0</td>\n      <td>0.0</td>\n      <td>0.0</td>\n      <td>0.0</td>\n      <td>0.0</td>\n      <td>0.0</td>\n      <td>0.0</td>\n      <td>0.0</td>\n    </tr>\n    <tr>\n      <th>R200C197</th>\n      <td>200.0</td>\n      <td>197.0</td>\n      <td>52.994975</td>\n      <td>52.999974</td>\n      <td>5.465599</td>\n      <td>5.472479</td>\n      <td>0.0</td>\n      <td>0.0</td>\n      <td>0.0</td>\n      <td>0.0</td>\n      <td>...</td>\n      <td>0.0</td>\n      <td>0.0</td>\n      <td>0.0</td>\n      <td>0.0</td>\n      <td>0.0</td>\n      <td>0.0</td>\n      <td>0.0</td>\n      <td>0.0</td>\n      <td>0.0</td>\n      <td>0.0</td>\n    </tr>\n    <tr>\n      <th>R200C198</th>\n      <td>200.0</td>\n      <td>198.0</td>\n      <td>52.994975</td>\n      <td>52.999974</td>\n      <td>5.472479</td>\n      <td>5.479359</td>\n      <td>0.0</td>\n      <td>0.0</td>\n      <td>0.0</td>\n      <td>0.0</td>\n      <td>...</td>\n      <td>0.0</td>\n      <td>0.0</td>\n      <td>0.0</td>\n      <td>0.0</td>\n      <td>0.0</td>\n      <td>0.0</td>\n      <td>0.0</td>\n      <td>0.0</td>\n      <td>0.0</td>\n      <td>0.0</td>\n    </tr>\n    <tr>\n      <th>R200C199</th>\n      <td>200.0</td>\n      <td>199.0</td>\n      <td>52.994975</td>\n      <td>52.999974</td>\n      <td>5.479359</td>\n      <td>5.486238</td>\n      <td>0.0</td>\n      <td>0.0</td>\n      <td>0.0</td>\n      <td>0.0</td>\n      <td>...</td>\n      <td>0.0</td>\n      <td>0.0</td>\n      <td>0.0</td>\n      <td>0.0</td>\n      <td>0.0</td>\n      <td>0.0</td>\n      <td>0.0</td>\n      <td>0.0</td>\n      <td>0.0</td>\n      <td>0.0</td>\n    </tr>\n    <tr>\n      <th>R200C200</th>\n      <td>200.0</td>\n      <td>200.0</td>\n      <td>52.994975</td>\n      <td>52.999974</td>\n      <td>5.486238</td>\n      <td>5.493118</td>\n      <td>0.0</td>\n      <td>0.0</td>\n      <td>0.0</td>\n      <td>0.0</td>\n      <td>...</td>\n      <td>0.0</td>\n      <td>0.0</td>\n      <td>NaN</td>\n      <td>NaN</td>\n      <td>NaN</td>\n      <td>NaN</td>\n      <td>NaN</td>\n      <td>NaN</td>\n      <td>NaN</td>\n      <td>NaN</td>\n    </tr>\n  </tbody>\n</table>\n<p>40000 rows × 46 columns</p>\n</div>"
     },
     "execution_count": 17,
     "metadata": {},
     "output_type": "execute_result"
    }
   ],
   "source": [
    "extended_df = df.copy()\n",
    "\n",
    "new_df = add_cardinal_features(df, categories, direction = 'W')\n",
    "extended_df = pd.concat([extended_df, new_df], axis = 1)\n",
    "\n",
    "new_df = add_cardinal_features(df, categories, direction = 'E')\n",
    "extended_df = pd.concat([extended_df, new_df], axis = 1)\n",
    "\n",
    "new_df = add_cardinal_features(df, categories, direction = 'S')\n",
    "extended_df = pd.concat([extended_df, new_df], axis = 1)\n",
    "\n",
    "new_df = add_cardinal_features(df, categories, direction = 'W')\n",
    "extended_df = pd.concat([extended_df, new_df], axis = 1)\n",
    "\n",
    "extended_df"
   ],
   "metadata": {
    "collapsed": false,
    "pycharm": {
     "name": "#%%\n"
    }
   }
  },
  {
   "cell_type": "code",
   "execution_count": 18,
   "outputs": [
    {
     "data": {
      "text/plain": "            row  column    lat_min    lat_max   lon_min   lon_max  nature  \\\nR1C1        1.0     1.0  52.000000  52.005000  4.130890  4.124010     0.0   \nR1C2        1.0     2.0  52.000000  52.005000  4.124010  4.130890     1.0   \nR1C3        1.0     3.0  52.000000  52.005000  4.130890  4.137770     4.0   \nR1C4        1.0     4.0  52.000000  52.005000  4.137770  4.144650     9.0   \nR1C5        1.0     5.0  52.000000  52.005000  4.144650  4.151530     6.0   \n...         ...     ...        ...        ...       ...       ...     ...   \nR200C196  200.0   196.0  52.994975  52.999974  5.458719  5.465599     0.0   \nR200C197  200.0   197.0  52.994975  52.999974  5.465599  5.472479     0.0   \nR200C198  200.0   198.0  52.994975  52.999974  5.472479  5.479359     0.0   \nR200C199  200.0   199.0  52.994975  52.999974  5.479359  5.486238     0.0   \nR200C200  200.0   200.0  52.994975  52.999974  5.486238  5.493118     0.0   \n\n          entertainment  transports  art  ...  security_south_west  \\\nR1C1                0.0         0.0  0.0  ...                  NaN   \nR1C2                3.0         5.0  0.0  ...                  NaN   \nR1C3                1.0        34.0  0.0  ...                  NaN   \nR1C4                0.0        25.0  0.0  ...                  NaN   \nR1C5                2.0        20.0  0.0  ...                  NaN   \n...                 ...         ...  ...  ...                  ...   \nR200C196            0.0         0.0  0.0  ...                  0.0   \nR200C197            0.0         0.0  0.0  ...                  0.0   \nR200C198            0.0         0.0  0.0  ...                  0.0   \nR200C199            0.0         0.0  0.0  ...                  0.0   \nR200C200            0.0         0.0  0.0  ...                  NaN   \n\n          accessibility_south_west  nature_north_west  \\\nR1C1                           NaN                0.0   \nR1C2                           NaN                2.0   \nR1C3                           NaN                4.0   \nR1C4                           NaN                4.0   \nR1C5                           NaN                2.0   \n...                            ...                ...   \nR200C196                       0.0                NaN   \nR200C197                       0.0                NaN   \nR200C198                       0.0                NaN   \nR200C199                       0.0                NaN   \nR200C200                       NaN                NaN   \n\n          entertainment_north_west  transports_north_west  art_north_west  \\\nR1C1                           0.0                    0.0             0.0   \nR1C2                           0.0                    1.0             0.0   \nR1C3                           0.0                    4.0             0.0   \nR1C4                           2.0                   11.0             0.0   \nR1C5                           0.0                   23.0             1.0   \n...                            ...                    ...             ...   \nR200C196                       NaN                    NaN             NaN   \nR200C197                       NaN                    NaN             NaN   \nR200C198                       NaN                    NaN             NaN   \nR200C199                       NaN                    NaN             NaN   \nR200C200                       NaN                    NaN             NaN   \n\n          sport_north_west  tourism_north_west  security_north_west  \\\nR1C1                   0.0                 0.0                  0.0   \nR1C2                   0.0                 0.0                  0.0   \nR1C3                   0.0                 1.0                  0.0   \nR1C4                   0.0                 0.0                  0.0   \nR1C5                   0.0                 0.0                  0.0   \n...                    ...                 ...                  ...   \nR200C196               NaN                 NaN                  NaN   \nR200C197               NaN                 NaN                  NaN   \nR200C198               NaN                 NaN                  NaN   \nR200C199               NaN                 NaN                  NaN   \nR200C200               NaN                 NaN                  NaN   \n\n          accessibility_north_west  \nR1C1                           0.0  \nR1C2                           0.0  \nR1C3                           0.0  \nR1C4                           0.0  \nR1C5                           0.0  \n...                            ...  \nR200C196                       NaN  \nR200C197                       NaN  \nR200C198                       NaN  \nR200C199                       NaN  \nR200C200                       NaN  \n\n[40000 rows x 78 columns]",
      "text/html": "<div>\n<style scoped>\n    .dataframe tbody tr th:only-of-type {\n        vertical-align: middle;\n    }\n\n    .dataframe tbody tr th {\n        vertical-align: top;\n    }\n\n    .dataframe thead th {\n        text-align: right;\n    }\n</style>\n<table border=\"1\" class=\"dataframe\">\n  <thead>\n    <tr style=\"text-align: right;\">\n      <th></th>\n      <th>row</th>\n      <th>column</th>\n      <th>lat_min</th>\n      <th>lat_max</th>\n      <th>lon_min</th>\n      <th>lon_max</th>\n      <th>nature</th>\n      <th>entertainment</th>\n      <th>transports</th>\n      <th>art</th>\n      <th>...</th>\n      <th>security_south_west</th>\n      <th>accessibility_south_west</th>\n      <th>nature_north_west</th>\n      <th>entertainment_north_west</th>\n      <th>transports_north_west</th>\n      <th>art_north_west</th>\n      <th>sport_north_west</th>\n      <th>tourism_north_west</th>\n      <th>security_north_west</th>\n      <th>accessibility_north_west</th>\n    </tr>\n  </thead>\n  <tbody>\n    <tr>\n      <th>R1C1</th>\n      <td>1.0</td>\n      <td>1.0</td>\n      <td>52.000000</td>\n      <td>52.005000</td>\n      <td>4.130890</td>\n      <td>4.124010</td>\n      <td>0.0</td>\n      <td>0.0</td>\n      <td>0.0</td>\n      <td>0.0</td>\n      <td>...</td>\n      <td>NaN</td>\n      <td>NaN</td>\n      <td>0.0</td>\n      <td>0.0</td>\n      <td>0.0</td>\n      <td>0.0</td>\n      <td>0.0</td>\n      <td>0.0</td>\n      <td>0.0</td>\n      <td>0.0</td>\n    </tr>\n    <tr>\n      <th>R1C2</th>\n      <td>1.0</td>\n      <td>2.0</td>\n      <td>52.000000</td>\n      <td>52.005000</td>\n      <td>4.124010</td>\n      <td>4.130890</td>\n      <td>1.0</td>\n      <td>3.0</td>\n      <td>5.0</td>\n      <td>0.0</td>\n      <td>...</td>\n      <td>NaN</td>\n      <td>NaN</td>\n      <td>2.0</td>\n      <td>0.0</td>\n      <td>1.0</td>\n      <td>0.0</td>\n      <td>0.0</td>\n      <td>0.0</td>\n      <td>0.0</td>\n      <td>0.0</td>\n    </tr>\n    <tr>\n      <th>R1C3</th>\n      <td>1.0</td>\n      <td>3.0</td>\n      <td>52.000000</td>\n      <td>52.005000</td>\n      <td>4.130890</td>\n      <td>4.137770</td>\n      <td>4.0</td>\n      <td>1.0</td>\n      <td>34.0</td>\n      <td>0.0</td>\n      <td>...</td>\n      <td>NaN</td>\n      <td>NaN</td>\n      <td>4.0</td>\n      <td>0.0</td>\n      <td>4.0</td>\n      <td>0.0</td>\n      <td>0.0</td>\n      <td>1.0</td>\n      <td>0.0</td>\n      <td>0.0</td>\n    </tr>\n    <tr>\n      <th>R1C4</th>\n      <td>1.0</td>\n      <td>4.0</td>\n      <td>52.000000</td>\n      <td>52.005000</td>\n      <td>4.137770</td>\n      <td>4.144650</td>\n      <td>9.0</td>\n      <td>0.0</td>\n      <td>25.0</td>\n      <td>0.0</td>\n      <td>...</td>\n      <td>NaN</td>\n      <td>NaN</td>\n      <td>4.0</td>\n      <td>2.0</td>\n      <td>11.0</td>\n      <td>0.0</td>\n      <td>0.0</td>\n      <td>0.0</td>\n      <td>0.0</td>\n      <td>0.0</td>\n    </tr>\n    <tr>\n      <th>R1C5</th>\n      <td>1.0</td>\n      <td>5.0</td>\n      <td>52.000000</td>\n      <td>52.005000</td>\n      <td>4.144650</td>\n      <td>4.151530</td>\n      <td>6.0</td>\n      <td>2.0</td>\n      <td>20.0</td>\n      <td>0.0</td>\n      <td>...</td>\n      <td>NaN</td>\n      <td>NaN</td>\n      <td>2.0</td>\n      <td>0.0</td>\n      <td>23.0</td>\n      <td>1.0</td>\n      <td>0.0</td>\n      <td>0.0</td>\n      <td>0.0</td>\n      <td>0.0</td>\n    </tr>\n    <tr>\n      <th>...</th>\n      <td>...</td>\n      <td>...</td>\n      <td>...</td>\n      <td>...</td>\n      <td>...</td>\n      <td>...</td>\n      <td>...</td>\n      <td>...</td>\n      <td>...</td>\n      <td>...</td>\n      <td>...</td>\n      <td>...</td>\n      <td>...</td>\n      <td>...</td>\n      <td>...</td>\n      <td>...</td>\n      <td>...</td>\n      <td>...</td>\n      <td>...</td>\n      <td>...</td>\n      <td>...</td>\n    </tr>\n    <tr>\n      <th>R200C196</th>\n      <td>200.0</td>\n      <td>196.0</td>\n      <td>52.994975</td>\n      <td>52.999974</td>\n      <td>5.458719</td>\n      <td>5.465599</td>\n      <td>0.0</td>\n      <td>0.0</td>\n      <td>0.0</td>\n      <td>0.0</td>\n      <td>...</td>\n      <td>0.0</td>\n      <td>0.0</td>\n      <td>NaN</td>\n      <td>NaN</td>\n      <td>NaN</td>\n      <td>NaN</td>\n      <td>NaN</td>\n      <td>NaN</td>\n      <td>NaN</td>\n      <td>NaN</td>\n    </tr>\n    <tr>\n      <th>R200C197</th>\n      <td>200.0</td>\n      <td>197.0</td>\n      <td>52.994975</td>\n      <td>52.999974</td>\n      <td>5.465599</td>\n      <td>5.472479</td>\n      <td>0.0</td>\n      <td>0.0</td>\n      <td>0.0</td>\n      <td>0.0</td>\n      <td>...</td>\n      <td>0.0</td>\n      <td>0.0</td>\n      <td>NaN</td>\n      <td>NaN</td>\n      <td>NaN</td>\n      <td>NaN</td>\n      <td>NaN</td>\n      <td>NaN</td>\n      <td>NaN</td>\n      <td>NaN</td>\n    </tr>\n    <tr>\n      <th>R200C198</th>\n      <td>200.0</td>\n      <td>198.0</td>\n      <td>52.994975</td>\n      <td>52.999974</td>\n      <td>5.472479</td>\n      <td>5.479359</td>\n      <td>0.0</td>\n      <td>0.0</td>\n      <td>0.0</td>\n      <td>0.0</td>\n      <td>...</td>\n      <td>0.0</td>\n      <td>0.0</td>\n      <td>NaN</td>\n      <td>NaN</td>\n      <td>NaN</td>\n      <td>NaN</td>\n      <td>NaN</td>\n      <td>NaN</td>\n      <td>NaN</td>\n      <td>NaN</td>\n    </tr>\n    <tr>\n      <th>R200C199</th>\n      <td>200.0</td>\n      <td>199.0</td>\n      <td>52.994975</td>\n      <td>52.999974</td>\n      <td>5.479359</td>\n      <td>5.486238</td>\n      <td>0.0</td>\n      <td>0.0</td>\n      <td>0.0</td>\n      <td>0.0</td>\n      <td>...</td>\n      <td>0.0</td>\n      <td>0.0</td>\n      <td>NaN</td>\n      <td>NaN</td>\n      <td>NaN</td>\n      <td>NaN</td>\n      <td>NaN</td>\n      <td>NaN</td>\n      <td>NaN</td>\n      <td>NaN</td>\n    </tr>\n    <tr>\n      <th>R200C200</th>\n      <td>200.0</td>\n      <td>200.0</td>\n      <td>52.994975</td>\n      <td>52.999974</td>\n      <td>5.486238</td>\n      <td>5.493118</td>\n      <td>0.0</td>\n      <td>0.0</td>\n      <td>0.0</td>\n      <td>0.0</td>\n      <td>...</td>\n      <td>NaN</td>\n      <td>NaN</td>\n      <td>NaN</td>\n      <td>NaN</td>\n      <td>NaN</td>\n      <td>NaN</td>\n      <td>NaN</td>\n      <td>NaN</td>\n      <td>NaN</td>\n      <td>NaN</td>\n    </tr>\n  </tbody>\n</table>\n<p>40000 rows × 78 columns</p>\n</div>"
     },
     "execution_count": 18,
     "metadata": {},
     "output_type": "execute_result"
    }
   ],
   "source": [
    "new_df = add_diagonal_features(df, categories, direction = 'NE')\n",
    "extended_df = pd.concat([extended_df, new_df], axis = 1)\n",
    "\n",
    "new_df = add_diagonal_features(df, categories, direction = 'SE')\n",
    "extended_df = pd.concat([extended_df, new_df], axis = 1)\n",
    "\n",
    "new_df = add_diagonal_features(df, categories, direction = 'SW')\n",
    "extended_df = pd.concat([extended_df, new_df], axis = 1)\n",
    "\n",
    "new_df = add_diagonal_features(df, categories, direction = 'NW')\n",
    "extended_df = pd.concat([extended_df, new_df], axis = 1)\n",
    "\n",
    "extended_df"
   ],
   "metadata": {
    "collapsed": false,
    "pycharm": {
     "name": "#%%\n"
    }
   }
  },
  {
   "cell_type": "code",
   "execution_count": 19,
   "outputs": [
    {
     "data": {
      "text/plain": "            row  column    lat_min    lat_max   lon_min   lon_max  nature  \\\nR1C1        1.0     1.0  52.000000  52.005000  4.130890  4.124010     0.0   \nR1C2        1.0     2.0  52.000000  52.005000  4.124010  4.130890     1.0   \nR1C3        1.0     3.0  52.000000  52.005000  4.130890  4.137770     4.0   \nR1C4        1.0     4.0  52.000000  52.005000  4.137770  4.144650     9.0   \nR1C5        1.0     5.0  52.000000  52.005000  4.144650  4.151530     6.0   \n...         ...     ...        ...        ...       ...       ...     ...   \nR200C196  200.0   196.0  52.994975  52.999974  5.458719  5.465599     0.0   \nR200C197  200.0   197.0  52.994975  52.999974  5.465599  5.472479     0.0   \nR200C198  200.0   198.0  52.994975  52.999974  5.472479  5.479359     0.0   \nR200C199  200.0   199.0  52.994975  52.999974  5.479359  5.486238     0.0   \nR200C200  200.0   200.0  52.994975  52.999974  5.486238  5.493118     0.0   \n\n          entertainment  transports  art  ...  security_south_west  \\\nR1C1                0.0         0.0  0.0  ...                  0.0   \nR1C2                3.0         5.0  0.0  ...                  0.0   \nR1C3                1.0        34.0  0.0  ...                  0.0   \nR1C4                0.0        25.0  0.0  ...                  0.0   \nR1C5                2.0        20.0  0.0  ...                  0.0   \n...                 ...         ...  ...  ...                  ...   \nR200C196            0.0         0.0  0.0  ...                  0.0   \nR200C197            0.0         0.0  0.0  ...                  0.0   \nR200C198            0.0         0.0  0.0  ...                  0.0   \nR200C199            0.0         0.0  0.0  ...                  0.0   \nR200C200            0.0         0.0  0.0  ...                  0.0   \n\n          accessibility_south_west  nature_north_west  \\\nR1C1                           0.0                0.0   \nR1C2                           0.0                2.0   \nR1C3                           0.0                4.0   \nR1C4                           0.0                4.0   \nR1C5                           0.0                2.0   \n...                            ...                ...   \nR200C196                       0.0                0.0   \nR200C197                       0.0                0.0   \nR200C198                       0.0                0.0   \nR200C199                       0.0                0.0   \nR200C200                       0.0                0.0   \n\n          entertainment_north_west  transports_north_west  art_north_west  \\\nR1C1                           0.0                    0.0             0.0   \nR1C2                           0.0                    1.0             0.0   \nR1C3                           0.0                    4.0             0.0   \nR1C4                           2.0                   11.0             0.0   \nR1C5                           0.0                   23.0             1.0   \n...                            ...                    ...             ...   \nR200C196                       0.0                    0.0             0.0   \nR200C197                       0.0                    0.0             0.0   \nR200C198                       0.0                    0.0             0.0   \nR200C199                       0.0                    0.0             0.0   \nR200C200                       0.0                    0.0             0.0   \n\n          sport_north_west  tourism_north_west  security_north_west  \\\nR1C1                   0.0                 0.0                  0.0   \nR1C2                   0.0                 0.0                  0.0   \nR1C3                   0.0                 1.0                  0.0   \nR1C4                   0.0                 0.0                  0.0   \nR1C5                   0.0                 0.0                  0.0   \n...                    ...                 ...                  ...   \nR200C196               0.0                 0.0                  0.0   \nR200C197               0.0                 0.0                  0.0   \nR200C198               0.0                 0.0                  0.0   \nR200C199               0.0                 0.0                  0.0   \nR200C200               0.0                 0.0                  0.0   \n\n          accessibility_north_west  \nR1C1                           0.0  \nR1C2                           0.0  \nR1C3                           0.0  \nR1C4                           0.0  \nR1C5                           0.0  \n...                            ...  \nR200C196                       0.0  \nR200C197                       0.0  \nR200C198                       0.0  \nR200C199                       0.0  \nR200C200                       0.0  \n\n[40000 rows x 78 columns]",
      "text/html": "<div>\n<style scoped>\n    .dataframe tbody tr th:only-of-type {\n        vertical-align: middle;\n    }\n\n    .dataframe tbody tr th {\n        vertical-align: top;\n    }\n\n    .dataframe thead th {\n        text-align: right;\n    }\n</style>\n<table border=\"1\" class=\"dataframe\">\n  <thead>\n    <tr style=\"text-align: right;\">\n      <th></th>\n      <th>row</th>\n      <th>column</th>\n      <th>lat_min</th>\n      <th>lat_max</th>\n      <th>lon_min</th>\n      <th>lon_max</th>\n      <th>nature</th>\n      <th>entertainment</th>\n      <th>transports</th>\n      <th>art</th>\n      <th>...</th>\n      <th>security_south_west</th>\n      <th>accessibility_south_west</th>\n      <th>nature_north_west</th>\n      <th>entertainment_north_west</th>\n      <th>transports_north_west</th>\n      <th>art_north_west</th>\n      <th>sport_north_west</th>\n      <th>tourism_north_west</th>\n      <th>security_north_west</th>\n      <th>accessibility_north_west</th>\n    </tr>\n  </thead>\n  <tbody>\n    <tr>\n      <th>R1C1</th>\n      <td>1.0</td>\n      <td>1.0</td>\n      <td>52.000000</td>\n      <td>52.005000</td>\n      <td>4.130890</td>\n      <td>4.124010</td>\n      <td>0.0</td>\n      <td>0.0</td>\n      <td>0.0</td>\n      <td>0.0</td>\n      <td>...</td>\n      <td>0.0</td>\n      <td>0.0</td>\n      <td>0.0</td>\n      <td>0.0</td>\n      <td>0.0</td>\n      <td>0.0</td>\n      <td>0.0</td>\n      <td>0.0</td>\n      <td>0.0</td>\n      <td>0.0</td>\n    </tr>\n    <tr>\n      <th>R1C2</th>\n      <td>1.0</td>\n      <td>2.0</td>\n      <td>52.000000</td>\n      <td>52.005000</td>\n      <td>4.124010</td>\n      <td>4.130890</td>\n      <td>1.0</td>\n      <td>3.0</td>\n      <td>5.0</td>\n      <td>0.0</td>\n      <td>...</td>\n      <td>0.0</td>\n      <td>0.0</td>\n      <td>2.0</td>\n      <td>0.0</td>\n      <td>1.0</td>\n      <td>0.0</td>\n      <td>0.0</td>\n      <td>0.0</td>\n      <td>0.0</td>\n      <td>0.0</td>\n    </tr>\n    <tr>\n      <th>R1C3</th>\n      <td>1.0</td>\n      <td>3.0</td>\n      <td>52.000000</td>\n      <td>52.005000</td>\n      <td>4.130890</td>\n      <td>4.137770</td>\n      <td>4.0</td>\n      <td>1.0</td>\n      <td>34.0</td>\n      <td>0.0</td>\n      <td>...</td>\n      <td>0.0</td>\n      <td>0.0</td>\n      <td>4.0</td>\n      <td>0.0</td>\n      <td>4.0</td>\n      <td>0.0</td>\n      <td>0.0</td>\n      <td>1.0</td>\n      <td>0.0</td>\n      <td>0.0</td>\n    </tr>\n    <tr>\n      <th>R1C4</th>\n      <td>1.0</td>\n      <td>4.0</td>\n      <td>52.000000</td>\n      <td>52.005000</td>\n      <td>4.137770</td>\n      <td>4.144650</td>\n      <td>9.0</td>\n      <td>0.0</td>\n      <td>25.0</td>\n      <td>0.0</td>\n      <td>...</td>\n      <td>0.0</td>\n      <td>0.0</td>\n      <td>4.0</td>\n      <td>2.0</td>\n      <td>11.0</td>\n      <td>0.0</td>\n      <td>0.0</td>\n      <td>0.0</td>\n      <td>0.0</td>\n      <td>0.0</td>\n    </tr>\n    <tr>\n      <th>R1C5</th>\n      <td>1.0</td>\n      <td>5.0</td>\n      <td>52.000000</td>\n      <td>52.005000</td>\n      <td>4.144650</td>\n      <td>4.151530</td>\n      <td>6.0</td>\n      <td>2.0</td>\n      <td>20.0</td>\n      <td>0.0</td>\n      <td>...</td>\n      <td>0.0</td>\n      <td>0.0</td>\n      <td>2.0</td>\n      <td>0.0</td>\n      <td>23.0</td>\n      <td>1.0</td>\n      <td>0.0</td>\n      <td>0.0</td>\n      <td>0.0</td>\n      <td>0.0</td>\n    </tr>\n    <tr>\n      <th>...</th>\n      <td>...</td>\n      <td>...</td>\n      <td>...</td>\n      <td>...</td>\n      <td>...</td>\n      <td>...</td>\n      <td>...</td>\n      <td>...</td>\n      <td>...</td>\n      <td>...</td>\n      <td>...</td>\n      <td>...</td>\n      <td>...</td>\n      <td>...</td>\n      <td>...</td>\n      <td>...</td>\n      <td>...</td>\n      <td>...</td>\n      <td>...</td>\n      <td>...</td>\n      <td>...</td>\n    </tr>\n    <tr>\n      <th>R200C196</th>\n      <td>200.0</td>\n      <td>196.0</td>\n      <td>52.994975</td>\n      <td>52.999974</td>\n      <td>5.458719</td>\n      <td>5.465599</td>\n      <td>0.0</td>\n      <td>0.0</td>\n      <td>0.0</td>\n      <td>0.0</td>\n      <td>...</td>\n      <td>0.0</td>\n      <td>0.0</td>\n      <td>0.0</td>\n      <td>0.0</td>\n      <td>0.0</td>\n      <td>0.0</td>\n      <td>0.0</td>\n      <td>0.0</td>\n      <td>0.0</td>\n      <td>0.0</td>\n    </tr>\n    <tr>\n      <th>R200C197</th>\n      <td>200.0</td>\n      <td>197.0</td>\n      <td>52.994975</td>\n      <td>52.999974</td>\n      <td>5.465599</td>\n      <td>5.472479</td>\n      <td>0.0</td>\n      <td>0.0</td>\n      <td>0.0</td>\n      <td>0.0</td>\n      <td>...</td>\n      <td>0.0</td>\n      <td>0.0</td>\n      <td>0.0</td>\n      <td>0.0</td>\n      <td>0.0</td>\n      <td>0.0</td>\n      <td>0.0</td>\n      <td>0.0</td>\n      <td>0.0</td>\n      <td>0.0</td>\n    </tr>\n    <tr>\n      <th>R200C198</th>\n      <td>200.0</td>\n      <td>198.0</td>\n      <td>52.994975</td>\n      <td>52.999974</td>\n      <td>5.472479</td>\n      <td>5.479359</td>\n      <td>0.0</td>\n      <td>0.0</td>\n      <td>0.0</td>\n      <td>0.0</td>\n      <td>...</td>\n      <td>0.0</td>\n      <td>0.0</td>\n      <td>0.0</td>\n      <td>0.0</td>\n      <td>0.0</td>\n      <td>0.0</td>\n      <td>0.0</td>\n      <td>0.0</td>\n      <td>0.0</td>\n      <td>0.0</td>\n    </tr>\n    <tr>\n      <th>R200C199</th>\n      <td>200.0</td>\n      <td>199.0</td>\n      <td>52.994975</td>\n      <td>52.999974</td>\n      <td>5.479359</td>\n      <td>5.486238</td>\n      <td>0.0</td>\n      <td>0.0</td>\n      <td>0.0</td>\n      <td>0.0</td>\n      <td>...</td>\n      <td>0.0</td>\n      <td>0.0</td>\n      <td>0.0</td>\n      <td>0.0</td>\n      <td>0.0</td>\n      <td>0.0</td>\n      <td>0.0</td>\n      <td>0.0</td>\n      <td>0.0</td>\n      <td>0.0</td>\n    </tr>\n    <tr>\n      <th>R200C200</th>\n      <td>200.0</td>\n      <td>200.0</td>\n      <td>52.994975</td>\n      <td>52.999974</td>\n      <td>5.486238</td>\n      <td>5.493118</td>\n      <td>0.0</td>\n      <td>0.0</td>\n      <td>0.0</td>\n      <td>0.0</td>\n      <td>...</td>\n      <td>0.0</td>\n      <td>0.0</td>\n      <td>0.0</td>\n      <td>0.0</td>\n      <td>0.0</td>\n      <td>0.0</td>\n      <td>0.0</td>\n      <td>0.0</td>\n      <td>0.0</td>\n      <td>0.0</td>\n    </tr>\n  </tbody>\n</table>\n<p>40000 rows × 78 columns</p>\n</div>"
     },
     "execution_count": 19,
     "metadata": {},
     "output_type": "execute_result"
    }
   ],
   "source": [
    "extended_df.fillna(value = 0, inplace = True)\n",
    "extended_df"
   ],
   "metadata": {
    "collapsed": false,
    "pycharm": {
     "name": "#%%\n"
    }
   }
  },
  {
   "cell_type": "code",
   "execution_count": 20,
   "outputs": [],
   "source": [
    "extended_df.to_csv('5.extended_df.csv')"
   ],
   "metadata": {
    "collapsed": false,
    "pycharm": {
     "name": "#%%\n"
    }
   }
  },
  {
   "cell_type": "code",
   "execution_count": 21,
   "outputs": [
    {
     "data": {
      "text/plain": "['nature',\n 'entertainment',\n 'transports',\n 'art',\n 'sport',\n 'tourism',\n 'security',\n 'accessibility']"
     },
     "execution_count": 21,
     "metadata": {},
     "output_type": "execute_result"
    }
   ],
   "source": [
    "categories"
   ],
   "metadata": {
    "collapsed": false,
    "pycharm": {
     "name": "#%%\n"
    }
   }
  }
 ],
 "metadata": {
  "kernelspec": {
   "display_name": "Python 3",
   "language": "python",
   "name": "python3"
  },
  "language_info": {
   "codemirror_mode": {
    "name": "ipython",
    "version": 2
   },
   "file_extension": ".py",
   "mimetype": "text/x-python",
   "name": "python",
   "nbconvert_exporter": "python",
   "pygments_lexer": "ipython2",
   "version": "2.7.6"
  }
 },
 "nbformat": 4,
 "nbformat_minor": 0
}