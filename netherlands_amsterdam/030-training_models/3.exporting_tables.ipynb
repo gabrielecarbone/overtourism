{
 "cells": [
  {
   "cell_type": "code",
   "execution_count": 4,
   "metadata": {
    "pycharm": {
     "name": "#%%\n"
    }
   },
   "outputs": [],
   "source": [
    "import geopandas as gpd\n",
    "from shapely.geometry import Polygon\n",
    "import numpy as np"
   ]
  },
  {
   "cell_type": "code",
   "execution_count": 5,
   "metadata": {
    "pycharm": {
     "name": "#%%\n"
    }
   },
   "outputs": [
    {
     "data": {
      "text/plain": "        field_1    row column            lat_min             lat_max  \\\n0          R1C2    1.0    2.0  52.00000014138715   52.00500001293753   \n1          R1C3    1.0    3.0  52.00000014138715   52.00500001293753   \n2          R1C4    1.0    4.0  52.00000014138715   52.00500001293753   \n3          R1C5    1.0    5.0  52.00000014138715   52.00500001293753   \n4          R1C6    1.0    6.0  52.00000014138715   52.00500001293753   \n...         ...    ...    ...                ...                 ...   \n20876   R200C93  200.0   93.0  52.99497457991313  52.999974451463515   \n20877   R200C94  200.0   94.0  52.99497457991313  52.999974451463515   \n20878   R200C95  200.0   95.0  52.99497457991313  52.999974451463515   \n20879  R200C110  200.0  110.0  52.99497457991313  52.999974451463515   \n20880  R200C152  200.0  152.0  52.99497457991313  52.999974451463515   \n\n                  lon_min             lon_max nature entertainment transports  \\\n0       4.124009873176462   4.130889815608598    1.0           3.0        5.0   \n1       4.130889815608598   4.137769758040735    4.0           1.0       34.0   \n2       4.137769758040735   4.144649700472871    9.0           0.0       25.0   \n3       4.144649700472871  4.1515296429050075    6.0           2.0       20.0   \n4      4.1515296429050075   4.158409585337144   16.0           8.0      112.0   \n...                   ...                 ...    ...           ...        ...   \n20876   4.750084634500875   4.756964576933012    1.0           0.0        3.0   \n20877   4.756964576933012   4.763844519365148    1.0           0.0        5.0   \n20878   4.763844519365148   4.770724461797284    3.0           1.0        2.0   \n20879   4.867043655847194  4.8739235982793305    1.0           0.0        0.0   \n20880   5.156001237996923    5.16288118042906    0.0           0.0        1.0   \n\n       art tourism security accessibility sport geometry  \n0      0.0     3.0      0.0           5.0   0.0     None  \n1      0.0     2.0      0.0           4.0   0.0     None  \n2      0.0     1.0      0.0           1.0   0.0     None  \n3      0.0     0.0      0.0           0.0   0.0     None  \n4      1.0     0.0      2.0           0.0   0.0     None  \n...    ...     ...      ...           ...   ...      ...  \n20876  0.0     0.0      0.0           0.0   0.0     None  \n20877  0.0     0.0      0.0           0.0   0.0     None  \n20878  0.0     0.0      0.0           0.0   0.0     None  \n20879  0.0     0.0      0.0           0.0   0.0     None  \n20880  0.0     0.0      0.0           0.0   0.0     None  \n\n[20881 rows x 16 columns]",
      "text/html": "<div>\n<style scoped>\n    .dataframe tbody tr th:only-of-type {\n        vertical-align: middle;\n    }\n\n    .dataframe tbody tr th {\n        vertical-align: top;\n    }\n\n    .dataframe thead th {\n        text-align: right;\n    }\n</style>\n<table border=\"1\" class=\"dataframe\">\n  <thead>\n    <tr style=\"text-align: right;\">\n      <th></th>\n      <th>field_1</th>\n      <th>row</th>\n      <th>column</th>\n      <th>lat_min</th>\n      <th>lat_max</th>\n      <th>lon_min</th>\n      <th>lon_max</th>\n      <th>nature</th>\n      <th>entertainment</th>\n      <th>transports</th>\n      <th>art</th>\n      <th>tourism</th>\n      <th>security</th>\n      <th>accessibility</th>\n      <th>sport</th>\n      <th>geometry</th>\n    </tr>\n  </thead>\n  <tbody>\n    <tr>\n      <th>0</th>\n      <td>R1C2</td>\n      <td>1.0</td>\n      <td>2.0</td>\n      <td>52.00000014138715</td>\n      <td>52.00500001293753</td>\n      <td>4.124009873176462</td>\n      <td>4.130889815608598</td>\n      <td>1.0</td>\n      <td>3.0</td>\n      <td>5.0</td>\n      <td>0.0</td>\n      <td>3.0</td>\n      <td>0.0</td>\n      <td>5.0</td>\n      <td>0.0</td>\n      <td>None</td>\n    </tr>\n    <tr>\n      <th>1</th>\n      <td>R1C3</td>\n      <td>1.0</td>\n      <td>3.0</td>\n      <td>52.00000014138715</td>\n      <td>52.00500001293753</td>\n      <td>4.130889815608598</td>\n      <td>4.137769758040735</td>\n      <td>4.0</td>\n      <td>1.0</td>\n      <td>34.0</td>\n      <td>0.0</td>\n      <td>2.0</td>\n      <td>0.0</td>\n      <td>4.0</td>\n      <td>0.0</td>\n      <td>None</td>\n    </tr>\n    <tr>\n      <th>2</th>\n      <td>R1C4</td>\n      <td>1.0</td>\n      <td>4.0</td>\n      <td>52.00000014138715</td>\n      <td>52.00500001293753</td>\n      <td>4.137769758040735</td>\n      <td>4.144649700472871</td>\n      <td>9.0</td>\n      <td>0.0</td>\n      <td>25.0</td>\n      <td>0.0</td>\n      <td>1.0</td>\n      <td>0.0</td>\n      <td>1.0</td>\n      <td>0.0</td>\n      <td>None</td>\n    </tr>\n    <tr>\n      <th>3</th>\n      <td>R1C5</td>\n      <td>1.0</td>\n      <td>5.0</td>\n      <td>52.00000014138715</td>\n      <td>52.00500001293753</td>\n      <td>4.144649700472871</td>\n      <td>4.1515296429050075</td>\n      <td>6.0</td>\n      <td>2.0</td>\n      <td>20.0</td>\n      <td>0.0</td>\n      <td>0.0</td>\n      <td>0.0</td>\n      <td>0.0</td>\n      <td>0.0</td>\n      <td>None</td>\n    </tr>\n    <tr>\n      <th>4</th>\n      <td>R1C6</td>\n      <td>1.0</td>\n      <td>6.0</td>\n      <td>52.00000014138715</td>\n      <td>52.00500001293753</td>\n      <td>4.1515296429050075</td>\n      <td>4.158409585337144</td>\n      <td>16.0</td>\n      <td>8.0</td>\n      <td>112.0</td>\n      <td>1.0</td>\n      <td>0.0</td>\n      <td>2.0</td>\n      <td>0.0</td>\n      <td>0.0</td>\n      <td>None</td>\n    </tr>\n    <tr>\n      <th>...</th>\n      <td>...</td>\n      <td>...</td>\n      <td>...</td>\n      <td>...</td>\n      <td>...</td>\n      <td>...</td>\n      <td>...</td>\n      <td>...</td>\n      <td>...</td>\n      <td>...</td>\n      <td>...</td>\n      <td>...</td>\n      <td>...</td>\n      <td>...</td>\n      <td>...</td>\n      <td>...</td>\n    </tr>\n    <tr>\n      <th>20876</th>\n      <td>R200C93</td>\n      <td>200.0</td>\n      <td>93.0</td>\n      <td>52.99497457991313</td>\n      <td>52.999974451463515</td>\n      <td>4.750084634500875</td>\n      <td>4.756964576933012</td>\n      <td>1.0</td>\n      <td>0.0</td>\n      <td>3.0</td>\n      <td>0.0</td>\n      <td>0.0</td>\n      <td>0.0</td>\n      <td>0.0</td>\n      <td>0.0</td>\n      <td>None</td>\n    </tr>\n    <tr>\n      <th>20877</th>\n      <td>R200C94</td>\n      <td>200.0</td>\n      <td>94.0</td>\n      <td>52.99497457991313</td>\n      <td>52.999974451463515</td>\n      <td>4.756964576933012</td>\n      <td>4.763844519365148</td>\n      <td>1.0</td>\n      <td>0.0</td>\n      <td>5.0</td>\n      <td>0.0</td>\n      <td>0.0</td>\n      <td>0.0</td>\n      <td>0.0</td>\n      <td>0.0</td>\n      <td>None</td>\n    </tr>\n    <tr>\n      <th>20878</th>\n      <td>R200C95</td>\n      <td>200.0</td>\n      <td>95.0</td>\n      <td>52.99497457991313</td>\n      <td>52.999974451463515</td>\n      <td>4.763844519365148</td>\n      <td>4.770724461797284</td>\n      <td>3.0</td>\n      <td>1.0</td>\n      <td>2.0</td>\n      <td>0.0</td>\n      <td>0.0</td>\n      <td>0.0</td>\n      <td>0.0</td>\n      <td>0.0</td>\n      <td>None</td>\n    </tr>\n    <tr>\n      <th>20879</th>\n      <td>R200C110</td>\n      <td>200.0</td>\n      <td>110.0</td>\n      <td>52.99497457991313</td>\n      <td>52.999974451463515</td>\n      <td>4.867043655847194</td>\n      <td>4.8739235982793305</td>\n      <td>1.0</td>\n      <td>0.0</td>\n      <td>0.0</td>\n      <td>0.0</td>\n      <td>0.0</td>\n      <td>0.0</td>\n      <td>0.0</td>\n      <td>0.0</td>\n      <td>None</td>\n    </tr>\n    <tr>\n      <th>20880</th>\n      <td>R200C152</td>\n      <td>200.0</td>\n      <td>152.0</td>\n      <td>52.99497457991313</td>\n      <td>52.999974451463515</td>\n      <td>5.156001237996923</td>\n      <td>5.16288118042906</td>\n      <td>0.0</td>\n      <td>0.0</td>\n      <td>1.0</td>\n      <td>0.0</td>\n      <td>0.0</td>\n      <td>0.0</td>\n      <td>0.0</td>\n      <td>0.0</td>\n      <td>None</td>\n    </tr>\n  </tbody>\n</table>\n<p>20881 rows × 16 columns</p>\n</div>"
     },
     "execution_count": 5,
     "metadata": {},
     "output_type": "execute_result"
    }
   ],
   "source": [
    "gdf = gpd.read_file('1.filtered_df.csv')\n",
    "gdf"
   ]
  },
  {
   "cell_type": "code",
   "execution_count": 6,
   "metadata": {
    "pycharm": {
     "name": "#%%\n"
    }
   },
   "outputs": [
    {
     "name": "stdout",
     "output_type": "stream",
     "text": [
      "Exporting:  nature\n",
      "Exporting:  entertainment\n",
      "Exporting:  transports\n",
      "Exporting:  art\n",
      "Exporting:  sport\n",
      "Exporting:  tourism\n",
      "Exporting:  security\n",
      "Exporting:  accessibility\n"
     ]
    },
    {
     "data": {
      "text/plain": "        field_1    row column            lat_min             lat_max  \\\n0          R1C2    1.0    2.0  52.00000014138715   52.00500001293753   \n1          R1C3    1.0    3.0  52.00000014138715   52.00500001293753   \n2          R1C4    1.0    4.0  52.00000014138715   52.00500001293753   \n3          R1C5    1.0    5.0  52.00000014138715   52.00500001293753   \n4          R1C6    1.0    6.0  52.00000014138715   52.00500001293753   \n...         ...    ...    ...                ...                 ...   \n20876   R200C93  200.0   93.0  52.99497457991313  52.999974451463515   \n20877   R200C94  200.0   94.0  52.99497457991313  52.999974451463515   \n20878   R200C95  200.0   95.0  52.99497457991313  52.999974451463515   \n20879  R200C110  200.0  110.0  52.99497457991313  52.999974451463515   \n20880  R200C152  200.0  152.0  52.99497457991313  52.999974451463515   \n\n                  lon_min             lon_max    nature  entertainment  \\\n0       4.124009873176462   4.130889815608598 -0.606620       0.010512   \n1       4.130889815608598   4.137769758040735 -0.538415      -0.161107   \n2       4.137769758040735   4.144649700472871 -0.424742      -0.246917   \n3       4.144649700472871  4.1515296429050075 -0.492946      -0.075298   \n4      4.1515296429050075   4.158409585337144 -0.265598       0.439560   \n...                   ...                 ...       ...            ...   \n20876   4.750084634500875   4.756964576933012 -0.606620      -0.246917   \n20877   4.756964576933012   4.763844519365148 -0.606620      -0.246917   \n20878   4.763844519365148   4.770724461797284 -0.561150      -0.161107   \n20879   4.867043655847194  4.8739235982793305 -0.606620      -0.246917   \n20880   5.156001237996923    5.16288118042906 -0.629354      -0.246917   \n\n       transports       art   tourism  security  accessibility     sport  \\\n0       -0.540009 -0.285658  0.881631 -0.116401       1.107100 -0.013842   \n1       -0.065515 -0.285658  0.518320 -0.116401       0.822705 -0.013842   \n2       -0.212772 -0.285658  0.155009 -0.116401      -0.030481 -0.013842   \n3       -0.294581 -0.285658 -0.208302 -0.116401      -0.314876 -0.013842   \n4        1.210711  0.505538 -0.208302  0.867638      -0.314876 -0.013842   \n...           ...       ...       ...       ...            ...       ...   \n20876   -0.572733 -0.285658 -0.208302 -0.116401      -0.314876 -0.013842   \n20877   -0.540009 -0.285658 -0.208302 -0.116401      -0.314876 -0.013842   \n20878   -0.589095 -0.285658 -0.208302 -0.116401      -0.314876 -0.013842   \n20879   -0.621818 -0.285658 -0.208302 -0.116401      -0.314876 -0.013842   \n20880   -0.605456 -0.285658 -0.208302 -0.116401      -0.314876 -0.013842   \n\n      geometry  \n0         None  \n1         None  \n2         None  \n3         None  \n4         None  \n...        ...  \n20876     None  \n20877     None  \n20878     None  \n20879     None  \n20880     None  \n\n[20881 rows x 16 columns]",
      "text/html": "<div>\n<style scoped>\n    .dataframe tbody tr th:only-of-type {\n        vertical-align: middle;\n    }\n\n    .dataframe tbody tr th {\n        vertical-align: top;\n    }\n\n    .dataframe thead th {\n        text-align: right;\n    }\n</style>\n<table border=\"1\" class=\"dataframe\">\n  <thead>\n    <tr style=\"text-align: right;\">\n      <th></th>\n      <th>field_1</th>\n      <th>row</th>\n      <th>column</th>\n      <th>lat_min</th>\n      <th>lat_max</th>\n      <th>lon_min</th>\n      <th>lon_max</th>\n      <th>nature</th>\n      <th>entertainment</th>\n      <th>transports</th>\n      <th>art</th>\n      <th>tourism</th>\n      <th>security</th>\n      <th>accessibility</th>\n      <th>sport</th>\n      <th>geometry</th>\n    </tr>\n  </thead>\n  <tbody>\n    <tr>\n      <th>0</th>\n      <td>R1C2</td>\n      <td>1.0</td>\n      <td>2.0</td>\n      <td>52.00000014138715</td>\n      <td>52.00500001293753</td>\n      <td>4.124009873176462</td>\n      <td>4.130889815608598</td>\n      <td>-0.606620</td>\n      <td>0.010512</td>\n      <td>-0.540009</td>\n      <td>-0.285658</td>\n      <td>0.881631</td>\n      <td>-0.116401</td>\n      <td>1.107100</td>\n      <td>-0.013842</td>\n      <td>None</td>\n    </tr>\n    <tr>\n      <th>1</th>\n      <td>R1C3</td>\n      <td>1.0</td>\n      <td>3.0</td>\n      <td>52.00000014138715</td>\n      <td>52.00500001293753</td>\n      <td>4.130889815608598</td>\n      <td>4.137769758040735</td>\n      <td>-0.538415</td>\n      <td>-0.161107</td>\n      <td>-0.065515</td>\n      <td>-0.285658</td>\n      <td>0.518320</td>\n      <td>-0.116401</td>\n      <td>0.822705</td>\n      <td>-0.013842</td>\n      <td>None</td>\n    </tr>\n    <tr>\n      <th>2</th>\n      <td>R1C4</td>\n      <td>1.0</td>\n      <td>4.0</td>\n      <td>52.00000014138715</td>\n      <td>52.00500001293753</td>\n      <td>4.137769758040735</td>\n      <td>4.144649700472871</td>\n      <td>-0.424742</td>\n      <td>-0.246917</td>\n      <td>-0.212772</td>\n      <td>-0.285658</td>\n      <td>0.155009</td>\n      <td>-0.116401</td>\n      <td>-0.030481</td>\n      <td>-0.013842</td>\n      <td>None</td>\n    </tr>\n    <tr>\n      <th>3</th>\n      <td>R1C5</td>\n      <td>1.0</td>\n      <td>5.0</td>\n      <td>52.00000014138715</td>\n      <td>52.00500001293753</td>\n      <td>4.144649700472871</td>\n      <td>4.1515296429050075</td>\n      <td>-0.492946</td>\n      <td>-0.075298</td>\n      <td>-0.294581</td>\n      <td>-0.285658</td>\n      <td>-0.208302</td>\n      <td>-0.116401</td>\n      <td>-0.314876</td>\n      <td>-0.013842</td>\n      <td>None</td>\n    </tr>\n    <tr>\n      <th>4</th>\n      <td>R1C6</td>\n      <td>1.0</td>\n      <td>6.0</td>\n      <td>52.00000014138715</td>\n      <td>52.00500001293753</td>\n      <td>4.1515296429050075</td>\n      <td>4.158409585337144</td>\n      <td>-0.265598</td>\n      <td>0.439560</td>\n      <td>1.210711</td>\n      <td>0.505538</td>\n      <td>-0.208302</td>\n      <td>0.867638</td>\n      <td>-0.314876</td>\n      <td>-0.013842</td>\n      <td>None</td>\n    </tr>\n    <tr>\n      <th>...</th>\n      <td>...</td>\n      <td>...</td>\n      <td>...</td>\n      <td>...</td>\n      <td>...</td>\n      <td>...</td>\n      <td>...</td>\n      <td>...</td>\n      <td>...</td>\n      <td>...</td>\n      <td>...</td>\n      <td>...</td>\n      <td>...</td>\n      <td>...</td>\n      <td>...</td>\n      <td>...</td>\n    </tr>\n    <tr>\n      <th>20876</th>\n      <td>R200C93</td>\n      <td>200.0</td>\n      <td>93.0</td>\n      <td>52.99497457991313</td>\n      <td>52.999974451463515</td>\n      <td>4.750084634500875</td>\n      <td>4.756964576933012</td>\n      <td>-0.606620</td>\n      <td>-0.246917</td>\n      <td>-0.572733</td>\n      <td>-0.285658</td>\n      <td>-0.208302</td>\n      <td>-0.116401</td>\n      <td>-0.314876</td>\n      <td>-0.013842</td>\n      <td>None</td>\n    </tr>\n    <tr>\n      <th>20877</th>\n      <td>R200C94</td>\n      <td>200.0</td>\n      <td>94.0</td>\n      <td>52.99497457991313</td>\n      <td>52.999974451463515</td>\n      <td>4.756964576933012</td>\n      <td>4.763844519365148</td>\n      <td>-0.606620</td>\n      <td>-0.246917</td>\n      <td>-0.540009</td>\n      <td>-0.285658</td>\n      <td>-0.208302</td>\n      <td>-0.116401</td>\n      <td>-0.314876</td>\n      <td>-0.013842</td>\n      <td>None</td>\n    </tr>\n    <tr>\n      <th>20878</th>\n      <td>R200C95</td>\n      <td>200.0</td>\n      <td>95.0</td>\n      <td>52.99497457991313</td>\n      <td>52.999974451463515</td>\n      <td>4.763844519365148</td>\n      <td>4.770724461797284</td>\n      <td>-0.561150</td>\n      <td>-0.161107</td>\n      <td>-0.589095</td>\n      <td>-0.285658</td>\n      <td>-0.208302</td>\n      <td>-0.116401</td>\n      <td>-0.314876</td>\n      <td>-0.013842</td>\n      <td>None</td>\n    </tr>\n    <tr>\n      <th>20879</th>\n      <td>R200C110</td>\n      <td>200.0</td>\n      <td>110.0</td>\n      <td>52.99497457991313</td>\n      <td>52.999974451463515</td>\n      <td>4.867043655847194</td>\n      <td>4.8739235982793305</td>\n      <td>-0.606620</td>\n      <td>-0.246917</td>\n      <td>-0.621818</td>\n      <td>-0.285658</td>\n      <td>-0.208302</td>\n      <td>-0.116401</td>\n      <td>-0.314876</td>\n      <td>-0.013842</td>\n      <td>None</td>\n    </tr>\n    <tr>\n      <th>20880</th>\n      <td>R200C152</td>\n      <td>200.0</td>\n      <td>152.0</td>\n      <td>52.99497457991313</td>\n      <td>52.999974451463515</td>\n      <td>5.156001237996923</td>\n      <td>5.16288118042906</td>\n      <td>-0.629354</td>\n      <td>-0.246917</td>\n      <td>-0.605456</td>\n      <td>-0.285658</td>\n      <td>-0.208302</td>\n      <td>-0.116401</td>\n      <td>-0.314876</td>\n      <td>-0.013842</td>\n      <td>None</td>\n    </tr>\n  </tbody>\n</table>\n<p>20881 rows × 16 columns</p>\n</div>"
     },
     "execution_count": 6,
     "metadata": {},
     "output_type": "execute_result"
    }
   ],
   "source": [
    "columns_to_normalize = ['nature', 'entertainment', 'transports', 'art', 'sport', 'tourism', 'security', 'accessibility']\n",
    "\n",
    "for column in columns_to_normalize:\n",
    "    print('Exporting: ', column)\n",
    "    gdf[column] = [float(x) for x in gdf[column]]\n",
    "\n",
    "    # normalization\n",
    "    gdf[column] = (gdf[column] - gdf[column].mean())\n",
    "    gdf[column] = gdf[column] / gdf[column].std()\n",
    "\n",
    "    # removing outliers\n",
    "    low = gdf[column].quantile(0.01)\n",
    "    gdf.loc[gdf[column] < low, column] = low\n",
    "\n",
    "    high = gdf[column].quantile(0.99)\n",
    "    gdf.loc[gdf[column] > high, column] = high\n",
    "\n",
    "gdf"
   ]
  },
  {
   "cell_type": "code",
   "execution_count": 7,
   "metadata": {
    "pycharm": {
     "name": "#%%\n"
    }
   },
   "outputs": [],
   "source": [
    "lat_min_list = [float(x) for x in gdf.lat_min.to_list()]\n",
    "lat_max_list = [float(x) for x in gdf.lat_max.to_list()]\n",
    "\n",
    "lon_min_list = [float(x) for x in gdf.lon_min.to_list()]\n",
    "lon_max_list = [float(x) for x in gdf.lon_max.to_list()]"
   ]
  },
  {
   "cell_type": "code",
   "execution_count": 8,
   "metadata": {
    "pycharm": {
     "name": "#%%\n"
    }
   },
   "outputs": [],
   "source": [
    "polygons = []\n",
    "\n",
    "for lat_min, lat_max, lon_min, lon_max in zip(lat_min_list, lat_max_list, lon_min_list, lon_max_list):\n",
    "    polygons.append(Polygon([(lon_max, lat_max), (lon_min, lat_max), (lon_min, lat_min), (lon_max, lat_min)]))"
   ]
  },
  {
   "cell_type": "code",
   "execution_count": 9,
   "metadata": {
    "pycharm": {
     "name": "#%%\n"
    }
   },
   "outputs": [
    {
     "data": {
      "text/plain": "        field_1    row column            lat_min             lat_max  \\\n0          R1C2    1.0    2.0  52.00000014138715   52.00500001293753   \n1          R1C3    1.0    3.0  52.00000014138715   52.00500001293753   \n2          R1C4    1.0    4.0  52.00000014138715   52.00500001293753   \n3          R1C5    1.0    5.0  52.00000014138715   52.00500001293753   \n4          R1C6    1.0    6.0  52.00000014138715   52.00500001293753   \n...         ...    ...    ...                ...                 ...   \n20876   R200C93  200.0   93.0  52.99497457991313  52.999974451463515   \n20877   R200C94  200.0   94.0  52.99497457991313  52.999974451463515   \n20878   R200C95  200.0   95.0  52.99497457991313  52.999974451463515   \n20879  R200C110  200.0  110.0  52.99497457991313  52.999974451463515   \n20880  R200C152  200.0  152.0  52.99497457991313  52.999974451463515   \n\n                  lon_min             lon_max    nature  entertainment  \\\n0       4.124009873176462   4.130889815608598 -0.606620       0.010512   \n1       4.130889815608598   4.137769758040735 -0.538415      -0.161107   \n2       4.137769758040735   4.144649700472871 -0.424742      -0.246917   \n3       4.144649700472871  4.1515296429050075 -0.492946      -0.075298   \n4      4.1515296429050075   4.158409585337144 -0.265598       0.439560   \n...                   ...                 ...       ...            ...   \n20876   4.750084634500875   4.756964576933012 -0.606620      -0.246917   \n20877   4.756964576933012   4.763844519365148 -0.606620      -0.246917   \n20878   4.763844519365148   4.770724461797284 -0.561150      -0.161107   \n20879   4.867043655847194  4.8739235982793305 -0.606620      -0.246917   \n20880   5.156001237996923    5.16288118042906 -0.629354      -0.246917   \n\n       transports       art   tourism  security  accessibility     sport  \\\n0       -0.540009 -0.285658  0.881631 -0.116401       1.107100 -0.013842   \n1       -0.065515 -0.285658  0.518320 -0.116401       0.822705 -0.013842   \n2       -0.212772 -0.285658  0.155009 -0.116401      -0.030481 -0.013842   \n3       -0.294581 -0.285658 -0.208302 -0.116401      -0.314876 -0.013842   \n4        1.210711  0.505538 -0.208302  0.867638      -0.314876 -0.013842   \n...           ...       ...       ...       ...            ...       ...   \n20876   -0.572733 -0.285658 -0.208302 -0.116401      -0.314876 -0.013842   \n20877   -0.540009 -0.285658 -0.208302 -0.116401      -0.314876 -0.013842   \n20878   -0.589095 -0.285658 -0.208302 -0.116401      -0.314876 -0.013842   \n20879   -0.621818 -0.285658 -0.208302 -0.116401      -0.314876 -0.013842   \n20880   -0.605456 -0.285658 -0.208302 -0.116401      -0.314876 -0.013842   \n\n                                                geometry  \n0      POLYGON ((4.13089 52.00500, 4.12401 52.00500, ...  \n1      POLYGON ((4.13777 52.00500, 4.13089 52.00500, ...  \n2      POLYGON ((4.14465 52.00500, 4.13777 52.00500, ...  \n3      POLYGON ((4.15153 52.00500, 4.14465 52.00500, ...  \n4      POLYGON ((4.15841 52.00500, 4.15153 52.00500, ...  \n...                                                  ...  \n20876  POLYGON ((4.75696 52.99997, 4.75008 52.99997, ...  \n20877  POLYGON ((4.76384 52.99997, 4.75696 52.99997, ...  \n20878  POLYGON ((4.77072 52.99997, 4.76384 52.99997, ...  \n20879  POLYGON ((4.87392 52.99997, 4.86704 52.99997, ...  \n20880  POLYGON ((5.16288 52.99997, 5.15600 52.99997, ...  \n\n[20881 rows x 16 columns]",
      "text/html": "<div>\n<style scoped>\n    .dataframe tbody tr th:only-of-type {\n        vertical-align: middle;\n    }\n\n    .dataframe tbody tr th {\n        vertical-align: top;\n    }\n\n    .dataframe thead th {\n        text-align: right;\n    }\n</style>\n<table border=\"1\" class=\"dataframe\">\n  <thead>\n    <tr style=\"text-align: right;\">\n      <th></th>\n      <th>field_1</th>\n      <th>row</th>\n      <th>column</th>\n      <th>lat_min</th>\n      <th>lat_max</th>\n      <th>lon_min</th>\n      <th>lon_max</th>\n      <th>nature</th>\n      <th>entertainment</th>\n      <th>transports</th>\n      <th>art</th>\n      <th>tourism</th>\n      <th>security</th>\n      <th>accessibility</th>\n      <th>sport</th>\n      <th>geometry</th>\n    </tr>\n  </thead>\n  <tbody>\n    <tr>\n      <th>0</th>\n      <td>R1C2</td>\n      <td>1.0</td>\n      <td>2.0</td>\n      <td>52.00000014138715</td>\n      <td>52.00500001293753</td>\n      <td>4.124009873176462</td>\n      <td>4.130889815608598</td>\n      <td>-0.606620</td>\n      <td>0.010512</td>\n      <td>-0.540009</td>\n      <td>-0.285658</td>\n      <td>0.881631</td>\n      <td>-0.116401</td>\n      <td>1.107100</td>\n      <td>-0.013842</td>\n      <td>POLYGON ((4.13089 52.00500, 4.12401 52.00500, ...</td>\n    </tr>\n    <tr>\n      <th>1</th>\n      <td>R1C3</td>\n      <td>1.0</td>\n      <td>3.0</td>\n      <td>52.00000014138715</td>\n      <td>52.00500001293753</td>\n      <td>4.130889815608598</td>\n      <td>4.137769758040735</td>\n      <td>-0.538415</td>\n      <td>-0.161107</td>\n      <td>-0.065515</td>\n      <td>-0.285658</td>\n      <td>0.518320</td>\n      <td>-0.116401</td>\n      <td>0.822705</td>\n      <td>-0.013842</td>\n      <td>POLYGON ((4.13777 52.00500, 4.13089 52.00500, ...</td>\n    </tr>\n    <tr>\n      <th>2</th>\n      <td>R1C4</td>\n      <td>1.0</td>\n      <td>4.0</td>\n      <td>52.00000014138715</td>\n      <td>52.00500001293753</td>\n      <td>4.137769758040735</td>\n      <td>4.144649700472871</td>\n      <td>-0.424742</td>\n      <td>-0.246917</td>\n      <td>-0.212772</td>\n      <td>-0.285658</td>\n      <td>0.155009</td>\n      <td>-0.116401</td>\n      <td>-0.030481</td>\n      <td>-0.013842</td>\n      <td>POLYGON ((4.14465 52.00500, 4.13777 52.00500, ...</td>\n    </tr>\n    <tr>\n      <th>3</th>\n      <td>R1C5</td>\n      <td>1.0</td>\n      <td>5.0</td>\n      <td>52.00000014138715</td>\n      <td>52.00500001293753</td>\n      <td>4.144649700472871</td>\n      <td>4.1515296429050075</td>\n      <td>-0.492946</td>\n      <td>-0.075298</td>\n      <td>-0.294581</td>\n      <td>-0.285658</td>\n      <td>-0.208302</td>\n      <td>-0.116401</td>\n      <td>-0.314876</td>\n      <td>-0.013842</td>\n      <td>POLYGON ((4.15153 52.00500, 4.14465 52.00500, ...</td>\n    </tr>\n    <tr>\n      <th>4</th>\n      <td>R1C6</td>\n      <td>1.0</td>\n      <td>6.0</td>\n      <td>52.00000014138715</td>\n      <td>52.00500001293753</td>\n      <td>4.1515296429050075</td>\n      <td>4.158409585337144</td>\n      <td>-0.265598</td>\n      <td>0.439560</td>\n      <td>1.210711</td>\n      <td>0.505538</td>\n      <td>-0.208302</td>\n      <td>0.867638</td>\n      <td>-0.314876</td>\n      <td>-0.013842</td>\n      <td>POLYGON ((4.15841 52.00500, 4.15153 52.00500, ...</td>\n    </tr>\n    <tr>\n      <th>...</th>\n      <td>...</td>\n      <td>...</td>\n      <td>...</td>\n      <td>...</td>\n      <td>...</td>\n      <td>...</td>\n      <td>...</td>\n      <td>...</td>\n      <td>...</td>\n      <td>...</td>\n      <td>...</td>\n      <td>...</td>\n      <td>...</td>\n      <td>...</td>\n      <td>...</td>\n      <td>...</td>\n    </tr>\n    <tr>\n      <th>20876</th>\n      <td>R200C93</td>\n      <td>200.0</td>\n      <td>93.0</td>\n      <td>52.99497457991313</td>\n      <td>52.999974451463515</td>\n      <td>4.750084634500875</td>\n      <td>4.756964576933012</td>\n      <td>-0.606620</td>\n      <td>-0.246917</td>\n      <td>-0.572733</td>\n      <td>-0.285658</td>\n      <td>-0.208302</td>\n      <td>-0.116401</td>\n      <td>-0.314876</td>\n      <td>-0.013842</td>\n      <td>POLYGON ((4.75696 52.99997, 4.75008 52.99997, ...</td>\n    </tr>\n    <tr>\n      <th>20877</th>\n      <td>R200C94</td>\n      <td>200.0</td>\n      <td>94.0</td>\n      <td>52.99497457991313</td>\n      <td>52.999974451463515</td>\n      <td>4.756964576933012</td>\n      <td>4.763844519365148</td>\n      <td>-0.606620</td>\n      <td>-0.246917</td>\n      <td>-0.540009</td>\n      <td>-0.285658</td>\n      <td>-0.208302</td>\n      <td>-0.116401</td>\n      <td>-0.314876</td>\n      <td>-0.013842</td>\n      <td>POLYGON ((4.76384 52.99997, 4.75696 52.99997, ...</td>\n    </tr>\n    <tr>\n      <th>20878</th>\n      <td>R200C95</td>\n      <td>200.0</td>\n      <td>95.0</td>\n      <td>52.99497457991313</td>\n      <td>52.999974451463515</td>\n      <td>4.763844519365148</td>\n      <td>4.770724461797284</td>\n      <td>-0.561150</td>\n      <td>-0.161107</td>\n      <td>-0.589095</td>\n      <td>-0.285658</td>\n      <td>-0.208302</td>\n      <td>-0.116401</td>\n      <td>-0.314876</td>\n      <td>-0.013842</td>\n      <td>POLYGON ((4.77072 52.99997, 4.76384 52.99997, ...</td>\n    </tr>\n    <tr>\n      <th>20879</th>\n      <td>R200C110</td>\n      <td>200.0</td>\n      <td>110.0</td>\n      <td>52.99497457991313</td>\n      <td>52.999974451463515</td>\n      <td>4.867043655847194</td>\n      <td>4.8739235982793305</td>\n      <td>-0.606620</td>\n      <td>-0.246917</td>\n      <td>-0.621818</td>\n      <td>-0.285658</td>\n      <td>-0.208302</td>\n      <td>-0.116401</td>\n      <td>-0.314876</td>\n      <td>-0.013842</td>\n      <td>POLYGON ((4.87392 52.99997, 4.86704 52.99997, ...</td>\n    </tr>\n    <tr>\n      <th>20880</th>\n      <td>R200C152</td>\n      <td>200.0</td>\n      <td>152.0</td>\n      <td>52.99497457991313</td>\n      <td>52.999974451463515</td>\n      <td>5.156001237996923</td>\n      <td>5.16288118042906</td>\n      <td>-0.629354</td>\n      <td>-0.246917</td>\n      <td>-0.605456</td>\n      <td>-0.285658</td>\n      <td>-0.208302</td>\n      <td>-0.116401</td>\n      <td>-0.314876</td>\n      <td>-0.013842</td>\n      <td>POLYGON ((5.16288 52.99997, 5.15600 52.99997, ...</td>\n    </tr>\n  </tbody>\n</table>\n<p>20881 rows × 16 columns</p>\n</div>"
     },
     "execution_count": 9,
     "metadata": {},
     "output_type": "execute_result"
    }
   ],
   "source": [
    "gdf['geometry'] = polygons\n",
    "gdf"
   ]
  },
  {
   "cell_type": "code",
   "execution_count": 10,
   "metadata": {
    "pycharm": {
     "name": "#%%\n"
    }
   },
   "outputs": [
    {
     "data": {
      "text/plain": "field_1            object\nrow                object\ncolumn             object\nlat_min            object\nlat_max            object\nlon_min            object\nlon_max            object\nnature            float64\nentertainment     float64\ntransports        float64\nart               float64\ntourism           float64\nsecurity          float64\naccessibility     float64\nsport             float64\ngeometry         geometry\ndtype: object"
     },
     "execution_count": 10,
     "metadata": {},
     "output_type": "execute_result"
    }
   ],
   "source": [
    "gdf.to_csv('map_to_export.csv')\n",
    "gdf.dtypes"
   ]
  },
  {
   "cell_type": "code",
   "execution_count": 11,
   "metadata": {
    "pycharm": {
     "name": "#%%\n"
    }
   },
   "outputs": [
    {
     "data": {
      "text/plain": "        field_1    nature  entertainment  transports       art   tourism  \\\n0          R1C2 -0.606620       0.010512   -0.540009 -0.285658  0.881631   \n1          R1C3 -0.538415      -0.161107   -0.065515 -0.285658  0.518320   \n2          R1C4 -0.424742      -0.246917   -0.212772 -0.285658  0.155009   \n3          R1C5 -0.492946      -0.075298   -0.294581 -0.285658 -0.208302   \n4          R1C6 -0.265598       0.439560    1.210711  0.505538 -0.208302   \n...         ...       ...            ...         ...       ...       ...   \n20876   R200C93 -0.606620      -0.246917   -0.572733 -0.285658 -0.208302   \n20877   R200C94 -0.606620      -0.246917   -0.540009 -0.285658 -0.208302   \n20878   R200C95 -0.561150      -0.161107   -0.589095 -0.285658 -0.208302   \n20879  R200C110 -0.606620      -0.246917   -0.621818 -0.285658 -0.208302   \n20880  R200C152 -0.629354      -0.246917   -0.605456 -0.285658 -0.208302   \n\n       security  accessibility     sport  \\\n0     -0.116401       1.107100 -0.013842   \n1     -0.116401       0.822705 -0.013842   \n2     -0.116401      -0.030481 -0.013842   \n3     -0.116401      -0.314876 -0.013842   \n4      0.867638      -0.314876 -0.013842   \n...         ...            ...       ...   \n20876 -0.116401      -0.314876 -0.013842   \n20877 -0.116401      -0.314876 -0.013842   \n20878 -0.116401      -0.314876 -0.013842   \n20879 -0.116401      -0.314876 -0.013842   \n20880 -0.116401      -0.314876 -0.013842   \n\n                                                geometry  \n0      POLYGON ((4.13089 52.00500, 4.12401 52.00500, ...  \n1      POLYGON ((4.13777 52.00500, 4.13089 52.00500, ...  \n2      POLYGON ((4.14465 52.00500, 4.13777 52.00500, ...  \n3      POLYGON ((4.15153 52.00500, 4.14465 52.00500, ...  \n4      POLYGON ((4.15841 52.00500, 4.15153 52.00500, ...  \n...                                                  ...  \n20876  POLYGON ((4.75696 52.99997, 4.75008 52.99997, ...  \n20877  POLYGON ((4.76384 52.99997, 4.75696 52.99997, ...  \n20878  POLYGON ((4.77072 52.99997, 4.76384 52.99997, ...  \n20879  POLYGON ((4.87392 52.99997, 4.86704 52.99997, ...  \n20880  POLYGON ((5.16288 52.99997, 5.15600 52.99997, ...  \n\n[20881 rows x 10 columns]",
      "text/html": "<div>\n<style scoped>\n    .dataframe tbody tr th:only-of-type {\n        vertical-align: middle;\n    }\n\n    .dataframe tbody tr th {\n        vertical-align: top;\n    }\n\n    .dataframe thead th {\n        text-align: right;\n    }\n</style>\n<table border=\"1\" class=\"dataframe\">\n  <thead>\n    <tr style=\"text-align: right;\">\n      <th></th>\n      <th>field_1</th>\n      <th>nature</th>\n      <th>entertainment</th>\n      <th>transports</th>\n      <th>art</th>\n      <th>tourism</th>\n      <th>security</th>\n      <th>accessibility</th>\n      <th>sport</th>\n      <th>geometry</th>\n    </tr>\n  </thead>\n  <tbody>\n    <tr>\n      <th>0</th>\n      <td>R1C2</td>\n      <td>-0.606620</td>\n      <td>0.010512</td>\n      <td>-0.540009</td>\n      <td>-0.285658</td>\n      <td>0.881631</td>\n      <td>-0.116401</td>\n      <td>1.107100</td>\n      <td>-0.013842</td>\n      <td>POLYGON ((4.13089 52.00500, 4.12401 52.00500, ...</td>\n    </tr>\n    <tr>\n      <th>1</th>\n      <td>R1C3</td>\n      <td>-0.538415</td>\n      <td>-0.161107</td>\n      <td>-0.065515</td>\n      <td>-0.285658</td>\n      <td>0.518320</td>\n      <td>-0.116401</td>\n      <td>0.822705</td>\n      <td>-0.013842</td>\n      <td>POLYGON ((4.13777 52.00500, 4.13089 52.00500, ...</td>\n    </tr>\n    <tr>\n      <th>2</th>\n      <td>R1C4</td>\n      <td>-0.424742</td>\n      <td>-0.246917</td>\n      <td>-0.212772</td>\n      <td>-0.285658</td>\n      <td>0.155009</td>\n      <td>-0.116401</td>\n      <td>-0.030481</td>\n      <td>-0.013842</td>\n      <td>POLYGON ((4.14465 52.00500, 4.13777 52.00500, ...</td>\n    </tr>\n    <tr>\n      <th>3</th>\n      <td>R1C5</td>\n      <td>-0.492946</td>\n      <td>-0.075298</td>\n      <td>-0.294581</td>\n      <td>-0.285658</td>\n      <td>-0.208302</td>\n      <td>-0.116401</td>\n      <td>-0.314876</td>\n      <td>-0.013842</td>\n      <td>POLYGON ((4.15153 52.00500, 4.14465 52.00500, ...</td>\n    </tr>\n    <tr>\n      <th>4</th>\n      <td>R1C6</td>\n      <td>-0.265598</td>\n      <td>0.439560</td>\n      <td>1.210711</td>\n      <td>0.505538</td>\n      <td>-0.208302</td>\n      <td>0.867638</td>\n      <td>-0.314876</td>\n      <td>-0.013842</td>\n      <td>POLYGON ((4.15841 52.00500, 4.15153 52.00500, ...</td>\n    </tr>\n    <tr>\n      <th>...</th>\n      <td>...</td>\n      <td>...</td>\n      <td>...</td>\n      <td>...</td>\n      <td>...</td>\n      <td>...</td>\n      <td>...</td>\n      <td>...</td>\n      <td>...</td>\n      <td>...</td>\n    </tr>\n    <tr>\n      <th>20876</th>\n      <td>R200C93</td>\n      <td>-0.606620</td>\n      <td>-0.246917</td>\n      <td>-0.572733</td>\n      <td>-0.285658</td>\n      <td>-0.208302</td>\n      <td>-0.116401</td>\n      <td>-0.314876</td>\n      <td>-0.013842</td>\n      <td>POLYGON ((4.75696 52.99997, 4.75008 52.99997, ...</td>\n    </tr>\n    <tr>\n      <th>20877</th>\n      <td>R200C94</td>\n      <td>-0.606620</td>\n      <td>-0.246917</td>\n      <td>-0.540009</td>\n      <td>-0.285658</td>\n      <td>-0.208302</td>\n      <td>-0.116401</td>\n      <td>-0.314876</td>\n      <td>-0.013842</td>\n      <td>POLYGON ((4.76384 52.99997, 4.75696 52.99997, ...</td>\n    </tr>\n    <tr>\n      <th>20878</th>\n      <td>R200C95</td>\n      <td>-0.561150</td>\n      <td>-0.161107</td>\n      <td>-0.589095</td>\n      <td>-0.285658</td>\n      <td>-0.208302</td>\n      <td>-0.116401</td>\n      <td>-0.314876</td>\n      <td>-0.013842</td>\n      <td>POLYGON ((4.77072 52.99997, 4.76384 52.99997, ...</td>\n    </tr>\n    <tr>\n      <th>20879</th>\n      <td>R200C110</td>\n      <td>-0.606620</td>\n      <td>-0.246917</td>\n      <td>-0.621818</td>\n      <td>-0.285658</td>\n      <td>-0.208302</td>\n      <td>-0.116401</td>\n      <td>-0.314876</td>\n      <td>-0.013842</td>\n      <td>POLYGON ((4.87392 52.99997, 4.86704 52.99997, ...</td>\n    </tr>\n    <tr>\n      <th>20880</th>\n      <td>R200C152</td>\n      <td>-0.629354</td>\n      <td>-0.246917</td>\n      <td>-0.605456</td>\n      <td>-0.285658</td>\n      <td>-0.208302</td>\n      <td>-0.116401</td>\n      <td>-0.314876</td>\n      <td>-0.013842</td>\n      <td>POLYGON ((5.16288 52.99997, 5.15600 52.99997, ...</td>\n    </tr>\n  </tbody>\n</table>\n<p>20881 rows × 10 columns</p>\n</div>"
     },
     "execution_count": 11,
     "metadata": {},
     "output_type": "execute_result"
    }
   ],
   "source": [
    "exporting_df = gdf.drop(['geometry', 'row', 'column', 'lat_min', 'lat_max', 'lon_min', 'lon_max'], axis =1)\n",
    "exporting_df['geometry'] = gdf.geometry\n",
    "exporting_df"
   ]
  },
  {
   "cell_type": "code",
   "execution_count": 12,
   "metadata": {
    "pycharm": {
     "name": "#%%\n"
    }
   },
   "outputs": [
    {
     "data": {
      "text/plain": "field_1            object\nnature            float64\nentertainment     float64\ntransports        float64\nart               float64\ntourism           float64\nsecurity          float64\naccessibility     float64\nsport             float64\ngeometry         geometry\ndtype: object"
     },
     "execution_count": 12,
     "metadata": {},
     "output_type": "execute_result"
    }
   ],
   "source": [
    "exporting_df.dtypes"
   ]
  },
  {
   "cell_type": "code",
   "execution_count": 13,
   "metadata": {
    "pycharm": {
     "name": "#%%\n"
    }
   },
   "outputs": [],
   "source": [
    "exporting_df.to_csv('3.final_map_converted.csv')"
   ]
  }
 ],
 "metadata": {
  "kernelspec": {
   "display_name": "geo_env",
   "language": "python",
   "name": "geo_env"
  },
  "language_info": {
   "codemirror_mode": {
    "name": "ipython",
    "version": 3
   },
   "file_extension": ".py",
   "mimetype": "text/x-python",
   "name": "python",
   "nbconvert_exporter": "python",
   "pygments_lexer": "ipython3",
   "version": "3.10.4"
  }
 },
 "nbformat": 4,
 "nbformat_minor": 1
}