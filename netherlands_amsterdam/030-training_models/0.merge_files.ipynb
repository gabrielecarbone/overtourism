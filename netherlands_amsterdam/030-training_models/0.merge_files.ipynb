{
 "cells": [
  {
   "cell_type": "code",
   "execution_count": 5,
   "metadata": {
    "collapsed": true,
    "pycharm": {
     "name": "#%%\n"
    }
   },
   "outputs": [],
   "source": [
    "import os\n",
    "import pandas as pd"
   ]
  },
  {
   "cell_type": "code",
   "execution_count": 6,
   "outputs": [],
   "source": [
    "path = '../020-clean_dbs/filtered/'"
   ],
   "metadata": {
    "collapsed": false,
    "pycharm": {
     "name": "#%%\n"
    }
   }
  },
  {
   "cell_type": "code",
   "execution_count": 7,
   "outputs": [
    {
     "name": "stderr",
     "output_type": "stream",
     "text": [
      "C:\\Users\\gabri\\AppData\\Local\\Temp\\ipykernel_100408\\3881309497.py:6: DtypeWarning: Columns (4) have mixed types. Specify dtype option on import or set low_memory=False.\n",
      "  df = pd.read_csv(path + filtered_df)\n",
      "C:\\Users\\gabri\\AppData\\Local\\Temp\\ipykernel_100408\\3881309497.py:6: DtypeWarning: Columns (4) have mixed types. Specify dtype option on import or set low_memory=False.\n",
      "  df = pd.read_csv(path + filtered_df)\n"
     ]
    }
   ],
   "source": [
    "file_list = os.listdir(path)\n",
    "columns_to_keep = ['osm_id', 'code', 'fclass', 'name', 'lon', 'lat', 'SELECT']\n",
    "dfs = []\n",
    "\n",
    "for filtered_df in file_list:\n",
    "    df = pd.read_csv(path + filtered_df)\n",
    "    dfs.append(df[columns_to_keep])"
   ],
   "metadata": {
    "collapsed": false,
    "pycharm": {
     "name": "#%%\n"
    }
   }
  },
  {
   "cell_type": "code",
   "execution_count": 8,
   "outputs": [
    {
     "data": {
      "text/plain": "           osm_id  code          fclass         name       lon        lat  \\\n0         6316725  7201          forest     De Zeelt  5.677270  52.519317   \n1         6316773  7201          forest      De Fint  5.513479  52.547695   \n2         6320099  7209      commercial  Larserpoort  5.500766  52.473531   \n3         6320110  7212  nature_reserve      Palazzo  5.483148  52.491385   \n4         6320117  7209      commercial          NaN  5.474250  52.495943   \n...           ...   ...             ...          ...       ...        ...   \n52278  1115993965  8200           water          NaN  4.617114  52.081069   \n52279  1116052777  8200           water          NaN  4.325396  51.993221   \n52280  1116052778  8200           water          NaN  4.324132  51.991543   \n52281  1116052779  8221           water          NaN  4.323762  51.990858   \n52282  1116098514  8200           water          NaN  4.767129  52.137476   \n\n              SELECT  \n0             nature  \n1             nature  \n2      entertainment  \n3             nature  \n4      entertainment  \n...              ...  \n52278         nature  \n52279         nature  \n52280         nature  \n52281         nature  \n52282         nature  \n\n[2082704 rows x 7 columns]",
      "text/html": "<div>\n<style scoped>\n    .dataframe tbody tr th:only-of-type {\n        vertical-align: middle;\n    }\n\n    .dataframe tbody tr th {\n        vertical-align: top;\n    }\n\n    .dataframe thead th {\n        text-align: right;\n    }\n</style>\n<table border=\"1\" class=\"dataframe\">\n  <thead>\n    <tr style=\"text-align: right;\">\n      <th></th>\n      <th>osm_id</th>\n      <th>code</th>\n      <th>fclass</th>\n      <th>name</th>\n      <th>lon</th>\n      <th>lat</th>\n      <th>SELECT</th>\n    </tr>\n  </thead>\n  <tbody>\n    <tr>\n      <th>0</th>\n      <td>6316725</td>\n      <td>7201</td>\n      <td>forest</td>\n      <td>De Zeelt</td>\n      <td>5.677270</td>\n      <td>52.519317</td>\n      <td>nature</td>\n    </tr>\n    <tr>\n      <th>1</th>\n      <td>6316773</td>\n      <td>7201</td>\n      <td>forest</td>\n      <td>De Fint</td>\n      <td>5.513479</td>\n      <td>52.547695</td>\n      <td>nature</td>\n    </tr>\n    <tr>\n      <th>2</th>\n      <td>6320099</td>\n      <td>7209</td>\n      <td>commercial</td>\n      <td>Larserpoort</td>\n      <td>5.500766</td>\n      <td>52.473531</td>\n      <td>entertainment</td>\n    </tr>\n    <tr>\n      <th>3</th>\n      <td>6320110</td>\n      <td>7212</td>\n      <td>nature_reserve</td>\n      <td>Palazzo</td>\n      <td>5.483148</td>\n      <td>52.491385</td>\n      <td>nature</td>\n    </tr>\n    <tr>\n      <th>4</th>\n      <td>6320117</td>\n      <td>7209</td>\n      <td>commercial</td>\n      <td>NaN</td>\n      <td>5.474250</td>\n      <td>52.495943</td>\n      <td>entertainment</td>\n    </tr>\n    <tr>\n      <th>...</th>\n      <td>...</td>\n      <td>...</td>\n      <td>...</td>\n      <td>...</td>\n      <td>...</td>\n      <td>...</td>\n      <td>...</td>\n    </tr>\n    <tr>\n      <th>52278</th>\n      <td>1115993965</td>\n      <td>8200</td>\n      <td>water</td>\n      <td>NaN</td>\n      <td>4.617114</td>\n      <td>52.081069</td>\n      <td>nature</td>\n    </tr>\n    <tr>\n      <th>52279</th>\n      <td>1116052777</td>\n      <td>8200</td>\n      <td>water</td>\n      <td>NaN</td>\n      <td>4.325396</td>\n      <td>51.993221</td>\n      <td>nature</td>\n    </tr>\n    <tr>\n      <th>52280</th>\n      <td>1116052778</td>\n      <td>8200</td>\n      <td>water</td>\n      <td>NaN</td>\n      <td>4.324132</td>\n      <td>51.991543</td>\n      <td>nature</td>\n    </tr>\n    <tr>\n      <th>52281</th>\n      <td>1116052779</td>\n      <td>8221</td>\n      <td>water</td>\n      <td>NaN</td>\n      <td>4.323762</td>\n      <td>51.990858</td>\n      <td>nature</td>\n    </tr>\n    <tr>\n      <th>52282</th>\n      <td>1116098514</td>\n      <td>8200</td>\n      <td>water</td>\n      <td>NaN</td>\n      <td>4.767129</td>\n      <td>52.137476</td>\n      <td>nature</td>\n    </tr>\n  </tbody>\n</table>\n<p>2082704 rows × 7 columns</p>\n</div>"
     },
     "execution_count": 8,
     "metadata": {},
     "output_type": "execute_result"
    }
   ],
   "source": [
    "merged_df = pd.concat(dfs)\n",
    "merged_df.to_csv('0.merged_df.csv')\n",
    "\n",
    "merged_df"
   ],
   "metadata": {
    "collapsed": false,
    "pycharm": {
     "name": "#%%\n"
    }
   }
  }
 ],
 "metadata": {
  "kernelspec": {
   "display_name": "Python 3",
   "language": "python",
   "name": "python3"
  },
  "language_info": {
   "codemirror_mode": {
    "name": "ipython",
    "version": 2
   },
   "file_extension": ".py",
   "mimetype": "text/x-python",
   "name": "python",
   "nbconvert_exporter": "python",
   "pygments_lexer": "ipython2",
   "version": "2.7.6"
  }
 },
 "nbformat": 4,
 "nbformat_minor": 0
}