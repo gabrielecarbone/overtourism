{
 "cells": [
  {
   "cell_type": "code",
   "execution_count": 1,
   "metadata": {
    "pycharm": {
     "name": "#%%\n"
    }
   },
   "outputs": [],
   "source": [
    "import pandas as pd\n",
    "import numpy as np\n",
    "import sklearn\n",
    "import matplotlib as plt\n",
    "from pycaret.regression import *"
   ]
  },
  {
   "cell_type": "code",
   "execution_count": 2,
   "metadata": {
    "pycharm": {
     "name": "#%%\n"
    }
   },
   "outputs": [
    {
     "data": {
      "text/plain": "            nature  entertainment  transports  art  tourism  security  \\\nUnnamed: 0                                                              \nR1C1           0.0            0.0         0.0  0.0      0.0       0.0   \nR1C2           1.0            3.0         5.0  0.0      3.0       0.0   \nR1C3           4.0            1.0        34.0  0.0      2.0       0.0   \nR1C4           9.0            0.0        25.0  0.0      1.0       0.0   \nR1C5           6.0            2.0        20.0  0.0      0.0       0.0   \n...            ...            ...         ...  ...      ...       ...   \nR200C196       0.0            0.0         0.0  0.0      0.0       0.0   \nR200C197       0.0            0.0         0.0  0.0      0.0       0.0   \nR200C198       0.0            0.0         0.0  0.0      0.0       0.0   \nR200C199       0.0            0.0         0.0  0.0      0.0       0.0   \nR200C200       0.0            0.0         0.0  0.0      0.0       0.0   \n\n            accessibility  sport  nature_west  entertainment_west  ...  \\\nUnnamed: 0                                                         ...   \nR1C1                  0.0    0.0          1.0                 3.0  ...   \nR1C2                  5.0    0.0          4.0                 1.0  ...   \nR1C3                  4.0    0.0          9.0                 0.0  ...   \nR1C4                  1.0    0.0          6.0                 2.0  ...   \nR1C5                  0.0    0.0         16.0                 8.0  ...   \n...                   ...    ...          ...                 ...  ...   \nR200C196              0.0    0.0          0.0                 0.0  ...   \nR200C197              0.0    0.0          0.0                 0.0  ...   \nR200C198              0.0    0.0          0.0                 0.0  ...   \nR200C199              0.0    0.0          0.0                 0.0  ...   \nR200C200              0.0    0.0          0.0                 0.0  ...   \n\n            sport_south_west  security_south_west  accessibility_south_west  \\\nUnnamed: 0                                                                    \nR1C1                     0.0                  0.0                       0.0   \nR1C2                     0.0                  0.0                       0.0   \nR1C3                     0.0                  0.0                       0.0   \nR1C4                     0.0                  0.0                       0.0   \nR1C5                     0.0                  0.0                       0.0   \n...                      ...                  ...                       ...   \nR200C196                 0.0                  0.0                       0.0   \nR200C197                 0.0                  0.0                       0.0   \nR200C198                 0.0                  0.0                       0.0   \nR200C199                 0.0                  0.0                       0.0   \nR200C200                 0.0                  0.0                       0.0   \n\n            nature_north_west  entertainment_north_west  \\\nUnnamed: 0                                                \nR1C1                      0.0                       0.0   \nR1C2                      2.0                       0.0   \nR1C3                      4.0                       0.0   \nR1C4                      4.0                       2.0   \nR1C5                      2.0                       0.0   \n...                       ...                       ...   \nR200C196                  0.0                       0.0   \nR200C197                  0.0                       0.0   \nR200C198                  0.0                       0.0   \nR200C199                  0.0                       0.0   \nR200C200                  0.0                       0.0   \n\n            transports_north_west  art_north_west  sport_north_west  \\\nUnnamed: 0                                                            \nR1C1                          0.0             0.0               0.0   \nR1C2                          1.0             0.0               0.0   \nR1C3                          4.0             0.0               0.0   \nR1C4                         11.0             0.0               0.0   \nR1C5                         23.0             1.0               0.0   \n...                           ...             ...               ...   \nR200C196                      0.0             0.0               0.0   \nR200C197                      0.0             0.0               0.0   \nR200C198                      0.0             0.0               0.0   \nR200C199                      0.0             0.0               0.0   \nR200C200                      0.0             0.0               0.0   \n\n            security_north_west  accessibility_north_west  \nUnnamed: 0                                                 \nR1C1                        0.0                       0.0  \nR1C2                        0.0                       0.0  \nR1C3                        0.0                       0.0  \nR1C4                        0.0                       0.0  \nR1C5                        0.0                       0.0  \n...                         ...                       ...  \nR200C196                    0.0                       0.0  \nR200C197                    0.0                       0.0  \nR200C198                    0.0                       0.0  \nR200C199                    0.0                       0.0  \nR200C200                    0.0                       0.0  \n\n[40000 rows x 64 columns]",
      "text/html": "<div>\n<style scoped>\n    .dataframe tbody tr th:only-of-type {\n        vertical-align: middle;\n    }\n\n    .dataframe tbody tr th {\n        vertical-align: top;\n    }\n\n    .dataframe thead th {\n        text-align: right;\n    }\n</style>\n<table border=\"1\" class=\"dataframe\">\n  <thead>\n    <tr style=\"text-align: right;\">\n      <th></th>\n      <th>nature</th>\n      <th>entertainment</th>\n      <th>transports</th>\n      <th>art</th>\n      <th>tourism</th>\n      <th>security</th>\n      <th>accessibility</th>\n      <th>sport</th>\n      <th>nature_west</th>\n      <th>entertainment_west</th>\n      <th>...</th>\n      <th>sport_south_west</th>\n      <th>security_south_west</th>\n      <th>accessibility_south_west</th>\n      <th>nature_north_west</th>\n      <th>entertainment_north_west</th>\n      <th>transports_north_west</th>\n      <th>art_north_west</th>\n      <th>sport_north_west</th>\n      <th>security_north_west</th>\n      <th>accessibility_north_west</th>\n    </tr>\n    <tr>\n      <th>Unnamed: 0</th>\n      <th></th>\n      <th></th>\n      <th></th>\n      <th></th>\n      <th></th>\n      <th></th>\n      <th></th>\n      <th></th>\n      <th></th>\n      <th></th>\n      <th></th>\n      <th></th>\n      <th></th>\n      <th></th>\n      <th></th>\n      <th></th>\n      <th></th>\n      <th></th>\n      <th></th>\n      <th></th>\n      <th></th>\n    </tr>\n  </thead>\n  <tbody>\n    <tr>\n      <th>R1C1</th>\n      <td>0.0</td>\n      <td>0.0</td>\n      <td>0.0</td>\n      <td>0.0</td>\n      <td>0.0</td>\n      <td>0.0</td>\n      <td>0.0</td>\n      <td>0.0</td>\n      <td>1.0</td>\n      <td>3.0</td>\n      <td>...</td>\n      <td>0.0</td>\n      <td>0.0</td>\n      <td>0.0</td>\n      <td>0.0</td>\n      <td>0.0</td>\n      <td>0.0</td>\n      <td>0.0</td>\n      <td>0.0</td>\n      <td>0.0</td>\n      <td>0.0</td>\n    </tr>\n    <tr>\n      <th>R1C2</th>\n      <td>1.0</td>\n      <td>3.0</td>\n      <td>5.0</td>\n      <td>0.0</td>\n      <td>3.0</td>\n      <td>0.0</td>\n      <td>5.0</td>\n      <td>0.0</td>\n      <td>4.0</td>\n      <td>1.0</td>\n      <td>...</td>\n      <td>0.0</td>\n      <td>0.0</td>\n      <td>0.0</td>\n      <td>2.0</td>\n      <td>0.0</td>\n      <td>1.0</td>\n      <td>0.0</td>\n      <td>0.0</td>\n      <td>0.0</td>\n      <td>0.0</td>\n    </tr>\n    <tr>\n      <th>R1C3</th>\n      <td>4.0</td>\n      <td>1.0</td>\n      <td>34.0</td>\n      <td>0.0</td>\n      <td>2.0</td>\n      <td>0.0</td>\n      <td>4.0</td>\n      <td>0.0</td>\n      <td>9.0</td>\n      <td>0.0</td>\n      <td>...</td>\n      <td>0.0</td>\n      <td>0.0</td>\n      <td>0.0</td>\n      <td>4.0</td>\n      <td>0.0</td>\n      <td>4.0</td>\n      <td>0.0</td>\n      <td>0.0</td>\n      <td>0.0</td>\n      <td>0.0</td>\n    </tr>\n    <tr>\n      <th>R1C4</th>\n      <td>9.0</td>\n      <td>0.0</td>\n      <td>25.0</td>\n      <td>0.0</td>\n      <td>1.0</td>\n      <td>0.0</td>\n      <td>1.0</td>\n      <td>0.0</td>\n      <td>6.0</td>\n      <td>2.0</td>\n      <td>...</td>\n      <td>0.0</td>\n      <td>0.0</td>\n      <td>0.0</td>\n      <td>4.0</td>\n      <td>2.0</td>\n      <td>11.0</td>\n      <td>0.0</td>\n      <td>0.0</td>\n      <td>0.0</td>\n      <td>0.0</td>\n    </tr>\n    <tr>\n      <th>R1C5</th>\n      <td>6.0</td>\n      <td>2.0</td>\n      <td>20.0</td>\n      <td>0.0</td>\n      <td>0.0</td>\n      <td>0.0</td>\n      <td>0.0</td>\n      <td>0.0</td>\n      <td>16.0</td>\n      <td>8.0</td>\n      <td>...</td>\n      <td>0.0</td>\n      <td>0.0</td>\n      <td>0.0</td>\n      <td>2.0</td>\n      <td>0.0</td>\n      <td>23.0</td>\n      <td>1.0</td>\n      <td>0.0</td>\n      <td>0.0</td>\n      <td>0.0</td>\n    </tr>\n    <tr>\n      <th>...</th>\n      <td>...</td>\n      <td>...</td>\n      <td>...</td>\n      <td>...</td>\n      <td>...</td>\n      <td>...</td>\n      <td>...</td>\n      <td>...</td>\n      <td>...</td>\n      <td>...</td>\n      <td>...</td>\n      <td>...</td>\n      <td>...</td>\n      <td>...</td>\n      <td>...</td>\n      <td>...</td>\n      <td>...</td>\n      <td>...</td>\n      <td>...</td>\n      <td>...</td>\n      <td>...</td>\n    </tr>\n    <tr>\n      <th>R200C196</th>\n      <td>0.0</td>\n      <td>0.0</td>\n      <td>0.0</td>\n      <td>0.0</td>\n      <td>0.0</td>\n      <td>0.0</td>\n      <td>0.0</td>\n      <td>0.0</td>\n      <td>0.0</td>\n      <td>0.0</td>\n      <td>...</td>\n      <td>0.0</td>\n      <td>0.0</td>\n      <td>0.0</td>\n      <td>0.0</td>\n      <td>0.0</td>\n      <td>0.0</td>\n      <td>0.0</td>\n      <td>0.0</td>\n      <td>0.0</td>\n      <td>0.0</td>\n    </tr>\n    <tr>\n      <th>R200C197</th>\n      <td>0.0</td>\n      <td>0.0</td>\n      <td>0.0</td>\n      <td>0.0</td>\n      <td>0.0</td>\n      <td>0.0</td>\n      <td>0.0</td>\n      <td>0.0</td>\n      <td>0.0</td>\n      <td>0.0</td>\n      <td>...</td>\n      <td>0.0</td>\n      <td>0.0</td>\n      <td>0.0</td>\n      <td>0.0</td>\n      <td>0.0</td>\n      <td>0.0</td>\n      <td>0.0</td>\n      <td>0.0</td>\n      <td>0.0</td>\n      <td>0.0</td>\n    </tr>\n    <tr>\n      <th>R200C198</th>\n      <td>0.0</td>\n      <td>0.0</td>\n      <td>0.0</td>\n      <td>0.0</td>\n      <td>0.0</td>\n      <td>0.0</td>\n      <td>0.0</td>\n      <td>0.0</td>\n      <td>0.0</td>\n      <td>0.0</td>\n      <td>...</td>\n      <td>0.0</td>\n      <td>0.0</td>\n      <td>0.0</td>\n      <td>0.0</td>\n      <td>0.0</td>\n      <td>0.0</td>\n      <td>0.0</td>\n      <td>0.0</td>\n      <td>0.0</td>\n      <td>0.0</td>\n    </tr>\n    <tr>\n      <th>R200C199</th>\n      <td>0.0</td>\n      <td>0.0</td>\n      <td>0.0</td>\n      <td>0.0</td>\n      <td>0.0</td>\n      <td>0.0</td>\n      <td>0.0</td>\n      <td>0.0</td>\n      <td>0.0</td>\n      <td>0.0</td>\n      <td>...</td>\n      <td>0.0</td>\n      <td>0.0</td>\n      <td>0.0</td>\n      <td>0.0</td>\n      <td>0.0</td>\n      <td>0.0</td>\n      <td>0.0</td>\n      <td>0.0</td>\n      <td>0.0</td>\n      <td>0.0</td>\n    </tr>\n    <tr>\n      <th>R200C200</th>\n      <td>0.0</td>\n      <td>0.0</td>\n      <td>0.0</td>\n      <td>0.0</td>\n      <td>0.0</td>\n      <td>0.0</td>\n      <td>0.0</td>\n      <td>0.0</td>\n      <td>0.0</td>\n      <td>0.0</td>\n      <td>...</td>\n      <td>0.0</td>\n      <td>0.0</td>\n      <td>0.0</td>\n      <td>0.0</td>\n      <td>0.0</td>\n      <td>0.0</td>\n      <td>0.0</td>\n      <td>0.0</td>\n      <td>0.0</td>\n      <td>0.0</td>\n    </tr>\n  </tbody>\n</table>\n<p>40000 rows × 64 columns</p>\n</div>"
     },
     "execution_count": 2,
     "metadata": {},
     "output_type": "execute_result"
    }
   ],
   "source": [
    "df = pd.read_csv('5.extended_df.csv')\n",
    "df.index = df['Unnamed: 0']\n",
    "df.drop(['Unnamed: 0', 'row', 'column', 'lat_min', 'lat_max', 'lon_min', 'lon_max'], axis = 1, inplace = True)\n",
    "df.drop(list(df.filter(regex = 'tourism_')),axis = 1, inplace = True)\n",
    "df"
   ]
  },
  {
   "cell_type": "code",
   "execution_count": 3,
   "metadata": {
    "pycharm": {
     "name": "#%%\n"
    },
    "scrolled": false
   },
   "outputs": [
    {
     "data": {
      "text/plain": "             nature  entertainment    transports           art       tourism  \\\ncount  40000.000000   40000.000000  40000.000000  40000.000000  40000.000000   \nmean      14.450950       1.502125     19.839100      0.188475      0.299300   \nstd       34.657835       8.541670     48.065601      0.930819      2.009184   \nmin        0.000000       0.000000      0.000000      0.000000      0.000000   \n25%        0.000000       0.000000      0.000000      0.000000      0.000000   \n50%        1.000000       0.000000      0.000000      0.000000      0.000000   \n75%       18.000000       0.000000     12.000000      0.000000      0.000000   \nmax     1007.000000     474.000000    845.000000     34.000000    156.000000   \n\n           security  accessibility       sport   nature_west  \\\ncount  40000.000000   40000.000000  40000.0000  40000.000000   \nmean       0.123500       0.577975      0.0001     14.450950   \nstd        1.473194       2.599998      0.0100     34.657835   \nmin        0.000000       0.000000      0.0000      0.000000   \n25%        0.000000       0.000000      0.0000      0.000000   \n50%        0.000000       0.000000      0.0000      1.000000   \n75%        0.000000       0.000000      0.0000     18.000000   \nmax      129.000000      79.000000      1.0000   1007.000000   \n\n       entertainment_west  ...  sport_south_west  security_south_west  \\\ncount        40000.000000  ...        40000.0000         40000.000000   \nmean             1.502125  ...            0.0001             0.123500   \nstd              8.541670  ...            0.0100             1.473194   \nmin              0.000000  ...            0.0000             0.000000   \n25%              0.000000  ...            0.0000             0.000000   \n50%              0.000000  ...            0.0000             0.000000   \n75%              0.000000  ...            0.0000             0.000000   \nmax            474.000000  ...            1.0000           129.000000   \n\n       accessibility_south_west  nature_north_west  entertainment_north_west  \\\ncount              40000.000000       40000.000000              40000.000000   \nmean                   0.577950          14.320125                  1.489450   \nstd                    2.599999          34.553665                  8.528552   \nmin                    0.000000           0.000000                  0.000000   \n25%                    0.000000           0.000000                  0.000000   \n50%                    0.000000           1.000000                  0.000000   \n75%                    0.000000          18.000000                  0.000000   \nmax                   79.000000        1007.000000                474.000000   \n\n       transports_north_west  art_north_west  sport_north_west  \\\ncount           40000.000000    40000.000000        40000.0000   \nmean               19.647675        0.187325            0.0001   \nstd                47.872590        0.929546            0.0100   \nmin                 0.000000        0.000000            0.0000   \n25%                 0.000000        0.000000            0.0000   \n50%                 0.000000        0.000000            0.0000   \n75%                11.000000        0.000000            0.0000   \nmax               845.000000       34.000000            1.0000   \n\n       security_north_west  accessibility_north_west  \ncount         40000.000000              40000.000000  \nmean              0.121675                  0.571950  \nstd               1.468613                  2.588888  \nmin               0.000000                  0.000000  \n25%               0.000000                  0.000000  \n50%               0.000000                  0.000000  \n75%               0.000000                  0.000000  \nmax             129.000000                 79.000000  \n\n[8 rows x 64 columns]",
      "text/html": "<div>\n<style scoped>\n    .dataframe tbody tr th:only-of-type {\n        vertical-align: middle;\n    }\n\n    .dataframe tbody tr th {\n        vertical-align: top;\n    }\n\n    .dataframe thead th {\n        text-align: right;\n    }\n</style>\n<table border=\"1\" class=\"dataframe\">\n  <thead>\n    <tr style=\"text-align: right;\">\n      <th></th>\n      <th>nature</th>\n      <th>entertainment</th>\n      <th>transports</th>\n      <th>art</th>\n      <th>tourism</th>\n      <th>security</th>\n      <th>accessibility</th>\n      <th>sport</th>\n      <th>nature_west</th>\n      <th>entertainment_west</th>\n      <th>...</th>\n      <th>sport_south_west</th>\n      <th>security_south_west</th>\n      <th>accessibility_south_west</th>\n      <th>nature_north_west</th>\n      <th>entertainment_north_west</th>\n      <th>transports_north_west</th>\n      <th>art_north_west</th>\n      <th>sport_north_west</th>\n      <th>security_north_west</th>\n      <th>accessibility_north_west</th>\n    </tr>\n  </thead>\n  <tbody>\n    <tr>\n      <th>count</th>\n      <td>40000.000000</td>\n      <td>40000.000000</td>\n      <td>40000.000000</td>\n      <td>40000.000000</td>\n      <td>40000.000000</td>\n      <td>40000.000000</td>\n      <td>40000.000000</td>\n      <td>40000.0000</td>\n      <td>40000.000000</td>\n      <td>40000.000000</td>\n      <td>...</td>\n      <td>40000.0000</td>\n      <td>40000.000000</td>\n      <td>40000.000000</td>\n      <td>40000.000000</td>\n      <td>40000.000000</td>\n      <td>40000.000000</td>\n      <td>40000.000000</td>\n      <td>40000.0000</td>\n      <td>40000.000000</td>\n      <td>40000.000000</td>\n    </tr>\n    <tr>\n      <th>mean</th>\n      <td>14.450950</td>\n      <td>1.502125</td>\n      <td>19.839100</td>\n      <td>0.188475</td>\n      <td>0.299300</td>\n      <td>0.123500</td>\n      <td>0.577975</td>\n      <td>0.0001</td>\n      <td>14.450950</td>\n      <td>1.502125</td>\n      <td>...</td>\n      <td>0.0001</td>\n      <td>0.123500</td>\n      <td>0.577950</td>\n      <td>14.320125</td>\n      <td>1.489450</td>\n      <td>19.647675</td>\n      <td>0.187325</td>\n      <td>0.0001</td>\n      <td>0.121675</td>\n      <td>0.571950</td>\n    </tr>\n    <tr>\n      <th>std</th>\n      <td>34.657835</td>\n      <td>8.541670</td>\n      <td>48.065601</td>\n      <td>0.930819</td>\n      <td>2.009184</td>\n      <td>1.473194</td>\n      <td>2.599998</td>\n      <td>0.0100</td>\n      <td>34.657835</td>\n      <td>8.541670</td>\n      <td>...</td>\n      <td>0.0100</td>\n      <td>1.473194</td>\n      <td>2.599999</td>\n      <td>34.553665</td>\n      <td>8.528552</td>\n      <td>47.872590</td>\n      <td>0.929546</td>\n      <td>0.0100</td>\n      <td>1.468613</td>\n      <td>2.588888</td>\n    </tr>\n    <tr>\n      <th>min</th>\n      <td>0.000000</td>\n      <td>0.000000</td>\n      <td>0.000000</td>\n      <td>0.000000</td>\n      <td>0.000000</td>\n      <td>0.000000</td>\n      <td>0.000000</td>\n      <td>0.0000</td>\n      <td>0.000000</td>\n      <td>0.000000</td>\n      <td>...</td>\n      <td>0.0000</td>\n      <td>0.000000</td>\n      <td>0.000000</td>\n      <td>0.000000</td>\n      <td>0.000000</td>\n      <td>0.000000</td>\n      <td>0.000000</td>\n      <td>0.0000</td>\n      <td>0.000000</td>\n      <td>0.000000</td>\n    </tr>\n    <tr>\n      <th>25%</th>\n      <td>0.000000</td>\n      <td>0.000000</td>\n      <td>0.000000</td>\n      <td>0.000000</td>\n      <td>0.000000</td>\n      <td>0.000000</td>\n      <td>0.000000</td>\n      <td>0.0000</td>\n      <td>0.000000</td>\n      <td>0.000000</td>\n      <td>...</td>\n      <td>0.0000</td>\n      <td>0.000000</td>\n      <td>0.000000</td>\n      <td>0.000000</td>\n      <td>0.000000</td>\n      <td>0.000000</td>\n      <td>0.000000</td>\n      <td>0.0000</td>\n      <td>0.000000</td>\n      <td>0.000000</td>\n    </tr>\n    <tr>\n      <th>50%</th>\n      <td>1.000000</td>\n      <td>0.000000</td>\n      <td>0.000000</td>\n      <td>0.000000</td>\n      <td>0.000000</td>\n      <td>0.000000</td>\n      <td>0.000000</td>\n      <td>0.0000</td>\n      <td>1.000000</td>\n      <td>0.000000</td>\n      <td>...</td>\n      <td>0.0000</td>\n      <td>0.000000</td>\n      <td>0.000000</td>\n      <td>1.000000</td>\n      <td>0.000000</td>\n      <td>0.000000</td>\n      <td>0.000000</td>\n      <td>0.0000</td>\n      <td>0.000000</td>\n      <td>0.000000</td>\n    </tr>\n    <tr>\n      <th>75%</th>\n      <td>18.000000</td>\n      <td>0.000000</td>\n      <td>12.000000</td>\n      <td>0.000000</td>\n      <td>0.000000</td>\n      <td>0.000000</td>\n      <td>0.000000</td>\n      <td>0.0000</td>\n      <td>18.000000</td>\n      <td>0.000000</td>\n      <td>...</td>\n      <td>0.0000</td>\n      <td>0.000000</td>\n      <td>0.000000</td>\n      <td>18.000000</td>\n      <td>0.000000</td>\n      <td>11.000000</td>\n      <td>0.000000</td>\n      <td>0.0000</td>\n      <td>0.000000</td>\n      <td>0.000000</td>\n    </tr>\n    <tr>\n      <th>max</th>\n      <td>1007.000000</td>\n      <td>474.000000</td>\n      <td>845.000000</td>\n      <td>34.000000</td>\n      <td>156.000000</td>\n      <td>129.000000</td>\n      <td>79.000000</td>\n      <td>1.0000</td>\n      <td>1007.000000</td>\n      <td>474.000000</td>\n      <td>...</td>\n      <td>1.0000</td>\n      <td>129.000000</td>\n      <td>79.000000</td>\n      <td>1007.000000</td>\n      <td>474.000000</td>\n      <td>845.000000</td>\n      <td>34.000000</td>\n      <td>1.0000</td>\n      <td>129.000000</td>\n      <td>79.000000</td>\n    </tr>\n  </tbody>\n</table>\n<p>8 rows × 64 columns</p>\n</div>"
     },
     "execution_count": 3,
     "metadata": {},
     "output_type": "execute_result"
    }
   ],
   "source": [
    "df.describe()"
   ]
  },
  {
   "cell_type": "code",
   "execution_count": 4,
   "metadata": {
    "scrolled": true,
    "pycharm": {
     "name": "#%%\n"
    }
   },
   "outputs": [
    {
     "data": {
      "text/plain": "<IPython.core.display.HTML object>",
      "text/html": ""
     },
     "metadata": {},
     "output_type": "display_data"
    },
    {
     "data": {
      "text/plain": "                                                                    \n                                                                    \nInitiated  . . . . . . . . . . . . . . . . . .              22:48:55\nStatus     . . . . . . . . . . . . . . . . . .  Loading Dependencies\nEstimator  . . . . . . . . . . . . . . . . . .     Compiling Library",
      "text/html": "<div>\n<style scoped>\n    .dataframe tbody tr th:only-of-type {\n        vertical-align: middle;\n    }\n\n    .dataframe tbody tr th {\n        vertical-align: top;\n    }\n\n    .dataframe thead th {\n        text-align: right;\n    }\n</style>\n<table border=\"1\" class=\"dataframe\">\n  <thead>\n    <tr style=\"text-align: right;\">\n      <th></th>\n      <th></th>\n      <th></th>\n    </tr>\n    <tr>\n      <th></th>\n      <th></th>\n      <th></th>\n    </tr>\n  </thead>\n  <tbody>\n    <tr>\n      <th>Initiated</th>\n      <td>. . . . . . . . . . . . . . . . . .</td>\n      <td>22:48:55</td>\n    </tr>\n    <tr>\n      <th>Status</th>\n      <td>. . . . . . . . . . . . . . . . . .</td>\n      <td>Loading Dependencies</td>\n    </tr>\n    <tr>\n      <th>Estimator</th>\n      <td>. . . . . . . . . . . . . . . . . .</td>\n      <td>Compiling Library</td>\n    </tr>\n  </tbody>\n</table>\n</div>"
     },
     "metadata": {},
     "output_type": "display_data"
    },
    {
     "data": {
      "text/plain": "<IPython.core.display.HTML object>",
      "text/html": ""
     },
     "metadata": {},
     "output_type": "display_data"
    },
    {
     "data": {
      "text/plain": "Processing:   0%|          | 0/77 [00:00<?, ?it/s]",
      "application/vnd.jupyter.widget-view+json": {
       "version_major": 2,
       "version_minor": 0,
       "model_id": "bed9179adb984e0e9623e70c93095cc7"
      }
     },
     "metadata": {},
     "output_type": "display_data"
    },
    {
     "data": {
      "text/plain": "<IPython.core.display.HTML object>",
      "text/html": ""
     },
     "metadata": {},
     "output_type": "display_data"
    },
    {
     "data": {
      "text/plain": "<IPython.core.display.HTML object>",
      "text/html": ""
     },
     "metadata": {},
     "output_type": "display_data"
    },
    {
     "data": {
      "text/plain": "                                                                    \n                                                                    \nInitiated  . . . . . . . . . . . . . . . . . .              22:50:57\nStatus     . . . . . . . . . . . . . . . . . .  Loading Dependencies\nEstimator  . . . . . . . . . . . . . . . . . .     Compiling Library",
      "text/html": "<div>\n<style scoped>\n    .dataframe tbody tr th:only-of-type {\n        vertical-align: middle;\n    }\n\n    .dataframe tbody tr th {\n        vertical-align: top;\n    }\n\n    .dataframe thead th {\n        text-align: right;\n    }\n</style>\n<table border=\"1\" class=\"dataframe\">\n  <thead>\n    <tr style=\"text-align: right;\">\n      <th></th>\n      <th></th>\n      <th></th>\n    </tr>\n    <tr>\n      <th></th>\n      <th></th>\n      <th></th>\n    </tr>\n  </thead>\n  <tbody>\n    <tr>\n      <th>Initiated</th>\n      <td>. . . . . . . . . . . . . . . . . .</td>\n      <td>22:50:57</td>\n    </tr>\n    <tr>\n      <th>Status</th>\n      <td>. . . . . . . . . . . . . . . . . .</td>\n      <td>Loading Dependencies</td>\n    </tr>\n    <tr>\n      <th>Estimator</th>\n      <td>. . . . . . . . . . . . . . . . . .</td>\n      <td>Compiling Library</td>\n    </tr>\n  </tbody>\n</table>\n</div>"
     },
     "metadata": {},
     "output_type": "display_data"
    },
    {
     "data": {
      "text/plain": "<IPython.core.display.HTML object>",
      "text/html": ""
     },
     "metadata": {},
     "output_type": "display_data"
    },
    {
     "data": {
      "text/plain": "Processing:   0%|          | 0/77 [00:00<?, ?it/s]",
      "application/vnd.jupyter.widget-view+json": {
       "version_major": 2,
       "version_minor": 0,
       "model_id": "eef758a175e54bc1bf63764ba21a6eb8"
      }
     },
     "metadata": {},
     "output_type": "display_data"
    },
    {
     "data": {
      "text/plain": "<IPython.core.display.HTML object>",
      "text/html": ""
     },
     "metadata": {},
     "output_type": "display_data"
    },
    {
     "data": {
      "text/plain": "<IPython.core.display.HTML object>",
      "text/html": ""
     },
     "metadata": {},
     "output_type": "display_data"
    },
    {
     "data": {
      "text/plain": "                                                                    \n                                                                    \nInitiated  . . . . . . . . . . . . . . . . . .              22:53:00\nStatus     . . . . . . . . . . . . . . . . . .  Loading Dependencies\nEstimator  . . . . . . . . . . . . . . . . . .     Compiling Library",
      "text/html": "<div>\n<style scoped>\n    .dataframe tbody tr th:only-of-type {\n        vertical-align: middle;\n    }\n\n    .dataframe tbody tr th {\n        vertical-align: top;\n    }\n\n    .dataframe thead th {\n        text-align: right;\n    }\n</style>\n<table border=\"1\" class=\"dataframe\">\n  <thead>\n    <tr style=\"text-align: right;\">\n      <th></th>\n      <th></th>\n      <th></th>\n    </tr>\n    <tr>\n      <th></th>\n      <th></th>\n      <th></th>\n    </tr>\n  </thead>\n  <tbody>\n    <tr>\n      <th>Initiated</th>\n      <td>. . . . . . . . . . . . . . . . . .</td>\n      <td>22:53:00</td>\n    </tr>\n    <tr>\n      <th>Status</th>\n      <td>. . . . . . . . . . . . . . . . . .</td>\n      <td>Loading Dependencies</td>\n    </tr>\n    <tr>\n      <th>Estimator</th>\n      <td>. . . . . . . . . . . . . . . . . .</td>\n      <td>Compiling Library</td>\n    </tr>\n  </tbody>\n</table>\n</div>"
     },
     "metadata": {},
     "output_type": "display_data"
    },
    {
     "data": {
      "text/plain": "<IPython.core.display.HTML object>",
      "text/html": ""
     },
     "metadata": {},
     "output_type": "display_data"
    },
    {
     "data": {
      "text/plain": "Processing:   0%|          | 0/77 [00:00<?, ?it/s]",
      "application/vnd.jupyter.widget-view+json": {
       "version_major": 2,
       "version_minor": 0,
       "model_id": "3b0f069d0d4b497f9a09c2b96415756f"
      }
     },
     "metadata": {},
     "output_type": "display_data"
    },
    {
     "data": {
      "text/plain": "<IPython.core.display.HTML object>",
      "text/html": ""
     },
     "metadata": {},
     "output_type": "display_data"
    }
   ],
   "source": [
    "splits = 3\n",
    "splitted_df_list = np.array_split(df, splits)\n",
    "\n",
    "prediction_df_list = []\n",
    "\n",
    "for splitted_df in splitted_df_list:\n",
    "    training_df = df.drop(splitted_df.index)\n",
    "    prediction_df = splitted_df\n",
    "    \n",
    "    exp = setup(training_df, target = 'tourism')\n",
    "    best = compare_models()\n",
    "    predictions = predict_model(best, data = prediction_df)\n",
    "    \n",
    "    predictions = predictions[['prediction_label']]\n",
    "    predictions.index = prediction_df.index\n",
    "    prediction_df_list.append(predictions)"
   ]
  },
  {
   "cell_type": "code",
   "execution_count": 5,
   "metadata": {
    "pycharm": {
     "name": "#%%\n"
    }
   },
   "outputs": [],
   "source": [
    "predictions_concat = pd.concat(prediction_df_list)"
   ]
  },
  {
   "cell_type": "code",
   "execution_count": 7,
   "metadata": {
    "pycharm": {
     "name": "#%%\n"
    }
   },
   "outputs": [
    {
     "data": {
      "text/plain": "            nature  entertainment  transports       art   tourism  security  \\\nfield_1                                                                       \nR1C2     -0.606620       0.010512   -0.540009 -0.285658  0.881631 -0.116401   \nR1C3     -0.538415      -0.161107   -0.065515 -0.285658  0.518320 -0.116401   \nR1C4     -0.424742      -0.246917   -0.212772 -0.285658  0.155009 -0.116401   \nR1C5     -0.492946      -0.075298   -0.294581 -0.285658 -0.208302 -0.116401   \nR1C6     -0.265598       0.439560    1.210711  0.505538 -0.208302  0.867638   \n...            ...            ...         ...       ...       ...       ...   \nR200C93  -0.606620      -0.246917   -0.572733 -0.285658 -0.208302 -0.116401   \nR200C94  -0.606620      -0.246917   -0.540009 -0.285658 -0.208302 -0.116401   \nR200C95  -0.561150      -0.161107   -0.589095 -0.285658 -0.208302 -0.116401   \nR200C110 -0.606620      -0.246917   -0.621818 -0.285658 -0.208302 -0.116401   \nR200C152 -0.629354      -0.246917   -0.605456 -0.285658 -0.208302 -0.116401   \n\n          accessibility     sport  \\\nfield_1                             \nR1C2           1.107100 -0.013842   \nR1C3           0.822705 -0.013842   \nR1C4          -0.030481 -0.013842   \nR1C5          -0.314876 -0.013842   \nR1C6          -0.314876 -0.013842   \n...                 ...       ...   \nR200C93       -0.314876 -0.013842   \nR200C94       -0.314876 -0.013842   \nR200C95       -0.314876 -0.013842   \nR200C110      -0.314876 -0.013842   \nR200C152      -0.314876 -0.013842   \n\n                                                   geometry  \nfield_1                                                      \nR1C2      POLYGON ((4.130889815608598 52.00500001293753,...  \nR1C3      POLYGON ((4.137769758040735 52.00500001293753,...  \nR1C4      POLYGON ((4.144649700472871 52.00500001293753,...  \nR1C5      POLYGON ((4.1515296429050075 52.00500001293753...  \nR1C6      POLYGON ((4.158409585337144 52.00500001293753,...  \n...                                                     ...  \nR200C93   POLYGON ((4.756964576933012 52.999974451463515...  \nR200C94   POLYGON ((4.763844519365148 52.999974451463515...  \nR200C95   POLYGON ((4.770724461797284 52.999974451463515...  \nR200C110  POLYGON ((4.8739235982793305 52.99997445146351...  \nR200C152  POLYGON ((5.16288118042906 52.999974451463515,...  \n\n[20881 rows x 9 columns]",
      "text/html": "<div>\n<style scoped>\n    .dataframe tbody tr th:only-of-type {\n        vertical-align: middle;\n    }\n\n    .dataframe tbody tr th {\n        vertical-align: top;\n    }\n\n    .dataframe thead th {\n        text-align: right;\n    }\n</style>\n<table border=\"1\" class=\"dataframe\">\n  <thead>\n    <tr style=\"text-align: right;\">\n      <th></th>\n      <th>nature</th>\n      <th>entertainment</th>\n      <th>transports</th>\n      <th>art</th>\n      <th>tourism</th>\n      <th>security</th>\n      <th>accessibility</th>\n      <th>sport</th>\n      <th>geometry</th>\n    </tr>\n    <tr>\n      <th>field_1</th>\n      <th></th>\n      <th></th>\n      <th></th>\n      <th></th>\n      <th></th>\n      <th></th>\n      <th></th>\n      <th></th>\n      <th></th>\n    </tr>\n  </thead>\n  <tbody>\n    <tr>\n      <th>R1C2</th>\n      <td>-0.606620</td>\n      <td>0.010512</td>\n      <td>-0.540009</td>\n      <td>-0.285658</td>\n      <td>0.881631</td>\n      <td>-0.116401</td>\n      <td>1.107100</td>\n      <td>-0.013842</td>\n      <td>POLYGON ((4.130889815608598 52.00500001293753,...</td>\n    </tr>\n    <tr>\n      <th>R1C3</th>\n      <td>-0.538415</td>\n      <td>-0.161107</td>\n      <td>-0.065515</td>\n      <td>-0.285658</td>\n      <td>0.518320</td>\n      <td>-0.116401</td>\n      <td>0.822705</td>\n      <td>-0.013842</td>\n      <td>POLYGON ((4.137769758040735 52.00500001293753,...</td>\n    </tr>\n    <tr>\n      <th>R1C4</th>\n      <td>-0.424742</td>\n      <td>-0.246917</td>\n      <td>-0.212772</td>\n      <td>-0.285658</td>\n      <td>0.155009</td>\n      <td>-0.116401</td>\n      <td>-0.030481</td>\n      <td>-0.013842</td>\n      <td>POLYGON ((4.144649700472871 52.00500001293753,...</td>\n    </tr>\n    <tr>\n      <th>R1C5</th>\n      <td>-0.492946</td>\n      <td>-0.075298</td>\n      <td>-0.294581</td>\n      <td>-0.285658</td>\n      <td>-0.208302</td>\n      <td>-0.116401</td>\n      <td>-0.314876</td>\n      <td>-0.013842</td>\n      <td>POLYGON ((4.1515296429050075 52.00500001293753...</td>\n    </tr>\n    <tr>\n      <th>R1C6</th>\n      <td>-0.265598</td>\n      <td>0.439560</td>\n      <td>1.210711</td>\n      <td>0.505538</td>\n      <td>-0.208302</td>\n      <td>0.867638</td>\n      <td>-0.314876</td>\n      <td>-0.013842</td>\n      <td>POLYGON ((4.158409585337144 52.00500001293753,...</td>\n    </tr>\n    <tr>\n      <th>...</th>\n      <td>...</td>\n      <td>...</td>\n      <td>...</td>\n      <td>...</td>\n      <td>...</td>\n      <td>...</td>\n      <td>...</td>\n      <td>...</td>\n      <td>...</td>\n    </tr>\n    <tr>\n      <th>R200C93</th>\n      <td>-0.606620</td>\n      <td>-0.246917</td>\n      <td>-0.572733</td>\n      <td>-0.285658</td>\n      <td>-0.208302</td>\n      <td>-0.116401</td>\n      <td>-0.314876</td>\n      <td>-0.013842</td>\n      <td>POLYGON ((4.756964576933012 52.999974451463515...</td>\n    </tr>\n    <tr>\n      <th>R200C94</th>\n      <td>-0.606620</td>\n      <td>-0.246917</td>\n      <td>-0.540009</td>\n      <td>-0.285658</td>\n      <td>-0.208302</td>\n      <td>-0.116401</td>\n      <td>-0.314876</td>\n      <td>-0.013842</td>\n      <td>POLYGON ((4.763844519365148 52.999974451463515...</td>\n    </tr>\n    <tr>\n      <th>R200C95</th>\n      <td>-0.561150</td>\n      <td>-0.161107</td>\n      <td>-0.589095</td>\n      <td>-0.285658</td>\n      <td>-0.208302</td>\n      <td>-0.116401</td>\n      <td>-0.314876</td>\n      <td>-0.013842</td>\n      <td>POLYGON ((4.770724461797284 52.999974451463515...</td>\n    </tr>\n    <tr>\n      <th>R200C110</th>\n      <td>-0.606620</td>\n      <td>-0.246917</td>\n      <td>-0.621818</td>\n      <td>-0.285658</td>\n      <td>-0.208302</td>\n      <td>-0.116401</td>\n      <td>-0.314876</td>\n      <td>-0.013842</td>\n      <td>POLYGON ((4.8739235982793305 52.99997445146351...</td>\n    </tr>\n    <tr>\n      <th>R200C152</th>\n      <td>-0.629354</td>\n      <td>-0.246917</td>\n      <td>-0.605456</td>\n      <td>-0.285658</td>\n      <td>-0.208302</td>\n      <td>-0.116401</td>\n      <td>-0.314876</td>\n      <td>-0.013842</td>\n      <td>POLYGON ((5.16288118042906 52.999974451463515,...</td>\n    </tr>\n  </tbody>\n</table>\n<p>20881 rows × 9 columns</p>\n</div>"
     },
     "execution_count": 7,
     "metadata": {},
     "output_type": "execute_result"
    }
   ],
   "source": [
    "export_df = pd.read_csv('3.final_map_converted.csv')\n",
    "export_df.drop('Unnamed: 0', axis = 1, inplace = True)\n",
    "export_df.set_index('field_1', inplace = True)\n",
    "export_df"
   ]
  },
  {
   "cell_type": "code",
   "execution_count": 8,
   "metadata": {
    "pycharm": {
     "name": "#%%\n"
    }
   },
   "outputs": [
    {
     "data": {
      "text/plain": "            nature  entertainment  transports       art   tourism  security  \\\nfield_1                                                                       \nR1C2     -0.606620       0.010512   -0.540009 -0.285658  0.881631 -0.116401   \nR1C3     -0.538415      -0.161107   -0.065515 -0.285658  0.518320 -0.116401   \nR1C4     -0.424742      -0.246917   -0.212772 -0.285658  0.155009 -0.116401   \nR1C5     -0.492946      -0.075298   -0.294581 -0.285658 -0.208302 -0.116401   \nR1C6     -0.265598       0.439560    1.210711  0.505538 -0.208302  0.867638   \n...            ...            ...         ...       ...       ...       ...   \nR200C93  -0.606620      -0.246917   -0.572733 -0.285658 -0.208302 -0.116401   \nR200C94  -0.606620      -0.246917   -0.540009 -0.285658 -0.208302 -0.116401   \nR200C95  -0.561150      -0.161107   -0.589095 -0.285658 -0.208302 -0.116401   \nR200C110 -0.606620      -0.246917   -0.621818 -0.285658 -0.208302 -0.116401   \nR200C152 -0.629354      -0.246917   -0.605456 -0.285658 -0.208302 -0.116401   \n\n          accessibility     sport  \\\nfield_1                             \nR1C2           1.107100 -0.013842   \nR1C3           0.822705 -0.013842   \nR1C4          -0.030481 -0.013842   \nR1C5          -0.314876 -0.013842   \nR1C6          -0.314876 -0.013842   \n...                 ...       ...   \nR200C93       -0.314876 -0.013842   \nR200C94       -0.314876 -0.013842   \nR200C95       -0.314876 -0.013842   \nR200C110      -0.314876 -0.013842   \nR200C152      -0.314876 -0.013842   \n\n                                                   geometry  predicted_tourism  \nfield_1                                                                         \nR1C2      POLYGON ((4.130889815608598 52.00500001293753,...           0.319507  \nR1C3      POLYGON ((4.137769758040735 52.00500001293753,...           0.575121  \nR1C4      POLYGON ((4.144649700472871 52.00500001293753,...           0.228147  \nR1C5      POLYGON ((4.1515296429050075 52.00500001293753...           0.299597  \nR1C6      POLYGON ((4.158409585337144 52.00500001293753,...           2.058907  \n...                                                     ...                ...  \nR200C93   POLYGON ((4.756964576933012 52.999974451463515...           0.060000  \nR200C94   POLYGON ((4.763844519365148 52.999974451463515...           0.080000  \nR200C95   POLYGON ((4.770724461797284 52.999974451463515...           0.020000  \nR200C110  POLYGON ((4.8739235982793305 52.99997445146351...           0.000000  \nR200C152  POLYGON ((5.16288118042906 52.999974451463515,...           0.000000  \n\n[20881 rows x 10 columns]",
      "text/html": "<div>\n<style scoped>\n    .dataframe tbody tr th:only-of-type {\n        vertical-align: middle;\n    }\n\n    .dataframe tbody tr th {\n        vertical-align: top;\n    }\n\n    .dataframe thead th {\n        text-align: right;\n    }\n</style>\n<table border=\"1\" class=\"dataframe\">\n  <thead>\n    <tr style=\"text-align: right;\">\n      <th></th>\n      <th>nature</th>\n      <th>entertainment</th>\n      <th>transports</th>\n      <th>art</th>\n      <th>tourism</th>\n      <th>security</th>\n      <th>accessibility</th>\n      <th>sport</th>\n      <th>geometry</th>\n      <th>predicted_tourism</th>\n    </tr>\n    <tr>\n      <th>field_1</th>\n      <th></th>\n      <th></th>\n      <th></th>\n      <th></th>\n      <th></th>\n      <th></th>\n      <th></th>\n      <th></th>\n      <th></th>\n      <th></th>\n    </tr>\n  </thead>\n  <tbody>\n    <tr>\n      <th>R1C2</th>\n      <td>-0.606620</td>\n      <td>0.010512</td>\n      <td>-0.540009</td>\n      <td>-0.285658</td>\n      <td>0.881631</td>\n      <td>-0.116401</td>\n      <td>1.107100</td>\n      <td>-0.013842</td>\n      <td>POLYGON ((4.130889815608598 52.00500001293753,...</td>\n      <td>0.319507</td>\n    </tr>\n    <tr>\n      <th>R1C3</th>\n      <td>-0.538415</td>\n      <td>-0.161107</td>\n      <td>-0.065515</td>\n      <td>-0.285658</td>\n      <td>0.518320</td>\n      <td>-0.116401</td>\n      <td>0.822705</td>\n      <td>-0.013842</td>\n      <td>POLYGON ((4.137769758040735 52.00500001293753,...</td>\n      <td>0.575121</td>\n    </tr>\n    <tr>\n      <th>R1C4</th>\n      <td>-0.424742</td>\n      <td>-0.246917</td>\n      <td>-0.212772</td>\n      <td>-0.285658</td>\n      <td>0.155009</td>\n      <td>-0.116401</td>\n      <td>-0.030481</td>\n      <td>-0.013842</td>\n      <td>POLYGON ((4.144649700472871 52.00500001293753,...</td>\n      <td>0.228147</td>\n    </tr>\n    <tr>\n      <th>R1C5</th>\n      <td>-0.492946</td>\n      <td>-0.075298</td>\n      <td>-0.294581</td>\n      <td>-0.285658</td>\n      <td>-0.208302</td>\n      <td>-0.116401</td>\n      <td>-0.314876</td>\n      <td>-0.013842</td>\n      <td>POLYGON ((4.1515296429050075 52.00500001293753...</td>\n      <td>0.299597</td>\n    </tr>\n    <tr>\n      <th>R1C6</th>\n      <td>-0.265598</td>\n      <td>0.439560</td>\n      <td>1.210711</td>\n      <td>0.505538</td>\n      <td>-0.208302</td>\n      <td>0.867638</td>\n      <td>-0.314876</td>\n      <td>-0.013842</td>\n      <td>POLYGON ((4.158409585337144 52.00500001293753,...</td>\n      <td>2.058907</td>\n    </tr>\n    <tr>\n      <th>...</th>\n      <td>...</td>\n      <td>...</td>\n      <td>...</td>\n      <td>...</td>\n      <td>...</td>\n      <td>...</td>\n      <td>...</td>\n      <td>...</td>\n      <td>...</td>\n      <td>...</td>\n    </tr>\n    <tr>\n      <th>R200C93</th>\n      <td>-0.606620</td>\n      <td>-0.246917</td>\n      <td>-0.572733</td>\n      <td>-0.285658</td>\n      <td>-0.208302</td>\n      <td>-0.116401</td>\n      <td>-0.314876</td>\n      <td>-0.013842</td>\n      <td>POLYGON ((4.756964576933012 52.999974451463515...</td>\n      <td>0.060000</td>\n    </tr>\n    <tr>\n      <th>R200C94</th>\n      <td>-0.606620</td>\n      <td>-0.246917</td>\n      <td>-0.540009</td>\n      <td>-0.285658</td>\n      <td>-0.208302</td>\n      <td>-0.116401</td>\n      <td>-0.314876</td>\n      <td>-0.013842</td>\n      <td>POLYGON ((4.763844519365148 52.999974451463515...</td>\n      <td>0.080000</td>\n    </tr>\n    <tr>\n      <th>R200C95</th>\n      <td>-0.561150</td>\n      <td>-0.161107</td>\n      <td>-0.589095</td>\n      <td>-0.285658</td>\n      <td>-0.208302</td>\n      <td>-0.116401</td>\n      <td>-0.314876</td>\n      <td>-0.013842</td>\n      <td>POLYGON ((4.770724461797284 52.999974451463515...</td>\n      <td>0.020000</td>\n    </tr>\n    <tr>\n      <th>R200C110</th>\n      <td>-0.606620</td>\n      <td>-0.246917</td>\n      <td>-0.621818</td>\n      <td>-0.285658</td>\n      <td>-0.208302</td>\n      <td>-0.116401</td>\n      <td>-0.314876</td>\n      <td>-0.013842</td>\n      <td>POLYGON ((4.8739235982793305 52.99997445146351...</td>\n      <td>0.000000</td>\n    </tr>\n    <tr>\n      <th>R200C152</th>\n      <td>-0.629354</td>\n      <td>-0.246917</td>\n      <td>-0.605456</td>\n      <td>-0.285658</td>\n      <td>-0.208302</td>\n      <td>-0.116401</td>\n      <td>-0.314876</td>\n      <td>-0.013842</td>\n      <td>POLYGON ((5.16288118042906 52.999974451463515,...</td>\n      <td>0.000000</td>\n    </tr>\n  </tbody>\n</table>\n<p>20881 rows × 10 columns</p>\n</div>"
     },
     "execution_count": 8,
     "metadata": {},
     "output_type": "execute_result"
    }
   ],
   "source": [
    "export_df['predicted_tourism'] = predictions_concat.prediction_label\n",
    "export_df"
   ]
  },
  {
   "cell_type": "code",
   "execution_count": 9,
   "metadata": {
    "pycharm": {
     "name": "#%%\n"
    }
   },
   "outputs": [],
   "source": [
    "export_df.to_csv('7.final_predictions.csv')"
   ]
  }
 ],
 "metadata": {
  "kernelspec": {
   "display_name": "Python 3 (ipykernel)",
   "language": "python",
   "name": "python3"
  },
  "language_info": {
   "codemirror_mode": {
    "name": "ipython",
    "version": 3
   },
   "file_extension": ".py",
   "mimetype": "text/x-python",
   "name": "python",
   "nbconvert_exporter": "python",
   "pygments_lexer": "ipython3",
   "version": "3.9.12"
  }
 },
 "nbformat": 4,
 "nbformat_minor": 1
}