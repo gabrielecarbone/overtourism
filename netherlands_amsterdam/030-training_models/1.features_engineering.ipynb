{
 "cells": [
  {
   "cell_type": "code",
   "execution_count": 25,
   "metadata": {
    "collapsed": true,
    "pycharm": {
     "name": "#%%\n"
    }
   },
   "outputs": [],
   "source": [
    "import pandas as pd"
   ]
  },
  {
   "cell_type": "code",
   "execution_count": 26,
   "outputs": [],
   "source": [
    "df = pd.read_csv('0.merged_df.csv')"
   ],
   "metadata": {
    "collapsed": false,
    "pycharm": {
     "name": "#%%\n"
    }
   }
  },
  {
   "cell_type": "code",
   "execution_count": 27,
   "outputs": [],
   "source": [
    "df.drop('Unnamed: 0', axis = 1, inplace = True)"
   ],
   "metadata": {
    "collapsed": false,
    "pycharm": {
     "name": "#%%\n"
    }
   }
  },
  {
   "cell_type": "code",
   "execution_count": 28,
   "outputs": [],
   "source": [
    "lon_min, lon_max = 4, 5.5\n",
    "lat_min, lat_max = 52, 53"
   ],
   "metadata": {
    "collapsed": false,
    "pycharm": {
     "name": "#%%\n"
    }
   }
  },
  {
   "cell_type": "code",
   "execution_count": 29,
   "outputs": [
    {
     "data": {
      "text/plain": "             osm_id  code          fclass          name       lon        lat  \\\n3           6320110  7212  nature_reserve       Palazzo  5.483148  52.491385   \n4           6320117  7209      commercial           NaN  5.474250  52.495943   \n5           6320135  7209      commercial  Noordersluis  5.438832  52.500937   \n6           6320142  7209      commercial           NaN  5.446325  52.507542   \n7           6320167  7212  nature_reserve           NaN  5.495712  52.523269   \n...             ...   ...             ...           ...       ...        ...   \n2082696  1115993961  8200           water           NaN  4.617390  52.082825   \n2082697  1115993962  8200           water           NaN  4.617506  52.083592   \n2082698  1115993963  8200           water           NaN  4.617715  52.082837   \n2082699  1115993965  8200           water           NaN  4.617114  52.081069   \n2082703  1116098514  8200           water           NaN  4.767129  52.137476   \n\n                SELECT  \n3               nature  \n4        entertainment  \n5        entertainment  \n6        entertainment  \n7               nature  \n...                ...  \n2082696         nature  \n2082697         nature  \n2082698         nature  \n2082699         nature  \n2082703         nature  \n\n[1482325 rows x 7 columns]",
      "text/html": "<div>\n<style scoped>\n    .dataframe tbody tr th:only-of-type {\n        vertical-align: middle;\n    }\n\n    .dataframe tbody tr th {\n        vertical-align: top;\n    }\n\n    .dataframe thead th {\n        text-align: right;\n    }\n</style>\n<table border=\"1\" class=\"dataframe\">\n  <thead>\n    <tr style=\"text-align: right;\">\n      <th></th>\n      <th>osm_id</th>\n      <th>code</th>\n      <th>fclass</th>\n      <th>name</th>\n      <th>lon</th>\n      <th>lat</th>\n      <th>SELECT</th>\n    </tr>\n  </thead>\n  <tbody>\n    <tr>\n      <th>3</th>\n      <td>6320110</td>\n      <td>7212</td>\n      <td>nature_reserve</td>\n      <td>Palazzo</td>\n      <td>5.483148</td>\n      <td>52.491385</td>\n      <td>nature</td>\n    </tr>\n    <tr>\n      <th>4</th>\n      <td>6320117</td>\n      <td>7209</td>\n      <td>commercial</td>\n      <td>NaN</td>\n      <td>5.474250</td>\n      <td>52.495943</td>\n      <td>entertainment</td>\n    </tr>\n    <tr>\n      <th>5</th>\n      <td>6320135</td>\n      <td>7209</td>\n      <td>commercial</td>\n      <td>Noordersluis</td>\n      <td>5.438832</td>\n      <td>52.500937</td>\n      <td>entertainment</td>\n    </tr>\n    <tr>\n      <th>6</th>\n      <td>6320142</td>\n      <td>7209</td>\n      <td>commercial</td>\n      <td>NaN</td>\n      <td>5.446325</td>\n      <td>52.507542</td>\n      <td>entertainment</td>\n    </tr>\n    <tr>\n      <th>7</th>\n      <td>6320167</td>\n      <td>7212</td>\n      <td>nature_reserve</td>\n      <td>NaN</td>\n      <td>5.495712</td>\n      <td>52.523269</td>\n      <td>nature</td>\n    </tr>\n    <tr>\n      <th>...</th>\n      <td>...</td>\n      <td>...</td>\n      <td>...</td>\n      <td>...</td>\n      <td>...</td>\n      <td>...</td>\n      <td>...</td>\n    </tr>\n    <tr>\n      <th>2082696</th>\n      <td>1115993961</td>\n      <td>8200</td>\n      <td>water</td>\n      <td>NaN</td>\n      <td>4.617390</td>\n      <td>52.082825</td>\n      <td>nature</td>\n    </tr>\n    <tr>\n      <th>2082697</th>\n      <td>1115993962</td>\n      <td>8200</td>\n      <td>water</td>\n      <td>NaN</td>\n      <td>4.617506</td>\n      <td>52.083592</td>\n      <td>nature</td>\n    </tr>\n    <tr>\n      <th>2082698</th>\n      <td>1115993963</td>\n      <td>8200</td>\n      <td>water</td>\n      <td>NaN</td>\n      <td>4.617715</td>\n      <td>52.082837</td>\n      <td>nature</td>\n    </tr>\n    <tr>\n      <th>2082699</th>\n      <td>1115993965</td>\n      <td>8200</td>\n      <td>water</td>\n      <td>NaN</td>\n      <td>4.617114</td>\n      <td>52.081069</td>\n      <td>nature</td>\n    </tr>\n    <tr>\n      <th>2082703</th>\n      <td>1116098514</td>\n      <td>8200</td>\n      <td>water</td>\n      <td>NaN</td>\n      <td>4.767129</td>\n      <td>52.137476</td>\n      <td>nature</td>\n    </tr>\n  </tbody>\n</table>\n<p>1482325 rows × 7 columns</p>\n</div>"
     },
     "execution_count": 29,
     "metadata": {},
     "output_type": "execute_result"
    }
   ],
   "source": [
    "df = df.loc[(df.lon >= lon_min) & (df.lon <= lon_max)]\n",
    "df = df.loc[(df.lat >= lat_min) & (df.lat <= lat_max)]\n",
    "df"
   ],
   "metadata": {
    "collapsed": false,
    "pycharm": {
     "name": "#%%\n"
    }
   }
  },
  {
   "cell_type": "code",
   "execution_count": 30,
   "outputs": [],
   "source": [
    "n_rows, n_columns = 200, 200\n",
    "\n",
    "lat_min, lat_max = df.lat.min(), df.lat.max()  # rows\n",
    "lon_min, lon_max = df.lon.min(), df.lon.max()  # columns\n",
    "\n",
    "diff_lat = lat_max - lat_min\n",
    "diff_lon = lon_max - lon_min\n",
    "\n",
    "step_lat = diff_lat / n_rows\n",
    "step_lon = diff_lon / n_columns"
   ],
   "metadata": {
    "collapsed": false,
    "pycharm": {
     "name": "#%%\n"
    }
   }
  },
  {
   "cell_type": "code",
   "execution_count": 31,
   "outputs": [],
   "source": [
    "categories = df['SELECT'].drop_duplicates().to_list()"
   ],
   "metadata": {
    "collapsed": false,
    "pycharm": {
     "name": "#%%\n"
    }
   }
  },
  {
   "cell_type": "code",
   "execution_count": 32,
   "outputs": [],
   "source": [
    "starting_point_lat, starting_point_lon = lat_min, lon_min # start from the highest column and the first column\n",
    "\n",
    "result_log = {}\n",
    "\n",
    "#starting bbox\n",
    "bbox_lat_min, bbox_lat_max = starting_point_lat, starting_point_lat + step_lat\n",
    "bbox_lon_min, bbox_lon_max = starting_point_lon, starting_point_lon + step_lon\n",
    "\n",
    "for row in range(n_rows):\n",
    "    # reset starting point of the column axis\n",
    "    bbox_lon_max = starting_point_lon\n",
    "    bbox_lon_min = starting_point_lon + step_lon\n",
    "\n",
    "    row_df = df.loc[(df.lat > bbox_lat_min) & (df.lat <= bbox_lat_max), :]\n",
    "\n",
    "    for column in range(n_columns):\n",
    "        cell_df = row_df.loc[(row_df.lon > bbox_lon_min) & (row_df.lon <= bbox_lon_max), :]\n",
    "\n",
    "        cell_name = 'R' + str(row + 1) + 'C' + str(column + 1)\n",
    "        cell_values = [row + 1, column +1, bbox_lat_min, bbox_lat_max, bbox_lon_min, bbox_lon_max]\n",
    "\n",
    "        for category in categories:\n",
    "            try:\n",
    "                count = cell_df.SELECT.value_counts()[category]\n",
    "                cell_values.append(count)\n",
    "\n",
    "            except:\n",
    "                cell_values.append(0)\n",
    "\n",
    "        result_log[cell_name] = cell_values\n",
    "\n",
    "        #print('LAT:', bbox_lat_min, '   ', bbox_lat_max, '  LON:', bbox_lon_min, '   ', bbox_lon_max, '    COUNT:', cell_df.shape[0])\n",
    "\n",
    "        bbox_lon_min = bbox_lon_max\n",
    "        bbox_lon_max += step_lon\n",
    "\n",
    "    bbox_lat_min = bbox_lat_max\n",
    "    bbox_lat_max += step_lat"
   ],
   "metadata": {
    "collapsed": false,
    "pycharm": {
     "name": "#%%\n"
    }
   }
  },
  {
   "cell_type": "code",
   "execution_count": 33,
   "outputs": [
    {
     "data": {
      "text/plain": "            row  column    lat_min    lat_max   lon_min   lon_max  nature  \\\nR1C1        1.0     1.0  52.000000  52.005000  4.130890  4.124010     0.0   \nR1C2        1.0     2.0  52.000000  52.005000  4.124010  4.130890     1.0   \nR1C3        1.0     3.0  52.000000  52.005000  4.130890  4.137770     4.0   \nR1C4        1.0     4.0  52.000000  52.005000  4.137770  4.144650     9.0   \nR1C5        1.0     5.0  52.000000  52.005000  4.144650  4.151530     6.0   \n...         ...     ...        ...        ...       ...       ...     ...   \nR200C196  200.0   196.0  52.994975  52.999974  5.458719  5.465599     0.0   \nR200C197  200.0   197.0  52.994975  52.999974  5.465599  5.472479     0.0   \nR200C198  200.0   198.0  52.994975  52.999974  5.472479  5.479359     0.0   \nR200C199  200.0   199.0  52.994975  52.999974  5.479359  5.486238     0.0   \nR200C200  200.0   200.0  52.994975  52.999974  5.486238  5.493118     0.0   \n\n          entertainment  transports  art  tourism  security  accessibility  \\\nR1C1                0.0         0.0  0.0      0.0       0.0            0.0   \nR1C2                3.0         5.0  0.0      3.0       0.0            5.0   \nR1C3                1.0        34.0  0.0      2.0       0.0            4.0   \nR1C4                0.0        25.0  0.0      1.0       0.0            1.0   \nR1C5                2.0        20.0  0.0      0.0       0.0            0.0   \n...                 ...         ...  ...      ...       ...            ...   \nR200C196            0.0         0.0  0.0      0.0       0.0            0.0   \nR200C197            0.0         0.0  0.0      0.0       0.0            0.0   \nR200C198            0.0         0.0  0.0      0.0       0.0            0.0   \nR200C199            0.0         0.0  0.0      0.0       0.0            0.0   \nR200C200            0.0         0.0  0.0      0.0       0.0            0.0   \n\n          sport  \nR1C1        0.0  \nR1C2        0.0  \nR1C3        0.0  \nR1C4        0.0  \nR1C5        0.0  \n...         ...  \nR200C196    0.0  \nR200C197    0.0  \nR200C198    0.0  \nR200C199    0.0  \nR200C200    0.0  \n\n[40000 rows x 14 columns]",
      "text/html": "<div>\n<style scoped>\n    .dataframe tbody tr th:only-of-type {\n        vertical-align: middle;\n    }\n\n    .dataframe tbody tr th {\n        vertical-align: top;\n    }\n\n    .dataframe thead th {\n        text-align: right;\n    }\n</style>\n<table border=\"1\" class=\"dataframe\">\n  <thead>\n    <tr style=\"text-align: right;\">\n      <th></th>\n      <th>row</th>\n      <th>column</th>\n      <th>lat_min</th>\n      <th>lat_max</th>\n      <th>lon_min</th>\n      <th>lon_max</th>\n      <th>nature</th>\n      <th>entertainment</th>\n      <th>transports</th>\n      <th>art</th>\n      <th>tourism</th>\n      <th>security</th>\n      <th>accessibility</th>\n      <th>sport</th>\n    </tr>\n  </thead>\n  <tbody>\n    <tr>\n      <th>R1C1</th>\n      <td>1.0</td>\n      <td>1.0</td>\n      <td>52.000000</td>\n      <td>52.005000</td>\n      <td>4.130890</td>\n      <td>4.124010</td>\n      <td>0.0</td>\n      <td>0.0</td>\n      <td>0.0</td>\n      <td>0.0</td>\n      <td>0.0</td>\n      <td>0.0</td>\n      <td>0.0</td>\n      <td>0.0</td>\n    </tr>\n    <tr>\n      <th>R1C2</th>\n      <td>1.0</td>\n      <td>2.0</td>\n      <td>52.000000</td>\n      <td>52.005000</td>\n      <td>4.124010</td>\n      <td>4.130890</td>\n      <td>1.0</td>\n      <td>3.0</td>\n      <td>5.0</td>\n      <td>0.0</td>\n      <td>3.0</td>\n      <td>0.0</td>\n      <td>5.0</td>\n      <td>0.0</td>\n    </tr>\n    <tr>\n      <th>R1C3</th>\n      <td>1.0</td>\n      <td>3.0</td>\n      <td>52.000000</td>\n      <td>52.005000</td>\n      <td>4.130890</td>\n      <td>4.137770</td>\n      <td>4.0</td>\n      <td>1.0</td>\n      <td>34.0</td>\n      <td>0.0</td>\n      <td>2.0</td>\n      <td>0.0</td>\n      <td>4.0</td>\n      <td>0.0</td>\n    </tr>\n    <tr>\n      <th>R1C4</th>\n      <td>1.0</td>\n      <td>4.0</td>\n      <td>52.000000</td>\n      <td>52.005000</td>\n      <td>4.137770</td>\n      <td>4.144650</td>\n      <td>9.0</td>\n      <td>0.0</td>\n      <td>25.0</td>\n      <td>0.0</td>\n      <td>1.0</td>\n      <td>0.0</td>\n      <td>1.0</td>\n      <td>0.0</td>\n    </tr>\n    <tr>\n      <th>R1C5</th>\n      <td>1.0</td>\n      <td>5.0</td>\n      <td>52.000000</td>\n      <td>52.005000</td>\n      <td>4.144650</td>\n      <td>4.151530</td>\n      <td>6.0</td>\n      <td>2.0</td>\n      <td>20.0</td>\n      <td>0.0</td>\n      <td>0.0</td>\n      <td>0.0</td>\n      <td>0.0</td>\n      <td>0.0</td>\n    </tr>\n    <tr>\n      <th>...</th>\n      <td>...</td>\n      <td>...</td>\n      <td>...</td>\n      <td>...</td>\n      <td>...</td>\n      <td>...</td>\n      <td>...</td>\n      <td>...</td>\n      <td>...</td>\n      <td>...</td>\n      <td>...</td>\n      <td>...</td>\n      <td>...</td>\n      <td>...</td>\n    </tr>\n    <tr>\n      <th>R200C196</th>\n      <td>200.0</td>\n      <td>196.0</td>\n      <td>52.994975</td>\n      <td>52.999974</td>\n      <td>5.458719</td>\n      <td>5.465599</td>\n      <td>0.0</td>\n      <td>0.0</td>\n      <td>0.0</td>\n      <td>0.0</td>\n      <td>0.0</td>\n      <td>0.0</td>\n      <td>0.0</td>\n      <td>0.0</td>\n    </tr>\n    <tr>\n      <th>R200C197</th>\n      <td>200.0</td>\n      <td>197.0</td>\n      <td>52.994975</td>\n      <td>52.999974</td>\n      <td>5.465599</td>\n      <td>5.472479</td>\n      <td>0.0</td>\n      <td>0.0</td>\n      <td>0.0</td>\n      <td>0.0</td>\n      <td>0.0</td>\n      <td>0.0</td>\n      <td>0.0</td>\n      <td>0.0</td>\n    </tr>\n    <tr>\n      <th>R200C198</th>\n      <td>200.0</td>\n      <td>198.0</td>\n      <td>52.994975</td>\n      <td>52.999974</td>\n      <td>5.472479</td>\n      <td>5.479359</td>\n      <td>0.0</td>\n      <td>0.0</td>\n      <td>0.0</td>\n      <td>0.0</td>\n      <td>0.0</td>\n      <td>0.0</td>\n      <td>0.0</td>\n      <td>0.0</td>\n    </tr>\n    <tr>\n      <th>R200C199</th>\n      <td>200.0</td>\n      <td>199.0</td>\n      <td>52.994975</td>\n      <td>52.999974</td>\n      <td>5.479359</td>\n      <td>5.486238</td>\n      <td>0.0</td>\n      <td>0.0</td>\n      <td>0.0</td>\n      <td>0.0</td>\n      <td>0.0</td>\n      <td>0.0</td>\n      <td>0.0</td>\n      <td>0.0</td>\n    </tr>\n    <tr>\n      <th>R200C200</th>\n      <td>200.0</td>\n      <td>200.0</td>\n      <td>52.994975</td>\n      <td>52.999974</td>\n      <td>5.486238</td>\n      <td>5.493118</td>\n      <td>0.0</td>\n      <td>0.0</td>\n      <td>0.0</td>\n      <td>0.0</td>\n      <td>0.0</td>\n      <td>0.0</td>\n      <td>0.0</td>\n      <td>0.0</td>\n    </tr>\n  </tbody>\n</table>\n<p>40000 rows × 14 columns</p>\n</div>"
     },
     "execution_count": 33,
     "metadata": {},
     "output_type": "execute_result"
    }
   ],
   "source": [
    "result_df = pd.DataFrame(result_log).T\n",
    "result_df.columns = ['row', 'column', 'lat_min', 'lat_max', 'lon_min', 'lon_max'] + categories\n",
    "result_df"
   ],
   "metadata": {
    "collapsed": false,
    "pycharm": {
     "name": "#%%\n"
    }
   }
  },
  {
   "cell_type": "code",
   "execution_count": 34,
   "outputs": [],
   "source": [
    "result_df.to_csv('1.complete_df.csv')"
   ],
   "metadata": {
    "collapsed": false,
    "pycharm": {
     "name": "#%%\n"
    }
   }
  },
  {
   "cell_type": "code",
   "execution_count": 35,
   "outputs": [
    {
     "data": {
      "text/plain": "            row  column    lat_min    lat_max   lon_min   lon_max  nature  \\\nR1C2        1.0     2.0  52.000000  52.005000  4.124010  4.130890     1.0   \nR1C3        1.0     3.0  52.000000  52.005000  4.130890  4.137770     4.0   \nR1C4        1.0     4.0  52.000000  52.005000  4.137770  4.144650     9.0   \nR1C5        1.0     5.0  52.000000  52.005000  4.144650  4.151530     6.0   \nR1C6        1.0     6.0  52.000000  52.005000  4.151530  4.158410    16.0   \n...         ...     ...        ...        ...       ...       ...     ...   \nR200C93   200.0    93.0  52.994975  52.999974  4.750085  4.756965     1.0   \nR200C94   200.0    94.0  52.994975  52.999974  4.756965  4.763845     1.0   \nR200C95   200.0    95.0  52.994975  52.999974  4.763845  4.770724     3.0   \nR200C110  200.0   110.0  52.994975  52.999974  4.867044  4.873924     1.0   \nR200C152  200.0   152.0  52.994975  52.999974  5.156001  5.162881     0.0   \n\n          entertainment  transports  art  tourism  security  accessibility  \\\nR1C2                3.0         5.0  0.0      3.0       0.0            5.0   \nR1C3                1.0        34.0  0.0      2.0       0.0            4.0   \nR1C4                0.0        25.0  0.0      1.0       0.0            1.0   \nR1C5                2.0        20.0  0.0      0.0       0.0            0.0   \nR1C6                8.0       112.0  1.0      0.0       2.0            0.0   \n...                 ...         ...  ...      ...       ...            ...   \nR200C93             0.0         3.0  0.0      0.0       0.0            0.0   \nR200C94             0.0         5.0  0.0      0.0       0.0            0.0   \nR200C95             1.0         2.0  0.0      0.0       0.0            0.0   \nR200C110            0.0         0.0  0.0      0.0       0.0            0.0   \nR200C152            0.0         1.0  0.0      0.0       0.0            0.0   \n\n          sport  \nR1C2        0.0  \nR1C3        0.0  \nR1C4        0.0  \nR1C5        0.0  \nR1C6        0.0  \n...         ...  \nR200C93     0.0  \nR200C94     0.0  \nR200C95     0.0  \nR200C110    0.0  \nR200C152    0.0  \n\n[20881 rows x 14 columns]",
      "text/html": "<div>\n<style scoped>\n    .dataframe tbody tr th:only-of-type {\n        vertical-align: middle;\n    }\n\n    .dataframe tbody tr th {\n        vertical-align: top;\n    }\n\n    .dataframe thead th {\n        text-align: right;\n    }\n</style>\n<table border=\"1\" class=\"dataframe\">\n  <thead>\n    <tr style=\"text-align: right;\">\n      <th></th>\n      <th>row</th>\n      <th>column</th>\n      <th>lat_min</th>\n      <th>lat_max</th>\n      <th>lon_min</th>\n      <th>lon_max</th>\n      <th>nature</th>\n      <th>entertainment</th>\n      <th>transports</th>\n      <th>art</th>\n      <th>tourism</th>\n      <th>security</th>\n      <th>accessibility</th>\n      <th>sport</th>\n    </tr>\n  </thead>\n  <tbody>\n    <tr>\n      <th>R1C2</th>\n      <td>1.0</td>\n      <td>2.0</td>\n      <td>52.000000</td>\n      <td>52.005000</td>\n      <td>4.124010</td>\n      <td>4.130890</td>\n      <td>1.0</td>\n      <td>3.0</td>\n      <td>5.0</td>\n      <td>0.0</td>\n      <td>3.0</td>\n      <td>0.0</td>\n      <td>5.0</td>\n      <td>0.0</td>\n    </tr>\n    <tr>\n      <th>R1C3</th>\n      <td>1.0</td>\n      <td>3.0</td>\n      <td>52.000000</td>\n      <td>52.005000</td>\n      <td>4.130890</td>\n      <td>4.137770</td>\n      <td>4.0</td>\n      <td>1.0</td>\n      <td>34.0</td>\n      <td>0.0</td>\n      <td>2.0</td>\n      <td>0.0</td>\n      <td>4.0</td>\n      <td>0.0</td>\n    </tr>\n    <tr>\n      <th>R1C4</th>\n      <td>1.0</td>\n      <td>4.0</td>\n      <td>52.000000</td>\n      <td>52.005000</td>\n      <td>4.137770</td>\n      <td>4.144650</td>\n      <td>9.0</td>\n      <td>0.0</td>\n      <td>25.0</td>\n      <td>0.0</td>\n      <td>1.0</td>\n      <td>0.0</td>\n      <td>1.0</td>\n      <td>0.0</td>\n    </tr>\n    <tr>\n      <th>R1C5</th>\n      <td>1.0</td>\n      <td>5.0</td>\n      <td>52.000000</td>\n      <td>52.005000</td>\n      <td>4.144650</td>\n      <td>4.151530</td>\n      <td>6.0</td>\n      <td>2.0</td>\n      <td>20.0</td>\n      <td>0.0</td>\n      <td>0.0</td>\n      <td>0.0</td>\n      <td>0.0</td>\n      <td>0.0</td>\n    </tr>\n    <tr>\n      <th>R1C6</th>\n      <td>1.0</td>\n      <td>6.0</td>\n      <td>52.000000</td>\n      <td>52.005000</td>\n      <td>4.151530</td>\n      <td>4.158410</td>\n      <td>16.0</td>\n      <td>8.0</td>\n      <td>112.0</td>\n      <td>1.0</td>\n      <td>0.0</td>\n      <td>2.0</td>\n      <td>0.0</td>\n      <td>0.0</td>\n    </tr>\n    <tr>\n      <th>...</th>\n      <td>...</td>\n      <td>...</td>\n      <td>...</td>\n      <td>...</td>\n      <td>...</td>\n      <td>...</td>\n      <td>...</td>\n      <td>...</td>\n      <td>...</td>\n      <td>...</td>\n      <td>...</td>\n      <td>...</td>\n      <td>...</td>\n      <td>...</td>\n    </tr>\n    <tr>\n      <th>R200C93</th>\n      <td>200.0</td>\n      <td>93.0</td>\n      <td>52.994975</td>\n      <td>52.999974</td>\n      <td>4.750085</td>\n      <td>4.756965</td>\n      <td>1.0</td>\n      <td>0.0</td>\n      <td>3.0</td>\n      <td>0.0</td>\n      <td>0.0</td>\n      <td>0.0</td>\n      <td>0.0</td>\n      <td>0.0</td>\n    </tr>\n    <tr>\n      <th>R200C94</th>\n      <td>200.0</td>\n      <td>94.0</td>\n      <td>52.994975</td>\n      <td>52.999974</td>\n      <td>4.756965</td>\n      <td>4.763845</td>\n      <td>1.0</td>\n      <td>0.0</td>\n      <td>5.0</td>\n      <td>0.0</td>\n      <td>0.0</td>\n      <td>0.0</td>\n      <td>0.0</td>\n      <td>0.0</td>\n    </tr>\n    <tr>\n      <th>R200C95</th>\n      <td>200.0</td>\n      <td>95.0</td>\n      <td>52.994975</td>\n      <td>52.999974</td>\n      <td>4.763845</td>\n      <td>4.770724</td>\n      <td>3.0</td>\n      <td>1.0</td>\n      <td>2.0</td>\n      <td>0.0</td>\n      <td>0.0</td>\n      <td>0.0</td>\n      <td>0.0</td>\n      <td>0.0</td>\n    </tr>\n    <tr>\n      <th>R200C110</th>\n      <td>200.0</td>\n      <td>110.0</td>\n      <td>52.994975</td>\n      <td>52.999974</td>\n      <td>4.867044</td>\n      <td>4.873924</td>\n      <td>1.0</td>\n      <td>0.0</td>\n      <td>0.0</td>\n      <td>0.0</td>\n      <td>0.0</td>\n      <td>0.0</td>\n      <td>0.0</td>\n      <td>0.0</td>\n    </tr>\n    <tr>\n      <th>R200C152</th>\n      <td>200.0</td>\n      <td>152.0</td>\n      <td>52.994975</td>\n      <td>52.999974</td>\n      <td>5.156001</td>\n      <td>5.162881</td>\n      <td>0.0</td>\n      <td>0.0</td>\n      <td>1.0</td>\n      <td>0.0</td>\n      <td>0.0</td>\n      <td>0.0</td>\n      <td>0.0</td>\n      <td>0.0</td>\n    </tr>\n  </tbody>\n</table>\n<p>20881 rows × 14 columns</p>\n</div>"
     },
     "execution_count": 35,
     "metadata": {},
     "output_type": "execute_result"
    }
   ],
   "source": [
    "filtered_df = result_df[result_df[categories].T.sum(0) != 0] # remove the cells that have 0 on every fclass\n",
    "filtered_df"
   ],
   "metadata": {
    "collapsed": false,
    "pycharm": {
     "name": "#%%\n"
    }
   }
  },
  {
   "cell_type": "code",
   "execution_count": 36,
   "outputs": [],
   "source": [
    "filtered_df.to_csv('1.filtered_df.csv')"
   ],
   "metadata": {
    "collapsed": false,
    "pycharm": {
     "name": "#%%\n"
    }
   }
  }
 ],
 "metadata": {
  "kernelspec": {
   "display_name": "Python 3",
   "language": "python",
   "name": "python3"
  },
  "language_info": {
   "codemirror_mode": {
    "name": "ipython",
    "version": 2
   },
   "file_extension": ".py",
   "mimetype": "text/x-python",
   "name": "python",
   "nbconvert_exporter": "python",
   "pygments_lexer": "ipython2",
   "version": "2.7.6"
  }
 },
 "nbformat": 4,
 "nbformat_minor": 0
}