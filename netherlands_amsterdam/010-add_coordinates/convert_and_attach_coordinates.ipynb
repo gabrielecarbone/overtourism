{
 "cells": [
  {
   "cell_type": "code",
   "execution_count": 2,
   "id": "4da79cee-0151-4c1a-8087-97a175a1e2d0",
   "metadata": {
    "pycharm": {
     "name": "#%%\n"
    }
   },
   "outputs": [],
   "source": [
    "import os\n",
    "import geopandas as gpd\n",
    "from simpledbf import Dbf5     # use this because it's much faster compared to the gpd function"
   ]
  },
  {
   "cell_type": "code",
   "execution_count": 3,
   "outputs": [
    {
     "name": "stdout",
     "output_type": "stream",
     "text": [
      "^C\n",
      "\n",
      "Note: you may need to restart the kernel to use updated packages.\n"
     ]
    }
   ],
   "source": [
    "conda install pyproj"
   ],
   "metadata": {
    "collapsed": false,
    "pycharm": {
     "name": "#%%\n"
    }
   }
  },
  {
   "cell_type": "code",
   "execution_count": 7,
   "id": "b1e2a2bb-0285-4579-b31d-b57be393822d",
   "metadata": {
    "pycharm": {
     "name": "#%%\n"
    }
   },
   "outputs": [],
   "source": [
    "input_path = '../000-download_dbf/'\n",
    "\n",
    "file_list = os.listdir(input_path)"
   ]
  },
  {
   "cell_type": "code",
   "execution_count": 8,
   "outputs": [
    {
     "name": "stdout",
     "output_type": "stream",
     "text": [
      "Importing DataFrame:  flevoland_gis_osm_buildings_a_free_1  of shape  (252302, 5)\n",
      "Importing DataFrame:  flevoland_gis_osm_landuse_a_free_1  of shape  (47999, 4)\n",
      "Importing DataFrame:  flevoland_gis_osm_natural_a_free_1  of shape  (100, 4)\n",
      "Importing DataFrame:  flevoland_gis_osm_natural_free_1  of shape  (8365, 4)\n",
      "Importing DataFrame:  flevoland_gis_osm_places_a_free_1  of shape  (59, 5)\n",
      "Importing DataFrame:  flevoland_gis_osm_places_free_1  of shape  (57, 5)\n",
      "Importing DataFrame:  flevoland_gis_osm_pofw_a_free_1  of shape  (86, 4)\n",
      "Importing DataFrame:  flevoland_gis_osm_pofw_free_1  of shape  (22, 4)\n",
      "Importing DataFrame:  flevoland_gis_osm_pois_a_free_1  of shape  (2288, 4)\n",
      "Importing DataFrame:  flevoland_gis_osm_pois_free_1  of shape  (5163, 4)\n",
      "Importing DataFrame:  flevoland_gis_osm_railways_free_1  of shape  (803, 7)\n",
      "Importing DataFrame:  flevoland_gis_osm_roads_free_1  of shape  (69837, 10)\n",
      "Importing DataFrame:  flevoland_gis_osm_traffic_a_free_1  of shape  (3515, 4)\n",
      "Importing DataFrame:  flevoland_gis_osm_traffic_free_1  of shape  (3000, 4)\n",
      "Importing DataFrame:  flevoland_gis_osm_transport_a_free_1  of shape  (20, 4)\n",
      "Importing DataFrame:  flevoland_gis_osm_transport_free_1  of shape  (823, 4)\n",
      "Importing DataFrame:  flevoland_gis_osm_waterways_free_1  of shape  (1956, 5)\n",
      "Importing DataFrame:  flevoland_gis_osm_water_a_free_1  of shape  (5737, 4)\n",
      "Importing DataFrame:  noord_holland_gis_osm_buildings_a_free_1  of shape  (1466856, 5)\n",
      "Importing DataFrame:  noord_holland_gis_osm_landuse_a_free_1  of shape  (182074, 4)\n",
      "Importing DataFrame:  noord_holland_gis_osm_natural_a_free_1  of shape  (323, 4)\n",
      "Importing DataFrame:  noord_holland_gis_osm_natural_free_1  of shape  (83528, 4)\n",
      "Importing DataFrame:  noord_holland_gis_osm_places_a_free_1  of shape  (94, 5)\n",
      "Importing DataFrame:  noord_holland_gis_osm_places_free_1  of shape  (668, 5)\n",
      "Importing DataFrame:  noord_holland_gis_osm_pofw_a_free_1  of shape  (477, 4)\n",
      "Importing DataFrame:  noord_holland_gis_osm_pofw_free_1  of shape  (238, 4)\n",
      "Importing DataFrame:  noord_holland_gis_osm_pois_a_free_1  of shape  (14773, 4)\n",
      "Importing DataFrame:  noord_holland_gis_osm_pois_free_1  of shape  (48249, 4)\n",
      "Importing DataFrame:  noord_holland_gis_osm_railways_free_1  of shape  (7683, 7)\n",
      "Importing DataFrame:  noord_holland_gis_osm_roads_free_1  of shape  (326119, 10)\n",
      "Importing DataFrame:  noord_holland_gis_osm_traffic_a_free_1  of shape  (15316, 4)\n",
      "Importing DataFrame:  noord_holland_gis_osm_traffic_free_1  of shape  (23327, 4)\n",
      "Importing DataFrame:  noord_holland_gis_osm_transport_a_free_1  of shape  (122, 4)\n",
      "Importing DataFrame:  noord_holland_gis_osm_transport_free_1  of shape  (6701, 4)\n",
      "Importing DataFrame:  noord_holland_gis_osm_waterways_free_1  of shape  (12197, 5)\n",
      "Importing DataFrame:  noord_holland_gis_osm_water_a_free_1  of shape  (53760, 4)\n",
      "Importing DataFrame:  utrecht_gis_osm_buildings_a_free_1  of shape  (782741, 5)\n",
      "Importing DataFrame:  utrecht_gis_osm_landuse_a_free_1  of shape  (114341, 4)\n",
      "Importing DataFrame:  utrecht_gis_osm_natural_a_free_1  of shape  (111, 4)\n",
      "Importing DataFrame:  utrecht_gis_osm_natural_free_1  of shape  (16927, 4)\n",
      "Importing DataFrame:  utrecht_gis_osm_places_a_free_1  of shape  (31, 5)\n",
      "Importing DataFrame:  utrecht_gis_osm_places_free_1  of shape  (244, 5)\n",
      "Importing DataFrame:  utrecht_gis_osm_pofw_a_free_1  of shape  (351, 4)\n",
      "Importing DataFrame:  utrecht_gis_osm_pofw_free_1  of shape  (88, 4)\n",
      "Importing DataFrame:  utrecht_gis_osm_pois_a_free_1  of shape  (6599, 4)\n",
      "Importing DataFrame:  utrecht_gis_osm_pois_free_1  of shape  (25886, 4)\n",
      "Importing DataFrame:  utrecht_gis_osm_railways_free_1  of shape  (2893, 7)\n",
      "Importing DataFrame:  utrecht_gis_osm_roads_free_1  of shape  (164047, 10)\n",
      "Importing DataFrame:  utrecht_gis_osm_traffic_a_free_1  of shape  (9893, 4)\n",
      "Importing DataFrame:  utrecht_gis_osm_traffic_free_1  of shape  (11940, 4)\n",
      "Importing DataFrame:  utrecht_gis_osm_transport_a_free_1  of shape  (9, 4)\n",
      "Importing DataFrame:  utrecht_gis_osm_transport_free_1  of shape  (3335, 4)\n",
      "Importing DataFrame:  utrecht_gis_osm_waterways_free_1  of shape  (6953, 5)\n",
      "Importing DataFrame:  utrecht_gis_osm_water_a_free_1  of shape  (24298, 4)\n",
      "Importing DataFrame:  zuid_gis_osm_buildings_a_free_1  of shape  (1827859, 5)\n",
      "Importing DataFrame:  zuid_gis_osm_landuse_a_free_1  of shape  (167988, 4)\n",
      "Importing DataFrame:  zuid_gis_osm_natural_a_free_1  of shape  (288, 4)\n",
      "Importing DataFrame:  zuid_gis_osm_natural_free_1  of shape  (66222, 4)\n",
      "Importing DataFrame:  zuid_gis_osm_places_a_free_1  of shape  (121, 5)\n",
      "Importing DataFrame:  zuid_gis_osm_places_free_1  of shape  (599, 5)\n",
      "Importing DataFrame:  zuid_gis_osm_pofw_a_free_1  of shape  (919, 4)\n",
      "Importing DataFrame:  zuid_gis_osm_pofw_free_1  of shape  (254, 4)\n",
      "Importing DataFrame:  zuid_gis_osm_pois_a_free_1  of shape  (15114, 4)\n",
      "Importing DataFrame:  zuid_gis_osm_pois_free_1  of shape  (52591, 4)\n",
      "Importing DataFrame:  zuid_gis_osm_railways_free_1  of shape  (9224, 7)\n",
      "Importing DataFrame:  zuid_gis_osm_roads_free_1  of shape  (393809, 10)\n",
      "Importing DataFrame:  zuid_gis_osm_traffic_a_free_1  of shape  (17145, 4)\n",
      "Importing DataFrame:  zuid_gis_osm_traffic_free_1  of shape  (28728, 4)\n",
      "Importing DataFrame:  zuid_gis_osm_transport_a_free_1  of shape  (51, 4)\n",
      "Importing DataFrame:  zuid_gis_osm_transport_free_1  of shape  (7543, 4)\n",
      "Importing DataFrame:  zuid_gis_osm_waterways_free_1  of shape  (13237, 5)\n",
      "Importing DataFrame:  zuid_gis_osm_water_a_free_1  of shape  (52283, 4)\n"
     ]
    }
   ],
   "source": [
    "# IMPORT ALL THE DATABASES INTO PANDAS DATAFRAMES\n",
    "\n",
    "df_dict = {}\n",
    "\n",
    "for file_name in file_list:\n",
    "\n",
    "    if file_name[-4:] == '.dbf':\n",
    "\n",
    "        dbf_path = input_path + '/' + file_name\n",
    "\n",
    "        dbf = Dbf5(dbf_path)\n",
    "\n",
    "        df = dbf.to_dataframe()\n",
    "\n",
    "        df_dict[file_name] = df\n",
    "\n",
    "        print('Importing DataFrame: ', file_name[:-4], ' of shape ', df.shape)"
   ],
   "metadata": {
    "collapsed": false,
    "pycharm": {
     "name": "#%%\n"
    }
   }
  },
  {
   "cell_type": "code",
   "execution_count": 9,
   "outputs": [
    {
     "name": "stdout",
     "output_type": "stream",
     "text": [
      "Starting finding coordinates for  flevoland_gis_osm_buildings_a_free_1  of shape  (252302, 5)\n"
     ]
    },
    {
     "name": "stderr",
     "output_type": "stream",
     "text": [
      "C:\\Users\\gabri\\AppData\\Local\\Temp\\ipykernel_99052\\1603868372.py:13: UserWarning: Geometry is in a geographic CRS. Results from 'centroid' are likely incorrect. Use 'GeoSeries.to_crs()' to re-project geometries to a projected CRS before this operation.\n",
      "\n",
      "  centroids = shp_series.centroid\n"
     ]
    },
    {
     "name": "stdout",
     "output_type": "stream",
     "text": [
      "Added coordinates to  flevoland_gis_osm_buildings_a_free_1 , now shape is  (252302, 7)\n",
      "Starting finding coordinates for  flevoland_gis_osm_landuse_a_free_1  of shape  (47999, 4)\n"
     ]
    },
    {
     "name": "stderr",
     "output_type": "stream",
     "text": [
      "C:\\Users\\gabri\\AppData\\Local\\Temp\\ipykernel_99052\\1603868372.py:13: UserWarning: Geometry is in a geographic CRS. Results from 'centroid' are likely incorrect. Use 'GeoSeries.to_crs()' to re-project geometries to a projected CRS before this operation.\n",
      "\n",
      "  centroids = shp_series.centroid\n"
     ]
    },
    {
     "name": "stdout",
     "output_type": "stream",
     "text": [
      "Added coordinates to  flevoland_gis_osm_landuse_a_free_1 , now shape is  (47999, 6)\n",
      "Starting finding coordinates for  flevoland_gis_osm_natural_a_free_1  of shape  (100, 4)\n"
     ]
    },
    {
     "name": "stderr",
     "output_type": "stream",
     "text": [
      "C:\\Users\\gabri\\AppData\\Local\\Temp\\ipykernel_99052\\1603868372.py:13: UserWarning: Geometry is in a geographic CRS. Results from 'centroid' are likely incorrect. Use 'GeoSeries.to_crs()' to re-project geometries to a projected CRS before this operation.\n",
      "\n",
      "  centroids = shp_series.centroid\n"
     ]
    },
    {
     "name": "stdout",
     "output_type": "stream",
     "text": [
      "Added coordinates to  flevoland_gis_osm_natural_a_free_1 , now shape is  (100, 6)\n",
      "Starting finding coordinates for  flevoland_gis_osm_natural_free_1  of shape  (8365, 4)\n"
     ]
    },
    {
     "name": "stderr",
     "output_type": "stream",
     "text": [
      "C:\\Users\\gabri\\AppData\\Local\\Temp\\ipykernel_99052\\1603868372.py:13: UserWarning: Geometry is in a geographic CRS. Results from 'centroid' are likely incorrect. Use 'GeoSeries.to_crs()' to re-project geometries to a projected CRS before this operation.\n",
      "\n",
      "  centroids = shp_series.centroid\n"
     ]
    },
    {
     "name": "stdout",
     "output_type": "stream",
     "text": [
      "Added coordinates to  flevoland_gis_osm_natural_free_1 , now shape is  (8365, 6)\n",
      "Starting finding coordinates for  flevoland_gis_osm_places_a_free_1  of shape  (59, 5)\n",
      "Added coordinates to  flevoland_gis_osm_places_a_free_1 , now shape is  (59, 7)\n",
      "Starting finding coordinates for  flevoland_gis_osm_places_free_1  of shape  (57, 5)\n"
     ]
    },
    {
     "name": "stderr",
     "output_type": "stream",
     "text": [
      "C:\\Users\\gabri\\AppData\\Local\\Temp\\ipykernel_99052\\1603868372.py:13: UserWarning: Geometry is in a geographic CRS. Results from 'centroid' are likely incorrect. Use 'GeoSeries.to_crs()' to re-project geometries to a projected CRS before this operation.\n",
      "\n",
      "  centroids = shp_series.centroid\n",
      "C:\\Users\\gabri\\AppData\\Local\\Temp\\ipykernel_99052\\1603868372.py:13: UserWarning: Geometry is in a geographic CRS. Results from 'centroid' are likely incorrect. Use 'GeoSeries.to_crs()' to re-project geometries to a projected CRS before this operation.\n",
      "\n",
      "  centroids = shp_series.centroid\n"
     ]
    },
    {
     "name": "stdout",
     "output_type": "stream",
     "text": [
      "Added coordinates to  flevoland_gis_osm_places_free_1 , now shape is  (57, 7)\n",
      "Starting finding coordinates for  flevoland_gis_osm_pofw_a_free_1  of shape  (86, 4)\n",
      "Added coordinates to  flevoland_gis_osm_pofw_a_free_1 , now shape is  (86, 6)\n",
      "Starting finding coordinates for  flevoland_gis_osm_pofw_free_1  of shape  (22, 4)\n"
     ]
    },
    {
     "name": "stderr",
     "output_type": "stream",
     "text": [
      "C:\\Users\\gabri\\AppData\\Local\\Temp\\ipykernel_99052\\1603868372.py:13: UserWarning: Geometry is in a geographic CRS. Results from 'centroid' are likely incorrect. Use 'GeoSeries.to_crs()' to re-project geometries to a projected CRS before this operation.\n",
      "\n",
      "  centroids = shp_series.centroid\n",
      "C:\\Users\\gabri\\AppData\\Local\\Temp\\ipykernel_99052\\1603868372.py:13: UserWarning: Geometry is in a geographic CRS. Results from 'centroid' are likely incorrect. Use 'GeoSeries.to_crs()' to re-project geometries to a projected CRS before this operation.\n",
      "\n",
      "  centroids = shp_series.centroid\n"
     ]
    },
    {
     "name": "stdout",
     "output_type": "stream",
     "text": [
      "Added coordinates to  flevoland_gis_osm_pofw_free_1 , now shape is  (22, 6)\n",
      "Starting finding coordinates for  flevoland_gis_osm_pois_a_free_1  of shape  (2288, 4)\n"
     ]
    },
    {
     "name": "stderr",
     "output_type": "stream",
     "text": [
      "C:\\Users\\gabri\\AppData\\Local\\Temp\\ipykernel_99052\\1603868372.py:13: UserWarning: Geometry is in a geographic CRS. Results from 'centroid' are likely incorrect. Use 'GeoSeries.to_crs()' to re-project geometries to a projected CRS before this operation.\n",
      "\n",
      "  centroids = shp_series.centroid\n"
     ]
    },
    {
     "name": "stdout",
     "output_type": "stream",
     "text": [
      "Added coordinates to  flevoland_gis_osm_pois_a_free_1 , now shape is  (2288, 6)\n",
      "Starting finding coordinates for  flevoland_gis_osm_pois_free_1  of shape  (5163, 4)\n"
     ]
    },
    {
     "name": "stderr",
     "output_type": "stream",
     "text": [
      "C:\\Users\\gabri\\AppData\\Local\\Temp\\ipykernel_99052\\1603868372.py:13: UserWarning: Geometry is in a geographic CRS. Results from 'centroid' are likely incorrect. Use 'GeoSeries.to_crs()' to re-project geometries to a projected CRS before this operation.\n",
      "\n",
      "  centroids = shp_series.centroid\n"
     ]
    },
    {
     "name": "stdout",
     "output_type": "stream",
     "text": [
      "Added coordinates to  flevoland_gis_osm_pois_free_1 , now shape is  (5163, 6)\n",
      "Starting finding coordinates for  flevoland_gis_osm_railways_free_1  of shape  (803, 7)\n"
     ]
    },
    {
     "name": "stderr",
     "output_type": "stream",
     "text": [
      "C:\\Users\\gabri\\AppData\\Local\\Temp\\ipykernel_99052\\1603868372.py:13: UserWarning: Geometry is in a geographic CRS. Results from 'centroid' are likely incorrect. Use 'GeoSeries.to_crs()' to re-project geometries to a projected CRS before this operation.\n",
      "\n",
      "  centroids = shp_series.centroid\n"
     ]
    },
    {
     "name": "stdout",
     "output_type": "stream",
     "text": [
      "Added coordinates to  flevoland_gis_osm_railways_free_1 , now shape is  (803, 9)\n",
      "Starting finding coordinates for  flevoland_gis_osm_roads_free_1  of shape  (69837, 10)\n"
     ]
    },
    {
     "name": "stderr",
     "output_type": "stream",
     "text": [
      "C:\\Users\\gabri\\AppData\\Local\\Temp\\ipykernel_99052\\1603868372.py:13: UserWarning: Geometry is in a geographic CRS. Results from 'centroid' are likely incorrect. Use 'GeoSeries.to_crs()' to re-project geometries to a projected CRS before this operation.\n",
      "\n",
      "  centroids = shp_series.centroid\n"
     ]
    },
    {
     "name": "stdout",
     "output_type": "stream",
     "text": [
      "Added coordinates to  flevoland_gis_osm_roads_free_1 , now shape is  (69837, 12)\n",
      "Starting finding coordinates for  flevoland_gis_osm_traffic_a_free_1  of shape  (3515, 4)\n"
     ]
    },
    {
     "name": "stderr",
     "output_type": "stream",
     "text": [
      "C:\\Users\\gabri\\AppData\\Local\\Temp\\ipykernel_99052\\1603868372.py:13: UserWarning: Geometry is in a geographic CRS. Results from 'centroid' are likely incorrect. Use 'GeoSeries.to_crs()' to re-project geometries to a projected CRS before this operation.\n",
      "\n",
      "  centroids = shp_series.centroid\n"
     ]
    },
    {
     "name": "stdout",
     "output_type": "stream",
     "text": [
      "Added coordinates to  flevoland_gis_osm_traffic_a_free_1 , now shape is  (3515, 6)\n",
      "Starting finding coordinates for  flevoland_gis_osm_traffic_free_1  of shape  (3000, 4)\n"
     ]
    },
    {
     "name": "stderr",
     "output_type": "stream",
     "text": [
      "C:\\Users\\gabri\\AppData\\Local\\Temp\\ipykernel_99052\\1603868372.py:13: UserWarning: Geometry is in a geographic CRS. Results from 'centroid' are likely incorrect. Use 'GeoSeries.to_crs()' to re-project geometries to a projected CRS before this operation.\n",
      "\n",
      "  centroids = shp_series.centroid\n"
     ]
    },
    {
     "name": "stdout",
     "output_type": "stream",
     "text": [
      "Added coordinates to  flevoland_gis_osm_traffic_free_1 , now shape is  (3000, 6)\n",
      "Starting finding coordinates for  flevoland_gis_osm_transport_a_free_1  of shape  (20, 4)\n",
      "Added coordinates to  flevoland_gis_osm_transport_a_free_1 , now shape is  (20, 6)\n",
      "Starting finding coordinates for  flevoland_gis_osm_transport_free_1  of shape  (823, 4)\n"
     ]
    },
    {
     "name": "stderr",
     "output_type": "stream",
     "text": [
      "C:\\Users\\gabri\\AppData\\Local\\Temp\\ipykernel_99052\\1603868372.py:13: UserWarning: Geometry is in a geographic CRS. Results from 'centroid' are likely incorrect. Use 'GeoSeries.to_crs()' to re-project geometries to a projected CRS before this operation.\n",
      "\n",
      "  centroids = shp_series.centroid\n",
      "C:\\Users\\gabri\\AppData\\Local\\Temp\\ipykernel_99052\\1603868372.py:13: UserWarning: Geometry is in a geographic CRS. Results from 'centroid' are likely incorrect. Use 'GeoSeries.to_crs()' to re-project geometries to a projected CRS before this operation.\n",
      "\n",
      "  centroids = shp_series.centroid\n"
     ]
    },
    {
     "name": "stdout",
     "output_type": "stream",
     "text": [
      "Added coordinates to  flevoland_gis_osm_transport_free_1 , now shape is  (823, 6)\n",
      "Starting finding coordinates for  flevoland_gis_osm_waterways_free_1  of shape  (1956, 5)\n"
     ]
    },
    {
     "name": "stderr",
     "output_type": "stream",
     "text": [
      "C:\\Users\\gabri\\AppData\\Local\\Temp\\ipykernel_99052\\1603868372.py:13: UserWarning: Geometry is in a geographic CRS. Results from 'centroid' are likely incorrect. Use 'GeoSeries.to_crs()' to re-project geometries to a projected CRS before this operation.\n",
      "\n",
      "  centroids = shp_series.centroid\n"
     ]
    },
    {
     "name": "stdout",
     "output_type": "stream",
     "text": [
      "Added coordinates to  flevoland_gis_osm_waterways_free_1 , now shape is  (1956, 7)\n",
      "Starting finding coordinates for  flevoland_gis_osm_water_a_free_1  of shape  (5737, 4)\n"
     ]
    },
    {
     "name": "stderr",
     "output_type": "stream",
     "text": [
      "C:\\Users\\gabri\\AppData\\Local\\Temp\\ipykernel_99052\\1603868372.py:13: UserWarning: Geometry is in a geographic CRS. Results from 'centroid' are likely incorrect. Use 'GeoSeries.to_crs()' to re-project geometries to a projected CRS before this operation.\n",
      "\n",
      "  centroids = shp_series.centroid\n"
     ]
    },
    {
     "name": "stdout",
     "output_type": "stream",
     "text": [
      "Added coordinates to  flevoland_gis_osm_water_a_free_1 , now shape is  (5737, 6)\n",
      "Starting finding coordinates for  noord_holland_gis_osm_buildings_a_free_1  of shape  (1466856, 5)\n"
     ]
    },
    {
     "name": "stderr",
     "output_type": "stream",
     "text": [
      "C:\\Users\\gabri\\AppData\\Local\\Temp\\ipykernel_99052\\1603868372.py:13: UserWarning: Geometry is in a geographic CRS. Results from 'centroid' are likely incorrect. Use 'GeoSeries.to_crs()' to re-project geometries to a projected CRS before this operation.\n",
      "\n",
      "  centroids = shp_series.centroid\n"
     ]
    },
    {
     "name": "stdout",
     "output_type": "stream",
     "text": [
      "Added coordinates to  noord_holland_gis_osm_buildings_a_free_1 , now shape is  (1466856, 7)\n",
      "Starting finding coordinates for  noord_holland_gis_osm_landuse_a_free_1  of shape  (182074, 4)\n"
     ]
    },
    {
     "name": "stderr",
     "output_type": "stream",
     "text": [
      "C:\\Users\\gabri\\AppData\\Local\\Temp\\ipykernel_99052\\1603868372.py:13: UserWarning: Geometry is in a geographic CRS. Results from 'centroid' are likely incorrect. Use 'GeoSeries.to_crs()' to re-project geometries to a projected CRS before this operation.\n",
      "\n",
      "  centroids = shp_series.centroid\n"
     ]
    },
    {
     "name": "stdout",
     "output_type": "stream",
     "text": [
      "Added coordinates to  noord_holland_gis_osm_landuse_a_free_1 , now shape is  (182074, 6)\n",
      "Starting finding coordinates for  noord_holland_gis_osm_natural_a_free_1  of shape  (323, 4)\n"
     ]
    },
    {
     "name": "stderr",
     "output_type": "stream",
     "text": [
      "C:\\Users\\gabri\\AppData\\Local\\Temp\\ipykernel_99052\\1603868372.py:13: UserWarning: Geometry is in a geographic CRS. Results from 'centroid' are likely incorrect. Use 'GeoSeries.to_crs()' to re-project geometries to a projected CRS before this operation.\n",
      "\n",
      "  centroids = shp_series.centroid\n"
     ]
    },
    {
     "name": "stdout",
     "output_type": "stream",
     "text": [
      "Added coordinates to  noord_holland_gis_osm_natural_a_free_1 , now shape is  (323, 6)\n",
      "Starting finding coordinates for  noord_holland_gis_osm_natural_free_1  of shape  (83528, 4)\n"
     ]
    },
    {
     "name": "stderr",
     "output_type": "stream",
     "text": [
      "C:\\Users\\gabri\\AppData\\Local\\Temp\\ipykernel_99052\\1603868372.py:13: UserWarning: Geometry is in a geographic CRS. Results from 'centroid' are likely incorrect. Use 'GeoSeries.to_crs()' to re-project geometries to a projected CRS before this operation.\n",
      "\n",
      "  centroids = shp_series.centroid\n"
     ]
    },
    {
     "name": "stdout",
     "output_type": "stream",
     "text": [
      "Added coordinates to  noord_holland_gis_osm_natural_free_1 , now shape is  (83528, 6)\n",
      "Starting finding coordinates for  noord_holland_gis_osm_places_a_free_1  of shape  (94, 5)\n"
     ]
    },
    {
     "name": "stderr",
     "output_type": "stream",
     "text": [
      "C:\\Users\\gabri\\AppData\\Local\\Temp\\ipykernel_99052\\1603868372.py:13: UserWarning: Geometry is in a geographic CRS. Results from 'centroid' are likely incorrect. Use 'GeoSeries.to_crs()' to re-project geometries to a projected CRS before this operation.\n",
      "\n",
      "  centroids = shp_series.centroid\n"
     ]
    },
    {
     "name": "stdout",
     "output_type": "stream",
     "text": [
      "Added coordinates to  noord_holland_gis_osm_places_a_free_1 , now shape is  (94, 7)\n",
      "Starting finding coordinates for  noord_holland_gis_osm_places_free_1  of shape  (668, 5)\n"
     ]
    },
    {
     "name": "stderr",
     "output_type": "stream",
     "text": [
      "C:\\Users\\gabri\\AppData\\Local\\Temp\\ipykernel_99052\\1603868372.py:13: UserWarning: Geometry is in a geographic CRS. Results from 'centroid' are likely incorrect. Use 'GeoSeries.to_crs()' to re-project geometries to a projected CRS before this operation.\n",
      "\n",
      "  centroids = shp_series.centroid\n"
     ]
    },
    {
     "name": "stdout",
     "output_type": "stream",
     "text": [
      "Added coordinates to  noord_holland_gis_osm_places_free_1 , now shape is  (668, 7)\n",
      "Starting finding coordinates for  noord_holland_gis_osm_pofw_a_free_1  of shape  (477, 4)\n"
     ]
    },
    {
     "name": "stderr",
     "output_type": "stream",
     "text": [
      "C:\\Users\\gabri\\AppData\\Local\\Temp\\ipykernel_99052\\1603868372.py:13: UserWarning: Geometry is in a geographic CRS. Results from 'centroid' are likely incorrect. Use 'GeoSeries.to_crs()' to re-project geometries to a projected CRS before this operation.\n",
      "\n",
      "  centroids = shp_series.centroid\n"
     ]
    },
    {
     "name": "stdout",
     "output_type": "stream",
     "text": [
      "Added coordinates to  noord_holland_gis_osm_pofw_a_free_1 , now shape is  (477, 6)\n",
      "Starting finding coordinates for  noord_holland_gis_osm_pofw_free_1  of shape  (238, 4)\n",
      "Added coordinates to  noord_holland_gis_osm_pofw_free_1 , now shape is  (238, 6)\n",
      "Starting finding coordinates for  noord_holland_gis_osm_pois_a_free_1  of shape  (14773, 4)\n"
     ]
    },
    {
     "name": "stderr",
     "output_type": "stream",
     "text": [
      "C:\\Users\\gabri\\AppData\\Local\\Temp\\ipykernel_99052\\1603868372.py:13: UserWarning: Geometry is in a geographic CRS. Results from 'centroid' are likely incorrect. Use 'GeoSeries.to_crs()' to re-project geometries to a projected CRS before this operation.\n",
      "\n",
      "  centroids = shp_series.centroid\n",
      "C:\\Users\\gabri\\AppData\\Local\\Temp\\ipykernel_99052\\1603868372.py:13: UserWarning: Geometry is in a geographic CRS. Results from 'centroid' are likely incorrect. Use 'GeoSeries.to_crs()' to re-project geometries to a projected CRS before this operation.\n",
      "\n",
      "  centroids = shp_series.centroid\n"
     ]
    },
    {
     "name": "stdout",
     "output_type": "stream",
     "text": [
      "Added coordinates to  noord_holland_gis_osm_pois_a_free_1 , now shape is  (14773, 6)\n",
      "Starting finding coordinates for  noord_holland_gis_osm_pois_free_1  of shape  (48249, 4)\n"
     ]
    },
    {
     "name": "stderr",
     "output_type": "stream",
     "text": [
      "C:\\Users\\gabri\\AppData\\Local\\Temp\\ipykernel_99052\\1603868372.py:13: UserWarning: Geometry is in a geographic CRS. Results from 'centroid' are likely incorrect. Use 'GeoSeries.to_crs()' to re-project geometries to a projected CRS before this operation.\n",
      "\n",
      "  centroids = shp_series.centroid\n"
     ]
    },
    {
     "name": "stdout",
     "output_type": "stream",
     "text": [
      "Added coordinates to  noord_holland_gis_osm_pois_free_1 , now shape is  (48249, 6)\n",
      "Starting finding coordinates for  noord_holland_gis_osm_railways_free_1  of shape  (7683, 7)\n"
     ]
    },
    {
     "name": "stderr",
     "output_type": "stream",
     "text": [
      "C:\\Users\\gabri\\AppData\\Local\\Temp\\ipykernel_99052\\1603868372.py:13: UserWarning: Geometry is in a geographic CRS. Results from 'centroid' are likely incorrect. Use 'GeoSeries.to_crs()' to re-project geometries to a projected CRS before this operation.\n",
      "\n",
      "  centroids = shp_series.centroid\n"
     ]
    },
    {
     "name": "stdout",
     "output_type": "stream",
     "text": [
      "Added coordinates to  noord_holland_gis_osm_railways_free_1 , now shape is  (7683, 9)\n",
      "Starting finding coordinates for  noord_holland_gis_osm_roads_free_1  of shape  (326119, 10)\n"
     ]
    },
    {
     "name": "stderr",
     "output_type": "stream",
     "text": [
      "C:\\Users\\gabri\\AppData\\Local\\Temp\\ipykernel_99052\\1603868372.py:13: UserWarning: Geometry is in a geographic CRS. Results from 'centroid' are likely incorrect. Use 'GeoSeries.to_crs()' to re-project geometries to a projected CRS before this operation.\n",
      "\n",
      "  centroids = shp_series.centroid\n"
     ]
    },
    {
     "name": "stdout",
     "output_type": "stream",
     "text": [
      "Added coordinates to  noord_holland_gis_osm_roads_free_1 , now shape is  (326119, 12)\n",
      "Starting finding coordinates for  noord_holland_gis_osm_traffic_a_free_1  of shape  (15316, 4)\n"
     ]
    },
    {
     "name": "stderr",
     "output_type": "stream",
     "text": [
      "C:\\Users\\gabri\\AppData\\Local\\Temp\\ipykernel_99052\\1603868372.py:13: UserWarning: Geometry is in a geographic CRS. Results from 'centroid' are likely incorrect. Use 'GeoSeries.to_crs()' to re-project geometries to a projected CRS before this operation.\n",
      "\n",
      "  centroids = shp_series.centroid\n"
     ]
    },
    {
     "name": "stdout",
     "output_type": "stream",
     "text": [
      "Added coordinates to  noord_holland_gis_osm_traffic_a_free_1 , now shape is  (15316, 6)\n",
      "Starting finding coordinates for  noord_holland_gis_osm_traffic_free_1  of shape  (23327, 4)\n"
     ]
    },
    {
     "name": "stderr",
     "output_type": "stream",
     "text": [
      "C:\\Users\\gabri\\AppData\\Local\\Temp\\ipykernel_99052\\1603868372.py:13: UserWarning: Geometry is in a geographic CRS. Results from 'centroid' are likely incorrect. Use 'GeoSeries.to_crs()' to re-project geometries to a projected CRS before this operation.\n",
      "\n",
      "  centroids = shp_series.centroid\n"
     ]
    },
    {
     "name": "stdout",
     "output_type": "stream",
     "text": [
      "Added coordinates to  noord_holland_gis_osm_traffic_free_1 , now shape is  (23327, 6)\n",
      "Starting finding coordinates for  noord_holland_gis_osm_transport_a_free_1  of shape  (122, 4)\n"
     ]
    },
    {
     "name": "stderr",
     "output_type": "stream",
     "text": [
      "C:\\Users\\gabri\\AppData\\Local\\Temp\\ipykernel_99052\\1603868372.py:13: UserWarning: Geometry is in a geographic CRS. Results from 'centroid' are likely incorrect. Use 'GeoSeries.to_crs()' to re-project geometries to a projected CRS before this operation.\n",
      "\n",
      "  centroids = shp_series.centroid\n"
     ]
    },
    {
     "name": "stdout",
     "output_type": "stream",
     "text": [
      "Added coordinates to  noord_holland_gis_osm_transport_a_free_1 , now shape is  (122, 6)\n",
      "Starting finding coordinates for  noord_holland_gis_osm_transport_free_1  of shape  (6701, 4)\n"
     ]
    },
    {
     "name": "stderr",
     "output_type": "stream",
     "text": [
      "C:\\Users\\gabri\\AppData\\Local\\Temp\\ipykernel_99052\\1603868372.py:13: UserWarning: Geometry is in a geographic CRS. Results from 'centroid' are likely incorrect. Use 'GeoSeries.to_crs()' to re-project geometries to a projected CRS before this operation.\n",
      "\n",
      "  centroids = shp_series.centroid\n"
     ]
    },
    {
     "name": "stdout",
     "output_type": "stream",
     "text": [
      "Added coordinates to  noord_holland_gis_osm_transport_free_1 , now shape is  (6701, 6)\n",
      "Starting finding coordinates for  noord_holland_gis_osm_waterways_free_1  of shape  (12197, 5)\n"
     ]
    },
    {
     "name": "stderr",
     "output_type": "stream",
     "text": [
      "C:\\Users\\gabri\\AppData\\Local\\Temp\\ipykernel_99052\\1603868372.py:13: UserWarning: Geometry is in a geographic CRS. Results from 'centroid' are likely incorrect. Use 'GeoSeries.to_crs()' to re-project geometries to a projected CRS before this operation.\n",
      "\n",
      "  centroids = shp_series.centroid\n"
     ]
    },
    {
     "name": "stdout",
     "output_type": "stream",
     "text": [
      "Added coordinates to  noord_holland_gis_osm_waterways_free_1 , now shape is  (12197, 7)\n",
      "Starting finding coordinates for  noord_holland_gis_osm_water_a_free_1  of shape  (53760, 4)\n"
     ]
    },
    {
     "name": "stderr",
     "output_type": "stream",
     "text": [
      "C:\\Users\\gabri\\AppData\\Local\\Temp\\ipykernel_99052\\1603868372.py:13: UserWarning: Geometry is in a geographic CRS. Results from 'centroid' are likely incorrect. Use 'GeoSeries.to_crs()' to re-project geometries to a projected CRS before this operation.\n",
      "\n",
      "  centroids = shp_series.centroid\n"
     ]
    },
    {
     "name": "stdout",
     "output_type": "stream",
     "text": [
      "Added coordinates to  noord_holland_gis_osm_water_a_free_1 , now shape is  (53760, 6)\n",
      "Starting finding coordinates for  utrecht_gis_osm_buildings_a_free_1  of shape  (782741, 5)\n"
     ]
    },
    {
     "name": "stderr",
     "output_type": "stream",
     "text": [
      "C:\\Users\\gabri\\AppData\\Local\\Temp\\ipykernel_99052\\1603868372.py:13: UserWarning: Geometry is in a geographic CRS. Results from 'centroid' are likely incorrect. Use 'GeoSeries.to_crs()' to re-project geometries to a projected CRS before this operation.\n",
      "\n",
      "  centroids = shp_series.centroid\n"
     ]
    },
    {
     "name": "stdout",
     "output_type": "stream",
     "text": [
      "Added coordinates to  utrecht_gis_osm_buildings_a_free_1 , now shape is  (782741, 7)\n",
      "Starting finding coordinates for  utrecht_gis_osm_landuse_a_free_1  of shape  (114341, 4)\n"
     ]
    },
    {
     "name": "stderr",
     "output_type": "stream",
     "text": [
      "C:\\Users\\gabri\\AppData\\Local\\Temp\\ipykernel_99052\\1603868372.py:13: UserWarning: Geometry is in a geographic CRS. Results from 'centroid' are likely incorrect. Use 'GeoSeries.to_crs()' to re-project geometries to a projected CRS before this operation.\n",
      "\n",
      "  centroids = shp_series.centroid\n"
     ]
    },
    {
     "name": "stdout",
     "output_type": "stream",
     "text": [
      "Added coordinates to  utrecht_gis_osm_landuse_a_free_1 , now shape is  (114341, 6)\n",
      "Starting finding coordinates for  utrecht_gis_osm_natural_a_free_1  of shape  (111, 4)\n"
     ]
    },
    {
     "name": "stderr",
     "output_type": "stream",
     "text": [
      "C:\\Users\\gabri\\AppData\\Local\\Temp\\ipykernel_99052\\1603868372.py:13: UserWarning: Geometry is in a geographic CRS. Results from 'centroid' are likely incorrect. Use 'GeoSeries.to_crs()' to re-project geometries to a projected CRS before this operation.\n",
      "\n",
      "  centroids = shp_series.centroid\n"
     ]
    },
    {
     "name": "stdout",
     "output_type": "stream",
     "text": [
      "Added coordinates to  utrecht_gis_osm_natural_a_free_1 , now shape is  (111, 6)\n",
      "Starting finding coordinates for  utrecht_gis_osm_natural_free_1  of shape  (16927, 4)\n"
     ]
    },
    {
     "name": "stderr",
     "output_type": "stream",
     "text": [
      "C:\\Users\\gabri\\AppData\\Local\\Temp\\ipykernel_99052\\1603868372.py:13: UserWarning: Geometry is in a geographic CRS. Results from 'centroid' are likely incorrect. Use 'GeoSeries.to_crs()' to re-project geometries to a projected CRS before this operation.\n",
      "\n",
      "  centroids = shp_series.centroid\n"
     ]
    },
    {
     "name": "stdout",
     "output_type": "stream",
     "text": [
      "Added coordinates to  utrecht_gis_osm_natural_free_1 , now shape is  (16927, 6)\n",
      "Starting finding coordinates for  utrecht_gis_osm_places_a_free_1  of shape  (31, 5)\n"
     ]
    },
    {
     "name": "stderr",
     "output_type": "stream",
     "text": [
      "C:\\Users\\gabri\\AppData\\Local\\Temp\\ipykernel_99052\\1603868372.py:13: UserWarning: Geometry is in a geographic CRS. Results from 'centroid' are likely incorrect. Use 'GeoSeries.to_crs()' to re-project geometries to a projected CRS before this operation.\n",
      "\n",
      "  centroids = shp_series.centroid\n"
     ]
    },
    {
     "name": "stdout",
     "output_type": "stream",
     "text": [
      "Added coordinates to  utrecht_gis_osm_places_a_free_1 , now shape is  (31, 7)\n",
      "Starting finding coordinates for  utrecht_gis_osm_places_free_1  of shape  (244, 5)\n",
      "Added coordinates to  utrecht_gis_osm_places_free_1 , now shape is  (244, 7)\n",
      "Starting finding coordinates for  utrecht_gis_osm_pofw_a_free_1  of shape  (351, 4)\n"
     ]
    },
    {
     "name": "stderr",
     "output_type": "stream",
     "text": [
      "C:\\Users\\gabri\\AppData\\Local\\Temp\\ipykernel_99052\\1603868372.py:13: UserWarning: Geometry is in a geographic CRS. Results from 'centroid' are likely incorrect. Use 'GeoSeries.to_crs()' to re-project geometries to a projected CRS before this operation.\n",
      "\n",
      "  centroids = shp_series.centroid\n",
      "C:\\Users\\gabri\\AppData\\Local\\Temp\\ipykernel_99052\\1603868372.py:13: UserWarning: Geometry is in a geographic CRS. Results from 'centroid' are likely incorrect. Use 'GeoSeries.to_crs()' to re-project geometries to a projected CRS before this operation.\n",
      "\n",
      "  centroids = shp_series.centroid\n",
      "C:\\Users\\gabri\\AppData\\Local\\Temp\\ipykernel_99052\\1603868372.py:13: UserWarning: Geometry is in a geographic CRS. Results from 'centroid' are likely incorrect. Use 'GeoSeries.to_crs()' to re-project geometries to a projected CRS before this operation.\n",
      "\n",
      "  centroids = shp_series.centroid\n"
     ]
    },
    {
     "name": "stdout",
     "output_type": "stream",
     "text": [
      "Added coordinates to  utrecht_gis_osm_pofw_a_free_1 , now shape is  (351, 6)\n",
      "Starting finding coordinates for  utrecht_gis_osm_pofw_free_1  of shape  (88, 4)\n",
      "Added coordinates to  utrecht_gis_osm_pofw_free_1 , now shape is  (88, 6)\n",
      "Starting finding coordinates for  utrecht_gis_osm_pois_a_free_1  of shape  (6599, 4)\n"
     ]
    },
    {
     "name": "stderr",
     "output_type": "stream",
     "text": [
      "C:\\Users\\gabri\\AppData\\Local\\Temp\\ipykernel_99052\\1603868372.py:13: UserWarning: Geometry is in a geographic CRS. Results from 'centroid' are likely incorrect. Use 'GeoSeries.to_crs()' to re-project geometries to a projected CRS before this operation.\n",
      "\n",
      "  centroids = shp_series.centroid\n"
     ]
    },
    {
     "name": "stdout",
     "output_type": "stream",
     "text": [
      "Added coordinates to  utrecht_gis_osm_pois_a_free_1 , now shape is  (6599, 6)\n",
      "Starting finding coordinates for  utrecht_gis_osm_pois_free_1  of shape  (25886, 4)\n"
     ]
    },
    {
     "name": "stderr",
     "output_type": "stream",
     "text": [
      "C:\\Users\\gabri\\AppData\\Local\\Temp\\ipykernel_99052\\1603868372.py:13: UserWarning: Geometry is in a geographic CRS. Results from 'centroid' are likely incorrect. Use 'GeoSeries.to_crs()' to re-project geometries to a projected CRS before this operation.\n",
      "\n",
      "  centroids = shp_series.centroid\n"
     ]
    },
    {
     "name": "stdout",
     "output_type": "stream",
     "text": [
      "Added coordinates to  utrecht_gis_osm_pois_free_1 , now shape is  (25886, 6)\n",
      "Starting finding coordinates for  utrecht_gis_osm_railways_free_1  of shape  (2893, 7)\n"
     ]
    },
    {
     "name": "stderr",
     "output_type": "stream",
     "text": [
      "C:\\Users\\gabri\\AppData\\Local\\Temp\\ipykernel_99052\\1603868372.py:13: UserWarning: Geometry is in a geographic CRS. Results from 'centroid' are likely incorrect. Use 'GeoSeries.to_crs()' to re-project geometries to a projected CRS before this operation.\n",
      "\n",
      "  centroids = shp_series.centroid\n"
     ]
    },
    {
     "name": "stdout",
     "output_type": "stream",
     "text": [
      "Added coordinates to  utrecht_gis_osm_railways_free_1 , now shape is  (2893, 9)\n",
      "Starting finding coordinates for  utrecht_gis_osm_roads_free_1  of shape  (164047, 10)\n"
     ]
    },
    {
     "name": "stderr",
     "output_type": "stream",
     "text": [
      "C:\\Users\\gabri\\AppData\\Local\\Temp\\ipykernel_99052\\1603868372.py:13: UserWarning: Geometry is in a geographic CRS. Results from 'centroid' are likely incorrect. Use 'GeoSeries.to_crs()' to re-project geometries to a projected CRS before this operation.\n",
      "\n",
      "  centroids = shp_series.centroid\n"
     ]
    },
    {
     "name": "stdout",
     "output_type": "stream",
     "text": [
      "Added coordinates to  utrecht_gis_osm_roads_free_1 , now shape is  (164047, 12)\n",
      "Starting finding coordinates for  utrecht_gis_osm_traffic_a_free_1  of shape  (9893, 4)\n"
     ]
    },
    {
     "name": "stderr",
     "output_type": "stream",
     "text": [
      "C:\\Users\\gabri\\AppData\\Local\\Temp\\ipykernel_99052\\1603868372.py:13: UserWarning: Geometry is in a geographic CRS. Results from 'centroid' are likely incorrect. Use 'GeoSeries.to_crs()' to re-project geometries to a projected CRS before this operation.\n",
      "\n",
      "  centroids = shp_series.centroid\n"
     ]
    },
    {
     "name": "stdout",
     "output_type": "stream",
     "text": [
      "Added coordinates to  utrecht_gis_osm_traffic_a_free_1 , now shape is  (9893, 6)\n",
      "Starting finding coordinates for  utrecht_gis_osm_traffic_free_1  of shape  (11940, 4)\n"
     ]
    },
    {
     "name": "stderr",
     "output_type": "stream",
     "text": [
      "C:\\Users\\gabri\\AppData\\Local\\Temp\\ipykernel_99052\\1603868372.py:13: UserWarning: Geometry is in a geographic CRS. Results from 'centroid' are likely incorrect. Use 'GeoSeries.to_crs()' to re-project geometries to a projected CRS before this operation.\n",
      "\n",
      "  centroids = shp_series.centroid\n"
     ]
    },
    {
     "name": "stdout",
     "output_type": "stream",
     "text": [
      "Added coordinates to  utrecht_gis_osm_traffic_free_1 , now shape is  (11940, 6)\n",
      "Starting finding coordinates for  utrecht_gis_osm_transport_a_free_1  of shape  (9, 4)\n",
      "Added coordinates to  utrecht_gis_osm_transport_a_free_1 , now shape is  (9, 6)\n",
      "Starting finding coordinates for  utrecht_gis_osm_transport_free_1  of shape  (3335, 4)\n"
     ]
    },
    {
     "name": "stderr",
     "output_type": "stream",
     "text": [
      "C:\\Users\\gabri\\AppData\\Local\\Temp\\ipykernel_99052\\1603868372.py:13: UserWarning: Geometry is in a geographic CRS. Results from 'centroid' are likely incorrect. Use 'GeoSeries.to_crs()' to re-project geometries to a projected CRS before this operation.\n",
      "\n",
      "  centroids = shp_series.centroid\n",
      "C:\\Users\\gabri\\AppData\\Local\\Temp\\ipykernel_99052\\1603868372.py:13: UserWarning: Geometry is in a geographic CRS. Results from 'centroid' are likely incorrect. Use 'GeoSeries.to_crs()' to re-project geometries to a projected CRS before this operation.\n",
      "\n",
      "  centroids = shp_series.centroid\n"
     ]
    },
    {
     "name": "stdout",
     "output_type": "stream",
     "text": [
      "Added coordinates to  utrecht_gis_osm_transport_free_1 , now shape is  (3335, 6)\n",
      "Starting finding coordinates for  utrecht_gis_osm_waterways_free_1  of shape  (6953, 5)\n"
     ]
    },
    {
     "name": "stderr",
     "output_type": "stream",
     "text": [
      "C:\\Users\\gabri\\AppData\\Local\\Temp\\ipykernel_99052\\1603868372.py:13: UserWarning: Geometry is in a geographic CRS. Results from 'centroid' are likely incorrect. Use 'GeoSeries.to_crs()' to re-project geometries to a projected CRS before this operation.\n",
      "\n",
      "  centroids = shp_series.centroid\n"
     ]
    },
    {
     "name": "stdout",
     "output_type": "stream",
     "text": [
      "Added coordinates to  utrecht_gis_osm_waterways_free_1 , now shape is  (6953, 7)\n",
      "Starting finding coordinates for  utrecht_gis_osm_water_a_free_1  of shape  (24298, 4)\n"
     ]
    },
    {
     "name": "stderr",
     "output_type": "stream",
     "text": [
      "C:\\Users\\gabri\\AppData\\Local\\Temp\\ipykernel_99052\\1603868372.py:13: UserWarning: Geometry is in a geographic CRS. Results from 'centroid' are likely incorrect. Use 'GeoSeries.to_crs()' to re-project geometries to a projected CRS before this operation.\n",
      "\n",
      "  centroids = shp_series.centroid\n"
     ]
    },
    {
     "name": "stdout",
     "output_type": "stream",
     "text": [
      "Added coordinates to  utrecht_gis_osm_water_a_free_1 , now shape is  (24298, 6)\n",
      "Starting finding coordinates for  zuid_gis_osm_buildings_a_free_1  of shape  (1827859, 5)\n"
     ]
    },
    {
     "name": "stderr",
     "output_type": "stream",
     "text": [
      "C:\\Users\\gabri\\AppData\\Local\\Temp\\ipykernel_99052\\1603868372.py:13: UserWarning: Geometry is in a geographic CRS. Results from 'centroid' are likely incorrect. Use 'GeoSeries.to_crs()' to re-project geometries to a projected CRS before this operation.\n",
      "\n",
      "  centroids = shp_series.centroid\n"
     ]
    },
    {
     "name": "stdout",
     "output_type": "stream",
     "text": [
      "Added coordinates to  zuid_gis_osm_buildings_a_free_1 , now shape is  (1827859, 7)\n",
      "Starting finding coordinates for  zuid_gis_osm_landuse_a_free_1  of shape  (167988, 4)\n"
     ]
    },
    {
     "name": "stderr",
     "output_type": "stream",
     "text": [
      "C:\\Users\\gabri\\AppData\\Local\\Temp\\ipykernel_99052\\1603868372.py:13: UserWarning: Geometry is in a geographic CRS. Results from 'centroid' are likely incorrect. Use 'GeoSeries.to_crs()' to re-project geometries to a projected CRS before this operation.\n",
      "\n",
      "  centroids = shp_series.centroid\n"
     ]
    },
    {
     "name": "stdout",
     "output_type": "stream",
     "text": [
      "Added coordinates to  zuid_gis_osm_landuse_a_free_1 , now shape is  (167988, 6)\n",
      "Starting finding coordinates for  zuid_gis_osm_natural_a_free_1  of shape  (288, 4)\n"
     ]
    },
    {
     "name": "stderr",
     "output_type": "stream",
     "text": [
      "C:\\Users\\gabri\\AppData\\Local\\Temp\\ipykernel_99052\\1603868372.py:13: UserWarning: Geometry is in a geographic CRS. Results from 'centroid' are likely incorrect. Use 'GeoSeries.to_crs()' to re-project geometries to a projected CRS before this operation.\n",
      "\n",
      "  centroids = shp_series.centroid\n"
     ]
    },
    {
     "name": "stdout",
     "output_type": "stream",
     "text": [
      "Added coordinates to  zuid_gis_osm_natural_a_free_1 , now shape is  (288, 6)\n",
      "Starting finding coordinates for  zuid_gis_osm_natural_free_1  of shape  (66222, 4)\n"
     ]
    },
    {
     "name": "stderr",
     "output_type": "stream",
     "text": [
      "C:\\Users\\gabri\\AppData\\Local\\Temp\\ipykernel_99052\\1603868372.py:13: UserWarning: Geometry is in a geographic CRS. Results from 'centroid' are likely incorrect. Use 'GeoSeries.to_crs()' to re-project geometries to a projected CRS before this operation.\n",
      "\n",
      "  centroids = shp_series.centroid\n"
     ]
    },
    {
     "name": "stdout",
     "output_type": "stream",
     "text": [
      "Added coordinates to  zuid_gis_osm_natural_free_1 , now shape is  (66222, 6)\n",
      "Starting finding coordinates for  zuid_gis_osm_places_a_free_1  of shape  (121, 5)\n"
     ]
    },
    {
     "name": "stderr",
     "output_type": "stream",
     "text": [
      "C:\\Users\\gabri\\AppData\\Local\\Temp\\ipykernel_99052\\1603868372.py:13: UserWarning: Geometry is in a geographic CRS. Results from 'centroid' are likely incorrect. Use 'GeoSeries.to_crs()' to re-project geometries to a projected CRS before this operation.\n",
      "\n",
      "  centroids = shp_series.centroid\n"
     ]
    },
    {
     "name": "stdout",
     "output_type": "stream",
     "text": [
      "Added coordinates to  zuid_gis_osm_places_a_free_1 , now shape is  (121, 7)\n",
      "Starting finding coordinates for  zuid_gis_osm_places_free_1  of shape  (599, 5)\n",
      "Added coordinates to  zuid_gis_osm_places_free_1 , now shape is  (599, 7)\n",
      "Starting finding coordinates for  zuid_gis_osm_pofw_a_free_1  of shape  (919, 4)\n"
     ]
    },
    {
     "name": "stderr",
     "output_type": "stream",
     "text": [
      "C:\\Users\\gabri\\AppData\\Local\\Temp\\ipykernel_99052\\1603868372.py:13: UserWarning: Geometry is in a geographic CRS. Results from 'centroid' are likely incorrect. Use 'GeoSeries.to_crs()' to re-project geometries to a projected CRS before this operation.\n",
      "\n",
      "  centroids = shp_series.centroid\n",
      "C:\\Users\\gabri\\AppData\\Local\\Temp\\ipykernel_99052\\1603868372.py:13: UserWarning: Geometry is in a geographic CRS. Results from 'centroid' are likely incorrect. Use 'GeoSeries.to_crs()' to re-project geometries to a projected CRS before this operation.\n",
      "\n",
      "  centroids = shp_series.centroid\n"
     ]
    },
    {
     "name": "stdout",
     "output_type": "stream",
     "text": [
      "Added coordinates to  zuid_gis_osm_pofw_a_free_1 , now shape is  (919, 6)\n",
      "Starting finding coordinates for  zuid_gis_osm_pofw_free_1  of shape  (254, 4)\n",
      "Added coordinates to  zuid_gis_osm_pofw_free_1 , now shape is  (254, 6)\n",
      "Starting finding coordinates for  zuid_gis_osm_pois_a_free_1  of shape  (15114, 4)\n"
     ]
    },
    {
     "name": "stderr",
     "output_type": "stream",
     "text": [
      "C:\\Users\\gabri\\AppData\\Local\\Temp\\ipykernel_99052\\1603868372.py:13: UserWarning: Geometry is in a geographic CRS. Results from 'centroid' are likely incorrect. Use 'GeoSeries.to_crs()' to re-project geometries to a projected CRS before this operation.\n",
      "\n",
      "  centroids = shp_series.centroid\n",
      "C:\\Users\\gabri\\AppData\\Local\\Temp\\ipykernel_99052\\1603868372.py:13: UserWarning: Geometry is in a geographic CRS. Results from 'centroid' are likely incorrect. Use 'GeoSeries.to_crs()' to re-project geometries to a projected CRS before this operation.\n",
      "\n",
      "  centroids = shp_series.centroid\n"
     ]
    },
    {
     "name": "stdout",
     "output_type": "stream",
     "text": [
      "Added coordinates to  zuid_gis_osm_pois_a_free_1 , now shape is  (15114, 6)\n",
      "Starting finding coordinates for  zuid_gis_osm_pois_free_1  of shape  (52591, 4)\n"
     ]
    },
    {
     "name": "stderr",
     "output_type": "stream",
     "text": [
      "C:\\Users\\gabri\\AppData\\Local\\Temp\\ipykernel_99052\\1603868372.py:13: UserWarning: Geometry is in a geographic CRS. Results from 'centroid' are likely incorrect. Use 'GeoSeries.to_crs()' to re-project geometries to a projected CRS before this operation.\n",
      "\n",
      "  centroids = shp_series.centroid\n"
     ]
    },
    {
     "name": "stdout",
     "output_type": "stream",
     "text": [
      "Added coordinates to  zuid_gis_osm_pois_free_1 , now shape is  (52591, 6)\n",
      "Starting finding coordinates for  zuid_gis_osm_railways_free_1  of shape  (9224, 7)\n"
     ]
    },
    {
     "name": "stderr",
     "output_type": "stream",
     "text": [
      "C:\\Users\\gabri\\AppData\\Local\\Temp\\ipykernel_99052\\1603868372.py:13: UserWarning: Geometry is in a geographic CRS. Results from 'centroid' are likely incorrect. Use 'GeoSeries.to_crs()' to re-project geometries to a projected CRS before this operation.\n",
      "\n",
      "  centroids = shp_series.centroid\n"
     ]
    },
    {
     "name": "stdout",
     "output_type": "stream",
     "text": [
      "Added coordinates to  zuid_gis_osm_railways_free_1 , now shape is  (9224, 9)\n",
      "Starting finding coordinates for  zuid_gis_osm_roads_free_1  of shape  (393809, 10)\n"
     ]
    },
    {
     "name": "stderr",
     "output_type": "stream",
     "text": [
      "C:\\Users\\gabri\\AppData\\Local\\Temp\\ipykernel_99052\\1603868372.py:13: UserWarning: Geometry is in a geographic CRS. Results from 'centroid' are likely incorrect. Use 'GeoSeries.to_crs()' to re-project geometries to a projected CRS before this operation.\n",
      "\n",
      "  centroids = shp_series.centroid\n"
     ]
    },
    {
     "name": "stdout",
     "output_type": "stream",
     "text": [
      "Added coordinates to  zuid_gis_osm_roads_free_1 , now shape is  (393809, 12)\n",
      "Starting finding coordinates for  zuid_gis_osm_traffic_a_free_1  of shape  (17145, 4)\n"
     ]
    },
    {
     "name": "stderr",
     "output_type": "stream",
     "text": [
      "C:\\Users\\gabri\\AppData\\Local\\Temp\\ipykernel_99052\\1603868372.py:13: UserWarning: Geometry is in a geographic CRS. Results from 'centroid' are likely incorrect. Use 'GeoSeries.to_crs()' to re-project geometries to a projected CRS before this operation.\n",
      "\n",
      "  centroids = shp_series.centroid\n"
     ]
    },
    {
     "name": "stdout",
     "output_type": "stream",
     "text": [
      "Added coordinates to  zuid_gis_osm_traffic_a_free_1 , now shape is  (17145, 6)\n",
      "Starting finding coordinates for  zuid_gis_osm_traffic_free_1  of shape  (28728, 4)\n"
     ]
    },
    {
     "name": "stderr",
     "output_type": "stream",
     "text": [
      "C:\\Users\\gabri\\AppData\\Local\\Temp\\ipykernel_99052\\1603868372.py:13: UserWarning: Geometry is in a geographic CRS. Results from 'centroid' are likely incorrect. Use 'GeoSeries.to_crs()' to re-project geometries to a projected CRS before this operation.\n",
      "\n",
      "  centroids = shp_series.centroid\n"
     ]
    },
    {
     "name": "stdout",
     "output_type": "stream",
     "text": [
      "Added coordinates to  zuid_gis_osm_traffic_free_1 , now shape is  (28728, 6)\n",
      "Starting finding coordinates for  zuid_gis_osm_transport_a_free_1  of shape  (51, 4)\n"
     ]
    },
    {
     "name": "stderr",
     "output_type": "stream",
     "text": [
      "C:\\Users\\gabri\\AppData\\Local\\Temp\\ipykernel_99052\\1603868372.py:13: UserWarning: Geometry is in a geographic CRS. Results from 'centroid' are likely incorrect. Use 'GeoSeries.to_crs()' to re-project geometries to a projected CRS before this operation.\n",
      "\n",
      "  centroids = shp_series.centroid\n"
     ]
    },
    {
     "name": "stdout",
     "output_type": "stream",
     "text": [
      "Added coordinates to  zuid_gis_osm_transport_a_free_1 , now shape is  (51, 6)\n",
      "Starting finding coordinates for  zuid_gis_osm_transport_free_1  of shape  (7543, 4)\n"
     ]
    },
    {
     "name": "stderr",
     "output_type": "stream",
     "text": [
      "C:\\Users\\gabri\\AppData\\Local\\Temp\\ipykernel_99052\\1603868372.py:13: UserWarning: Geometry is in a geographic CRS. Results from 'centroid' are likely incorrect. Use 'GeoSeries.to_crs()' to re-project geometries to a projected CRS before this operation.\n",
      "\n",
      "  centroids = shp_series.centroid\n"
     ]
    },
    {
     "name": "stdout",
     "output_type": "stream",
     "text": [
      "Added coordinates to  zuid_gis_osm_transport_free_1 , now shape is  (7543, 6)\n",
      "Starting finding coordinates for  zuid_gis_osm_waterways_free_1  of shape  (13237, 5)\n"
     ]
    },
    {
     "name": "stderr",
     "output_type": "stream",
     "text": [
      "C:\\Users\\gabri\\AppData\\Local\\Temp\\ipykernel_99052\\1603868372.py:13: UserWarning: Geometry is in a geographic CRS. Results from 'centroid' are likely incorrect. Use 'GeoSeries.to_crs()' to re-project geometries to a projected CRS before this operation.\n",
      "\n",
      "  centroids = shp_series.centroid\n"
     ]
    },
    {
     "name": "stdout",
     "output_type": "stream",
     "text": [
      "Added coordinates to  zuid_gis_osm_waterways_free_1 , now shape is  (13237, 7)\n",
      "Starting finding coordinates for  zuid_gis_osm_water_a_free_1  of shape  (52283, 4)\n"
     ]
    },
    {
     "name": "stderr",
     "output_type": "stream",
     "text": [
      "C:\\Users\\gabri\\AppData\\Local\\Temp\\ipykernel_99052\\1603868372.py:13: UserWarning: Geometry is in a geographic CRS. Results from 'centroid' are likely incorrect. Use 'GeoSeries.to_crs()' to re-project geometries to a projected CRS before this operation.\n",
      "\n",
      "  centroids = shp_series.centroid\n"
     ]
    },
    {
     "name": "stdout",
     "output_type": "stream",
     "text": [
      "Added coordinates to  zuid_gis_osm_water_a_free_1 , now shape is  (52283, 6)\n"
     ]
    }
   ],
   "source": [
    "# ADD THE COORDINATES TO THE DATAFRAMES USING CORRESPONDING SHP FILES\n",
    "\n",
    "for df_name, df in df_dict.items():\n",
    "\n",
    "    print('Starting finding coordinates for ', df_name[:-4], ' of shape ', df.shape)\n",
    "\n",
    "    shp_path = input_path + '/' + df_name[:-4] + '.shp'\n",
    "\n",
    "    shp_series = gpd.read_file(shp_path)\n",
    "\n",
    "    # project_shp_series = shp_series.to_crs(4326)\n",
    "\n",
    "    centroids = shp_series.centroid\n",
    "\n",
    "    df['lon'] = centroids.geometry.x\n",
    "    df['lat'] = centroids.geometry.y\n",
    "\n",
    "    print('Added coordinates to ', df_name[:-4], ', now shape is ', df.shape )"
   ],
   "metadata": {
    "collapsed": false,
    "pycharm": {
     "name": "#%%\n"
    }
   }
  },
  {
   "cell_type": "code",
   "execution_count": 10,
   "outputs": [],
   "source": [
    "# SAVE THE RESULTS IN SEPARATE CSV FILES\n",
    "\n",
    "os.makedirs('coordinates/', exist_ok=True)\n",
    "\n",
    "for df_name, df in df_dict.items():\n",
    "\n",
    "    file_name = 'coordinates_' + df_name[:-4] + '.csv'\n",
    "    df.to_csv('coordinates/' + file_name)"
   ],
   "metadata": {
    "collapsed": false,
    "pycharm": {
     "name": "#%%\n"
    }
   }
  },
  {
   "cell_type": "code",
   "execution_count": 11,
   "outputs": [
    {
     "data": {
      "text/plain": "           osm_id  code   fclass          name       lon        lat\n0         4960697  8200    water           NaN  4.377201  51.996247\n1         6285450  8200    water           NaN  4.343477  51.679222\n2         6285629  8200    water           NaN  4.397671  51.703512\n3         6286007  8200    water  Benedenhaven  4.317315  51.753161\n4         6286046  8200    water    WSV De Put  4.293047  51.757570\n...           ...   ...      ...           ...       ...        ...\n52278  1115993965  8200    water           NaN  4.617114  52.081069\n52279  1116052777  8200    water           NaN  4.325396  51.993221\n52280  1116052778  8200    water           NaN  4.324132  51.991543\n52281  1116052779  8221  wetland           NaN  4.323762  51.990858\n52282  1116098514  8200    water           NaN  4.767129  52.137476\n\n[52283 rows x 6 columns]",
      "text/html": "<div>\n<style scoped>\n    .dataframe tbody tr th:only-of-type {\n        vertical-align: middle;\n    }\n\n    .dataframe tbody tr th {\n        vertical-align: top;\n    }\n\n    .dataframe thead th {\n        text-align: right;\n    }\n</style>\n<table border=\"1\" class=\"dataframe\">\n  <thead>\n    <tr style=\"text-align: right;\">\n      <th></th>\n      <th>osm_id</th>\n      <th>code</th>\n      <th>fclass</th>\n      <th>name</th>\n      <th>lon</th>\n      <th>lat</th>\n    </tr>\n  </thead>\n  <tbody>\n    <tr>\n      <th>0</th>\n      <td>4960697</td>\n      <td>8200</td>\n      <td>water</td>\n      <td>NaN</td>\n      <td>4.377201</td>\n      <td>51.996247</td>\n    </tr>\n    <tr>\n      <th>1</th>\n      <td>6285450</td>\n      <td>8200</td>\n      <td>water</td>\n      <td>NaN</td>\n      <td>4.343477</td>\n      <td>51.679222</td>\n    </tr>\n    <tr>\n      <th>2</th>\n      <td>6285629</td>\n      <td>8200</td>\n      <td>water</td>\n      <td>NaN</td>\n      <td>4.397671</td>\n      <td>51.703512</td>\n    </tr>\n    <tr>\n      <th>3</th>\n      <td>6286007</td>\n      <td>8200</td>\n      <td>water</td>\n      <td>Benedenhaven</td>\n      <td>4.317315</td>\n      <td>51.753161</td>\n    </tr>\n    <tr>\n      <th>4</th>\n      <td>6286046</td>\n      <td>8200</td>\n      <td>water</td>\n      <td>WSV De Put</td>\n      <td>4.293047</td>\n      <td>51.757570</td>\n    </tr>\n    <tr>\n      <th>...</th>\n      <td>...</td>\n      <td>...</td>\n      <td>...</td>\n      <td>...</td>\n      <td>...</td>\n      <td>...</td>\n    </tr>\n    <tr>\n      <th>52278</th>\n      <td>1115993965</td>\n      <td>8200</td>\n      <td>water</td>\n      <td>NaN</td>\n      <td>4.617114</td>\n      <td>52.081069</td>\n    </tr>\n    <tr>\n      <th>52279</th>\n      <td>1116052777</td>\n      <td>8200</td>\n      <td>water</td>\n      <td>NaN</td>\n      <td>4.325396</td>\n      <td>51.993221</td>\n    </tr>\n    <tr>\n      <th>52280</th>\n      <td>1116052778</td>\n      <td>8200</td>\n      <td>water</td>\n      <td>NaN</td>\n      <td>4.324132</td>\n      <td>51.991543</td>\n    </tr>\n    <tr>\n      <th>52281</th>\n      <td>1116052779</td>\n      <td>8221</td>\n      <td>wetland</td>\n      <td>NaN</td>\n      <td>4.323762</td>\n      <td>51.990858</td>\n    </tr>\n    <tr>\n      <th>52282</th>\n      <td>1116098514</td>\n      <td>8200</td>\n      <td>water</td>\n      <td>NaN</td>\n      <td>4.767129</td>\n      <td>52.137476</td>\n    </tr>\n  </tbody>\n</table>\n<p>52283 rows × 6 columns</p>\n</div>"
     },
     "execution_count": 11,
     "metadata": {},
     "output_type": "execute_result"
    }
   ],
   "source": [
    "df"
   ],
   "metadata": {
    "collapsed": false,
    "pycharm": {
     "name": "#%%\n"
    }
   }
  }
 ],
 "metadata": {
  "kernelspec": {
   "display_name": "geo_env",
   "language": "python",
   "name": "geo_env"
  },
  "language_info": {
   "codemirror_mode": {
    "name": "ipython",
    "version": 3
   },
   "file_extension": ".py",
   "mimetype": "text/x-python",
   "name": "python",
   "nbconvert_exporter": "python",
   "pygments_lexer": "ipython3",
   "version": "3.10.4"
  }
 },
 "nbformat": 4,
 "nbformat_minor": 5
}