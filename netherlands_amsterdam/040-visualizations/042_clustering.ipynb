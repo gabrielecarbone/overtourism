{
 "cells": [
  {
   "cell_type": "code",
   "execution_count": 8,
   "metadata": {
    "collapsed": true,
    "pycharm": {
     "name": "#%%\n"
    }
   },
   "outputs": [],
   "source": [
    "from sklearn.cluster import KMeans\n",
    "import numpy as np\n",
    "import pandas as pd"
   ]
  },
  {
   "cell_type": "code",
   "execution_count": 9,
   "outputs": [
    {
     "data": {
      "text/plain": "            nature  entertainment  transports       art   tourism  security  \\\nfield_1                                                                       \nR1C2     -0.606620       0.010512   -0.540009 -0.285658  0.881631 -0.116401   \nR1C3     -0.538415      -0.161107   -0.065515 -0.285658  0.518320 -0.116401   \nR1C4     -0.424742      -0.246917   -0.212772 -0.285658  0.155009 -0.116401   \nR1C5     -0.492946      -0.075298   -0.294581 -0.285658 -0.208302 -0.116401   \nR1C6     -0.265598       0.439560    1.210711  0.505538 -0.208302  0.867638   \n...            ...            ...         ...       ...       ...       ...   \nR200C93  -0.606620      -0.246917   -0.572733 -0.285658 -0.208302 -0.116401   \nR200C94  -0.606620      -0.246917   -0.540009 -0.285658 -0.208302 -0.116401   \nR200C95  -0.561150      -0.161107   -0.589095 -0.285658 -0.208302 -0.116401   \nR200C110 -0.606620      -0.246917   -0.621818 -0.285658 -0.208302 -0.116401   \nR200C152 -0.629354      -0.246917   -0.605456 -0.285658 -0.208302 -0.116401   \n\n          accessibility     sport  \\\nfield_1                             \nR1C2           1.107100 -0.013842   \nR1C3           0.822705 -0.013842   \nR1C4          -0.030481 -0.013842   \nR1C5          -0.314876 -0.013842   \nR1C6          -0.314876 -0.013842   \n...                 ...       ...   \nR200C93       -0.314876 -0.013842   \nR200C94       -0.314876 -0.013842   \nR200C95       -0.314876 -0.013842   \nR200C110      -0.314876 -0.013842   \nR200C152      -0.314876 -0.013842   \n\n                                                   geometry  predicted_tourism  \nfield_1                                                                         \nR1C2      POLYGON ((4.130889815608598 52.00500001293753,...           0.319507  \nR1C3      POLYGON ((4.137769758040735 52.00500001293753,...           0.575121  \nR1C4      POLYGON ((4.144649700472871 52.00500001293753,...           0.228147  \nR1C5      POLYGON ((4.1515296429050075 52.00500001293753...           0.299597  \nR1C6      POLYGON ((4.158409585337144 52.00500001293753,...           2.058907  \n...                                                     ...                ...  \nR200C93   POLYGON ((4.756964576933012 52.999974451463515...           0.060000  \nR200C94   POLYGON ((4.763844519365148 52.999974451463515...           0.080000  \nR200C95   POLYGON ((4.770724461797284 52.999974451463515...           0.020000  \nR200C110  POLYGON ((4.8739235982793305 52.99997445146351...           0.000000  \nR200C152  POLYGON ((5.16288118042906 52.999974451463515,...           0.000000  \n\n[20881 rows x 10 columns]",
      "text/html": "<div>\n<style scoped>\n    .dataframe tbody tr th:only-of-type {\n        vertical-align: middle;\n    }\n\n    .dataframe tbody tr th {\n        vertical-align: top;\n    }\n\n    .dataframe thead th {\n        text-align: right;\n    }\n</style>\n<table border=\"1\" class=\"dataframe\">\n  <thead>\n    <tr style=\"text-align: right;\">\n      <th></th>\n      <th>nature</th>\n      <th>entertainment</th>\n      <th>transports</th>\n      <th>art</th>\n      <th>tourism</th>\n      <th>security</th>\n      <th>accessibility</th>\n      <th>sport</th>\n      <th>geometry</th>\n      <th>predicted_tourism</th>\n    </tr>\n    <tr>\n      <th>field_1</th>\n      <th></th>\n      <th></th>\n      <th></th>\n      <th></th>\n      <th></th>\n      <th></th>\n      <th></th>\n      <th></th>\n      <th></th>\n      <th></th>\n    </tr>\n  </thead>\n  <tbody>\n    <tr>\n      <th>R1C2</th>\n      <td>-0.606620</td>\n      <td>0.010512</td>\n      <td>-0.540009</td>\n      <td>-0.285658</td>\n      <td>0.881631</td>\n      <td>-0.116401</td>\n      <td>1.107100</td>\n      <td>-0.013842</td>\n      <td>POLYGON ((4.130889815608598 52.00500001293753,...</td>\n      <td>0.319507</td>\n    </tr>\n    <tr>\n      <th>R1C3</th>\n      <td>-0.538415</td>\n      <td>-0.161107</td>\n      <td>-0.065515</td>\n      <td>-0.285658</td>\n      <td>0.518320</td>\n      <td>-0.116401</td>\n      <td>0.822705</td>\n      <td>-0.013842</td>\n      <td>POLYGON ((4.137769758040735 52.00500001293753,...</td>\n      <td>0.575121</td>\n    </tr>\n    <tr>\n      <th>R1C4</th>\n      <td>-0.424742</td>\n      <td>-0.246917</td>\n      <td>-0.212772</td>\n      <td>-0.285658</td>\n      <td>0.155009</td>\n      <td>-0.116401</td>\n      <td>-0.030481</td>\n      <td>-0.013842</td>\n      <td>POLYGON ((4.144649700472871 52.00500001293753,...</td>\n      <td>0.228147</td>\n    </tr>\n    <tr>\n      <th>R1C5</th>\n      <td>-0.492946</td>\n      <td>-0.075298</td>\n      <td>-0.294581</td>\n      <td>-0.285658</td>\n      <td>-0.208302</td>\n      <td>-0.116401</td>\n      <td>-0.314876</td>\n      <td>-0.013842</td>\n      <td>POLYGON ((4.1515296429050075 52.00500001293753...</td>\n      <td>0.299597</td>\n    </tr>\n    <tr>\n      <th>R1C6</th>\n      <td>-0.265598</td>\n      <td>0.439560</td>\n      <td>1.210711</td>\n      <td>0.505538</td>\n      <td>-0.208302</td>\n      <td>0.867638</td>\n      <td>-0.314876</td>\n      <td>-0.013842</td>\n      <td>POLYGON ((4.158409585337144 52.00500001293753,...</td>\n      <td>2.058907</td>\n    </tr>\n    <tr>\n      <th>...</th>\n      <td>...</td>\n      <td>...</td>\n      <td>...</td>\n      <td>...</td>\n      <td>...</td>\n      <td>...</td>\n      <td>...</td>\n      <td>...</td>\n      <td>...</td>\n      <td>...</td>\n    </tr>\n    <tr>\n      <th>R200C93</th>\n      <td>-0.606620</td>\n      <td>-0.246917</td>\n      <td>-0.572733</td>\n      <td>-0.285658</td>\n      <td>-0.208302</td>\n      <td>-0.116401</td>\n      <td>-0.314876</td>\n      <td>-0.013842</td>\n      <td>POLYGON ((4.756964576933012 52.999974451463515...</td>\n      <td>0.060000</td>\n    </tr>\n    <tr>\n      <th>R200C94</th>\n      <td>-0.606620</td>\n      <td>-0.246917</td>\n      <td>-0.540009</td>\n      <td>-0.285658</td>\n      <td>-0.208302</td>\n      <td>-0.116401</td>\n      <td>-0.314876</td>\n      <td>-0.013842</td>\n      <td>POLYGON ((4.763844519365148 52.999974451463515...</td>\n      <td>0.080000</td>\n    </tr>\n    <tr>\n      <th>R200C95</th>\n      <td>-0.561150</td>\n      <td>-0.161107</td>\n      <td>-0.589095</td>\n      <td>-0.285658</td>\n      <td>-0.208302</td>\n      <td>-0.116401</td>\n      <td>-0.314876</td>\n      <td>-0.013842</td>\n      <td>POLYGON ((4.770724461797284 52.999974451463515...</td>\n      <td>0.020000</td>\n    </tr>\n    <tr>\n      <th>R200C110</th>\n      <td>-0.606620</td>\n      <td>-0.246917</td>\n      <td>-0.621818</td>\n      <td>-0.285658</td>\n      <td>-0.208302</td>\n      <td>-0.116401</td>\n      <td>-0.314876</td>\n      <td>-0.013842</td>\n      <td>POLYGON ((4.8739235982793305 52.99997445146351...</td>\n      <td>0.000000</td>\n    </tr>\n    <tr>\n      <th>R200C152</th>\n      <td>-0.629354</td>\n      <td>-0.246917</td>\n      <td>-0.605456</td>\n      <td>-0.285658</td>\n      <td>-0.208302</td>\n      <td>-0.116401</td>\n      <td>-0.314876</td>\n      <td>-0.013842</td>\n      <td>POLYGON ((5.16288118042906 52.999974451463515,...</td>\n      <td>0.000000</td>\n    </tr>\n  </tbody>\n</table>\n<p>20881 rows × 10 columns</p>\n</div>"
     },
     "execution_count": 9,
     "metadata": {},
     "output_type": "execute_result"
    }
   ],
   "source": [
    "full_df = pd.read_csv('../030-training_models/7.final_predictions.csv')\n",
    "full_df.set_index('field_1', inplace = True)\n",
    "full_df"
   ],
   "metadata": {
    "collapsed": false,
    "pycharm": {
     "name": "#%%\n"
    }
   }
  },
  {
   "cell_type": "code",
   "execution_count": 10,
   "outputs": [
    {
     "data": {
      "text/plain": "          predicted_tourism                                           geometry\nfield_1                                                                       \nR1C2               0.319507  POLYGON ((4.130889815608598 52.00500001293753,...\nR1C3               0.575121  POLYGON ((4.137769758040735 52.00500001293753,...\nR1C4               0.228147  POLYGON ((4.144649700472871 52.00500001293753,...\nR1C5               0.299597  POLYGON ((4.1515296429050075 52.00500001293753...\nR1C6               2.058907  POLYGON ((4.158409585337144 52.00500001293753,...\n...                     ...                                                ...\nR200C93            0.060000  POLYGON ((4.756964576933012 52.999974451463515...\nR200C94            0.080000  POLYGON ((4.763844519365148 52.999974451463515...\nR200C95            0.020000  POLYGON ((4.770724461797284 52.999974451463515...\nR200C110           0.000000  POLYGON ((4.8739235982793305 52.99997445146351...\nR200C152           0.000000  POLYGON ((5.16288118042906 52.999974451463515,...\n\n[20881 rows x 2 columns]",
      "text/html": "<div>\n<style scoped>\n    .dataframe tbody tr th:only-of-type {\n        vertical-align: middle;\n    }\n\n    .dataframe tbody tr th {\n        vertical-align: top;\n    }\n\n    .dataframe thead th {\n        text-align: right;\n    }\n</style>\n<table border=\"1\" class=\"dataframe\">\n  <thead>\n    <tr style=\"text-align: right;\">\n      <th></th>\n      <th>predicted_tourism</th>\n      <th>geometry</th>\n    </tr>\n    <tr>\n      <th>field_1</th>\n      <th></th>\n      <th></th>\n    </tr>\n  </thead>\n  <tbody>\n    <tr>\n      <th>R1C2</th>\n      <td>0.319507</td>\n      <td>POLYGON ((4.130889815608598 52.00500001293753,...</td>\n    </tr>\n    <tr>\n      <th>R1C3</th>\n      <td>0.575121</td>\n      <td>POLYGON ((4.137769758040735 52.00500001293753,...</td>\n    </tr>\n    <tr>\n      <th>R1C4</th>\n      <td>0.228147</td>\n      <td>POLYGON ((4.144649700472871 52.00500001293753,...</td>\n    </tr>\n    <tr>\n      <th>R1C5</th>\n      <td>0.299597</td>\n      <td>POLYGON ((4.1515296429050075 52.00500001293753...</td>\n    </tr>\n    <tr>\n      <th>R1C6</th>\n      <td>2.058907</td>\n      <td>POLYGON ((4.158409585337144 52.00500001293753,...</td>\n    </tr>\n    <tr>\n      <th>...</th>\n      <td>...</td>\n      <td>...</td>\n    </tr>\n    <tr>\n      <th>R200C93</th>\n      <td>0.060000</td>\n      <td>POLYGON ((4.756964576933012 52.999974451463515...</td>\n    </tr>\n    <tr>\n      <th>R200C94</th>\n      <td>0.080000</td>\n      <td>POLYGON ((4.763844519365148 52.999974451463515...</td>\n    </tr>\n    <tr>\n      <th>R200C95</th>\n      <td>0.020000</td>\n      <td>POLYGON ((4.770724461797284 52.999974451463515...</td>\n    </tr>\n    <tr>\n      <th>R200C110</th>\n      <td>0.000000</td>\n      <td>POLYGON ((4.8739235982793305 52.99997445146351...</td>\n    </tr>\n    <tr>\n      <th>R200C152</th>\n      <td>0.000000</td>\n      <td>POLYGON ((5.16288118042906 52.999974451463515,...</td>\n    </tr>\n  </tbody>\n</table>\n<p>20881 rows × 2 columns</p>\n</div>"
     },
     "execution_count": 10,
     "metadata": {},
     "output_type": "execute_result"
    }
   ],
   "source": [
    "prediction_df = pd.read_csv('../030-training_models/7.final_predictions.csv')\n",
    "prediction_df.set_index('field_1', inplace = True)\n",
    "prediction_df = prediction_df[['predicted_tourism', 'geometry']]\n",
    "prediction_df"
   ],
   "metadata": {
    "collapsed": false,
    "pycharm": {
     "name": "#%%\n"
    }
   }
  },
  {
   "cell_type": "code",
   "execution_count": 11,
   "outputs": [
    {
     "data": {
      "text/plain": "              lat_min    lat_max   lon_min   lon_max\nUnnamed: 0                                          \nR1C2        52.000000  52.005000  4.124010  4.130890\nR1C3        52.000000  52.005000  4.130890  4.137770\nR1C4        52.000000  52.005000  4.137770  4.144650\nR1C5        52.000000  52.005000  4.144650  4.151530\nR1C6        52.000000  52.005000  4.151530  4.158410\n...               ...        ...       ...       ...\nR200C93     52.994975  52.999974  4.750085  4.756965\nR200C94     52.994975  52.999974  4.756965  4.763845\nR200C95     52.994975  52.999974  4.763845  4.770724\nR200C110    52.994975  52.999974  4.867044  4.873924\nR200C152    52.994975  52.999974  5.156001  5.162881\n\n[20881 rows x 4 columns]",
      "text/html": "<div>\n<style scoped>\n    .dataframe tbody tr th:only-of-type {\n        vertical-align: middle;\n    }\n\n    .dataframe tbody tr th {\n        vertical-align: top;\n    }\n\n    .dataframe thead th {\n        text-align: right;\n    }\n</style>\n<table border=\"1\" class=\"dataframe\">\n  <thead>\n    <tr style=\"text-align: right;\">\n      <th></th>\n      <th>lat_min</th>\n      <th>lat_max</th>\n      <th>lon_min</th>\n      <th>lon_max</th>\n    </tr>\n    <tr>\n      <th>Unnamed: 0</th>\n      <th></th>\n      <th></th>\n      <th></th>\n      <th></th>\n    </tr>\n  </thead>\n  <tbody>\n    <tr>\n      <th>R1C2</th>\n      <td>52.000000</td>\n      <td>52.005000</td>\n      <td>4.124010</td>\n      <td>4.130890</td>\n    </tr>\n    <tr>\n      <th>R1C3</th>\n      <td>52.000000</td>\n      <td>52.005000</td>\n      <td>4.130890</td>\n      <td>4.137770</td>\n    </tr>\n    <tr>\n      <th>R1C4</th>\n      <td>52.000000</td>\n      <td>52.005000</td>\n      <td>4.137770</td>\n      <td>4.144650</td>\n    </tr>\n    <tr>\n      <th>R1C5</th>\n      <td>52.000000</td>\n      <td>52.005000</td>\n      <td>4.144650</td>\n      <td>4.151530</td>\n    </tr>\n    <tr>\n      <th>R1C6</th>\n      <td>52.000000</td>\n      <td>52.005000</td>\n      <td>4.151530</td>\n      <td>4.158410</td>\n    </tr>\n    <tr>\n      <th>...</th>\n      <td>...</td>\n      <td>...</td>\n      <td>...</td>\n      <td>...</td>\n    </tr>\n    <tr>\n      <th>R200C93</th>\n      <td>52.994975</td>\n      <td>52.999974</td>\n      <td>4.750085</td>\n      <td>4.756965</td>\n    </tr>\n    <tr>\n      <th>R200C94</th>\n      <td>52.994975</td>\n      <td>52.999974</td>\n      <td>4.756965</td>\n      <td>4.763845</td>\n    </tr>\n    <tr>\n      <th>R200C95</th>\n      <td>52.994975</td>\n      <td>52.999974</td>\n      <td>4.763845</td>\n      <td>4.770724</td>\n    </tr>\n    <tr>\n      <th>R200C110</th>\n      <td>52.994975</td>\n      <td>52.999974</td>\n      <td>4.867044</td>\n      <td>4.873924</td>\n    </tr>\n    <tr>\n      <th>R200C152</th>\n      <td>52.994975</td>\n      <td>52.999974</td>\n      <td>5.156001</td>\n      <td>5.162881</td>\n    </tr>\n  </tbody>\n</table>\n<p>20881 rows × 4 columns</p>\n</div>"
     },
     "execution_count": 11,
     "metadata": {},
     "output_type": "execute_result"
    }
   ],
   "source": [
    "gdf = pd.read_csv('../030-training_models/1.filtered_df.csv')\n",
    "gdf.set_index('Unnamed: 0', inplace = True)\n",
    "gdf = gdf[['lat_min', 'lat_max', 'lon_min', 'lon_max']]\n",
    "gdf"
   ],
   "metadata": {
    "collapsed": false,
    "pycharm": {
     "name": "#%%\n"
    }
   }
  },
  {
   "cell_type": "code",
   "execution_count": 12,
   "outputs": [
    {
     "data": {
      "text/plain": "          predicted_tourism  \\\nR1C2               0.319507   \nR1C3               0.575121   \nR1C4               0.228147   \nR1C5               0.299597   \nR1C6               2.058907   \n...                     ...   \nR200C93            0.060000   \nR200C94            0.080000   \nR200C95            0.020000   \nR200C110           0.000000   \nR200C152           0.000000   \n\n                                                   geometry    lat_min  \\\nR1C2      POLYGON ((4.130889815608598 52.00500001293753,...  52.000000   \nR1C3      POLYGON ((4.137769758040735 52.00500001293753,...  52.000000   \nR1C4      POLYGON ((4.144649700472871 52.00500001293753,...  52.000000   \nR1C5      POLYGON ((4.1515296429050075 52.00500001293753...  52.000000   \nR1C6      POLYGON ((4.158409585337144 52.00500001293753,...  52.000000   \n...                                                     ...        ...   \nR200C93   POLYGON ((4.756964576933012 52.999974451463515...  52.994975   \nR200C94   POLYGON ((4.763844519365148 52.999974451463515...  52.994975   \nR200C95   POLYGON ((4.770724461797284 52.999974451463515...  52.994975   \nR200C110  POLYGON ((4.8739235982793305 52.99997445146351...  52.994975   \nR200C152  POLYGON ((5.16288118042906 52.999974451463515,...  52.994975   \n\n            lat_max   lon_min   lon_max  \nR1C2      52.005000  4.124010  4.130890  \nR1C3      52.005000  4.130890  4.137770  \nR1C4      52.005000  4.137770  4.144650  \nR1C5      52.005000  4.144650  4.151530  \nR1C6      52.005000  4.151530  4.158410  \n...             ...       ...       ...  \nR200C93   52.999974  4.750085  4.756965  \nR200C94   52.999974  4.756965  4.763845  \nR200C95   52.999974  4.763845  4.770724  \nR200C110  52.999974  4.867044  4.873924  \nR200C152  52.999974  5.156001  5.162881  \n\n[20881 rows x 6 columns]",
      "text/html": "<div>\n<style scoped>\n    .dataframe tbody tr th:only-of-type {\n        vertical-align: middle;\n    }\n\n    .dataframe tbody tr th {\n        vertical-align: top;\n    }\n\n    .dataframe thead th {\n        text-align: right;\n    }\n</style>\n<table border=\"1\" class=\"dataframe\">\n  <thead>\n    <tr style=\"text-align: right;\">\n      <th></th>\n      <th>predicted_tourism</th>\n      <th>geometry</th>\n      <th>lat_min</th>\n      <th>lat_max</th>\n      <th>lon_min</th>\n      <th>lon_max</th>\n    </tr>\n  </thead>\n  <tbody>\n    <tr>\n      <th>R1C2</th>\n      <td>0.319507</td>\n      <td>POLYGON ((4.130889815608598 52.00500001293753,...</td>\n      <td>52.000000</td>\n      <td>52.005000</td>\n      <td>4.124010</td>\n      <td>4.130890</td>\n    </tr>\n    <tr>\n      <th>R1C3</th>\n      <td>0.575121</td>\n      <td>POLYGON ((4.137769758040735 52.00500001293753,...</td>\n      <td>52.000000</td>\n      <td>52.005000</td>\n      <td>4.130890</td>\n      <td>4.137770</td>\n    </tr>\n    <tr>\n      <th>R1C4</th>\n      <td>0.228147</td>\n      <td>POLYGON ((4.144649700472871 52.00500001293753,...</td>\n      <td>52.000000</td>\n      <td>52.005000</td>\n      <td>4.137770</td>\n      <td>4.144650</td>\n    </tr>\n    <tr>\n      <th>R1C5</th>\n      <td>0.299597</td>\n      <td>POLYGON ((4.1515296429050075 52.00500001293753...</td>\n      <td>52.000000</td>\n      <td>52.005000</td>\n      <td>4.144650</td>\n      <td>4.151530</td>\n    </tr>\n    <tr>\n      <th>R1C6</th>\n      <td>2.058907</td>\n      <td>POLYGON ((4.158409585337144 52.00500001293753,...</td>\n      <td>52.000000</td>\n      <td>52.005000</td>\n      <td>4.151530</td>\n      <td>4.158410</td>\n    </tr>\n    <tr>\n      <th>...</th>\n      <td>...</td>\n      <td>...</td>\n      <td>...</td>\n      <td>...</td>\n      <td>...</td>\n      <td>...</td>\n    </tr>\n    <tr>\n      <th>R200C93</th>\n      <td>0.060000</td>\n      <td>POLYGON ((4.756964576933012 52.999974451463515...</td>\n      <td>52.994975</td>\n      <td>52.999974</td>\n      <td>4.750085</td>\n      <td>4.756965</td>\n    </tr>\n    <tr>\n      <th>R200C94</th>\n      <td>0.080000</td>\n      <td>POLYGON ((4.763844519365148 52.999974451463515...</td>\n      <td>52.994975</td>\n      <td>52.999974</td>\n      <td>4.756965</td>\n      <td>4.763845</td>\n    </tr>\n    <tr>\n      <th>R200C95</th>\n      <td>0.020000</td>\n      <td>POLYGON ((4.770724461797284 52.999974451463515...</td>\n      <td>52.994975</td>\n      <td>52.999974</td>\n      <td>4.763845</td>\n      <td>4.770724</td>\n    </tr>\n    <tr>\n      <th>R200C110</th>\n      <td>0.000000</td>\n      <td>POLYGON ((4.8739235982793305 52.99997445146351...</td>\n      <td>52.994975</td>\n      <td>52.999974</td>\n      <td>4.867044</td>\n      <td>4.873924</td>\n    </tr>\n    <tr>\n      <th>R200C152</th>\n      <td>0.000000</td>\n      <td>POLYGON ((5.16288118042906 52.999974451463515,...</td>\n      <td>52.994975</td>\n      <td>52.999974</td>\n      <td>5.156001</td>\n      <td>5.162881</td>\n    </tr>\n  </tbody>\n</table>\n<p>20881 rows × 6 columns</p>\n</div>"
     },
     "execution_count": 12,
     "metadata": {},
     "output_type": "execute_result"
    }
   ],
   "source": [
    "df = pd.concat([prediction_df, gdf], axis = 1)\n",
    "df"
   ],
   "metadata": {
    "collapsed": false,
    "pycharm": {
     "name": "#%%\n"
    }
   }
  },
  {
   "cell_type": "code",
   "execution_count": 13,
   "outputs": [
    {
     "data": {
      "text/plain": "         predicted_tourism                                           geometry  \\\nR1C6              2.058907  POLYGON ((4.158409585337144 52.00500001293753,...   \nR1C7              6.593462  POLYGON ((4.16528952776928 52.00500001293753, ...   \nR1C8              1.826922  POLYGON ((4.172169470201417 52.00500001293753,...   \nR1C9              1.384950  POLYGON ((4.179049412633553 52.00500001293753,...   \nR1C14             2.049342  POLYGON ((4.213449124794235 52.00500001293753,...   \n...                    ...                                                ...   \nR193C95           5.970000  POLYGON ((4.770724461797284 52.96497535061084,...   \nR193C96           3.670000  POLYGON ((4.777604404229421 52.96497535061084,...   \nR193C97           2.530000  POLYGON ((4.784484346661557 52.96497535061084,...   \nR194C94           5.710000  POLYGON ((4.763844519365148 52.969975222161224...   \nR194C95           2.550000  POLYGON ((4.770724461797284 52.969975222161224...   \n\n           lat_min    lat_max   lon_min   lon_max  \nR1C6     52.000000  52.005000  4.151530  4.158410  \nR1C7     52.000000  52.005000  4.158410  4.165290  \nR1C8     52.000000  52.005000  4.165290  4.172169  \nR1C9     52.000000  52.005000  4.172169  4.179049  \nR1C14    52.000000  52.005000  4.206569  4.213449  \n...            ...        ...       ...       ...  \nR193C95  52.959975  52.964975  4.763845  4.770724  \nR193C96  52.959975  52.964975  4.770724  4.777604  \nR193C97  52.959975  52.964975  4.777604  4.784484  \nR194C94  52.964975  52.969975  4.756965  4.763845  \nR194C95  52.964975  52.969975  4.763845  4.770724  \n\n[3132 rows x 6 columns]",
      "text/html": "<div>\n<style scoped>\n    .dataframe tbody tr th:only-of-type {\n        vertical-align: middle;\n    }\n\n    .dataframe tbody tr th {\n        vertical-align: top;\n    }\n\n    .dataframe thead th {\n        text-align: right;\n    }\n</style>\n<table border=\"1\" class=\"dataframe\">\n  <thead>\n    <tr style=\"text-align: right;\">\n      <th></th>\n      <th>predicted_tourism</th>\n      <th>geometry</th>\n      <th>lat_min</th>\n      <th>lat_max</th>\n      <th>lon_min</th>\n      <th>lon_max</th>\n    </tr>\n  </thead>\n  <tbody>\n    <tr>\n      <th>R1C6</th>\n      <td>2.058907</td>\n      <td>POLYGON ((4.158409585337144 52.00500001293753,...</td>\n      <td>52.000000</td>\n      <td>52.005000</td>\n      <td>4.151530</td>\n      <td>4.158410</td>\n    </tr>\n    <tr>\n      <th>R1C7</th>\n      <td>6.593462</td>\n      <td>POLYGON ((4.16528952776928 52.00500001293753, ...</td>\n      <td>52.000000</td>\n      <td>52.005000</td>\n      <td>4.158410</td>\n      <td>4.165290</td>\n    </tr>\n    <tr>\n      <th>R1C8</th>\n      <td>1.826922</td>\n      <td>POLYGON ((4.172169470201417 52.00500001293753,...</td>\n      <td>52.000000</td>\n      <td>52.005000</td>\n      <td>4.165290</td>\n      <td>4.172169</td>\n    </tr>\n    <tr>\n      <th>R1C9</th>\n      <td>1.384950</td>\n      <td>POLYGON ((4.179049412633553 52.00500001293753,...</td>\n      <td>52.000000</td>\n      <td>52.005000</td>\n      <td>4.172169</td>\n      <td>4.179049</td>\n    </tr>\n    <tr>\n      <th>R1C14</th>\n      <td>2.049342</td>\n      <td>POLYGON ((4.213449124794235 52.00500001293753,...</td>\n      <td>52.000000</td>\n      <td>52.005000</td>\n      <td>4.206569</td>\n      <td>4.213449</td>\n    </tr>\n    <tr>\n      <th>...</th>\n      <td>...</td>\n      <td>...</td>\n      <td>...</td>\n      <td>...</td>\n      <td>...</td>\n      <td>...</td>\n    </tr>\n    <tr>\n      <th>R193C95</th>\n      <td>5.970000</td>\n      <td>POLYGON ((4.770724461797284 52.96497535061084,...</td>\n      <td>52.959975</td>\n      <td>52.964975</td>\n      <td>4.763845</td>\n      <td>4.770724</td>\n    </tr>\n    <tr>\n      <th>R193C96</th>\n      <td>3.670000</td>\n      <td>POLYGON ((4.777604404229421 52.96497535061084,...</td>\n      <td>52.959975</td>\n      <td>52.964975</td>\n      <td>4.770724</td>\n      <td>4.777604</td>\n    </tr>\n    <tr>\n      <th>R193C97</th>\n      <td>2.530000</td>\n      <td>POLYGON ((4.784484346661557 52.96497535061084,...</td>\n      <td>52.959975</td>\n      <td>52.964975</td>\n      <td>4.777604</td>\n      <td>4.784484</td>\n    </tr>\n    <tr>\n      <th>R194C94</th>\n      <td>5.710000</td>\n      <td>POLYGON ((4.763844519365148 52.969975222161224...</td>\n      <td>52.964975</td>\n      <td>52.969975</td>\n      <td>4.756965</td>\n      <td>4.763845</td>\n    </tr>\n    <tr>\n      <th>R194C95</th>\n      <td>2.550000</td>\n      <td>POLYGON ((4.770724461797284 52.969975222161224...</td>\n      <td>52.964975</td>\n      <td>52.969975</td>\n      <td>4.763845</td>\n      <td>4.770724</td>\n    </tr>\n  </tbody>\n</table>\n<p>3132 rows × 6 columns</p>\n</div>"
     },
     "execution_count": 13,
     "metadata": {},
     "output_type": "execute_result"
    }
   ],
   "source": [
    "filtered_df = df.loc[df.predicted_tourism > df.predicted_tourism.quantile(0.85)].dropna()\n",
    "filtered_df"
   ],
   "metadata": {
    "collapsed": false,
    "pycharm": {
     "name": "#%%\n"
    }
   }
  },
  {
   "cell_type": "code",
   "execution_count": 14,
   "outputs": [],
   "source": [
    "kmeans = KMeans(n_clusters= 20).fit_predict(filtered_df[['lat_min', 'lat_max', 'lon_min', 'lon_max']])"
   ],
   "metadata": {
    "collapsed": false,
    "pycharm": {
     "name": "#%%\n"
    }
   }
  },
  {
   "cell_type": "code",
   "execution_count": 15,
   "outputs": [
    {
     "data": {
      "text/plain": "                                                  geometry  cluster\nR1C6     POLYGON ((4.158409585337144 52.00500001293753,...        3\nR1C7     POLYGON ((4.16528952776928 52.00500001293753, ...        3\nR1C8     POLYGON ((4.172169470201417 52.00500001293753,...        3\nR1C9     POLYGON ((4.179049412633553 52.00500001293753,...        3\nR1C14    POLYGON ((4.213449124794235 52.00500001293753,...        3\n...                                                    ...      ...\nR193C95  POLYGON ((4.770724461797284 52.96497535061084,...        4\nR193C96  POLYGON ((4.777604404229421 52.96497535061084,...        4\nR193C97  POLYGON ((4.784484346661557 52.96497535061084,...        4\nR194C94  POLYGON ((4.763844519365148 52.969975222161224...        4\nR194C95  POLYGON ((4.770724461797284 52.969975222161224...        4\n\n[3132 rows x 2 columns]",
      "text/html": "<div>\n<style scoped>\n    .dataframe tbody tr th:only-of-type {\n        vertical-align: middle;\n    }\n\n    .dataframe tbody tr th {\n        vertical-align: top;\n    }\n\n    .dataframe thead th {\n        text-align: right;\n    }\n</style>\n<table border=\"1\" class=\"dataframe\">\n  <thead>\n    <tr style=\"text-align: right;\">\n      <th></th>\n      <th>geometry</th>\n      <th>cluster</th>\n    </tr>\n  </thead>\n  <tbody>\n    <tr>\n      <th>R1C6</th>\n      <td>POLYGON ((4.158409585337144 52.00500001293753,...</td>\n      <td>3</td>\n    </tr>\n    <tr>\n      <th>R1C7</th>\n      <td>POLYGON ((4.16528952776928 52.00500001293753, ...</td>\n      <td>3</td>\n    </tr>\n    <tr>\n      <th>R1C8</th>\n      <td>POLYGON ((4.172169470201417 52.00500001293753,...</td>\n      <td>3</td>\n    </tr>\n    <tr>\n      <th>R1C9</th>\n      <td>POLYGON ((4.179049412633553 52.00500001293753,...</td>\n      <td>3</td>\n    </tr>\n    <tr>\n      <th>R1C14</th>\n      <td>POLYGON ((4.213449124794235 52.00500001293753,...</td>\n      <td>3</td>\n    </tr>\n    <tr>\n      <th>...</th>\n      <td>...</td>\n      <td>...</td>\n    </tr>\n    <tr>\n      <th>R193C95</th>\n      <td>POLYGON ((4.770724461797284 52.96497535061084,...</td>\n      <td>4</td>\n    </tr>\n    <tr>\n      <th>R193C96</th>\n      <td>POLYGON ((4.777604404229421 52.96497535061084,...</td>\n      <td>4</td>\n    </tr>\n    <tr>\n      <th>R193C97</th>\n      <td>POLYGON ((4.784484346661557 52.96497535061084,...</td>\n      <td>4</td>\n    </tr>\n    <tr>\n      <th>R194C94</th>\n      <td>POLYGON ((4.763844519365148 52.969975222161224...</td>\n      <td>4</td>\n    </tr>\n    <tr>\n      <th>R194C95</th>\n      <td>POLYGON ((4.770724461797284 52.969975222161224...</td>\n      <td>4</td>\n    </tr>\n  </tbody>\n</table>\n<p>3132 rows × 2 columns</p>\n</div>"
     },
     "execution_count": 15,
     "metadata": {},
     "output_type": "execute_result"
    }
   ],
   "source": [
    "exporting_df = pd.concat([filtered_df['geometry'], pd.Series(kmeans + 1, index = filtered_df.index, name = 'cluster')], axis = 1)\n",
    "exporting_df"
   ],
   "metadata": {
    "collapsed": false,
    "pycharm": {
     "name": "#%%\n"
    }
   }
  },
  {
   "cell_type": "code",
   "execution_count": 16,
   "outputs": [],
   "source": [
    "exporting_df.to_csv('043.clustered_df.csv')"
   ],
   "metadata": {
    "collapsed": false,
    "pycharm": {
     "name": "#%%\n"
    }
   }
  },
  {
   "cell_type": "code",
   "execution_count": 17,
   "outputs": [
    {
     "data": {
      "text/plain": "      lat_min    lat_max   lon_min   lon_max\n1   52.374580  52.379580  4.850486  4.857366\n2   52.052721  52.057721  4.452221  4.459101\n3   52.079769  52.084769  5.075123  5.082002\n4   52.918495  52.923495  4.780917  4.787797\n5   52.413928  52.418928  4.620544  4.627424\n6   52.513043  52.518042  5.441137  5.448017\n7   52.163663  52.168662  5.378578  5.385458\n8   52.263565  52.268565  4.804141  4.811021\n9   52.631315  52.636314  4.732441  4.739321\n10  52.327621  52.332620  5.235723  5.242603\n11  52.660684  52.665684  5.059489  5.066369\n12  52.076059  52.081059  4.675614  4.682494\n13  52.242984  52.247983  5.146142  5.153022\n14  52.179619  52.184618  4.469345  4.476225\n15  52.066469  52.071469  5.206488  5.213368\n16  52.292265  52.297265  4.627864  4.634744\n17  52.109418  52.114417  4.919989  4.926869\n18  52.054853  52.059853  4.297148  4.304028\n19  52.709700  52.714700  5.198444  5.205324\n20  52.349569  52.354569  4.961215  4.968095",
      "text/html": "<div>\n<style scoped>\n    .dataframe tbody tr th:only-of-type {\n        vertical-align: middle;\n    }\n\n    .dataframe tbody tr th {\n        vertical-align: top;\n    }\n\n    .dataframe thead th {\n        text-align: right;\n    }\n</style>\n<table border=\"1\" class=\"dataframe\">\n  <thead>\n    <tr style=\"text-align: right;\">\n      <th></th>\n      <th>lat_min</th>\n      <th>lat_max</th>\n      <th>lon_min</th>\n      <th>lon_max</th>\n    </tr>\n  </thead>\n  <tbody>\n    <tr>\n      <th>1</th>\n      <td>52.374580</td>\n      <td>52.379580</td>\n      <td>4.850486</td>\n      <td>4.857366</td>\n    </tr>\n    <tr>\n      <th>2</th>\n      <td>52.052721</td>\n      <td>52.057721</td>\n      <td>4.452221</td>\n      <td>4.459101</td>\n    </tr>\n    <tr>\n      <th>3</th>\n      <td>52.079769</td>\n      <td>52.084769</td>\n      <td>5.075123</td>\n      <td>5.082002</td>\n    </tr>\n    <tr>\n      <th>4</th>\n      <td>52.918495</td>\n      <td>52.923495</td>\n      <td>4.780917</td>\n      <td>4.787797</td>\n    </tr>\n    <tr>\n      <th>5</th>\n      <td>52.413928</td>\n      <td>52.418928</td>\n      <td>4.620544</td>\n      <td>4.627424</td>\n    </tr>\n    <tr>\n      <th>6</th>\n      <td>52.513043</td>\n      <td>52.518042</td>\n      <td>5.441137</td>\n      <td>5.448017</td>\n    </tr>\n    <tr>\n      <th>7</th>\n      <td>52.163663</td>\n      <td>52.168662</td>\n      <td>5.378578</td>\n      <td>5.385458</td>\n    </tr>\n    <tr>\n      <th>8</th>\n      <td>52.263565</td>\n      <td>52.268565</td>\n      <td>4.804141</td>\n      <td>4.811021</td>\n    </tr>\n    <tr>\n      <th>9</th>\n      <td>52.631315</td>\n      <td>52.636314</td>\n      <td>4.732441</td>\n      <td>4.739321</td>\n    </tr>\n    <tr>\n      <th>10</th>\n      <td>52.327621</td>\n      <td>52.332620</td>\n      <td>5.235723</td>\n      <td>5.242603</td>\n    </tr>\n    <tr>\n      <th>11</th>\n      <td>52.660684</td>\n      <td>52.665684</td>\n      <td>5.059489</td>\n      <td>5.066369</td>\n    </tr>\n    <tr>\n      <th>12</th>\n      <td>52.076059</td>\n      <td>52.081059</td>\n      <td>4.675614</td>\n      <td>4.682494</td>\n    </tr>\n    <tr>\n      <th>13</th>\n      <td>52.242984</td>\n      <td>52.247983</td>\n      <td>5.146142</td>\n      <td>5.153022</td>\n    </tr>\n    <tr>\n      <th>14</th>\n      <td>52.179619</td>\n      <td>52.184618</td>\n      <td>4.469345</td>\n      <td>4.476225</td>\n    </tr>\n    <tr>\n      <th>15</th>\n      <td>52.066469</td>\n      <td>52.071469</td>\n      <td>5.206488</td>\n      <td>5.213368</td>\n    </tr>\n    <tr>\n      <th>16</th>\n      <td>52.292265</td>\n      <td>52.297265</td>\n      <td>4.627864</td>\n      <td>4.634744</td>\n    </tr>\n    <tr>\n      <th>17</th>\n      <td>52.109418</td>\n      <td>52.114417</td>\n      <td>4.919989</td>\n      <td>4.926869</td>\n    </tr>\n    <tr>\n      <th>18</th>\n      <td>52.054853</td>\n      <td>52.059853</td>\n      <td>4.297148</td>\n      <td>4.304028</td>\n    </tr>\n    <tr>\n      <th>19</th>\n      <td>52.709700</td>\n      <td>52.714700</td>\n      <td>5.198444</td>\n      <td>5.205324</td>\n    </tr>\n    <tr>\n      <th>20</th>\n      <td>52.349569</td>\n      <td>52.354569</td>\n      <td>4.961215</td>\n      <td>4.968095</td>\n    </tr>\n  </tbody>\n</table>\n</div>"
     },
     "execution_count": 17,
     "metadata": {},
     "output_type": "execute_result"
    }
   ],
   "source": [
    "cluster_coordinates = pd.DataFrame(KMeans(n_clusters=20).fit(filtered_df[['lat_min', 'lat_max', 'lon_min', 'lon_max']]).cluster_centers_)\n",
    "cluster_coordinates.columns = ['lat_min', 'lat_max', 'lon_min', 'lon_max']\n",
    "cluster_coordinates.index = cluster_coordinates.index + 1\n",
    "cluster_coordinates"
   ],
   "metadata": {
    "collapsed": false,
    "pycharm": {
     "name": "#%%\n"
    }
   }
  },
  {
   "cell_type": "code",
   "execution_count": 18,
   "outputs": [
    {
     "data": {
      "text/plain": "          lat       lon\n1   52.377080  4.853926\n2   52.055221  4.455661\n3   52.082269  5.078562\n4   52.920995  4.784357\n5   52.416428  4.623984\n6   52.515542  5.444577\n7   52.166163  5.382018\n8   52.266065  4.807581\n9   52.633815  4.735881\n10  52.330121  5.239163\n11  52.663184  5.062929\n12  52.078559  4.679054\n13  52.245484  5.149582\n14  52.182118  4.472785\n15  52.068969  5.209928\n16  52.294765  4.631304\n17  52.111918  4.923429\n18  52.057353  4.300588\n19  52.712200  5.201884\n20  52.352069  4.964655",
      "text/html": "<div>\n<style scoped>\n    .dataframe tbody tr th:only-of-type {\n        vertical-align: middle;\n    }\n\n    .dataframe tbody tr th {\n        vertical-align: top;\n    }\n\n    .dataframe thead th {\n        text-align: right;\n    }\n</style>\n<table border=\"1\" class=\"dataframe\">\n  <thead>\n    <tr style=\"text-align: right;\">\n      <th></th>\n      <th>lat</th>\n      <th>lon</th>\n    </tr>\n  </thead>\n  <tbody>\n    <tr>\n      <th>1</th>\n      <td>52.377080</td>\n      <td>4.853926</td>\n    </tr>\n    <tr>\n      <th>2</th>\n      <td>52.055221</td>\n      <td>4.455661</td>\n    </tr>\n    <tr>\n      <th>3</th>\n      <td>52.082269</td>\n      <td>5.078562</td>\n    </tr>\n    <tr>\n      <th>4</th>\n      <td>52.920995</td>\n      <td>4.784357</td>\n    </tr>\n    <tr>\n      <th>5</th>\n      <td>52.416428</td>\n      <td>4.623984</td>\n    </tr>\n    <tr>\n      <th>6</th>\n      <td>52.515542</td>\n      <td>5.444577</td>\n    </tr>\n    <tr>\n      <th>7</th>\n      <td>52.166163</td>\n      <td>5.382018</td>\n    </tr>\n    <tr>\n      <th>8</th>\n      <td>52.266065</td>\n      <td>4.807581</td>\n    </tr>\n    <tr>\n      <th>9</th>\n      <td>52.633815</td>\n      <td>4.735881</td>\n    </tr>\n    <tr>\n      <th>10</th>\n      <td>52.330121</td>\n      <td>5.239163</td>\n    </tr>\n    <tr>\n      <th>11</th>\n      <td>52.663184</td>\n      <td>5.062929</td>\n    </tr>\n    <tr>\n      <th>12</th>\n      <td>52.078559</td>\n      <td>4.679054</td>\n    </tr>\n    <tr>\n      <th>13</th>\n      <td>52.245484</td>\n      <td>5.149582</td>\n    </tr>\n    <tr>\n      <th>14</th>\n      <td>52.182118</td>\n      <td>4.472785</td>\n    </tr>\n    <tr>\n      <th>15</th>\n      <td>52.068969</td>\n      <td>5.209928</td>\n    </tr>\n    <tr>\n      <th>16</th>\n      <td>52.294765</td>\n      <td>4.631304</td>\n    </tr>\n    <tr>\n      <th>17</th>\n      <td>52.111918</td>\n      <td>4.923429</td>\n    </tr>\n    <tr>\n      <th>18</th>\n      <td>52.057353</td>\n      <td>4.300588</td>\n    </tr>\n    <tr>\n      <th>19</th>\n      <td>52.712200</td>\n      <td>5.201884</td>\n    </tr>\n    <tr>\n      <th>20</th>\n      <td>52.352069</td>\n      <td>4.964655</td>\n    </tr>\n  </tbody>\n</table>\n</div>"
     },
     "execution_count": 18,
     "metadata": {},
     "output_type": "execute_result"
    }
   ],
   "source": [
    "cluster_coordinates['lat'] = (cluster_coordinates['lat_min'] + cluster_coordinates['lat_max']) / 2\n",
    "cluster_coordinates['lon'] = (cluster_coordinates['lon_min'] + cluster_coordinates['lon_max']) / 2\n",
    "cluster_coordinates = cluster_coordinates[['lat', 'lon']]\n",
    "cluster_coordinates"
   ],
   "metadata": {
    "collapsed": false,
    "pycharm": {
     "name": "#%%\n"
    }
   }
  },
  {
   "cell_type": "code",
   "execution_count": 19,
   "outputs": [],
   "source": [
    "cluster_coordinates.to_csv('043.cluster_coordinates.csv')"
   ],
   "metadata": {
    "collapsed": false,
    "pycharm": {
     "name": "#%%\n"
    }
   }
  }
 ],
 "metadata": {
  "kernelspec": {
   "display_name": "Python 3",
   "language": "python",
   "name": "python3"
  },
  "language_info": {
   "codemirror_mode": {
    "name": "ipython",
    "version": 2
   },
   "file_extension": ".py",
   "mimetype": "text/x-python",
   "name": "python",
   "nbconvert_exporter": "python",
   "pygments_lexer": "ipython2",
   "version": "2.7.6"
  }
 },
 "nbformat": 4,
 "nbformat_minor": 0
}